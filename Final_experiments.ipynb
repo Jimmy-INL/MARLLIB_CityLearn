{
 "cells": [
  {
   "cell_type": "markdown",
   "metadata": {},
   "source": [
    "# Final Experiments"
   ]
  },
  {
   "cell_type": "code",
   "execution_count": 3,
   "metadata": {},
   "outputs": [],
   "source": [
    "import numpy as np\n",
    "from ray.rllib.env.multi_agent_env import MultiAgentEnv\n",
    "from gym.spaces import Dict as GymDict, Box\n",
    "from marllib import marl\n",
    "from marllib.envs.base_env import ENV_REGISTRY\n",
    "import time\n",
    "\n",
    "# importing CityLearn\n",
    "from citylearn.citylearn import CityLearnEnv\n",
    "from citylearn.wrappers import StableBaselines3Wrapper\n",
    "from citylearn.wrappers import NormalizedObservationWrapper\n",
    "from pathlib import Path\n",
    "\n",
    "from marllib.envs.base_env import ENV_REGISTRY\n",
    "from add_citylearn_env import RLlibCityLearnGym\n",
    "ENV_REGISTRY[\"CityLearnGym\"] = RLlibCityLearnGym"
   ]
  },
  {
   "cell_type": "markdown",
   "metadata": {},
   "source": [
    "MAPPO"
   ]
  },
  {
   "cell_type": "code",
   "execution_count": 4,
   "metadata": {},
   "outputs": [
    {
     "name": "stdout",
     "output_type": "stream",
     "text": [
      "+--------------+----------------+---------------------------------------------------------------------------------------------------------------------------------------------------------+----------------------------------------+-------------------------------+\n",
      "| Env_Name     | Check_Status   | Error_Log                                                                                                                                               | Config_File_Location                   | Env_File_Location             |\n",
      "+==============+================+=========================================================================================================================================================+========================================+===============================+\n",
      "| mpe          | Ready          | Null                                                                                                                                                    | envs/base_env/config/mpe.yaml          | envs/base_env/mpe.py          |\n",
      "+--------------+----------------+---------------------------------------------------------------------------------------------------------------------------------------------------------+----------------------------------------+-------------------------------+\n",
      "| mamujoco     | Error          | No module named 'mujoco_py'. (HINT: you need to install mujoco_py, and also perform the setup instructions here: https://github.com/openai/mujoco-py/.) | envs/base_env/config/mamujoco.yaml     | envs/base_env/mamujoco.py     |\n",
      "+--------------+----------------+---------------------------------------------------------------------------------------------------------------------------------------------------------+----------------------------------------+-------------------------------+\n",
      "| smac         | Error          | No module named 'smac'                                                                                                                                  | envs/base_env/config/smac.yaml         | envs/base_env/smac.py         |\n",
      "+--------------+----------------+---------------------------------------------------------------------------------------------------------------------------------------------------------+----------------------------------------+-------------------------------+\n",
      "| football     | Error          | No module named 'gfootball'                                                                                                                             | envs/base_env/config/football.yaml     | envs/base_env/football.py     |\n",
      "+--------------+----------------+---------------------------------------------------------------------------------------------------------------------------------------------------------+----------------------------------------+-------------------------------+\n",
      "| magent       | Error          | cannot import name 'adversarial_pursuit_v3' from 'pettingzoo.magent'                                                                                    | envs/base_env/config/magent.yaml       | envs/base_env/magent.py       |\n",
      "+--------------+----------------+---------------------------------------------------------------------------------------------------------------------------------------------------------+----------------------------------------+-------------------------------+\n",
      "| rware        | Error          | No module named 'rware'                                                                                                                                 | envs/base_env/config/rware.yaml        | envs/base_env/rware.py        |\n",
      "+--------------+----------------+---------------------------------------------------------------------------------------------------------------------------------------------------------+----------------------------------------+-------------------------------+\n",
      "| lbf          | Error          | No module named 'lbforaging'                                                                                                                            | envs/base_env/config/lbf.yaml          | envs/base_env/lbf.py          |\n",
      "+--------------+----------------+---------------------------------------------------------------------------------------------------------------------------------------------------------+----------------------------------------+-------------------------------+\n",
      "| pommerman    | Error          | No module named 'pommerman'                                                                                                                             | envs/base_env/config/pommerman.yaml    | envs/base_env/pommerman.py    |\n",
      "+--------------+----------------+---------------------------------------------------------------------------------------------------------------------------------------------------------+----------------------------------------+-------------------------------+\n",
      "| hanabi       | Ready          | Null                                                                                                                                                    | envs/base_env/config/hanabi.yaml       | envs/base_env/hanabi.py       |\n",
      "+--------------+----------------+---------------------------------------------------------------------------------------------------------------------------------------------------------+----------------------------------------+-------------------------------+\n",
      "| metadrive    | Error          | No module named 'metadrive'                                                                                                                             | envs/base_env/config/metadrive.yaml    | envs/base_env/metadrive.py    |\n",
      "+--------------+----------------+---------------------------------------------------------------------------------------------------------------------------------------------------------+----------------------------------------+-------------------------------+\n",
      "| mate         | Error          | No module named 'mate'                                                                                                                                  | envs/base_env/config/mate.yaml         | envs/base_env/mate.py         |\n",
      "+--------------+----------------+---------------------------------------------------------------------------------------------------------------------------------------------------------+----------------------------------------+-------------------------------+\n",
      "| gobigger     | Error          | No module named 'gobigger'                                                                                                                              | envs/base_env/config/gobigger.yaml     | envs/base_env/gobigger.py     |\n",
      "+--------------+----------------+---------------------------------------------------------------------------------------------------------------------------------------------------------+----------------------------------------+-------------------------------+\n",
      "| CityLearnGym | Ready          | Null                                                                                                                                                    | envs/base_env/config/CityLearnGym.yaml | envs/base_env/CityLearnGym.py |\n",
      "+--------------+----------------+---------------------------------------------------------------------------------------------------------------------------------------------------------+----------------------------------------+-------------------------------+\n"
     ]
    },
    {
     "name": "stderr",
     "output_type": "stream",
     "text": [
      "2023-10-25 06:21:39,207\tWARNING worker.py:496 -- `ray.get_gpu_ids()` will always return the empty list when called from the driver. This is because Ray does not manage GPU allocations to the driver process.\n",
      "2023-10-25 06:21:39,254\tWARNING deprecation.py:38 -- DeprecationWarning: `simple_optimizer` has been deprecated. This will raise an error in the future!\n",
      "2023-10-25 06:21:39,254\tWARNING ppo.py:143 -- `train_batch_size` (10) cannot be achieved with your other settings (num_workers=2 num_envs_per_worker=1 rollout_fragment_length=200)! Auto-adjusting `rollout_fragment_length` to 5.\n",
      "2023-10-25 06:21:39,254\tINFO ppo.py:166 -- In multi-agent mode, policies will be optimized sequentially by the multi-GPU optimizer. Consider setting simple_optimizer=True if this doesn't work for you.\n",
      "2023-10-25 06:21:39,254\tINFO trainer.py:770 -- Current log_level is WARN. For more information, set 'log_level': 'INFO' / 'DEBUG' or use the -v and -vv flags.\n"
     ]
    },
    {
     "name": "stdout",
     "output_type": "stream",
     "text": [
      ":task_name:bundle_reservation_check_func\n",
      ":actor_name:MAPPOTrainer\n",
      ":actor_name:RolloutWorker\n"
     ]
    },
    {
     "name": "stderr",
     "output_type": "stream",
     "text": [
      "2023-10-25 06:21:39,591\tWARNING deprecation.py:38 -- DeprecationWarning: `SampleBatch['is_training']` has been deprecated. Use `SampleBatch.is_training` instead. This will raise an error in the future!\n"
     ]
    },
    {
     "name": "stdout",
     "output_type": "stream",
     "text": [
      ":actor_name:RolloutWorker\n"
     ]
    },
    {
     "name": "stderr",
     "output_type": "stream",
     "text": [
      "2023-10-25 06:21:39,902\tWARNING rollout_worker.py:578 -- You are running ray with `local_mode=True`, but have configured 1 GPUs to be used! In local mode, Policies are placed on the CPU and the `num_gpus` setting is ignored.\n",
      "2023-10-25 06:21:39,910\tWARNING trainer_template.py:185 -- `execution_plan` functions should accept `trainer`, `workers`, and `config` as args!\n",
      "2023-10-25 06:21:39,910\tWARNING deprecation.py:38 -- DeprecationWarning: `simple_optimizer` has been deprecated. This will raise an error in the future!\n",
      "2023-10-25 06:21:40,203\tWARNING rollout_worker.py:578 -- You are running ray with `local_mode=True`, but have configured 1 GPUs to be used! In local mode, Policies are placed on the CPU and the `num_gpus` setting is ignored.\n",
      "2023-10-25 06:21:40,209\tWARNING util.py:57 -- Install gputil for GPU system monitoring.\n"
     ]
    },
    {
     "name": "stdout",
     "output_type": "stream",
     "text": [
      ":actor_name:MAPPOTrainer\n",
      "== Status ==\n",
      "Current time: 2023-10-25 06:21:40 (running for 00:00:01.16)\n",
      "Memory usage on this node: 8.3/31.2 GiB\n",
      "Using FIFO scheduling algorithm.\n",
      "Resources requested: 3.0/24 CPUs, 1.0/1 GPUs, 0.0/14.73 GiB heap, 0.0/7.36 GiB objects (0.0/1.0 accelerator_type:G)\n",
      "Result logdir: /home/allenwu/Desktop/work/MARLlib-1.0.3/exp_results/mappo_mlp_CityLearn\n",
      "Number of trials: 1/1 (1 RUNNING)\n",
      "+-------------------------------------------------+----------+---------------------+\n",
      "| Trial name                                      | status   | loc                 |\n",
      "|-------------------------------------------------+----------+---------------------|\n",
      "| MAPPOTrainer_CityLearnGym_CityLearn_6e000_00000 | RUNNING  | 192.168.50.163:9973 |\n",
      "+-------------------------------------------------+----------+---------------------+\n",
      "\n",
      "\n"
     ]
    },
    {
     "name": "stderr",
     "output_type": "stream",
     "text": [
      "2023-10-25 06:24:01,783\tWARNING ray_trial_executor.py:768 -- Over the last 60 seconds, the Tune event loop has been backlogged processing new results. Consider increasing your period of result reporting to improve performance.\n"
     ]
    },
    {
     "name": "stdout",
     "output_type": "stream",
     "text": [
      "== Status ==\n",
      "Current time: 2023-10-25 06:24:01 (running for 00:02:22.68)\n",
      "Memory usage on this node: 8.9/31.2 GiB\n",
      "Using FIFO scheduling algorithm.\n",
      "Resources requested: 3.0/24 CPUs, 1.0/1 GPUs, 0.0/14.73 GiB heap, 0.0/7.36 GiB objects (0.0/1.0 accelerator_type:G)\n",
      "Result logdir: /home/allenwu/Desktop/work/MARLlib-1.0.3/exp_results/mappo_mlp_CityLearn\n",
      "Number of trials: 1/1 (1 RUNNING)\n",
      "+-------------------------------------------------+----------+---------------------+--------+------------------+------+----------+----------------------+----------------------+--------------------+\n",
      "| Trial name                                      | status   | loc                 |   iter |   total time (s) |   ts |   reward |   episode_reward_max |   episode_reward_min |   episode_len_mean |\n",
      "|-------------------------------------------------+----------+---------------------+--------+------------------+------+----------+----------------------+----------------------+--------------------|\n",
      "| MAPPOTrainer_CityLearnGym_CityLearn_6e000_00000 | RUNNING  | 192.168.50.163:9973 |     49 |          1.97237 |  490 |      nan |                  nan |                  nan |                nan |\n",
      "+-------------------------------------------------+----------+---------------------+--------+------------------+------+----------+----------------------+----------------------+--------------------+\n",
      "\n",
      "\n"
     ]
    }
   ],
   "source": [
    "env_1 = marl.make_env(environment_name=\"CityLearnGym\", map_name=\"CityLearn\")\n",
    "\n",
    "# write MASAC\n",
    "mappo = marl.algos.mappo(hyperparam_source=\"common\")\n",
    "model_1 = marl.build_model(env_1, mappo, {\"core_arch\": \"mlp\", \"encode_layer\": \"128-128\"})\n",
    "\n",
    "mappo.fit(env_1, model_1, stop={'timesteps_total': 8759}, local_mode=True, num_gpus=1,\n",
    "            num_workers=2, share_policy='all', checkpoint_freq=500,\n",
    "            checkpoint_end=True)\n"
   ]
  },
  {
   "cell_type": "markdown",
   "metadata": {},
   "source": [
    "HAPPO"
   ]
  },
  {
   "cell_type": "code",
   "execution_count": 4,
   "metadata": {},
   "outputs": [
    {
     "name": "stdout",
     "output_type": "stream",
     "text": [
      "+--------------+----------------+---------------------------------------------------------------------------------------------------------------------------------------------------------+----------------------------------------+-------------------------------+\n",
      "| Env_Name     | Check_Status   | Error_Log                                                                                                                                               | Config_File_Location                   | Env_File_Location             |\n",
      "+==============+================+=========================================================================================================================================================+========================================+===============================+\n",
      "| mpe          | Ready          | Null                                                                                                                                                    | envs/base_env/config/mpe.yaml          | envs/base_env/mpe.py          |\n",
      "+--------------+----------------+---------------------------------------------------------------------------------------------------------------------------------------------------------+----------------------------------------+-------------------------------+\n",
      "| mamujoco     | Error          | No module named 'mujoco_py'. (HINT: you need to install mujoco_py, and also perform the setup instructions here: https://github.com/openai/mujoco-py/.) | envs/base_env/config/mamujoco.yaml     | envs/base_env/mamujoco.py     |\n",
      "+--------------+----------------+---------------------------------------------------------------------------------------------------------------------------------------------------------+----------------------------------------+-------------------------------+\n",
      "| smac         | Error          | No module named 'smac'                                                                                                                                  | envs/base_env/config/smac.yaml         | envs/base_env/smac.py         |\n",
      "+--------------+----------------+---------------------------------------------------------------------------------------------------------------------------------------------------------+----------------------------------------+-------------------------------+\n",
      "| football     | Error          | No module named 'gfootball'                                                                                                                             | envs/base_env/config/football.yaml     | envs/base_env/football.py     |\n",
      "+--------------+----------------+---------------------------------------------------------------------------------------------------------------------------------------------------------+----------------------------------------+-------------------------------+\n",
      "| magent       | Error          | cannot import name 'adversarial_pursuit_v3' from 'pettingzoo.magent'                                                                                    | envs/base_env/config/magent.yaml       | envs/base_env/magent.py       |\n",
      "+--------------+----------------+---------------------------------------------------------------------------------------------------------------------------------------------------------+----------------------------------------+-------------------------------+\n",
      "| rware        | Error          | No module named 'rware'                                                                                                                                 | envs/base_env/config/rware.yaml        | envs/base_env/rware.py        |\n",
      "+--------------+----------------+---------------------------------------------------------------------------------------------------------------------------------------------------------+----------------------------------------+-------------------------------+\n",
      "| lbf          | Error          | No module named 'lbforaging'                                                                                                                            | envs/base_env/config/lbf.yaml          | envs/base_env/lbf.py          |\n",
      "+--------------+----------------+---------------------------------------------------------------------------------------------------------------------------------------------------------+----------------------------------------+-------------------------------+\n",
      "| pommerman    | Error          | No module named 'pommerman'                                                                                                                             | envs/base_env/config/pommerman.yaml    | envs/base_env/pommerman.py    |\n",
      "+--------------+----------------+---------------------------------------------------------------------------------------------------------------------------------------------------------+----------------------------------------+-------------------------------+\n",
      "| hanabi       | Ready          | Null                                                                                                                                                    | envs/base_env/config/hanabi.yaml       | envs/base_env/hanabi.py       |\n",
      "+--------------+----------------+---------------------------------------------------------------------------------------------------------------------------------------------------------+----------------------------------------+-------------------------------+\n",
      "| metadrive    | Error          | No module named 'metadrive'                                                                                                                             | envs/base_env/config/metadrive.yaml    | envs/base_env/metadrive.py    |\n",
      "+--------------+----------------+---------------------------------------------------------------------------------------------------------------------------------------------------------+----------------------------------------+-------------------------------+\n",
      "| mate         | Error          | No module named 'mate'                                                                                                                                  | envs/base_env/config/mate.yaml         | envs/base_env/mate.py         |\n",
      "+--------------+----------------+---------------------------------------------------------------------------------------------------------------------------------------------------------+----------------------------------------+-------------------------------+\n",
      "| gobigger     | Error          | No module named 'gobigger'                                                                                                                              | envs/base_env/config/gobigger.yaml     | envs/base_env/gobigger.py     |\n",
      "+--------------+----------------+---------------------------------------------------------------------------------------------------------------------------------------------------------+----------------------------------------+-------------------------------+\n",
      "| CityLearnGym | Ready          | Null                                                                                                                                                    | envs/base_env/config/CityLearnGym.yaml | envs/base_env/CityLearnGym.py |\n",
      "+--------------+----------------+---------------------------------------------------------------------------------------------------------------------------------------------------------+----------------------------------------+-------------------------------+\n"
     ]
    },
    {
     "name": "stderr",
     "output_type": "stream",
     "text": [
      "2023-09-21 01:43:08,760\tWARNING sample.py:401 -- DeprecationWarning: wrapping <function run_cc.<locals>.<lambda> at 0x7ff64cc8ac10> with tune.function() is no longer needed\n",
      "2023-09-21 01:43:08,761\tWARNING sample.py:401 -- DeprecationWarning: wrapping <function run_cc.<locals>.<lambda> at 0x7ff64cc8a8b0> with tune.function() is no longer needed\n",
      "2023-09-21 01:43:08,898\tWARNING deprecation.py:38 -- DeprecationWarning: `simple_optimizer` has been deprecated. This will raise an error in the future!\n",
      "2023-09-21 01:43:08,899\tWARNING ppo.py:143 -- `train_batch_size` (2) cannot be achieved with your other settings (num_workers=2 num_envs_per_worker=1 rollout_fragment_length=200)! Auto-adjusting `rollout_fragment_length` to 1.\n"
     ]
    },
    {
     "name": "stdout",
     "output_type": "stream",
     "text": [
      ":task_name:bundle_reservation_check_func\n",
      ":actor_name:HAPPOTrainer\n",
      ":actor_name:RolloutWorker\n",
      ":actor_name:RolloutWorker\n"
     ]
    },
    {
     "name": "stderr",
     "output_type": "stream",
     "text": [
      "2023-09-21 01:43:09,954\tWARNING rollout_worker.py:578 -- You are running ray with `local_mode=True`, but have configured 1 GPUs to be used! In local mode, Policies are placed on the CPU and the `num_gpus` setting is ignored.\n",
      "2023-09-21 01:43:10,143\tWARNING trainer_template.py:185 -- `execution_plan` functions should accept `trainer`, `workers`, and `config` as args!\n",
      "2023-09-21 01:43:10,144\tWARNING deprecation.py:38 -- DeprecationWarning: `simple_optimizer` has been deprecated. This will raise an error in the future!\n",
      "2023-09-21 01:43:10,411\tWARNING rollout_worker.py:578 -- You are running ray with `local_mode=True`, but have configured 1 GPUs to be used! In local mode, Policies are placed on the CPU and the `num_gpus` setting is ignored.\n",
      "2023-09-21 01:43:10,423\tWARNING util.py:57 -- Install gputil for GPU system monitoring.\n"
     ]
    },
    {
     "name": "stdout",
     "output_type": "stream",
     "text": [
      ":actor_name:HAPPOTrainer\n"
     ]
    },
    {
     "name": "stderr",
     "output_type": "stream",
     "text": [
      "/home/allenwu/anaconda3/envs/marllib/lib/python3.8/site-packages/ray/rllib/utils/metrics/learner_info.py:64: RuntimeWarning: Mean of empty slice\n",
      "  lambda *s: None if s[0] is None else np.nanmean(s, axis=0),\n",
      "2023-09-21 01:43:10,838\tWARNING util.py:165 -- The `start_trial` operation took 1.964 s, which may be a performance bottleneck.\n"
     ]
    },
    {
     "name": "stdout",
     "output_type": "stream",
     "text": [
      "== Status ==\n",
      "Current time: 2023-09-21 01:43:10 (running for 00:00:02.07)\n",
      "Memory usage on this node: 6.8/31.2 GiB\n",
      "Using FIFO scheduling algorithm.\n",
      "Resources requested: 3.0/24 CPUs, 1.0/0 GPUs, 0.0/15.61 GiB heap, 0.0/7.8 GiB objects (0.0/1.0 accelerator_type:G)\n",
      "Result logdir: /home/allenwu/Desktop/work/MARLlib-1.0.3/exp_results/happo_gru_CityLearn_5e-07_0.0005_APPEND-DATA_seed-2\n",
      "Number of trials: 1/1 (1 RUNNING)\n",
      "\n",
      "\n"
     ]
    },
    {
     "name": "stderr",
     "output_type": "stream",
     "text": [
      "/home/allenwu/anaconda3/envs/marllib/lib/python3.8/site-packages/ray/rllib/utils/metrics/learner_info.py:64: RuntimeWarning: Mean of empty slice\n",
      "  lambda *s: None if s[0] is None else np.nanmean(s, axis=0),\n",
      "/home/allenwu/anaconda3/envs/marllib/lib/python3.8/site-packages/ray/rllib/utils/metrics/learner_info.py:64: RuntimeWarning: Mean of empty slice\n",
      "  lambda *s: None if s[0] is None else np.nanmean(s, axis=0),\n",
      "/home/allenwu/anaconda3/envs/marllib/lib/python3.8/site-packages/ray/rllib/utils/metrics/learner_info.py:64: RuntimeWarning: Mean of empty slice\n",
      "  lambda *s: None if s[0] is None else np.nanmean(s, axis=0),\n",
      "/home/allenwu/anaconda3/envs/marllib/lib/python3.8/site-packages/ray/rllib/utils/metrics/learner_info.py:64: RuntimeWarning: Mean of empty slice\n",
      "  lambda *s: None if s[0] is None else np.nanmean(s, axis=0),\n"
     ]
    },
    {
     "name": "stdout",
     "output_type": "stream",
     "text": [
      "== Status ==\n",
      "Current time: 2023-09-21 01:43:15 (running for 00:00:07.22)\n",
      "Memory usage on this node: 6.8/31.2 GiB\n",
      "Using FIFO scheduling algorithm.\n",
      "Resources requested: 3.0/24 CPUs, 1.0/0 GPUs, 0.0/15.61 GiB heap, 0.0/7.8 GiB objects (0.0/1.0 accelerator_type:G)\n",
      "Result logdir: /home/allenwu/Desktop/work/MARLlib-1.0.3/exp_results/happo_gru_CityLearn_5e-07_0.0005_APPEND-DATA_seed-2\n",
      "Number of trials: 1/1 (1 RUNNING)\n",
      "\n",
      "\n"
     ]
    },
    {
     "name": "stderr",
     "output_type": "stream",
     "text": [
      "/home/allenwu/anaconda3/envs/marllib/lib/python3.8/site-packages/ray/rllib/utils/metrics/learner_info.py:64: RuntimeWarning: Mean of empty slice\n",
      "  lambda *s: None if s[0] is None else np.nanmean(s, axis=0),\n",
      "/home/allenwu/anaconda3/envs/marllib/lib/python3.8/site-packages/ray/rllib/utils/metrics/learner_info.py:64: RuntimeWarning: Mean of empty slice\n",
      "  lambda *s: None if s[0] is None else np.nanmean(s, axis=0),\n",
      "/home/allenwu/anaconda3/envs/marllib/lib/python3.8/site-packages/ray/rllib/utils/metrics/learner_info.py:64: RuntimeWarning: Mean of empty slice\n",
      "  lambda *s: None if s[0] is None else np.nanmean(s, axis=0),\n"
     ]
    },
    {
     "name": "stdout",
     "output_type": "stream",
     "text": [
      "== Status ==\n",
      "Current time: 2023-09-21 01:43:21 (running for 00:00:12.36)\n",
      "Memory usage on this node: 6.9/31.2 GiB\n",
      "Using FIFO scheduling algorithm.\n",
      "Resources requested: 3.0/24 CPUs, 1.0/0 GPUs, 0.0/15.61 GiB heap, 0.0/7.8 GiB objects (0.0/1.0 accelerator_type:G)\n",
      "Result logdir: /home/allenwu/Desktop/work/MARLlib-1.0.3/exp_results/happo_gru_CityLearn_5e-07_0.0005_APPEND-DATA_seed-2\n",
      "Number of trials: 1/1 (1 RUNNING)\n",
      "\n",
      "\n"
     ]
    },
    {
     "name": "stderr",
     "output_type": "stream",
     "text": [
      "/home/allenwu/anaconda3/envs/marllib/lib/python3.8/site-packages/ray/rllib/utils/metrics/learner_info.py:64: RuntimeWarning: Mean of empty slice\n",
      "  lambda *s: None if s[0] is None else np.nanmean(s, axis=0),\n",
      "/home/allenwu/anaconda3/envs/marllib/lib/python3.8/site-packages/ray/rllib/utils/metrics/learner_info.py:64: RuntimeWarning: Mean of empty slice\n",
      "  lambda *s: None if s[0] is None else np.nanmean(s, axis=0),\n",
      "/home/allenwu/anaconda3/envs/marllib/lib/python3.8/site-packages/ray/rllib/utils/metrics/learner_info.py:64: RuntimeWarning: Mean of empty slice\n",
      "  lambda *s: None if s[0] is None else np.nanmean(s, axis=0),\n",
      "/home/allenwu/anaconda3/envs/marllib/lib/python3.8/site-packages/ray/rllib/utils/metrics/learner_info.py:64: RuntimeWarning: Mean of empty slice\n",
      "  lambda *s: None if s[0] is None else np.nanmean(s, axis=0),\n",
      "/home/allenwu/anaconda3/envs/marllib/lib/python3.8/site-packages/ray/rllib/utils/metrics/learner_info.py:64: RuntimeWarning: Mean of empty slice\n",
      "  lambda *s: None if s[0] is None else np.nanmean(s, axis=0),\n"
     ]
    },
    {
     "name": "stdout",
     "output_type": "stream",
     "text": [
      "== Status ==\n",
      "Current time: 2023-09-21 01:43:26 (running for 00:00:17.52)\n",
      "Memory usage on this node: 6.9/31.2 GiB\n",
      "Using FIFO scheduling algorithm.\n",
      "Resources requested: 3.0/24 CPUs, 1.0/0 GPUs, 0.0/15.61 GiB heap, 0.0/7.8 GiB objects (0.0/1.0 accelerator_type:G)\n",
      "Result logdir: /home/allenwu/Desktop/work/MARLlib-1.0.3/exp_results/happo_gru_CityLearn_5e-07_0.0005_APPEND-DATA_seed-2\n",
      "Number of trials: 1/1 (1 RUNNING)\n",
      "\n",
      "\n"
     ]
    },
    {
     "name": "stderr",
     "output_type": "stream",
     "text": [
      "/home/allenwu/anaconda3/envs/marllib/lib/python3.8/site-packages/ray/rllib/utils/metrics/learner_info.py:64: RuntimeWarning: Mean of empty slice\n",
      "  lambda *s: None if s[0] is None else np.nanmean(s, axis=0),\n",
      "/home/allenwu/anaconda3/envs/marllib/lib/python3.8/site-packages/ray/rllib/utils/metrics/learner_info.py:64: RuntimeWarning: Mean of empty slice\n",
      "  lambda *s: None if s[0] is None else np.nanmean(s, axis=0),\n",
      "/home/allenwu/anaconda3/envs/marllib/lib/python3.8/site-packages/ray/rllib/utils/metrics/learner_info.py:64: RuntimeWarning: Mean of empty slice\n",
      "  lambda *s: None if s[0] is None else np.nanmean(s, axis=0),\n",
      "/home/allenwu/anaconda3/envs/marllib/lib/python3.8/site-packages/ray/rllib/utils/metrics/learner_info.py:64: RuntimeWarning: Mean of empty slice\n",
      "  lambda *s: None if s[0] is None else np.nanmean(s, axis=0),\n"
     ]
    },
    {
     "name": "stdout",
     "output_type": "stream",
     "text": [
      "== Status ==\n",
      "Current time: 2023-09-21 01:43:31 (running for 00:00:22.61)\n",
      "Memory usage on this node: 6.9/31.2 GiB\n",
      "Using FIFO scheduling algorithm.\n",
      "Resources requested: 3.0/24 CPUs, 1.0/0 GPUs, 0.0/15.61 GiB heap, 0.0/7.8 GiB objects (0.0/1.0 accelerator_type:G)\n",
      "Result logdir: /home/allenwu/Desktop/work/MARLlib-1.0.3/exp_results/happo_gru_CityLearn_5e-07_0.0005_APPEND-DATA_seed-2\n",
      "Number of trials: 1/1 (1 RUNNING)\n",
      "\n",
      "\n"
     ]
    },
    {
     "name": "stderr",
     "output_type": "stream",
     "text": [
      "/home/allenwu/anaconda3/envs/marllib/lib/python3.8/site-packages/ray/rllib/utils/metrics/learner_info.py:64: RuntimeWarning: Mean of empty slice\n",
      "  lambda *s: None if s[0] is None else np.nanmean(s, axis=0),\n",
      "/home/allenwu/anaconda3/envs/marllib/lib/python3.8/site-packages/ray/rllib/utils/metrics/learner_info.py:64: RuntimeWarning: Mean of empty slice\n",
      "  lambda *s: None if s[0] is None else np.nanmean(s, axis=0),\n",
      "/home/allenwu/anaconda3/envs/marllib/lib/python3.8/site-packages/ray/rllib/utils/metrics/learner_info.py:64: RuntimeWarning: Mean of empty slice\n",
      "  lambda *s: None if s[0] is None else np.nanmean(s, axis=0),\n",
      "/home/allenwu/anaconda3/envs/marllib/lib/python3.8/site-packages/ray/rllib/utils/metrics/learner_info.py:64: RuntimeWarning: Mean of empty slice\n",
      "  lambda *s: None if s[0] is None else np.nanmean(s, axis=0),\n",
      "/home/allenwu/anaconda3/envs/marllib/lib/python3.8/site-packages/ray/rllib/utils/metrics/learner_info.py:64: RuntimeWarning: Mean of empty slice\n",
      "  lambda *s: None if s[0] is None else np.nanmean(s, axis=0),\n",
      "/home/allenwu/anaconda3/envs/marllib/lib/python3.8/site-packages/ray/rllib/utils/metrics/learner_info.py:64: RuntimeWarning: Mean of empty slice\n",
      "  lambda *s: None if s[0] is None else np.nanmean(s, axis=0),\n"
     ]
    },
    {
     "name": "stdout",
     "output_type": "stream",
     "text": [
      "== Status ==\n",
      "Current time: 2023-09-21 01:43:36 (running for 00:00:27.73)\n",
      "Memory usage on this node: 6.9/31.2 GiB\n",
      "Using FIFO scheduling algorithm.\n",
      "Resources requested: 3.0/24 CPUs, 1.0/0 GPUs, 0.0/15.61 GiB heap, 0.0/7.8 GiB objects (0.0/1.0 accelerator_type:G)\n",
      "Result logdir: /home/allenwu/Desktop/work/MARLlib-1.0.3/exp_results/happo_gru_CityLearn_5e-07_0.0005_APPEND-DATA_seed-2\n",
      "Number of trials: 1/1 (1 RUNNING)\n",
      "\n",
      "\n"
     ]
    },
    {
     "name": "stderr",
     "output_type": "stream",
     "text": [
      "/home/allenwu/anaconda3/envs/marllib/lib/python3.8/site-packages/ray/rllib/utils/metrics/learner_info.py:64: RuntimeWarning: Mean of empty slice\n",
      "  lambda *s: None if s[0] is None else np.nanmean(s, axis=0),\n",
      "/home/allenwu/anaconda3/envs/marllib/lib/python3.8/site-packages/ray/rllib/utils/metrics/learner_info.py:64: RuntimeWarning: Mean of empty slice\n",
      "  lambda *s: None if s[0] is None else np.nanmean(s, axis=0),\n",
      "/home/allenwu/anaconda3/envs/marllib/lib/python3.8/site-packages/ray/rllib/utils/metrics/learner_info.py:64: RuntimeWarning: Mean of empty slice\n",
      "  lambda *s: None if s[0] is None else np.nanmean(s, axis=0),\n",
      "/home/allenwu/anaconda3/envs/marllib/lib/python3.8/site-packages/ray/rllib/utils/metrics/learner_info.py:64: RuntimeWarning: Mean of empty slice\n",
      "  lambda *s: None if s[0] is None else np.nanmean(s, axis=0),\n",
      "/home/allenwu/anaconda3/envs/marllib/lib/python3.8/site-packages/ray/rllib/utils/metrics/learner_info.py:64: RuntimeWarning: Mean of empty slice\n",
      "  lambda *s: None if s[0] is None else np.nanmean(s, axis=0),\n",
      "/home/allenwu/anaconda3/envs/marllib/lib/python3.8/site-packages/ray/rllib/utils/metrics/learner_info.py:64: RuntimeWarning: Mean of empty slice\n",
      "  lambda *s: None if s[0] is None else np.nanmean(s, axis=0),\n"
     ]
    },
    {
     "name": "stdout",
     "output_type": "stream",
     "text": [
      "== Status ==\n",
      "Current time: 2023-09-21 01:43:41 (running for 00:00:32.83)\n",
      "Memory usage on this node: 7.0/31.2 GiB\n",
      "Using FIFO scheduling algorithm.\n",
      "Resources requested: 3.0/24 CPUs, 1.0/0 GPUs, 0.0/15.61 GiB heap, 0.0/7.8 GiB objects (0.0/1.0 accelerator_type:G)\n",
      "Result logdir: /home/allenwu/Desktop/work/MARLlib-1.0.3/exp_results/happo_gru_CityLearn_5e-07_0.0005_APPEND-DATA_seed-2\n",
      "Number of trials: 1/1 (1 RUNNING)\n",
      "\n",
      "\n"
     ]
    },
    {
     "name": "stderr",
     "output_type": "stream",
     "text": [
      "/home/allenwu/anaconda3/envs/marllib/lib/python3.8/site-packages/ray/rllib/utils/metrics/learner_info.py:64: RuntimeWarning: Mean of empty slice\n",
      "  lambda *s: None if s[0] is None else np.nanmean(s, axis=0),\n",
      "/home/allenwu/anaconda3/envs/marllib/lib/python3.8/site-packages/ray/rllib/utils/metrics/learner_info.py:64: RuntimeWarning: Mean of empty slice\n",
      "  lambda *s: None if s[0] is None else np.nanmean(s, axis=0),\n",
      "/home/allenwu/anaconda3/envs/marllib/lib/python3.8/site-packages/ray/rllib/utils/metrics/learner_info.py:64: RuntimeWarning: Mean of empty slice\n",
      "  lambda *s: None if s[0] is None else np.nanmean(s, axis=0),\n",
      "/home/allenwu/anaconda3/envs/marllib/lib/python3.8/site-packages/ray/rllib/utils/metrics/learner_info.py:64: RuntimeWarning: Mean of empty slice\n",
      "  lambda *s: None if s[0] is None else np.nanmean(s, axis=0),\n",
      "/home/allenwu/anaconda3/envs/marllib/lib/python3.8/site-packages/ray/rllib/utils/metrics/learner_info.py:64: RuntimeWarning: Mean of empty slice\n",
      "  lambda *s: None if s[0] is None else np.nanmean(s, axis=0),\n",
      "/home/allenwu/anaconda3/envs/marllib/lib/python3.8/site-packages/ray/rllib/utils/metrics/learner_info.py:64: RuntimeWarning: Mean of empty slice\n",
      "  lambda *s: None if s[0] is None else np.nanmean(s, axis=0),\n"
     ]
    },
    {
     "name": "stdout",
     "output_type": "stream",
     "text": [
      "== Status ==\n",
      "Current time: 2023-09-21 01:43:47 (running for 00:00:38.24)\n",
      "Memory usage on this node: 7.0/31.2 GiB\n",
      "Using FIFO scheduling algorithm.\n",
      "Resources requested: 3.0/24 CPUs, 1.0/0 GPUs, 0.0/15.61 GiB heap, 0.0/7.8 GiB objects (0.0/1.0 accelerator_type:G)\n",
      "Result logdir: /home/allenwu/Desktop/work/MARLlib-1.0.3/exp_results/happo_gru_CityLearn_5e-07_0.0005_APPEND-DATA_seed-2\n",
      "Number of trials: 1/1 (1 RUNNING)\n",
      "\n",
      "\n"
     ]
    },
    {
     "name": "stderr",
     "output_type": "stream",
     "text": [
      "/home/allenwu/anaconda3/envs/marllib/lib/python3.8/site-packages/ray/rllib/utils/metrics/learner_info.py:64: RuntimeWarning: Mean of empty slice\n",
      "  lambda *s: None if s[0] is None else np.nanmean(s, axis=0),\n",
      "/home/allenwu/anaconda3/envs/marllib/lib/python3.8/site-packages/ray/rllib/utils/metrics/learner_info.py:64: RuntimeWarning: Mean of empty slice\n",
      "  lambda *s: None if s[0] is None else np.nanmean(s, axis=0),\n",
      "/home/allenwu/anaconda3/envs/marllib/lib/python3.8/site-packages/ray/rllib/utils/metrics/learner_info.py:64: RuntimeWarning: Mean of empty slice\n",
      "  lambda *s: None if s[0] is None else np.nanmean(s, axis=0),\n",
      "/home/allenwu/anaconda3/envs/marllib/lib/python3.8/site-packages/ray/rllib/utils/metrics/learner_info.py:64: RuntimeWarning: Mean of empty slice\n",
      "  lambda *s: None if s[0] is None else np.nanmean(s, axis=0),\n",
      "/home/allenwu/anaconda3/envs/marllib/lib/python3.8/site-packages/ray/rllib/utils/metrics/learner_info.py:64: RuntimeWarning: Mean of empty slice\n",
      "  lambda *s: None if s[0] is None else np.nanmean(s, axis=0),\n"
     ]
    },
    {
     "name": "stdout",
     "output_type": "stream",
     "text": [
      "== Status ==\n",
      "Current time: 2023-09-21 01:43:52 (running for 00:00:43.26)\n",
      "Memory usage on this node: 7.0/31.2 GiB\n",
      "Using FIFO scheduling algorithm.\n",
      "Resources requested: 3.0/24 CPUs, 1.0/0 GPUs, 0.0/15.61 GiB heap, 0.0/7.8 GiB objects (0.0/1.0 accelerator_type:G)\n",
      "Result logdir: /home/allenwu/Desktop/work/MARLlib-1.0.3/exp_results/happo_gru_CityLearn_5e-07_0.0005_APPEND-DATA_seed-2\n",
      "Number of trials: 1/1 (1 RUNNING)\n",
      "\n",
      "\n"
     ]
    },
    {
     "name": "stderr",
     "output_type": "stream",
     "text": [
      "/home/allenwu/anaconda3/envs/marllib/lib/python3.8/site-packages/ray/rllib/utils/metrics/learner_info.py:64: RuntimeWarning: Mean of empty slice\n",
      "  lambda *s: None if s[0] is None else np.nanmean(s, axis=0),\n",
      "/home/allenwu/anaconda3/envs/marllib/lib/python3.8/site-packages/ray/rllib/utils/metrics/learner_info.py:64: RuntimeWarning: Mean of empty slice\n",
      "  lambda *s: None if s[0] is None else np.nanmean(s, axis=0),\n",
      "/home/allenwu/anaconda3/envs/marllib/lib/python3.8/site-packages/ray/rllib/utils/metrics/learner_info.py:64: RuntimeWarning: Mean of empty slice\n",
      "  lambda *s: None if s[0] is None else np.nanmean(s, axis=0),\n"
     ]
    },
    {
     "name": "stdout",
     "output_type": "stream",
     "text": [
      "== Status ==\n",
      "Current time: 2023-09-21 01:43:57 (running for 00:00:48.56)\n",
      "Memory usage on this node: 7.1/31.2 GiB\n",
      "Using FIFO scheduling algorithm.\n",
      "Resources requested: 3.0/24 CPUs, 1.0/0 GPUs, 0.0/15.61 GiB heap, 0.0/7.8 GiB objects (0.0/1.0 accelerator_type:G)\n",
      "Result logdir: /home/allenwu/Desktop/work/MARLlib-1.0.3/exp_results/happo_gru_CityLearn_5e-07_0.0005_APPEND-DATA_seed-2\n",
      "Number of trials: 1/1 (1 RUNNING)\n",
      "\n",
      "\n"
     ]
    },
    {
     "name": "stderr",
     "output_type": "stream",
     "text": [
      "/home/allenwu/anaconda3/envs/marllib/lib/python3.8/site-packages/ray/rllib/utils/metrics/learner_info.py:64: RuntimeWarning: Mean of empty slice\n",
      "  lambda *s: None if s[0] is None else np.nanmean(s, axis=0),\n",
      "/home/allenwu/anaconda3/envs/marllib/lib/python3.8/site-packages/ray/rllib/utils/metrics/learner_info.py:64: RuntimeWarning: Mean of empty slice\n",
      "  lambda *s: None if s[0] is None else np.nanmean(s, axis=0),\n",
      "/home/allenwu/anaconda3/envs/marllib/lib/python3.8/site-packages/ray/rllib/utils/metrics/learner_info.py:64: RuntimeWarning: Mean of empty slice\n",
      "  lambda *s: None if s[0] is None else np.nanmean(s, axis=0),\n"
     ]
    },
    {
     "name": "stdout",
     "output_type": "stream",
     "text": [
      "== Status ==\n",
      "Current time: 2023-09-21 01:44:02 (running for 00:00:53.87)\n",
      "Memory usage on this node: 7.1/31.2 GiB\n",
      "Using FIFO scheduling algorithm.\n",
      "Resources requested: 3.0/24 CPUs, 1.0/0 GPUs, 0.0/15.61 GiB heap, 0.0/7.8 GiB objects (0.0/1.0 accelerator_type:G)\n",
      "Result logdir: /home/allenwu/Desktop/work/MARLlib-1.0.3/exp_results/happo_gru_CityLearn_5e-07_0.0005_APPEND-DATA_seed-2\n",
      "Number of trials: 1/1 (1 RUNNING)\n",
      "\n",
      "\n"
     ]
    },
    {
     "name": "stderr",
     "output_type": "stream",
     "text": [
      "/home/allenwu/anaconda3/envs/marllib/lib/python3.8/site-packages/ray/rllib/utils/metrics/learner_info.py:64: RuntimeWarning: Mean of empty slice\n",
      "  lambda *s: None if s[0] is None else np.nanmean(s, axis=0),\n",
      "/home/allenwu/anaconda3/envs/marllib/lib/python3.8/site-packages/ray/rllib/utils/metrics/learner_info.py:64: RuntimeWarning: Mean of empty slice\n",
      "  lambda *s: None if s[0] is None else np.nanmean(s, axis=0),\n",
      "/home/allenwu/anaconda3/envs/marllib/lib/python3.8/site-packages/ray/rllib/utils/metrics/learner_info.py:64: RuntimeWarning: Mean of empty slice\n",
      "  lambda *s: None if s[0] is None else np.nanmean(s, axis=0),\n",
      "/home/allenwu/anaconda3/envs/marllib/lib/python3.8/site-packages/ray/rllib/utils/metrics/learner_info.py:64: RuntimeWarning: Mean of empty slice\n",
      "  lambda *s: None if s[0] is None else np.nanmean(s, axis=0),\n",
      "/home/allenwu/anaconda3/envs/marllib/lib/python3.8/site-packages/ray/rllib/utils/metrics/learner_info.py:64: RuntimeWarning: Mean of empty slice\n",
      "  lambda *s: None if s[0] is None else np.nanmean(s, axis=0),\n"
     ]
    },
    {
     "name": "stdout",
     "output_type": "stream",
     "text": [
      "== Status ==\n",
      "Current time: 2023-09-21 01:44:07 (running for 00:00:58.92)\n",
      "Memory usage on this node: 7.1/31.2 GiB\n",
      "Using FIFO scheduling algorithm.\n",
      "Resources requested: 3.0/24 CPUs, 1.0/0 GPUs, 0.0/15.61 GiB heap, 0.0/7.8 GiB objects (0.0/1.0 accelerator_type:G)\n",
      "Result logdir: /home/allenwu/Desktop/work/MARLlib-1.0.3/exp_results/happo_gru_CityLearn_5e-07_0.0005_APPEND-DATA_seed-2\n",
      "Number of trials: 1/1 (1 RUNNING)\n",
      "\n",
      "\n"
     ]
    },
    {
     "name": "stderr",
     "output_type": "stream",
     "text": [
      "/home/allenwu/anaconda3/envs/marllib/lib/python3.8/site-packages/ray/rllib/utils/metrics/learner_info.py:64: RuntimeWarning: Mean of empty slice\n",
      "  lambda *s: None if s[0] is None else np.nanmean(s, axis=0),\n",
      "2023-09-21 01:44:09,041\tWARNING ray_trial_executor.py:768 -- Over the last 60 seconds, the Tune event loop has been backlogged processing new results. Consider increasing your period of result reporting to improve performance.\n",
      "/home/allenwu/anaconda3/envs/marllib/lib/python3.8/site-packages/ray/rllib/utils/metrics/learner_info.py:64: RuntimeWarning: Mean of empty slice\n",
      "  lambda *s: None if s[0] is None else np.nanmean(s, axis=0),\n",
      "/home/allenwu/anaconda3/envs/marllib/lib/python3.8/site-packages/ray/rllib/utils/metrics/learner_info.py:64: RuntimeWarning: Mean of empty slice\n",
      "  lambda *s: None if s[0] is None else np.nanmean(s, axis=0),\n",
      "/home/allenwu/anaconda3/envs/marllib/lib/python3.8/site-packages/ray/rllib/utils/metrics/learner_info.py:64: RuntimeWarning: Mean of empty slice\n",
      "  lambda *s: None if s[0] is None else np.nanmean(s, axis=0),\n",
      "/home/allenwu/anaconda3/envs/marllib/lib/python3.8/site-packages/ray/rllib/utils/metrics/learner_info.py:64: RuntimeWarning: Mean of empty slice\n",
      "  lambda *s: None if s[0] is None else np.nanmean(s, axis=0),\n"
     ]
    },
    {
     "name": "stdout",
     "output_type": "stream",
     "text": [
      "== Status ==\n",
      "Current time: 2023-09-21 01:44:13 (running for 00:01:04.37)\n",
      "Memory usage on this node: 7.1/31.2 GiB\n",
      "Using FIFO scheduling algorithm.\n",
      "Resources requested: 3.0/24 CPUs, 1.0/0 GPUs, 0.0/15.61 GiB heap, 0.0/7.8 GiB objects (0.0/1.0 accelerator_type:G)\n",
      "Result logdir: /home/allenwu/Desktop/work/MARLlib-1.0.3/exp_results/happo_gru_CityLearn_5e-07_0.0005_APPEND-DATA_seed-2\n",
      "Number of trials: 1/1 (1 RUNNING)\n",
      "\n",
      "\n"
     ]
    },
    {
     "name": "stderr",
     "output_type": "stream",
     "text": [
      "/home/allenwu/anaconda3/envs/marllib/lib/python3.8/site-packages/ray/rllib/utils/metrics/learner_info.py:64: RuntimeWarning: Mean of empty slice\n",
      "  lambda *s: None if s[0] is None else np.nanmean(s, axis=0),\n",
      "/home/allenwu/anaconda3/envs/marllib/lib/python3.8/site-packages/ray/rllib/utils/metrics/learner_info.py:64: RuntimeWarning: Mean of empty slice\n",
      "  lambda *s: None if s[0] is None else np.nanmean(s, axis=0),\n",
      "/home/allenwu/anaconda3/envs/marllib/lib/python3.8/site-packages/ray/rllib/utils/metrics/learner_info.py:64: RuntimeWarning: Mean of empty slice\n",
      "  lambda *s: None if s[0] is None else np.nanmean(s, axis=0),\n",
      "/home/allenwu/anaconda3/envs/marllib/lib/python3.8/site-packages/ray/rllib/utils/metrics/learner_info.py:64: RuntimeWarning: Mean of empty slice\n",
      "  lambda *s: None if s[0] is None else np.nanmean(s, axis=0),\n",
      "/home/allenwu/anaconda3/envs/marllib/lib/python3.8/site-packages/ray/rllib/utils/metrics/learner_info.py:64: RuntimeWarning: Mean of empty slice\n",
      "  lambda *s: None if s[0] is None else np.nanmean(s, axis=0),\n"
     ]
    },
    {
     "name": "stdout",
     "output_type": "stream",
     "text": [
      "== Status ==\n",
      "Current time: 2023-09-21 01:44:18 (running for 00:01:09.50)\n",
      "Memory usage on this node: 7.2/31.2 GiB\n",
      "Using FIFO scheduling algorithm.\n",
      "Resources requested: 3.0/24 CPUs, 1.0/0 GPUs, 0.0/15.61 GiB heap, 0.0/7.8 GiB objects (0.0/1.0 accelerator_type:G)\n",
      "Result logdir: /home/allenwu/Desktop/work/MARLlib-1.0.3/exp_results/happo_gru_CityLearn_5e-07_0.0005_APPEND-DATA_seed-2\n",
      "Number of trials: 1/1 (1 RUNNING)\n",
      "\n",
      "\n"
     ]
    },
    {
     "name": "stderr",
     "output_type": "stream",
     "text": [
      "/home/allenwu/anaconda3/envs/marllib/lib/python3.8/site-packages/ray/rllib/utils/metrics/learner_info.py:64: RuntimeWarning: Mean of empty slice\n",
      "  lambda *s: None if s[0] is None else np.nanmean(s, axis=0),\n",
      "/home/allenwu/anaconda3/envs/marllib/lib/python3.8/site-packages/ray/rllib/utils/metrics/learner_info.py:64: RuntimeWarning: Mean of empty slice\n",
      "  lambda *s: None if s[0] is None else np.nanmean(s, axis=0),\n"
     ]
    },
    {
     "name": "stdout",
     "output_type": "stream",
     "text": [
      "== Status ==\n",
      "Current time: 2023-09-21 01:44:23 (running for 00:01:14.55)\n",
      "Memory usage on this node: 7.2/31.2 GiB\n",
      "Using FIFO scheduling algorithm.\n",
      "Resources requested: 3.0/24 CPUs, 1.0/0 GPUs, 0.0/15.61 GiB heap, 0.0/7.8 GiB objects (0.0/1.0 accelerator_type:G)\n",
      "Result logdir: /home/allenwu/Desktop/work/MARLlib-1.0.3/exp_results/happo_gru_CityLearn_5e-07_0.0005_APPEND-DATA_seed-2\n",
      "Number of trials: 1/1 (1 RUNNING)\n",
      "\n",
      "\n"
     ]
    },
    {
     "name": "stderr",
     "output_type": "stream",
     "text": [
      "/home/allenwu/anaconda3/envs/marllib/lib/python3.8/site-packages/ray/rllib/utils/metrics/learner_info.py:64: RuntimeWarning: Mean of empty slice\n",
      "  lambda *s: None if s[0] is None else np.nanmean(s, axis=0),\n",
      "/home/allenwu/anaconda3/envs/marllib/lib/python3.8/site-packages/ray/rllib/utils/metrics/learner_info.py:64: RuntimeWarning: Mean of empty slice\n",
      "  lambda *s: None if s[0] is None else np.nanmean(s, axis=0),\n",
      "/home/allenwu/anaconda3/envs/marllib/lib/python3.8/site-packages/ray/rllib/utils/metrics/learner_info.py:64: RuntimeWarning: Mean of empty slice\n",
      "  lambda *s: None if s[0] is None else np.nanmean(s, axis=0),\n",
      "/home/allenwu/anaconda3/envs/marllib/lib/python3.8/site-packages/ray/rllib/utils/metrics/learner_info.py:64: RuntimeWarning: Mean of empty slice\n",
      "  lambda *s: None if s[0] is None else np.nanmean(s, axis=0),\n"
     ]
    },
    {
     "name": "stdout",
     "output_type": "stream",
     "text": [
      "== Status ==\n",
      "Current time: 2023-09-21 01:44:28 (running for 00:01:19.84)\n",
      "Memory usage on this node: 7.2/31.2 GiB\n",
      "Using FIFO scheduling algorithm.\n",
      "Resources requested: 3.0/24 CPUs, 1.0/0 GPUs, 0.0/15.61 GiB heap, 0.0/7.8 GiB objects (0.0/1.0 accelerator_type:G)\n",
      "Result logdir: /home/allenwu/Desktop/work/MARLlib-1.0.3/exp_results/happo_gru_CityLearn_5e-07_0.0005_APPEND-DATA_seed-2\n",
      "Number of trials: 1/1 (1 RUNNING)\n",
      "\n",
      "\n"
     ]
    },
    {
     "name": "stderr",
     "output_type": "stream",
     "text": [
      "/home/allenwu/anaconda3/envs/marllib/lib/python3.8/site-packages/ray/rllib/utils/metrics/learner_info.py:64: RuntimeWarning: Mean of empty slice\n",
      "  lambda *s: None if s[0] is None else np.nanmean(s, axis=0),\n",
      "/home/allenwu/anaconda3/envs/marllib/lib/python3.8/site-packages/ray/rllib/utils/metrics/learner_info.py:64: RuntimeWarning: Mean of empty slice\n",
      "  lambda *s: None if s[0] is None else np.nanmean(s, axis=0),\n",
      "/home/allenwu/anaconda3/envs/marllib/lib/python3.8/site-packages/ray/rllib/utils/metrics/learner_info.py:64: RuntimeWarning: Mean of empty slice\n",
      "  lambda *s: None if s[0] is None else np.nanmean(s, axis=0),\n",
      "/home/allenwu/anaconda3/envs/marllib/lib/python3.8/site-packages/ray/rllib/utils/metrics/learner_info.py:64: RuntimeWarning: Mean of empty slice\n",
      "  lambda *s: None if s[0] is None else np.nanmean(s, axis=0),\n",
      "/home/allenwu/anaconda3/envs/marllib/lib/python3.8/site-packages/ray/rllib/utils/metrics/learner_info.py:64: RuntimeWarning: Mean of empty slice\n",
      "  lambda *s: None if s[0] is None else np.nanmean(s, axis=0),\n",
      "/home/allenwu/anaconda3/envs/marllib/lib/python3.8/site-packages/ray/rllib/utils/metrics/learner_info.py:64: RuntimeWarning: Mean of empty slice\n",
      "  lambda *s: None if s[0] is None else np.nanmean(s, axis=0),\n"
     ]
    },
    {
     "name": "stdout",
     "output_type": "stream",
     "text": [
      "== Status ==\n",
      "Current time: 2023-09-21 01:44:33 (running for 00:01:24.91)\n",
      "Memory usage on this node: 7.2/31.2 GiB\n",
      "Using FIFO scheduling algorithm.\n",
      "Resources requested: 3.0/24 CPUs, 1.0/0 GPUs, 0.0/15.61 GiB heap, 0.0/7.8 GiB objects (0.0/1.0 accelerator_type:G)\n",
      "Result logdir: /home/allenwu/Desktop/work/MARLlib-1.0.3/exp_results/happo_gru_CityLearn_5e-07_0.0005_APPEND-DATA_seed-2\n",
      "Number of trials: 1/1 (1 RUNNING)\n",
      "\n",
      "\n"
     ]
    },
    {
     "name": "stderr",
     "output_type": "stream",
     "text": [
      "/home/allenwu/anaconda3/envs/marllib/lib/python3.8/site-packages/ray/rllib/utils/metrics/learner_info.py:64: RuntimeWarning: Mean of empty slice\n",
      "  lambda *s: None if s[0] is None else np.nanmean(s, axis=0),\n",
      "/home/allenwu/anaconda3/envs/marllib/lib/python3.8/site-packages/ray/rllib/utils/metrics/learner_info.py:64: RuntimeWarning: Mean of empty slice\n",
      "  lambda *s: None if s[0] is None else np.nanmean(s, axis=0),\n",
      "/home/allenwu/anaconda3/envs/marllib/lib/python3.8/site-packages/ray/rllib/utils/metrics/learner_info.py:64: RuntimeWarning: Mean of empty slice\n",
      "  lambda *s: None if s[0] is None else np.nanmean(s, axis=0),\n",
      "/home/allenwu/anaconda3/envs/marllib/lib/python3.8/site-packages/ray/rllib/utils/metrics/learner_info.py:64: RuntimeWarning: Mean of empty slice\n",
      "  lambda *s: None if s[0] is None else np.nanmean(s, axis=0),\n",
      "/home/allenwu/anaconda3/envs/marllib/lib/python3.8/site-packages/ray/rllib/utils/metrics/learner_info.py:64: RuntimeWarning: Mean of empty slice\n",
      "  lambda *s: None if s[0] is None else np.nanmean(s, axis=0),\n"
     ]
    },
    {
     "name": "stdout",
     "output_type": "stream",
     "text": [
      "== Status ==\n",
      "Current time: 2023-09-21 01:44:38 (running for 00:01:30.08)\n",
      "Memory usage on this node: 7.3/31.2 GiB\n",
      "Using FIFO scheduling algorithm.\n",
      "Resources requested: 3.0/24 CPUs, 1.0/0 GPUs, 0.0/15.61 GiB heap, 0.0/7.8 GiB objects (0.0/1.0 accelerator_type:G)\n",
      "Result logdir: /home/allenwu/Desktop/work/MARLlib-1.0.3/exp_results/happo_gru_CityLearn_5e-07_0.0005_APPEND-DATA_seed-2\n",
      "Number of trials: 1/1 (1 RUNNING)\n",
      "\n",
      "\n"
     ]
    },
    {
     "name": "stderr",
     "output_type": "stream",
     "text": [
      "/home/allenwu/anaconda3/envs/marllib/lib/python3.8/site-packages/ray/rllib/utils/metrics/learner_info.py:64: RuntimeWarning: Mean of empty slice\n",
      "  lambda *s: None if s[0] is None else np.nanmean(s, axis=0),\n",
      "/home/allenwu/anaconda3/envs/marllib/lib/python3.8/site-packages/ray/rllib/utils/metrics/learner_info.py:64: RuntimeWarning: Mean of empty slice\n",
      "  lambda *s: None if s[0] is None else np.nanmean(s, axis=0),\n",
      "/home/allenwu/anaconda3/envs/marllib/lib/python3.8/site-packages/ray/rllib/utils/metrics/learner_info.py:64: RuntimeWarning: Mean of empty slice\n",
      "  lambda *s: None if s[0] is None else np.nanmean(s, axis=0),\n",
      "/home/allenwu/anaconda3/envs/marllib/lib/python3.8/site-packages/ray/rllib/utils/metrics/learner_info.py:64: RuntimeWarning: Mean of empty slice\n",
      "  lambda *s: None if s[0] is None else np.nanmean(s, axis=0),\n",
      "/home/allenwu/anaconda3/envs/marllib/lib/python3.8/site-packages/ray/rllib/utils/metrics/learner_info.py:64: RuntimeWarning: Mean of empty slice\n",
      "  lambda *s: None if s[0] is None else np.nanmean(s, axis=0),\n",
      "/home/allenwu/anaconda3/envs/marllib/lib/python3.8/site-packages/ray/rllib/utils/metrics/learner_info.py:64: RuntimeWarning: Mean of empty slice\n",
      "  lambda *s: None if s[0] is None else np.nanmean(s, axis=0),\n",
      "/home/allenwu/anaconda3/envs/marllib/lib/python3.8/site-packages/ray/rllib/utils/metrics/learner_info.py:64: RuntimeWarning: Mean of empty slice\n",
      "  lambda *s: None if s[0] is None else np.nanmean(s, axis=0),\n",
      "/home/allenwu/anaconda3/envs/marllib/lib/python3.8/site-packages/ray/rllib/utils/metrics/learner_info.py:64: RuntimeWarning: Mean of empty slice\n",
      "  lambda *s: None if s[0] is None else np.nanmean(s, axis=0),\n",
      "/home/allenwu/anaconda3/envs/marllib/lib/python3.8/site-packages/ray/rllib/utils/metrics/learner_info.py:64: RuntimeWarning: Mean of empty slice\n",
      "  lambda *s: None if s[0] is None else np.nanmean(s, axis=0),\n"
     ]
    },
    {
     "name": "stdout",
     "output_type": "stream",
     "text": [
      "== Status ==\n",
      "Current time: 2023-09-21 01:44:43 (running for 00:01:35.21)\n",
      "Memory usage on this node: 7.3/31.2 GiB\n",
      "Using FIFO scheduling algorithm.\n",
      "Resources requested: 3.0/24 CPUs, 1.0/0 GPUs, 0.0/15.61 GiB heap, 0.0/7.8 GiB objects (0.0/1.0 accelerator_type:G)\n",
      "Result logdir: /home/allenwu/Desktop/work/MARLlib-1.0.3/exp_results/happo_gru_CityLearn_5e-07_0.0005_APPEND-DATA_seed-2\n",
      "Number of trials: 1/1 (1 RUNNING)\n",
      "\n",
      "\n"
     ]
    },
    {
     "name": "stderr",
     "output_type": "stream",
     "text": [
      "/home/allenwu/anaconda3/envs/marllib/lib/python3.8/site-packages/ray/rllib/utils/metrics/learner_info.py:64: RuntimeWarning: Mean of empty slice\n",
      "  lambda *s: None if s[0] is None else np.nanmean(s, axis=0),\n",
      "/home/allenwu/anaconda3/envs/marllib/lib/python3.8/site-packages/ray/rllib/utils/metrics/learner_info.py:64: RuntimeWarning: Mean of empty slice\n",
      "  lambda *s: None if s[0] is None else np.nanmean(s, axis=0),\n",
      "/home/allenwu/anaconda3/envs/marllib/lib/python3.8/site-packages/ray/rllib/utils/metrics/learner_info.py:64: RuntimeWarning: Mean of empty slice\n",
      "  lambda *s: None if s[0] is None else np.nanmean(s, axis=0),\n",
      "/home/allenwu/anaconda3/envs/marllib/lib/python3.8/site-packages/ray/rllib/utils/metrics/learner_info.py:64: RuntimeWarning: Mean of empty slice\n",
      "  lambda *s: None if s[0] is None else np.nanmean(s, axis=0),\n",
      "/home/allenwu/anaconda3/envs/marllib/lib/python3.8/site-packages/ray/rllib/utils/metrics/learner_info.py:64: RuntimeWarning: Mean of empty slice\n",
      "  lambda *s: None if s[0] is None else np.nanmean(s, axis=0),\n",
      "/home/allenwu/anaconda3/envs/marllib/lib/python3.8/site-packages/ray/rllib/utils/metrics/learner_info.py:64: RuntimeWarning: Mean of empty slice\n",
      "  lambda *s: None if s[0] is None else np.nanmean(s, axis=0),\n"
     ]
    },
    {
     "name": "stdout",
     "output_type": "stream",
     "text": [
      "== Status ==\n",
      "Current time: 2023-09-21 01:44:49 (running for 00:01:40.54)\n",
      "Memory usage on this node: 7.3/31.2 GiB\n",
      "Using FIFO scheduling algorithm.\n",
      "Resources requested: 3.0/24 CPUs, 1.0/0 GPUs, 0.0/15.61 GiB heap, 0.0/7.8 GiB objects (0.0/1.0 accelerator_type:G)\n",
      "Result logdir: /home/allenwu/Desktop/work/MARLlib-1.0.3/exp_results/happo_gru_CityLearn_5e-07_0.0005_APPEND-DATA_seed-2\n",
      "Number of trials: 1/1 (1 RUNNING)\n",
      "\n",
      "\n"
     ]
    },
    {
     "name": "stderr",
     "output_type": "stream",
     "text": [
      "/home/allenwu/anaconda3/envs/marllib/lib/python3.8/site-packages/ray/rllib/utils/metrics/learner_info.py:64: RuntimeWarning: Mean of empty slice\n",
      "  lambda *s: None if s[0] is None else np.nanmean(s, axis=0),\n",
      "/home/allenwu/anaconda3/envs/marllib/lib/python3.8/site-packages/ray/rllib/utils/metrics/learner_info.py:64: RuntimeWarning: Mean of empty slice\n",
      "  lambda *s: None if s[0] is None else np.nanmean(s, axis=0),\n",
      "/home/allenwu/anaconda3/envs/marllib/lib/python3.8/site-packages/ray/rllib/utils/metrics/learner_info.py:64: RuntimeWarning: Mean of empty slice\n",
      "  lambda *s: None if s[0] is None else np.nanmean(s, axis=0),\n",
      "/home/allenwu/anaconda3/envs/marllib/lib/python3.8/site-packages/ray/rllib/utils/metrics/learner_info.py:64: RuntimeWarning: Mean of empty slice\n",
      "  lambda *s: None if s[0] is None else np.nanmean(s, axis=0),\n"
     ]
    },
    {
     "name": "stdout",
     "output_type": "stream",
     "text": [
      "== Status ==\n",
      "Current time: 2023-09-21 01:44:54 (running for 00:01:45.74)\n",
      "Memory usage on this node: 7.4/31.2 GiB\n",
      "Using FIFO scheduling algorithm.\n",
      "Resources requested: 3.0/24 CPUs, 1.0/0 GPUs, 0.0/15.61 GiB heap, 0.0/7.8 GiB objects (0.0/1.0 accelerator_type:G)\n",
      "Result logdir: /home/allenwu/Desktop/work/MARLlib-1.0.3/exp_results/happo_gru_CityLearn_5e-07_0.0005_APPEND-DATA_seed-2\n",
      "Number of trials: 1/1 (1 RUNNING)\n",
      "\n",
      "\n"
     ]
    },
    {
     "name": "stderr",
     "output_type": "stream",
     "text": [
      "/home/allenwu/anaconda3/envs/marllib/lib/python3.8/site-packages/ray/rllib/utils/metrics/learner_info.py:64: RuntimeWarning: Mean of empty slice\n",
      "  lambda *s: None if s[0] is None else np.nanmean(s, axis=0),\n",
      "/home/allenwu/anaconda3/envs/marllib/lib/python3.8/site-packages/ray/rllib/utils/metrics/learner_info.py:64: RuntimeWarning: Mean of empty slice\n",
      "  lambda *s: None if s[0] is None else np.nanmean(s, axis=0),\n",
      "/home/allenwu/anaconda3/envs/marllib/lib/python3.8/site-packages/ray/rllib/utils/metrics/learner_info.py:64: RuntimeWarning: Mean of empty slice\n",
      "  lambda *s: None if s[0] is None else np.nanmean(s, axis=0),\n",
      "/home/allenwu/anaconda3/envs/marllib/lib/python3.8/site-packages/ray/rllib/utils/metrics/learner_info.py:64: RuntimeWarning: Mean of empty slice\n",
      "  lambda *s: None if s[0] is None else np.nanmean(s, axis=0),\n",
      "/home/allenwu/anaconda3/envs/marllib/lib/python3.8/site-packages/ray/rllib/utils/metrics/learner_info.py:64: RuntimeWarning: Mean of empty slice\n",
      "  lambda *s: None if s[0] is None else np.nanmean(s, axis=0),\n"
     ]
    },
    {
     "name": "stdout",
     "output_type": "stream",
     "text": [
      "== Status ==\n",
      "Current time: 2023-09-21 01:44:59 (running for 00:01:51.03)\n",
      "Memory usage on this node: 7.4/31.2 GiB\n",
      "Using FIFO scheduling algorithm.\n",
      "Resources requested: 3.0/24 CPUs, 1.0/0 GPUs, 0.0/15.61 GiB heap, 0.0/7.8 GiB objects (0.0/1.0 accelerator_type:G)\n",
      "Result logdir: /home/allenwu/Desktop/work/MARLlib-1.0.3/exp_results/happo_gru_CityLearn_5e-07_0.0005_APPEND-DATA_seed-2\n",
      "Number of trials: 1/1 (1 RUNNING)\n",
      "\n",
      "\n"
     ]
    },
    {
     "name": "stderr",
     "output_type": "stream",
     "text": [
      "/home/allenwu/anaconda3/envs/marllib/lib/python3.8/site-packages/ray/rllib/utils/metrics/learner_info.py:64: RuntimeWarning: Mean of empty slice\n",
      "  lambda *s: None if s[0] is None else np.nanmean(s, axis=0),\n",
      "/home/allenwu/anaconda3/envs/marllib/lib/python3.8/site-packages/ray/rllib/utils/metrics/learner_info.py:64: RuntimeWarning: Mean of empty slice\n",
      "  lambda *s: None if s[0] is None else np.nanmean(s, axis=0),\n",
      "/home/allenwu/anaconda3/envs/marllib/lib/python3.8/site-packages/ray/rllib/utils/metrics/learner_info.py:64: RuntimeWarning: Mean of empty slice\n",
      "  lambda *s: None if s[0] is None else np.nanmean(s, axis=0),\n",
      "/home/allenwu/anaconda3/envs/marllib/lib/python3.8/site-packages/ray/rllib/utils/metrics/learner_info.py:64: RuntimeWarning: Mean of empty slice\n",
      "  lambda *s: None if s[0] is None else np.nanmean(s, axis=0),\n",
      "/home/allenwu/anaconda3/envs/marllib/lib/python3.8/site-packages/ray/rllib/utils/metrics/learner_info.py:64: RuntimeWarning: Mean of empty slice\n",
      "  lambda *s: None if s[0] is None else np.nanmean(s, axis=0),\n",
      "/home/allenwu/anaconda3/envs/marllib/lib/python3.8/site-packages/ray/rllib/utils/metrics/learner_info.py:64: RuntimeWarning: Mean of empty slice\n",
      "  lambda *s: None if s[0] is None else np.nanmean(s, axis=0),\n",
      "/home/allenwu/anaconda3/envs/marllib/lib/python3.8/site-packages/ray/rllib/utils/metrics/learner_info.py:64: RuntimeWarning: Mean of empty slice\n",
      "  lambda *s: None if s[0] is None else np.nanmean(s, axis=0),\n",
      "/home/allenwu/anaconda3/envs/marllib/lib/python3.8/site-packages/ray/rllib/utils/metrics/learner_info.py:64: RuntimeWarning: Mean of empty slice\n",
      "  lambda *s: None if s[0] is None else np.nanmean(s, axis=0),\n"
     ]
    },
    {
     "name": "stdout",
     "output_type": "stream",
     "text": [
      "== Status ==\n",
      "Current time: 2023-09-21 01:45:04 (running for 00:01:56.16)\n",
      "Memory usage on this node: 7.4/31.2 GiB\n",
      "Using FIFO scheduling algorithm.\n",
      "Resources requested: 3.0/24 CPUs, 1.0/0 GPUs, 0.0/15.61 GiB heap, 0.0/7.8 GiB objects (0.0/1.0 accelerator_type:G)\n",
      "Result logdir: /home/allenwu/Desktop/work/MARLlib-1.0.3/exp_results/happo_gru_CityLearn_5e-07_0.0005_APPEND-DATA_seed-2\n",
      "Number of trials: 1/1 (1 RUNNING)\n",
      "\n",
      "\n"
     ]
    },
    {
     "name": "stderr",
     "output_type": "stream",
     "text": [
      "/home/allenwu/anaconda3/envs/marllib/lib/python3.8/site-packages/ray/rllib/utils/metrics/learner_info.py:64: RuntimeWarning: Mean of empty slice\n",
      "  lambda *s: None if s[0] is None else np.nanmean(s, axis=0),\n",
      "/home/allenwu/anaconda3/envs/marllib/lib/python3.8/site-packages/ray/rllib/utils/metrics/learner_info.py:64: RuntimeWarning: Mean of empty slice\n",
      "  lambda *s: None if s[0] is None else np.nanmean(s, axis=0),\n",
      "/home/allenwu/anaconda3/envs/marllib/lib/python3.8/site-packages/ray/rllib/utils/metrics/learner_info.py:64: RuntimeWarning: Mean of empty slice\n",
      "  lambda *s: None if s[0] is None else np.nanmean(s, axis=0),\n",
      "/home/allenwu/anaconda3/envs/marllib/lib/python3.8/site-packages/ray/rllib/utils/metrics/learner_info.py:64: RuntimeWarning: Mean of empty slice\n",
      "  lambda *s: None if s[0] is None else np.nanmean(s, axis=0),\n",
      "/home/allenwu/anaconda3/envs/marllib/lib/python3.8/site-packages/ray/rllib/utils/metrics/learner_info.py:64: RuntimeWarning: Mean of empty slice\n",
      "  lambda *s: None if s[0] is None else np.nanmean(s, axis=0),\n",
      "2023-09-21 01:45:09,245\tWARNING ray_trial_executor.py:768 -- Over the last 60 seconds, the Tune event loop has been backlogged processing new results. Consider increasing your period of result reporting to improve performance.\n"
     ]
    },
    {
     "name": "stdout",
     "output_type": "stream",
     "text": [
      "== Status ==\n",
      "Current time: 2023-09-21 01:45:10 (running for 00:02:01.33)\n",
      "Memory usage on this node: 7.4/31.2 GiB\n",
      "Using FIFO scheduling algorithm.\n",
      "Resources requested: 3.0/24 CPUs, 1.0/0 GPUs, 0.0/15.61 GiB heap, 0.0/7.8 GiB objects (0.0/1.0 accelerator_type:G)\n",
      "Result logdir: /home/allenwu/Desktop/work/MARLlib-1.0.3/exp_results/happo_gru_CityLearn_5e-07_0.0005_APPEND-DATA_seed-2\n",
      "Number of trials: 1/1 (1 RUNNING)\n",
      "\n",
      "\n"
     ]
    },
    {
     "name": "stderr",
     "output_type": "stream",
     "text": [
      "/home/allenwu/anaconda3/envs/marllib/lib/python3.8/site-packages/ray/rllib/utils/metrics/learner_info.py:64: RuntimeWarning: Mean of empty slice\n",
      "  lambda *s: None if s[0] is None else np.nanmean(s, axis=0),\n",
      "/home/allenwu/anaconda3/envs/marllib/lib/python3.8/site-packages/ray/rllib/utils/metrics/learner_info.py:64: RuntimeWarning: Mean of empty slice\n",
      "  lambda *s: None if s[0] is None else np.nanmean(s, axis=0),\n",
      "/home/allenwu/anaconda3/envs/marllib/lib/python3.8/site-packages/ray/rllib/utils/metrics/learner_info.py:64: RuntimeWarning: Mean of empty slice\n",
      "  lambda *s: None if s[0] is None else np.nanmean(s, axis=0),\n",
      "/home/allenwu/anaconda3/envs/marllib/lib/python3.8/site-packages/ray/rllib/utils/metrics/learner_info.py:64: RuntimeWarning: Mean of empty slice\n",
      "  lambda *s: None if s[0] is None else np.nanmean(s, axis=0),\n",
      "/home/allenwu/anaconda3/envs/marllib/lib/python3.8/site-packages/ray/rllib/utils/metrics/learner_info.py:64: RuntimeWarning: Mean of empty slice\n",
      "  lambda *s: None if s[0] is None else np.nanmean(s, axis=0),\n",
      "/home/allenwu/anaconda3/envs/marllib/lib/python3.8/site-packages/ray/rllib/utils/metrics/learner_info.py:64: RuntimeWarning: Mean of empty slice\n",
      "  lambda *s: None if s[0] is None else np.nanmean(s, axis=0),\n"
     ]
    },
    {
     "name": "stdout",
     "output_type": "stream",
     "text": [
      "== Status ==\n",
      "Current time: 2023-09-21 01:45:15 (running for 00:02:06.44)\n",
      "Memory usage on this node: 7.5/31.2 GiB\n",
      "Using FIFO scheduling algorithm.\n",
      "Resources requested: 3.0/24 CPUs, 1.0/0 GPUs, 0.0/15.61 GiB heap, 0.0/7.8 GiB objects (0.0/1.0 accelerator_type:G)\n",
      "Result logdir: /home/allenwu/Desktop/work/MARLlib-1.0.3/exp_results/happo_gru_CityLearn_5e-07_0.0005_APPEND-DATA_seed-2\n",
      "Number of trials: 1/1 (1 RUNNING)\n",
      "\n",
      "\n"
     ]
    },
    {
     "name": "stderr",
     "output_type": "stream",
     "text": [
      "/home/allenwu/anaconda3/envs/marllib/lib/python3.8/site-packages/ray/rllib/utils/metrics/learner_info.py:64: RuntimeWarning: Mean of empty slice\n",
      "  lambda *s: None if s[0] is None else np.nanmean(s, axis=0),\n",
      "/home/allenwu/anaconda3/envs/marllib/lib/python3.8/site-packages/ray/rllib/utils/metrics/learner_info.py:64: RuntimeWarning: Mean of empty slice\n",
      "  lambda *s: None if s[0] is None else np.nanmean(s, axis=0),\n",
      "/home/allenwu/anaconda3/envs/marllib/lib/python3.8/site-packages/ray/rllib/utils/metrics/learner_info.py:64: RuntimeWarning: Mean of empty slice\n",
      "  lambda *s: None if s[0] is None else np.nanmean(s, axis=0),\n",
      "/home/allenwu/anaconda3/envs/marllib/lib/python3.8/site-packages/ray/rllib/utils/metrics/learner_info.py:64: RuntimeWarning: Mean of empty slice\n",
      "  lambda *s: None if s[0] is None else np.nanmean(s, axis=0),\n",
      "/home/allenwu/anaconda3/envs/marllib/lib/python3.8/site-packages/ray/rllib/utils/metrics/learner_info.py:64: RuntimeWarning: Mean of empty slice\n",
      "  lambda *s: None if s[0] is None else np.nanmean(s, axis=0),\n",
      "/home/allenwu/anaconda3/envs/marllib/lib/python3.8/site-packages/ray/rllib/utils/metrics/learner_info.py:64: RuntimeWarning: Mean of empty slice\n",
      "  lambda *s: None if s[0] is None else np.nanmean(s, axis=0),\n",
      "/home/allenwu/anaconda3/envs/marllib/lib/python3.8/site-packages/ray/rllib/utils/metrics/learner_info.py:64: RuntimeWarning: Mean of empty slice\n",
      "  lambda *s: None if s[0] is None else np.nanmean(s, axis=0),\n"
     ]
    },
    {
     "name": "stdout",
     "output_type": "stream",
     "text": [
      "== Status ==\n",
      "Current time: 2023-09-21 01:45:20 (running for 00:02:11.55)\n",
      "Memory usage on this node: 7.5/31.2 GiB\n",
      "Using FIFO scheduling algorithm.\n",
      "Resources requested: 3.0/24 CPUs, 1.0/0 GPUs, 0.0/15.61 GiB heap, 0.0/7.8 GiB objects (0.0/1.0 accelerator_type:G)\n",
      "Result logdir: /home/allenwu/Desktop/work/MARLlib-1.0.3/exp_results/happo_gru_CityLearn_5e-07_0.0005_APPEND-DATA_seed-2\n",
      "Number of trials: 1/1 (1 RUNNING)\n",
      "\n",
      "\n"
     ]
    },
    {
     "name": "stderr",
     "output_type": "stream",
     "text": [
      "/home/allenwu/anaconda3/envs/marllib/lib/python3.8/site-packages/ray/rllib/utils/metrics/learner_info.py:64: RuntimeWarning: Mean of empty slice\n",
      "  lambda *s: None if s[0] is None else np.nanmean(s, axis=0),\n",
      "/home/allenwu/anaconda3/envs/marllib/lib/python3.8/site-packages/ray/rllib/utils/metrics/learner_info.py:64: RuntimeWarning: Mean of empty slice\n",
      "  lambda *s: None if s[0] is None else np.nanmean(s, axis=0),\n",
      "/home/allenwu/anaconda3/envs/marllib/lib/python3.8/site-packages/ray/rllib/utils/metrics/learner_info.py:64: RuntimeWarning: Mean of empty slice\n",
      "  lambda *s: None if s[0] is None else np.nanmean(s, axis=0),\n",
      "/home/allenwu/anaconda3/envs/marllib/lib/python3.8/site-packages/ray/rllib/utils/metrics/learner_info.py:64: RuntimeWarning: Mean of empty slice\n",
      "  lambda *s: None if s[0] is None else np.nanmean(s, axis=0),\n",
      "/home/allenwu/anaconda3/envs/marllib/lib/python3.8/site-packages/ray/rllib/utils/metrics/learner_info.py:64: RuntimeWarning: Mean of empty slice\n",
      "  lambda *s: None if s[0] is None else np.nanmean(s, axis=0),\n",
      "/home/allenwu/anaconda3/envs/marllib/lib/python3.8/site-packages/ray/rllib/utils/metrics/learner_info.py:64: RuntimeWarning: Mean of empty slice\n",
      "  lambda *s: None if s[0] is None else np.nanmean(s, axis=0),\n",
      "/home/allenwu/anaconda3/envs/marllib/lib/python3.8/site-packages/ray/rllib/utils/metrics/learner_info.py:64: RuntimeWarning: Mean of empty slice\n",
      "  lambda *s: None if s[0] is None else np.nanmean(s, axis=0),\n"
     ]
    },
    {
     "name": "stdout",
     "output_type": "stream",
     "text": [
      "== Status ==\n",
      "Current time: 2023-09-21 01:45:25 (running for 00:02:16.73)\n",
      "Memory usage on this node: 7.5/31.2 GiB\n",
      "Using FIFO scheduling algorithm.\n",
      "Resources requested: 3.0/24 CPUs, 1.0/0 GPUs, 0.0/15.61 GiB heap, 0.0/7.8 GiB objects (0.0/1.0 accelerator_type:G)\n",
      "Result logdir: /home/allenwu/Desktop/work/MARLlib-1.0.3/exp_results/happo_gru_CityLearn_5e-07_0.0005_APPEND-DATA_seed-2\n",
      "Number of trials: 1/1 (1 RUNNING)\n",
      "\n",
      "\n"
     ]
    },
    {
     "name": "stderr",
     "output_type": "stream",
     "text": [
      "/home/allenwu/anaconda3/envs/marllib/lib/python3.8/site-packages/ray/rllib/utils/metrics/learner_info.py:64: RuntimeWarning: Mean of empty slice\n",
      "  lambda *s: None if s[0] is None else np.nanmean(s, axis=0),\n",
      "/home/allenwu/anaconda3/envs/marllib/lib/python3.8/site-packages/ray/rllib/utils/metrics/learner_info.py:64: RuntimeWarning: Mean of empty slice\n",
      "  lambda *s: None if s[0] is None else np.nanmean(s, axis=0),\n",
      "/home/allenwu/anaconda3/envs/marllib/lib/python3.8/site-packages/ray/rllib/utils/metrics/learner_info.py:64: RuntimeWarning: Mean of empty slice\n",
      "  lambda *s: None if s[0] is None else np.nanmean(s, axis=0),\n",
      "/home/allenwu/anaconda3/envs/marllib/lib/python3.8/site-packages/ray/rllib/utils/metrics/learner_info.py:64: RuntimeWarning: Mean of empty slice\n",
      "  lambda *s: None if s[0] is None else np.nanmean(s, axis=0),\n"
     ]
    },
    {
     "name": "stdout",
     "output_type": "stream",
     "text": [
      "== Status ==\n",
      "Current time: 2023-09-21 01:45:30 (running for 00:02:21.87)\n",
      "Memory usage on this node: 7.6/31.2 GiB\n",
      "Using FIFO scheduling algorithm.\n",
      "Resources requested: 3.0/24 CPUs, 1.0/0 GPUs, 0.0/15.61 GiB heap, 0.0/7.8 GiB objects (0.0/1.0 accelerator_type:G)\n",
      "Result logdir: /home/allenwu/Desktop/work/MARLlib-1.0.3/exp_results/happo_gru_CityLearn_5e-07_0.0005_APPEND-DATA_seed-2\n",
      "Number of trials: 1/1 (1 RUNNING)\n",
      "\n",
      "\n"
     ]
    },
    {
     "name": "stderr",
     "output_type": "stream",
     "text": [
      "/home/allenwu/anaconda3/envs/marllib/lib/python3.8/site-packages/ray/rllib/utils/metrics/learner_info.py:64: RuntimeWarning: Mean of empty slice\n",
      "  lambda *s: None if s[0] is None else np.nanmean(s, axis=0),\n",
      "/home/allenwu/anaconda3/envs/marllib/lib/python3.8/site-packages/ray/rllib/utils/metrics/learner_info.py:64: RuntimeWarning: Mean of empty slice\n",
      "  lambda *s: None if s[0] is None else np.nanmean(s, axis=0),\n",
      "/home/allenwu/anaconda3/envs/marllib/lib/python3.8/site-packages/ray/rllib/utils/metrics/learner_info.py:64: RuntimeWarning: Mean of empty slice\n",
      "  lambda *s: None if s[0] is None else np.nanmean(s, axis=0),\n",
      "/home/allenwu/anaconda3/envs/marllib/lib/python3.8/site-packages/ray/rllib/utils/metrics/learner_info.py:64: RuntimeWarning: Mean of empty slice\n",
      "  lambda *s: None if s[0] is None else np.nanmean(s, axis=0),\n",
      "/home/allenwu/anaconda3/envs/marllib/lib/python3.8/site-packages/ray/rllib/utils/metrics/learner_info.py:64: RuntimeWarning: Mean of empty slice\n",
      "  lambda *s: None if s[0] is None else np.nanmean(s, axis=0),\n",
      "/home/allenwu/anaconda3/envs/marllib/lib/python3.8/site-packages/ray/rllib/utils/metrics/learner_info.py:64: RuntimeWarning: Mean of empty slice\n",
      "  lambda *s: None if s[0] is None else np.nanmean(s, axis=0),\n"
     ]
    },
    {
     "name": "stdout",
     "output_type": "stream",
     "text": [
      "== Status ==\n",
      "Current time: 2023-09-21 01:45:35 (running for 00:02:27.07)\n",
      "Memory usage on this node: 7.6/31.2 GiB\n",
      "Using FIFO scheduling algorithm.\n",
      "Resources requested: 3.0/24 CPUs, 1.0/0 GPUs, 0.0/15.61 GiB heap, 0.0/7.8 GiB objects (0.0/1.0 accelerator_type:G)\n",
      "Result logdir: /home/allenwu/Desktop/work/MARLlib-1.0.3/exp_results/happo_gru_CityLearn_5e-07_0.0005_APPEND-DATA_seed-2\n",
      "Number of trials: 1/1 (1 RUNNING)\n",
      "\n",
      "\n"
     ]
    },
    {
     "name": "stderr",
     "output_type": "stream",
     "text": [
      "/home/allenwu/anaconda3/envs/marllib/lib/python3.8/site-packages/ray/rllib/utils/metrics/learner_info.py:64: RuntimeWarning: Mean of empty slice\n",
      "  lambda *s: None if s[0] is None else np.nanmean(s, axis=0),\n",
      "/home/allenwu/anaconda3/envs/marllib/lib/python3.8/site-packages/ray/rllib/utils/metrics/learner_info.py:64: RuntimeWarning: Mean of empty slice\n",
      "  lambda *s: None if s[0] is None else np.nanmean(s, axis=0),\n",
      "/home/allenwu/anaconda3/envs/marllib/lib/python3.8/site-packages/ray/rllib/utils/metrics/learner_info.py:64: RuntimeWarning: Mean of empty slice\n",
      "  lambda *s: None if s[0] is None else np.nanmean(s, axis=0),\n",
      "/home/allenwu/anaconda3/envs/marllib/lib/python3.8/site-packages/ray/rllib/utils/metrics/learner_info.py:64: RuntimeWarning: Mean of empty slice\n",
      "  lambda *s: None if s[0] is None else np.nanmean(s, axis=0),\n",
      "/home/allenwu/anaconda3/envs/marllib/lib/python3.8/site-packages/ray/rllib/utils/metrics/learner_info.py:64: RuntimeWarning: Mean of empty slice\n",
      "  lambda *s: None if s[0] is None else np.nanmean(s, axis=0),\n",
      "/home/allenwu/anaconda3/envs/marllib/lib/python3.8/site-packages/ray/rllib/utils/metrics/learner_info.py:64: RuntimeWarning: Mean of empty slice\n",
      "  lambda *s: None if s[0] is None else np.nanmean(s, axis=0),\n",
      "/home/allenwu/anaconda3/envs/marllib/lib/python3.8/site-packages/ray/rllib/utils/metrics/learner_info.py:64: RuntimeWarning: Mean of empty slice\n",
      "  lambda *s: None if s[0] is None else np.nanmean(s, axis=0),\n",
      "/home/allenwu/anaconda3/envs/marllib/lib/python3.8/site-packages/ray/rllib/utils/metrics/learner_info.py:64: RuntimeWarning: Mean of empty slice\n",
      "  lambda *s: None if s[0] is None else np.nanmean(s, axis=0),\n"
     ]
    },
    {
     "name": "stdout",
     "output_type": "stream",
     "text": [
      "== Status ==\n",
      "Current time: 2023-09-21 01:45:41 (running for 00:02:32.34)\n",
      "Memory usage on this node: 7.6/31.2 GiB\n",
      "Using FIFO scheduling algorithm.\n",
      "Resources requested: 3.0/24 CPUs, 1.0/0 GPUs, 0.0/15.61 GiB heap, 0.0/7.8 GiB objects (0.0/1.0 accelerator_type:G)\n",
      "Result logdir: /home/allenwu/Desktop/work/MARLlib-1.0.3/exp_results/happo_gru_CityLearn_5e-07_0.0005_APPEND-DATA_seed-2\n",
      "Number of trials: 1/1 (1 RUNNING)\n",
      "\n",
      "\n"
     ]
    },
    {
     "name": "stderr",
     "output_type": "stream",
     "text": [
      "/home/allenwu/anaconda3/envs/marllib/lib/python3.8/site-packages/ray/rllib/utils/metrics/learner_info.py:64: RuntimeWarning: Mean of empty slice\n",
      "  lambda *s: None if s[0] is None else np.nanmean(s, axis=0),\n",
      "/home/allenwu/anaconda3/envs/marllib/lib/python3.8/site-packages/ray/rllib/utils/metrics/learner_info.py:64: RuntimeWarning: Mean of empty slice\n",
      "  lambda *s: None if s[0] is None else np.nanmean(s, axis=0),\n",
      "/home/allenwu/anaconda3/envs/marllib/lib/python3.8/site-packages/ray/rllib/utils/metrics/learner_info.py:64: RuntimeWarning: Mean of empty slice\n",
      "  lambda *s: None if s[0] is None else np.nanmean(s, axis=0),\n",
      "/home/allenwu/anaconda3/envs/marllib/lib/python3.8/site-packages/ray/rllib/utils/metrics/learner_info.py:64: RuntimeWarning: Mean of empty slice\n",
      "  lambda *s: None if s[0] is None else np.nanmean(s, axis=0),\n",
      "/home/allenwu/anaconda3/envs/marllib/lib/python3.8/site-packages/ray/rllib/utils/metrics/learner_info.py:64: RuntimeWarning: Mean of empty slice\n",
      "  lambda *s: None if s[0] is None else np.nanmean(s, axis=0),\n"
     ]
    },
    {
     "name": "stdout",
     "output_type": "stream",
     "text": [
      "== Status ==\n",
      "Current time: 2023-09-21 01:45:46 (running for 00:02:37.36)\n",
      "Memory usage on this node: 7.7/31.2 GiB\n",
      "Using FIFO scheduling algorithm.\n",
      "Resources requested: 3.0/24 CPUs, 1.0/0 GPUs, 0.0/15.61 GiB heap, 0.0/7.8 GiB objects (0.0/1.0 accelerator_type:G)\n",
      "Result logdir: /home/allenwu/Desktop/work/MARLlib-1.0.3/exp_results/happo_gru_CityLearn_5e-07_0.0005_APPEND-DATA_seed-2\n",
      "Number of trials: 1/1 (1 RUNNING)\n",
      "\n",
      "\n"
     ]
    },
    {
     "name": "stderr",
     "output_type": "stream",
     "text": [
      "/home/allenwu/anaconda3/envs/marllib/lib/python3.8/site-packages/ray/rllib/utils/metrics/learner_info.py:64: RuntimeWarning: Mean of empty slice\n",
      "  lambda *s: None if s[0] is None else np.nanmean(s, axis=0),\n",
      "/home/allenwu/anaconda3/envs/marllib/lib/python3.8/site-packages/ray/rllib/utils/metrics/learner_info.py:64: RuntimeWarning: Mean of empty slice\n",
      "  lambda *s: None if s[0] is None else np.nanmean(s, axis=0),\n",
      "/home/allenwu/anaconda3/envs/marllib/lib/python3.8/site-packages/ray/rllib/utils/metrics/learner_info.py:64: RuntimeWarning: Mean of empty slice\n",
      "  lambda *s: None if s[0] is None else np.nanmean(s, axis=0),\n",
      "/home/allenwu/anaconda3/envs/marllib/lib/python3.8/site-packages/ray/rllib/utils/metrics/learner_info.py:64: RuntimeWarning: Mean of empty slice\n",
      "  lambda *s: None if s[0] is None else np.nanmean(s, axis=0),\n",
      "/home/allenwu/anaconda3/envs/marllib/lib/python3.8/site-packages/ray/rllib/utils/metrics/learner_info.py:64: RuntimeWarning: Mean of empty slice\n",
      "  lambda *s: None if s[0] is None else np.nanmean(s, axis=0),\n",
      "/home/allenwu/anaconda3/envs/marllib/lib/python3.8/site-packages/ray/rllib/utils/metrics/learner_info.py:64: RuntimeWarning: Mean of empty slice\n",
      "  lambda *s: None if s[0] is None else np.nanmean(s, axis=0),\n",
      "/home/allenwu/anaconda3/envs/marllib/lib/python3.8/site-packages/ray/rllib/utils/metrics/learner_info.py:64: RuntimeWarning: Mean of empty slice\n",
      "  lambda *s: None if s[0] is None else np.nanmean(s, axis=0),\n"
     ]
    },
    {
     "name": "stdout",
     "output_type": "stream",
     "text": [
      "== Status ==\n",
      "Current time: 2023-09-21 01:45:51 (running for 00:02:42.41)\n",
      "Memory usage on this node: 7.7/31.2 GiB\n",
      "Using FIFO scheduling algorithm.\n",
      "Resources requested: 3.0/24 CPUs, 1.0/0 GPUs, 0.0/15.61 GiB heap, 0.0/7.8 GiB objects (0.0/1.0 accelerator_type:G)\n",
      "Result logdir: /home/allenwu/Desktop/work/MARLlib-1.0.3/exp_results/happo_gru_CityLearn_5e-07_0.0005_APPEND-DATA_seed-2\n",
      "Number of trials: 1/1 (1 RUNNING)\n",
      "\n",
      "\n"
     ]
    },
    {
     "name": "stderr",
     "output_type": "stream",
     "text": [
      "/home/allenwu/anaconda3/envs/marllib/lib/python3.8/site-packages/ray/rllib/utils/metrics/learner_info.py:64: RuntimeWarning: Mean of empty slice\n",
      "  lambda *s: None if s[0] is None else np.nanmean(s, axis=0),\n",
      "/home/allenwu/anaconda3/envs/marllib/lib/python3.8/site-packages/ray/rllib/utils/metrics/learner_info.py:64: RuntimeWarning: Mean of empty slice\n",
      "  lambda *s: None if s[0] is None else np.nanmean(s, axis=0),\n",
      "/home/allenwu/anaconda3/envs/marllib/lib/python3.8/site-packages/ray/rllib/utils/metrics/learner_info.py:64: RuntimeWarning: Mean of empty slice\n",
      "  lambda *s: None if s[0] is None else np.nanmean(s, axis=0),\n",
      "/home/allenwu/anaconda3/envs/marllib/lib/python3.8/site-packages/ray/rllib/utils/metrics/learner_info.py:64: RuntimeWarning: Mean of empty slice\n",
      "  lambda *s: None if s[0] is None else np.nanmean(s, axis=0),\n",
      "/home/allenwu/anaconda3/envs/marllib/lib/python3.8/site-packages/ray/rllib/utils/metrics/learner_info.py:64: RuntimeWarning: Mean of empty slice\n",
      "  lambda *s: None if s[0] is None else np.nanmean(s, axis=0),\n"
     ]
    },
    {
     "name": "stdout",
     "output_type": "stream",
     "text": [
      "== Status ==\n",
      "Current time: 2023-09-21 01:45:56 (running for 00:02:47.45)\n",
      "Memory usage on this node: 7.7/31.2 GiB\n",
      "Using FIFO scheduling algorithm.\n",
      "Resources requested: 3.0/24 CPUs, 1.0/0 GPUs, 0.0/15.61 GiB heap, 0.0/7.8 GiB objects (0.0/1.0 accelerator_type:G)\n",
      "Result logdir: /home/allenwu/Desktop/work/MARLlib-1.0.3/exp_results/happo_gru_CityLearn_5e-07_0.0005_APPEND-DATA_seed-2\n",
      "Number of trials: 1/1 (1 RUNNING)\n",
      "\n",
      "\n"
     ]
    },
    {
     "name": "stderr",
     "output_type": "stream",
     "text": [
      "/home/allenwu/anaconda3/envs/marllib/lib/python3.8/site-packages/ray/rllib/utils/metrics/learner_info.py:64: RuntimeWarning: Mean of empty slice\n",
      "  lambda *s: None if s[0] is None else np.nanmean(s, axis=0),\n",
      "/home/allenwu/anaconda3/envs/marllib/lib/python3.8/site-packages/ray/rllib/utils/metrics/learner_info.py:64: RuntimeWarning: Mean of empty slice\n",
      "  lambda *s: None if s[0] is None else np.nanmean(s, axis=0),\n",
      "/home/allenwu/anaconda3/envs/marllib/lib/python3.8/site-packages/ray/rllib/utils/metrics/learner_info.py:64: RuntimeWarning: Mean of empty slice\n",
      "  lambda *s: None if s[0] is None else np.nanmean(s, axis=0),\n",
      "/home/allenwu/anaconda3/envs/marllib/lib/python3.8/site-packages/ray/rllib/utils/metrics/learner_info.py:64: RuntimeWarning: Mean of empty slice\n",
      "  lambda *s: None if s[0] is None else np.nanmean(s, axis=0),\n",
      "/home/allenwu/anaconda3/envs/marllib/lib/python3.8/site-packages/ray/rllib/utils/metrics/learner_info.py:64: RuntimeWarning: Mean of empty slice\n",
      "  lambda *s: None if s[0] is None else np.nanmean(s, axis=0),\n",
      "/home/allenwu/anaconda3/envs/marllib/lib/python3.8/site-packages/ray/rllib/utils/metrics/learner_info.py:64: RuntimeWarning: Mean of empty slice\n",
      "  lambda *s: None if s[0] is None else np.nanmean(s, axis=0),\n"
     ]
    },
    {
     "name": "stdout",
     "output_type": "stream",
     "text": [
      "== Status ==\n",
      "Current time: 2023-09-21 01:46:01 (running for 00:02:52.72)\n",
      "Memory usage on this node: 7.7/31.2 GiB\n",
      "Using FIFO scheduling algorithm.\n",
      "Resources requested: 3.0/24 CPUs, 1.0/0 GPUs, 0.0/15.61 GiB heap, 0.0/7.8 GiB objects (0.0/1.0 accelerator_type:G)\n",
      "Result logdir: /home/allenwu/Desktop/work/MARLlib-1.0.3/exp_results/happo_gru_CityLearn_5e-07_0.0005_APPEND-DATA_seed-2\n",
      "Number of trials: 1/1 (1 RUNNING)\n",
      "\n",
      "\n"
     ]
    },
    {
     "name": "stderr",
     "output_type": "stream",
     "text": [
      "/home/allenwu/anaconda3/envs/marllib/lib/python3.8/site-packages/ray/rllib/utils/metrics/learner_info.py:64: RuntimeWarning: Mean of empty slice\n",
      "  lambda *s: None if s[0] is None else np.nanmean(s, axis=0),\n",
      "/home/allenwu/anaconda3/envs/marllib/lib/python3.8/site-packages/ray/rllib/utils/metrics/learner_info.py:64: RuntimeWarning: Mean of empty slice\n",
      "  lambda *s: None if s[0] is None else np.nanmean(s, axis=0),\n",
      "/home/allenwu/anaconda3/envs/marllib/lib/python3.8/site-packages/ray/rllib/utils/metrics/learner_info.py:64: RuntimeWarning: Mean of empty slice\n",
      "  lambda *s: None if s[0] is None else np.nanmean(s, axis=0),\n",
      "/home/allenwu/anaconda3/envs/marllib/lib/python3.8/site-packages/ray/rllib/utils/metrics/learner_info.py:64: RuntimeWarning: Mean of empty slice\n",
      "  lambda *s: None if s[0] is None else np.nanmean(s, axis=0),\n",
      "/home/allenwu/anaconda3/envs/marllib/lib/python3.8/site-packages/ray/rllib/utils/metrics/learner_info.py:64: RuntimeWarning: Mean of empty slice\n",
      "  lambda *s: None if s[0] is None else np.nanmean(s, axis=0),\n",
      "/home/allenwu/anaconda3/envs/marllib/lib/python3.8/site-packages/ray/rllib/utils/metrics/learner_info.py:64: RuntimeWarning: Mean of empty slice\n",
      "  lambda *s: None if s[0] is None else np.nanmean(s, axis=0),\n",
      "/home/allenwu/anaconda3/envs/marllib/lib/python3.8/site-packages/ray/rllib/utils/metrics/learner_info.py:64: RuntimeWarning: Mean of empty slice\n",
      "  lambda *s: None if s[0] is None else np.nanmean(s, axis=0),\n"
     ]
    },
    {
     "name": "stdout",
     "output_type": "stream",
     "text": [
      "== Status ==\n",
      "Current time: 2023-09-21 01:46:06 (running for 00:02:57.88)\n",
      "Memory usage on this node: 7.8/31.2 GiB\n",
      "Using FIFO scheduling algorithm.\n",
      "Resources requested: 3.0/24 CPUs, 1.0/0 GPUs, 0.0/15.61 GiB heap, 0.0/7.8 GiB objects (0.0/1.0 accelerator_type:G)\n",
      "Result logdir: /home/allenwu/Desktop/work/MARLlib-1.0.3/exp_results/happo_gru_CityLearn_5e-07_0.0005_APPEND-DATA_seed-2\n",
      "Number of trials: 1/1 (1 RUNNING)\n",
      "\n",
      "\n"
     ]
    },
    {
     "name": "stderr",
     "output_type": "stream",
     "text": [
      "/home/allenwu/anaconda3/envs/marllib/lib/python3.8/site-packages/ray/rllib/utils/metrics/learner_info.py:64: RuntimeWarning: Mean of empty slice\n",
      "  lambda *s: None if s[0] is None else np.nanmean(s, axis=0),\n",
      "/home/allenwu/anaconda3/envs/marllib/lib/python3.8/site-packages/ray/rllib/utils/metrics/learner_info.py:64: RuntimeWarning: Mean of empty slice\n",
      "  lambda *s: None if s[0] is None else np.nanmean(s, axis=0),\n",
      "/home/allenwu/anaconda3/envs/marllib/lib/python3.8/site-packages/ray/rllib/utils/metrics/learner_info.py:64: RuntimeWarning: Mean of empty slice\n",
      "  lambda *s: None if s[0] is None else np.nanmean(s, axis=0),\n",
      "2023-09-21 01:46:09,634\tWARNING ray_trial_executor.py:768 -- Over the last 60 seconds, the Tune event loop has been backlogged processing new results. Consider increasing your period of result reporting to improve performance.\n",
      "/home/allenwu/anaconda3/envs/marllib/lib/python3.8/site-packages/ray/rllib/utils/metrics/learner_info.py:64: RuntimeWarning: Mean of empty slice\n",
      "  lambda *s: None if s[0] is None else np.nanmean(s, axis=0),\n",
      "/home/allenwu/anaconda3/envs/marllib/lib/python3.8/site-packages/ray/rllib/utils/metrics/learner_info.py:64: RuntimeWarning: Mean of empty slice\n",
      "  lambda *s: None if s[0] is None else np.nanmean(s, axis=0),\n",
      "/home/allenwu/anaconda3/envs/marllib/lib/python3.8/site-packages/ray/rllib/utils/metrics/learner_info.py:64: RuntimeWarning: Mean of empty slice\n",
      "  lambda *s: None if s[0] is None else np.nanmean(s, axis=0),\n"
     ]
    },
    {
     "name": "stdout",
     "output_type": "stream",
     "text": [
      "== Status ==\n",
      "Current time: 2023-09-21 01:46:11 (running for 00:03:02.99)\n",
      "Memory usage on this node: 7.8/31.2 GiB\n",
      "Using FIFO scheduling algorithm.\n",
      "Resources requested: 3.0/24 CPUs, 1.0/0 GPUs, 0.0/15.61 GiB heap, 0.0/7.8 GiB objects (0.0/1.0 accelerator_type:G)\n",
      "Result logdir: /home/allenwu/Desktop/work/MARLlib-1.0.3/exp_results/happo_gru_CityLearn_5e-07_0.0005_APPEND-DATA_seed-2\n",
      "Number of trials: 1/1 (1 RUNNING)\n",
      "\n",
      "\n"
     ]
    },
    {
     "name": "stderr",
     "output_type": "stream",
     "text": [
      "/home/allenwu/anaconda3/envs/marllib/lib/python3.8/site-packages/ray/rllib/utils/metrics/learner_info.py:64: RuntimeWarning: Mean of empty slice\n",
      "  lambda *s: None if s[0] is None else np.nanmean(s, axis=0),\n",
      "/home/allenwu/anaconda3/envs/marllib/lib/python3.8/site-packages/ray/rllib/utils/metrics/learner_info.py:64: RuntimeWarning: Mean of empty slice\n",
      "  lambda *s: None if s[0] is None else np.nanmean(s, axis=0),\n",
      "/home/allenwu/anaconda3/envs/marllib/lib/python3.8/site-packages/ray/rllib/utils/metrics/learner_info.py:64: RuntimeWarning: Mean of empty slice\n",
      "  lambda *s: None if s[0] is None else np.nanmean(s, axis=0),\n",
      "/home/allenwu/anaconda3/envs/marllib/lib/python3.8/site-packages/ray/rllib/utils/metrics/learner_info.py:64: RuntimeWarning: Mean of empty slice\n",
      "  lambda *s: None if s[0] is None else np.nanmean(s, axis=0),\n",
      "/home/allenwu/anaconda3/envs/marllib/lib/python3.8/site-packages/ray/rllib/utils/metrics/learner_info.py:64: RuntimeWarning: Mean of empty slice\n",
      "  lambda *s: None if s[0] is None else np.nanmean(s, axis=0),\n",
      "/home/allenwu/anaconda3/envs/marllib/lib/python3.8/site-packages/ray/rllib/utils/metrics/learner_info.py:64: RuntimeWarning: Mean of empty slice\n",
      "  lambda *s: None if s[0] is None else np.nanmean(s, axis=0),\n",
      "/home/allenwu/anaconda3/envs/marllib/lib/python3.8/site-packages/ray/rllib/utils/metrics/learner_info.py:64: RuntimeWarning: Mean of empty slice\n",
      "  lambda *s: None if s[0] is None else np.nanmean(s, axis=0),\n"
     ]
    },
    {
     "name": "stdout",
     "output_type": "stream",
     "text": [
      "== Status ==\n",
      "Current time: 2023-09-21 01:46:17 (running for 00:03:08.43)\n",
      "Memory usage on this node: 7.8/31.2 GiB\n",
      "Using FIFO scheduling algorithm.\n",
      "Resources requested: 3.0/24 CPUs, 1.0/0 GPUs, 0.0/15.61 GiB heap, 0.0/7.8 GiB objects (0.0/1.0 accelerator_type:G)\n",
      "Result logdir: /home/allenwu/Desktop/work/MARLlib-1.0.3/exp_results/happo_gru_CityLearn_5e-07_0.0005_APPEND-DATA_seed-2\n",
      "Number of trials: 1/1 (1 RUNNING)\n",
      "\n",
      "\n"
     ]
    },
    {
     "name": "stderr",
     "output_type": "stream",
     "text": [
      "/home/allenwu/anaconda3/envs/marllib/lib/python3.8/site-packages/ray/rllib/utils/metrics/learner_info.py:64: RuntimeWarning: Mean of empty slice\n",
      "  lambda *s: None if s[0] is None else np.nanmean(s, axis=0),\n",
      "/home/allenwu/anaconda3/envs/marllib/lib/python3.8/site-packages/ray/rllib/utils/metrics/learner_info.py:64: RuntimeWarning: Mean of empty slice\n",
      "  lambda *s: None if s[0] is None else np.nanmean(s, axis=0),\n",
      "/home/allenwu/anaconda3/envs/marllib/lib/python3.8/site-packages/ray/rllib/utils/metrics/learner_info.py:64: RuntimeWarning: Mean of empty slice\n",
      "  lambda *s: None if s[0] is None else np.nanmean(s, axis=0),\n",
      "/home/allenwu/anaconda3/envs/marllib/lib/python3.8/site-packages/ray/rllib/utils/metrics/learner_info.py:64: RuntimeWarning: Mean of empty slice\n",
      "  lambda *s: None if s[0] is None else np.nanmean(s, axis=0),\n",
      "/home/allenwu/anaconda3/envs/marllib/lib/python3.8/site-packages/ray/rllib/utils/metrics/learner_info.py:64: RuntimeWarning: Mean of empty slice\n",
      "  lambda *s: None if s[0] is None else np.nanmean(s, axis=0),\n",
      "/home/allenwu/anaconda3/envs/marllib/lib/python3.8/site-packages/ray/rllib/utils/metrics/learner_info.py:64: RuntimeWarning: Mean of empty slice\n",
      "  lambda *s: None if s[0] is None else np.nanmean(s, axis=0),\n",
      "/home/allenwu/anaconda3/envs/marllib/lib/python3.8/site-packages/ray/rllib/utils/metrics/learner_info.py:64: RuntimeWarning: Mean of empty slice\n",
      "  lambda *s: None if s[0] is None else np.nanmean(s, axis=0),\n",
      "/home/allenwu/anaconda3/envs/marllib/lib/python3.8/site-packages/ray/rllib/utils/metrics/learner_info.py:64: RuntimeWarning: Mean of empty slice\n",
      "  lambda *s: None if s[0] is None else np.nanmean(s, axis=0),\n"
     ]
    },
    {
     "name": "stdout",
     "output_type": "stream",
     "text": [
      "== Status ==\n",
      "Current time: 2023-09-21 01:46:22 (running for 00:03:13.86)\n",
      "Memory usage on this node: 7.8/31.2 GiB\n",
      "Using FIFO scheduling algorithm.\n",
      "Resources requested: 3.0/24 CPUs, 1.0/0 GPUs, 0.0/15.61 GiB heap, 0.0/7.8 GiB objects (0.0/1.0 accelerator_type:G)\n",
      "Result logdir: /home/allenwu/Desktop/work/MARLlib-1.0.3/exp_results/happo_gru_CityLearn_5e-07_0.0005_APPEND-DATA_seed-2\n",
      "Number of trials: 1/1 (1 RUNNING)\n",
      "\n",
      "\n"
     ]
    },
    {
     "name": "stderr",
     "output_type": "stream",
     "text": [
      "/home/allenwu/anaconda3/envs/marllib/lib/python3.8/site-packages/ray/rllib/utils/metrics/learner_info.py:64: RuntimeWarning: Mean of empty slice\n",
      "  lambda *s: None if s[0] is None else np.nanmean(s, axis=0),\n",
      "/home/allenwu/anaconda3/envs/marllib/lib/python3.8/site-packages/ray/rllib/utils/metrics/learner_info.py:64: RuntimeWarning: Mean of empty slice\n",
      "  lambda *s: None if s[0] is None else np.nanmean(s, axis=0),\n"
     ]
    },
    {
     "name": "stdout",
     "output_type": "stream",
     "text": [
      "== Status ==\n",
      "Current time: 2023-09-21 01:46:28 (running for 00:03:19.27)\n",
      "Memory usage on this node: 7.9/31.2 GiB\n",
      "Using FIFO scheduling algorithm.\n",
      "Resources requested: 3.0/24 CPUs, 1.0/0 GPUs, 0.0/15.61 GiB heap, 0.0/7.8 GiB objects (0.0/1.0 accelerator_type:G)\n",
      "Result logdir: /home/allenwu/Desktop/work/MARLlib-1.0.3/exp_results/happo_gru_CityLearn_5e-07_0.0005_APPEND-DATA_seed-2\n",
      "Number of trials: 1/1 (1 RUNNING)\n",
      "\n",
      "\n"
     ]
    },
    {
     "name": "stderr",
     "output_type": "stream",
     "text": [
      "/home/allenwu/anaconda3/envs/marllib/lib/python3.8/site-packages/ray/rllib/utils/metrics/learner_info.py:64: RuntimeWarning: Mean of empty slice\n",
      "  lambda *s: None if s[0] is None else np.nanmean(s, axis=0),\n",
      "/home/allenwu/anaconda3/envs/marllib/lib/python3.8/site-packages/ray/rllib/utils/metrics/learner_info.py:64: RuntimeWarning: Mean of empty slice\n",
      "  lambda *s: None if s[0] is None else np.nanmean(s, axis=0),\n",
      "/home/allenwu/anaconda3/envs/marllib/lib/python3.8/site-packages/ray/rllib/utils/metrics/learner_info.py:64: RuntimeWarning: Mean of empty slice\n",
      "  lambda *s: None if s[0] is None else np.nanmean(s, axis=0),\n"
     ]
    },
    {
     "name": "stdout",
     "output_type": "stream",
     "text": [
      "== Status ==\n",
      "Current time: 2023-09-21 01:46:33 (running for 00:03:24.70)\n",
      "Memory usage on this node: 7.9/31.2 GiB\n",
      "Using FIFO scheduling algorithm.\n",
      "Resources requested: 3.0/24 CPUs, 1.0/0 GPUs, 0.0/15.61 GiB heap, 0.0/7.8 GiB objects (0.0/1.0 accelerator_type:G)\n",
      "Result logdir: /home/allenwu/Desktop/work/MARLlib-1.0.3/exp_results/happo_gru_CityLearn_5e-07_0.0005_APPEND-DATA_seed-2\n",
      "Number of trials: 1/1 (1 RUNNING)\n",
      "\n",
      "\n"
     ]
    },
    {
     "name": "stderr",
     "output_type": "stream",
     "text": [
      "/home/allenwu/anaconda3/envs/marllib/lib/python3.8/site-packages/ray/rllib/utils/metrics/learner_info.py:64: RuntimeWarning: Mean of empty slice\n",
      "  lambda *s: None if s[0] is None else np.nanmean(s, axis=0),\n",
      "/home/allenwu/anaconda3/envs/marllib/lib/python3.8/site-packages/ray/rllib/utils/metrics/learner_info.py:64: RuntimeWarning: Mean of empty slice\n",
      "  lambda *s: None if s[0] is None else np.nanmean(s, axis=0),\n",
      "/home/allenwu/anaconda3/envs/marllib/lib/python3.8/site-packages/ray/rllib/utils/metrics/learner_info.py:64: RuntimeWarning: Mean of empty slice\n",
      "  lambda *s: None if s[0] is None else np.nanmean(s, axis=0),\n",
      "/home/allenwu/anaconda3/envs/marllib/lib/python3.8/site-packages/ray/rllib/utils/metrics/learner_info.py:64: RuntimeWarning: Mean of empty slice\n",
      "  lambda *s: None if s[0] is None else np.nanmean(s, axis=0),\n"
     ]
    },
    {
     "name": "stdout",
     "output_type": "stream",
     "text": [
      "== Status ==\n",
      "Current time: 2023-09-21 01:46:38 (running for 00:03:30.04)\n",
      "Memory usage on this node: 7.9/31.2 GiB\n",
      "Using FIFO scheduling algorithm.\n",
      "Resources requested: 3.0/24 CPUs, 1.0/0 GPUs, 0.0/15.61 GiB heap, 0.0/7.8 GiB objects (0.0/1.0 accelerator_type:G)\n",
      "Result logdir: /home/allenwu/Desktop/work/MARLlib-1.0.3/exp_results/happo_gru_CityLearn_5e-07_0.0005_APPEND-DATA_seed-2\n",
      "Number of trials: 1/1 (1 RUNNING)\n",
      "\n",
      "\n"
     ]
    },
    {
     "name": "stderr",
     "output_type": "stream",
     "text": [
      "/home/allenwu/anaconda3/envs/marllib/lib/python3.8/site-packages/ray/rllib/utils/metrics/learner_info.py:64: RuntimeWarning: Mean of empty slice\n",
      "  lambda *s: None if s[0] is None else np.nanmean(s, axis=0),\n",
      "/home/allenwu/anaconda3/envs/marllib/lib/python3.8/site-packages/ray/rllib/utils/metrics/learner_info.py:64: RuntimeWarning: Mean of empty slice\n",
      "  lambda *s: None if s[0] is None else np.nanmean(s, axis=0),\n",
      "/home/allenwu/anaconda3/envs/marllib/lib/python3.8/site-packages/ray/rllib/utils/metrics/learner_info.py:64: RuntimeWarning: Mean of empty slice\n",
      "  lambda *s: None if s[0] is None else np.nanmean(s, axis=0),\n",
      "/home/allenwu/anaconda3/envs/marllib/lib/python3.8/site-packages/ray/rllib/utils/metrics/learner_info.py:64: RuntimeWarning: Mean of empty slice\n",
      "  lambda *s: None if s[0] is None else np.nanmean(s, axis=0),\n"
     ]
    },
    {
     "name": "stdout",
     "output_type": "stream",
     "text": [
      "== Status ==\n",
      "Current time: 2023-09-21 01:46:44 (running for 00:03:35.46)\n",
      "Memory usage on this node: 8.0/31.2 GiB\n",
      "Using FIFO scheduling algorithm.\n",
      "Resources requested: 3.0/24 CPUs, 1.0/0 GPUs, 0.0/15.61 GiB heap, 0.0/7.8 GiB objects (0.0/1.0 accelerator_type:G)\n",
      "Result logdir: /home/allenwu/Desktop/work/MARLlib-1.0.3/exp_results/happo_gru_CityLearn_5e-07_0.0005_APPEND-DATA_seed-2\n",
      "Number of trials: 1/1 (1 RUNNING)\n",
      "\n",
      "\n"
     ]
    },
    {
     "name": "stderr",
     "output_type": "stream",
     "text": [
      "/home/allenwu/anaconda3/envs/marllib/lib/python3.8/site-packages/ray/rllib/utils/metrics/learner_info.py:64: RuntimeWarning: Mean of empty slice\n",
      "  lambda *s: None if s[0] is None else np.nanmean(s, axis=0),\n",
      "/home/allenwu/anaconda3/envs/marllib/lib/python3.8/site-packages/ray/rllib/utils/metrics/learner_info.py:64: RuntimeWarning: Mean of empty slice\n",
      "  lambda *s: None if s[0] is None else np.nanmean(s, axis=0),\n",
      "/home/allenwu/anaconda3/envs/marllib/lib/python3.8/site-packages/ray/rllib/utils/metrics/learner_info.py:64: RuntimeWarning: Mean of empty slice\n",
      "  lambda *s: None if s[0] is None else np.nanmean(s, axis=0),\n",
      "/home/allenwu/anaconda3/envs/marllib/lib/python3.8/site-packages/ray/rllib/utils/metrics/learner_info.py:64: RuntimeWarning: Mean of empty slice\n",
      "  lambda *s: None if s[0] is None else np.nanmean(s, axis=0),\n",
      "/home/allenwu/anaconda3/envs/marllib/lib/python3.8/site-packages/ray/rllib/utils/metrics/learner_info.py:64: RuntimeWarning: Mean of empty slice\n",
      "  lambda *s: None if s[0] is None else np.nanmean(s, axis=0),\n",
      "/home/allenwu/anaconda3/envs/marllib/lib/python3.8/site-packages/ray/rllib/utils/metrics/learner_info.py:64: RuntimeWarning: Mean of empty slice\n",
      "  lambda *s: None if s[0] is None else np.nanmean(s, axis=0),\n",
      "/home/allenwu/anaconda3/envs/marllib/lib/python3.8/site-packages/ray/rllib/utils/metrics/learner_info.py:64: RuntimeWarning: Mean of empty slice\n",
      "  lambda *s: None if s[0] is None else np.nanmean(s, axis=0),\n"
     ]
    },
    {
     "name": "stdout",
     "output_type": "stream",
     "text": [
      "== Status ==\n",
      "Current time: 2023-09-21 01:46:49 (running for 00:03:40.86)\n",
      "Memory usage on this node: 8.0/31.2 GiB\n",
      "Using FIFO scheduling algorithm.\n",
      "Resources requested: 3.0/24 CPUs, 1.0/0 GPUs, 0.0/15.61 GiB heap, 0.0/7.8 GiB objects (0.0/1.0 accelerator_type:G)\n",
      "Result logdir: /home/allenwu/Desktop/work/MARLlib-1.0.3/exp_results/happo_gru_CityLearn_5e-07_0.0005_APPEND-DATA_seed-2\n",
      "Number of trials: 1/1 (1 RUNNING)\n",
      "\n",
      "\n"
     ]
    },
    {
     "name": "stderr",
     "output_type": "stream",
     "text": [
      "/home/allenwu/anaconda3/envs/marllib/lib/python3.8/site-packages/ray/rllib/utils/metrics/learner_info.py:64: RuntimeWarning: Mean of empty slice\n",
      "  lambda *s: None if s[0] is None else np.nanmean(s, axis=0),\n",
      "/home/allenwu/anaconda3/envs/marllib/lib/python3.8/site-packages/ray/rllib/utils/metrics/learner_info.py:64: RuntimeWarning: Mean of empty slice\n",
      "  lambda *s: None if s[0] is None else np.nanmean(s, axis=0),\n",
      "/home/allenwu/anaconda3/envs/marllib/lib/python3.8/site-packages/ray/rllib/utils/metrics/learner_info.py:64: RuntimeWarning: Mean of empty slice\n",
      "  lambda *s: None if s[0] is None else np.nanmean(s, axis=0),\n",
      "/home/allenwu/anaconda3/envs/marllib/lib/python3.8/site-packages/ray/rllib/utils/metrics/learner_info.py:64: RuntimeWarning: Mean of empty slice\n",
      "  lambda *s: None if s[0] is None else np.nanmean(s, axis=0),\n",
      "/home/allenwu/anaconda3/envs/marllib/lib/python3.8/site-packages/ray/rllib/utils/metrics/learner_info.py:64: RuntimeWarning: Mean of empty slice\n",
      "  lambda *s: None if s[0] is None else np.nanmean(s, axis=0),\n"
     ]
    },
    {
     "name": "stdout",
     "output_type": "stream",
     "text": [
      "== Status ==\n",
      "Current time: 2023-09-21 01:46:54 (running for 00:03:46.06)\n",
      "Memory usage on this node: 8.0/31.2 GiB\n",
      "Using FIFO scheduling algorithm.\n",
      "Resources requested: 3.0/24 CPUs, 1.0/0 GPUs, 0.0/15.61 GiB heap, 0.0/7.8 GiB objects (0.0/1.0 accelerator_type:G)\n",
      "Result logdir: /home/allenwu/Desktop/work/MARLlib-1.0.3/exp_results/happo_gru_CityLearn_5e-07_0.0005_APPEND-DATA_seed-2\n",
      "Number of trials: 1/1 (1 RUNNING)\n",
      "\n",
      "\n"
     ]
    },
    {
     "name": "stderr",
     "output_type": "stream",
     "text": [
      "/home/allenwu/anaconda3/envs/marllib/lib/python3.8/site-packages/ray/rllib/utils/metrics/learner_info.py:64: RuntimeWarning: Mean of empty slice\n",
      "  lambda *s: None if s[0] is None else np.nanmean(s, axis=0),\n",
      "/home/allenwu/anaconda3/envs/marllib/lib/python3.8/site-packages/ray/rllib/utils/metrics/learner_info.py:64: RuntimeWarning: Mean of empty slice\n",
      "  lambda *s: None if s[0] is None else np.nanmean(s, axis=0),\n",
      "/home/allenwu/anaconda3/envs/marllib/lib/python3.8/site-packages/ray/rllib/utils/metrics/learner_info.py:64: RuntimeWarning: Mean of empty slice\n",
      "  lambda *s: None if s[0] is None else np.nanmean(s, axis=0),\n",
      "/home/allenwu/anaconda3/envs/marllib/lib/python3.8/site-packages/ray/rllib/utils/metrics/learner_info.py:64: RuntimeWarning: Mean of empty slice\n",
      "  lambda *s: None if s[0] is None else np.nanmean(s, axis=0),\n",
      "/home/allenwu/anaconda3/envs/marllib/lib/python3.8/site-packages/ray/rllib/utils/metrics/learner_info.py:64: RuntimeWarning: Mean of empty slice\n",
      "  lambda *s: None if s[0] is None else np.nanmean(s, axis=0),\n",
      "/home/allenwu/anaconda3/envs/marllib/lib/python3.8/site-packages/ray/rllib/utils/metrics/learner_info.py:64: RuntimeWarning: Mean of empty slice\n",
      "  lambda *s: None if s[0] is None else np.nanmean(s, axis=0),\n",
      "/home/allenwu/anaconda3/envs/marllib/lib/python3.8/site-packages/ray/rllib/utils/metrics/learner_info.py:64: RuntimeWarning: Mean of empty slice\n",
      "  lambda *s: None if s[0] is None else np.nanmean(s, axis=0),\n"
     ]
    },
    {
     "name": "stdout",
     "output_type": "stream",
     "text": [
      "== Status ==\n",
      "Current time: 2023-09-21 01:46:59 (running for 00:03:51.19)\n",
      "Memory usage on this node: 8.1/31.2 GiB\n",
      "Using FIFO scheduling algorithm.\n",
      "Resources requested: 3.0/24 CPUs, 1.0/0 GPUs, 0.0/15.61 GiB heap, 0.0/7.8 GiB objects (0.0/1.0 accelerator_type:G)\n",
      "Result logdir: /home/allenwu/Desktop/work/MARLlib-1.0.3/exp_results/happo_gru_CityLearn_5e-07_0.0005_APPEND-DATA_seed-2\n",
      "Number of trials: 1/1 (1 RUNNING)\n",
      "\n",
      "\n"
     ]
    },
    {
     "name": "stderr",
     "output_type": "stream",
     "text": [
      "/home/allenwu/anaconda3/envs/marllib/lib/python3.8/site-packages/ray/rllib/utils/metrics/learner_info.py:64: RuntimeWarning: Mean of empty slice\n",
      "  lambda *s: None if s[0] is None else np.nanmean(s, axis=0),\n",
      "/home/allenwu/anaconda3/envs/marllib/lib/python3.8/site-packages/ray/rllib/utils/metrics/learner_info.py:64: RuntimeWarning: Mean of empty slice\n",
      "  lambda *s: None if s[0] is None else np.nanmean(s, axis=0),\n",
      "/home/allenwu/anaconda3/envs/marllib/lib/python3.8/site-packages/ray/rllib/utils/metrics/learner_info.py:64: RuntimeWarning: Mean of empty slice\n",
      "  lambda *s: None if s[0] is None else np.nanmean(s, axis=0),\n",
      "/home/allenwu/anaconda3/envs/marllib/lib/python3.8/site-packages/ray/rllib/utils/metrics/learner_info.py:64: RuntimeWarning: Mean of empty slice\n",
      "  lambda *s: None if s[0] is None else np.nanmean(s, axis=0),\n",
      "/home/allenwu/anaconda3/envs/marllib/lib/python3.8/site-packages/ray/rllib/utils/metrics/learner_info.py:64: RuntimeWarning: Mean of empty slice\n",
      "  lambda *s: None if s[0] is None else np.nanmean(s, axis=0),\n"
     ]
    },
    {
     "name": "stdout",
     "output_type": "stream",
     "text": [
      "== Status ==\n",
      "Current time: 2023-09-21 01:47:05 (running for 00:03:56.59)\n",
      "Memory usage on this node: 8.1/31.2 GiB\n",
      "Using FIFO scheduling algorithm.\n",
      "Resources requested: 3.0/24 CPUs, 1.0/0 GPUs, 0.0/15.61 GiB heap, 0.0/7.8 GiB objects (0.0/1.0 accelerator_type:G)\n",
      "Result logdir: /home/allenwu/Desktop/work/MARLlib-1.0.3/exp_results/happo_gru_CityLearn_5e-07_0.0005_APPEND-DATA_seed-2\n",
      "Number of trials: 1/1 (1 RUNNING)\n",
      "\n",
      "\n"
     ]
    },
    {
     "name": "stderr",
     "output_type": "stream",
     "text": [
      "/home/allenwu/anaconda3/envs/marllib/lib/python3.8/site-packages/ray/rllib/utils/metrics/learner_info.py:64: RuntimeWarning: Mean of empty slice\n",
      "  lambda *s: None if s[0] is None else np.nanmean(s, axis=0),\n",
      "/home/allenwu/anaconda3/envs/marllib/lib/python3.8/site-packages/ray/rllib/utils/metrics/learner_info.py:64: RuntimeWarning: Mean of empty slice\n",
      "  lambda *s: None if s[0] is None else np.nanmean(s, axis=0),\n",
      "/home/allenwu/anaconda3/envs/marllib/lib/python3.8/site-packages/ray/rllib/utils/metrics/learner_info.py:64: RuntimeWarning: Mean of empty slice\n",
      "  lambda *s: None if s[0] is None else np.nanmean(s, axis=0),\n",
      "/home/allenwu/anaconda3/envs/marllib/lib/python3.8/site-packages/ray/rllib/utils/metrics/learner_info.py:64: RuntimeWarning: Mean of empty slice\n",
      "  lambda *s: None if s[0] is None else np.nanmean(s, axis=0),\n",
      "/home/allenwu/anaconda3/envs/marllib/lib/python3.8/site-packages/ray/rllib/utils/metrics/learner_info.py:64: RuntimeWarning: Mean of empty slice\n",
      "  lambda *s: None if s[0] is None else np.nanmean(s, axis=0),\n",
      "2023-09-21 01:47:09,962\tWARNING ray_trial_executor.py:768 -- Over the last 60 seconds, the Tune event loop has been backlogged processing new results. Consider increasing your period of result reporting to improve performance.\n",
      "/home/allenwu/anaconda3/envs/marllib/lib/python3.8/site-packages/ray/rllib/utils/metrics/learner_info.py:64: RuntimeWarning: Mean of empty slice\n",
      "  lambda *s: None if s[0] is None else np.nanmean(s, axis=0),\n"
     ]
    },
    {
     "name": "stdout",
     "output_type": "stream",
     "text": [
      "== Status ==\n",
      "Current time: 2023-09-21 01:47:10 (running for 00:04:01.65)\n",
      "Memory usage on this node: 8.1/31.2 GiB\n",
      "Using FIFO scheduling algorithm.\n",
      "Resources requested: 3.0/24 CPUs, 1.0/0 GPUs, 0.0/15.61 GiB heap, 0.0/7.8 GiB objects (0.0/1.0 accelerator_type:G)\n",
      "Result logdir: /home/allenwu/Desktop/work/MARLlib-1.0.3/exp_results/happo_gru_CityLearn_5e-07_0.0005_APPEND-DATA_seed-2\n",
      "Number of trials: 1/1 (1 RUNNING)\n",
      "\n",
      "\n"
     ]
    },
    {
     "name": "stderr",
     "output_type": "stream",
     "text": [
      "/home/allenwu/anaconda3/envs/marllib/lib/python3.8/site-packages/ray/rllib/utils/metrics/learner_info.py:64: RuntimeWarning: Mean of empty slice\n",
      "  lambda *s: None if s[0] is None else np.nanmean(s, axis=0),\n",
      "/home/allenwu/anaconda3/envs/marllib/lib/python3.8/site-packages/ray/rllib/utils/metrics/learner_info.py:64: RuntimeWarning: Mean of empty slice\n",
      "  lambda *s: None if s[0] is None else np.nanmean(s, axis=0),\n",
      "/home/allenwu/anaconda3/envs/marllib/lib/python3.8/site-packages/ray/rllib/utils/metrics/learner_info.py:64: RuntimeWarning: Mean of empty slice\n",
      "  lambda *s: None if s[0] is None else np.nanmean(s, axis=0),\n",
      "/home/allenwu/anaconda3/envs/marllib/lib/python3.8/site-packages/ray/rllib/utils/metrics/learner_info.py:64: RuntimeWarning: Mean of empty slice\n",
      "  lambda *s: None if s[0] is None else np.nanmean(s, axis=0),\n",
      "/home/allenwu/anaconda3/envs/marllib/lib/python3.8/site-packages/ray/rllib/utils/metrics/learner_info.py:64: RuntimeWarning: Mean of empty slice\n",
      "  lambda *s: None if s[0] is None else np.nanmean(s, axis=0),\n",
      "/home/allenwu/anaconda3/envs/marllib/lib/python3.8/site-packages/ray/rllib/utils/metrics/learner_info.py:64: RuntimeWarning: Mean of empty slice\n",
      "  lambda *s: None if s[0] is None else np.nanmean(s, axis=0),\n",
      "/home/allenwu/anaconda3/envs/marllib/lib/python3.8/site-packages/ray/rllib/utils/metrics/learner_info.py:64: RuntimeWarning: Mean of empty slice\n",
      "  lambda *s: None if s[0] is None else np.nanmean(s, axis=0),\n",
      "/home/allenwu/anaconda3/envs/marllib/lib/python3.8/site-packages/ray/rllib/utils/metrics/learner_info.py:64: RuntimeWarning: Mean of empty slice\n",
      "  lambda *s: None if s[0] is None else np.nanmean(s, axis=0),\n"
     ]
    },
    {
     "name": "stdout",
     "output_type": "stream",
     "text": [
      "== Status ==\n",
      "Current time: 2023-09-21 01:47:15 (running for 00:04:06.86)\n",
      "Memory usage on this node: 8.2/31.2 GiB\n",
      "Using FIFO scheduling algorithm.\n",
      "Resources requested: 3.0/24 CPUs, 1.0/0 GPUs, 0.0/15.61 GiB heap, 0.0/7.8 GiB objects (0.0/1.0 accelerator_type:G)\n",
      "Result logdir: /home/allenwu/Desktop/work/MARLlib-1.0.3/exp_results/happo_gru_CityLearn_5e-07_0.0005_APPEND-DATA_seed-2\n",
      "Number of trials: 1/1 (1 RUNNING)\n",
      "\n",
      "\n"
     ]
    },
    {
     "name": "stderr",
     "output_type": "stream",
     "text": [
      "/home/allenwu/anaconda3/envs/marllib/lib/python3.8/site-packages/ray/rllib/utils/metrics/learner_info.py:64: RuntimeWarning: Mean of empty slice\n",
      "  lambda *s: None if s[0] is None else np.nanmean(s, axis=0),\n",
      "/home/allenwu/anaconda3/envs/marllib/lib/python3.8/site-packages/ray/rllib/utils/metrics/learner_info.py:64: RuntimeWarning: Mean of empty slice\n",
      "  lambda *s: None if s[0] is None else np.nanmean(s, axis=0),\n",
      "/home/allenwu/anaconda3/envs/marllib/lib/python3.8/site-packages/ray/rllib/utils/metrics/learner_info.py:64: RuntimeWarning: Mean of empty slice\n",
      "  lambda *s: None if s[0] is None else np.nanmean(s, axis=0),\n",
      "/home/allenwu/anaconda3/envs/marllib/lib/python3.8/site-packages/ray/rllib/utils/metrics/learner_info.py:64: RuntimeWarning: Mean of empty slice\n",
      "  lambda *s: None if s[0] is None else np.nanmean(s, axis=0),\n",
      "/home/allenwu/anaconda3/envs/marllib/lib/python3.8/site-packages/ray/rllib/utils/metrics/learner_info.py:64: RuntimeWarning: Mean of empty slice\n",
      "  lambda *s: None if s[0] is None else np.nanmean(s, axis=0),\n",
      "/home/allenwu/anaconda3/envs/marllib/lib/python3.8/site-packages/ray/rllib/utils/metrics/learner_info.py:64: RuntimeWarning: Mean of empty slice\n",
      "  lambda *s: None if s[0] is None else np.nanmean(s, axis=0),\n"
     ]
    },
    {
     "name": "stdout",
     "output_type": "stream",
     "text": [
      "== Status ==\n",
      "Current time: 2023-09-21 01:47:20 (running for 00:04:12.03)\n",
      "Memory usage on this node: 8.2/31.2 GiB\n",
      "Using FIFO scheduling algorithm.\n",
      "Resources requested: 3.0/24 CPUs, 1.0/0 GPUs, 0.0/15.61 GiB heap, 0.0/7.8 GiB objects (0.0/1.0 accelerator_type:G)\n",
      "Result logdir: /home/allenwu/Desktop/work/MARLlib-1.0.3/exp_results/happo_gru_CityLearn_5e-07_0.0005_APPEND-DATA_seed-2\n",
      "Number of trials: 1/1 (1 RUNNING)\n",
      "\n",
      "\n"
     ]
    },
    {
     "name": "stderr",
     "output_type": "stream",
     "text": [
      "/home/allenwu/anaconda3/envs/marllib/lib/python3.8/site-packages/ray/rllib/utils/metrics/learner_info.py:64: RuntimeWarning: Mean of empty slice\n",
      "  lambda *s: None if s[0] is None else np.nanmean(s, axis=0),\n",
      "/home/allenwu/anaconda3/envs/marllib/lib/python3.8/site-packages/ray/rllib/utils/metrics/learner_info.py:64: RuntimeWarning: Mean of empty slice\n",
      "  lambda *s: None if s[0] is None else np.nanmean(s, axis=0),\n",
      "/home/allenwu/anaconda3/envs/marllib/lib/python3.8/site-packages/ray/rllib/utils/metrics/learner_info.py:64: RuntimeWarning: Mean of empty slice\n",
      "  lambda *s: None if s[0] is None else np.nanmean(s, axis=0),\n",
      "/home/allenwu/anaconda3/envs/marllib/lib/python3.8/site-packages/ray/rllib/utils/metrics/learner_info.py:64: RuntimeWarning: Mean of empty slice\n",
      "  lambda *s: None if s[0] is None else np.nanmean(s, axis=0),\n"
     ]
    },
    {
     "name": "stdout",
     "output_type": "stream",
     "text": [
      "== Status ==\n",
      "Current time: 2023-09-21 01:47:25 (running for 00:04:17.16)\n",
      "Memory usage on this node: 8.2/31.2 GiB\n",
      "Using FIFO scheduling algorithm.\n",
      "Resources requested: 3.0/24 CPUs, 1.0/0 GPUs, 0.0/15.61 GiB heap, 0.0/7.8 GiB objects (0.0/1.0 accelerator_type:G)\n",
      "Result logdir: /home/allenwu/Desktop/work/MARLlib-1.0.3/exp_results/happo_gru_CityLearn_5e-07_0.0005_APPEND-DATA_seed-2\n",
      "Number of trials: 1/1 (1 RUNNING)\n",
      "\n",
      "\n"
     ]
    },
    {
     "name": "stderr",
     "output_type": "stream",
     "text": [
      "/home/allenwu/anaconda3/envs/marllib/lib/python3.8/site-packages/ray/rllib/utils/metrics/learner_info.py:64: RuntimeWarning: Mean of empty slice\n",
      "  lambda *s: None if s[0] is None else np.nanmean(s, axis=0),\n",
      "/home/allenwu/anaconda3/envs/marllib/lib/python3.8/site-packages/ray/rllib/utils/metrics/learner_info.py:64: RuntimeWarning: Mean of empty slice\n",
      "  lambda *s: None if s[0] is None else np.nanmean(s, axis=0),\n",
      "/home/allenwu/anaconda3/envs/marllib/lib/python3.8/site-packages/ray/rllib/utils/metrics/learner_info.py:64: RuntimeWarning: Mean of empty slice\n",
      "  lambda *s: None if s[0] is None else np.nanmean(s, axis=0),\n",
      "/home/allenwu/anaconda3/envs/marllib/lib/python3.8/site-packages/ray/rllib/utils/metrics/learner_info.py:64: RuntimeWarning: Mean of empty slice\n",
      "  lambda *s: None if s[0] is None else np.nanmean(s, axis=0),\n",
      "/home/allenwu/anaconda3/envs/marllib/lib/python3.8/site-packages/ray/rllib/utils/metrics/learner_info.py:64: RuntimeWarning: Mean of empty slice\n",
      "  lambda *s: None if s[0] is None else np.nanmean(s, axis=0),\n",
      "/home/allenwu/anaconda3/envs/marllib/lib/python3.8/site-packages/ray/rllib/utils/metrics/learner_info.py:64: RuntimeWarning: Mean of empty slice\n",
      "  lambda *s: None if s[0] is None else np.nanmean(s, axis=0),\n"
     ]
    },
    {
     "name": "stdout",
     "output_type": "stream",
     "text": [
      "== Status ==\n",
      "Current time: 2023-09-21 01:47:31 (running for 00:04:22.27)\n",
      "Memory usage on this node: 8.2/31.2 GiB\n",
      "Using FIFO scheduling algorithm.\n",
      "Resources requested: 3.0/24 CPUs, 1.0/0 GPUs, 0.0/15.61 GiB heap, 0.0/7.8 GiB objects (0.0/1.0 accelerator_type:G)\n",
      "Result logdir: /home/allenwu/Desktop/work/MARLlib-1.0.3/exp_results/happo_gru_CityLearn_5e-07_0.0005_APPEND-DATA_seed-2\n",
      "Number of trials: 1/1 (1 RUNNING)\n",
      "\n",
      "\n"
     ]
    },
    {
     "name": "stderr",
     "output_type": "stream",
     "text": [
      "/home/allenwu/anaconda3/envs/marllib/lib/python3.8/site-packages/ray/rllib/utils/metrics/learner_info.py:64: RuntimeWarning: Mean of empty slice\n",
      "  lambda *s: None if s[0] is None else np.nanmean(s, axis=0),\n",
      "/home/allenwu/anaconda3/envs/marllib/lib/python3.8/site-packages/ray/rllib/utils/metrics/learner_info.py:64: RuntimeWarning: Mean of empty slice\n",
      "  lambda *s: None if s[0] is None else np.nanmean(s, axis=0),\n",
      "/home/allenwu/anaconda3/envs/marllib/lib/python3.8/site-packages/ray/rllib/utils/metrics/learner_info.py:64: RuntimeWarning: Mean of empty slice\n",
      "  lambda *s: None if s[0] is None else np.nanmean(s, axis=0),\n",
      "/home/allenwu/anaconda3/envs/marllib/lib/python3.8/site-packages/ray/rllib/utils/metrics/learner_info.py:64: RuntimeWarning: Mean of empty slice\n",
      "  lambda *s: None if s[0] is None else np.nanmean(s, axis=0),\n",
      "/home/allenwu/anaconda3/envs/marllib/lib/python3.8/site-packages/ray/rllib/utils/metrics/learner_info.py:64: RuntimeWarning: Mean of empty slice\n",
      "  lambda *s: None if s[0] is None else np.nanmean(s, axis=0),\n"
     ]
    },
    {
     "name": "stdout",
     "output_type": "stream",
     "text": [
      "== Status ==\n",
      "Current time: 2023-09-21 01:47:36 (running for 00:04:27.40)\n",
      "Memory usage on this node: 8.3/31.2 GiB\n",
      "Using FIFO scheduling algorithm.\n",
      "Resources requested: 3.0/24 CPUs, 1.0/0 GPUs, 0.0/15.61 GiB heap, 0.0/7.8 GiB objects (0.0/1.0 accelerator_type:G)\n",
      "Result logdir: /home/allenwu/Desktop/work/MARLlib-1.0.3/exp_results/happo_gru_CityLearn_5e-07_0.0005_APPEND-DATA_seed-2\n",
      "Number of trials: 1/1 (1 RUNNING)\n",
      "\n",
      "\n"
     ]
    },
    {
     "name": "stderr",
     "output_type": "stream",
     "text": [
      "/home/allenwu/anaconda3/envs/marllib/lib/python3.8/site-packages/ray/rllib/utils/metrics/learner_info.py:64: RuntimeWarning: Mean of empty slice\n",
      "  lambda *s: None if s[0] is None else np.nanmean(s, axis=0),\n",
      "/home/allenwu/anaconda3/envs/marllib/lib/python3.8/site-packages/ray/rllib/utils/metrics/learner_info.py:64: RuntimeWarning: Mean of empty slice\n",
      "  lambda *s: None if s[0] is None else np.nanmean(s, axis=0),\n",
      "/home/allenwu/anaconda3/envs/marllib/lib/python3.8/site-packages/ray/rllib/utils/metrics/learner_info.py:64: RuntimeWarning: Mean of empty slice\n",
      "  lambda *s: None if s[0] is None else np.nanmean(s, axis=0),\n",
      "/home/allenwu/anaconda3/envs/marllib/lib/python3.8/site-packages/ray/rllib/utils/metrics/learner_info.py:64: RuntimeWarning: Mean of empty slice\n",
      "  lambda *s: None if s[0] is None else np.nanmean(s, axis=0),\n",
      "/home/allenwu/anaconda3/envs/marllib/lib/python3.8/site-packages/ray/rllib/utils/metrics/learner_info.py:64: RuntimeWarning: Mean of empty slice\n",
      "  lambda *s: None if s[0] is None else np.nanmean(s, axis=0),\n"
     ]
    },
    {
     "name": "stdout",
     "output_type": "stream",
     "text": [
      "== Status ==\n",
      "Current time: 2023-09-21 01:47:41 (running for 00:04:32.42)\n",
      "Memory usage on this node: 8.2/31.2 GiB\n",
      "Using FIFO scheduling algorithm.\n",
      "Resources requested: 3.0/24 CPUs, 1.0/0 GPUs, 0.0/15.61 GiB heap, 0.0/7.8 GiB objects (0.0/1.0 accelerator_type:G)\n",
      "Result logdir: /home/allenwu/Desktop/work/MARLlib-1.0.3/exp_results/happo_gru_CityLearn_5e-07_0.0005_APPEND-DATA_seed-2\n",
      "Number of trials: 1/1 (1 RUNNING)\n",
      "\n",
      "\n"
     ]
    },
    {
     "name": "stderr",
     "output_type": "stream",
     "text": [
      "/home/allenwu/anaconda3/envs/marllib/lib/python3.8/site-packages/ray/rllib/utils/metrics/learner_info.py:64: RuntimeWarning: Mean of empty slice\n",
      "  lambda *s: None if s[0] is None else np.nanmean(s, axis=0),\n",
      "/home/allenwu/anaconda3/envs/marllib/lib/python3.8/site-packages/ray/rllib/utils/metrics/learner_info.py:64: RuntimeWarning: Mean of empty slice\n",
      "  lambda *s: None if s[0] is None else np.nanmean(s, axis=0),\n",
      "/home/allenwu/anaconda3/envs/marllib/lib/python3.8/site-packages/ray/rllib/utils/metrics/learner_info.py:64: RuntimeWarning: Mean of empty slice\n",
      "  lambda *s: None if s[0] is None else np.nanmean(s, axis=0),\n",
      "/home/allenwu/anaconda3/envs/marllib/lib/python3.8/site-packages/ray/rllib/utils/metrics/learner_info.py:64: RuntimeWarning: Mean of empty slice\n",
      "  lambda *s: None if s[0] is None else np.nanmean(s, axis=0),\n",
      "/home/allenwu/anaconda3/envs/marllib/lib/python3.8/site-packages/ray/rllib/utils/metrics/learner_info.py:64: RuntimeWarning: Mean of empty slice\n",
      "  lambda *s: None if s[0] is None else np.nanmean(s, axis=0),\n"
     ]
    },
    {
     "name": "stdout",
     "output_type": "stream",
     "text": [
      "== Status ==\n",
      "Current time: 2023-09-21 01:47:46 (running for 00:04:37.85)\n",
      "Memory usage on this node: 8.3/31.2 GiB\n",
      "Using FIFO scheduling algorithm.\n",
      "Resources requested: 3.0/24 CPUs, 1.0/0 GPUs, 0.0/15.61 GiB heap, 0.0/7.8 GiB objects (0.0/1.0 accelerator_type:G)\n",
      "Result logdir: /home/allenwu/Desktop/work/MARLlib-1.0.3/exp_results/happo_gru_CityLearn_5e-07_0.0005_APPEND-DATA_seed-2\n",
      "Number of trials: 1/1 (1 RUNNING)\n",
      "\n",
      "\n"
     ]
    },
    {
     "name": "stderr",
     "output_type": "stream",
     "text": [
      "/home/allenwu/anaconda3/envs/marllib/lib/python3.8/site-packages/ray/rllib/utils/metrics/learner_info.py:64: RuntimeWarning: Mean of empty slice\n",
      "  lambda *s: None if s[0] is None else np.nanmean(s, axis=0),\n",
      "/home/allenwu/anaconda3/envs/marllib/lib/python3.8/site-packages/ray/rllib/utils/metrics/learner_info.py:64: RuntimeWarning: Mean of empty slice\n",
      "  lambda *s: None if s[0] is None else np.nanmean(s, axis=0),\n",
      "/home/allenwu/anaconda3/envs/marllib/lib/python3.8/site-packages/ray/rllib/utils/metrics/learner_info.py:64: RuntimeWarning: Mean of empty slice\n",
      "  lambda *s: None if s[0] is None else np.nanmean(s, axis=0),\n",
      "/home/allenwu/anaconda3/envs/marllib/lib/python3.8/site-packages/ray/rllib/utils/metrics/learner_info.py:64: RuntimeWarning: Mean of empty slice\n",
      "  lambda *s: None if s[0] is None else np.nanmean(s, axis=0),\n",
      "/home/allenwu/anaconda3/envs/marllib/lib/python3.8/site-packages/ray/rllib/utils/metrics/learner_info.py:64: RuntimeWarning: Mean of empty slice\n",
      "  lambda *s: None if s[0] is None else np.nanmean(s, axis=0),\n",
      "/home/allenwu/anaconda3/envs/marllib/lib/python3.8/site-packages/ray/rllib/utils/metrics/learner_info.py:64: RuntimeWarning: Mean of empty slice\n",
      "  lambda *s: None if s[0] is None else np.nanmean(s, axis=0),\n",
      "/home/allenwu/anaconda3/envs/marllib/lib/python3.8/site-packages/ray/rllib/utils/metrics/learner_info.py:64: RuntimeWarning: Mean of empty slice\n",
      "  lambda *s: None if s[0] is None else np.nanmean(s, axis=0),\n"
     ]
    },
    {
     "name": "stdout",
     "output_type": "stream",
     "text": [
      "== Status ==\n",
      "Current time: 2023-09-21 01:47:51 (running for 00:04:42.94)\n",
      "Memory usage on this node: 8.3/31.2 GiB\n",
      "Using FIFO scheduling algorithm.\n",
      "Resources requested: 3.0/24 CPUs, 1.0/0 GPUs, 0.0/15.61 GiB heap, 0.0/7.8 GiB objects (0.0/1.0 accelerator_type:G)\n",
      "Result logdir: /home/allenwu/Desktop/work/MARLlib-1.0.3/exp_results/happo_gru_CityLearn_5e-07_0.0005_APPEND-DATA_seed-2\n",
      "Number of trials: 1/1 (1 RUNNING)\n",
      "\n",
      "\n"
     ]
    },
    {
     "name": "stderr",
     "output_type": "stream",
     "text": [
      "/home/allenwu/anaconda3/envs/marllib/lib/python3.8/site-packages/ray/rllib/utils/metrics/learner_info.py:64: RuntimeWarning: Mean of empty slice\n",
      "  lambda *s: None if s[0] is None else np.nanmean(s, axis=0),\n",
      "/home/allenwu/anaconda3/envs/marllib/lib/python3.8/site-packages/ray/rllib/utils/metrics/learner_info.py:64: RuntimeWarning: Mean of empty slice\n",
      "  lambda *s: None if s[0] is None else np.nanmean(s, axis=0),\n"
     ]
    },
    {
     "name": "stdout",
     "output_type": "stream",
     "text": [
      "== Status ==\n",
      "Current time: 2023-09-21 01:47:56 (running for 00:04:48.07)\n",
      "Memory usage on this node: 8.3/31.2 GiB\n",
      "Using FIFO scheduling algorithm.\n",
      "Resources requested: 3.0/24 CPUs, 1.0/0 GPUs, 0.0/15.61 GiB heap, 0.0/7.8 GiB objects (0.0/1.0 accelerator_type:G)\n",
      "Result logdir: /home/allenwu/Desktop/work/MARLlib-1.0.3/exp_results/happo_gru_CityLearn_5e-07_0.0005_APPEND-DATA_seed-2\n",
      "Number of trials: 1/1 (1 RUNNING)\n",
      "\n",
      "\n"
     ]
    },
    {
     "name": "stderr",
     "output_type": "stream",
     "text": [
      "/home/allenwu/anaconda3/envs/marllib/lib/python3.8/site-packages/ray/rllib/utils/metrics/learner_info.py:64: RuntimeWarning: Mean of empty slice\n",
      "  lambda *s: None if s[0] is None else np.nanmean(s, axis=0),\n",
      "/home/allenwu/anaconda3/envs/marllib/lib/python3.8/site-packages/ray/rllib/utils/metrics/learner_info.py:64: RuntimeWarning: Mean of empty slice\n",
      "  lambda *s: None if s[0] is None else np.nanmean(s, axis=0),\n",
      "/home/allenwu/anaconda3/envs/marllib/lib/python3.8/site-packages/ray/rllib/utils/metrics/learner_info.py:64: RuntimeWarning: Mean of empty slice\n",
      "  lambda *s: None if s[0] is None else np.nanmean(s, axis=0),\n",
      "/home/allenwu/anaconda3/envs/marllib/lib/python3.8/site-packages/ray/rllib/utils/metrics/learner_info.py:64: RuntimeWarning: Mean of empty slice\n",
      "  lambda *s: None if s[0] is None else np.nanmean(s, axis=0),\n"
     ]
    },
    {
     "name": "stdout",
     "output_type": "stream",
     "text": [
      "== Status ==\n",
      "Current time: 2023-09-21 01:48:01 (running for 00:04:53.17)\n",
      "Memory usage on this node: 8.3/31.2 GiB\n",
      "Using FIFO scheduling algorithm.\n",
      "Resources requested: 3.0/24 CPUs, 1.0/0 GPUs, 0.0/15.61 GiB heap, 0.0/7.8 GiB objects (0.0/1.0 accelerator_type:G)\n",
      "Result logdir: /home/allenwu/Desktop/work/MARLlib-1.0.3/exp_results/happo_gru_CityLearn_5e-07_0.0005_APPEND-DATA_seed-2\n",
      "Number of trials: 1/1 (1 RUNNING)\n",
      "\n",
      "\n"
     ]
    },
    {
     "name": "stderr",
     "output_type": "stream",
     "text": [
      "/home/allenwu/anaconda3/envs/marllib/lib/python3.8/site-packages/ray/rllib/utils/metrics/learner_info.py:64: RuntimeWarning: Mean of empty slice\n",
      "  lambda *s: None if s[0] is None else np.nanmean(s, axis=0),\n",
      "/home/allenwu/anaconda3/envs/marllib/lib/python3.8/site-packages/ray/rllib/utils/metrics/learner_info.py:64: RuntimeWarning: Mean of empty slice\n",
      "  lambda *s: None if s[0] is None else np.nanmean(s, axis=0),\n",
      "/home/allenwu/anaconda3/envs/marllib/lib/python3.8/site-packages/ray/rllib/utils/metrics/learner_info.py:64: RuntimeWarning: Mean of empty slice\n",
      "  lambda *s: None if s[0] is None else np.nanmean(s, axis=0),\n",
      "/home/allenwu/anaconda3/envs/marllib/lib/python3.8/site-packages/ray/rllib/utils/metrics/learner_info.py:64: RuntimeWarning: Mean of empty slice\n",
      "  lambda *s: None if s[0] is None else np.nanmean(s, axis=0),\n",
      "/home/allenwu/anaconda3/envs/marllib/lib/python3.8/site-packages/ray/rllib/utils/metrics/learner_info.py:64: RuntimeWarning: Mean of empty slice\n",
      "  lambda *s: None if s[0] is None else np.nanmean(s, axis=0),\n",
      "/home/allenwu/anaconda3/envs/marllib/lib/python3.8/site-packages/ray/rllib/utils/metrics/learner_info.py:64: RuntimeWarning: Mean of empty slice\n",
      "  lambda *s: None if s[0] is None else np.nanmean(s, axis=0),\n"
     ]
    },
    {
     "name": "stdout",
     "output_type": "stream",
     "text": [
      "== Status ==\n",
      "Current time: 2023-09-21 01:48:06 (running for 00:04:58.20)\n",
      "Memory usage on this node: 8.4/31.2 GiB\n",
      "Using FIFO scheduling algorithm.\n",
      "Resources requested: 3.0/24 CPUs, 1.0/0 GPUs, 0.0/15.61 GiB heap, 0.0/7.8 GiB objects (0.0/1.0 accelerator_type:G)\n",
      "Result logdir: /home/allenwu/Desktop/work/MARLlib-1.0.3/exp_results/happo_gru_CityLearn_5e-07_0.0005_APPEND-DATA_seed-2\n",
      "Number of trials: 1/1 (1 RUNNING)\n",
      "\n",
      "\n"
     ]
    },
    {
     "name": "stderr",
     "output_type": "stream",
     "text": [
      "/home/allenwu/anaconda3/envs/marllib/lib/python3.8/site-packages/ray/rllib/utils/metrics/learner_info.py:64: RuntimeWarning: Mean of empty slice\n",
      "  lambda *s: None if s[0] is None else np.nanmean(s, axis=0),\n",
      "/home/allenwu/anaconda3/envs/marllib/lib/python3.8/site-packages/ray/rllib/utils/metrics/learner_info.py:64: RuntimeWarning: Mean of empty slice\n",
      "  lambda *s: None if s[0] is None else np.nanmean(s, axis=0),\n",
      "/home/allenwu/anaconda3/envs/marllib/lib/python3.8/site-packages/ray/rllib/utils/metrics/learner_info.py:64: RuntimeWarning: Mean of empty slice\n",
      "  lambda *s: None if s[0] is None else np.nanmean(s, axis=0),\n",
      "/home/allenwu/anaconda3/envs/marllib/lib/python3.8/site-packages/ray/rllib/utils/metrics/learner_info.py:64: RuntimeWarning: Mean of empty slice\n",
      "  lambda *s: None if s[0] is None else np.nanmean(s, axis=0),\n",
      "/home/allenwu/anaconda3/envs/marllib/lib/python3.8/site-packages/ray/rllib/utils/metrics/learner_info.py:64: RuntimeWarning: Mean of empty slice\n",
      "  lambda *s: None if s[0] is None else np.nanmean(s, axis=0),\n",
      "2023-09-21 01:48:10,141\tWARNING ray_trial_executor.py:768 -- Over the last 60 seconds, the Tune event loop has been backlogged processing new results. Consider increasing your period of result reporting to improve performance.\n",
      "/home/allenwu/anaconda3/envs/marllib/lib/python3.8/site-packages/ray/rllib/utils/metrics/learner_info.py:64: RuntimeWarning: Mean of empty slice\n",
      "  lambda *s: None if s[0] is None else np.nanmean(s, axis=0),\n"
     ]
    },
    {
     "name": "stdout",
     "output_type": "stream",
     "text": [
      "== Status ==\n",
      "Current time: 2023-09-21 01:48:12 (running for 00:05:03.63)\n",
      "Memory usage on this node: 8.4/31.2 GiB\n",
      "Using FIFO scheduling algorithm.\n",
      "Resources requested: 3.0/24 CPUs, 1.0/0 GPUs, 0.0/15.61 GiB heap, 0.0/7.8 GiB objects (0.0/1.0 accelerator_type:G)\n",
      "Result logdir: /home/allenwu/Desktop/work/MARLlib-1.0.3/exp_results/happo_gru_CityLearn_5e-07_0.0005_APPEND-DATA_seed-2\n",
      "Number of trials: 1/1 (1 RUNNING)\n",
      "\n",
      "\n"
     ]
    },
    {
     "name": "stderr",
     "output_type": "stream",
     "text": [
      "/home/allenwu/anaconda3/envs/marllib/lib/python3.8/site-packages/ray/rllib/utils/metrics/learner_info.py:64: RuntimeWarning: Mean of empty slice\n",
      "  lambda *s: None if s[0] is None else np.nanmean(s, axis=0),\n",
      "/home/allenwu/anaconda3/envs/marllib/lib/python3.8/site-packages/ray/rllib/utils/metrics/learner_info.py:64: RuntimeWarning: Mean of empty slice\n",
      "  lambda *s: None if s[0] is None else np.nanmean(s, axis=0),\n",
      "/home/allenwu/anaconda3/envs/marllib/lib/python3.8/site-packages/ray/rllib/utils/metrics/learner_info.py:64: RuntimeWarning: Mean of empty slice\n",
      "  lambda *s: None if s[0] is None else np.nanmean(s, axis=0),\n",
      "/home/allenwu/anaconda3/envs/marllib/lib/python3.8/site-packages/ray/rllib/utils/metrics/learner_info.py:64: RuntimeWarning: Mean of empty slice\n",
      "  lambda *s: None if s[0] is None else np.nanmean(s, axis=0),\n",
      "/home/allenwu/anaconda3/envs/marllib/lib/python3.8/site-packages/ray/rllib/utils/metrics/learner_info.py:64: RuntimeWarning: Mean of empty slice\n",
      "  lambda *s: None if s[0] is None else np.nanmean(s, axis=0),\n",
      "/home/allenwu/anaconda3/envs/marllib/lib/python3.8/site-packages/ray/rllib/utils/metrics/learner_info.py:64: RuntimeWarning: Mean of empty slice\n",
      "  lambda *s: None if s[0] is None else np.nanmean(s, axis=0),\n"
     ]
    },
    {
     "name": "stdout",
     "output_type": "stream",
     "text": [
      "== Status ==\n",
      "Current time: 2023-09-21 01:48:17 (running for 00:05:08.65)\n",
      "Memory usage on this node: 8.4/31.2 GiB\n",
      "Using FIFO scheduling algorithm.\n",
      "Resources requested: 3.0/24 CPUs, 1.0/0 GPUs, 0.0/15.61 GiB heap, 0.0/7.8 GiB objects (0.0/1.0 accelerator_type:G)\n",
      "Result logdir: /home/allenwu/Desktop/work/MARLlib-1.0.3/exp_results/happo_gru_CityLearn_5e-07_0.0005_APPEND-DATA_seed-2\n",
      "Number of trials: 1/1 (1 RUNNING)\n",
      "\n",
      "\n"
     ]
    },
    {
     "name": "stderr",
     "output_type": "stream",
     "text": [
      "/home/allenwu/anaconda3/envs/marllib/lib/python3.8/site-packages/ray/rllib/utils/metrics/learner_info.py:64: RuntimeWarning: Mean of empty slice\n",
      "  lambda *s: None if s[0] is None else np.nanmean(s, axis=0),\n",
      "/home/allenwu/anaconda3/envs/marllib/lib/python3.8/site-packages/ray/rllib/utils/metrics/learner_info.py:64: RuntimeWarning: Mean of empty slice\n",
      "  lambda *s: None if s[0] is None else np.nanmean(s, axis=0),\n",
      "/home/allenwu/anaconda3/envs/marllib/lib/python3.8/site-packages/ray/rllib/utils/metrics/learner_info.py:64: RuntimeWarning: Mean of empty slice\n",
      "  lambda *s: None if s[0] is None else np.nanmean(s, axis=0),\n"
     ]
    },
    {
     "name": "stdout",
     "output_type": "stream",
     "text": [
      "== Status ==\n",
      "Current time: 2023-09-21 01:48:22 (running for 00:05:13.67)\n",
      "Memory usage on this node: 8.4/31.2 GiB\n",
      "Using FIFO scheduling algorithm.\n",
      "Resources requested: 3.0/24 CPUs, 1.0/0 GPUs, 0.0/15.61 GiB heap, 0.0/7.8 GiB objects (0.0/1.0 accelerator_type:G)\n",
      "Result logdir: /home/allenwu/Desktop/work/MARLlib-1.0.3/exp_results/happo_gru_CityLearn_5e-07_0.0005_APPEND-DATA_seed-2\n",
      "Number of trials: 1/1 (1 RUNNING)\n",
      "\n",
      "\n"
     ]
    },
    {
     "name": "stderr",
     "output_type": "stream",
     "text": [
      "/home/allenwu/anaconda3/envs/marllib/lib/python3.8/site-packages/ray/rllib/utils/metrics/learner_info.py:64: RuntimeWarning: Mean of empty slice\n",
      "  lambda *s: None if s[0] is None else np.nanmean(s, axis=0),\n",
      "/home/allenwu/anaconda3/envs/marllib/lib/python3.8/site-packages/ray/rllib/utils/metrics/learner_info.py:64: RuntimeWarning: Mean of empty slice\n",
      "  lambda *s: None if s[0] is None else np.nanmean(s, axis=0),\n",
      "/home/allenwu/anaconda3/envs/marllib/lib/python3.8/site-packages/ray/rllib/utils/metrics/learner_info.py:64: RuntimeWarning: Mean of empty slice\n",
      "  lambda *s: None if s[0] is None else np.nanmean(s, axis=0),\n",
      "/home/allenwu/anaconda3/envs/marllib/lib/python3.8/site-packages/ray/rllib/utils/metrics/learner_info.py:64: RuntimeWarning: Mean of empty slice\n",
      "  lambda *s: None if s[0] is None else np.nanmean(s, axis=0),\n",
      "/home/allenwu/anaconda3/envs/marllib/lib/python3.8/site-packages/ray/rllib/utils/metrics/learner_info.py:64: RuntimeWarning: Mean of empty slice\n",
      "  lambda *s: None if s[0] is None else np.nanmean(s, axis=0),\n",
      "/home/allenwu/anaconda3/envs/marllib/lib/python3.8/site-packages/ray/rllib/utils/metrics/learner_info.py:64: RuntimeWarning: Mean of empty slice\n",
      "  lambda *s: None if s[0] is None else np.nanmean(s, axis=0),\n",
      "/home/allenwu/anaconda3/envs/marllib/lib/python3.8/site-packages/ray/rllib/utils/metrics/learner_info.py:64: RuntimeWarning: Mean of empty slice\n",
      "  lambda *s: None if s[0] is None else np.nanmean(s, axis=0),\n"
     ]
    },
    {
     "name": "stdout",
     "output_type": "stream",
     "text": [
      "== Status ==\n",
      "Current time: 2023-09-21 01:48:27 (running for 00:05:19.03)\n",
      "Memory usage on this node: 8.5/31.2 GiB\n",
      "Using FIFO scheduling algorithm.\n",
      "Resources requested: 3.0/24 CPUs, 1.0/0 GPUs, 0.0/15.61 GiB heap, 0.0/7.8 GiB objects (0.0/1.0 accelerator_type:G)\n",
      "Result logdir: /home/allenwu/Desktop/work/MARLlib-1.0.3/exp_results/happo_gru_CityLearn_5e-07_0.0005_APPEND-DATA_seed-2\n",
      "Number of trials: 1/1 (1 RUNNING)\n",
      "\n",
      "\n"
     ]
    },
    {
     "name": "stderr",
     "output_type": "stream",
     "text": [
      "/home/allenwu/anaconda3/envs/marllib/lib/python3.8/site-packages/ray/rllib/utils/metrics/learner_info.py:64: RuntimeWarning: Mean of empty slice\n",
      "  lambda *s: None if s[0] is None else np.nanmean(s, axis=0),\n",
      "/home/allenwu/anaconda3/envs/marllib/lib/python3.8/site-packages/ray/rllib/utils/metrics/learner_info.py:64: RuntimeWarning: Mean of empty slice\n",
      "  lambda *s: None if s[0] is None else np.nanmean(s, axis=0),\n",
      "/home/allenwu/anaconda3/envs/marllib/lib/python3.8/site-packages/ray/rllib/utils/metrics/learner_info.py:64: RuntimeWarning: Mean of empty slice\n",
      "  lambda *s: None if s[0] is None else np.nanmean(s, axis=0),\n",
      "/home/allenwu/anaconda3/envs/marllib/lib/python3.8/site-packages/ray/rllib/utils/metrics/learner_info.py:64: RuntimeWarning: Mean of empty slice\n",
      "  lambda *s: None if s[0] is None else np.nanmean(s, axis=0),\n",
      "/home/allenwu/anaconda3/envs/marllib/lib/python3.8/site-packages/ray/rllib/utils/metrics/learner_info.py:64: RuntimeWarning: Mean of empty slice\n",
      "  lambda *s: None if s[0] is None else np.nanmean(s, axis=0),\n",
      "/home/allenwu/anaconda3/envs/marllib/lib/python3.8/site-packages/ray/rllib/utils/metrics/learner_info.py:64: RuntimeWarning: Mean of empty slice\n",
      "  lambda *s: None if s[0] is None else np.nanmean(s, axis=0),\n",
      "/home/allenwu/anaconda3/envs/marllib/lib/python3.8/site-packages/ray/rllib/utils/metrics/learner_info.py:64: RuntimeWarning: Mean of empty slice\n",
      "  lambda *s: None if s[0] is None else np.nanmean(s, axis=0),\n",
      "/home/allenwu/anaconda3/envs/marllib/lib/python3.8/site-packages/ray/rllib/utils/metrics/learner_info.py:64: RuntimeWarning: Mean of empty slice\n",
      "  lambda *s: None if s[0] is None else np.nanmean(s, axis=0),\n"
     ]
    },
    {
     "name": "stdout",
     "output_type": "stream",
     "text": [
      "== Status ==\n",
      "Current time: 2023-09-21 01:48:33 (running for 00:05:24.40)\n",
      "Memory usage on this node: 8.5/31.2 GiB\n",
      "Using FIFO scheduling algorithm.\n",
      "Resources requested: 3.0/24 CPUs, 1.0/0 GPUs, 0.0/15.61 GiB heap, 0.0/7.8 GiB objects (0.0/1.0 accelerator_type:G)\n",
      "Result logdir: /home/allenwu/Desktop/work/MARLlib-1.0.3/exp_results/happo_gru_CityLearn_5e-07_0.0005_APPEND-DATA_seed-2\n",
      "Number of trials: 1/1 (1 RUNNING)\n",
      "\n",
      "\n"
     ]
    },
    {
     "name": "stderr",
     "output_type": "stream",
     "text": [
      "/home/allenwu/anaconda3/envs/marllib/lib/python3.8/site-packages/ray/rllib/utils/metrics/learner_info.py:64: RuntimeWarning: Mean of empty slice\n",
      "  lambda *s: None if s[0] is None else np.nanmean(s, axis=0),\n",
      "/home/allenwu/anaconda3/envs/marllib/lib/python3.8/site-packages/ray/rllib/utils/metrics/learner_info.py:64: RuntimeWarning: Mean of empty slice\n",
      "  lambda *s: None if s[0] is None else np.nanmean(s, axis=0),\n",
      "/home/allenwu/anaconda3/envs/marllib/lib/python3.8/site-packages/ray/rllib/utils/metrics/learner_info.py:64: RuntimeWarning: Mean of empty slice\n",
      "  lambda *s: None if s[0] is None else np.nanmean(s, axis=0),\n",
      "/home/allenwu/anaconda3/envs/marllib/lib/python3.8/site-packages/ray/rllib/utils/metrics/learner_info.py:64: RuntimeWarning: Mean of empty slice\n",
      "  lambda *s: None if s[0] is None else np.nanmean(s, axis=0),\n"
     ]
    },
    {
     "name": "stdout",
     "output_type": "stream",
     "text": [
      "== Status ==\n",
      "Current time: 2023-09-21 01:48:38 (running for 00:05:29.74)\n",
      "Memory usage on this node: 8.5/31.2 GiB\n",
      "Using FIFO scheduling algorithm.\n",
      "Resources requested: 3.0/24 CPUs, 1.0/0 GPUs, 0.0/15.61 GiB heap, 0.0/7.8 GiB objects (0.0/1.0 accelerator_type:G)\n",
      "Result logdir: /home/allenwu/Desktop/work/MARLlib-1.0.3/exp_results/happo_gru_CityLearn_5e-07_0.0005_APPEND-DATA_seed-2\n",
      "Number of trials: 1/1 (1 RUNNING)\n",
      "\n",
      "\n"
     ]
    },
    {
     "name": "stderr",
     "output_type": "stream",
     "text": [
      "/home/allenwu/anaconda3/envs/marllib/lib/python3.8/site-packages/ray/rllib/utils/metrics/learner_info.py:64: RuntimeWarning: Mean of empty slice\n",
      "  lambda *s: None if s[0] is None else np.nanmean(s, axis=0),\n",
      "/home/allenwu/anaconda3/envs/marllib/lib/python3.8/site-packages/ray/rllib/utils/metrics/learner_info.py:64: RuntimeWarning: Mean of empty slice\n",
      "  lambda *s: None if s[0] is None else np.nanmean(s, axis=0),\n",
      "/home/allenwu/anaconda3/envs/marllib/lib/python3.8/site-packages/ray/rllib/utils/metrics/learner_info.py:64: RuntimeWarning: Mean of empty slice\n",
      "  lambda *s: None if s[0] is None else np.nanmean(s, axis=0),\n",
      "/home/allenwu/anaconda3/envs/marllib/lib/python3.8/site-packages/ray/rllib/utils/metrics/learner_info.py:64: RuntimeWarning: Mean of empty slice\n",
      "  lambda *s: None if s[0] is None else np.nanmean(s, axis=0),\n"
     ]
    },
    {
     "name": "stdout",
     "output_type": "stream",
     "text": [
      "== Status ==\n",
      "Current time: 2023-09-21 01:48:43 (running for 00:05:35.07)\n",
      "Memory usage on this node: 8.6/31.2 GiB\n",
      "Using FIFO scheduling algorithm.\n",
      "Resources requested: 3.0/24 CPUs, 1.0/0 GPUs, 0.0/15.61 GiB heap, 0.0/7.8 GiB objects (0.0/1.0 accelerator_type:G)\n",
      "Result logdir: /home/allenwu/Desktop/work/MARLlib-1.0.3/exp_results/happo_gru_CityLearn_5e-07_0.0005_APPEND-DATA_seed-2\n",
      "Number of trials: 1/1 (1 RUNNING)\n",
      "\n",
      "\n"
     ]
    },
    {
     "name": "stderr",
     "output_type": "stream",
     "text": [
      "/home/allenwu/anaconda3/envs/marllib/lib/python3.8/site-packages/ray/rllib/utils/metrics/learner_info.py:64: RuntimeWarning: Mean of empty slice\n",
      "  lambda *s: None if s[0] is None else np.nanmean(s, axis=0),\n",
      "/home/allenwu/anaconda3/envs/marllib/lib/python3.8/site-packages/ray/rllib/utils/metrics/learner_info.py:64: RuntimeWarning: Mean of empty slice\n",
      "  lambda *s: None if s[0] is None else np.nanmean(s, axis=0),\n",
      "/home/allenwu/anaconda3/envs/marllib/lib/python3.8/site-packages/ray/rllib/utils/metrics/learner_info.py:64: RuntimeWarning: Mean of empty slice\n",
      "  lambda *s: None if s[0] is None else np.nanmean(s, axis=0),\n",
      "/home/allenwu/anaconda3/envs/marllib/lib/python3.8/site-packages/ray/rllib/utils/metrics/learner_info.py:64: RuntimeWarning: Mean of empty slice\n",
      "  lambda *s: None if s[0] is None else np.nanmean(s, axis=0),\n",
      "/home/allenwu/anaconda3/envs/marllib/lib/python3.8/site-packages/ray/rllib/utils/metrics/learner_info.py:64: RuntimeWarning: Mean of empty slice\n",
      "  lambda *s: None if s[0] is None else np.nanmean(s, axis=0),\n",
      "/home/allenwu/anaconda3/envs/marllib/lib/python3.8/site-packages/ray/rllib/utils/metrics/learner_info.py:64: RuntimeWarning: Mean of empty slice\n",
      "  lambda *s: None if s[0] is None else np.nanmean(s, axis=0),\n",
      "/home/allenwu/anaconda3/envs/marllib/lib/python3.8/site-packages/ray/rllib/utils/metrics/learner_info.py:64: RuntimeWarning: Mean of empty slice\n",
      "  lambda *s: None if s[0] is None else np.nanmean(s, axis=0),\n",
      "/home/allenwu/anaconda3/envs/marllib/lib/python3.8/site-packages/ray/rllib/utils/metrics/learner_info.py:64: RuntimeWarning: Mean of empty slice\n",
      "  lambda *s: None if s[0] is None else np.nanmean(s, axis=0),\n"
     ]
    },
    {
     "name": "stdout",
     "output_type": "stream",
     "text": [
      "== Status ==\n",
      "Current time: 2023-09-21 01:48:49 (running for 00:05:40.42)\n",
      "Memory usage on this node: 8.6/31.2 GiB\n",
      "Using FIFO scheduling algorithm.\n",
      "Resources requested: 3.0/24 CPUs, 1.0/0 GPUs, 0.0/15.61 GiB heap, 0.0/7.8 GiB objects (0.0/1.0 accelerator_type:G)\n",
      "Result logdir: /home/allenwu/Desktop/work/MARLlib-1.0.3/exp_results/happo_gru_CityLearn_5e-07_0.0005_APPEND-DATA_seed-2\n",
      "Number of trials: 1/1 (1 RUNNING)\n",
      "\n",
      "\n"
     ]
    },
    {
     "name": "stderr",
     "output_type": "stream",
     "text": [
      "/home/allenwu/anaconda3/envs/marllib/lib/python3.8/site-packages/ray/rllib/utils/metrics/learner_info.py:64: RuntimeWarning: Mean of empty slice\n",
      "  lambda *s: None if s[0] is None else np.nanmean(s, axis=0),\n",
      "/home/allenwu/anaconda3/envs/marllib/lib/python3.8/site-packages/ray/rllib/utils/metrics/learner_info.py:64: RuntimeWarning: Mean of empty slice\n",
      "  lambda *s: None if s[0] is None else np.nanmean(s, axis=0),\n",
      "/home/allenwu/anaconda3/envs/marllib/lib/python3.8/site-packages/ray/rllib/utils/metrics/learner_info.py:64: RuntimeWarning: Mean of empty slice\n",
      "  lambda *s: None if s[0] is None else np.nanmean(s, axis=0),\n",
      "/home/allenwu/anaconda3/envs/marllib/lib/python3.8/site-packages/ray/rllib/utils/metrics/learner_info.py:64: RuntimeWarning: Mean of empty slice\n",
      "  lambda *s: None if s[0] is None else np.nanmean(s, axis=0),\n",
      "/home/allenwu/anaconda3/envs/marllib/lib/python3.8/site-packages/ray/rllib/utils/metrics/learner_info.py:64: RuntimeWarning: Mean of empty slice\n",
      "  lambda *s: None if s[0] is None else np.nanmean(s, axis=0),\n",
      "/home/allenwu/anaconda3/envs/marllib/lib/python3.8/site-packages/ray/rllib/utils/metrics/learner_info.py:64: RuntimeWarning: Mean of empty slice\n",
      "  lambda *s: None if s[0] is None else np.nanmean(s, axis=0),\n"
     ]
    },
    {
     "name": "stdout",
     "output_type": "stream",
     "text": [
      "== Status ==\n",
      "Current time: 2023-09-21 01:48:54 (running for 00:05:45.74)\n",
      "Memory usage on this node: 8.6/31.2 GiB\n",
      "Using FIFO scheduling algorithm.\n",
      "Resources requested: 3.0/24 CPUs, 1.0/0 GPUs, 0.0/15.61 GiB heap, 0.0/7.8 GiB objects (0.0/1.0 accelerator_type:G)\n",
      "Result logdir: /home/allenwu/Desktop/work/MARLlib-1.0.3/exp_results/happo_gru_CityLearn_5e-07_0.0005_APPEND-DATA_seed-2\n",
      "Number of trials: 1/1 (1 RUNNING)\n",
      "\n",
      "\n"
     ]
    },
    {
     "name": "stderr",
     "output_type": "stream",
     "text": [
      "/home/allenwu/anaconda3/envs/marllib/lib/python3.8/site-packages/ray/rllib/utils/metrics/learner_info.py:64: RuntimeWarning: Mean of empty slice\n",
      "  lambda *s: None if s[0] is None else np.nanmean(s, axis=0),\n",
      "/home/allenwu/anaconda3/envs/marllib/lib/python3.8/site-packages/ray/rllib/utils/metrics/learner_info.py:64: RuntimeWarning: Mean of empty slice\n",
      "  lambda *s: None if s[0] is None else np.nanmean(s, axis=0),\n",
      "/home/allenwu/anaconda3/envs/marllib/lib/python3.8/site-packages/ray/rllib/utils/metrics/learner_info.py:64: RuntimeWarning: Mean of empty slice\n",
      "  lambda *s: None if s[0] is None else np.nanmean(s, axis=0),\n",
      "/home/allenwu/anaconda3/envs/marllib/lib/python3.8/site-packages/ray/rllib/utils/metrics/learner_info.py:64: RuntimeWarning: Mean of empty slice\n",
      "  lambda *s: None if s[0] is None else np.nanmean(s, axis=0),\n",
      "/home/allenwu/anaconda3/envs/marllib/lib/python3.8/site-packages/ray/rllib/utils/metrics/learner_info.py:64: RuntimeWarning: Mean of empty slice\n",
      "  lambda *s: None if s[0] is None else np.nanmean(s, axis=0),\n",
      "/home/allenwu/anaconda3/envs/marllib/lib/python3.8/site-packages/ray/rllib/utils/metrics/learner_info.py:64: RuntimeWarning: Mean of empty slice\n",
      "  lambda *s: None if s[0] is None else np.nanmean(s, axis=0),\n"
     ]
    },
    {
     "name": "stdout",
     "output_type": "stream",
     "text": [
      "== Status ==\n",
      "Current time: 2023-09-21 01:48:59 (running for 00:05:51.06)\n",
      "Memory usage on this node: 8.6/31.2 GiB\n",
      "Using FIFO scheduling algorithm.\n",
      "Resources requested: 3.0/24 CPUs, 1.0/0 GPUs, 0.0/15.61 GiB heap, 0.0/7.8 GiB objects (0.0/1.0 accelerator_type:G)\n",
      "Result logdir: /home/allenwu/Desktop/work/MARLlib-1.0.3/exp_results/happo_gru_CityLearn_5e-07_0.0005_APPEND-DATA_seed-2\n",
      "Number of trials: 1/1 (1 RUNNING)\n",
      "\n",
      "\n"
     ]
    },
    {
     "name": "stderr",
     "output_type": "stream",
     "text": [
      "/home/allenwu/anaconda3/envs/marllib/lib/python3.8/site-packages/ray/rllib/utils/metrics/learner_info.py:64: RuntimeWarning: Mean of empty slice\n",
      "  lambda *s: None if s[0] is None else np.nanmean(s, axis=0),\n",
      "/home/allenwu/anaconda3/envs/marllib/lib/python3.8/site-packages/ray/rllib/utils/metrics/learner_info.py:64: RuntimeWarning: Mean of empty slice\n",
      "  lambda *s: None if s[0] is None else np.nanmean(s, axis=0),\n",
      "/home/allenwu/anaconda3/envs/marllib/lib/python3.8/site-packages/ray/rllib/utils/metrics/learner_info.py:64: RuntimeWarning: Mean of empty slice\n",
      "  lambda *s: None if s[0] is None else np.nanmean(s, axis=0),\n",
      "/home/allenwu/anaconda3/envs/marllib/lib/python3.8/site-packages/ray/rllib/utils/metrics/learner_info.py:64: RuntimeWarning: Mean of empty slice\n",
      "  lambda *s: None if s[0] is None else np.nanmean(s, axis=0),\n",
      "/home/allenwu/anaconda3/envs/marllib/lib/python3.8/site-packages/ray/rllib/utils/metrics/learner_info.py:64: RuntimeWarning: Mean of empty slice\n",
      "  lambda *s: None if s[0] is None else np.nanmean(s, axis=0),\n"
     ]
    },
    {
     "name": "stdout",
     "output_type": "stream",
     "text": [
      "== Status ==\n",
      "Current time: 2023-09-21 01:49:05 (running for 00:05:56.41)\n",
      "Memory usage on this node: 8.7/31.2 GiB\n",
      "Using FIFO scheduling algorithm.\n",
      "Resources requested: 3.0/24 CPUs, 1.0/0 GPUs, 0.0/15.61 GiB heap, 0.0/7.8 GiB objects (0.0/1.0 accelerator_type:G)\n",
      "Result logdir: /home/allenwu/Desktop/work/MARLlib-1.0.3/exp_results/happo_gru_CityLearn_5e-07_0.0005_APPEND-DATA_seed-2\n",
      "Number of trials: 1/1 (1 RUNNING)\n",
      "\n",
      "\n"
     ]
    },
    {
     "name": "stderr",
     "output_type": "stream",
     "text": [
      "/home/allenwu/anaconda3/envs/marllib/lib/python3.8/site-packages/ray/rllib/utils/metrics/learner_info.py:64: RuntimeWarning: Mean of empty slice\n",
      "  lambda *s: None if s[0] is None else np.nanmean(s, axis=0),\n",
      "/home/allenwu/anaconda3/envs/marllib/lib/python3.8/site-packages/ray/rllib/utils/metrics/learner_info.py:64: RuntimeWarning: Mean of empty slice\n",
      "  lambda *s: None if s[0] is None else np.nanmean(s, axis=0),\n",
      "/home/allenwu/anaconda3/envs/marllib/lib/python3.8/site-packages/ray/rllib/utils/metrics/learner_info.py:64: RuntimeWarning: Mean of empty slice\n",
      "  lambda *s: None if s[0] is None else np.nanmean(s, axis=0),\n",
      "/home/allenwu/anaconda3/envs/marllib/lib/python3.8/site-packages/ray/rllib/utils/metrics/learner_info.py:64: RuntimeWarning: Mean of empty slice\n",
      "  lambda *s: None if s[0] is None else np.nanmean(s, axis=0),\n",
      "/home/allenwu/anaconda3/envs/marllib/lib/python3.8/site-packages/ray/rllib/utils/metrics/learner_info.py:64: RuntimeWarning: Mean of empty slice\n",
      "  lambda *s: None if s[0] is None else np.nanmean(s, axis=0),\n",
      "/home/allenwu/anaconda3/envs/marllib/lib/python3.8/site-packages/ray/rllib/utils/metrics/learner_info.py:64: RuntimeWarning: Mean of empty slice\n",
      "  lambda *s: None if s[0] is None else np.nanmean(s, axis=0),\n",
      "/home/allenwu/anaconda3/envs/marllib/lib/python3.8/site-packages/ray/rllib/utils/metrics/learner_info.py:64: RuntimeWarning: Mean of empty slice\n",
      "  lambda *s: None if s[0] is None else np.nanmean(s, axis=0),\n",
      "/home/allenwu/anaconda3/envs/marllib/lib/python3.8/site-packages/ray/rllib/utils/metrics/learner_info.py:64: RuntimeWarning: Mean of empty slice\n",
      "  lambda *s: None if s[0] is None else np.nanmean(s, axis=0),\n",
      "/home/allenwu/anaconda3/envs/marllib/lib/python3.8/site-packages/ray/rllib/utils/metrics/learner_info.py:64: RuntimeWarning: Mean of empty slice\n",
      "  lambda *s: None if s[0] is None else np.nanmean(s, axis=0),\n",
      "2023-09-21 01:49:10,578\tWARNING ray_trial_executor.py:768 -- Over the last 60 seconds, the Tune event loop has been backlogged processing new results. Consider increasing your period of result reporting to improve performance.\n"
     ]
    },
    {
     "name": "stdout",
     "output_type": "stream",
     "text": [
      "== Status ==\n",
      "Current time: 2023-09-21 01:49:10 (running for 00:06:01.81)\n",
      "Memory usage on this node: 8.7/31.2 GiB\n",
      "Using FIFO scheduling algorithm.\n",
      "Resources requested: 3.0/24 CPUs, 1.0/0 GPUs, 0.0/15.61 GiB heap, 0.0/7.8 GiB objects (0.0/1.0 accelerator_type:G)\n",
      "Result logdir: /home/allenwu/Desktop/work/MARLlib-1.0.3/exp_results/happo_gru_CityLearn_5e-07_0.0005_APPEND-DATA_seed-2\n",
      "Number of trials: 1/1 (1 RUNNING)\n",
      "\n",
      "\n"
     ]
    },
    {
     "name": "stderr",
     "output_type": "stream",
     "text": [
      "/home/allenwu/anaconda3/envs/marllib/lib/python3.8/site-packages/ray/rllib/utils/metrics/learner_info.py:64: RuntimeWarning: Mean of empty slice\n",
      "  lambda *s: None if s[0] is None else np.nanmean(s, axis=0),\n",
      "/home/allenwu/anaconda3/envs/marllib/lib/python3.8/site-packages/ray/rllib/utils/metrics/learner_info.py:64: RuntimeWarning: Mean of empty slice\n",
      "  lambda *s: None if s[0] is None else np.nanmean(s, axis=0),\n",
      "/home/allenwu/anaconda3/envs/marllib/lib/python3.8/site-packages/ray/rllib/utils/metrics/learner_info.py:64: RuntimeWarning: Mean of empty slice\n",
      "  lambda *s: None if s[0] is None else np.nanmean(s, axis=0),\n",
      "/home/allenwu/anaconda3/envs/marllib/lib/python3.8/site-packages/ray/rllib/utils/metrics/learner_info.py:64: RuntimeWarning: Mean of empty slice\n",
      "  lambda *s: None if s[0] is None else np.nanmean(s, axis=0),\n",
      "/home/allenwu/anaconda3/envs/marllib/lib/python3.8/site-packages/ray/rllib/utils/metrics/learner_info.py:64: RuntimeWarning: Mean of empty slice\n",
      "  lambda *s: None if s[0] is None else np.nanmean(s, axis=0),\n",
      "/home/allenwu/anaconda3/envs/marllib/lib/python3.8/site-packages/ray/rllib/utils/metrics/learner_info.py:64: RuntimeWarning: Mean of empty slice\n",
      "  lambda *s: None if s[0] is None else np.nanmean(s, axis=0),\n"
     ]
    },
    {
     "name": "stdout",
     "output_type": "stream",
     "text": [
      "== Status ==\n",
      "Current time: 2023-09-21 01:49:15 (running for 00:06:07.16)\n",
      "Memory usage on this node: 8.7/31.2 GiB\n",
      "Using FIFO scheduling algorithm.\n",
      "Resources requested: 3.0/24 CPUs, 1.0/0 GPUs, 0.0/15.61 GiB heap, 0.0/7.8 GiB objects (0.0/1.0 accelerator_type:G)\n",
      "Result logdir: /home/allenwu/Desktop/work/MARLlib-1.0.3/exp_results/happo_gru_CityLearn_5e-07_0.0005_APPEND-DATA_seed-2\n",
      "Number of trials: 1/1 (1 RUNNING)\n",
      "\n",
      "\n"
     ]
    },
    {
     "name": "stderr",
     "output_type": "stream",
     "text": [
      "/home/allenwu/anaconda3/envs/marllib/lib/python3.8/site-packages/ray/rllib/utils/metrics/learner_info.py:64: RuntimeWarning: Mean of empty slice\n",
      "  lambda *s: None if s[0] is None else np.nanmean(s, axis=0),\n",
      "/home/allenwu/anaconda3/envs/marllib/lib/python3.8/site-packages/ray/rllib/utils/metrics/learner_info.py:64: RuntimeWarning: Mean of empty slice\n",
      "  lambda *s: None if s[0] is None else np.nanmean(s, axis=0),\n",
      "/home/allenwu/anaconda3/envs/marllib/lib/python3.8/site-packages/ray/rllib/utils/metrics/learner_info.py:64: RuntimeWarning: Mean of empty slice\n",
      "  lambda *s: None if s[0] is None else np.nanmean(s, axis=0),\n",
      "/home/allenwu/anaconda3/envs/marllib/lib/python3.8/site-packages/ray/rllib/utils/metrics/learner_info.py:64: RuntimeWarning: Mean of empty slice\n",
      "  lambda *s: None if s[0] is None else np.nanmean(s, axis=0),\n",
      "/home/allenwu/anaconda3/envs/marllib/lib/python3.8/site-packages/ray/rllib/utils/metrics/learner_info.py:64: RuntimeWarning: Mean of empty slice\n",
      "  lambda *s: None if s[0] is None else np.nanmean(s, axis=0),\n",
      "/home/allenwu/anaconda3/envs/marllib/lib/python3.8/site-packages/ray/rllib/utils/metrics/learner_info.py:64: RuntimeWarning: Mean of empty slice\n",
      "  lambda *s: None if s[0] is None else np.nanmean(s, axis=0),\n",
      "/home/allenwu/anaconda3/envs/marllib/lib/python3.8/site-packages/ray/rllib/utils/metrics/learner_info.py:64: RuntimeWarning: Mean of empty slice\n",
      "  lambda *s: None if s[0] is None else np.nanmean(s, axis=0),\n"
     ]
    },
    {
     "name": "stdout",
     "output_type": "stream",
     "text": [
      "== Status ==\n",
      "Current time: 2023-09-21 01:49:21 (running for 00:06:12.51)\n",
      "Memory usage on this node: 8.8/31.2 GiB\n",
      "Using FIFO scheduling algorithm.\n",
      "Resources requested: 3.0/24 CPUs, 1.0/0 GPUs, 0.0/15.61 GiB heap, 0.0/7.8 GiB objects (0.0/1.0 accelerator_type:G)\n",
      "Result logdir: /home/allenwu/Desktop/work/MARLlib-1.0.3/exp_results/happo_gru_CityLearn_5e-07_0.0005_APPEND-DATA_seed-2\n",
      "Number of trials: 1/1 (1 RUNNING)\n",
      "\n",
      "\n"
     ]
    },
    {
     "name": "stderr",
     "output_type": "stream",
     "text": [
      "/home/allenwu/anaconda3/envs/marllib/lib/python3.8/site-packages/ray/rllib/utils/metrics/learner_info.py:64: RuntimeWarning: Mean of empty slice\n",
      "  lambda *s: None if s[0] is None else np.nanmean(s, axis=0),\n",
      "/home/allenwu/anaconda3/envs/marllib/lib/python3.8/site-packages/ray/rllib/utils/metrics/learner_info.py:64: RuntimeWarning: Mean of empty slice\n",
      "  lambda *s: None if s[0] is None else np.nanmean(s, axis=0),\n",
      "/home/allenwu/anaconda3/envs/marllib/lib/python3.8/site-packages/ray/rllib/utils/metrics/learner_info.py:64: RuntimeWarning: Mean of empty slice\n",
      "  lambda *s: None if s[0] is None else np.nanmean(s, axis=0),\n"
     ]
    },
    {
     "name": "stdout",
     "output_type": "stream",
     "text": [
      "== Status ==\n",
      "Current time: 2023-09-21 01:49:26 (running for 00:06:17.84)\n",
      "Memory usage on this node: 8.8/31.2 GiB\n",
      "Using FIFO scheduling algorithm.\n",
      "Resources requested: 3.0/24 CPUs, 1.0/0 GPUs, 0.0/15.61 GiB heap, 0.0/7.8 GiB objects (0.0/1.0 accelerator_type:G)\n",
      "Result logdir: /home/allenwu/Desktop/work/MARLlib-1.0.3/exp_results/happo_gru_CityLearn_5e-07_0.0005_APPEND-DATA_seed-2\n",
      "Number of trials: 1/1 (1 RUNNING)\n",
      "\n",
      "\n"
     ]
    },
    {
     "name": "stderr",
     "output_type": "stream",
     "text": [
      "/home/allenwu/anaconda3/envs/marllib/lib/python3.8/site-packages/ray/rllib/utils/metrics/learner_info.py:64: RuntimeWarning: Mean of empty slice\n",
      "  lambda *s: None if s[0] is None else np.nanmean(s, axis=0),\n",
      "/home/allenwu/anaconda3/envs/marllib/lib/python3.8/site-packages/ray/rllib/utils/metrics/learner_info.py:64: RuntimeWarning: Mean of empty slice\n",
      "  lambda *s: None if s[0] is None else np.nanmean(s, axis=0),\n",
      "/home/allenwu/anaconda3/envs/marllib/lib/python3.8/site-packages/ray/rllib/utils/metrics/learner_info.py:64: RuntimeWarning: Mean of empty slice\n",
      "  lambda *s: None if s[0] is None else np.nanmean(s, axis=0),\n",
      "/home/allenwu/anaconda3/envs/marllib/lib/python3.8/site-packages/ray/rllib/utils/metrics/learner_info.py:64: RuntimeWarning: Mean of empty slice\n",
      "  lambda *s: None if s[0] is None else np.nanmean(s, axis=0),\n",
      "/home/allenwu/anaconda3/envs/marllib/lib/python3.8/site-packages/ray/rllib/utils/metrics/learner_info.py:64: RuntimeWarning: Mean of empty slice\n",
      "  lambda *s: None if s[0] is None else np.nanmean(s, axis=0),\n"
     ]
    },
    {
     "name": "stdout",
     "output_type": "stream",
     "text": [
      "== Status ==\n",
      "Current time: 2023-09-21 01:49:31 (running for 00:06:23.20)\n",
      "Memory usage on this node: 8.8/31.2 GiB\n",
      "Using FIFO scheduling algorithm.\n",
      "Resources requested: 3.0/24 CPUs, 1.0/0 GPUs, 0.0/15.61 GiB heap, 0.0/7.8 GiB objects (0.0/1.0 accelerator_type:G)\n",
      "Result logdir: /home/allenwu/Desktop/work/MARLlib-1.0.3/exp_results/happo_gru_CityLearn_5e-07_0.0005_APPEND-DATA_seed-2\n",
      "Number of trials: 1/1 (1 RUNNING)\n",
      "\n",
      "\n"
     ]
    },
    {
     "name": "stderr",
     "output_type": "stream",
     "text": [
      "/home/allenwu/anaconda3/envs/marllib/lib/python3.8/site-packages/ray/rllib/utils/metrics/learner_info.py:64: RuntimeWarning: Mean of empty slice\n",
      "  lambda *s: None if s[0] is None else np.nanmean(s, axis=0),\n",
      "/home/allenwu/anaconda3/envs/marllib/lib/python3.8/site-packages/ray/rllib/utils/metrics/learner_info.py:64: RuntimeWarning: Mean of empty slice\n",
      "  lambda *s: None if s[0] is None else np.nanmean(s, axis=0),\n",
      "/home/allenwu/anaconda3/envs/marllib/lib/python3.8/site-packages/ray/rllib/utils/metrics/learner_info.py:64: RuntimeWarning: Mean of empty slice\n",
      "  lambda *s: None if s[0] is None else np.nanmean(s, axis=0),\n",
      "/home/allenwu/anaconda3/envs/marllib/lib/python3.8/site-packages/ray/rllib/utils/metrics/learner_info.py:64: RuntimeWarning: Mean of empty slice\n",
      "  lambda *s: None if s[0] is None else np.nanmean(s, axis=0),\n",
      "/home/allenwu/anaconda3/envs/marllib/lib/python3.8/site-packages/ray/rllib/utils/metrics/learner_info.py:64: RuntimeWarning: Mean of empty slice\n",
      "  lambda *s: None if s[0] is None else np.nanmean(s, axis=0),\n",
      "/home/allenwu/anaconda3/envs/marllib/lib/python3.8/site-packages/ray/rllib/utils/metrics/learner_info.py:64: RuntimeWarning: Mean of empty slice\n",
      "  lambda *s: None if s[0] is None else np.nanmean(s, axis=0),\n",
      "/home/allenwu/anaconda3/envs/marllib/lib/python3.8/site-packages/ray/rllib/utils/metrics/learner_info.py:64: RuntimeWarning: Mean of empty slice\n",
      "  lambda *s: None if s[0] is None else np.nanmean(s, axis=0),\n"
     ]
    },
    {
     "name": "stdout",
     "output_type": "stream",
     "text": [
      "== Status ==\n",
      "Current time: 2023-09-21 01:49:37 (running for 00:06:28.53)\n",
      "Memory usage on this node: 8.9/31.2 GiB\n",
      "Using FIFO scheduling algorithm.\n",
      "Resources requested: 3.0/24 CPUs, 1.0/0 GPUs, 0.0/15.61 GiB heap, 0.0/7.8 GiB objects (0.0/1.0 accelerator_type:G)\n",
      "Result logdir: /home/allenwu/Desktop/work/MARLlib-1.0.3/exp_results/happo_gru_CityLearn_5e-07_0.0005_APPEND-DATA_seed-2\n",
      "Number of trials: 1/1 (1 RUNNING)\n",
      "\n",
      "\n"
     ]
    },
    {
     "name": "stderr",
     "output_type": "stream",
     "text": [
      "/home/allenwu/anaconda3/envs/marllib/lib/python3.8/site-packages/ray/rllib/utils/metrics/learner_info.py:64: RuntimeWarning: Mean of empty slice\n",
      "  lambda *s: None if s[0] is None else np.nanmean(s, axis=0),\n",
      "/home/allenwu/anaconda3/envs/marllib/lib/python3.8/site-packages/ray/rllib/utils/metrics/learner_info.py:64: RuntimeWarning: Mean of empty slice\n",
      "  lambda *s: None if s[0] is None else np.nanmean(s, axis=0),\n",
      "/home/allenwu/anaconda3/envs/marllib/lib/python3.8/site-packages/ray/rllib/utils/metrics/learner_info.py:64: RuntimeWarning: Mean of empty slice\n",
      "  lambda *s: None if s[0] is None else np.nanmean(s, axis=0),\n",
      "/home/allenwu/anaconda3/envs/marllib/lib/python3.8/site-packages/ray/rllib/utils/metrics/learner_info.py:64: RuntimeWarning: Mean of empty slice\n",
      "  lambda *s: None if s[0] is None else np.nanmean(s, axis=0),\n",
      "/home/allenwu/anaconda3/envs/marllib/lib/python3.8/site-packages/ray/rllib/utils/metrics/learner_info.py:64: RuntimeWarning: Mean of empty slice\n",
      "  lambda *s: None if s[0] is None else np.nanmean(s, axis=0),\n",
      "/home/allenwu/anaconda3/envs/marllib/lib/python3.8/site-packages/ray/rllib/utils/metrics/learner_info.py:64: RuntimeWarning: Mean of empty slice\n",
      "  lambda *s: None if s[0] is None else np.nanmean(s, axis=0),\n"
     ]
    },
    {
     "name": "stdout",
     "output_type": "stream",
     "text": [
      "== Status ==\n",
      "Current time: 2023-09-21 01:49:42 (running for 00:06:33.86)\n",
      "Memory usage on this node: 8.9/31.2 GiB\n",
      "Using FIFO scheduling algorithm.\n",
      "Resources requested: 3.0/24 CPUs, 1.0/0 GPUs, 0.0/15.61 GiB heap, 0.0/7.8 GiB objects (0.0/1.0 accelerator_type:G)\n",
      "Result logdir: /home/allenwu/Desktop/work/MARLlib-1.0.3/exp_results/happo_gru_CityLearn_5e-07_0.0005_APPEND-DATA_seed-2\n",
      "Number of trials: 1/1 (1 RUNNING)\n",
      "\n",
      "\n"
     ]
    },
    {
     "name": "stderr",
     "output_type": "stream",
     "text": [
      "/home/allenwu/anaconda3/envs/marllib/lib/python3.8/site-packages/ray/rllib/utils/metrics/learner_info.py:64: RuntimeWarning: Mean of empty slice\n",
      "  lambda *s: None if s[0] is None else np.nanmean(s, axis=0),\n",
      "/home/allenwu/anaconda3/envs/marllib/lib/python3.8/site-packages/ray/rllib/utils/metrics/learner_info.py:64: RuntimeWarning: Mean of empty slice\n",
      "  lambda *s: None if s[0] is None else np.nanmean(s, axis=0),\n",
      "/home/allenwu/anaconda3/envs/marllib/lib/python3.8/site-packages/ray/rllib/utils/metrics/learner_info.py:64: RuntimeWarning: Mean of empty slice\n",
      "  lambda *s: None if s[0] is None else np.nanmean(s, axis=0),\n",
      "/home/allenwu/anaconda3/envs/marllib/lib/python3.8/site-packages/ray/rllib/utils/metrics/learner_info.py:64: RuntimeWarning: Mean of empty slice\n",
      "  lambda *s: None if s[0] is None else np.nanmean(s, axis=0),\n",
      "/home/allenwu/anaconda3/envs/marllib/lib/python3.8/site-packages/ray/rllib/utils/metrics/learner_info.py:64: RuntimeWarning: Mean of empty slice\n",
      "  lambda *s: None if s[0] is None else np.nanmean(s, axis=0),\n",
      "/home/allenwu/anaconda3/envs/marllib/lib/python3.8/site-packages/ray/rllib/utils/metrics/learner_info.py:64: RuntimeWarning: Mean of empty slice\n",
      "  lambda *s: None if s[0] is None else np.nanmean(s, axis=0),\n",
      "/home/allenwu/anaconda3/envs/marllib/lib/python3.8/site-packages/ray/rllib/utils/metrics/learner_info.py:64: RuntimeWarning: Mean of empty slice\n",
      "  lambda *s: None if s[0] is None else np.nanmean(s, axis=0),\n",
      "/home/allenwu/anaconda3/envs/marllib/lib/python3.8/site-packages/ray/rllib/utils/metrics/learner_info.py:64: RuntimeWarning: Mean of empty slice\n",
      "  lambda *s: None if s[0] is None else np.nanmean(s, axis=0),\n",
      "/home/allenwu/anaconda3/envs/marllib/lib/python3.8/site-packages/ray/rllib/utils/metrics/learner_info.py:64: RuntimeWarning: Mean of empty slice\n",
      "  lambda *s: None if s[0] is None else np.nanmean(s, axis=0),\n",
      "/home/allenwu/anaconda3/envs/marllib/lib/python3.8/site-packages/ray/rllib/utils/metrics/learner_info.py:64: RuntimeWarning: Mean of empty slice\n",
      "  lambda *s: None if s[0] is None else np.nanmean(s, axis=0),\n"
     ]
    },
    {
     "name": "stdout",
     "output_type": "stream",
     "text": [
      "== Status ==\n",
      "Current time: 2023-09-21 01:49:47 (running for 00:06:39.18)\n",
      "Memory usage on this node: 8.9/31.2 GiB\n",
      "Using FIFO scheduling algorithm.\n",
      "Resources requested: 3.0/24 CPUs, 1.0/0 GPUs, 0.0/15.61 GiB heap, 0.0/7.8 GiB objects (0.0/1.0 accelerator_type:G)\n",
      "Result logdir: /home/allenwu/Desktop/work/MARLlib-1.0.3/exp_results/happo_gru_CityLearn_5e-07_0.0005_APPEND-DATA_seed-2\n",
      "Number of trials: 1/1 (1 RUNNING)\n",
      "\n",
      "\n"
     ]
    },
    {
     "name": "stderr",
     "output_type": "stream",
     "text": [
      "/home/allenwu/anaconda3/envs/marllib/lib/python3.8/site-packages/ray/rllib/utils/metrics/learner_info.py:64: RuntimeWarning: Mean of empty slice\n",
      "  lambda *s: None if s[0] is None else np.nanmean(s, axis=0),\n",
      "/home/allenwu/anaconda3/envs/marllib/lib/python3.8/site-packages/ray/rllib/utils/metrics/learner_info.py:64: RuntimeWarning: Mean of empty slice\n",
      "  lambda *s: None if s[0] is None else np.nanmean(s, axis=0),\n",
      "/home/allenwu/anaconda3/envs/marllib/lib/python3.8/site-packages/ray/rllib/utils/metrics/learner_info.py:64: RuntimeWarning: Mean of empty slice\n",
      "  lambda *s: None if s[0] is None else np.nanmean(s, axis=0),\n"
     ]
    },
    {
     "name": "stdout",
     "output_type": "stream",
     "text": [
      "== Status ==\n",
      "Current time: 2023-09-21 01:49:53 (running for 00:06:44.55)\n",
      "Memory usage on this node: 8.9/31.2 GiB\n",
      "Using FIFO scheduling algorithm.\n",
      "Resources requested: 3.0/24 CPUs, 1.0/0 GPUs, 0.0/15.61 GiB heap, 0.0/7.8 GiB objects (0.0/1.0 accelerator_type:G)\n",
      "Result logdir: /home/allenwu/Desktop/work/MARLlib-1.0.3/exp_results/happo_gru_CityLearn_5e-07_0.0005_APPEND-DATA_seed-2\n",
      "Number of trials: 1/1 (1 RUNNING)\n",
      "\n",
      "\n"
     ]
    },
    {
     "name": "stderr",
     "output_type": "stream",
     "text": [
      "/home/allenwu/anaconda3/envs/marllib/lib/python3.8/site-packages/ray/rllib/utils/metrics/learner_info.py:64: RuntimeWarning: Mean of empty slice\n",
      "  lambda *s: None if s[0] is None else np.nanmean(s, axis=0),\n",
      "/home/allenwu/anaconda3/envs/marllib/lib/python3.8/site-packages/ray/rllib/utils/metrics/learner_info.py:64: RuntimeWarning: Mean of empty slice\n",
      "  lambda *s: None if s[0] is None else np.nanmean(s, axis=0),\n",
      "/home/allenwu/anaconda3/envs/marllib/lib/python3.8/site-packages/ray/rllib/utils/metrics/learner_info.py:64: RuntimeWarning: Mean of empty slice\n",
      "  lambda *s: None if s[0] is None else np.nanmean(s, axis=0),\n",
      "/home/allenwu/anaconda3/envs/marllib/lib/python3.8/site-packages/ray/rllib/utils/metrics/learner_info.py:64: RuntimeWarning: Mean of empty slice\n",
      "  lambda *s: None if s[0] is None else np.nanmean(s, axis=0),\n",
      "/home/allenwu/anaconda3/envs/marllib/lib/python3.8/site-packages/ray/rllib/utils/metrics/learner_info.py:64: RuntimeWarning: Mean of empty slice\n",
      "  lambda *s: None if s[0] is None else np.nanmean(s, axis=0),\n"
     ]
    },
    {
     "name": "stdout",
     "output_type": "stream",
     "text": [
      "== Status ==\n",
      "Current time: 2023-09-21 01:49:58 (running for 00:06:49.77)\n",
      "Memory usage on this node: 8.9/31.2 GiB\n",
      "Using FIFO scheduling algorithm.\n",
      "Resources requested: 3.0/24 CPUs, 1.0/0 GPUs, 0.0/15.61 GiB heap, 0.0/7.8 GiB objects (0.0/1.0 accelerator_type:G)\n",
      "Result logdir: /home/allenwu/Desktop/work/MARLlib-1.0.3/exp_results/happo_gru_CityLearn_5e-07_0.0005_APPEND-DATA_seed-2\n",
      "Number of trials: 1/1 (1 RUNNING)\n",
      "\n",
      "\n"
     ]
    },
    {
     "name": "stderr",
     "output_type": "stream",
     "text": [
      "/home/allenwu/anaconda3/envs/marllib/lib/python3.8/site-packages/ray/rllib/utils/metrics/learner_info.py:64: RuntimeWarning: Mean of empty slice\n",
      "  lambda *s: None if s[0] is None else np.nanmean(s, axis=0),\n",
      "/home/allenwu/anaconda3/envs/marllib/lib/python3.8/site-packages/ray/rllib/utils/metrics/learner_info.py:64: RuntimeWarning: Mean of empty slice\n",
      "  lambda *s: None if s[0] is None else np.nanmean(s, axis=0),\n",
      "/home/allenwu/anaconda3/envs/marllib/lib/python3.8/site-packages/ray/rllib/utils/metrics/learner_info.py:64: RuntimeWarning: Mean of empty slice\n",
      "  lambda *s: None if s[0] is None else np.nanmean(s, axis=0),\n"
     ]
    },
    {
     "name": "stdout",
     "output_type": "stream",
     "text": [
      "== Status ==\n",
      "Current time: 2023-09-21 01:50:03 (running for 00:06:55.01)\n",
      "Memory usage on this node: 9.0/31.2 GiB\n",
      "Using FIFO scheduling algorithm.\n",
      "Resources requested: 3.0/24 CPUs, 1.0/0 GPUs, 0.0/15.61 GiB heap, 0.0/7.8 GiB objects (0.0/1.0 accelerator_type:G)\n",
      "Result logdir: /home/allenwu/Desktop/work/MARLlib-1.0.3/exp_results/happo_gru_CityLearn_5e-07_0.0005_APPEND-DATA_seed-2\n",
      "Number of trials: 1/1 (1 RUNNING)\n",
      "\n",
      "\n"
     ]
    },
    {
     "name": "stderr",
     "output_type": "stream",
     "text": [
      "/home/allenwu/anaconda3/envs/marllib/lib/python3.8/site-packages/ray/rllib/utils/metrics/learner_info.py:64: RuntimeWarning: Mean of empty slice\n",
      "  lambda *s: None if s[0] is None else np.nanmean(s, axis=0),\n",
      "/home/allenwu/anaconda3/envs/marllib/lib/python3.8/site-packages/ray/rllib/utils/metrics/learner_info.py:64: RuntimeWarning: Mean of empty slice\n",
      "  lambda *s: None if s[0] is None else np.nanmean(s, axis=0),\n",
      "/home/allenwu/anaconda3/envs/marllib/lib/python3.8/site-packages/ray/rllib/utils/metrics/learner_info.py:64: RuntimeWarning: Mean of empty slice\n",
      "  lambda *s: None if s[0] is None else np.nanmean(s, axis=0),\n",
      "/home/allenwu/anaconda3/envs/marllib/lib/python3.8/site-packages/ray/rllib/utils/metrics/learner_info.py:64: RuntimeWarning: Mean of empty slice\n",
      "  lambda *s: None if s[0] is None else np.nanmean(s, axis=0),\n",
      "/home/allenwu/anaconda3/envs/marllib/lib/python3.8/site-packages/ray/rllib/utils/metrics/learner_info.py:64: RuntimeWarning: Mean of empty slice\n",
      "  lambda *s: None if s[0] is None else np.nanmean(s, axis=0),\n",
      "/home/allenwu/anaconda3/envs/marllib/lib/python3.8/site-packages/ray/rllib/utils/metrics/learner_info.py:64: RuntimeWarning: Mean of empty slice\n",
      "  lambda *s: None if s[0] is None else np.nanmean(s, axis=0),\n",
      "/home/allenwu/anaconda3/envs/marllib/lib/python3.8/site-packages/ray/rllib/utils/metrics/learner_info.py:64: RuntimeWarning: Mean of empty slice\n",
      "  lambda *s: None if s[0] is None else np.nanmean(s, axis=0),\n",
      "/home/allenwu/anaconda3/envs/marllib/lib/python3.8/site-packages/ray/rllib/utils/metrics/learner_info.py:64: RuntimeWarning: Mean of empty slice\n",
      "  lambda *s: None if s[0] is None else np.nanmean(s, axis=0),\n",
      "/home/allenwu/anaconda3/envs/marllib/lib/python3.8/site-packages/ray/rllib/utils/metrics/learner_info.py:64: RuntimeWarning: Mean of empty slice\n",
      "  lambda *s: None if s[0] is None else np.nanmean(s, axis=0),\n"
     ]
    },
    {
     "name": "stdout",
     "output_type": "stream",
     "text": [
      "== Status ==\n",
      "Current time: 2023-09-21 01:50:09 (running for 00:07:00.29)\n",
      "Memory usage on this node: 9.0/31.2 GiB\n",
      "Using FIFO scheduling algorithm.\n",
      "Resources requested: 3.0/24 CPUs, 1.0/0 GPUs, 0.0/15.61 GiB heap, 0.0/7.8 GiB objects (0.0/1.0 accelerator_type:G)\n",
      "Result logdir: /home/allenwu/Desktop/work/MARLlib-1.0.3/exp_results/happo_gru_CityLearn_5e-07_0.0005_APPEND-DATA_seed-2\n",
      "Number of trials: 1/1 (1 RUNNING)\n",
      "\n",
      "\n"
     ]
    },
    {
     "name": "stderr",
     "output_type": "stream",
     "text": [
      "/home/allenwu/anaconda3/envs/marllib/lib/python3.8/site-packages/ray/rllib/utils/metrics/learner_info.py:64: RuntimeWarning: Mean of empty slice\n",
      "  lambda *s: None if s[0] is None else np.nanmean(s, axis=0),\n",
      "2023-09-21 01:50:10,801\tWARNING ray_trial_executor.py:768 -- Over the last 60 seconds, the Tune event loop has been backlogged processing new results. Consider increasing your period of result reporting to improve performance.\n",
      "/home/allenwu/anaconda3/envs/marllib/lib/python3.8/site-packages/ray/rllib/utils/metrics/learner_info.py:64: RuntimeWarning: Mean of empty slice\n",
      "  lambda *s: None if s[0] is None else np.nanmean(s, axis=0),\n",
      "/home/allenwu/anaconda3/envs/marllib/lib/python3.8/site-packages/ray/rllib/utils/metrics/learner_info.py:64: RuntimeWarning: Mean of empty slice\n",
      "  lambda *s: None if s[0] is None else np.nanmean(s, axis=0),\n",
      "/home/allenwu/anaconda3/envs/marllib/lib/python3.8/site-packages/ray/rllib/utils/metrics/learner_info.py:64: RuntimeWarning: Mean of empty slice\n",
      "  lambda *s: None if s[0] is None else np.nanmean(s, axis=0),\n",
      "/home/allenwu/anaconda3/envs/marllib/lib/python3.8/site-packages/ray/rllib/utils/metrics/learner_info.py:64: RuntimeWarning: Mean of empty slice\n",
      "  lambda *s: None if s[0] is None else np.nanmean(s, axis=0),\n",
      "/home/allenwu/anaconda3/envs/marllib/lib/python3.8/site-packages/ray/rllib/utils/metrics/learner_info.py:64: RuntimeWarning: Mean of empty slice\n",
      "  lambda *s: None if s[0] is None else np.nanmean(s, axis=0),\n"
     ]
    },
    {
     "name": "stdout",
     "output_type": "stream",
     "text": [
      "== Status ==\n",
      "Current time: 2023-09-21 01:50:14 (running for 00:07:05.56)\n",
      "Memory usage on this node: 9.0/31.2 GiB\n",
      "Using FIFO scheduling algorithm.\n",
      "Resources requested: 3.0/24 CPUs, 1.0/0 GPUs, 0.0/15.61 GiB heap, 0.0/7.8 GiB objects (0.0/1.0 accelerator_type:G)\n",
      "Result logdir: /home/allenwu/Desktop/work/MARLlib-1.0.3/exp_results/happo_gru_CityLearn_5e-07_0.0005_APPEND-DATA_seed-2\n",
      "Number of trials: 1/1 (1 RUNNING)\n",
      "\n",
      "\n"
     ]
    },
    {
     "name": "stderr",
     "output_type": "stream",
     "text": [
      "/home/allenwu/anaconda3/envs/marllib/lib/python3.8/site-packages/ray/rllib/utils/metrics/learner_info.py:64: RuntimeWarning: Mean of empty slice\n",
      "  lambda *s: None if s[0] is None else np.nanmean(s, axis=0),\n",
      "/home/allenwu/anaconda3/envs/marllib/lib/python3.8/site-packages/ray/rllib/utils/metrics/learner_info.py:64: RuntimeWarning: Mean of empty slice\n",
      "  lambda *s: None if s[0] is None else np.nanmean(s, axis=0),\n",
      "/home/allenwu/anaconda3/envs/marllib/lib/python3.8/site-packages/ray/rllib/utils/metrics/learner_info.py:64: RuntimeWarning: Mean of empty slice\n",
      "  lambda *s: None if s[0] is None else np.nanmean(s, axis=0),\n",
      "/home/allenwu/anaconda3/envs/marllib/lib/python3.8/site-packages/ray/rllib/utils/metrics/learner_info.py:64: RuntimeWarning: Mean of empty slice\n",
      "  lambda *s: None if s[0] is None else np.nanmean(s, axis=0),\n",
      "/home/allenwu/anaconda3/envs/marllib/lib/python3.8/site-packages/ray/rllib/utils/metrics/learner_info.py:64: RuntimeWarning: Mean of empty slice\n",
      "  lambda *s: None if s[0] is None else np.nanmean(s, axis=0),\n",
      "/home/allenwu/anaconda3/envs/marllib/lib/python3.8/site-packages/ray/rllib/utils/metrics/learner_info.py:64: RuntimeWarning: Mean of empty slice\n",
      "  lambda *s: None if s[0] is None else np.nanmean(s, axis=0),\n",
      "/home/allenwu/anaconda3/envs/marllib/lib/python3.8/site-packages/ray/rllib/utils/metrics/learner_info.py:64: RuntimeWarning: Mean of empty slice\n",
      "  lambda *s: None if s[0] is None else np.nanmean(s, axis=0),\n"
     ]
    },
    {
     "name": "stdout",
     "output_type": "stream",
     "text": [
      "== Status ==\n",
      "Current time: 2023-09-21 01:50:19 (running for 00:07:10.78)\n",
      "Memory usage on this node: 9.1/31.2 GiB\n",
      "Using FIFO scheduling algorithm.\n",
      "Resources requested: 3.0/24 CPUs, 1.0/0 GPUs, 0.0/15.61 GiB heap, 0.0/7.8 GiB objects (0.0/1.0 accelerator_type:G)\n",
      "Result logdir: /home/allenwu/Desktop/work/MARLlib-1.0.3/exp_results/happo_gru_CityLearn_5e-07_0.0005_APPEND-DATA_seed-2\n",
      "Number of trials: 1/1 (1 RUNNING)\n",
      "\n",
      "\n"
     ]
    },
    {
     "name": "stderr",
     "output_type": "stream",
     "text": [
      "/home/allenwu/anaconda3/envs/marllib/lib/python3.8/site-packages/ray/rllib/utils/metrics/learner_info.py:64: RuntimeWarning: Mean of empty slice\n",
      "  lambda *s: None if s[0] is None else np.nanmean(s, axis=0),\n",
      "/home/allenwu/anaconda3/envs/marllib/lib/python3.8/site-packages/ray/rllib/utils/metrics/learner_info.py:64: RuntimeWarning: Mean of empty slice\n",
      "  lambda *s: None if s[0] is None else np.nanmean(s, axis=0),\n",
      "/home/allenwu/anaconda3/envs/marllib/lib/python3.8/site-packages/ray/rllib/utils/metrics/learner_info.py:64: RuntimeWarning: Mean of empty slice\n",
      "  lambda *s: None if s[0] is None else np.nanmean(s, axis=0),\n",
      "/home/allenwu/anaconda3/envs/marllib/lib/python3.8/site-packages/ray/rllib/utils/metrics/learner_info.py:64: RuntimeWarning: Mean of empty slice\n",
      "  lambda *s: None if s[0] is None else np.nanmean(s, axis=0),\n",
      "/home/allenwu/anaconda3/envs/marllib/lib/python3.8/site-packages/ray/rllib/utils/metrics/learner_info.py:64: RuntimeWarning: Mean of empty slice\n",
      "  lambda *s: None if s[0] is None else np.nanmean(s, axis=0),\n"
     ]
    },
    {
     "name": "stdout",
     "output_type": "stream",
     "text": [
      "== Status ==\n",
      "Current time: 2023-09-21 01:50:24 (running for 00:07:16.03)\n",
      "Memory usage on this node: 9.1/31.2 GiB\n",
      "Using FIFO scheduling algorithm.\n",
      "Resources requested: 3.0/24 CPUs, 1.0/0 GPUs, 0.0/15.61 GiB heap, 0.0/7.8 GiB objects (0.0/1.0 accelerator_type:G)\n",
      "Result logdir: /home/allenwu/Desktop/work/MARLlib-1.0.3/exp_results/happo_gru_CityLearn_5e-07_0.0005_APPEND-DATA_seed-2\n",
      "Number of trials: 1/1 (1 RUNNING)\n",
      "\n",
      "\n"
     ]
    },
    {
     "name": "stderr",
     "output_type": "stream",
     "text": [
      "/home/allenwu/anaconda3/envs/marllib/lib/python3.8/site-packages/ray/rllib/utils/metrics/learner_info.py:64: RuntimeWarning: Mean of empty slice\n",
      "  lambda *s: None if s[0] is None else np.nanmean(s, axis=0),\n",
      "/home/allenwu/anaconda3/envs/marllib/lib/python3.8/site-packages/ray/rllib/utils/metrics/learner_info.py:64: RuntimeWarning: Mean of empty slice\n",
      "  lambda *s: None if s[0] is None else np.nanmean(s, axis=0),\n",
      "/home/allenwu/anaconda3/envs/marllib/lib/python3.8/site-packages/ray/rllib/utils/metrics/learner_info.py:64: RuntimeWarning: Mean of empty slice\n",
      "  lambda *s: None if s[0] is None else np.nanmean(s, axis=0),\n",
      "/home/allenwu/anaconda3/envs/marllib/lib/python3.8/site-packages/ray/rllib/utils/metrics/learner_info.py:64: RuntimeWarning: Mean of empty slice\n",
      "  lambda *s: None if s[0] is None else np.nanmean(s, axis=0),\n",
      "/home/allenwu/anaconda3/envs/marllib/lib/python3.8/site-packages/ray/rllib/utils/metrics/learner_info.py:64: RuntimeWarning: Mean of empty slice\n",
      "  lambda *s: None if s[0] is None else np.nanmean(s, axis=0),\n",
      "/home/allenwu/anaconda3/envs/marllib/lib/python3.8/site-packages/ray/rllib/utils/metrics/learner_info.py:64: RuntimeWarning: Mean of empty slice\n",
      "  lambda *s: None if s[0] is None else np.nanmean(s, axis=0),\n",
      "/home/allenwu/anaconda3/envs/marllib/lib/python3.8/site-packages/ray/rllib/utils/metrics/learner_info.py:64: RuntimeWarning: Mean of empty slice\n",
      "  lambda *s: None if s[0] is None else np.nanmean(s, axis=0),\n",
      "/home/allenwu/anaconda3/envs/marllib/lib/python3.8/site-packages/ray/rllib/utils/metrics/learner_info.py:64: RuntimeWarning: Mean of empty slice\n",
      "  lambda *s: None if s[0] is None else np.nanmean(s, axis=0),\n"
     ]
    },
    {
     "name": "stdout",
     "output_type": "stream",
     "text": [
      "== Status ==\n",
      "Current time: 2023-09-21 01:50:30 (running for 00:07:21.38)\n",
      "Memory usage on this node: 9.1/31.2 GiB\n",
      "Using FIFO scheduling algorithm.\n",
      "Resources requested: 3.0/24 CPUs, 1.0/0 GPUs, 0.0/15.61 GiB heap, 0.0/7.8 GiB objects (0.0/1.0 accelerator_type:G)\n",
      "Result logdir: /home/allenwu/Desktop/work/MARLlib-1.0.3/exp_results/happo_gru_CityLearn_5e-07_0.0005_APPEND-DATA_seed-2\n",
      "Number of trials: 1/1 (1 RUNNING)\n",
      "\n",
      "\n"
     ]
    },
    {
     "name": "stderr",
     "output_type": "stream",
     "text": [
      "/home/allenwu/anaconda3/envs/marllib/lib/python3.8/site-packages/ray/rllib/utils/metrics/learner_info.py:64: RuntimeWarning: Mean of empty slice\n",
      "  lambda *s: None if s[0] is None else np.nanmean(s, axis=0),\n",
      "/home/allenwu/anaconda3/envs/marllib/lib/python3.8/site-packages/ray/rllib/utils/metrics/learner_info.py:64: RuntimeWarning: Mean of empty slice\n",
      "  lambda *s: None if s[0] is None else np.nanmean(s, axis=0),\n",
      "/home/allenwu/anaconda3/envs/marllib/lib/python3.8/site-packages/ray/rllib/utils/metrics/learner_info.py:64: RuntimeWarning: Mean of empty slice\n",
      "  lambda *s: None if s[0] is None else np.nanmean(s, axis=0),\n",
      "/home/allenwu/anaconda3/envs/marllib/lib/python3.8/site-packages/ray/rllib/utils/metrics/learner_info.py:64: RuntimeWarning: Mean of empty slice\n",
      "  lambda *s: None if s[0] is None else np.nanmean(s, axis=0),\n"
     ]
    },
    {
     "name": "stdout",
     "output_type": "stream",
     "text": [
      "== Status ==\n",
      "Current time: 2023-09-21 01:50:35 (running for 00:07:26.73)\n",
      "Memory usage on this node: 9.2/31.2 GiB\n",
      "Using FIFO scheduling algorithm.\n",
      "Resources requested: 3.0/24 CPUs, 1.0/0 GPUs, 0.0/15.61 GiB heap, 0.0/7.8 GiB objects (0.0/1.0 accelerator_type:G)\n",
      "Result logdir: /home/allenwu/Desktop/work/MARLlib-1.0.3/exp_results/happo_gru_CityLearn_5e-07_0.0005_APPEND-DATA_seed-2\n",
      "Number of trials: 1/1 (1 RUNNING)\n",
      "\n",
      "\n"
     ]
    },
    {
     "name": "stderr",
     "output_type": "stream",
     "text": [
      "/home/allenwu/anaconda3/envs/marllib/lib/python3.8/site-packages/ray/rllib/utils/metrics/learner_info.py:64: RuntimeWarning: Mean of empty slice\n",
      "  lambda *s: None if s[0] is None else np.nanmean(s, axis=0),\n",
      "/home/allenwu/anaconda3/envs/marllib/lib/python3.8/site-packages/ray/rllib/utils/metrics/learner_info.py:64: RuntimeWarning: Mean of empty slice\n",
      "  lambda *s: None if s[0] is None else np.nanmean(s, axis=0),\n",
      "/home/allenwu/anaconda3/envs/marllib/lib/python3.8/site-packages/ray/rllib/utils/metrics/learner_info.py:64: RuntimeWarning: Mean of empty slice\n",
      "  lambda *s: None if s[0] is None else np.nanmean(s, axis=0),\n",
      "/home/allenwu/anaconda3/envs/marllib/lib/python3.8/site-packages/ray/rllib/utils/metrics/learner_info.py:64: RuntimeWarning: Mean of empty slice\n",
      "  lambda *s: None if s[0] is None else np.nanmean(s, axis=0),\n",
      "/home/allenwu/anaconda3/envs/marllib/lib/python3.8/site-packages/ray/rllib/utils/metrics/learner_info.py:64: RuntimeWarning: Mean of empty slice\n",
      "  lambda *s: None if s[0] is None else np.nanmean(s, axis=0),\n",
      "/home/allenwu/anaconda3/envs/marllib/lib/python3.8/site-packages/ray/rllib/utils/metrics/learner_info.py:64: RuntimeWarning: Mean of empty slice\n",
      "  lambda *s: None if s[0] is None else np.nanmean(s, axis=0),\n",
      "/home/allenwu/anaconda3/envs/marllib/lib/python3.8/site-packages/ray/rllib/utils/metrics/learner_info.py:64: RuntimeWarning: Mean of empty slice\n",
      "  lambda *s: None if s[0] is None else np.nanmean(s, axis=0),\n"
     ]
    },
    {
     "name": "stdout",
     "output_type": "stream",
     "text": [
      "== Status ==\n",
      "Current time: 2023-09-21 01:50:40 (running for 00:07:32.00)\n",
      "Memory usage on this node: 9.2/31.2 GiB\n",
      "Using FIFO scheduling algorithm.\n",
      "Resources requested: 3.0/24 CPUs, 1.0/0 GPUs, 0.0/15.61 GiB heap, 0.0/7.8 GiB objects (0.0/1.0 accelerator_type:G)\n",
      "Result logdir: /home/allenwu/Desktop/work/MARLlib-1.0.3/exp_results/happo_gru_CityLearn_5e-07_0.0005_APPEND-DATA_seed-2\n",
      "Number of trials: 1/1 (1 RUNNING)\n",
      "\n",
      "\n"
     ]
    },
    {
     "name": "stderr",
     "output_type": "stream",
     "text": [
      "/home/allenwu/anaconda3/envs/marllib/lib/python3.8/site-packages/ray/rllib/utils/metrics/learner_info.py:64: RuntimeWarning: Mean of empty slice\n",
      "  lambda *s: None if s[0] is None else np.nanmean(s, axis=0),\n",
      "/home/allenwu/anaconda3/envs/marllib/lib/python3.8/site-packages/ray/rllib/utils/metrics/learner_info.py:64: RuntimeWarning: Mean of empty slice\n",
      "  lambda *s: None if s[0] is None else np.nanmean(s, axis=0),\n",
      "/home/allenwu/anaconda3/envs/marllib/lib/python3.8/site-packages/ray/rllib/utils/metrics/learner_info.py:64: RuntimeWarning: Mean of empty slice\n",
      "  lambda *s: None if s[0] is None else np.nanmean(s, axis=0),\n",
      "/home/allenwu/anaconda3/envs/marllib/lib/python3.8/site-packages/ray/rllib/utils/metrics/learner_info.py:64: RuntimeWarning: Mean of empty slice\n",
      "  lambda *s: None if s[0] is None else np.nanmean(s, axis=0),\n",
      "/home/allenwu/anaconda3/envs/marllib/lib/python3.8/site-packages/ray/rllib/utils/metrics/learner_info.py:64: RuntimeWarning: Mean of empty slice\n",
      "  lambda *s: None if s[0] is None else np.nanmean(s, axis=0),\n",
      "/home/allenwu/anaconda3/envs/marllib/lib/python3.8/site-packages/ray/rllib/utils/metrics/learner_info.py:64: RuntimeWarning: Mean of empty slice\n",
      "  lambda *s: None if s[0] is None else np.nanmean(s, axis=0),\n",
      "/home/allenwu/anaconda3/envs/marllib/lib/python3.8/site-packages/ray/rllib/utils/metrics/learner_info.py:64: RuntimeWarning: Mean of empty slice\n",
      "  lambda *s: None if s[0] is None else np.nanmean(s, axis=0),\n",
      "/home/allenwu/anaconda3/envs/marllib/lib/python3.8/site-packages/ray/rllib/utils/metrics/learner_info.py:64: RuntimeWarning: Mean of empty slice\n",
      "  lambda *s: None if s[0] is None else np.nanmean(s, axis=0),\n",
      "/home/allenwu/anaconda3/envs/marllib/lib/python3.8/site-packages/ray/rllib/utils/metrics/learner_info.py:64: RuntimeWarning: Mean of empty slice\n",
      "  lambda *s: None if s[0] is None else np.nanmean(s, axis=0),\n"
     ]
    },
    {
     "name": "stdout",
     "output_type": "stream",
     "text": [
      "== Status ==\n",
      "Current time: 2023-09-21 01:50:46 (running for 00:07:37.37)\n",
      "Memory usage on this node: 9.2/31.2 GiB\n",
      "Using FIFO scheduling algorithm.\n",
      "Resources requested: 3.0/24 CPUs, 1.0/0 GPUs, 0.0/15.61 GiB heap, 0.0/7.8 GiB objects (0.0/1.0 accelerator_type:G)\n",
      "Result logdir: /home/allenwu/Desktop/work/MARLlib-1.0.3/exp_results/happo_gru_CityLearn_5e-07_0.0005_APPEND-DATA_seed-2\n",
      "Number of trials: 1/1 (1 RUNNING)\n",
      "\n",
      "\n"
     ]
    },
    {
     "name": "stderr",
     "output_type": "stream",
     "text": [
      "/home/allenwu/anaconda3/envs/marllib/lib/python3.8/site-packages/ray/rllib/utils/metrics/learner_info.py:64: RuntimeWarning: Mean of empty slice\n",
      "  lambda *s: None if s[0] is None else np.nanmean(s, axis=0),\n",
      "/home/allenwu/anaconda3/envs/marllib/lib/python3.8/site-packages/ray/rllib/utils/metrics/learner_info.py:64: RuntimeWarning: Mean of empty slice\n",
      "  lambda *s: None if s[0] is None else np.nanmean(s, axis=0),\n",
      "/home/allenwu/anaconda3/envs/marllib/lib/python3.8/site-packages/ray/rllib/utils/metrics/learner_info.py:64: RuntimeWarning: Mean of empty slice\n",
      "  lambda *s: None if s[0] is None else np.nanmean(s, axis=0),\n",
      "/home/allenwu/anaconda3/envs/marllib/lib/python3.8/site-packages/ray/rllib/utils/metrics/learner_info.py:64: RuntimeWarning: Mean of empty slice\n",
      "  lambda *s: None if s[0] is None else np.nanmean(s, axis=0),\n",
      "/home/allenwu/anaconda3/envs/marllib/lib/python3.8/site-packages/ray/rllib/utils/metrics/learner_info.py:64: RuntimeWarning: Mean of empty slice\n",
      "  lambda *s: None if s[0] is None else np.nanmean(s, axis=0),\n",
      "/home/allenwu/anaconda3/envs/marllib/lib/python3.8/site-packages/ray/rllib/utils/metrics/learner_info.py:64: RuntimeWarning: Mean of empty slice\n",
      "  lambda *s: None if s[0] is None else np.nanmean(s, axis=0),\n"
     ]
    },
    {
     "name": "stdout",
     "output_type": "stream",
     "text": [
      "== Status ==\n",
      "Current time: 2023-09-21 01:50:51 (running for 00:07:42.71)\n",
      "Memory usage on this node: 9.3/31.2 GiB\n",
      "Using FIFO scheduling algorithm.\n",
      "Resources requested: 3.0/24 CPUs, 1.0/0 GPUs, 0.0/15.61 GiB heap, 0.0/7.8 GiB objects (0.0/1.0 accelerator_type:G)\n",
      "Result logdir: /home/allenwu/Desktop/work/MARLlib-1.0.3/exp_results/happo_gru_CityLearn_5e-07_0.0005_APPEND-DATA_seed-2\n",
      "Number of trials: 1/1 (1 RUNNING)\n",
      "\n",
      "\n"
     ]
    },
    {
     "name": "stderr",
     "output_type": "stream",
     "text": [
      "/home/allenwu/anaconda3/envs/marllib/lib/python3.8/site-packages/ray/rllib/utils/metrics/learner_info.py:64: RuntimeWarning: Mean of empty slice\n",
      "  lambda *s: None if s[0] is None else np.nanmean(s, axis=0),\n",
      "/home/allenwu/anaconda3/envs/marllib/lib/python3.8/site-packages/ray/rllib/utils/metrics/learner_info.py:64: RuntimeWarning: Mean of empty slice\n",
      "  lambda *s: None if s[0] is None else np.nanmean(s, axis=0),\n",
      "/home/allenwu/anaconda3/envs/marllib/lib/python3.8/site-packages/ray/rllib/utils/metrics/learner_info.py:64: RuntimeWarning: Mean of empty slice\n",
      "  lambda *s: None if s[0] is None else np.nanmean(s, axis=0),\n",
      "/home/allenwu/anaconda3/envs/marllib/lib/python3.8/site-packages/ray/rllib/utils/metrics/learner_info.py:64: RuntimeWarning: Mean of empty slice\n",
      "  lambda *s: None if s[0] is None else np.nanmean(s, axis=0),\n"
     ]
    },
    {
     "name": "stdout",
     "output_type": "stream",
     "text": [
      "== Status ==\n",
      "Current time: 2023-09-21 01:50:56 (running for 00:07:48.02)\n",
      "Memory usage on this node: 9.3/31.2 GiB\n",
      "Using FIFO scheduling algorithm.\n",
      "Resources requested: 3.0/24 CPUs, 1.0/0 GPUs, 0.0/15.61 GiB heap, 0.0/7.8 GiB objects (0.0/1.0 accelerator_type:G)\n",
      "Result logdir: /home/allenwu/Desktop/work/MARLlib-1.0.3/exp_results/happo_gru_CityLearn_5e-07_0.0005_APPEND-DATA_seed-2\n",
      "Number of trials: 1/1 (1 RUNNING)\n",
      "\n",
      "\n"
     ]
    },
    {
     "name": "stderr",
     "output_type": "stream",
     "text": [
      "/home/allenwu/anaconda3/envs/marllib/lib/python3.8/site-packages/ray/rllib/utils/metrics/learner_info.py:64: RuntimeWarning: Mean of empty slice\n",
      "  lambda *s: None if s[0] is None else np.nanmean(s, axis=0),\n",
      "/home/allenwu/anaconda3/envs/marllib/lib/python3.8/site-packages/ray/rllib/utils/metrics/learner_info.py:64: RuntimeWarning: Mean of empty slice\n",
      "  lambda *s: None if s[0] is None else np.nanmean(s, axis=0),\n",
      "/home/allenwu/anaconda3/envs/marllib/lib/python3.8/site-packages/ray/rllib/utils/metrics/learner_info.py:64: RuntimeWarning: Mean of empty slice\n",
      "  lambda *s: None if s[0] is None else np.nanmean(s, axis=0),\n",
      "/home/allenwu/anaconda3/envs/marllib/lib/python3.8/site-packages/ray/rllib/utils/metrics/learner_info.py:64: RuntimeWarning: Mean of empty slice\n",
      "  lambda *s: None if s[0] is None else np.nanmean(s, axis=0),\n"
     ]
    },
    {
     "name": "stdout",
     "output_type": "stream",
     "text": [
      "== Status ==\n",
      "Current time: 2023-09-21 01:51:02 (running for 00:07:53.35)\n",
      "Memory usage on this node: 9.3/31.2 GiB\n",
      "Using FIFO scheduling algorithm.\n",
      "Resources requested: 3.0/24 CPUs, 1.0/0 GPUs, 0.0/15.61 GiB heap, 0.0/7.8 GiB objects (0.0/1.0 accelerator_type:G)\n",
      "Result logdir: /home/allenwu/Desktop/work/MARLlib-1.0.3/exp_results/happo_gru_CityLearn_5e-07_0.0005_APPEND-DATA_seed-2\n",
      "Number of trials: 1/1 (1 RUNNING)\n",
      "\n",
      "\n"
     ]
    },
    {
     "name": "stderr",
     "output_type": "stream",
     "text": [
      "/home/allenwu/anaconda3/envs/marllib/lib/python3.8/site-packages/ray/rllib/utils/metrics/learner_info.py:64: RuntimeWarning: Mean of empty slice\n",
      "  lambda *s: None if s[0] is None else np.nanmean(s, axis=0),\n",
      "/home/allenwu/anaconda3/envs/marllib/lib/python3.8/site-packages/ray/rllib/utils/metrics/learner_info.py:64: RuntimeWarning: Mean of empty slice\n",
      "  lambda *s: None if s[0] is None else np.nanmean(s, axis=0),\n",
      "/home/allenwu/anaconda3/envs/marllib/lib/python3.8/site-packages/ray/rllib/utils/metrics/learner_info.py:64: RuntimeWarning: Mean of empty slice\n",
      "  lambda *s: None if s[0] is None else np.nanmean(s, axis=0),\n",
      "/home/allenwu/anaconda3/envs/marllib/lib/python3.8/site-packages/ray/rllib/utils/metrics/learner_info.py:64: RuntimeWarning: Mean of empty slice\n",
      "  lambda *s: None if s[0] is None else np.nanmean(s, axis=0),\n",
      "/home/allenwu/anaconda3/envs/marllib/lib/python3.8/site-packages/ray/rllib/utils/metrics/learner_info.py:64: RuntimeWarning: Mean of empty slice\n",
      "  lambda *s: None if s[0] is None else np.nanmean(s, axis=0),\n"
     ]
    },
    {
     "name": "stdout",
     "output_type": "stream",
     "text": [
      "== Status ==\n",
      "Current time: 2023-09-21 01:51:07 (running for 00:07:58.61)\n",
      "Memory usage on this node: 9.4/31.2 GiB\n",
      "Using FIFO scheduling algorithm.\n",
      "Resources requested: 3.0/24 CPUs, 1.0/0 GPUs, 0.0/15.61 GiB heap, 0.0/7.8 GiB objects (0.0/1.0 accelerator_type:G)\n",
      "Result logdir: /home/allenwu/Desktop/work/MARLlib-1.0.3/exp_results/happo_gru_CityLearn_5e-07_0.0005_APPEND-DATA_seed-2\n",
      "Number of trials: 1/1 (1 RUNNING)\n",
      "\n",
      "\n"
     ]
    },
    {
     "name": "stderr",
     "output_type": "stream",
     "text": [
      "/home/allenwu/anaconda3/envs/marllib/lib/python3.8/site-packages/ray/rllib/utils/metrics/learner_info.py:64: RuntimeWarning: Mean of empty slice\n",
      "  lambda *s: None if s[0] is None else np.nanmean(s, axis=0),\n",
      "/home/allenwu/anaconda3/envs/marllib/lib/python3.8/site-packages/ray/rllib/utils/metrics/learner_info.py:64: RuntimeWarning: Mean of empty slice\n",
      "  lambda *s: None if s[0] is None else np.nanmean(s, axis=0),\n",
      "/home/allenwu/anaconda3/envs/marllib/lib/python3.8/site-packages/ray/rllib/utils/metrics/learner_info.py:64: RuntimeWarning: Mean of empty slice\n",
      "  lambda *s: None if s[0] is None else np.nanmean(s, axis=0),\n",
      "/home/allenwu/anaconda3/envs/marllib/lib/python3.8/site-packages/ray/rllib/utils/metrics/learner_info.py:64: RuntimeWarning: Mean of empty slice\n",
      "  lambda *s: None if s[0] is None else np.nanmean(s, axis=0),\n",
      "2023-09-21 01:51:10,893\tWARNING ray_trial_executor.py:768 -- Over the last 60 seconds, the Tune event loop has been backlogged processing new results. Consider increasing your period of result reporting to improve performance.\n",
      "/home/allenwu/anaconda3/envs/marllib/lib/python3.8/site-packages/ray/rllib/utils/metrics/learner_info.py:64: RuntimeWarning: Mean of empty slice\n",
      "  lambda *s: None if s[0] is None else np.nanmean(s, axis=0),\n"
     ]
    },
    {
     "name": "stdout",
     "output_type": "stream",
     "text": [
      "== Status ==\n",
      "Current time: 2023-09-21 01:51:12 (running for 00:08:03.89)\n",
      "Memory usage on this node: 9.4/31.2 GiB\n",
      "Using FIFO scheduling algorithm.\n",
      "Resources requested: 3.0/24 CPUs, 1.0/0 GPUs, 0.0/15.61 GiB heap, 0.0/7.8 GiB objects (0.0/1.0 accelerator_type:G)\n",
      "Result logdir: /home/allenwu/Desktop/work/MARLlib-1.0.3/exp_results/happo_gru_CityLearn_5e-07_0.0005_APPEND-DATA_seed-2\n",
      "Number of trials: 1/1 (1 RUNNING)\n",
      "\n",
      "\n"
     ]
    },
    {
     "name": "stderr",
     "output_type": "stream",
     "text": [
      "/home/allenwu/anaconda3/envs/marllib/lib/python3.8/site-packages/ray/rllib/utils/metrics/learner_info.py:64: RuntimeWarning: Mean of empty slice\n",
      "  lambda *s: None if s[0] is None else np.nanmean(s, axis=0),\n",
      "/home/allenwu/anaconda3/envs/marllib/lib/python3.8/site-packages/ray/rllib/utils/metrics/learner_info.py:64: RuntimeWarning: Mean of empty slice\n",
      "  lambda *s: None if s[0] is None else np.nanmean(s, axis=0),\n",
      "/home/allenwu/anaconda3/envs/marllib/lib/python3.8/site-packages/ray/rllib/utils/metrics/learner_info.py:64: RuntimeWarning: Mean of empty slice\n",
      "  lambda *s: None if s[0] is None else np.nanmean(s, axis=0),\n",
      "/home/allenwu/anaconda3/envs/marllib/lib/python3.8/site-packages/ray/rllib/utils/metrics/learner_info.py:64: RuntimeWarning: Mean of empty slice\n",
      "  lambda *s: None if s[0] is None else np.nanmean(s, axis=0),\n"
     ]
    },
    {
     "name": "stdout",
     "output_type": "stream",
     "text": [
      "== Status ==\n",
      "Current time: 2023-09-21 01:51:17 (running for 00:08:09.20)\n",
      "Memory usage on this node: 9.4/31.2 GiB\n",
      "Using FIFO scheduling algorithm.\n",
      "Resources requested: 3.0/24 CPUs, 1.0/0 GPUs, 0.0/15.61 GiB heap, 0.0/7.8 GiB objects (0.0/1.0 accelerator_type:G)\n",
      "Result logdir: /home/allenwu/Desktop/work/MARLlib-1.0.3/exp_results/happo_gru_CityLearn_5e-07_0.0005_APPEND-DATA_seed-2\n",
      "Number of trials: 1/1 (1 RUNNING)\n",
      "\n",
      "\n"
     ]
    },
    {
     "name": "stderr",
     "output_type": "stream",
     "text": [
      "/home/allenwu/anaconda3/envs/marllib/lib/python3.8/site-packages/ray/rllib/utils/metrics/learner_info.py:64: RuntimeWarning: Mean of empty slice\n",
      "  lambda *s: None if s[0] is None else np.nanmean(s, axis=0),\n",
      "/home/allenwu/anaconda3/envs/marllib/lib/python3.8/site-packages/ray/rllib/utils/metrics/learner_info.py:64: RuntimeWarning: Mean of empty slice\n",
      "  lambda *s: None if s[0] is None else np.nanmean(s, axis=0),\n",
      "/home/allenwu/anaconda3/envs/marllib/lib/python3.8/site-packages/ray/rllib/utils/metrics/learner_info.py:64: RuntimeWarning: Mean of empty slice\n",
      "  lambda *s: None if s[0] is None else np.nanmean(s, axis=0),\n"
     ]
    },
    {
     "name": "stdout",
     "output_type": "stream",
     "text": [
      "== Status ==\n",
      "Current time: 2023-09-21 01:51:23 (running for 00:08:14.57)\n",
      "Memory usage on this node: 9.4/31.2 GiB\n",
      "Using FIFO scheduling algorithm.\n",
      "Resources requested: 3.0/24 CPUs, 1.0/0 GPUs, 0.0/15.61 GiB heap, 0.0/7.8 GiB objects (0.0/1.0 accelerator_type:G)\n",
      "Result logdir: /home/allenwu/Desktop/work/MARLlib-1.0.3/exp_results/happo_gru_CityLearn_5e-07_0.0005_APPEND-DATA_seed-2\n",
      "Number of trials: 1/1 (1 RUNNING)\n",
      "\n",
      "\n"
     ]
    },
    {
     "name": "stderr",
     "output_type": "stream",
     "text": [
      "/home/allenwu/anaconda3/envs/marllib/lib/python3.8/site-packages/ray/rllib/utils/metrics/learner_info.py:64: RuntimeWarning: Mean of empty slice\n",
      "  lambda *s: None if s[0] is None else np.nanmean(s, axis=0),\n",
      "/home/allenwu/anaconda3/envs/marllib/lib/python3.8/site-packages/ray/rllib/utils/metrics/learner_info.py:64: RuntimeWarning: Mean of empty slice\n",
      "  lambda *s: None if s[0] is None else np.nanmean(s, axis=0),\n",
      "/home/allenwu/anaconda3/envs/marllib/lib/python3.8/site-packages/ray/rllib/utils/metrics/learner_info.py:64: RuntimeWarning: Mean of empty slice\n",
      "  lambda *s: None if s[0] is None else np.nanmean(s, axis=0),\n",
      "/home/allenwu/anaconda3/envs/marllib/lib/python3.8/site-packages/ray/rllib/utils/metrics/learner_info.py:64: RuntimeWarning: Mean of empty slice\n",
      "  lambda *s: None if s[0] is None else np.nanmean(s, axis=0),\n",
      "/home/allenwu/anaconda3/envs/marllib/lib/python3.8/site-packages/ray/rllib/utils/metrics/learner_info.py:64: RuntimeWarning: Mean of empty slice\n",
      "  lambda *s: None if s[0] is None else np.nanmean(s, axis=0),\n",
      "/home/allenwu/anaconda3/envs/marllib/lib/python3.8/site-packages/ray/rllib/utils/metrics/learner_info.py:64: RuntimeWarning: Mean of empty slice\n",
      "  lambda *s: None if s[0] is None else np.nanmean(s, axis=0),\n",
      "/home/allenwu/anaconda3/envs/marllib/lib/python3.8/site-packages/ray/rllib/utils/metrics/learner_info.py:64: RuntimeWarning: Mean of empty slice\n",
      "  lambda *s: None if s[0] is None else np.nanmean(s, axis=0),\n"
     ]
    },
    {
     "name": "stdout",
     "output_type": "stream",
     "text": [
      "== Status ==\n",
      "Current time: 2023-09-21 01:51:28 (running for 00:08:19.94)\n",
      "Memory usage on this node: 9.5/31.2 GiB\n",
      "Using FIFO scheduling algorithm.\n",
      "Resources requested: 3.0/24 CPUs, 1.0/0 GPUs, 0.0/15.61 GiB heap, 0.0/7.8 GiB objects (0.0/1.0 accelerator_type:G)\n",
      "Result logdir: /home/allenwu/Desktop/work/MARLlib-1.0.3/exp_results/happo_gru_CityLearn_5e-07_0.0005_APPEND-DATA_seed-2\n",
      "Number of trials: 1/1 (1 RUNNING)\n",
      "\n",
      "\n"
     ]
    },
    {
     "name": "stderr",
     "output_type": "stream",
     "text": [
      "/home/allenwu/anaconda3/envs/marllib/lib/python3.8/site-packages/ray/rllib/utils/metrics/learner_info.py:64: RuntimeWarning: Mean of empty slice\n",
      "  lambda *s: None if s[0] is None else np.nanmean(s, axis=0),\n",
      "/home/allenwu/anaconda3/envs/marllib/lib/python3.8/site-packages/ray/rllib/utils/metrics/learner_info.py:64: RuntimeWarning: Mean of empty slice\n",
      "  lambda *s: None if s[0] is None else np.nanmean(s, axis=0),\n",
      "/home/allenwu/anaconda3/envs/marllib/lib/python3.8/site-packages/ray/rllib/utils/metrics/learner_info.py:64: RuntimeWarning: Mean of empty slice\n",
      "  lambda *s: None if s[0] is None else np.nanmean(s, axis=0),\n",
      "/home/allenwu/anaconda3/envs/marllib/lib/python3.8/site-packages/ray/rllib/utils/metrics/learner_info.py:64: RuntimeWarning: Mean of empty slice\n",
      "  lambda *s: None if s[0] is None else np.nanmean(s, axis=0),\n",
      "/home/allenwu/anaconda3/envs/marllib/lib/python3.8/site-packages/ray/rllib/utils/metrics/learner_info.py:64: RuntimeWarning: Mean of empty slice\n",
      "  lambda *s: None if s[0] is None else np.nanmean(s, axis=0),\n",
      "/home/allenwu/anaconda3/envs/marllib/lib/python3.8/site-packages/ray/rllib/utils/metrics/learner_info.py:64: RuntimeWarning: Mean of empty slice\n",
      "  lambda *s: None if s[0] is None else np.nanmean(s, axis=0),\n",
      "/home/allenwu/anaconda3/envs/marllib/lib/python3.8/site-packages/ray/rllib/utils/metrics/learner_info.py:64: RuntimeWarning: Mean of empty slice\n",
      "  lambda *s: None if s[0] is None else np.nanmean(s, axis=0),\n"
     ]
    },
    {
     "name": "stdout",
     "output_type": "stream",
     "text": [
      "== Status ==\n",
      "Current time: 2023-09-21 01:51:34 (running for 00:08:25.32)\n",
      "Memory usage on this node: 9.5/31.2 GiB\n",
      "Using FIFO scheduling algorithm.\n",
      "Resources requested: 3.0/24 CPUs, 1.0/0 GPUs, 0.0/15.61 GiB heap, 0.0/7.8 GiB objects (0.0/1.0 accelerator_type:G)\n",
      "Result logdir: /home/allenwu/Desktop/work/MARLlib-1.0.3/exp_results/happo_gru_CityLearn_5e-07_0.0005_APPEND-DATA_seed-2\n",
      "Number of trials: 1/1 (1 RUNNING)\n",
      "\n",
      "\n"
     ]
    },
    {
     "name": "stderr",
     "output_type": "stream",
     "text": [
      "/home/allenwu/anaconda3/envs/marllib/lib/python3.8/site-packages/ray/rllib/utils/metrics/learner_info.py:64: RuntimeWarning: Mean of empty slice\n",
      "  lambda *s: None if s[0] is None else np.nanmean(s, axis=0),\n",
      "/home/allenwu/anaconda3/envs/marllib/lib/python3.8/site-packages/ray/rllib/utils/metrics/learner_info.py:64: RuntimeWarning: Mean of empty slice\n",
      "  lambda *s: None if s[0] is None else np.nanmean(s, axis=0),\n",
      "/home/allenwu/anaconda3/envs/marllib/lib/python3.8/site-packages/ray/rllib/utils/metrics/learner_info.py:64: RuntimeWarning: Mean of empty slice\n",
      "  lambda *s: None if s[0] is None else np.nanmean(s, axis=0),\n",
      "/home/allenwu/anaconda3/envs/marllib/lib/python3.8/site-packages/ray/rllib/utils/metrics/learner_info.py:64: RuntimeWarning: Mean of empty slice\n",
      "  lambda *s: None if s[0] is None else np.nanmean(s, axis=0),\n",
      "/home/allenwu/anaconda3/envs/marllib/lib/python3.8/site-packages/ray/rllib/utils/metrics/learner_info.py:64: RuntimeWarning: Mean of empty slice\n",
      "  lambda *s: None if s[0] is None else np.nanmean(s, axis=0),\n",
      "/home/allenwu/anaconda3/envs/marllib/lib/python3.8/site-packages/ray/rllib/utils/metrics/learner_info.py:64: RuntimeWarning: Mean of empty slice\n",
      "  lambda *s: None if s[0] is None else np.nanmean(s, axis=0),\n",
      "/home/allenwu/anaconda3/envs/marllib/lib/python3.8/site-packages/ray/rllib/utils/metrics/learner_info.py:64: RuntimeWarning: Mean of empty slice\n",
      "  lambda *s: None if s[0] is None else np.nanmean(s, axis=0),\n"
     ]
    },
    {
     "name": "stdout",
     "output_type": "stream",
     "text": [
      "== Status ==\n",
      "Current time: 2023-09-21 01:51:39 (running for 00:08:30.65)\n",
      "Memory usage on this node: 9.5/31.2 GiB\n",
      "Using FIFO scheduling algorithm.\n",
      "Resources requested: 3.0/24 CPUs, 1.0/0 GPUs, 0.0/15.61 GiB heap, 0.0/7.8 GiB objects (0.0/1.0 accelerator_type:G)\n",
      "Result logdir: /home/allenwu/Desktop/work/MARLlib-1.0.3/exp_results/happo_gru_CityLearn_5e-07_0.0005_APPEND-DATA_seed-2\n",
      "Number of trials: 1/1 (1 RUNNING)\n",
      "\n",
      "\n"
     ]
    },
    {
     "name": "stderr",
     "output_type": "stream",
     "text": [
      "/home/allenwu/anaconda3/envs/marllib/lib/python3.8/site-packages/ray/rllib/utils/metrics/learner_info.py:64: RuntimeWarning: Mean of empty slice\n",
      "  lambda *s: None if s[0] is None else np.nanmean(s, axis=0),\n",
      "/home/allenwu/anaconda3/envs/marllib/lib/python3.8/site-packages/ray/rllib/utils/metrics/learner_info.py:64: RuntimeWarning: Mean of empty slice\n",
      "  lambda *s: None if s[0] is None else np.nanmean(s, axis=0),\n",
      "/home/allenwu/anaconda3/envs/marllib/lib/python3.8/site-packages/ray/rllib/utils/metrics/learner_info.py:64: RuntimeWarning: Mean of empty slice\n",
      "  lambda *s: None if s[0] is None else np.nanmean(s, axis=0),\n",
      "/home/allenwu/anaconda3/envs/marllib/lib/python3.8/site-packages/ray/rllib/utils/metrics/learner_info.py:64: RuntimeWarning: Mean of empty slice\n",
      "  lambda *s: None if s[0] is None else np.nanmean(s, axis=0),\n",
      "/home/allenwu/anaconda3/envs/marllib/lib/python3.8/site-packages/ray/rllib/utils/metrics/learner_info.py:64: RuntimeWarning: Mean of empty slice\n",
      "  lambda *s: None if s[0] is None else np.nanmean(s, axis=0),\n",
      "/home/allenwu/anaconda3/envs/marllib/lib/python3.8/site-packages/ray/rllib/utils/metrics/learner_info.py:64: RuntimeWarning: Mean of empty slice\n",
      "  lambda *s: None if s[0] is None else np.nanmean(s, axis=0),\n"
     ]
    },
    {
     "name": "stdout",
     "output_type": "stream",
     "text": [
      "== Status ==\n",
      "Current time: 2023-09-21 01:51:44 (running for 00:08:35.98)\n",
      "Memory usage on this node: 9.5/31.2 GiB\n",
      "Using FIFO scheduling algorithm.\n",
      "Resources requested: 3.0/24 CPUs, 1.0/0 GPUs, 0.0/15.61 GiB heap, 0.0/7.8 GiB objects (0.0/1.0 accelerator_type:G)\n",
      "Result logdir: /home/allenwu/Desktop/work/MARLlib-1.0.3/exp_results/happo_gru_CityLearn_5e-07_0.0005_APPEND-DATA_seed-2\n",
      "Number of trials: 1/1 (1 RUNNING)\n",
      "\n",
      "\n"
     ]
    },
    {
     "name": "stderr",
     "output_type": "stream",
     "text": [
      "/home/allenwu/anaconda3/envs/marllib/lib/python3.8/site-packages/ray/rllib/utils/metrics/learner_info.py:64: RuntimeWarning: Mean of empty slice\n",
      "  lambda *s: None if s[0] is None else np.nanmean(s, axis=0),\n",
      "/home/allenwu/anaconda3/envs/marllib/lib/python3.8/site-packages/ray/rllib/utils/metrics/learner_info.py:64: RuntimeWarning: Mean of empty slice\n",
      "  lambda *s: None if s[0] is None else np.nanmean(s, axis=0),\n",
      "/home/allenwu/anaconda3/envs/marllib/lib/python3.8/site-packages/ray/rllib/utils/metrics/learner_info.py:64: RuntimeWarning: Mean of empty slice\n",
      "  lambda *s: None if s[0] is None else np.nanmean(s, axis=0),\n",
      "/home/allenwu/anaconda3/envs/marllib/lib/python3.8/site-packages/ray/rllib/utils/metrics/learner_info.py:64: RuntimeWarning: Mean of empty slice\n",
      "  lambda *s: None if s[0] is None else np.nanmean(s, axis=0),\n",
      "/home/allenwu/anaconda3/envs/marllib/lib/python3.8/site-packages/ray/rllib/utils/metrics/learner_info.py:64: RuntimeWarning: Mean of empty slice\n",
      "  lambda *s: None if s[0] is None else np.nanmean(s, axis=0),\n"
     ]
    },
    {
     "name": "stdout",
     "output_type": "stream",
     "text": [
      "== Status ==\n",
      "Current time: 2023-09-21 01:51:50 (running for 00:08:41.30)\n",
      "Memory usage on this node: 9.5/31.2 GiB\n",
      "Using FIFO scheduling algorithm.\n",
      "Resources requested: 3.0/24 CPUs, 1.0/0 GPUs, 0.0/15.61 GiB heap, 0.0/7.8 GiB objects (0.0/1.0 accelerator_type:G)\n",
      "Result logdir: /home/allenwu/Desktop/work/MARLlib-1.0.3/exp_results/happo_gru_CityLearn_5e-07_0.0005_APPEND-DATA_seed-2\n",
      "Number of trials: 1/1 (1 RUNNING)\n",
      "\n",
      "\n"
     ]
    },
    {
     "name": "stderr",
     "output_type": "stream",
     "text": [
      "/home/allenwu/anaconda3/envs/marllib/lib/python3.8/site-packages/ray/rllib/utils/metrics/learner_info.py:64: RuntimeWarning: Mean of empty slice\n",
      "  lambda *s: None if s[0] is None else np.nanmean(s, axis=0),\n",
      "/home/allenwu/anaconda3/envs/marllib/lib/python3.8/site-packages/ray/rllib/utils/metrics/learner_info.py:64: RuntimeWarning: Mean of empty slice\n",
      "  lambda *s: None if s[0] is None else np.nanmean(s, axis=0),\n",
      "/home/allenwu/anaconda3/envs/marllib/lib/python3.8/site-packages/ray/rllib/utils/metrics/learner_info.py:64: RuntimeWarning: Mean of empty slice\n",
      "  lambda *s: None if s[0] is None else np.nanmean(s, axis=0),\n",
      "/home/allenwu/anaconda3/envs/marllib/lib/python3.8/site-packages/ray/rllib/utils/metrics/learner_info.py:64: RuntimeWarning: Mean of empty slice\n",
      "  lambda *s: None if s[0] is None else np.nanmean(s, axis=0),\n",
      "/home/allenwu/anaconda3/envs/marllib/lib/python3.8/site-packages/ray/rllib/utils/metrics/learner_info.py:64: RuntimeWarning: Mean of empty slice\n",
      "  lambda *s: None if s[0] is None else np.nanmean(s, axis=0),\n",
      "/home/allenwu/anaconda3/envs/marllib/lib/python3.8/site-packages/ray/rllib/utils/metrics/learner_info.py:64: RuntimeWarning: Mean of empty slice\n",
      "  lambda *s: None if s[0] is None else np.nanmean(s, axis=0),\n",
      "/home/allenwu/anaconda3/envs/marllib/lib/python3.8/site-packages/ray/rllib/utils/metrics/learner_info.py:64: RuntimeWarning: Mean of empty slice\n",
      "  lambda *s: None if s[0] is None else np.nanmean(s, axis=0),\n",
      "/home/allenwu/anaconda3/envs/marllib/lib/python3.8/site-packages/ray/rllib/utils/metrics/learner_info.py:64: RuntimeWarning: Mean of empty slice\n",
      "  lambda *s: None if s[0] is None else np.nanmean(s, axis=0),\n"
     ]
    },
    {
     "name": "stdout",
     "output_type": "stream",
     "text": [
      "== Status ==\n",
      "Current time: 2023-09-21 01:51:55 (running for 00:08:46.62)\n",
      "Memory usage on this node: 9.6/31.2 GiB\n",
      "Using FIFO scheduling algorithm.\n",
      "Resources requested: 3.0/24 CPUs, 1.0/0 GPUs, 0.0/15.61 GiB heap, 0.0/7.8 GiB objects (0.0/1.0 accelerator_type:G)\n",
      "Result logdir: /home/allenwu/Desktop/work/MARLlib-1.0.3/exp_results/happo_gru_CityLearn_5e-07_0.0005_APPEND-DATA_seed-2\n",
      "Number of trials: 1/1 (1 RUNNING)\n",
      "\n",
      "\n"
     ]
    },
    {
     "name": "stderr",
     "output_type": "stream",
     "text": [
      "/home/allenwu/anaconda3/envs/marllib/lib/python3.8/site-packages/ray/rllib/utils/metrics/learner_info.py:64: RuntimeWarning: Mean of empty slice\n",
      "  lambda *s: None if s[0] is None else np.nanmean(s, axis=0),\n",
      "/home/allenwu/anaconda3/envs/marllib/lib/python3.8/site-packages/ray/rllib/utils/metrics/learner_info.py:64: RuntimeWarning: Mean of empty slice\n",
      "  lambda *s: None if s[0] is None else np.nanmean(s, axis=0),\n",
      "/home/allenwu/anaconda3/envs/marllib/lib/python3.8/site-packages/ray/rllib/utils/metrics/learner_info.py:64: RuntimeWarning: Mean of empty slice\n",
      "  lambda *s: None if s[0] is None else np.nanmean(s, axis=0),\n",
      "/home/allenwu/anaconda3/envs/marllib/lib/python3.8/site-packages/ray/rllib/utils/metrics/learner_info.py:64: RuntimeWarning: Mean of empty slice\n",
      "  lambda *s: None if s[0] is None else np.nanmean(s, axis=0),\n",
      "/home/allenwu/anaconda3/envs/marllib/lib/python3.8/site-packages/ray/rllib/utils/metrics/learner_info.py:64: RuntimeWarning: Mean of empty slice\n",
      "  lambda *s: None if s[0] is None else np.nanmean(s, axis=0),\n"
     ]
    },
    {
     "name": "stdout",
     "output_type": "stream",
     "text": [
      "== Status ==\n",
      "Current time: 2023-09-21 01:52:00 (running for 00:08:51.95)\n",
      "Memory usage on this node: 9.6/31.2 GiB\n",
      "Using FIFO scheduling algorithm.\n",
      "Resources requested: 3.0/24 CPUs, 1.0/0 GPUs, 0.0/15.61 GiB heap, 0.0/7.8 GiB objects (0.0/1.0 accelerator_type:G)\n",
      "Result logdir: /home/allenwu/Desktop/work/MARLlib-1.0.3/exp_results/happo_gru_CityLearn_5e-07_0.0005_APPEND-DATA_seed-2\n",
      "Number of trials: 1/1 (1 RUNNING)\n",
      "\n",
      "\n"
     ]
    },
    {
     "name": "stderr",
     "output_type": "stream",
     "text": [
      "/home/allenwu/anaconda3/envs/marllib/lib/python3.8/site-packages/ray/rllib/utils/metrics/learner_info.py:64: RuntimeWarning: Mean of empty slice\n",
      "  lambda *s: None if s[0] is None else np.nanmean(s, axis=0),\n",
      "/home/allenwu/anaconda3/envs/marllib/lib/python3.8/site-packages/ray/rllib/utils/metrics/learner_info.py:64: RuntimeWarning: Mean of empty slice\n",
      "  lambda *s: None if s[0] is None else np.nanmean(s, axis=0),\n",
      "/home/allenwu/anaconda3/envs/marllib/lib/python3.8/site-packages/ray/rllib/utils/metrics/learner_info.py:64: RuntimeWarning: Mean of empty slice\n",
      "  lambda *s: None if s[0] is None else np.nanmean(s, axis=0),\n",
      "/home/allenwu/anaconda3/envs/marllib/lib/python3.8/site-packages/ray/rllib/utils/metrics/learner_info.py:64: RuntimeWarning: Mean of empty slice\n",
      "  lambda *s: None if s[0] is None else np.nanmean(s, axis=0),\n",
      "/home/allenwu/anaconda3/envs/marllib/lib/python3.8/site-packages/ray/rllib/utils/metrics/learner_info.py:64: RuntimeWarning: Mean of empty slice\n",
      "  lambda *s: None if s[0] is None else np.nanmean(s, axis=0),\n",
      "/home/allenwu/anaconda3/envs/marllib/lib/python3.8/site-packages/ray/rllib/utils/metrics/learner_info.py:64: RuntimeWarning: Mean of empty slice\n",
      "  lambda *s: None if s[0] is None else np.nanmean(s, axis=0),\n",
      "/home/allenwu/anaconda3/envs/marllib/lib/python3.8/site-packages/ray/rllib/utils/metrics/learner_info.py:64: RuntimeWarning: Mean of empty slice\n",
      "  lambda *s: None if s[0] is None else np.nanmean(s, axis=0),\n"
     ]
    },
    {
     "name": "stdout",
     "output_type": "stream",
     "text": [
      "== Status ==\n",
      "Current time: 2023-09-21 01:52:06 (running for 00:08:57.28)\n",
      "Memory usage on this node: 9.6/31.2 GiB\n",
      "Using FIFO scheduling algorithm.\n",
      "Resources requested: 3.0/24 CPUs, 1.0/0 GPUs, 0.0/15.61 GiB heap, 0.0/7.8 GiB objects (0.0/1.0 accelerator_type:G)\n",
      "Result logdir: /home/allenwu/Desktop/work/MARLlib-1.0.3/exp_results/happo_gru_CityLearn_5e-07_0.0005_APPEND-DATA_seed-2\n",
      "Number of trials: 1/1 (1 RUNNING)\n",
      "\n",
      "\n"
     ]
    },
    {
     "name": "stderr",
     "output_type": "stream",
     "text": [
      "/home/allenwu/anaconda3/envs/marllib/lib/python3.8/site-packages/ray/rllib/utils/metrics/learner_info.py:64: RuntimeWarning: Mean of empty slice\n",
      "  lambda *s: None if s[0] is None else np.nanmean(s, axis=0),\n",
      "/home/allenwu/anaconda3/envs/marllib/lib/python3.8/site-packages/ray/rllib/utils/metrics/learner_info.py:64: RuntimeWarning: Mean of empty slice\n",
      "  lambda *s: None if s[0] is None else np.nanmean(s, axis=0),\n",
      "/home/allenwu/anaconda3/envs/marllib/lib/python3.8/site-packages/ray/rllib/utils/metrics/learner_info.py:64: RuntimeWarning: Mean of empty slice\n",
      "  lambda *s: None if s[0] is None else np.nanmean(s, axis=0),\n",
      "/home/allenwu/anaconda3/envs/marllib/lib/python3.8/site-packages/ray/rllib/utils/metrics/learner_info.py:64: RuntimeWarning: Mean of empty slice\n",
      "  lambda *s: None if s[0] is None else np.nanmean(s, axis=0),\n",
      "/home/allenwu/anaconda3/envs/marllib/lib/python3.8/site-packages/ray/rllib/utils/metrics/learner_info.py:64: RuntimeWarning: Mean of empty slice\n",
      "  lambda *s: None if s[0] is None else np.nanmean(s, axis=0),\n",
      "/home/allenwu/anaconda3/envs/marllib/lib/python3.8/site-packages/ray/rllib/utils/metrics/learner_info.py:64: RuntimeWarning: Mean of empty slice\n",
      "  lambda *s: None if s[0] is None else np.nanmean(s, axis=0),\n",
      "/home/allenwu/anaconda3/envs/marllib/lib/python3.8/site-packages/ray/rllib/utils/metrics/learner_info.py:64: RuntimeWarning: Mean of empty slice\n",
      "  lambda *s: None if s[0] is None else np.nanmean(s, axis=0),\n",
      "2023-09-21 01:52:11,298\tWARNING ray_trial_executor.py:768 -- Over the last 60 seconds, the Tune event loop has been backlogged processing new results. Consider increasing your period of result reporting to improve performance.\n"
     ]
    },
    {
     "name": "stdout",
     "output_type": "stream",
     "text": [
      "== Status ==\n",
      "Current time: 2023-09-21 01:52:11 (running for 00:09:02.53)\n",
      "Memory usage on this node: 9.7/31.2 GiB\n",
      "Using FIFO scheduling algorithm.\n",
      "Resources requested: 3.0/24 CPUs, 1.0/0 GPUs, 0.0/15.61 GiB heap, 0.0/7.8 GiB objects (0.0/1.0 accelerator_type:G)\n",
      "Result logdir: /home/allenwu/Desktop/work/MARLlib-1.0.3/exp_results/happo_gru_CityLearn_5e-07_0.0005_APPEND-DATA_seed-2\n",
      "Number of trials: 1/1 (1 RUNNING)\n",
      "\n",
      "\n"
     ]
    },
    {
     "name": "stderr",
     "output_type": "stream",
     "text": [
      "/home/allenwu/anaconda3/envs/marllib/lib/python3.8/site-packages/ray/rllib/utils/metrics/learner_info.py:64: RuntimeWarning: Mean of empty slice\n",
      "  lambda *s: None if s[0] is None else np.nanmean(s, axis=0),\n",
      "/home/allenwu/anaconda3/envs/marllib/lib/python3.8/site-packages/ray/rllib/utils/metrics/learner_info.py:64: RuntimeWarning: Mean of empty slice\n",
      "  lambda *s: None if s[0] is None else np.nanmean(s, axis=0),\n",
      "/home/allenwu/anaconda3/envs/marllib/lib/python3.8/site-packages/ray/rllib/utils/metrics/learner_info.py:64: RuntimeWarning: Mean of empty slice\n",
      "  lambda *s: None if s[0] is None else np.nanmean(s, axis=0),\n",
      "/home/allenwu/anaconda3/envs/marllib/lib/python3.8/site-packages/ray/rllib/utils/metrics/learner_info.py:64: RuntimeWarning: Mean of empty slice\n",
      "  lambda *s: None if s[0] is None else np.nanmean(s, axis=0),\n",
      "/home/allenwu/anaconda3/envs/marllib/lib/python3.8/site-packages/ray/rllib/utils/metrics/learner_info.py:64: RuntimeWarning: Mean of empty slice\n",
      "  lambda *s: None if s[0] is None else np.nanmean(s, axis=0),\n"
     ]
    },
    {
     "name": "stdout",
     "output_type": "stream",
     "text": [
      "== Status ==\n",
      "Current time: 2023-09-21 01:52:16 (running for 00:09:07.79)\n",
      "Memory usage on this node: 9.8/31.2 GiB\n",
      "Using FIFO scheduling algorithm.\n",
      "Resources requested: 3.0/24 CPUs, 1.0/0 GPUs, 0.0/15.61 GiB heap, 0.0/7.8 GiB objects (0.0/1.0 accelerator_type:G)\n",
      "Result logdir: /home/allenwu/Desktop/work/MARLlib-1.0.3/exp_results/happo_gru_CityLearn_5e-07_0.0005_APPEND-DATA_seed-2\n",
      "Number of trials: 1/1 (1 RUNNING)\n",
      "\n",
      "\n"
     ]
    },
    {
     "name": "stderr",
     "output_type": "stream",
     "text": [
      "/home/allenwu/anaconda3/envs/marllib/lib/python3.8/site-packages/ray/rllib/utils/metrics/learner_info.py:64: RuntimeWarning: Mean of empty slice\n",
      "  lambda *s: None if s[0] is None else np.nanmean(s, axis=0),\n",
      "/home/allenwu/anaconda3/envs/marllib/lib/python3.8/site-packages/ray/rllib/utils/metrics/learner_info.py:64: RuntimeWarning: Mean of empty slice\n",
      "  lambda *s: None if s[0] is None else np.nanmean(s, axis=0),\n",
      "/home/allenwu/anaconda3/envs/marllib/lib/python3.8/site-packages/ray/rllib/utils/metrics/learner_info.py:64: RuntimeWarning: Mean of empty slice\n",
      "  lambda *s: None if s[0] is None else np.nanmean(s, axis=0),\n",
      "/home/allenwu/anaconda3/envs/marllib/lib/python3.8/site-packages/ray/rllib/utils/metrics/learner_info.py:64: RuntimeWarning: Mean of empty slice\n",
      "  lambda *s: None if s[0] is None else np.nanmean(s, axis=0),\n",
      "/home/allenwu/anaconda3/envs/marllib/lib/python3.8/site-packages/ray/rllib/utils/metrics/learner_info.py:64: RuntimeWarning: Mean of empty slice\n",
      "  lambda *s: None if s[0] is None else np.nanmean(s, axis=0),\n"
     ]
    },
    {
     "name": "stdout",
     "output_type": "stream",
     "text": [
      "== Status ==\n",
      "Current time: 2023-09-21 01:52:21 (running for 00:09:13.13)\n",
      "Memory usage on this node: 9.8/31.2 GiB\n",
      "Using FIFO scheduling algorithm.\n",
      "Resources requested: 3.0/24 CPUs, 1.0/0 GPUs, 0.0/15.61 GiB heap, 0.0/7.8 GiB objects (0.0/1.0 accelerator_type:G)\n",
      "Result logdir: /home/allenwu/Desktop/work/MARLlib-1.0.3/exp_results/happo_gru_CityLearn_5e-07_0.0005_APPEND-DATA_seed-2\n",
      "Number of trials: 1/1 (1 RUNNING)\n",
      "\n",
      "\n"
     ]
    },
    {
     "name": "stderr",
     "output_type": "stream",
     "text": [
      "/home/allenwu/anaconda3/envs/marllib/lib/python3.8/site-packages/ray/rllib/utils/metrics/learner_info.py:64: RuntimeWarning: Mean of empty slice\n",
      "  lambda *s: None if s[0] is None else np.nanmean(s, axis=0),\n",
      "/home/allenwu/anaconda3/envs/marllib/lib/python3.8/site-packages/ray/rllib/utils/metrics/learner_info.py:64: RuntimeWarning: Mean of empty slice\n",
      "  lambda *s: None if s[0] is None else np.nanmean(s, axis=0),\n",
      "/home/allenwu/anaconda3/envs/marllib/lib/python3.8/site-packages/ray/rllib/utils/metrics/learner_info.py:64: RuntimeWarning: Mean of empty slice\n",
      "  lambda *s: None if s[0] is None else np.nanmean(s, axis=0),\n",
      "/home/allenwu/anaconda3/envs/marllib/lib/python3.8/site-packages/ray/rllib/utils/metrics/learner_info.py:64: RuntimeWarning: Mean of empty slice\n",
      "  lambda *s: None if s[0] is None else np.nanmean(s, axis=0),\n",
      "/home/allenwu/anaconda3/envs/marllib/lib/python3.8/site-packages/ray/rllib/utils/metrics/learner_info.py:64: RuntimeWarning: Mean of empty slice\n",
      "  lambda *s: None if s[0] is None else np.nanmean(s, axis=0),\n",
      "/home/allenwu/anaconda3/envs/marllib/lib/python3.8/site-packages/ray/rllib/utils/metrics/learner_info.py:64: RuntimeWarning: Mean of empty slice\n",
      "  lambda *s: None if s[0] is None else np.nanmean(s, axis=0),\n",
      "/home/allenwu/anaconda3/envs/marllib/lib/python3.8/site-packages/ray/rllib/utils/metrics/learner_info.py:64: RuntimeWarning: Mean of empty slice\n",
      "  lambda *s: None if s[0] is None else np.nanmean(s, axis=0),\n"
     ]
    },
    {
     "name": "stdout",
     "output_type": "stream",
     "text": [
      "== Status ==\n",
      "Current time: 2023-09-21 01:52:27 (running for 00:09:18.51)\n",
      "Memory usage on this node: 9.9/31.2 GiB\n",
      "Using FIFO scheduling algorithm.\n",
      "Resources requested: 3.0/24 CPUs, 1.0/0 GPUs, 0.0/15.61 GiB heap, 0.0/7.8 GiB objects (0.0/1.0 accelerator_type:G)\n",
      "Result logdir: /home/allenwu/Desktop/work/MARLlib-1.0.3/exp_results/happo_gru_CityLearn_5e-07_0.0005_APPEND-DATA_seed-2\n",
      "Number of trials: 1/1 (1 RUNNING)\n",
      "\n",
      "\n"
     ]
    },
    {
     "name": "stderr",
     "output_type": "stream",
     "text": [
      "/home/allenwu/anaconda3/envs/marllib/lib/python3.8/site-packages/ray/rllib/utils/metrics/learner_info.py:64: RuntimeWarning: Mean of empty slice\n",
      "  lambda *s: None if s[0] is None else np.nanmean(s, axis=0),\n",
      "/home/allenwu/anaconda3/envs/marllib/lib/python3.8/site-packages/ray/rllib/utils/metrics/learner_info.py:64: RuntimeWarning: Mean of empty slice\n",
      "  lambda *s: None if s[0] is None else np.nanmean(s, axis=0),\n",
      "/home/allenwu/anaconda3/envs/marllib/lib/python3.8/site-packages/ray/rllib/utils/metrics/learner_info.py:64: RuntimeWarning: Mean of empty slice\n",
      "  lambda *s: None if s[0] is None else np.nanmean(s, axis=0),\n",
      "/home/allenwu/anaconda3/envs/marllib/lib/python3.8/site-packages/ray/rllib/utils/metrics/learner_info.py:64: RuntimeWarning: Mean of empty slice\n",
      "  lambda *s: None if s[0] is None else np.nanmean(s, axis=0),\n",
      "/home/allenwu/anaconda3/envs/marllib/lib/python3.8/site-packages/ray/rllib/utils/metrics/learner_info.py:64: RuntimeWarning: Mean of empty slice\n",
      "  lambda *s: None if s[0] is None else np.nanmean(s, axis=0),\n",
      "/home/allenwu/anaconda3/envs/marllib/lib/python3.8/site-packages/ray/rllib/utils/metrics/learner_info.py:64: RuntimeWarning: Mean of empty slice\n",
      "  lambda *s: None if s[0] is None else np.nanmean(s, axis=0),\n",
      "/home/allenwu/anaconda3/envs/marllib/lib/python3.8/site-packages/ray/rllib/utils/metrics/learner_info.py:64: RuntimeWarning: Mean of empty slice\n",
      "  lambda *s: None if s[0] is None else np.nanmean(s, axis=0),\n"
     ]
    },
    {
     "name": "stdout",
     "output_type": "stream",
     "text": [
      "== Status ==\n",
      "Current time: 2023-09-21 01:52:32 (running for 00:09:23.81)\n",
      "Memory usage on this node: 9.9/31.2 GiB\n",
      "Using FIFO scheduling algorithm.\n",
      "Resources requested: 3.0/24 CPUs, 1.0/0 GPUs, 0.0/15.61 GiB heap, 0.0/7.8 GiB objects (0.0/1.0 accelerator_type:G)\n",
      "Result logdir: /home/allenwu/Desktop/work/MARLlib-1.0.3/exp_results/happo_gru_CityLearn_5e-07_0.0005_APPEND-DATA_seed-2\n",
      "Number of trials: 1/1 (1 RUNNING)\n",
      "\n",
      "\n"
     ]
    },
    {
     "name": "stderr",
     "output_type": "stream",
     "text": [
      "/home/allenwu/anaconda3/envs/marllib/lib/python3.8/site-packages/ray/rllib/utils/metrics/learner_info.py:64: RuntimeWarning: Mean of empty slice\n",
      "  lambda *s: None if s[0] is None else np.nanmean(s, axis=0),\n",
      "/home/allenwu/anaconda3/envs/marllib/lib/python3.8/site-packages/ray/rllib/utils/metrics/learner_info.py:64: RuntimeWarning: Mean of empty slice\n",
      "  lambda *s: None if s[0] is None else np.nanmean(s, axis=0),\n",
      "/home/allenwu/anaconda3/envs/marllib/lib/python3.8/site-packages/ray/rllib/utils/metrics/learner_info.py:64: RuntimeWarning: Mean of empty slice\n",
      "  lambda *s: None if s[0] is None else np.nanmean(s, axis=0),\n",
      "/home/allenwu/anaconda3/envs/marllib/lib/python3.8/site-packages/ray/rllib/utils/metrics/learner_info.py:64: RuntimeWarning: Mean of empty slice\n",
      "  lambda *s: None if s[0] is None else np.nanmean(s, axis=0),\n",
      "/home/allenwu/anaconda3/envs/marllib/lib/python3.8/site-packages/ray/rllib/utils/metrics/learner_info.py:64: RuntimeWarning: Mean of empty slice\n",
      "  lambda *s: None if s[0] is None else np.nanmean(s, axis=0),\n",
      "/home/allenwu/anaconda3/envs/marllib/lib/python3.8/site-packages/ray/rllib/utils/metrics/learner_info.py:64: RuntimeWarning: Mean of empty slice\n",
      "  lambda *s: None if s[0] is None else np.nanmean(s, axis=0),\n"
     ]
    },
    {
     "name": "stdout",
     "output_type": "stream",
     "text": [
      "== Status ==\n",
      "Current time: 2023-09-21 01:52:37 (running for 00:09:29.18)\n",
      "Memory usage on this node: 9.9/31.2 GiB\n",
      "Using FIFO scheduling algorithm.\n",
      "Resources requested: 3.0/24 CPUs, 1.0/0 GPUs, 0.0/15.61 GiB heap, 0.0/7.8 GiB objects (0.0/1.0 accelerator_type:G)\n",
      "Result logdir: /home/allenwu/Desktop/work/MARLlib-1.0.3/exp_results/happo_gru_CityLearn_5e-07_0.0005_APPEND-DATA_seed-2\n",
      "Number of trials: 1/1 (1 RUNNING)\n",
      "\n",
      "\n"
     ]
    },
    {
     "name": "stderr",
     "output_type": "stream",
     "text": [
      "/home/allenwu/anaconda3/envs/marllib/lib/python3.8/site-packages/ray/rllib/utils/metrics/learner_info.py:64: RuntimeWarning: Mean of empty slice\n",
      "  lambda *s: None if s[0] is None else np.nanmean(s, axis=0),\n",
      "/home/allenwu/anaconda3/envs/marllib/lib/python3.8/site-packages/ray/rllib/utils/metrics/learner_info.py:64: RuntimeWarning: Mean of empty slice\n",
      "  lambda *s: None if s[0] is None else np.nanmean(s, axis=0),\n",
      "/home/allenwu/anaconda3/envs/marllib/lib/python3.8/site-packages/ray/rllib/utils/metrics/learner_info.py:64: RuntimeWarning: Mean of empty slice\n",
      "  lambda *s: None if s[0] is None else np.nanmean(s, axis=0),\n",
      "/home/allenwu/anaconda3/envs/marllib/lib/python3.8/site-packages/ray/rllib/utils/metrics/learner_info.py:64: RuntimeWarning: Mean of empty slice\n",
      "  lambda *s: None if s[0] is None else np.nanmean(s, axis=0),\n"
     ]
    },
    {
     "name": "stdout",
     "output_type": "stream",
     "text": [
      "== Status ==\n",
      "Current time: 2023-09-21 01:52:43 (running for 00:09:34.48)\n",
      "Memory usage on this node: 10.0/31.2 GiB\n",
      "Using FIFO scheduling algorithm.\n",
      "Resources requested: 3.0/24 CPUs, 1.0/0 GPUs, 0.0/15.61 GiB heap, 0.0/7.8 GiB objects (0.0/1.0 accelerator_type:G)\n",
      "Result logdir: /home/allenwu/Desktop/work/MARLlib-1.0.3/exp_results/happo_gru_CityLearn_5e-07_0.0005_APPEND-DATA_seed-2\n",
      "Number of trials: 1/1 (1 RUNNING)\n",
      "\n",
      "\n"
     ]
    },
    {
     "name": "stderr",
     "output_type": "stream",
     "text": [
      "/home/allenwu/anaconda3/envs/marllib/lib/python3.8/site-packages/ray/rllib/utils/metrics/learner_info.py:64: RuntimeWarning: Mean of empty slice\n",
      "  lambda *s: None if s[0] is None else np.nanmean(s, axis=0),\n",
      "/home/allenwu/anaconda3/envs/marllib/lib/python3.8/site-packages/ray/rllib/utils/metrics/learner_info.py:64: RuntimeWarning: Mean of empty slice\n",
      "  lambda *s: None if s[0] is None else np.nanmean(s, axis=0),\n",
      "/home/allenwu/anaconda3/envs/marllib/lib/python3.8/site-packages/ray/rllib/utils/metrics/learner_info.py:64: RuntimeWarning: Mean of empty slice\n",
      "  lambda *s: None if s[0] is None else np.nanmean(s, axis=0),\n",
      "/home/allenwu/anaconda3/envs/marllib/lib/python3.8/site-packages/ray/rllib/utils/metrics/learner_info.py:64: RuntimeWarning: Mean of empty slice\n",
      "  lambda *s: None if s[0] is None else np.nanmean(s, axis=0),\n",
      "/home/allenwu/anaconda3/envs/marllib/lib/python3.8/site-packages/ray/rllib/utils/metrics/learner_info.py:64: RuntimeWarning: Mean of empty slice\n",
      "  lambda *s: None if s[0] is None else np.nanmean(s, axis=0),\n",
      "/home/allenwu/anaconda3/envs/marllib/lib/python3.8/site-packages/ray/rllib/utils/metrics/learner_info.py:64: RuntimeWarning: Mean of empty slice\n",
      "  lambda *s: None if s[0] is None else np.nanmean(s, axis=0),\n",
      "/home/allenwu/anaconda3/envs/marllib/lib/python3.8/site-packages/ray/rllib/utils/metrics/learner_info.py:64: RuntimeWarning: Mean of empty slice\n",
      "  lambda *s: None if s[0] is None else np.nanmean(s, axis=0),\n",
      "/home/allenwu/anaconda3/envs/marllib/lib/python3.8/site-packages/ray/rllib/utils/metrics/learner_info.py:64: RuntimeWarning: Mean of empty slice\n",
      "  lambda *s: None if s[0] is None else np.nanmean(s, axis=0),\n",
      "/home/allenwu/anaconda3/envs/marllib/lib/python3.8/site-packages/ray/rllib/utils/metrics/learner_info.py:64: RuntimeWarning: Mean of empty slice\n",
      "  lambda *s: None if s[0] is None else np.nanmean(s, axis=0),\n"
     ]
    },
    {
     "name": "stdout",
     "output_type": "stream",
     "text": [
      "== Status ==\n",
      "Current time: 2023-09-21 01:52:48 (running for 00:09:39.83)\n",
      "Memory usage on this node: 10.0/31.2 GiB\n",
      "Using FIFO scheduling algorithm.\n",
      "Resources requested: 3.0/24 CPUs, 1.0/0 GPUs, 0.0/15.61 GiB heap, 0.0/7.8 GiB objects (0.0/1.0 accelerator_type:G)\n",
      "Result logdir: /home/allenwu/Desktop/work/MARLlib-1.0.3/exp_results/happo_gru_CityLearn_5e-07_0.0005_APPEND-DATA_seed-2\n",
      "Number of trials: 1/1 (1 RUNNING)\n",
      "\n",
      "\n"
     ]
    },
    {
     "name": "stderr",
     "output_type": "stream",
     "text": [
      "/home/allenwu/anaconda3/envs/marllib/lib/python3.8/site-packages/ray/rllib/utils/metrics/learner_info.py:64: RuntimeWarning: Mean of empty slice\n",
      "  lambda *s: None if s[0] is None else np.nanmean(s, axis=0),\n",
      "/home/allenwu/anaconda3/envs/marllib/lib/python3.8/site-packages/ray/rllib/utils/metrics/learner_info.py:64: RuntimeWarning: Mean of empty slice\n",
      "  lambda *s: None if s[0] is None else np.nanmean(s, axis=0),\n",
      "/home/allenwu/anaconda3/envs/marllib/lib/python3.8/site-packages/ray/rllib/utils/metrics/learner_info.py:64: RuntimeWarning: Mean of empty slice\n",
      "  lambda *s: None if s[0] is None else np.nanmean(s, axis=0),\n",
      "/home/allenwu/anaconda3/envs/marllib/lib/python3.8/site-packages/ray/rllib/utils/metrics/learner_info.py:64: RuntimeWarning: Mean of empty slice\n",
      "  lambda *s: None if s[0] is None else np.nanmean(s, axis=0),\n",
      "/home/allenwu/anaconda3/envs/marllib/lib/python3.8/site-packages/ray/rllib/utils/metrics/learner_info.py:64: RuntimeWarning: Mean of empty slice\n",
      "  lambda *s: None if s[0] is None else np.nanmean(s, axis=0),\n"
     ]
    },
    {
     "name": "stdout",
     "output_type": "stream",
     "text": [
      "== Status ==\n",
      "Current time: 2023-09-21 01:52:53 (running for 00:09:45.15)\n",
      "Memory usage on this node: 10.0/31.2 GiB\n",
      "Using FIFO scheduling algorithm.\n",
      "Resources requested: 3.0/24 CPUs, 1.0/0 GPUs, 0.0/15.61 GiB heap, 0.0/7.8 GiB objects (0.0/1.0 accelerator_type:G)\n",
      "Result logdir: /home/allenwu/Desktop/work/MARLlib-1.0.3/exp_results/happo_gru_CityLearn_5e-07_0.0005_APPEND-DATA_seed-2\n",
      "Number of trials: 1/1 (1 RUNNING)\n",
      "\n",
      "\n"
     ]
    },
    {
     "name": "stderr",
     "output_type": "stream",
     "text": [
      "/home/allenwu/anaconda3/envs/marllib/lib/python3.8/site-packages/ray/rllib/utils/metrics/learner_info.py:64: RuntimeWarning: Mean of empty slice\n",
      "  lambda *s: None if s[0] is None else np.nanmean(s, axis=0),\n",
      "/home/allenwu/anaconda3/envs/marllib/lib/python3.8/site-packages/ray/rllib/utils/metrics/learner_info.py:64: RuntimeWarning: Mean of empty slice\n",
      "  lambda *s: None if s[0] is None else np.nanmean(s, axis=0),\n",
      "/home/allenwu/anaconda3/envs/marllib/lib/python3.8/site-packages/ray/rllib/utils/metrics/learner_info.py:64: RuntimeWarning: Mean of empty slice\n",
      "  lambda *s: None if s[0] is None else np.nanmean(s, axis=0),\n",
      "/home/allenwu/anaconda3/envs/marllib/lib/python3.8/site-packages/ray/rllib/utils/metrics/learner_info.py:64: RuntimeWarning: Mean of empty slice\n",
      "  lambda *s: None if s[0] is None else np.nanmean(s, axis=0),\n",
      "/home/allenwu/anaconda3/envs/marllib/lib/python3.8/site-packages/ray/rllib/utils/metrics/learner_info.py:64: RuntimeWarning: Mean of empty slice\n",
      "  lambda *s: None if s[0] is None else np.nanmean(s, axis=0),\n",
      "/home/allenwu/anaconda3/envs/marllib/lib/python3.8/site-packages/ray/rllib/utils/metrics/learner_info.py:64: RuntimeWarning: Mean of empty slice\n",
      "  lambda *s: None if s[0] is None else np.nanmean(s, axis=0),\n",
      "/home/allenwu/anaconda3/envs/marllib/lib/python3.8/site-packages/ray/rllib/utils/metrics/learner_info.py:64: RuntimeWarning: Mean of empty slice\n",
      "  lambda *s: None if s[0] is None else np.nanmean(s, axis=0),\n"
     ]
    },
    {
     "name": "stdout",
     "output_type": "stream",
     "text": [
      "== Status ==\n",
      "Current time: 2023-09-21 01:52:59 (running for 00:09:50.49)\n",
      "Memory usage on this node: 10.1/31.2 GiB\n",
      "Using FIFO scheduling algorithm.\n",
      "Resources requested: 3.0/24 CPUs, 1.0/0 GPUs, 0.0/15.61 GiB heap, 0.0/7.8 GiB objects (0.0/1.0 accelerator_type:G)\n",
      "Result logdir: /home/allenwu/Desktop/work/MARLlib-1.0.3/exp_results/happo_gru_CityLearn_5e-07_0.0005_APPEND-DATA_seed-2\n",
      "Number of trials: 1/1 (1 RUNNING)\n",
      "\n",
      "\n"
     ]
    },
    {
     "name": "stderr",
     "output_type": "stream",
     "text": [
      "/home/allenwu/anaconda3/envs/marllib/lib/python3.8/site-packages/ray/rllib/utils/metrics/learner_info.py:64: RuntimeWarning: Mean of empty slice\n",
      "  lambda *s: None if s[0] is None else np.nanmean(s, axis=0),\n",
      "/home/allenwu/anaconda3/envs/marllib/lib/python3.8/site-packages/ray/rllib/utils/metrics/learner_info.py:64: RuntimeWarning: Mean of empty slice\n",
      "  lambda *s: None if s[0] is None else np.nanmean(s, axis=0),\n",
      "/home/allenwu/anaconda3/envs/marllib/lib/python3.8/site-packages/ray/rllib/utils/metrics/learner_info.py:64: RuntimeWarning: Mean of empty slice\n",
      "  lambda *s: None if s[0] is None else np.nanmean(s, axis=0),\n",
      "/home/allenwu/anaconda3/envs/marllib/lib/python3.8/site-packages/ray/rllib/utils/metrics/learner_info.py:64: RuntimeWarning: Mean of empty slice\n",
      "  lambda *s: None if s[0] is None else np.nanmean(s, axis=0),\n",
      "/home/allenwu/anaconda3/envs/marllib/lib/python3.8/site-packages/ray/rllib/utils/metrics/learner_info.py:64: RuntimeWarning: Mean of empty slice\n",
      "  lambda *s: None if s[0] is None else np.nanmean(s, axis=0),\n",
      "/home/allenwu/anaconda3/envs/marllib/lib/python3.8/site-packages/ray/rllib/utils/metrics/learner_info.py:64: RuntimeWarning: Mean of empty slice\n",
      "  lambda *s: None if s[0] is None else np.nanmean(s, axis=0),\n"
     ]
    },
    {
     "name": "stdout",
     "output_type": "stream",
     "text": [
      "== Status ==\n",
      "Current time: 2023-09-21 01:53:04 (running for 00:09:55.90)\n",
      "Memory usage on this node: 10.0/31.2 GiB\n",
      "Using FIFO scheduling algorithm.\n",
      "Resources requested: 3.0/24 CPUs, 1.0/0 GPUs, 0.0/15.61 GiB heap, 0.0/7.8 GiB objects (0.0/1.0 accelerator_type:G)\n",
      "Result logdir: /home/allenwu/Desktop/work/MARLlib-1.0.3/exp_results/happo_gru_CityLearn_5e-07_0.0005_APPEND-DATA_seed-2\n",
      "Number of trials: 1/1 (1 RUNNING)\n",
      "\n",
      "\n"
     ]
    },
    {
     "name": "stderr",
     "output_type": "stream",
     "text": [
      "/home/allenwu/anaconda3/envs/marllib/lib/python3.8/site-packages/ray/rllib/utils/metrics/learner_info.py:64: RuntimeWarning: Mean of empty slice\n",
      "  lambda *s: None if s[0] is None else np.nanmean(s, axis=0),\n",
      "/home/allenwu/anaconda3/envs/marllib/lib/python3.8/site-packages/ray/rllib/utils/metrics/learner_info.py:64: RuntimeWarning: Mean of empty slice\n",
      "  lambda *s: None if s[0] is None else np.nanmean(s, axis=0),\n",
      "/home/allenwu/anaconda3/envs/marllib/lib/python3.8/site-packages/ray/rllib/utils/metrics/learner_info.py:64: RuntimeWarning: Mean of empty slice\n",
      "  lambda *s: None if s[0] is None else np.nanmean(s, axis=0),\n",
      "/home/allenwu/anaconda3/envs/marllib/lib/python3.8/site-packages/ray/rllib/utils/metrics/learner_info.py:64: RuntimeWarning: Mean of empty slice\n",
      "  lambda *s: None if s[0] is None else np.nanmean(s, axis=0),\n",
      "/home/allenwu/anaconda3/envs/marllib/lib/python3.8/site-packages/ray/rllib/utils/metrics/learner_info.py:64: RuntimeWarning: Mean of empty slice\n",
      "  lambda *s: None if s[0] is None else np.nanmean(s, axis=0),\n"
     ]
    },
    {
     "name": "stdout",
     "output_type": "stream",
     "text": [
      "== Status ==\n",
      "Current time: 2023-09-21 01:53:09 (running for 00:10:00.93)\n",
      "Memory usage on this node: 10.1/31.2 GiB\n",
      "Using FIFO scheduling algorithm.\n",
      "Resources requested: 3.0/24 CPUs, 1.0/0 GPUs, 0.0/15.61 GiB heap, 0.0/7.8 GiB objects (0.0/1.0 accelerator_type:G)\n",
      "Result logdir: /home/allenwu/Desktop/work/MARLlib-1.0.3/exp_results/happo_gru_CityLearn_5e-07_0.0005_APPEND-DATA_seed-2\n",
      "Number of trials: 1/1 (1 RUNNING)\n",
      "\n",
      "\n"
     ]
    },
    {
     "name": "stderr",
     "output_type": "stream",
     "text": [
      "/home/allenwu/anaconda3/envs/marllib/lib/python3.8/site-packages/ray/rllib/utils/metrics/learner_info.py:64: RuntimeWarning: Mean of empty slice\n",
      "  lambda *s: None if s[0] is None else np.nanmean(s, axis=0),\n",
      "/home/allenwu/anaconda3/envs/marllib/lib/python3.8/site-packages/ray/rllib/utils/metrics/learner_info.py:64: RuntimeWarning: Mean of empty slice\n",
      "  lambda *s: None if s[0] is None else np.nanmean(s, axis=0),\n",
      "/home/allenwu/anaconda3/envs/marllib/lib/python3.8/site-packages/ray/rllib/utils/metrics/learner_info.py:64: RuntimeWarning: Mean of empty slice\n",
      "  lambda *s: None if s[0] is None else np.nanmean(s, axis=0),\n",
      "2023-09-21 01:53:11,522\tWARNING ray_trial_executor.py:768 -- Over the last 60 seconds, the Tune event loop has been backlogged processing new results. Consider increasing your period of result reporting to improve performance.\n",
      "/home/allenwu/anaconda3/envs/marllib/lib/python3.8/site-packages/ray/rllib/utils/metrics/learner_info.py:64: RuntimeWarning: Mean of empty slice\n",
      "  lambda *s: None if s[0] is None else np.nanmean(s, axis=0),\n",
      "/home/allenwu/anaconda3/envs/marllib/lib/python3.8/site-packages/ray/rllib/utils/metrics/learner_info.py:64: RuntimeWarning: Mean of empty slice\n",
      "  lambda *s: None if s[0] is None else np.nanmean(s, axis=0),\n",
      "/home/allenwu/anaconda3/envs/marllib/lib/python3.8/site-packages/ray/rllib/utils/metrics/learner_info.py:64: RuntimeWarning: Mean of empty slice\n",
      "  lambda *s: None if s[0] is None else np.nanmean(s, axis=0),\n",
      "/home/allenwu/anaconda3/envs/marllib/lib/python3.8/site-packages/ray/rllib/utils/metrics/learner_info.py:64: RuntimeWarning: Mean of empty slice\n",
      "  lambda *s: None if s[0] is None else np.nanmean(s, axis=0),\n"
     ]
    },
    {
     "name": "stdout",
     "output_type": "stream",
     "text": [
      "== Status ==\n",
      "Current time: 2023-09-21 01:53:15 (running for 00:10:06.32)\n",
      "Memory usage on this node: 10.1/31.2 GiB\n",
      "Using FIFO scheduling algorithm.\n",
      "Resources requested: 3.0/24 CPUs, 1.0/0 GPUs, 0.0/15.61 GiB heap, 0.0/7.8 GiB objects (0.0/1.0 accelerator_type:G)\n",
      "Result logdir: /home/allenwu/Desktop/work/MARLlib-1.0.3/exp_results/happo_gru_CityLearn_5e-07_0.0005_APPEND-DATA_seed-2\n",
      "Number of trials: 1/1 (1 RUNNING)\n",
      "\n",
      "\n"
     ]
    },
    {
     "name": "stderr",
     "output_type": "stream",
     "text": [
      "/home/allenwu/anaconda3/envs/marllib/lib/python3.8/site-packages/ray/rllib/utils/metrics/learner_info.py:64: RuntimeWarning: Mean of empty slice\n",
      "  lambda *s: None if s[0] is None else np.nanmean(s, axis=0),\n",
      "/home/allenwu/anaconda3/envs/marllib/lib/python3.8/site-packages/ray/rllib/utils/metrics/learner_info.py:64: RuntimeWarning: Mean of empty slice\n",
      "  lambda *s: None if s[0] is None else np.nanmean(s, axis=0),\n",
      "/home/allenwu/anaconda3/envs/marllib/lib/python3.8/site-packages/ray/rllib/utils/metrics/learner_info.py:64: RuntimeWarning: Mean of empty slice\n",
      "  lambda *s: None if s[0] is None else np.nanmean(s, axis=0),\n",
      "/home/allenwu/anaconda3/envs/marllib/lib/python3.8/site-packages/ray/rllib/utils/metrics/learner_info.py:64: RuntimeWarning: Mean of empty slice\n",
      "  lambda *s: None if s[0] is None else np.nanmean(s, axis=0),\n",
      "/home/allenwu/anaconda3/envs/marllib/lib/python3.8/site-packages/ray/rllib/utils/metrics/learner_info.py:64: RuntimeWarning: Mean of empty slice\n",
      "  lambda *s: None if s[0] is None else np.nanmean(s, axis=0),\n"
     ]
    },
    {
     "name": "stdout",
     "output_type": "stream",
     "text": [
      "== Status ==\n",
      "Current time: 2023-09-21 01:53:20 (running for 00:10:11.65)\n",
      "Memory usage on this node: 10.1/31.2 GiB\n",
      "Using FIFO scheduling algorithm.\n",
      "Resources requested: 3.0/24 CPUs, 1.0/0 GPUs, 0.0/15.61 GiB heap, 0.0/7.8 GiB objects (0.0/1.0 accelerator_type:G)\n",
      "Result logdir: /home/allenwu/Desktop/work/MARLlib-1.0.3/exp_results/happo_gru_CityLearn_5e-07_0.0005_APPEND-DATA_seed-2\n",
      "Number of trials: 1/1 (1 RUNNING)\n",
      "\n",
      "\n"
     ]
    },
    {
     "name": "stderr",
     "output_type": "stream",
     "text": [
      "/home/allenwu/anaconda3/envs/marllib/lib/python3.8/site-packages/ray/rllib/utils/metrics/learner_info.py:64: RuntimeWarning: Mean of empty slice\n",
      "  lambda *s: None if s[0] is None else np.nanmean(s, axis=0),\n",
      "/home/allenwu/anaconda3/envs/marllib/lib/python3.8/site-packages/ray/rllib/utils/metrics/learner_info.py:64: RuntimeWarning: Mean of empty slice\n",
      "  lambda *s: None if s[0] is None else np.nanmean(s, axis=0),\n",
      "/home/allenwu/anaconda3/envs/marllib/lib/python3.8/site-packages/ray/rllib/utils/metrics/learner_info.py:64: RuntimeWarning: Mean of empty slice\n",
      "  lambda *s: None if s[0] is None else np.nanmean(s, axis=0),\n",
      "/home/allenwu/anaconda3/envs/marllib/lib/python3.8/site-packages/ray/rllib/utils/metrics/learner_info.py:64: RuntimeWarning: Mean of empty slice\n",
      "  lambda *s: None if s[0] is None else np.nanmean(s, axis=0),\n",
      "/home/allenwu/anaconda3/envs/marllib/lib/python3.8/site-packages/ray/rllib/utils/metrics/learner_info.py:64: RuntimeWarning: Mean of empty slice\n",
      "  lambda *s: None if s[0] is None else np.nanmean(s, axis=0),\n"
     ]
    },
    {
     "name": "stdout",
     "output_type": "stream",
     "text": [
      "== Status ==\n",
      "Current time: 2023-09-21 01:53:25 (running for 00:10:16.98)\n",
      "Memory usage on this node: 10.2/31.2 GiB\n",
      "Using FIFO scheduling algorithm.\n",
      "Resources requested: 3.0/24 CPUs, 1.0/0 GPUs, 0.0/15.61 GiB heap, 0.0/7.8 GiB objects (0.0/1.0 accelerator_type:G)\n",
      "Result logdir: /home/allenwu/Desktop/work/MARLlib-1.0.3/exp_results/happo_gru_CityLearn_5e-07_0.0005_APPEND-DATA_seed-2\n",
      "Number of trials: 1/1 (1 RUNNING)\n",
      "\n",
      "\n"
     ]
    },
    {
     "name": "stderr",
     "output_type": "stream",
     "text": [
      "/home/allenwu/anaconda3/envs/marllib/lib/python3.8/site-packages/ray/rllib/utils/metrics/learner_info.py:64: RuntimeWarning: Mean of empty slice\n",
      "  lambda *s: None if s[0] is None else np.nanmean(s, axis=0),\n",
      "/home/allenwu/anaconda3/envs/marllib/lib/python3.8/site-packages/ray/rllib/utils/metrics/learner_info.py:64: RuntimeWarning: Mean of empty slice\n",
      "  lambda *s: None if s[0] is None else np.nanmean(s, axis=0),\n",
      "/home/allenwu/anaconda3/envs/marllib/lib/python3.8/site-packages/ray/rllib/utils/metrics/learner_info.py:64: RuntimeWarning: Mean of empty slice\n",
      "  lambda *s: None if s[0] is None else np.nanmean(s, axis=0),\n",
      "/home/allenwu/anaconda3/envs/marllib/lib/python3.8/site-packages/ray/rllib/utils/metrics/learner_info.py:64: RuntimeWarning: Mean of empty slice\n",
      "  lambda *s: None if s[0] is None else np.nanmean(s, axis=0),\n",
      "/home/allenwu/anaconda3/envs/marllib/lib/python3.8/site-packages/ray/rllib/utils/metrics/learner_info.py:64: RuntimeWarning: Mean of empty slice\n",
      "  lambda *s: None if s[0] is None else np.nanmean(s, axis=0),\n",
      "/home/allenwu/anaconda3/envs/marllib/lib/python3.8/site-packages/ray/rllib/utils/metrics/learner_info.py:64: RuntimeWarning: Mean of empty slice\n",
      "  lambda *s: None if s[0] is None else np.nanmean(s, axis=0),\n"
     ]
    },
    {
     "name": "stdout",
     "output_type": "stream",
     "text": [
      "== Status ==\n",
      "Current time: 2023-09-21 01:53:31 (running for 00:10:22.30)\n",
      "Memory usage on this node: 10.2/31.2 GiB\n",
      "Using FIFO scheduling algorithm.\n",
      "Resources requested: 3.0/24 CPUs, 1.0/0 GPUs, 0.0/15.61 GiB heap, 0.0/7.8 GiB objects (0.0/1.0 accelerator_type:G)\n",
      "Result logdir: /home/allenwu/Desktop/work/MARLlib-1.0.3/exp_results/happo_gru_CityLearn_5e-07_0.0005_APPEND-DATA_seed-2\n",
      "Number of trials: 1/1 (1 RUNNING)\n",
      "\n",
      "\n"
     ]
    },
    {
     "name": "stderr",
     "output_type": "stream",
     "text": [
      "/home/allenwu/anaconda3/envs/marllib/lib/python3.8/site-packages/ray/rllib/utils/metrics/learner_info.py:64: RuntimeWarning: Mean of empty slice\n",
      "  lambda *s: None if s[0] is None else np.nanmean(s, axis=0),\n",
      "/home/allenwu/anaconda3/envs/marllib/lib/python3.8/site-packages/ray/rllib/utils/metrics/learner_info.py:64: RuntimeWarning: Mean of empty slice\n",
      "  lambda *s: None if s[0] is None else np.nanmean(s, axis=0),\n",
      "/home/allenwu/anaconda3/envs/marllib/lib/python3.8/site-packages/ray/rllib/utils/metrics/learner_info.py:64: RuntimeWarning: Mean of empty slice\n",
      "  lambda *s: None if s[0] is None else np.nanmean(s, axis=0),\n",
      "/home/allenwu/anaconda3/envs/marllib/lib/python3.8/site-packages/ray/rllib/utils/metrics/learner_info.py:64: RuntimeWarning: Mean of empty slice\n",
      "  lambda *s: None if s[0] is None else np.nanmean(s, axis=0),\n",
      "/home/allenwu/anaconda3/envs/marllib/lib/python3.8/site-packages/ray/rllib/utils/metrics/learner_info.py:64: RuntimeWarning: Mean of empty slice\n",
      "  lambda *s: None if s[0] is None else np.nanmean(s, axis=0),\n",
      "/home/allenwu/anaconda3/envs/marllib/lib/python3.8/site-packages/ray/rllib/utils/metrics/learner_info.py:64: RuntimeWarning: Mean of empty slice\n",
      "  lambda *s: None if s[0] is None else np.nanmean(s, axis=0),\n",
      "/home/allenwu/anaconda3/envs/marllib/lib/python3.8/site-packages/ray/rllib/utils/metrics/learner_info.py:64: RuntimeWarning: Mean of empty slice\n",
      "  lambda *s: None if s[0] is None else np.nanmean(s, axis=0),\n",
      "/home/allenwu/anaconda3/envs/marllib/lib/python3.8/site-packages/ray/rllib/utils/metrics/learner_info.py:64: RuntimeWarning: Mean of empty slice\n",
      "  lambda *s: None if s[0] is None else np.nanmean(s, axis=0),\n"
     ]
    },
    {
     "name": "stdout",
     "output_type": "stream",
     "text": [
      "== Status ==\n",
      "Current time: 2023-09-21 01:53:36 (running for 00:10:27.68)\n",
      "Memory usage on this node: 10.2/31.2 GiB\n",
      "Using FIFO scheduling algorithm.\n",
      "Resources requested: 3.0/24 CPUs, 1.0/0 GPUs, 0.0/15.61 GiB heap, 0.0/7.8 GiB objects (0.0/1.0 accelerator_type:G)\n",
      "Result logdir: /home/allenwu/Desktop/work/MARLlib-1.0.3/exp_results/happo_gru_CityLearn_5e-07_0.0005_APPEND-DATA_seed-2\n",
      "Number of trials: 1/1 (1 RUNNING)\n",
      "\n",
      "\n"
     ]
    },
    {
     "name": "stderr",
     "output_type": "stream",
     "text": [
      "/home/allenwu/anaconda3/envs/marllib/lib/python3.8/site-packages/ray/rllib/utils/metrics/learner_info.py:64: RuntimeWarning: Mean of empty slice\n",
      "  lambda *s: None if s[0] is None else np.nanmean(s, axis=0),\n",
      "/home/allenwu/anaconda3/envs/marllib/lib/python3.8/site-packages/ray/rllib/utils/metrics/learner_info.py:64: RuntimeWarning: Mean of empty slice\n",
      "  lambda *s: None if s[0] is None else np.nanmean(s, axis=0),\n",
      "/home/allenwu/anaconda3/envs/marllib/lib/python3.8/site-packages/ray/rllib/utils/metrics/learner_info.py:64: RuntimeWarning: Mean of empty slice\n",
      "  lambda *s: None if s[0] is None else np.nanmean(s, axis=0),\n",
      "/home/allenwu/anaconda3/envs/marllib/lib/python3.8/site-packages/ray/rllib/utils/metrics/learner_info.py:64: RuntimeWarning: Mean of empty slice\n",
      "  lambda *s: None if s[0] is None else np.nanmean(s, axis=0),\n",
      "/home/allenwu/anaconda3/envs/marllib/lib/python3.8/site-packages/ray/rllib/utils/metrics/learner_info.py:64: RuntimeWarning: Mean of empty slice\n",
      "  lambda *s: None if s[0] is None else np.nanmean(s, axis=0),\n",
      "/home/allenwu/anaconda3/envs/marllib/lib/python3.8/site-packages/ray/rllib/utils/metrics/learner_info.py:64: RuntimeWarning: Mean of empty slice\n",
      "  lambda *s: None if s[0] is None else np.nanmean(s, axis=0),\n"
     ]
    },
    {
     "name": "stdout",
     "output_type": "stream",
     "text": [
      "== Status ==\n",
      "Current time: 2023-09-21 01:53:41 (running for 00:10:33.02)\n",
      "Memory usage on this node: 10.3/31.2 GiB\n",
      "Using FIFO scheduling algorithm.\n",
      "Resources requested: 3.0/24 CPUs, 1.0/0 GPUs, 0.0/15.61 GiB heap, 0.0/7.8 GiB objects (0.0/1.0 accelerator_type:G)\n",
      "Result logdir: /home/allenwu/Desktop/work/MARLlib-1.0.3/exp_results/happo_gru_CityLearn_5e-07_0.0005_APPEND-DATA_seed-2\n",
      "Number of trials: 1/1 (1 RUNNING)\n",
      "\n",
      "\n"
     ]
    },
    {
     "name": "stderr",
     "output_type": "stream",
     "text": [
      "/home/allenwu/anaconda3/envs/marllib/lib/python3.8/site-packages/ray/rllib/utils/metrics/learner_info.py:64: RuntimeWarning: Mean of empty slice\n",
      "  lambda *s: None if s[0] is None else np.nanmean(s, axis=0),\n",
      "/home/allenwu/anaconda3/envs/marllib/lib/python3.8/site-packages/ray/rllib/utils/metrics/learner_info.py:64: RuntimeWarning: Mean of empty slice\n",
      "  lambda *s: None if s[0] is None else np.nanmean(s, axis=0),\n",
      "/home/allenwu/anaconda3/envs/marllib/lib/python3.8/site-packages/ray/rllib/utils/metrics/learner_info.py:64: RuntimeWarning: Mean of empty slice\n",
      "  lambda *s: None if s[0] is None else np.nanmean(s, axis=0),\n",
      "/home/allenwu/anaconda3/envs/marllib/lib/python3.8/site-packages/ray/rllib/utils/metrics/learner_info.py:64: RuntimeWarning: Mean of empty slice\n",
      "  lambda *s: None if s[0] is None else np.nanmean(s, axis=0),\n"
     ]
    },
    {
     "name": "stdout",
     "output_type": "stream",
     "text": [
      "== Status ==\n",
      "Current time: 2023-09-21 01:53:47 (running for 00:10:38.30)\n",
      "Memory usage on this node: 10.3/31.2 GiB\n",
      "Using FIFO scheduling algorithm.\n",
      "Resources requested: 3.0/24 CPUs, 1.0/0 GPUs, 0.0/15.61 GiB heap, 0.0/7.8 GiB objects (0.0/1.0 accelerator_type:G)\n",
      "Result logdir: /home/allenwu/Desktop/work/MARLlib-1.0.3/exp_results/happo_gru_CityLearn_5e-07_0.0005_APPEND-DATA_seed-2\n",
      "Number of trials: 1/1 (1 RUNNING)\n",
      "\n",
      "\n"
     ]
    },
    {
     "name": "stderr",
     "output_type": "stream",
     "text": [
      "/home/allenwu/anaconda3/envs/marllib/lib/python3.8/site-packages/ray/rllib/utils/metrics/learner_info.py:64: RuntimeWarning: Mean of empty slice\n",
      "  lambda *s: None if s[0] is None else np.nanmean(s, axis=0),\n",
      "/home/allenwu/anaconda3/envs/marllib/lib/python3.8/site-packages/ray/rllib/utils/metrics/learner_info.py:64: RuntimeWarning: Mean of empty slice\n",
      "  lambda *s: None if s[0] is None else np.nanmean(s, axis=0),\n",
      "/home/allenwu/anaconda3/envs/marllib/lib/python3.8/site-packages/ray/rllib/utils/metrics/learner_info.py:64: RuntimeWarning: Mean of empty slice\n",
      "  lambda *s: None if s[0] is None else np.nanmean(s, axis=0),\n",
      "/home/allenwu/anaconda3/envs/marllib/lib/python3.8/site-packages/ray/rllib/utils/metrics/learner_info.py:64: RuntimeWarning: Mean of empty slice\n",
      "  lambda *s: None if s[0] is None else np.nanmean(s, axis=0),\n",
      "/home/allenwu/anaconda3/envs/marllib/lib/python3.8/site-packages/ray/rllib/utils/metrics/learner_info.py:64: RuntimeWarning: Mean of empty slice\n",
      "  lambda *s: None if s[0] is None else np.nanmean(s, axis=0),\n",
      "/home/allenwu/anaconda3/envs/marllib/lib/python3.8/site-packages/ray/rllib/utils/metrics/learner_info.py:64: RuntimeWarning: Mean of empty slice\n",
      "  lambda *s: None if s[0] is None else np.nanmean(s, axis=0),\n",
      "/home/allenwu/anaconda3/envs/marllib/lib/python3.8/site-packages/ray/rllib/utils/metrics/learner_info.py:64: RuntimeWarning: Mean of empty slice\n",
      "  lambda *s: None if s[0] is None else np.nanmean(s, axis=0),\n"
     ]
    },
    {
     "name": "stdout",
     "output_type": "stream",
     "text": [
      "== Status ==\n",
      "Current time: 2023-09-21 01:53:52 (running for 00:10:43.57)\n",
      "Memory usage on this node: 10.3/31.2 GiB\n",
      "Using FIFO scheduling algorithm.\n",
      "Resources requested: 3.0/24 CPUs, 1.0/0 GPUs, 0.0/15.61 GiB heap, 0.0/7.8 GiB objects (0.0/1.0 accelerator_type:G)\n",
      "Result logdir: /home/allenwu/Desktop/work/MARLlib-1.0.3/exp_results/happo_gru_CityLearn_5e-07_0.0005_APPEND-DATA_seed-2\n",
      "Number of trials: 1/1 (1 RUNNING)\n",
      "\n",
      "\n"
     ]
    },
    {
     "name": "stderr",
     "output_type": "stream",
     "text": [
      "/home/allenwu/anaconda3/envs/marllib/lib/python3.8/site-packages/ray/rllib/utils/metrics/learner_info.py:64: RuntimeWarning: Mean of empty slice\n",
      "  lambda *s: None if s[0] is None else np.nanmean(s, axis=0),\n",
      "/home/allenwu/anaconda3/envs/marllib/lib/python3.8/site-packages/ray/rllib/utils/metrics/learner_info.py:64: RuntimeWarning: Mean of empty slice\n",
      "  lambda *s: None if s[0] is None else np.nanmean(s, axis=0),\n",
      "/home/allenwu/anaconda3/envs/marllib/lib/python3.8/site-packages/ray/rllib/utils/metrics/learner_info.py:64: RuntimeWarning: Mean of empty slice\n",
      "  lambda *s: None if s[0] is None else np.nanmean(s, axis=0),\n",
      "/home/allenwu/anaconda3/envs/marllib/lib/python3.8/site-packages/ray/rllib/utils/metrics/learner_info.py:64: RuntimeWarning: Mean of empty slice\n",
      "  lambda *s: None if s[0] is None else np.nanmean(s, axis=0),\n",
      "/home/allenwu/anaconda3/envs/marllib/lib/python3.8/site-packages/ray/rllib/utils/metrics/learner_info.py:64: RuntimeWarning: Mean of empty slice\n",
      "  lambda *s: None if s[0] is None else np.nanmean(s, axis=0),\n",
      "/home/allenwu/anaconda3/envs/marllib/lib/python3.8/site-packages/ray/rllib/utils/metrics/learner_info.py:64: RuntimeWarning: Mean of empty slice\n",
      "  lambda *s: None if s[0] is None else np.nanmean(s, axis=0),\n",
      "/home/allenwu/anaconda3/envs/marllib/lib/python3.8/site-packages/ray/rllib/utils/metrics/learner_info.py:64: RuntimeWarning: Mean of empty slice\n",
      "  lambda *s: None if s[0] is None else np.nanmean(s, axis=0),\n"
     ]
    },
    {
     "name": "stdout",
     "output_type": "stream",
     "text": [
      "== Status ==\n",
      "Current time: 2023-09-21 01:53:57 (running for 00:10:48.87)\n",
      "Memory usage on this node: 10.4/31.2 GiB\n",
      "Using FIFO scheduling algorithm.\n",
      "Resources requested: 3.0/24 CPUs, 1.0/0 GPUs, 0.0/15.61 GiB heap, 0.0/7.8 GiB objects (0.0/1.0 accelerator_type:G)\n",
      "Result logdir: /home/allenwu/Desktop/work/MARLlib-1.0.3/exp_results/happo_gru_CityLearn_5e-07_0.0005_APPEND-DATA_seed-2\n",
      "Number of trials: 1/1 (1 RUNNING)\n",
      "\n",
      "\n"
     ]
    },
    {
     "name": "stderr",
     "output_type": "stream",
     "text": [
      "/home/allenwu/anaconda3/envs/marllib/lib/python3.8/site-packages/ray/rllib/utils/metrics/learner_info.py:64: RuntimeWarning: Mean of empty slice\n",
      "  lambda *s: None if s[0] is None else np.nanmean(s, axis=0),\n",
      "/home/allenwu/anaconda3/envs/marllib/lib/python3.8/site-packages/ray/rllib/utils/metrics/learner_info.py:64: RuntimeWarning: Mean of empty slice\n",
      "  lambda *s: None if s[0] is None else np.nanmean(s, axis=0),\n",
      "/home/allenwu/anaconda3/envs/marllib/lib/python3.8/site-packages/ray/rllib/utils/metrics/learner_info.py:64: RuntimeWarning: Mean of empty slice\n",
      "  lambda *s: None if s[0] is None else np.nanmean(s, axis=0),\n"
     ]
    },
    {
     "name": "stdout",
     "output_type": "stream",
     "text": [
      "== Status ==\n",
      "Current time: 2023-09-21 01:54:02 (running for 00:10:54.16)\n",
      "Memory usage on this node: 10.4/31.2 GiB\n",
      "Using FIFO scheduling algorithm.\n",
      "Resources requested: 3.0/24 CPUs, 1.0/0 GPUs, 0.0/15.61 GiB heap, 0.0/7.8 GiB objects (0.0/1.0 accelerator_type:G)\n",
      "Result logdir: /home/allenwu/Desktop/work/MARLlib-1.0.3/exp_results/happo_gru_CityLearn_5e-07_0.0005_APPEND-DATA_seed-2\n",
      "Number of trials: 1/1 (1 RUNNING)\n",
      "\n",
      "\n"
     ]
    },
    {
     "name": "stderr",
     "output_type": "stream",
     "text": [
      "/home/allenwu/anaconda3/envs/marllib/lib/python3.8/site-packages/ray/rllib/utils/metrics/learner_info.py:64: RuntimeWarning: Mean of empty slice\n",
      "  lambda *s: None if s[0] is None else np.nanmean(s, axis=0),\n",
      "/home/allenwu/anaconda3/envs/marllib/lib/python3.8/site-packages/ray/rllib/utils/metrics/learner_info.py:64: RuntimeWarning: Mean of empty slice\n",
      "  lambda *s: None if s[0] is None else np.nanmean(s, axis=0),\n",
      "/home/allenwu/anaconda3/envs/marllib/lib/python3.8/site-packages/ray/rllib/utils/metrics/learner_info.py:64: RuntimeWarning: Mean of empty slice\n",
      "  lambda *s: None if s[0] is None else np.nanmean(s, axis=0),\n",
      "/home/allenwu/anaconda3/envs/marllib/lib/python3.8/site-packages/ray/rllib/utils/metrics/learner_info.py:64: RuntimeWarning: Mean of empty slice\n",
      "  lambda *s: None if s[0] is None else np.nanmean(s, axis=0),\n",
      "/home/allenwu/anaconda3/envs/marllib/lib/python3.8/site-packages/ray/rllib/utils/metrics/learner_info.py:64: RuntimeWarning: Mean of empty slice\n",
      "  lambda *s: None if s[0] is None else np.nanmean(s, axis=0),\n",
      "/home/allenwu/anaconda3/envs/marllib/lib/python3.8/site-packages/ray/rllib/utils/metrics/learner_info.py:64: RuntimeWarning: Mean of empty slice\n",
      "  lambda *s: None if s[0] is None else np.nanmean(s, axis=0),\n"
     ]
    },
    {
     "name": "stdout",
     "output_type": "stream",
     "text": [
      "== Status ==\n",
      "Current time: 2023-09-21 01:54:08 (running for 00:10:59.50)\n",
      "Memory usage on this node: 10.4/31.2 GiB\n",
      "Using FIFO scheduling algorithm.\n",
      "Resources requested: 3.0/24 CPUs, 1.0/0 GPUs, 0.0/15.61 GiB heap, 0.0/7.8 GiB objects (0.0/1.0 accelerator_type:G)\n",
      "Result logdir: /home/allenwu/Desktop/work/MARLlib-1.0.3/exp_results/happo_gru_CityLearn_5e-07_0.0005_APPEND-DATA_seed-2\n",
      "Number of trials: 1/1 (1 RUNNING)\n",
      "\n",
      "\n"
     ]
    },
    {
     "name": "stderr",
     "output_type": "stream",
     "text": [
      "/home/allenwu/anaconda3/envs/marllib/lib/python3.8/site-packages/ray/rllib/utils/metrics/learner_info.py:64: RuntimeWarning: Mean of empty slice\n",
      "  lambda *s: None if s[0] is None else np.nanmean(s, axis=0),\n",
      "/home/allenwu/anaconda3/envs/marllib/lib/python3.8/site-packages/ray/rllib/utils/metrics/learner_info.py:64: RuntimeWarning: Mean of empty slice\n",
      "  lambda *s: None if s[0] is None else np.nanmean(s, axis=0),\n",
      "/home/allenwu/anaconda3/envs/marllib/lib/python3.8/site-packages/ray/rllib/utils/metrics/learner_info.py:64: RuntimeWarning: Mean of empty slice\n",
      "  lambda *s: None if s[0] is None else np.nanmean(s, axis=0),\n",
      "/home/allenwu/anaconda3/envs/marllib/lib/python3.8/site-packages/ray/rllib/utils/metrics/learner_info.py:64: RuntimeWarning: Mean of empty slice\n",
      "  lambda *s: None if s[0] is None else np.nanmean(s, axis=0),\n",
      "2023-09-21 01:54:11,865\tWARNING ray_trial_executor.py:768 -- Over the last 60 seconds, the Tune event loop has been backlogged processing new results. Consider increasing your period of result reporting to improve performance.\n",
      "/home/allenwu/anaconda3/envs/marllib/lib/python3.8/site-packages/ray/rllib/utils/metrics/learner_info.py:64: RuntimeWarning: Mean of empty slice\n",
      "  lambda *s: None if s[0] is None else np.nanmean(s, axis=0),\n",
      "/home/allenwu/anaconda3/envs/marllib/lib/python3.8/site-packages/ray/rllib/utils/metrics/learner_info.py:64: RuntimeWarning: Mean of empty slice\n",
      "  lambda *s: None if s[0] is None else np.nanmean(s, axis=0),\n"
     ]
    },
    {
     "name": "stdout",
     "output_type": "stream",
     "text": [
      "== Status ==\n",
      "Current time: 2023-09-21 01:54:13 (running for 00:11:04.90)\n",
      "Memory usage on this node: 10.5/31.2 GiB\n",
      "Using FIFO scheduling algorithm.\n",
      "Resources requested: 3.0/24 CPUs, 1.0/0 GPUs, 0.0/15.61 GiB heap, 0.0/7.8 GiB objects (0.0/1.0 accelerator_type:G)\n",
      "Result logdir: /home/allenwu/Desktop/work/MARLlib-1.0.3/exp_results/happo_gru_CityLearn_5e-07_0.0005_APPEND-DATA_seed-2\n",
      "Number of trials: 1/1 (1 RUNNING)\n",
      "\n",
      "\n"
     ]
    },
    {
     "name": "stderr",
     "output_type": "stream",
     "text": [
      "/home/allenwu/anaconda3/envs/marllib/lib/python3.8/site-packages/ray/rllib/utils/metrics/learner_info.py:64: RuntimeWarning: Mean of empty slice\n",
      "  lambda *s: None if s[0] is None else np.nanmean(s, axis=0),\n",
      "/home/allenwu/anaconda3/envs/marllib/lib/python3.8/site-packages/ray/rllib/utils/metrics/learner_info.py:64: RuntimeWarning: Mean of empty slice\n",
      "  lambda *s: None if s[0] is None else np.nanmean(s, axis=0),\n",
      "/home/allenwu/anaconda3/envs/marllib/lib/python3.8/site-packages/ray/rllib/utils/metrics/learner_info.py:64: RuntimeWarning: Mean of empty slice\n",
      "  lambda *s: None if s[0] is None else np.nanmean(s, axis=0),\n",
      "/home/allenwu/anaconda3/envs/marllib/lib/python3.8/site-packages/ray/rllib/utils/metrics/learner_info.py:64: RuntimeWarning: Mean of empty slice\n",
      "  lambda *s: None if s[0] is None else np.nanmean(s, axis=0),\n"
     ]
    },
    {
     "name": "stdout",
     "output_type": "stream",
     "text": [
      "== Status ==\n",
      "Current time: 2023-09-21 01:54:19 (running for 00:11:10.33)\n",
      "Memory usage on this node: 10.4/31.2 GiB\n",
      "Using FIFO scheduling algorithm.\n",
      "Resources requested: 3.0/24 CPUs, 1.0/0 GPUs, 0.0/15.61 GiB heap, 0.0/7.8 GiB objects (0.0/1.0 accelerator_type:G)\n",
      "Result logdir: /home/allenwu/Desktop/work/MARLlib-1.0.3/exp_results/happo_gru_CityLearn_5e-07_0.0005_APPEND-DATA_seed-2\n",
      "Number of trials: 1/1 (1 RUNNING)\n",
      "\n",
      "\n"
     ]
    },
    {
     "name": "stderr",
     "output_type": "stream",
     "text": [
      "/home/allenwu/anaconda3/envs/marllib/lib/python3.8/site-packages/ray/rllib/utils/metrics/learner_info.py:64: RuntimeWarning: Mean of empty slice\n",
      "  lambda *s: None if s[0] is None else np.nanmean(s, axis=0),\n",
      "/home/allenwu/anaconda3/envs/marllib/lib/python3.8/site-packages/ray/rllib/utils/metrics/learner_info.py:64: RuntimeWarning: Mean of empty slice\n",
      "  lambda *s: None if s[0] is None else np.nanmean(s, axis=0),\n",
      "/home/allenwu/anaconda3/envs/marllib/lib/python3.8/site-packages/ray/rllib/utils/metrics/learner_info.py:64: RuntimeWarning: Mean of empty slice\n",
      "  lambda *s: None if s[0] is None else np.nanmean(s, axis=0),\n",
      "/home/allenwu/anaconda3/envs/marllib/lib/python3.8/site-packages/ray/rllib/utils/metrics/learner_info.py:64: RuntimeWarning: Mean of empty slice\n",
      "  lambda *s: None if s[0] is None else np.nanmean(s, axis=0),\n",
      "/home/allenwu/anaconda3/envs/marllib/lib/python3.8/site-packages/ray/rllib/utils/metrics/learner_info.py:64: RuntimeWarning: Mean of empty slice\n",
      "  lambda *s: None if s[0] is None else np.nanmean(s, axis=0),\n",
      "/home/allenwu/anaconda3/envs/marllib/lib/python3.8/site-packages/ray/rllib/utils/metrics/learner_info.py:64: RuntimeWarning: Mean of empty slice\n",
      "  lambda *s: None if s[0] is None else np.nanmean(s, axis=0),\n",
      "/home/allenwu/anaconda3/envs/marllib/lib/python3.8/site-packages/ray/rllib/utils/metrics/learner_info.py:64: RuntimeWarning: Mean of empty slice\n",
      "  lambda *s: None if s[0] is None else np.nanmean(s, axis=0),\n",
      "/home/allenwu/anaconda3/envs/marllib/lib/python3.8/site-packages/ray/rllib/utils/metrics/learner_info.py:64: RuntimeWarning: Mean of empty slice\n",
      "  lambda *s: None if s[0] is None else np.nanmean(s, axis=0),\n",
      "/home/allenwu/anaconda3/envs/marllib/lib/python3.8/site-packages/ray/rllib/utils/metrics/learner_info.py:64: RuntimeWarning: Mean of empty slice\n",
      "  lambda *s: None if s[0] is None else np.nanmean(s, axis=0),\n"
     ]
    },
    {
     "name": "stdout",
     "output_type": "stream",
     "text": [
      "== Status ==\n",
      "Current time: 2023-09-21 01:54:24 (running for 00:11:15.72)\n",
      "Memory usage on this node: 10.5/31.2 GiB\n",
      "Using FIFO scheduling algorithm.\n",
      "Resources requested: 3.0/24 CPUs, 1.0/0 GPUs, 0.0/15.61 GiB heap, 0.0/7.8 GiB objects (0.0/1.0 accelerator_type:G)\n",
      "Result logdir: /home/allenwu/Desktop/work/MARLlib-1.0.3/exp_results/happo_gru_CityLearn_5e-07_0.0005_APPEND-DATA_seed-2\n",
      "Number of trials: 1/1 (1 RUNNING)\n",
      "\n",
      "\n"
     ]
    },
    {
     "name": "stderr",
     "output_type": "stream",
     "text": [
      "/home/allenwu/anaconda3/envs/marllib/lib/python3.8/site-packages/ray/rllib/utils/metrics/learner_info.py:64: RuntimeWarning: Mean of empty slice\n",
      "  lambda *s: None if s[0] is None else np.nanmean(s, axis=0),\n",
      "/home/allenwu/anaconda3/envs/marllib/lib/python3.8/site-packages/ray/rllib/utils/metrics/learner_info.py:64: RuntimeWarning: Mean of empty slice\n",
      "  lambda *s: None if s[0] is None else np.nanmean(s, axis=0),\n",
      "/home/allenwu/anaconda3/envs/marllib/lib/python3.8/site-packages/ray/rllib/utils/metrics/learner_info.py:64: RuntimeWarning: Mean of empty slice\n",
      "  lambda *s: None if s[0] is None else np.nanmean(s, axis=0),\n",
      "/home/allenwu/anaconda3/envs/marllib/lib/python3.8/site-packages/ray/rllib/utils/metrics/learner_info.py:64: RuntimeWarning: Mean of empty slice\n",
      "  lambda *s: None if s[0] is None else np.nanmean(s, axis=0),\n",
      "/home/allenwu/anaconda3/envs/marllib/lib/python3.8/site-packages/ray/rllib/utils/metrics/learner_info.py:64: RuntimeWarning: Mean of empty slice\n",
      "  lambda *s: None if s[0] is None else np.nanmean(s, axis=0),\n",
      "/home/allenwu/anaconda3/envs/marllib/lib/python3.8/site-packages/ray/rllib/utils/metrics/learner_info.py:64: RuntimeWarning: Mean of empty slice\n",
      "  lambda *s: None if s[0] is None else np.nanmean(s, axis=0),\n"
     ]
    },
    {
     "name": "stdout",
     "output_type": "stream",
     "text": [
      "== Status ==\n",
      "Current time: 2023-09-21 01:54:29 (running for 00:11:21.10)\n",
      "Memory usage on this node: 10.5/31.2 GiB\n",
      "Using FIFO scheduling algorithm.\n",
      "Resources requested: 3.0/24 CPUs, 1.0/0 GPUs, 0.0/15.61 GiB heap, 0.0/7.8 GiB objects (0.0/1.0 accelerator_type:G)\n",
      "Result logdir: /home/allenwu/Desktop/work/MARLlib-1.0.3/exp_results/happo_gru_CityLearn_5e-07_0.0005_APPEND-DATA_seed-2\n",
      "Number of trials: 1/1 (1 RUNNING)\n",
      "\n",
      "\n"
     ]
    },
    {
     "name": "stderr",
     "output_type": "stream",
     "text": [
      "/home/allenwu/anaconda3/envs/marllib/lib/python3.8/site-packages/ray/rllib/utils/metrics/learner_info.py:64: RuntimeWarning: Mean of empty slice\n",
      "  lambda *s: None if s[0] is None else np.nanmean(s, axis=0),\n",
      "/home/allenwu/anaconda3/envs/marllib/lib/python3.8/site-packages/ray/rllib/utils/metrics/learner_info.py:64: RuntimeWarning: Mean of empty slice\n",
      "  lambda *s: None if s[0] is None else np.nanmean(s, axis=0),\n",
      "/home/allenwu/anaconda3/envs/marllib/lib/python3.8/site-packages/ray/rllib/utils/metrics/learner_info.py:64: RuntimeWarning: Mean of empty slice\n",
      "  lambda *s: None if s[0] is None else np.nanmean(s, axis=0),\n",
      "/home/allenwu/anaconda3/envs/marllib/lib/python3.8/site-packages/ray/rllib/utils/metrics/learner_info.py:64: RuntimeWarning: Mean of empty slice\n",
      "  lambda *s: None if s[0] is None else np.nanmean(s, axis=0),\n",
      "/home/allenwu/anaconda3/envs/marllib/lib/python3.8/site-packages/ray/rllib/utils/metrics/learner_info.py:64: RuntimeWarning: Mean of empty slice\n",
      "  lambda *s: None if s[0] is None else np.nanmean(s, axis=0),\n",
      "/home/allenwu/anaconda3/envs/marllib/lib/python3.8/site-packages/ray/rllib/utils/metrics/learner_info.py:64: RuntimeWarning: Mean of empty slice\n",
      "  lambda *s: None if s[0] is None else np.nanmean(s, axis=0),\n",
      "/home/allenwu/anaconda3/envs/marllib/lib/python3.8/site-packages/ray/rllib/utils/metrics/learner_info.py:64: RuntimeWarning: Mean of empty slice\n",
      "  lambda *s: None if s[0] is None else np.nanmean(s, axis=0),\n"
     ]
    },
    {
     "name": "stdout",
     "output_type": "stream",
     "text": [
      "== Status ==\n",
      "Current time: 2023-09-21 01:54:35 (running for 00:11:26.38)\n",
      "Memory usage on this node: 10.6/31.2 GiB\n",
      "Using FIFO scheduling algorithm.\n",
      "Resources requested: 3.0/24 CPUs, 1.0/0 GPUs, 0.0/15.61 GiB heap, 0.0/7.8 GiB objects (0.0/1.0 accelerator_type:G)\n",
      "Result logdir: /home/allenwu/Desktop/work/MARLlib-1.0.3/exp_results/happo_gru_CityLearn_5e-07_0.0005_APPEND-DATA_seed-2\n",
      "Number of trials: 1/1 (1 RUNNING)\n",
      "\n",
      "\n"
     ]
    },
    {
     "name": "stderr",
     "output_type": "stream",
     "text": [
      "/home/allenwu/anaconda3/envs/marllib/lib/python3.8/site-packages/ray/rllib/utils/metrics/learner_info.py:64: RuntimeWarning: Mean of empty slice\n",
      "  lambda *s: None if s[0] is None else np.nanmean(s, axis=0),\n",
      "/home/allenwu/anaconda3/envs/marllib/lib/python3.8/site-packages/ray/rllib/utils/metrics/learner_info.py:64: RuntimeWarning: Mean of empty slice\n",
      "  lambda *s: None if s[0] is None else np.nanmean(s, axis=0),\n",
      "/home/allenwu/anaconda3/envs/marllib/lib/python3.8/site-packages/ray/rllib/utils/metrics/learner_info.py:64: RuntimeWarning: Mean of empty slice\n",
      "  lambda *s: None if s[0] is None else np.nanmean(s, axis=0),\n",
      "/home/allenwu/anaconda3/envs/marllib/lib/python3.8/site-packages/ray/rllib/utils/metrics/learner_info.py:64: RuntimeWarning: Mean of empty slice\n",
      "  lambda *s: None if s[0] is None else np.nanmean(s, axis=0),\n",
      "/home/allenwu/anaconda3/envs/marllib/lib/python3.8/site-packages/ray/rllib/utils/metrics/learner_info.py:64: RuntimeWarning: Mean of empty slice\n",
      "  lambda *s: None if s[0] is None else np.nanmean(s, axis=0),\n",
      "/home/allenwu/anaconda3/envs/marllib/lib/python3.8/site-packages/ray/rllib/utils/metrics/learner_info.py:64: RuntimeWarning: Mean of empty slice\n",
      "  lambda *s: None if s[0] is None else np.nanmean(s, axis=0),\n"
     ]
    },
    {
     "name": "stdout",
     "output_type": "stream",
     "text": [
      "== Status ==\n",
      "Current time: 2023-09-21 01:54:40 (running for 00:11:31.72)\n",
      "Memory usage on this node: 10.6/31.2 GiB\n",
      "Using FIFO scheduling algorithm.\n",
      "Resources requested: 3.0/24 CPUs, 1.0/0 GPUs, 0.0/15.61 GiB heap, 0.0/7.8 GiB objects (0.0/1.0 accelerator_type:G)\n",
      "Result logdir: /home/allenwu/Desktop/work/MARLlib-1.0.3/exp_results/happo_gru_CityLearn_5e-07_0.0005_APPEND-DATA_seed-2\n",
      "Number of trials: 1/1 (1 RUNNING)\n",
      "\n",
      "\n"
     ]
    },
    {
     "name": "stderr",
     "output_type": "stream",
     "text": [
      "/home/allenwu/anaconda3/envs/marllib/lib/python3.8/site-packages/ray/rllib/utils/metrics/learner_info.py:64: RuntimeWarning: Mean of empty slice\n",
      "  lambda *s: None if s[0] is None else np.nanmean(s, axis=0),\n",
      "/home/allenwu/anaconda3/envs/marllib/lib/python3.8/site-packages/ray/rllib/utils/metrics/learner_info.py:64: RuntimeWarning: Mean of empty slice\n",
      "  lambda *s: None if s[0] is None else np.nanmean(s, axis=0),\n",
      "/home/allenwu/anaconda3/envs/marllib/lib/python3.8/site-packages/ray/rllib/utils/metrics/learner_info.py:64: RuntimeWarning: Mean of empty slice\n",
      "  lambda *s: None if s[0] is None else np.nanmean(s, axis=0),\n",
      "/home/allenwu/anaconda3/envs/marllib/lib/python3.8/site-packages/ray/rllib/utils/metrics/learner_info.py:64: RuntimeWarning: Mean of empty slice\n",
      "  lambda *s: None if s[0] is None else np.nanmean(s, axis=0),\n",
      "/home/allenwu/anaconda3/envs/marllib/lib/python3.8/site-packages/ray/rllib/utils/metrics/learner_info.py:64: RuntimeWarning: Mean of empty slice\n",
      "  lambda *s: None if s[0] is None else np.nanmean(s, axis=0),\n",
      "/home/allenwu/anaconda3/envs/marllib/lib/python3.8/site-packages/ray/rllib/utils/metrics/learner_info.py:64: RuntimeWarning: Mean of empty slice\n",
      "  lambda *s: None if s[0] is None else np.nanmean(s, axis=0),\n",
      "/home/allenwu/anaconda3/envs/marllib/lib/python3.8/site-packages/ray/rllib/utils/metrics/learner_info.py:64: RuntimeWarning: Mean of empty slice\n",
      "  lambda *s: None if s[0] is None else np.nanmean(s, axis=0),\n",
      "/home/allenwu/anaconda3/envs/marllib/lib/python3.8/site-packages/ray/rllib/utils/metrics/learner_info.py:64: RuntimeWarning: Mean of empty slice\n",
      "  lambda *s: None if s[0] is None else np.nanmean(s, axis=0),\n"
     ]
    },
    {
     "name": "stdout",
     "output_type": "stream",
     "text": [
      "== Status ==\n",
      "Current time: 2023-09-21 01:54:45 (running for 00:11:37.04)\n",
      "Memory usage on this node: 10.6/31.2 GiB\n",
      "Using FIFO scheduling algorithm.\n",
      "Resources requested: 3.0/24 CPUs, 1.0/0 GPUs, 0.0/15.61 GiB heap, 0.0/7.8 GiB objects (0.0/1.0 accelerator_type:G)\n",
      "Result logdir: /home/allenwu/Desktop/work/MARLlib-1.0.3/exp_results/happo_gru_CityLearn_5e-07_0.0005_APPEND-DATA_seed-2\n",
      "Number of trials: 1/1 (1 RUNNING)\n",
      "\n",
      "\n"
     ]
    },
    {
     "name": "stderr",
     "output_type": "stream",
     "text": [
      "/home/allenwu/anaconda3/envs/marllib/lib/python3.8/site-packages/ray/rllib/utils/metrics/learner_info.py:64: RuntimeWarning: Mean of empty slice\n",
      "  lambda *s: None if s[0] is None else np.nanmean(s, axis=0),\n",
      "/home/allenwu/anaconda3/envs/marllib/lib/python3.8/site-packages/ray/rllib/utils/metrics/learner_info.py:64: RuntimeWarning: Mean of empty slice\n",
      "  lambda *s: None if s[0] is None else np.nanmean(s, axis=0),\n",
      "/home/allenwu/anaconda3/envs/marllib/lib/python3.8/site-packages/ray/rllib/utils/metrics/learner_info.py:64: RuntimeWarning: Mean of empty slice\n",
      "  lambda *s: None if s[0] is None else np.nanmean(s, axis=0),\n",
      "/home/allenwu/anaconda3/envs/marllib/lib/python3.8/site-packages/ray/rllib/utils/metrics/learner_info.py:64: RuntimeWarning: Mean of empty slice\n",
      "  lambda *s: None if s[0] is None else np.nanmean(s, axis=0),\n",
      "/home/allenwu/anaconda3/envs/marllib/lib/python3.8/site-packages/ray/rllib/utils/metrics/learner_info.py:64: RuntimeWarning: Mean of empty slice\n",
      "  lambda *s: None if s[0] is None else np.nanmean(s, axis=0),\n",
      "/home/allenwu/anaconda3/envs/marllib/lib/python3.8/site-packages/ray/rllib/utils/metrics/learner_info.py:64: RuntimeWarning: Mean of empty slice\n",
      "  lambda *s: None if s[0] is None else np.nanmean(s, axis=0),\n",
      "/home/allenwu/anaconda3/envs/marllib/lib/python3.8/site-packages/ray/rllib/utils/metrics/learner_info.py:64: RuntimeWarning: Mean of empty slice\n",
      "  lambda *s: None if s[0] is None else np.nanmean(s, axis=0),\n",
      "/home/allenwu/anaconda3/envs/marllib/lib/python3.8/site-packages/ray/rllib/utils/metrics/learner_info.py:64: RuntimeWarning: Mean of empty slice\n",
      "  lambda *s: None if s[0] is None else np.nanmean(s, axis=0),\n"
     ]
    },
    {
     "name": "stdout",
     "output_type": "stream",
     "text": [
      "== Status ==\n",
      "Current time: 2023-09-21 01:54:51 (running for 00:11:42.39)\n",
      "Memory usage on this node: 10.7/31.2 GiB\n",
      "Using FIFO scheduling algorithm.\n",
      "Resources requested: 3.0/24 CPUs, 1.0/0 GPUs, 0.0/15.61 GiB heap, 0.0/7.8 GiB objects (0.0/1.0 accelerator_type:G)\n",
      "Result logdir: /home/allenwu/Desktop/work/MARLlib-1.0.3/exp_results/happo_gru_CityLearn_5e-07_0.0005_APPEND-DATA_seed-2\n",
      "Number of trials: 1/1 (1 RUNNING)\n",
      "\n",
      "\n"
     ]
    },
    {
     "name": "stderr",
     "output_type": "stream",
     "text": [
      "/home/allenwu/anaconda3/envs/marllib/lib/python3.8/site-packages/ray/rllib/utils/metrics/learner_info.py:64: RuntimeWarning: Mean of empty slice\n",
      "  lambda *s: None if s[0] is None else np.nanmean(s, axis=0),\n",
      "/home/allenwu/anaconda3/envs/marllib/lib/python3.8/site-packages/ray/rllib/utils/metrics/learner_info.py:64: RuntimeWarning: Mean of empty slice\n",
      "  lambda *s: None if s[0] is None else np.nanmean(s, axis=0),\n",
      "/home/allenwu/anaconda3/envs/marllib/lib/python3.8/site-packages/ray/rllib/utils/metrics/learner_info.py:64: RuntimeWarning: Mean of empty slice\n",
      "  lambda *s: None if s[0] is None else np.nanmean(s, axis=0),\n",
      "/home/allenwu/anaconda3/envs/marllib/lib/python3.8/site-packages/ray/rllib/utils/metrics/learner_info.py:64: RuntimeWarning: Mean of empty slice\n",
      "  lambda *s: None if s[0] is None else np.nanmean(s, axis=0),\n",
      "/home/allenwu/anaconda3/envs/marllib/lib/python3.8/site-packages/ray/rllib/utils/metrics/learner_info.py:64: RuntimeWarning: Mean of empty slice\n",
      "  lambda *s: None if s[0] is None else np.nanmean(s, axis=0),\n",
      "/home/allenwu/anaconda3/envs/marllib/lib/python3.8/site-packages/ray/rllib/utils/metrics/learner_info.py:64: RuntimeWarning: Mean of empty slice\n",
      "  lambda *s: None if s[0] is None else np.nanmean(s, axis=0),\n",
      "/home/allenwu/anaconda3/envs/marllib/lib/python3.8/site-packages/ray/rllib/utils/metrics/learner_info.py:64: RuntimeWarning: Mean of empty slice\n",
      "  lambda *s: None if s[0] is None else np.nanmean(s, axis=0),\n"
     ]
    },
    {
     "name": "stdout",
     "output_type": "stream",
     "text": [
      "== Status ==\n",
      "Current time: 2023-09-21 01:54:56 (running for 00:11:47.71)\n",
      "Memory usage on this node: 10.7/31.2 GiB\n",
      "Using FIFO scheduling algorithm.\n",
      "Resources requested: 3.0/24 CPUs, 1.0/0 GPUs, 0.0/15.61 GiB heap, 0.0/7.8 GiB objects (0.0/1.0 accelerator_type:G)\n",
      "Result logdir: /home/allenwu/Desktop/work/MARLlib-1.0.3/exp_results/happo_gru_CityLearn_5e-07_0.0005_APPEND-DATA_seed-2\n",
      "Number of trials: 1/1 (1 RUNNING)\n",
      "\n",
      "\n"
     ]
    },
    {
     "name": "stderr",
     "output_type": "stream",
     "text": [
      "/home/allenwu/anaconda3/envs/marllib/lib/python3.8/site-packages/ray/rllib/utils/metrics/learner_info.py:64: RuntimeWarning: Mean of empty slice\n",
      "  lambda *s: None if s[0] is None else np.nanmean(s, axis=0),\n",
      "/home/allenwu/anaconda3/envs/marllib/lib/python3.8/site-packages/ray/rllib/utils/metrics/learner_info.py:64: RuntimeWarning: Mean of empty slice\n",
      "  lambda *s: None if s[0] is None else np.nanmean(s, axis=0),\n",
      "/home/allenwu/anaconda3/envs/marllib/lib/python3.8/site-packages/ray/rllib/utils/metrics/learner_info.py:64: RuntimeWarning: Mean of empty slice\n",
      "  lambda *s: None if s[0] is None else np.nanmean(s, axis=0),\n",
      "/home/allenwu/anaconda3/envs/marllib/lib/python3.8/site-packages/ray/rllib/utils/metrics/learner_info.py:64: RuntimeWarning: Mean of empty slice\n",
      "  lambda *s: None if s[0] is None else np.nanmean(s, axis=0),\n",
      "/home/allenwu/anaconda3/envs/marllib/lib/python3.8/site-packages/ray/rllib/utils/metrics/learner_info.py:64: RuntimeWarning: Mean of empty slice\n",
      "  lambda *s: None if s[0] is None else np.nanmean(s, axis=0),\n"
     ]
    },
    {
     "name": "stdout",
     "output_type": "stream",
     "text": [
      "== Status ==\n",
      "Current time: 2023-09-21 01:55:01 (running for 00:11:53.07)\n",
      "Memory usage on this node: 10.8/31.2 GiB\n",
      "Using FIFO scheduling algorithm.\n",
      "Resources requested: 3.0/24 CPUs, 1.0/0 GPUs, 0.0/15.61 GiB heap, 0.0/7.8 GiB objects (0.0/1.0 accelerator_type:G)\n",
      "Result logdir: /home/allenwu/Desktop/work/MARLlib-1.0.3/exp_results/happo_gru_CityLearn_5e-07_0.0005_APPEND-DATA_seed-2\n",
      "Number of trials: 1/1 (1 RUNNING)\n",
      "\n",
      "\n"
     ]
    },
    {
     "name": "stderr",
     "output_type": "stream",
     "text": [
      "/home/allenwu/anaconda3/envs/marllib/lib/python3.8/site-packages/ray/rllib/utils/metrics/learner_info.py:64: RuntimeWarning: Mean of empty slice\n",
      "  lambda *s: None if s[0] is None else np.nanmean(s, axis=0),\n",
      "/home/allenwu/anaconda3/envs/marllib/lib/python3.8/site-packages/ray/rllib/utils/metrics/learner_info.py:64: RuntimeWarning: Mean of empty slice\n",
      "  lambda *s: None if s[0] is None else np.nanmean(s, axis=0),\n",
      "/home/allenwu/anaconda3/envs/marllib/lib/python3.8/site-packages/ray/rllib/utils/metrics/learner_info.py:64: RuntimeWarning: Mean of empty slice\n",
      "  lambda *s: None if s[0] is None else np.nanmean(s, axis=0),\n",
      "/home/allenwu/anaconda3/envs/marllib/lib/python3.8/site-packages/ray/rllib/utils/metrics/learner_info.py:64: RuntimeWarning: Mean of empty slice\n",
      "  lambda *s: None if s[0] is None else np.nanmean(s, axis=0),\n",
      "/home/allenwu/anaconda3/envs/marllib/lib/python3.8/site-packages/ray/rllib/utils/metrics/learner_info.py:64: RuntimeWarning: Mean of empty slice\n",
      "  lambda *s: None if s[0] is None else np.nanmean(s, axis=0),\n",
      "/home/allenwu/anaconda3/envs/marllib/lib/python3.8/site-packages/ray/rllib/utils/metrics/learner_info.py:64: RuntimeWarning: Mean of empty slice\n",
      "  lambda *s: None if s[0] is None else np.nanmean(s, axis=0),\n",
      "/home/allenwu/anaconda3/envs/marllib/lib/python3.8/site-packages/ray/rllib/utils/metrics/learner_info.py:64: RuntimeWarning: Mean of empty slice\n",
      "  lambda *s: None if s[0] is None else np.nanmean(s, axis=0),\n",
      "/home/allenwu/anaconda3/envs/marllib/lib/python3.8/site-packages/ray/rllib/utils/metrics/learner_info.py:64: RuntimeWarning: Mean of empty slice\n",
      "  lambda *s: None if s[0] is None else np.nanmean(s, axis=0),\n"
     ]
    },
    {
     "name": "stdout",
     "output_type": "stream",
     "text": [
      "== Status ==\n",
      "Current time: 2023-09-21 01:55:07 (running for 00:11:58.42)\n",
      "Memory usage on this node: 10.8/31.2 GiB\n",
      "Using FIFO scheduling algorithm.\n",
      "Resources requested: 3.0/24 CPUs, 1.0/0 GPUs, 0.0/15.61 GiB heap, 0.0/7.8 GiB objects (0.0/1.0 accelerator_type:G)\n",
      "Result logdir: /home/allenwu/Desktop/work/MARLlib-1.0.3/exp_results/happo_gru_CityLearn_5e-07_0.0005_APPEND-DATA_seed-2\n",
      "Number of trials: 1/1 (1 RUNNING)\n",
      "\n",
      "\n"
     ]
    },
    {
     "name": "stderr",
     "output_type": "stream",
     "text": [
      "/home/allenwu/anaconda3/envs/marllib/lib/python3.8/site-packages/ray/rllib/utils/metrics/learner_info.py:64: RuntimeWarning: Mean of empty slice\n",
      "  lambda *s: None if s[0] is None else np.nanmean(s, axis=0),\n",
      "/home/allenwu/anaconda3/envs/marllib/lib/python3.8/site-packages/ray/rllib/utils/metrics/learner_info.py:64: RuntimeWarning: Mean of empty slice\n",
      "  lambda *s: None if s[0] is None else np.nanmean(s, axis=0),\n",
      "/home/allenwu/anaconda3/envs/marllib/lib/python3.8/site-packages/ray/rllib/utils/metrics/learner_info.py:64: RuntimeWarning: Mean of empty slice\n",
      "  lambda *s: None if s[0] is None else np.nanmean(s, axis=0),\n",
      "/home/allenwu/anaconda3/envs/marllib/lib/python3.8/site-packages/ray/rllib/utils/metrics/learner_info.py:64: RuntimeWarning: Mean of empty slice\n",
      "  lambda *s: None if s[0] is None else np.nanmean(s, axis=0),\n",
      "/home/allenwu/anaconda3/envs/marllib/lib/python3.8/site-packages/ray/rllib/utils/metrics/learner_info.py:64: RuntimeWarning: Mean of empty slice\n",
      "  lambda *s: None if s[0] is None else np.nanmean(s, axis=0),\n",
      "/home/allenwu/anaconda3/envs/marllib/lib/python3.8/site-packages/ray/rllib/utils/metrics/learner_info.py:64: RuntimeWarning: Mean of empty slice\n",
      "  lambda *s: None if s[0] is None else np.nanmean(s, axis=0),\n",
      "2023-09-21 01:55:12,032\tWARNING ray_trial_executor.py:768 -- Over the last 60 seconds, the Tune event loop has been backlogged processing new results. Consider increasing your period of result reporting to improve performance.\n",
      "/home/allenwu/anaconda3/envs/marllib/lib/python3.8/site-packages/ray/rllib/utils/metrics/learner_info.py:64: RuntimeWarning: Mean of empty slice\n",
      "  lambda *s: None if s[0] is None else np.nanmean(s, axis=0),\n"
     ]
    },
    {
     "name": "stdout",
     "output_type": "stream",
     "text": [
      "== Status ==\n",
      "Current time: 2023-09-21 01:55:12 (running for 00:12:03.70)\n",
      "Memory usage on this node: 10.8/31.2 GiB\n",
      "Using FIFO scheduling algorithm.\n",
      "Resources requested: 3.0/24 CPUs, 1.0/0 GPUs, 0.0/15.61 GiB heap, 0.0/7.8 GiB objects (0.0/1.0 accelerator_type:G)\n",
      "Result logdir: /home/allenwu/Desktop/work/MARLlib-1.0.3/exp_results/happo_gru_CityLearn_5e-07_0.0005_APPEND-DATA_seed-2\n",
      "Number of trials: 1/1 (1 RUNNING)\n",
      "\n",
      "\n"
     ]
    },
    {
     "name": "stderr",
     "output_type": "stream",
     "text": [
      "/home/allenwu/anaconda3/envs/marllib/lib/python3.8/site-packages/ray/rllib/utils/metrics/learner_info.py:64: RuntimeWarning: Mean of empty slice\n",
      "  lambda *s: None if s[0] is None else np.nanmean(s, axis=0),\n",
      "/home/allenwu/anaconda3/envs/marllib/lib/python3.8/site-packages/ray/rllib/utils/metrics/learner_info.py:64: RuntimeWarning: Mean of empty slice\n",
      "  lambda *s: None if s[0] is None else np.nanmean(s, axis=0),\n",
      "/home/allenwu/anaconda3/envs/marllib/lib/python3.8/site-packages/ray/rllib/utils/metrics/learner_info.py:64: RuntimeWarning: Mean of empty slice\n",
      "  lambda *s: None if s[0] is None else np.nanmean(s, axis=0),\n",
      "/home/allenwu/anaconda3/envs/marllib/lib/python3.8/site-packages/ray/rllib/utils/metrics/learner_info.py:64: RuntimeWarning: Mean of empty slice\n",
      "  lambda *s: None if s[0] is None else np.nanmean(s, axis=0),\n",
      "/home/allenwu/anaconda3/envs/marllib/lib/python3.8/site-packages/ray/rllib/utils/metrics/learner_info.py:64: RuntimeWarning: Mean of empty slice\n",
      "  lambda *s: None if s[0] is None else np.nanmean(s, axis=0),\n",
      "/home/allenwu/anaconda3/envs/marllib/lib/python3.8/site-packages/ray/rllib/utils/metrics/learner_info.py:64: RuntimeWarning: Mean of empty slice\n",
      "  lambda *s: None if s[0] is None else np.nanmean(s, axis=0),\n",
      "/home/allenwu/anaconda3/envs/marllib/lib/python3.8/site-packages/ray/rllib/utils/metrics/learner_info.py:64: RuntimeWarning: Mean of empty slice\n",
      "  lambda *s: None if s[0] is None else np.nanmean(s, axis=0),\n",
      "/home/allenwu/anaconda3/envs/marllib/lib/python3.8/site-packages/ray/rllib/utils/metrics/learner_info.py:64: RuntimeWarning: Mean of empty slice\n",
      "  lambda *s: None if s[0] is None else np.nanmean(s, axis=0),\n"
     ]
    },
    {
     "name": "stdout",
     "output_type": "stream",
     "text": [
      "== Status ==\n",
      "Current time: 2023-09-21 01:55:17 (running for 00:12:09.04)\n",
      "Memory usage on this node: 10.8/31.2 GiB\n",
      "Using FIFO scheduling algorithm.\n",
      "Resources requested: 3.0/24 CPUs, 1.0/0 GPUs, 0.0/15.61 GiB heap, 0.0/7.8 GiB objects (0.0/1.0 accelerator_type:G)\n",
      "Result logdir: /home/allenwu/Desktop/work/MARLlib-1.0.3/exp_results/happo_gru_CityLearn_5e-07_0.0005_APPEND-DATA_seed-2\n",
      "Number of trials: 1/1 (1 RUNNING)\n",
      "\n",
      "\n"
     ]
    },
    {
     "name": "stderr",
     "output_type": "stream",
     "text": [
      "/home/allenwu/anaconda3/envs/marllib/lib/python3.8/site-packages/ray/rllib/utils/metrics/learner_info.py:64: RuntimeWarning: Mean of empty slice\n",
      "  lambda *s: None if s[0] is None else np.nanmean(s, axis=0),\n",
      "/home/allenwu/anaconda3/envs/marllib/lib/python3.8/site-packages/ray/rllib/utils/metrics/learner_info.py:64: RuntimeWarning: Mean of empty slice\n",
      "  lambda *s: None if s[0] is None else np.nanmean(s, axis=0),\n",
      "/home/allenwu/anaconda3/envs/marllib/lib/python3.8/site-packages/ray/rllib/utils/metrics/learner_info.py:64: RuntimeWarning: Mean of empty slice\n",
      "  lambda *s: None if s[0] is None else np.nanmean(s, axis=0),\n"
     ]
    },
    {
     "name": "stdout",
     "output_type": "stream",
     "text": [
      "== Status ==\n",
      "Current time: 2023-09-21 01:55:23 (running for 00:12:14.43)\n",
      "Memory usage on this node: 10.9/31.2 GiB\n",
      "Using FIFO scheduling algorithm.\n",
      "Resources requested: 3.0/24 CPUs, 1.0/0 GPUs, 0.0/15.61 GiB heap, 0.0/7.8 GiB objects (0.0/1.0 accelerator_type:G)\n",
      "Result logdir: /home/allenwu/Desktop/work/MARLlib-1.0.3/exp_results/happo_gru_CityLearn_5e-07_0.0005_APPEND-DATA_seed-2\n",
      "Number of trials: 1/1 (1 RUNNING)\n",
      "\n",
      "\n"
     ]
    },
    {
     "name": "stderr",
     "output_type": "stream",
     "text": [
      "/home/allenwu/anaconda3/envs/marllib/lib/python3.8/site-packages/ray/rllib/utils/metrics/learner_info.py:64: RuntimeWarning: Mean of empty slice\n",
      "  lambda *s: None if s[0] is None else np.nanmean(s, axis=0),\n",
      "/home/allenwu/anaconda3/envs/marllib/lib/python3.8/site-packages/ray/rllib/utils/metrics/learner_info.py:64: RuntimeWarning: Mean of empty slice\n",
      "  lambda *s: None if s[0] is None else np.nanmean(s, axis=0),\n",
      "/home/allenwu/anaconda3/envs/marllib/lib/python3.8/site-packages/ray/rllib/utils/metrics/learner_info.py:64: RuntimeWarning: Mean of empty slice\n",
      "  lambda *s: None if s[0] is None else np.nanmean(s, axis=0),\n"
     ]
    },
    {
     "name": "stdout",
     "output_type": "stream",
     "text": [
      "== Status ==\n",
      "Current time: 2023-09-21 01:55:28 (running for 00:12:19.76)\n",
      "Memory usage on this node: 10.9/31.2 GiB\n",
      "Using FIFO scheduling algorithm.\n",
      "Resources requested: 3.0/24 CPUs, 1.0/0 GPUs, 0.0/15.61 GiB heap, 0.0/7.8 GiB objects (0.0/1.0 accelerator_type:G)\n",
      "Result logdir: /home/allenwu/Desktop/work/MARLlib-1.0.3/exp_results/happo_gru_CityLearn_5e-07_0.0005_APPEND-DATA_seed-2\n",
      "Number of trials: 1/1 (1 RUNNING)\n",
      "\n",
      "\n"
     ]
    },
    {
     "name": "stderr",
     "output_type": "stream",
     "text": [
      "/home/allenwu/anaconda3/envs/marllib/lib/python3.8/site-packages/ray/rllib/utils/metrics/learner_info.py:64: RuntimeWarning: Mean of empty slice\n",
      "  lambda *s: None if s[0] is None else np.nanmean(s, axis=0),\n",
      "/home/allenwu/anaconda3/envs/marllib/lib/python3.8/site-packages/ray/rllib/utils/metrics/learner_info.py:64: RuntimeWarning: Mean of empty slice\n",
      "  lambda *s: None if s[0] is None else np.nanmean(s, axis=0),\n",
      "/home/allenwu/anaconda3/envs/marllib/lib/python3.8/site-packages/ray/rllib/utils/metrics/learner_info.py:64: RuntimeWarning: Mean of empty slice\n",
      "  lambda *s: None if s[0] is None else np.nanmean(s, axis=0),\n",
      "/home/allenwu/anaconda3/envs/marllib/lib/python3.8/site-packages/ray/rllib/utils/metrics/learner_info.py:64: RuntimeWarning: Mean of empty slice\n",
      "  lambda *s: None if s[0] is None else np.nanmean(s, axis=0),\n",
      "/home/allenwu/anaconda3/envs/marllib/lib/python3.8/site-packages/ray/rllib/utils/metrics/learner_info.py:64: RuntimeWarning: Mean of empty slice\n",
      "  lambda *s: None if s[0] is None else np.nanmean(s, axis=0),\n",
      "/home/allenwu/anaconda3/envs/marllib/lib/python3.8/site-packages/ray/rllib/utils/metrics/learner_info.py:64: RuntimeWarning: Mean of empty slice\n",
      "  lambda *s: None if s[0] is None else np.nanmean(s, axis=0),\n",
      "/home/allenwu/anaconda3/envs/marllib/lib/python3.8/site-packages/ray/rllib/utils/metrics/learner_info.py:64: RuntimeWarning: Mean of empty slice\n",
      "  lambda *s: None if s[0] is None else np.nanmean(s, axis=0),\n",
      "/home/allenwu/anaconda3/envs/marllib/lib/python3.8/site-packages/ray/rllib/utils/metrics/learner_info.py:64: RuntimeWarning: Mean of empty slice\n",
      "  lambda *s: None if s[0] is None else np.nanmean(s, axis=0),\n"
     ]
    },
    {
     "name": "stdout",
     "output_type": "stream",
     "text": [
      "== Status ==\n",
      "Current time: 2023-09-21 01:55:33 (running for 00:12:25.04)\n",
      "Memory usage on this node: 10.9/31.2 GiB\n",
      "Using FIFO scheduling algorithm.\n",
      "Resources requested: 3.0/24 CPUs, 1.0/0 GPUs, 0.0/15.61 GiB heap, 0.0/7.8 GiB objects (0.0/1.0 accelerator_type:G)\n",
      "Result logdir: /home/allenwu/Desktop/work/MARLlib-1.0.3/exp_results/happo_gru_CityLearn_5e-07_0.0005_APPEND-DATA_seed-2\n",
      "Number of trials: 1/1 (1 RUNNING)\n",
      "\n",
      "\n"
     ]
    },
    {
     "name": "stderr",
     "output_type": "stream",
     "text": [
      "/home/allenwu/anaconda3/envs/marllib/lib/python3.8/site-packages/ray/rllib/utils/metrics/learner_info.py:64: RuntimeWarning: Mean of empty slice\n",
      "  lambda *s: None if s[0] is None else np.nanmean(s, axis=0),\n",
      "/home/allenwu/anaconda3/envs/marllib/lib/python3.8/site-packages/ray/rllib/utils/metrics/learner_info.py:64: RuntimeWarning: Mean of empty slice\n",
      "  lambda *s: None if s[0] is None else np.nanmean(s, axis=0),\n",
      "/home/allenwu/anaconda3/envs/marllib/lib/python3.8/site-packages/ray/rllib/utils/metrics/learner_info.py:64: RuntimeWarning: Mean of empty slice\n",
      "  lambda *s: None if s[0] is None else np.nanmean(s, axis=0),\n",
      "/home/allenwu/anaconda3/envs/marllib/lib/python3.8/site-packages/ray/rllib/utils/metrics/learner_info.py:64: RuntimeWarning: Mean of empty slice\n",
      "  lambda *s: None if s[0] is None else np.nanmean(s, axis=0),\n",
      "/home/allenwu/anaconda3/envs/marllib/lib/python3.8/site-packages/ray/rllib/utils/metrics/learner_info.py:64: RuntimeWarning: Mean of empty slice\n",
      "  lambda *s: None if s[0] is None else np.nanmean(s, axis=0),\n"
     ]
    },
    {
     "name": "stdout",
     "output_type": "stream",
     "text": [
      "== Status ==\n",
      "Current time: 2023-09-21 01:55:39 (running for 00:12:30.39)\n",
      "Memory usage on this node: 10.9/31.2 GiB\n",
      "Using FIFO scheduling algorithm.\n",
      "Resources requested: 3.0/24 CPUs, 1.0/0 GPUs, 0.0/15.61 GiB heap, 0.0/7.8 GiB objects (0.0/1.0 accelerator_type:G)\n",
      "Result logdir: /home/allenwu/Desktop/work/MARLlib-1.0.3/exp_results/happo_gru_CityLearn_5e-07_0.0005_APPEND-DATA_seed-2\n",
      "Number of trials: 1/1 (1 RUNNING)\n",
      "\n",
      "\n"
     ]
    },
    {
     "name": "stderr",
     "output_type": "stream",
     "text": [
      "/home/allenwu/anaconda3/envs/marllib/lib/python3.8/site-packages/ray/rllib/utils/metrics/learner_info.py:64: RuntimeWarning: Mean of empty slice\n",
      "  lambda *s: None if s[0] is None else np.nanmean(s, axis=0),\n",
      "/home/allenwu/anaconda3/envs/marllib/lib/python3.8/site-packages/ray/rllib/utils/metrics/learner_info.py:64: RuntimeWarning: Mean of empty slice\n",
      "  lambda *s: None if s[0] is None else np.nanmean(s, axis=0),\n",
      "/home/allenwu/anaconda3/envs/marllib/lib/python3.8/site-packages/ray/rllib/utils/metrics/learner_info.py:64: RuntimeWarning: Mean of empty slice\n",
      "  lambda *s: None if s[0] is None else np.nanmean(s, axis=0),\n",
      "/home/allenwu/anaconda3/envs/marllib/lib/python3.8/site-packages/ray/rllib/utils/metrics/learner_info.py:64: RuntimeWarning: Mean of empty slice\n",
      "  lambda *s: None if s[0] is None else np.nanmean(s, axis=0),\n",
      "/home/allenwu/anaconda3/envs/marllib/lib/python3.8/site-packages/ray/rllib/utils/metrics/learner_info.py:64: RuntimeWarning: Mean of empty slice\n",
      "  lambda *s: None if s[0] is None else np.nanmean(s, axis=0),\n",
      "/home/allenwu/anaconda3/envs/marllib/lib/python3.8/site-packages/ray/rllib/utils/metrics/learner_info.py:64: RuntimeWarning: Mean of empty slice\n",
      "  lambda *s: None if s[0] is None else np.nanmean(s, axis=0),\n"
     ]
    },
    {
     "name": "stdout",
     "output_type": "stream",
     "text": [
      "== Status ==\n",
      "Current time: 2023-09-21 01:55:44 (running for 00:12:35.67)\n",
      "Memory usage on this node: 10.9/31.2 GiB\n",
      "Using FIFO scheduling algorithm.\n",
      "Resources requested: 3.0/24 CPUs, 1.0/0 GPUs, 0.0/15.61 GiB heap, 0.0/7.8 GiB objects (0.0/1.0 accelerator_type:G)\n",
      "Result logdir: /home/allenwu/Desktop/work/MARLlib-1.0.3/exp_results/happo_gru_CityLearn_5e-07_0.0005_APPEND-DATA_seed-2\n",
      "Number of trials: 1/1 (1 RUNNING)\n",
      "\n",
      "\n"
     ]
    },
    {
     "name": "stderr",
     "output_type": "stream",
     "text": [
      "/home/allenwu/anaconda3/envs/marllib/lib/python3.8/site-packages/ray/rllib/utils/metrics/learner_info.py:64: RuntimeWarning: Mean of empty slice\n",
      "  lambda *s: None if s[0] is None else np.nanmean(s, axis=0),\n",
      "/home/allenwu/anaconda3/envs/marllib/lib/python3.8/site-packages/ray/rllib/utils/metrics/learner_info.py:64: RuntimeWarning: Mean of empty slice\n",
      "  lambda *s: None if s[0] is None else np.nanmean(s, axis=0),\n",
      "/home/allenwu/anaconda3/envs/marllib/lib/python3.8/site-packages/ray/rllib/utils/metrics/learner_info.py:64: RuntimeWarning: Mean of empty slice\n",
      "  lambda *s: None if s[0] is None else np.nanmean(s, axis=0),\n",
      "/home/allenwu/anaconda3/envs/marllib/lib/python3.8/site-packages/ray/rllib/utils/metrics/learner_info.py:64: RuntimeWarning: Mean of empty slice\n",
      "  lambda *s: None if s[0] is None else np.nanmean(s, axis=0),\n",
      "/home/allenwu/anaconda3/envs/marllib/lib/python3.8/site-packages/ray/rllib/utils/metrics/learner_info.py:64: RuntimeWarning: Mean of empty slice\n",
      "  lambda *s: None if s[0] is None else np.nanmean(s, axis=0),\n"
     ]
    },
    {
     "name": "stdout",
     "output_type": "stream",
     "text": [
      "== Status ==\n",
      "Current time: 2023-09-21 01:55:49 (running for 00:12:40.99)\n",
      "Memory usage on this node: 11.0/31.2 GiB\n",
      "Using FIFO scheduling algorithm.\n",
      "Resources requested: 3.0/24 CPUs, 1.0/0 GPUs, 0.0/15.61 GiB heap, 0.0/7.8 GiB objects (0.0/1.0 accelerator_type:G)\n",
      "Result logdir: /home/allenwu/Desktop/work/MARLlib-1.0.3/exp_results/happo_gru_CityLearn_5e-07_0.0005_APPEND-DATA_seed-2\n",
      "Number of trials: 1/1 (1 RUNNING)\n",
      "\n",
      "\n"
     ]
    },
    {
     "name": "stderr",
     "output_type": "stream",
     "text": [
      "/home/allenwu/anaconda3/envs/marllib/lib/python3.8/site-packages/ray/rllib/utils/metrics/learner_info.py:64: RuntimeWarning: Mean of empty slice\n",
      "  lambda *s: None if s[0] is None else np.nanmean(s, axis=0),\n",
      "/home/allenwu/anaconda3/envs/marllib/lib/python3.8/site-packages/ray/rllib/utils/metrics/learner_info.py:64: RuntimeWarning: Mean of empty slice\n",
      "  lambda *s: None if s[0] is None else np.nanmean(s, axis=0),\n",
      "/home/allenwu/anaconda3/envs/marllib/lib/python3.8/site-packages/ray/rllib/utils/metrics/learner_info.py:64: RuntimeWarning: Mean of empty slice\n",
      "  lambda *s: None if s[0] is None else np.nanmean(s, axis=0),\n",
      "/home/allenwu/anaconda3/envs/marllib/lib/python3.8/site-packages/ray/rllib/utils/metrics/learner_info.py:64: RuntimeWarning: Mean of empty slice\n",
      "  lambda *s: None if s[0] is None else np.nanmean(s, axis=0),\n",
      "/home/allenwu/anaconda3/envs/marllib/lib/python3.8/site-packages/ray/rllib/utils/metrics/learner_info.py:64: RuntimeWarning: Mean of empty slice\n",
      "  lambda *s: None if s[0] is None else np.nanmean(s, axis=0),\n",
      "/home/allenwu/anaconda3/envs/marllib/lib/python3.8/site-packages/ray/rllib/utils/metrics/learner_info.py:64: RuntimeWarning: Mean of empty slice\n",
      "  lambda *s: None if s[0] is None else np.nanmean(s, axis=0),\n",
      "/home/allenwu/anaconda3/envs/marllib/lib/python3.8/site-packages/ray/rllib/utils/metrics/learner_info.py:64: RuntimeWarning: Mean of empty slice\n",
      "  lambda *s: None if s[0] is None else np.nanmean(s, axis=0),\n",
      "/home/allenwu/anaconda3/envs/marllib/lib/python3.8/site-packages/ray/rllib/utils/metrics/learner_info.py:64: RuntimeWarning: Mean of empty slice\n",
      "  lambda *s: None if s[0] is None else np.nanmean(s, axis=0),\n"
     ]
    },
    {
     "name": "stdout",
     "output_type": "stream",
     "text": [
      "== Status ==\n",
      "Current time: 2023-09-21 01:55:55 (running for 00:12:46.26)\n",
      "Memory usage on this node: 11.0/31.2 GiB\n",
      "Using FIFO scheduling algorithm.\n",
      "Resources requested: 3.0/24 CPUs, 1.0/0 GPUs, 0.0/15.61 GiB heap, 0.0/7.8 GiB objects (0.0/1.0 accelerator_type:G)\n",
      "Result logdir: /home/allenwu/Desktop/work/MARLlib-1.0.3/exp_results/happo_gru_CityLearn_5e-07_0.0005_APPEND-DATA_seed-2\n",
      "Number of trials: 1/1 (1 RUNNING)\n",
      "\n",
      "\n"
     ]
    },
    {
     "name": "stderr",
     "output_type": "stream",
     "text": [
      "/home/allenwu/anaconda3/envs/marllib/lib/python3.8/site-packages/ray/rllib/utils/metrics/learner_info.py:64: RuntimeWarning: Mean of empty slice\n",
      "  lambda *s: None if s[0] is None else np.nanmean(s, axis=0),\n",
      "/home/allenwu/anaconda3/envs/marllib/lib/python3.8/site-packages/ray/rllib/utils/metrics/learner_info.py:64: RuntimeWarning: Mean of empty slice\n",
      "  lambda *s: None if s[0] is None else np.nanmean(s, axis=0),\n",
      "/home/allenwu/anaconda3/envs/marllib/lib/python3.8/site-packages/ray/rllib/utils/metrics/learner_info.py:64: RuntimeWarning: Mean of empty slice\n",
      "  lambda *s: None if s[0] is None else np.nanmean(s, axis=0),\n",
      "/home/allenwu/anaconda3/envs/marllib/lib/python3.8/site-packages/ray/rllib/utils/metrics/learner_info.py:64: RuntimeWarning: Mean of empty slice\n",
      "  lambda *s: None if s[0] is None else np.nanmean(s, axis=0),\n",
      "/home/allenwu/anaconda3/envs/marllib/lib/python3.8/site-packages/ray/rllib/utils/metrics/learner_info.py:64: RuntimeWarning: Mean of empty slice\n",
      "  lambda *s: None if s[0] is None else np.nanmean(s, axis=0),\n"
     ]
    },
    {
     "name": "stdout",
     "output_type": "stream",
     "text": [
      "== Status ==\n",
      "Current time: 2023-09-21 01:56:00 (running for 00:12:51.53)\n",
      "Memory usage on this node: 11.1/31.2 GiB\n",
      "Using FIFO scheduling algorithm.\n",
      "Resources requested: 3.0/24 CPUs, 1.0/0 GPUs, 0.0/15.61 GiB heap, 0.0/7.8 GiB objects (0.0/1.0 accelerator_type:G)\n",
      "Result logdir: /home/allenwu/Desktop/work/MARLlib-1.0.3/exp_results/happo_gru_CityLearn_5e-07_0.0005_APPEND-DATA_seed-2\n",
      "Number of trials: 1/1 (1 RUNNING)\n",
      "\n",
      "\n"
     ]
    },
    {
     "name": "stderr",
     "output_type": "stream",
     "text": [
      "/home/allenwu/anaconda3/envs/marllib/lib/python3.8/site-packages/ray/rllib/utils/metrics/learner_info.py:64: RuntimeWarning: Mean of empty slice\n",
      "  lambda *s: None if s[0] is None else np.nanmean(s, axis=0),\n",
      "/home/allenwu/anaconda3/envs/marllib/lib/python3.8/site-packages/ray/rllib/utils/metrics/learner_info.py:64: RuntimeWarning: Mean of empty slice\n",
      "  lambda *s: None if s[0] is None else np.nanmean(s, axis=0),\n",
      "/home/allenwu/anaconda3/envs/marllib/lib/python3.8/site-packages/ray/rllib/utils/metrics/learner_info.py:64: RuntimeWarning: Mean of empty slice\n",
      "  lambda *s: None if s[0] is None else np.nanmean(s, axis=0),\n",
      "/home/allenwu/anaconda3/envs/marllib/lib/python3.8/site-packages/ray/rllib/utils/metrics/learner_info.py:64: RuntimeWarning: Mean of empty slice\n",
      "  lambda *s: None if s[0] is None else np.nanmean(s, axis=0),\n",
      "/home/allenwu/anaconda3/envs/marllib/lib/python3.8/site-packages/ray/rllib/utils/metrics/learner_info.py:64: RuntimeWarning: Mean of empty slice\n",
      "  lambda *s: None if s[0] is None else np.nanmean(s, axis=0),\n",
      "/home/allenwu/anaconda3/envs/marllib/lib/python3.8/site-packages/ray/rllib/utils/metrics/learner_info.py:64: RuntimeWarning: Mean of empty slice\n",
      "  lambda *s: None if s[0] is None else np.nanmean(s, axis=0),\n"
     ]
    },
    {
     "name": "stdout",
     "output_type": "stream",
     "text": [
      "== Status ==\n",
      "Current time: 2023-09-21 01:56:05 (running for 00:12:56.80)\n",
      "Memory usage on this node: 11.1/31.2 GiB\n",
      "Using FIFO scheduling algorithm.\n",
      "Resources requested: 3.0/24 CPUs, 1.0/0 GPUs, 0.0/15.61 GiB heap, 0.0/7.8 GiB objects (0.0/1.0 accelerator_type:G)\n",
      "Result logdir: /home/allenwu/Desktop/work/MARLlib-1.0.3/exp_results/happo_gru_CityLearn_5e-07_0.0005_APPEND-DATA_seed-2\n",
      "Number of trials: 1/1 (1 RUNNING)\n",
      "\n",
      "\n"
     ]
    },
    {
     "name": "stderr",
     "output_type": "stream",
     "text": [
      "/home/allenwu/anaconda3/envs/marllib/lib/python3.8/site-packages/ray/rllib/utils/metrics/learner_info.py:64: RuntimeWarning: Mean of empty slice\n",
      "  lambda *s: None if s[0] is None else np.nanmean(s, axis=0),\n",
      "/home/allenwu/anaconda3/envs/marllib/lib/python3.8/site-packages/ray/rllib/utils/metrics/learner_info.py:64: RuntimeWarning: Mean of empty slice\n",
      "  lambda *s: None if s[0] is None else np.nanmean(s, axis=0),\n",
      "/home/allenwu/anaconda3/envs/marllib/lib/python3.8/site-packages/ray/rllib/utils/metrics/learner_info.py:64: RuntimeWarning: Mean of empty slice\n",
      "  lambda *s: None if s[0] is None else np.nanmean(s, axis=0),\n",
      "/home/allenwu/anaconda3/envs/marllib/lib/python3.8/site-packages/ray/rllib/utils/metrics/learner_info.py:64: RuntimeWarning: Mean of empty slice\n",
      "  lambda *s: None if s[0] is None else np.nanmean(s, axis=0),\n",
      "/home/allenwu/anaconda3/envs/marllib/lib/python3.8/site-packages/ray/rllib/utils/metrics/learner_info.py:64: RuntimeWarning: Mean of empty slice\n",
      "  lambda *s: None if s[0] is None else np.nanmean(s, axis=0),\n",
      "/home/allenwu/anaconda3/envs/marllib/lib/python3.8/site-packages/ray/rllib/utils/metrics/learner_info.py:64: RuntimeWarning: Mean of empty slice\n",
      "  lambda *s: None if s[0] is None else np.nanmean(s, axis=0),\n",
      "/home/allenwu/anaconda3/envs/marllib/lib/python3.8/site-packages/ray/rllib/utils/metrics/learner_info.py:64: RuntimeWarning: Mean of empty slice\n",
      "  lambda *s: None if s[0] is None else np.nanmean(s, axis=0),\n",
      "/home/allenwu/anaconda3/envs/marllib/lib/python3.8/site-packages/ray/rllib/utils/metrics/learner_info.py:64: RuntimeWarning: Mean of empty slice\n",
      "  lambda *s: None if s[0] is None else np.nanmean(s, axis=0),\n",
      "/home/allenwu/anaconda3/envs/marllib/lib/python3.8/site-packages/ray/rllib/utils/metrics/learner_info.py:64: RuntimeWarning: Mean of empty slice\n",
      "  lambda *s: None if s[0] is None else np.nanmean(s, axis=0),\n",
      "/home/allenwu/anaconda3/envs/marllib/lib/python3.8/site-packages/ray/rllib/utils/metrics/learner_info.py:64: RuntimeWarning: Mean of empty slice\n",
      "  lambda *s: None if s[0] is None else np.nanmean(s, axis=0),\n"
     ]
    },
    {
     "name": "stdout",
     "output_type": "stream",
     "text": [
      "== Status ==\n",
      "Current time: 2023-09-21 01:56:10 (running for 00:13:02.15)\n",
      "Memory usage on this node: 11.1/31.2 GiB\n",
      "Using FIFO scheduling algorithm.\n",
      "Resources requested: 3.0/24 CPUs, 1.0/0 GPUs, 0.0/15.61 GiB heap, 0.0/7.8 GiB objects (0.0/1.0 accelerator_type:G)\n",
      "Result logdir: /home/allenwu/Desktop/work/MARLlib-1.0.3/exp_results/happo_gru_CityLearn_5e-07_0.0005_APPEND-DATA_seed-2\n",
      "Number of trials: 1/1 (1 RUNNING)\n",
      "\n",
      "\n"
     ]
    },
    {
     "name": "stderr",
     "output_type": "stream",
     "text": [
      "/home/allenwu/anaconda3/envs/marllib/lib/python3.8/site-packages/ray/rllib/utils/metrics/learner_info.py:64: RuntimeWarning: Mean of empty slice\n",
      "  lambda *s: None if s[0] is None else np.nanmean(s, axis=0),\n",
      "/home/allenwu/anaconda3/envs/marllib/lib/python3.8/site-packages/ray/rllib/utils/metrics/learner_info.py:64: RuntimeWarning: Mean of empty slice\n",
      "  lambda *s: None if s[0] is None else np.nanmean(s, axis=0),\n",
      "2023-09-21 01:56:12,244\tWARNING ray_trial_executor.py:768 -- Over the last 60 seconds, the Tune event loop has been backlogged processing new results. Consider increasing your period of result reporting to improve performance.\n",
      "/home/allenwu/anaconda3/envs/marllib/lib/python3.8/site-packages/ray/rllib/utils/metrics/learner_info.py:64: RuntimeWarning: Mean of empty slice\n",
      "  lambda *s: None if s[0] is None else np.nanmean(s, axis=0),\n",
      "/home/allenwu/anaconda3/envs/marllib/lib/python3.8/site-packages/ray/rllib/utils/metrics/learner_info.py:64: RuntimeWarning: Mean of empty slice\n",
      "  lambda *s: None if s[0] is None else np.nanmean(s, axis=0),\n",
      "/home/allenwu/anaconda3/envs/marllib/lib/python3.8/site-packages/ray/rllib/utils/metrics/learner_info.py:64: RuntimeWarning: Mean of empty slice\n",
      "  lambda *s: None if s[0] is None else np.nanmean(s, axis=0),\n"
     ]
    },
    {
     "name": "stdout",
     "output_type": "stream",
     "text": [
      "== Status ==\n",
      "Current time: 2023-09-21 01:56:16 (running for 00:13:07.46)\n",
      "Memory usage on this node: 11.2/31.2 GiB\n",
      "Using FIFO scheduling algorithm.\n",
      "Resources requested: 3.0/24 CPUs, 1.0/0 GPUs, 0.0/15.61 GiB heap, 0.0/7.8 GiB objects (0.0/1.0 accelerator_type:G)\n",
      "Result logdir: /home/allenwu/Desktop/work/MARLlib-1.0.3/exp_results/happo_gru_CityLearn_5e-07_0.0005_APPEND-DATA_seed-2\n",
      "Number of trials: 1/1 (1 RUNNING)\n",
      "\n",
      "\n"
     ]
    },
    {
     "name": "stderr",
     "output_type": "stream",
     "text": [
      "/home/allenwu/anaconda3/envs/marllib/lib/python3.8/site-packages/ray/rllib/utils/metrics/learner_info.py:64: RuntimeWarning: Mean of empty slice\n",
      "  lambda *s: None if s[0] is None else np.nanmean(s, axis=0),\n",
      "/home/allenwu/anaconda3/envs/marllib/lib/python3.8/site-packages/ray/rllib/utils/metrics/learner_info.py:64: RuntimeWarning: Mean of empty slice\n",
      "  lambda *s: None if s[0] is None else np.nanmean(s, axis=0),\n",
      "/home/allenwu/anaconda3/envs/marllib/lib/python3.8/site-packages/ray/rllib/utils/metrics/learner_info.py:64: RuntimeWarning: Mean of empty slice\n",
      "  lambda *s: None if s[0] is None else np.nanmean(s, axis=0),\n",
      "/home/allenwu/anaconda3/envs/marllib/lib/python3.8/site-packages/ray/rllib/utils/metrics/learner_info.py:64: RuntimeWarning: Mean of empty slice\n",
      "  lambda *s: None if s[0] is None else np.nanmean(s, axis=0),\n",
      "/home/allenwu/anaconda3/envs/marllib/lib/python3.8/site-packages/ray/rllib/utils/metrics/learner_info.py:64: RuntimeWarning: Mean of empty slice\n",
      "  lambda *s: None if s[0] is None else np.nanmean(s, axis=0),\n",
      "/home/allenwu/anaconda3/envs/marllib/lib/python3.8/site-packages/ray/rllib/utils/metrics/learner_info.py:64: RuntimeWarning: Mean of empty slice\n",
      "  lambda *s: None if s[0] is None else np.nanmean(s, axis=0),\n"
     ]
    },
    {
     "name": "stdout",
     "output_type": "stream",
     "text": [
      "== Status ==\n",
      "Current time: 2023-09-21 01:56:21 (running for 00:13:12.76)\n",
      "Memory usage on this node: 11.2/31.2 GiB\n",
      "Using FIFO scheduling algorithm.\n",
      "Resources requested: 3.0/24 CPUs, 1.0/0 GPUs, 0.0/15.61 GiB heap, 0.0/7.8 GiB objects (0.0/1.0 accelerator_type:G)\n",
      "Result logdir: /home/allenwu/Desktop/work/MARLlib-1.0.3/exp_results/happo_gru_CityLearn_5e-07_0.0005_APPEND-DATA_seed-2\n",
      "Number of trials: 1/1 (1 RUNNING)\n",
      "\n",
      "\n"
     ]
    },
    {
     "name": "stderr",
     "output_type": "stream",
     "text": [
      "/home/allenwu/anaconda3/envs/marllib/lib/python3.8/site-packages/ray/rllib/utils/metrics/learner_info.py:64: RuntimeWarning: Mean of empty slice\n",
      "  lambda *s: None if s[0] is None else np.nanmean(s, axis=0),\n",
      "/home/allenwu/anaconda3/envs/marllib/lib/python3.8/site-packages/ray/rllib/utils/metrics/learner_info.py:64: RuntimeWarning: Mean of empty slice\n",
      "  lambda *s: None if s[0] is None else np.nanmean(s, axis=0),\n",
      "/home/allenwu/anaconda3/envs/marllib/lib/python3.8/site-packages/ray/rllib/utils/metrics/learner_info.py:64: RuntimeWarning: Mean of empty slice\n",
      "  lambda *s: None if s[0] is None else np.nanmean(s, axis=0),\n",
      "/home/allenwu/anaconda3/envs/marllib/lib/python3.8/site-packages/ray/rllib/utils/metrics/learner_info.py:64: RuntimeWarning: Mean of empty slice\n",
      "  lambda *s: None if s[0] is None else np.nanmean(s, axis=0),\n",
      "/home/allenwu/anaconda3/envs/marllib/lib/python3.8/site-packages/ray/rllib/utils/metrics/learner_info.py:64: RuntimeWarning: Mean of empty slice\n",
      "  lambda *s: None if s[0] is None else np.nanmean(s, axis=0),\n",
      "/home/allenwu/anaconda3/envs/marllib/lib/python3.8/site-packages/ray/rllib/utils/metrics/learner_info.py:64: RuntimeWarning: Mean of empty slice\n",
      "  lambda *s: None if s[0] is None else np.nanmean(s, axis=0),\n",
      "/home/allenwu/anaconda3/envs/marllib/lib/python3.8/site-packages/ray/rllib/utils/metrics/learner_info.py:64: RuntimeWarning: Mean of empty slice\n",
      "  lambda *s: None if s[0] is None else np.nanmean(s, axis=0),\n"
     ]
    },
    {
     "name": "stdout",
     "output_type": "stream",
     "text": [
      "== Status ==\n",
      "Current time: 2023-09-21 01:56:26 (running for 00:13:18.19)\n",
      "Memory usage on this node: 11.2/31.2 GiB\n",
      "Using FIFO scheduling algorithm.\n",
      "Resources requested: 3.0/24 CPUs, 1.0/0 GPUs, 0.0/15.61 GiB heap, 0.0/7.8 GiB objects (0.0/1.0 accelerator_type:G)\n",
      "Result logdir: /home/allenwu/Desktop/work/MARLlib-1.0.3/exp_results/happo_gru_CityLearn_5e-07_0.0005_APPEND-DATA_seed-2\n",
      "Number of trials: 1/1 (1 RUNNING)\n",
      "\n",
      "\n"
     ]
    },
    {
     "name": "stderr",
     "output_type": "stream",
     "text": [
      "/home/allenwu/anaconda3/envs/marllib/lib/python3.8/site-packages/ray/rllib/utils/metrics/learner_info.py:64: RuntimeWarning: Mean of empty slice\n",
      "  lambda *s: None if s[0] is None else np.nanmean(s, axis=0),\n",
      "/home/allenwu/anaconda3/envs/marllib/lib/python3.8/site-packages/ray/rllib/utils/metrics/learner_info.py:64: RuntimeWarning: Mean of empty slice\n",
      "  lambda *s: None if s[0] is None else np.nanmean(s, axis=0),\n",
      "/home/allenwu/anaconda3/envs/marllib/lib/python3.8/site-packages/ray/rllib/utils/metrics/learner_info.py:64: RuntimeWarning: Mean of empty slice\n",
      "  lambda *s: None if s[0] is None else np.nanmean(s, axis=0),\n"
     ]
    },
    {
     "name": "stdout",
     "output_type": "stream",
     "text": [
      "== Status ==\n",
      "Current time: 2023-09-21 01:56:31 (running for 00:13:23.20)\n",
      "Memory usage on this node: 11.2/31.2 GiB\n",
      "Using FIFO scheduling algorithm.\n",
      "Resources requested: 3.0/24 CPUs, 1.0/0 GPUs, 0.0/15.61 GiB heap, 0.0/7.8 GiB objects (0.0/1.0 accelerator_type:G)\n",
      "Result logdir: /home/allenwu/Desktop/work/MARLlib-1.0.3/exp_results/happo_gru_CityLearn_5e-07_0.0005_APPEND-DATA_seed-2\n",
      "Number of trials: 1/1 (1 RUNNING)\n",
      "\n",
      "\n"
     ]
    },
    {
     "name": "stderr",
     "output_type": "stream",
     "text": [
      "/home/allenwu/anaconda3/envs/marllib/lib/python3.8/site-packages/ray/rllib/utils/metrics/learner_info.py:64: RuntimeWarning: Mean of empty slice\n",
      "  lambda *s: None if s[0] is None else np.nanmean(s, axis=0),\n",
      "/home/allenwu/anaconda3/envs/marllib/lib/python3.8/site-packages/ray/rllib/utils/metrics/learner_info.py:64: RuntimeWarning: Mean of empty slice\n",
      "  lambda *s: None if s[0] is None else np.nanmean(s, axis=0),\n",
      "/home/allenwu/anaconda3/envs/marllib/lib/python3.8/site-packages/ray/rllib/utils/metrics/learner_info.py:64: RuntimeWarning: Mean of empty slice\n",
      "  lambda *s: None if s[0] is None else np.nanmean(s, axis=0),\n",
      "/home/allenwu/anaconda3/envs/marllib/lib/python3.8/site-packages/ray/rllib/utils/metrics/learner_info.py:64: RuntimeWarning: Mean of empty slice\n",
      "  lambda *s: None if s[0] is None else np.nanmean(s, axis=0),\n",
      "/home/allenwu/anaconda3/envs/marllib/lib/python3.8/site-packages/ray/rllib/utils/metrics/learner_info.py:64: RuntimeWarning: Mean of empty slice\n",
      "  lambda *s: None if s[0] is None else np.nanmean(s, axis=0),\n",
      "/home/allenwu/anaconda3/envs/marllib/lib/python3.8/site-packages/ray/rllib/utils/metrics/learner_info.py:64: RuntimeWarning: Mean of empty slice\n",
      "  lambda *s: None if s[0] is None else np.nanmean(s, axis=0),\n",
      "/home/allenwu/anaconda3/envs/marllib/lib/python3.8/site-packages/ray/rllib/utils/metrics/learner_info.py:64: RuntimeWarning: Mean of empty slice\n",
      "  lambda *s: None if s[0] is None else np.nanmean(s, axis=0),\n",
      "/home/allenwu/anaconda3/envs/marllib/lib/python3.8/site-packages/ray/rllib/utils/metrics/learner_info.py:64: RuntimeWarning: Mean of empty slice\n",
      "  lambda *s: None if s[0] is None else np.nanmean(s, axis=0),\n",
      "/home/allenwu/anaconda3/envs/marllib/lib/python3.8/site-packages/ray/rllib/utils/metrics/learner_info.py:64: RuntimeWarning: Mean of empty slice\n",
      "  lambda *s: None if s[0] is None else np.nanmean(s, axis=0),\n"
     ]
    },
    {
     "name": "stdout",
     "output_type": "stream",
     "text": [
      "== Status ==\n",
      "Current time: 2023-09-21 01:56:37 (running for 00:13:28.58)\n",
      "Memory usage on this node: 11.2/31.2 GiB\n",
      "Using FIFO scheduling algorithm.\n",
      "Resources requested: 3.0/24 CPUs, 1.0/0 GPUs, 0.0/15.61 GiB heap, 0.0/7.8 GiB objects (0.0/1.0 accelerator_type:G)\n",
      "Result logdir: /home/allenwu/Desktop/work/MARLlib-1.0.3/exp_results/happo_gru_CityLearn_5e-07_0.0005_APPEND-DATA_seed-2\n",
      "Number of trials: 1/1 (1 RUNNING)\n",
      "\n",
      "\n"
     ]
    },
    {
     "name": "stderr",
     "output_type": "stream",
     "text": [
      "/home/allenwu/anaconda3/envs/marllib/lib/python3.8/site-packages/ray/rllib/utils/metrics/learner_info.py:64: RuntimeWarning: Mean of empty slice\n",
      "  lambda *s: None if s[0] is None else np.nanmean(s, axis=0),\n",
      "/home/allenwu/anaconda3/envs/marllib/lib/python3.8/site-packages/ray/rllib/utils/metrics/learner_info.py:64: RuntimeWarning: Mean of empty slice\n",
      "  lambda *s: None if s[0] is None else np.nanmean(s, axis=0),\n",
      "/home/allenwu/anaconda3/envs/marllib/lib/python3.8/site-packages/ray/rllib/utils/metrics/learner_info.py:64: RuntimeWarning: Mean of empty slice\n",
      "  lambda *s: None if s[0] is None else np.nanmean(s, axis=0),\n",
      "/home/allenwu/anaconda3/envs/marllib/lib/python3.8/site-packages/ray/rllib/utils/metrics/learner_info.py:64: RuntimeWarning: Mean of empty slice\n",
      "  lambda *s: None if s[0] is None else np.nanmean(s, axis=0),\n",
      "/home/allenwu/anaconda3/envs/marllib/lib/python3.8/site-packages/ray/rllib/utils/metrics/learner_info.py:64: RuntimeWarning: Mean of empty slice\n",
      "  lambda *s: None if s[0] is None else np.nanmean(s, axis=0),\n"
     ]
    },
    {
     "name": "stdout",
     "output_type": "stream",
     "text": [
      "== Status ==\n",
      "Current time: 2023-09-21 01:56:42 (running for 00:13:33.93)\n",
      "Memory usage on this node: 11.2/31.2 GiB\n",
      "Using FIFO scheduling algorithm.\n",
      "Resources requested: 3.0/24 CPUs, 1.0/0 GPUs, 0.0/15.61 GiB heap, 0.0/7.8 GiB objects (0.0/1.0 accelerator_type:G)\n",
      "Result logdir: /home/allenwu/Desktop/work/MARLlib-1.0.3/exp_results/happo_gru_CityLearn_5e-07_0.0005_APPEND-DATA_seed-2\n",
      "Number of trials: 1/1 (1 RUNNING)\n",
      "\n",
      "\n"
     ]
    },
    {
     "name": "stderr",
     "output_type": "stream",
     "text": [
      "/home/allenwu/anaconda3/envs/marllib/lib/python3.8/site-packages/ray/rllib/utils/metrics/learner_info.py:64: RuntimeWarning: Mean of empty slice\n",
      "  lambda *s: None if s[0] is None else np.nanmean(s, axis=0),\n",
      "/home/allenwu/anaconda3/envs/marllib/lib/python3.8/site-packages/ray/rllib/utils/metrics/learner_info.py:64: RuntimeWarning: Mean of empty slice\n",
      "  lambda *s: None if s[0] is None else np.nanmean(s, axis=0),\n",
      "/home/allenwu/anaconda3/envs/marllib/lib/python3.8/site-packages/ray/rllib/utils/metrics/learner_info.py:64: RuntimeWarning: Mean of empty slice\n",
      "  lambda *s: None if s[0] is None else np.nanmean(s, axis=0),\n",
      "/home/allenwu/anaconda3/envs/marllib/lib/python3.8/site-packages/ray/rllib/utils/metrics/learner_info.py:64: RuntimeWarning: Mean of empty slice\n",
      "  lambda *s: None if s[0] is None else np.nanmean(s, axis=0),\n",
      "/home/allenwu/anaconda3/envs/marllib/lib/python3.8/site-packages/ray/rllib/utils/metrics/learner_info.py:64: RuntimeWarning: Mean of empty slice\n",
      "  lambda *s: None if s[0] is None else np.nanmean(s, axis=0),\n"
     ]
    },
    {
     "name": "stdout",
     "output_type": "stream",
     "text": [
      "== Status ==\n",
      "Current time: 2023-09-21 01:56:47 (running for 00:13:39.03)\n",
      "Memory usage on this node: 11.3/31.2 GiB\n",
      "Using FIFO scheduling algorithm.\n",
      "Resources requested: 3.0/24 CPUs, 1.0/0 GPUs, 0.0/15.61 GiB heap, 0.0/7.8 GiB objects (0.0/1.0 accelerator_type:G)\n",
      "Result logdir: /home/allenwu/Desktop/work/MARLlib-1.0.3/exp_results/happo_gru_CityLearn_5e-07_0.0005_APPEND-DATA_seed-2\n",
      "Number of trials: 1/1 (1 RUNNING)\n",
      "\n",
      "\n"
     ]
    },
    {
     "name": "stderr",
     "output_type": "stream",
     "text": [
      "/home/allenwu/anaconda3/envs/marllib/lib/python3.8/site-packages/ray/rllib/utils/metrics/learner_info.py:64: RuntimeWarning: Mean of empty slice\n",
      "  lambda *s: None if s[0] is None else np.nanmean(s, axis=0),\n",
      "/home/allenwu/anaconda3/envs/marllib/lib/python3.8/site-packages/ray/rllib/utils/metrics/learner_info.py:64: RuntimeWarning: Mean of empty slice\n",
      "  lambda *s: None if s[0] is None else np.nanmean(s, axis=0),\n",
      "/home/allenwu/anaconda3/envs/marllib/lib/python3.8/site-packages/ray/rllib/utils/metrics/learner_info.py:64: RuntimeWarning: Mean of empty slice\n",
      "  lambda *s: None if s[0] is None else np.nanmean(s, axis=0),\n",
      "/home/allenwu/anaconda3/envs/marllib/lib/python3.8/site-packages/ray/rllib/utils/metrics/learner_info.py:64: RuntimeWarning: Mean of empty slice\n",
      "  lambda *s: None if s[0] is None else np.nanmean(s, axis=0),\n",
      "/home/allenwu/anaconda3/envs/marllib/lib/python3.8/site-packages/ray/rllib/utils/metrics/learner_info.py:64: RuntimeWarning: Mean of empty slice\n",
      "  lambda *s: None if s[0] is None else np.nanmean(s, axis=0),\n",
      "/home/allenwu/anaconda3/envs/marllib/lib/python3.8/site-packages/ray/rllib/utils/metrics/learner_info.py:64: RuntimeWarning: Mean of empty slice\n",
      "  lambda *s: None if s[0] is None else np.nanmean(s, axis=0),\n",
      "/home/allenwu/anaconda3/envs/marllib/lib/python3.8/site-packages/ray/rllib/utils/metrics/learner_info.py:64: RuntimeWarning: Mean of empty slice\n",
      "  lambda *s: None if s[0] is None else np.nanmean(s, axis=0),\n"
     ]
    },
    {
     "name": "stdout",
     "output_type": "stream",
     "text": [
      "== Status ==\n",
      "Current time: 2023-09-21 01:56:52 (running for 00:13:44.17)\n",
      "Memory usage on this node: 11.3/31.2 GiB\n",
      "Using FIFO scheduling algorithm.\n",
      "Resources requested: 3.0/24 CPUs, 1.0/0 GPUs, 0.0/15.61 GiB heap, 0.0/7.8 GiB objects (0.0/1.0 accelerator_type:G)\n",
      "Result logdir: /home/allenwu/Desktop/work/MARLlib-1.0.3/exp_results/happo_gru_CityLearn_5e-07_0.0005_APPEND-DATA_seed-2\n",
      "Number of trials: 1/1 (1 RUNNING)\n",
      "\n",
      "\n"
     ]
    },
    {
     "name": "stderr",
     "output_type": "stream",
     "text": [
      "/home/allenwu/anaconda3/envs/marllib/lib/python3.8/site-packages/ray/rllib/utils/metrics/learner_info.py:64: RuntimeWarning: Mean of empty slice\n",
      "  lambda *s: None if s[0] is None else np.nanmean(s, axis=0),\n",
      "/home/allenwu/anaconda3/envs/marllib/lib/python3.8/site-packages/ray/rllib/utils/metrics/learner_info.py:64: RuntimeWarning: Mean of empty slice\n",
      "  lambda *s: None if s[0] is None else np.nanmean(s, axis=0),\n",
      "/home/allenwu/anaconda3/envs/marllib/lib/python3.8/site-packages/ray/rllib/utils/metrics/learner_info.py:64: RuntimeWarning: Mean of empty slice\n",
      "  lambda *s: None if s[0] is None else np.nanmean(s, axis=0),\n",
      "/home/allenwu/anaconda3/envs/marllib/lib/python3.8/site-packages/ray/rllib/utils/metrics/learner_info.py:64: RuntimeWarning: Mean of empty slice\n",
      "  lambda *s: None if s[0] is None else np.nanmean(s, axis=0),\n"
     ]
    },
    {
     "name": "stdout",
     "output_type": "stream",
     "text": [
      "== Status ==\n",
      "Current time: 2023-09-21 01:56:58 (running for 00:13:49.28)\n",
      "Memory usage on this node: 11.4/31.2 GiB\n",
      "Using FIFO scheduling algorithm.\n",
      "Resources requested: 3.0/24 CPUs, 1.0/0 GPUs, 0.0/15.61 GiB heap, 0.0/7.8 GiB objects (0.0/1.0 accelerator_type:G)\n",
      "Result logdir: /home/allenwu/Desktop/work/MARLlib-1.0.3/exp_results/happo_gru_CityLearn_5e-07_0.0005_APPEND-DATA_seed-2\n",
      "Number of trials: 1/1 (1 RUNNING)\n",
      "\n",
      "\n"
     ]
    },
    {
     "name": "stderr",
     "output_type": "stream",
     "text": [
      "/home/allenwu/anaconda3/envs/marllib/lib/python3.8/site-packages/ray/rllib/utils/metrics/learner_info.py:64: RuntimeWarning: Mean of empty slice\n",
      "  lambda *s: None if s[0] is None else np.nanmean(s, axis=0),\n",
      "/home/allenwu/anaconda3/envs/marllib/lib/python3.8/site-packages/ray/rllib/utils/metrics/learner_info.py:64: RuntimeWarning: Mean of empty slice\n",
      "  lambda *s: None if s[0] is None else np.nanmean(s, axis=0),\n",
      "/home/allenwu/anaconda3/envs/marllib/lib/python3.8/site-packages/ray/rllib/utils/metrics/learner_info.py:64: RuntimeWarning: Mean of empty slice\n",
      "  lambda *s: None if s[0] is None else np.nanmean(s, axis=0),\n",
      "/home/allenwu/anaconda3/envs/marllib/lib/python3.8/site-packages/ray/rllib/utils/metrics/learner_info.py:64: RuntimeWarning: Mean of empty slice\n",
      "  lambda *s: None if s[0] is None else np.nanmean(s, axis=0),\n"
     ]
    },
    {
     "name": "stdout",
     "output_type": "stream",
     "text": [
      "== Status ==\n",
      "Current time: 2023-09-21 01:57:03 (running for 00:13:54.39)\n",
      "Memory usage on this node: 11.4/31.2 GiB\n",
      "Using FIFO scheduling algorithm.\n",
      "Resources requested: 3.0/24 CPUs, 1.0/0 GPUs, 0.0/15.61 GiB heap, 0.0/7.8 GiB objects (0.0/1.0 accelerator_type:G)\n",
      "Result logdir: /home/allenwu/Desktop/work/MARLlib-1.0.3/exp_results/happo_gru_CityLearn_5e-07_0.0005_APPEND-DATA_seed-2\n",
      "Number of trials: 1/1 (1 RUNNING)\n",
      "\n",
      "\n"
     ]
    },
    {
     "name": "stderr",
     "output_type": "stream",
     "text": [
      "/home/allenwu/anaconda3/envs/marllib/lib/python3.8/site-packages/ray/rllib/utils/metrics/learner_info.py:64: RuntimeWarning: Mean of empty slice\n",
      "  lambda *s: None if s[0] is None else np.nanmean(s, axis=0),\n",
      "/home/allenwu/anaconda3/envs/marllib/lib/python3.8/site-packages/ray/rllib/utils/metrics/learner_info.py:64: RuntimeWarning: Mean of empty slice\n",
      "  lambda *s: None if s[0] is None else np.nanmean(s, axis=0),\n",
      "/home/allenwu/anaconda3/envs/marllib/lib/python3.8/site-packages/ray/rllib/utils/metrics/learner_info.py:64: RuntimeWarning: Mean of empty slice\n",
      "  lambda *s: None if s[0] is None else np.nanmean(s, axis=0),\n",
      "/home/allenwu/anaconda3/envs/marllib/lib/python3.8/site-packages/ray/rllib/utils/metrics/learner_info.py:64: RuntimeWarning: Mean of empty slice\n",
      "  lambda *s: None if s[0] is None else np.nanmean(s, axis=0),\n",
      "/home/allenwu/anaconda3/envs/marllib/lib/python3.8/site-packages/ray/rllib/utils/metrics/learner_info.py:64: RuntimeWarning: Mean of empty slice\n",
      "  lambda *s: None if s[0] is None else np.nanmean(s, axis=0),\n",
      "/home/allenwu/anaconda3/envs/marllib/lib/python3.8/site-packages/ray/rllib/utils/metrics/learner_info.py:64: RuntimeWarning: Mean of empty slice\n",
      "  lambda *s: None if s[0] is None else np.nanmean(s, axis=0),\n"
     ]
    },
    {
     "name": "stdout",
     "output_type": "stream",
     "text": [
      "== Status ==\n",
      "Current time: 2023-09-21 01:57:08 (running for 00:13:59.50)\n",
      "Memory usage on this node: 11.4/31.2 GiB\n",
      "Using FIFO scheduling algorithm.\n",
      "Resources requested: 3.0/24 CPUs, 1.0/0 GPUs, 0.0/15.61 GiB heap, 0.0/7.8 GiB objects (0.0/1.0 accelerator_type:G)\n",
      "Result logdir: /home/allenwu/Desktop/work/MARLlib-1.0.3/exp_results/happo_gru_CityLearn_5e-07_0.0005_APPEND-DATA_seed-2\n",
      "Number of trials: 1/1 (1 RUNNING)\n",
      "\n",
      "\n"
     ]
    },
    {
     "name": "stderr",
     "output_type": "stream",
     "text": [
      "/home/allenwu/anaconda3/envs/marllib/lib/python3.8/site-packages/ray/rllib/utils/metrics/learner_info.py:64: RuntimeWarning: Mean of empty slice\n",
      "  lambda *s: None if s[0] is None else np.nanmean(s, axis=0),\n",
      "/home/allenwu/anaconda3/envs/marllib/lib/python3.8/site-packages/ray/rllib/utils/metrics/learner_info.py:64: RuntimeWarning: Mean of empty slice\n",
      "  lambda *s: None if s[0] is None else np.nanmean(s, axis=0),\n",
      "/home/allenwu/anaconda3/envs/marllib/lib/python3.8/site-packages/ray/rllib/utils/metrics/learner_info.py:64: RuntimeWarning: Mean of empty slice\n",
      "  lambda *s: None if s[0] is None else np.nanmean(s, axis=0),\n",
      "/home/allenwu/anaconda3/envs/marllib/lib/python3.8/site-packages/ray/rllib/utils/metrics/learner_info.py:64: RuntimeWarning: Mean of empty slice\n",
      "  lambda *s: None if s[0] is None else np.nanmean(s, axis=0),\n",
      "2023-09-21 01:57:12,523\tWARNING ray_trial_executor.py:768 -- Over the last 60 seconds, the Tune event loop has been backlogged processing new results. Consider increasing your period of result reporting to improve performance.\n",
      "/home/allenwu/anaconda3/envs/marllib/lib/python3.8/site-packages/ray/rllib/utils/metrics/learner_info.py:64: RuntimeWarning: Mean of empty slice\n",
      "  lambda *s: None if s[0] is None else np.nanmean(s, axis=0),\n",
      "/home/allenwu/anaconda3/envs/marllib/lib/python3.8/site-packages/ray/rllib/utils/metrics/learner_info.py:64: RuntimeWarning: Mean of empty slice\n",
      "  lambda *s: None if s[0] is None else np.nanmean(s, axis=0),\n"
     ]
    },
    {
     "name": "stdout",
     "output_type": "stream",
     "text": [
      "== Status ==\n",
      "Current time: 2023-09-21 01:57:13 (running for 00:14:04.62)\n",
      "Memory usage on this node: 11.5/31.2 GiB\n",
      "Using FIFO scheduling algorithm.\n",
      "Resources requested: 3.0/24 CPUs, 1.0/0 GPUs, 0.0/15.61 GiB heap, 0.0/7.8 GiB objects (0.0/1.0 accelerator_type:G)\n",
      "Result logdir: /home/allenwu/Desktop/work/MARLlib-1.0.3/exp_results/happo_gru_CityLearn_5e-07_0.0005_APPEND-DATA_seed-2\n",
      "Number of trials: 1/1 (1 RUNNING)\n",
      "\n",
      "\n"
     ]
    },
    {
     "name": "stderr",
     "output_type": "stream",
     "text": [
      "/home/allenwu/anaconda3/envs/marllib/lib/python3.8/site-packages/ray/rllib/utils/metrics/learner_info.py:64: RuntimeWarning: Mean of empty slice\n",
      "  lambda *s: None if s[0] is None else np.nanmean(s, axis=0),\n",
      "/home/allenwu/anaconda3/envs/marllib/lib/python3.8/site-packages/ray/rllib/utils/metrics/learner_info.py:64: RuntimeWarning: Mean of empty slice\n",
      "  lambda *s: None if s[0] is None else np.nanmean(s, axis=0),\n",
      "/home/allenwu/anaconda3/envs/marllib/lib/python3.8/site-packages/ray/rllib/utils/metrics/learner_info.py:64: RuntimeWarning: Mean of empty slice\n",
      "  lambda *s: None if s[0] is None else np.nanmean(s, axis=0),\n",
      "/home/allenwu/anaconda3/envs/marllib/lib/python3.8/site-packages/ray/rllib/utils/metrics/learner_info.py:64: RuntimeWarning: Mean of empty slice\n",
      "  lambda *s: None if s[0] is None else np.nanmean(s, axis=0),\n",
      "/home/allenwu/anaconda3/envs/marllib/lib/python3.8/site-packages/ray/rllib/utils/metrics/learner_info.py:64: RuntimeWarning: Mean of empty slice\n",
      "  lambda *s: None if s[0] is None else np.nanmean(s, axis=0),\n"
     ]
    },
    {
     "name": "stdout",
     "output_type": "stream",
     "text": [
      "== Status ==\n",
      "Current time: 2023-09-21 01:57:18 (running for 00:14:09.79)\n",
      "Memory usage on this node: 11.5/31.2 GiB\n",
      "Using FIFO scheduling algorithm.\n",
      "Resources requested: 3.0/24 CPUs, 1.0/0 GPUs, 0.0/15.61 GiB heap, 0.0/7.8 GiB objects (0.0/1.0 accelerator_type:G)\n",
      "Result logdir: /home/allenwu/Desktop/work/MARLlib-1.0.3/exp_results/happo_gru_CityLearn_5e-07_0.0005_APPEND-DATA_seed-2\n",
      "Number of trials: 1/1 (1 RUNNING)\n",
      "\n",
      "\n"
     ]
    },
    {
     "name": "stderr",
     "output_type": "stream",
     "text": [
      "/home/allenwu/anaconda3/envs/marllib/lib/python3.8/site-packages/ray/rllib/utils/metrics/learner_info.py:64: RuntimeWarning: Mean of empty slice\n",
      "  lambda *s: None if s[0] is None else np.nanmean(s, axis=0),\n",
      "/home/allenwu/anaconda3/envs/marllib/lib/python3.8/site-packages/ray/rllib/utils/metrics/learner_info.py:64: RuntimeWarning: Mean of empty slice\n",
      "  lambda *s: None if s[0] is None else np.nanmean(s, axis=0),\n",
      "/home/allenwu/anaconda3/envs/marllib/lib/python3.8/site-packages/ray/rllib/utils/metrics/learner_info.py:64: RuntimeWarning: Mean of empty slice\n",
      "  lambda *s: None if s[0] is None else np.nanmean(s, axis=0),\n",
      "/home/allenwu/anaconda3/envs/marllib/lib/python3.8/site-packages/ray/rllib/utils/metrics/learner_info.py:64: RuntimeWarning: Mean of empty slice\n",
      "  lambda *s: None if s[0] is None else np.nanmean(s, axis=0),\n",
      "/home/allenwu/anaconda3/envs/marllib/lib/python3.8/site-packages/ray/rllib/utils/metrics/learner_info.py:64: RuntimeWarning: Mean of empty slice\n",
      "  lambda *s: None if s[0] is None else np.nanmean(s, axis=0),\n"
     ]
    },
    {
     "name": "stdout",
     "output_type": "stream",
     "text": [
      "== Status ==\n",
      "Current time: 2023-09-21 01:57:23 (running for 00:14:14.96)\n",
      "Memory usage on this node: 11.5/31.2 GiB\n",
      "Using FIFO scheduling algorithm.\n",
      "Resources requested: 3.0/24 CPUs, 1.0/0 GPUs, 0.0/15.61 GiB heap, 0.0/7.8 GiB objects (0.0/1.0 accelerator_type:G)\n",
      "Result logdir: /home/allenwu/Desktop/work/MARLlib-1.0.3/exp_results/happo_gru_CityLearn_5e-07_0.0005_APPEND-DATA_seed-2\n",
      "Number of trials: 1/1 (1 RUNNING)\n",
      "\n",
      "\n"
     ]
    },
    {
     "name": "stderr",
     "output_type": "stream",
     "text": [
      "/home/allenwu/anaconda3/envs/marllib/lib/python3.8/site-packages/ray/rllib/utils/metrics/learner_info.py:64: RuntimeWarning: Mean of empty slice\n",
      "  lambda *s: None if s[0] is None else np.nanmean(s, axis=0),\n",
      "/home/allenwu/anaconda3/envs/marllib/lib/python3.8/site-packages/ray/rllib/utils/metrics/learner_info.py:64: RuntimeWarning: Mean of empty slice\n",
      "  lambda *s: None if s[0] is None else np.nanmean(s, axis=0),\n",
      "/home/allenwu/anaconda3/envs/marllib/lib/python3.8/site-packages/ray/rllib/utils/metrics/learner_info.py:64: RuntimeWarning: Mean of empty slice\n",
      "  lambda *s: None if s[0] is None else np.nanmean(s, axis=0),\n",
      "/home/allenwu/anaconda3/envs/marllib/lib/python3.8/site-packages/ray/rllib/utils/metrics/learner_info.py:64: RuntimeWarning: Mean of empty slice\n",
      "  lambda *s: None if s[0] is None else np.nanmean(s, axis=0),\n"
     ]
    },
    {
     "name": "stdout",
     "output_type": "stream",
     "text": [
      "== Status ==\n",
      "Current time: 2023-09-21 01:57:28 (running for 00:14:20.10)\n",
      "Memory usage on this node: 11.5/31.2 GiB\n",
      "Using FIFO scheduling algorithm.\n",
      "Resources requested: 3.0/24 CPUs, 1.0/0 GPUs, 0.0/15.61 GiB heap, 0.0/7.8 GiB objects (0.0/1.0 accelerator_type:G)\n",
      "Result logdir: /home/allenwu/Desktop/work/MARLlib-1.0.3/exp_results/happo_gru_CityLearn_5e-07_0.0005_APPEND-DATA_seed-2\n",
      "Number of trials: 1/1 (1 RUNNING)\n",
      "\n",
      "\n"
     ]
    },
    {
     "name": "stderr",
     "output_type": "stream",
     "text": [
      "/home/allenwu/anaconda3/envs/marllib/lib/python3.8/site-packages/ray/rllib/utils/metrics/learner_info.py:64: RuntimeWarning: Mean of empty slice\n",
      "  lambda *s: None if s[0] is None else np.nanmean(s, axis=0),\n",
      "/home/allenwu/anaconda3/envs/marllib/lib/python3.8/site-packages/ray/rllib/utils/metrics/learner_info.py:64: RuntimeWarning: Mean of empty slice\n",
      "  lambda *s: None if s[0] is None else np.nanmean(s, axis=0),\n",
      "/home/allenwu/anaconda3/envs/marllib/lib/python3.8/site-packages/ray/rllib/utils/metrics/learner_info.py:64: RuntimeWarning: Mean of empty slice\n",
      "  lambda *s: None if s[0] is None else np.nanmean(s, axis=0),\n",
      "/home/allenwu/anaconda3/envs/marllib/lib/python3.8/site-packages/ray/rllib/utils/metrics/learner_info.py:64: RuntimeWarning: Mean of empty slice\n",
      "  lambda *s: None if s[0] is None else np.nanmean(s, axis=0),\n"
     ]
    },
    {
     "name": "stdout",
     "output_type": "stream",
     "text": [
      "== Status ==\n",
      "Current time: 2023-09-21 01:57:34 (running for 00:14:25.24)\n",
      "Memory usage on this node: 11.5/31.2 GiB\n",
      "Using FIFO scheduling algorithm.\n",
      "Resources requested: 3.0/24 CPUs, 1.0/0 GPUs, 0.0/15.61 GiB heap, 0.0/7.8 GiB objects (0.0/1.0 accelerator_type:G)\n",
      "Result logdir: /home/allenwu/Desktop/work/MARLlib-1.0.3/exp_results/happo_gru_CityLearn_5e-07_0.0005_APPEND-DATA_seed-2\n",
      "Number of trials: 1/1 (1 RUNNING)\n",
      "\n",
      "\n"
     ]
    },
    {
     "name": "stderr",
     "output_type": "stream",
     "text": [
      "/home/allenwu/anaconda3/envs/marllib/lib/python3.8/site-packages/ray/rllib/utils/metrics/learner_info.py:64: RuntimeWarning: Mean of empty slice\n",
      "  lambda *s: None if s[0] is None else np.nanmean(s, axis=0),\n",
      "/home/allenwu/anaconda3/envs/marllib/lib/python3.8/site-packages/ray/rllib/utils/metrics/learner_info.py:64: RuntimeWarning: Mean of empty slice\n",
      "  lambda *s: None if s[0] is None else np.nanmean(s, axis=0),\n",
      "/home/allenwu/anaconda3/envs/marllib/lib/python3.8/site-packages/ray/rllib/utils/metrics/learner_info.py:64: RuntimeWarning: Mean of empty slice\n",
      "  lambda *s: None if s[0] is None else np.nanmean(s, axis=0),\n",
      "/home/allenwu/anaconda3/envs/marllib/lib/python3.8/site-packages/ray/rllib/utils/metrics/learner_info.py:64: RuntimeWarning: Mean of empty slice\n",
      "  lambda *s: None if s[0] is None else np.nanmean(s, axis=0),\n",
      "/home/allenwu/anaconda3/envs/marllib/lib/python3.8/site-packages/ray/rllib/utils/metrics/learner_info.py:64: RuntimeWarning: Mean of empty slice\n",
      "  lambda *s: None if s[0] is None else np.nanmean(s, axis=0),\n",
      "/home/allenwu/anaconda3/envs/marllib/lib/python3.8/site-packages/ray/rllib/utils/metrics/learner_info.py:64: RuntimeWarning: Mean of empty slice\n",
      "  lambda *s: None if s[0] is None else np.nanmean(s, axis=0),\n",
      "/home/allenwu/anaconda3/envs/marllib/lib/python3.8/site-packages/ray/rllib/utils/metrics/learner_info.py:64: RuntimeWarning: Mean of empty slice\n",
      "  lambda *s: None if s[0] is None else np.nanmean(s, axis=0),\n",
      "/home/allenwu/anaconda3/envs/marllib/lib/python3.8/site-packages/ray/rllib/utils/metrics/learner_info.py:64: RuntimeWarning: Mean of empty slice\n",
      "  lambda *s: None if s[0] is None else np.nanmean(s, axis=0),\n"
     ]
    },
    {
     "name": "stdout",
     "output_type": "stream",
     "text": [
      "== Status ==\n",
      "Current time: 2023-09-21 01:57:39 (running for 00:14:30.34)\n",
      "Memory usage on this node: 11.6/31.2 GiB\n",
      "Using FIFO scheduling algorithm.\n",
      "Resources requested: 3.0/24 CPUs, 1.0/0 GPUs, 0.0/15.61 GiB heap, 0.0/7.8 GiB objects (0.0/1.0 accelerator_type:G)\n",
      "Result logdir: /home/allenwu/Desktop/work/MARLlib-1.0.3/exp_results/happo_gru_CityLearn_5e-07_0.0005_APPEND-DATA_seed-2\n",
      "Number of trials: 1/1 (1 RUNNING)\n",
      "\n",
      "\n"
     ]
    },
    {
     "name": "stderr",
     "output_type": "stream",
     "text": [
      "/home/allenwu/anaconda3/envs/marllib/lib/python3.8/site-packages/ray/rllib/utils/metrics/learner_info.py:64: RuntimeWarning: Mean of empty slice\n",
      "  lambda *s: None if s[0] is None else np.nanmean(s, axis=0),\n",
      "/home/allenwu/anaconda3/envs/marllib/lib/python3.8/site-packages/ray/rllib/utils/metrics/learner_info.py:64: RuntimeWarning: Mean of empty slice\n",
      "  lambda *s: None if s[0] is None else np.nanmean(s, axis=0),\n",
      "/home/allenwu/anaconda3/envs/marllib/lib/python3.8/site-packages/ray/rllib/utils/metrics/learner_info.py:64: RuntimeWarning: Mean of empty slice\n",
      "  lambda *s: None if s[0] is None else np.nanmean(s, axis=0),\n",
      "/home/allenwu/anaconda3/envs/marllib/lib/python3.8/site-packages/ray/rllib/utils/metrics/learner_info.py:64: RuntimeWarning: Mean of empty slice\n",
      "  lambda *s: None if s[0] is None else np.nanmean(s, axis=0),\n",
      "/home/allenwu/anaconda3/envs/marllib/lib/python3.8/site-packages/ray/rllib/utils/metrics/learner_info.py:64: RuntimeWarning: Mean of empty slice\n",
      "  lambda *s: None if s[0] is None else np.nanmean(s, axis=0),\n",
      "/home/allenwu/anaconda3/envs/marllib/lib/python3.8/site-packages/ray/rllib/utils/metrics/learner_info.py:64: RuntimeWarning: Mean of empty slice\n",
      "  lambda *s: None if s[0] is None else np.nanmean(s, axis=0),\n",
      "/home/allenwu/anaconda3/envs/marllib/lib/python3.8/site-packages/ray/rllib/utils/metrics/learner_info.py:64: RuntimeWarning: Mean of empty slice\n",
      "  lambda *s: None if s[0] is None else np.nanmean(s, axis=0),\n",
      "/home/allenwu/anaconda3/envs/marllib/lib/python3.8/site-packages/ray/rllib/utils/metrics/learner_info.py:64: RuntimeWarning: Mean of empty slice\n",
      "  lambda *s: None if s[0] is None else np.nanmean(s, axis=0),\n"
     ]
    },
    {
     "name": "stdout",
     "output_type": "stream",
     "text": [
      "== Status ==\n",
      "Current time: 2023-09-21 01:57:44 (running for 00:14:35.41)\n",
      "Memory usage on this node: 11.6/31.2 GiB\n",
      "Using FIFO scheduling algorithm.\n",
      "Resources requested: 3.0/24 CPUs, 1.0/0 GPUs, 0.0/15.61 GiB heap, 0.0/7.8 GiB objects (0.0/1.0 accelerator_type:G)\n",
      "Result logdir: /home/allenwu/Desktop/work/MARLlib-1.0.3/exp_results/happo_gru_CityLearn_5e-07_0.0005_APPEND-DATA_seed-2\n",
      "Number of trials: 1/1 (1 RUNNING)\n",
      "\n",
      "\n"
     ]
    },
    {
     "name": "stderr",
     "output_type": "stream",
     "text": [
      "/home/allenwu/anaconda3/envs/marllib/lib/python3.8/site-packages/ray/rllib/utils/metrics/learner_info.py:64: RuntimeWarning: Mean of empty slice\n",
      "  lambda *s: None if s[0] is None else np.nanmean(s, axis=0),\n",
      "/home/allenwu/anaconda3/envs/marllib/lib/python3.8/site-packages/ray/rllib/utils/metrics/learner_info.py:64: RuntimeWarning: Mean of empty slice\n",
      "  lambda *s: None if s[0] is None else np.nanmean(s, axis=0),\n",
      "/home/allenwu/anaconda3/envs/marllib/lib/python3.8/site-packages/ray/rllib/utils/metrics/learner_info.py:64: RuntimeWarning: Mean of empty slice\n",
      "  lambda *s: None if s[0] is None else np.nanmean(s, axis=0),\n",
      "/home/allenwu/anaconda3/envs/marllib/lib/python3.8/site-packages/ray/rllib/utils/metrics/learner_info.py:64: RuntimeWarning: Mean of empty slice\n",
      "  lambda *s: None if s[0] is None else np.nanmean(s, axis=0),\n",
      "/home/allenwu/anaconda3/envs/marllib/lib/python3.8/site-packages/ray/rllib/utils/metrics/learner_info.py:64: RuntimeWarning: Mean of empty slice\n",
      "  lambda *s: None if s[0] is None else np.nanmean(s, axis=0),\n",
      "/home/allenwu/anaconda3/envs/marllib/lib/python3.8/site-packages/ray/rllib/utils/metrics/learner_info.py:64: RuntimeWarning: Mean of empty slice\n",
      "  lambda *s: None if s[0] is None else np.nanmean(s, axis=0),\n",
      "/home/allenwu/anaconda3/envs/marllib/lib/python3.8/site-packages/ray/rllib/utils/metrics/learner_info.py:64: RuntimeWarning: Mean of empty slice\n",
      "  lambda *s: None if s[0] is None else np.nanmean(s, axis=0),\n",
      "/home/allenwu/anaconda3/envs/marllib/lib/python3.8/site-packages/ray/rllib/utils/metrics/learner_info.py:64: RuntimeWarning: Mean of empty slice\n",
      "  lambda *s: None if s[0] is None else np.nanmean(s, axis=0),\n",
      "/home/allenwu/anaconda3/envs/marllib/lib/python3.8/site-packages/ray/rllib/utils/metrics/learner_info.py:64: RuntimeWarning: Mean of empty slice\n",
      "  lambda *s: None if s[0] is None else np.nanmean(s, axis=0),\n"
     ]
    },
    {
     "name": "stdout",
     "output_type": "stream",
     "text": [
      "== Status ==\n",
      "Current time: 2023-09-21 01:57:49 (running for 00:14:40.47)\n",
      "Memory usage on this node: 11.6/31.2 GiB\n",
      "Using FIFO scheduling algorithm.\n",
      "Resources requested: 3.0/24 CPUs, 1.0/0 GPUs, 0.0/15.61 GiB heap, 0.0/7.8 GiB objects (0.0/1.0 accelerator_type:G)\n",
      "Result logdir: /home/allenwu/Desktop/work/MARLlib-1.0.3/exp_results/happo_gru_CityLearn_5e-07_0.0005_APPEND-DATA_seed-2\n",
      "Number of trials: 1/1 (1 RUNNING)\n",
      "\n",
      "\n"
     ]
    },
    {
     "name": "stderr",
     "output_type": "stream",
     "text": [
      "/home/allenwu/anaconda3/envs/marllib/lib/python3.8/site-packages/ray/rllib/utils/metrics/learner_info.py:64: RuntimeWarning: Mean of empty slice\n",
      "  lambda *s: None if s[0] is None else np.nanmean(s, axis=0),\n",
      "/home/allenwu/anaconda3/envs/marllib/lib/python3.8/site-packages/ray/rllib/utils/metrics/learner_info.py:64: RuntimeWarning: Mean of empty slice\n",
      "  lambda *s: None if s[0] is None else np.nanmean(s, axis=0),\n",
      "/home/allenwu/anaconda3/envs/marllib/lib/python3.8/site-packages/ray/rllib/utils/metrics/learner_info.py:64: RuntimeWarning: Mean of empty slice\n",
      "  lambda *s: None if s[0] is None else np.nanmean(s, axis=0),\n",
      "/home/allenwu/anaconda3/envs/marllib/lib/python3.8/site-packages/ray/rllib/utils/metrics/learner_info.py:64: RuntimeWarning: Mean of empty slice\n",
      "  lambda *s: None if s[0] is None else np.nanmean(s, axis=0),\n",
      "/home/allenwu/anaconda3/envs/marllib/lib/python3.8/site-packages/ray/rllib/utils/metrics/learner_info.py:64: RuntimeWarning: Mean of empty slice\n",
      "  lambda *s: None if s[0] is None else np.nanmean(s, axis=0),\n"
     ]
    },
    {
     "name": "stdout",
     "output_type": "stream",
     "text": [
      "== Status ==\n",
      "Current time: 2023-09-21 01:57:54 (running for 00:14:45.89)\n",
      "Memory usage on this node: 11.7/31.2 GiB\n",
      "Using FIFO scheduling algorithm.\n",
      "Resources requested: 3.0/24 CPUs, 1.0/0 GPUs, 0.0/15.61 GiB heap, 0.0/7.8 GiB objects (0.0/1.0 accelerator_type:G)\n",
      "Result logdir: /home/allenwu/Desktop/work/MARLlib-1.0.3/exp_results/happo_gru_CityLearn_5e-07_0.0005_APPEND-DATA_seed-2\n",
      "Number of trials: 1/1 (1 RUNNING)\n",
      "\n",
      "\n"
     ]
    },
    {
     "name": "stderr",
     "output_type": "stream",
     "text": [
      "/home/allenwu/anaconda3/envs/marllib/lib/python3.8/site-packages/ray/rllib/utils/metrics/learner_info.py:64: RuntimeWarning: Mean of empty slice\n",
      "  lambda *s: None if s[0] is None else np.nanmean(s, axis=0),\n",
      "/home/allenwu/anaconda3/envs/marllib/lib/python3.8/site-packages/ray/rllib/utils/metrics/learner_info.py:64: RuntimeWarning: Mean of empty slice\n",
      "  lambda *s: None if s[0] is None else np.nanmean(s, axis=0),\n",
      "/home/allenwu/anaconda3/envs/marllib/lib/python3.8/site-packages/ray/rllib/utils/metrics/learner_info.py:64: RuntimeWarning: Mean of empty slice\n",
      "  lambda *s: None if s[0] is None else np.nanmean(s, axis=0),\n",
      "/home/allenwu/anaconda3/envs/marllib/lib/python3.8/site-packages/ray/rllib/utils/metrics/learner_info.py:64: RuntimeWarning: Mean of empty slice\n",
      "  lambda *s: None if s[0] is None else np.nanmean(s, axis=0),\n",
      "/home/allenwu/anaconda3/envs/marllib/lib/python3.8/site-packages/ray/rllib/utils/metrics/learner_info.py:64: RuntimeWarning: Mean of empty slice\n",
      "  lambda *s: None if s[0] is None else np.nanmean(s, axis=0),\n",
      "/home/allenwu/anaconda3/envs/marllib/lib/python3.8/site-packages/ray/rllib/utils/metrics/learner_info.py:64: RuntimeWarning: Mean of empty slice\n",
      "  lambda *s: None if s[0] is None else np.nanmean(s, axis=0),\n",
      "/home/allenwu/anaconda3/envs/marllib/lib/python3.8/site-packages/ray/rllib/utils/metrics/learner_info.py:64: RuntimeWarning: Mean of empty slice\n",
      "  lambda *s: None if s[0] is None else np.nanmean(s, axis=0),\n",
      "/home/allenwu/anaconda3/envs/marllib/lib/python3.8/site-packages/ray/rllib/utils/metrics/learner_info.py:64: RuntimeWarning: Mean of empty slice\n",
      "  lambda *s: None if s[0] is None else np.nanmean(s, axis=0),\n",
      "/home/allenwu/anaconda3/envs/marllib/lib/python3.8/site-packages/ray/rllib/utils/metrics/learner_info.py:64: RuntimeWarning: Mean of empty slice\n",
      "  lambda *s: None if s[0] is None else np.nanmean(s, axis=0),\n"
     ]
    },
    {
     "name": "stdout",
     "output_type": "stream",
     "text": [
      "== Status ==\n",
      "Current time: 2023-09-21 01:57:59 (running for 00:14:51.16)\n",
      "Memory usage on this node: 11.7/31.2 GiB\n",
      "Using FIFO scheduling algorithm.\n",
      "Resources requested: 3.0/24 CPUs, 1.0/0 GPUs, 0.0/15.61 GiB heap, 0.0/7.8 GiB objects (0.0/1.0 accelerator_type:G)\n",
      "Result logdir: /home/allenwu/Desktop/work/MARLlib-1.0.3/exp_results/happo_gru_CityLearn_5e-07_0.0005_APPEND-DATA_seed-2\n",
      "Number of trials: 1/1 (1 RUNNING)\n",
      "\n",
      "\n"
     ]
    },
    {
     "name": "stderr",
     "output_type": "stream",
     "text": [
      "/home/allenwu/anaconda3/envs/marllib/lib/python3.8/site-packages/ray/rllib/utils/metrics/learner_info.py:64: RuntimeWarning: Mean of empty slice\n",
      "  lambda *s: None if s[0] is None else np.nanmean(s, axis=0),\n",
      "/home/allenwu/anaconda3/envs/marllib/lib/python3.8/site-packages/ray/rllib/utils/metrics/learner_info.py:64: RuntimeWarning: Mean of empty slice\n",
      "  lambda *s: None if s[0] is None else np.nanmean(s, axis=0),\n",
      "/home/allenwu/anaconda3/envs/marllib/lib/python3.8/site-packages/ray/rllib/utils/metrics/learner_info.py:64: RuntimeWarning: Mean of empty slice\n",
      "  lambda *s: None if s[0] is None else np.nanmean(s, axis=0),\n",
      "/home/allenwu/anaconda3/envs/marllib/lib/python3.8/site-packages/ray/rllib/utils/metrics/learner_info.py:64: RuntimeWarning: Mean of empty slice\n",
      "  lambda *s: None if s[0] is None else np.nanmean(s, axis=0),\n",
      "/home/allenwu/anaconda3/envs/marllib/lib/python3.8/site-packages/ray/rllib/utils/metrics/learner_info.py:64: RuntimeWarning: Mean of empty slice\n",
      "  lambda *s: None if s[0] is None else np.nanmean(s, axis=0),\n",
      "/home/allenwu/anaconda3/envs/marllib/lib/python3.8/site-packages/ray/rllib/utils/metrics/learner_info.py:64: RuntimeWarning: Mean of empty slice\n",
      "  lambda *s: None if s[0] is None else np.nanmean(s, axis=0),\n"
     ]
    },
    {
     "name": "stdout",
     "output_type": "stream",
     "text": [
      "== Status ==\n",
      "Current time: 2023-09-21 01:58:05 (running for 00:14:56.34)\n",
      "Memory usage on this node: 11.7/31.2 GiB\n",
      "Using FIFO scheduling algorithm.\n",
      "Resources requested: 3.0/24 CPUs, 1.0/0 GPUs, 0.0/15.61 GiB heap, 0.0/7.8 GiB objects (0.0/1.0 accelerator_type:G)\n",
      "Result logdir: /home/allenwu/Desktop/work/MARLlib-1.0.3/exp_results/happo_gru_CityLearn_5e-07_0.0005_APPEND-DATA_seed-2\n",
      "Number of trials: 1/1 (1 RUNNING)\n",
      "\n",
      "\n"
     ]
    },
    {
     "name": "stderr",
     "output_type": "stream",
     "text": [
      "/home/allenwu/anaconda3/envs/marllib/lib/python3.8/site-packages/ray/rllib/utils/metrics/learner_info.py:64: RuntimeWarning: Mean of empty slice\n",
      "  lambda *s: None if s[0] is None else np.nanmean(s, axis=0),\n",
      "/home/allenwu/anaconda3/envs/marllib/lib/python3.8/site-packages/ray/rllib/utils/metrics/learner_info.py:64: RuntimeWarning: Mean of empty slice\n",
      "  lambda *s: None if s[0] is None else np.nanmean(s, axis=0),\n",
      "/home/allenwu/anaconda3/envs/marllib/lib/python3.8/site-packages/ray/rllib/utils/metrics/learner_info.py:64: RuntimeWarning: Mean of empty slice\n",
      "  lambda *s: None if s[0] is None else np.nanmean(s, axis=0),\n",
      "/home/allenwu/anaconda3/envs/marllib/lib/python3.8/site-packages/ray/rllib/utils/metrics/learner_info.py:64: RuntimeWarning: Mean of empty slice\n",
      "  lambda *s: None if s[0] is None else np.nanmean(s, axis=0),\n",
      "/home/allenwu/anaconda3/envs/marllib/lib/python3.8/site-packages/ray/rllib/utils/metrics/learner_info.py:64: RuntimeWarning: Mean of empty slice\n",
      "  lambda *s: None if s[0] is None else np.nanmean(s, axis=0),\n",
      "/home/allenwu/anaconda3/envs/marllib/lib/python3.8/site-packages/ray/rllib/utils/metrics/learner_info.py:64: RuntimeWarning: Mean of empty slice\n",
      "  lambda *s: None if s[0] is None else np.nanmean(s, axis=0),\n"
     ]
    },
    {
     "name": "stdout",
     "output_type": "stream",
     "text": [
      "== Status ==\n",
      "Current time: 2023-09-21 01:58:10 (running for 00:15:01.42)\n",
      "Memory usage on this node: 11.8/31.2 GiB\n",
      "Using FIFO scheduling algorithm.\n",
      "Resources requested: 3.0/24 CPUs, 1.0/0 GPUs, 0.0/15.61 GiB heap, 0.0/7.8 GiB objects (0.0/1.0 accelerator_type:G)\n",
      "Result logdir: /home/allenwu/Desktop/work/MARLlib-1.0.3/exp_results/happo_gru_CityLearn_5e-07_0.0005_APPEND-DATA_seed-2\n",
      "Number of trials: 1/1 (1 RUNNING)\n",
      "\n",
      "\n"
     ]
    },
    {
     "name": "stderr",
     "output_type": "stream",
     "text": [
      "/home/allenwu/anaconda3/envs/marllib/lib/python3.8/site-packages/ray/rllib/utils/metrics/learner_info.py:64: RuntimeWarning: Mean of empty slice\n",
      "  lambda *s: None if s[0] is None else np.nanmean(s, axis=0),\n",
      "/home/allenwu/anaconda3/envs/marllib/lib/python3.8/site-packages/ray/rllib/utils/metrics/learner_info.py:64: RuntimeWarning: Mean of empty slice\n",
      "  lambda *s: None if s[0] is None else np.nanmean(s, axis=0),\n",
      "/home/allenwu/anaconda3/envs/marllib/lib/python3.8/site-packages/ray/rllib/utils/metrics/learner_info.py:64: RuntimeWarning: Mean of empty slice\n",
      "  lambda *s: None if s[0] is None else np.nanmean(s, axis=0),\n",
      "/home/allenwu/anaconda3/envs/marllib/lib/python3.8/site-packages/ray/rllib/utils/metrics/learner_info.py:64: RuntimeWarning: Mean of empty slice\n",
      "  lambda *s: None if s[0] is None else np.nanmean(s, axis=0),\n",
      "/home/allenwu/anaconda3/envs/marllib/lib/python3.8/site-packages/ray/rllib/utils/metrics/learner_info.py:64: RuntimeWarning: Mean of empty slice\n",
      "  lambda *s: None if s[0] is None else np.nanmean(s, axis=0),\n",
      "2023-09-21 01:58:12,739\tWARNING ray_trial_executor.py:768 -- Over the last 60 seconds, the Tune event loop has been backlogged processing new results. Consider increasing your period of result reporting to improve performance.\n",
      "/home/allenwu/anaconda3/envs/marllib/lib/python3.8/site-packages/ray/rllib/utils/metrics/learner_info.py:64: RuntimeWarning: Mean of empty slice\n",
      "  lambda *s: None if s[0] is None else np.nanmean(s, axis=0),\n",
      "/home/allenwu/anaconda3/envs/marllib/lib/python3.8/site-packages/ray/rllib/utils/metrics/learner_info.py:64: RuntimeWarning: Mean of empty slice\n",
      "  lambda *s: None if s[0] is None else np.nanmean(s, axis=0),\n",
      "/home/allenwu/anaconda3/envs/marllib/lib/python3.8/site-packages/ray/rllib/utils/metrics/learner_info.py:64: RuntimeWarning: Mean of empty slice\n",
      "  lambda *s: None if s[0] is None else np.nanmean(s, axis=0),\n"
     ]
    },
    {
     "name": "stdout",
     "output_type": "stream",
     "text": [
      "== Status ==\n",
      "Current time: 2023-09-21 01:58:15 (running for 00:15:06.52)\n",
      "Memory usage on this node: 11.8/31.2 GiB\n",
      "Using FIFO scheduling algorithm.\n",
      "Resources requested: 3.0/24 CPUs, 1.0/0 GPUs, 0.0/15.61 GiB heap, 0.0/7.8 GiB objects (0.0/1.0 accelerator_type:G)\n",
      "Result logdir: /home/allenwu/Desktop/work/MARLlib-1.0.3/exp_results/happo_gru_CityLearn_5e-07_0.0005_APPEND-DATA_seed-2\n",
      "Number of trials: 1/1 (1 RUNNING)\n",
      "\n",
      "\n"
     ]
    },
    {
     "name": "stderr",
     "output_type": "stream",
     "text": [
      "/home/allenwu/anaconda3/envs/marllib/lib/python3.8/site-packages/ray/rllib/utils/metrics/learner_info.py:64: RuntimeWarning: Mean of empty slice\n",
      "  lambda *s: None if s[0] is None else np.nanmean(s, axis=0),\n",
      "/home/allenwu/anaconda3/envs/marllib/lib/python3.8/site-packages/ray/rllib/utils/metrics/learner_info.py:64: RuntimeWarning: Mean of empty slice\n",
      "  lambda *s: None if s[0] is None else np.nanmean(s, axis=0),\n",
      "/home/allenwu/anaconda3/envs/marllib/lib/python3.8/site-packages/ray/rllib/utils/metrics/learner_info.py:64: RuntimeWarning: Mean of empty slice\n",
      "  lambda *s: None if s[0] is None else np.nanmean(s, axis=0),\n",
      "/home/allenwu/anaconda3/envs/marllib/lib/python3.8/site-packages/ray/rllib/utils/metrics/learner_info.py:64: RuntimeWarning: Mean of empty slice\n",
      "  lambda *s: None if s[0] is None else np.nanmean(s, axis=0),\n",
      "/home/allenwu/anaconda3/envs/marllib/lib/python3.8/site-packages/ray/rllib/utils/metrics/learner_info.py:64: RuntimeWarning: Mean of empty slice\n",
      "  lambda *s: None if s[0] is None else np.nanmean(s, axis=0),\n"
     ]
    },
    {
     "name": "stdout",
     "output_type": "stream",
     "text": [
      "== Status ==\n",
      "Current time: 2023-09-21 01:58:20 (running for 00:15:11.62)\n",
      "Memory usage on this node: 11.8/31.2 GiB\n",
      "Using FIFO scheduling algorithm.\n",
      "Resources requested: 3.0/24 CPUs, 1.0/0 GPUs, 0.0/15.61 GiB heap, 0.0/7.8 GiB objects (0.0/1.0 accelerator_type:G)\n",
      "Result logdir: /home/allenwu/Desktop/work/MARLlib-1.0.3/exp_results/happo_gru_CityLearn_5e-07_0.0005_APPEND-DATA_seed-2\n",
      "Number of trials: 1/1 (1 RUNNING)\n",
      "\n",
      "\n"
     ]
    },
    {
     "name": "stderr",
     "output_type": "stream",
     "text": [
      "/home/allenwu/anaconda3/envs/marllib/lib/python3.8/site-packages/ray/rllib/utils/metrics/learner_info.py:64: RuntimeWarning: Mean of empty slice\n",
      "  lambda *s: None if s[0] is None else np.nanmean(s, axis=0),\n",
      "/home/allenwu/anaconda3/envs/marllib/lib/python3.8/site-packages/ray/rllib/utils/metrics/learner_info.py:64: RuntimeWarning: Mean of empty slice\n",
      "  lambda *s: None if s[0] is None else np.nanmean(s, axis=0),\n",
      "/home/allenwu/anaconda3/envs/marllib/lib/python3.8/site-packages/ray/rllib/utils/metrics/learner_info.py:64: RuntimeWarning: Mean of empty slice\n",
      "  lambda *s: None if s[0] is None else np.nanmean(s, axis=0),\n",
      "/home/allenwu/anaconda3/envs/marllib/lib/python3.8/site-packages/ray/rllib/utils/metrics/learner_info.py:64: RuntimeWarning: Mean of empty slice\n",
      "  lambda *s: None if s[0] is None else np.nanmean(s, axis=0),\n",
      "/home/allenwu/anaconda3/envs/marllib/lib/python3.8/site-packages/ray/rllib/utils/metrics/learner_info.py:64: RuntimeWarning: Mean of empty slice\n",
      "  lambda *s: None if s[0] is None else np.nanmean(s, axis=0),\n",
      "/home/allenwu/anaconda3/envs/marllib/lib/python3.8/site-packages/ray/rllib/utils/metrics/learner_info.py:64: RuntimeWarning: Mean of empty slice\n",
      "  lambda *s: None if s[0] is None else np.nanmean(s, axis=0),\n",
      "/home/allenwu/anaconda3/envs/marllib/lib/python3.8/site-packages/ray/rllib/utils/metrics/learner_info.py:64: RuntimeWarning: Mean of empty slice\n",
      "  lambda *s: None if s[0] is None else np.nanmean(s, axis=0),\n"
     ]
    },
    {
     "name": "stdout",
     "output_type": "stream",
     "text": [
      "== Status ==\n",
      "Current time: 2023-09-21 01:58:25 (running for 00:15:16.69)\n",
      "Memory usage on this node: 11.8/31.2 GiB\n",
      "Using FIFO scheduling algorithm.\n",
      "Resources requested: 3.0/24 CPUs, 1.0/0 GPUs, 0.0/15.61 GiB heap, 0.0/7.8 GiB objects (0.0/1.0 accelerator_type:G)\n",
      "Result logdir: /home/allenwu/Desktop/work/MARLlib-1.0.3/exp_results/happo_gru_CityLearn_5e-07_0.0005_APPEND-DATA_seed-2\n",
      "Number of trials: 1/1 (1 RUNNING)\n",
      "\n",
      "\n"
     ]
    },
    {
     "name": "stderr",
     "output_type": "stream",
     "text": [
      "/home/allenwu/anaconda3/envs/marllib/lib/python3.8/site-packages/ray/rllib/utils/metrics/learner_info.py:64: RuntimeWarning: Mean of empty slice\n",
      "  lambda *s: None if s[0] is None else np.nanmean(s, axis=0),\n",
      "/home/allenwu/anaconda3/envs/marllib/lib/python3.8/site-packages/ray/rllib/utils/metrics/learner_info.py:64: RuntimeWarning: Mean of empty slice\n",
      "  lambda *s: None if s[0] is None else np.nanmean(s, axis=0),\n",
      "/home/allenwu/anaconda3/envs/marllib/lib/python3.8/site-packages/ray/rllib/utils/metrics/learner_info.py:64: RuntimeWarning: Mean of empty slice\n",
      "  lambda *s: None if s[0] is None else np.nanmean(s, axis=0),\n",
      "/home/allenwu/anaconda3/envs/marllib/lib/python3.8/site-packages/ray/rllib/utils/metrics/learner_info.py:64: RuntimeWarning: Mean of empty slice\n",
      "  lambda *s: None if s[0] is None else np.nanmean(s, axis=0),\n",
      "/home/allenwu/anaconda3/envs/marllib/lib/python3.8/site-packages/ray/rllib/utils/metrics/learner_info.py:64: RuntimeWarning: Mean of empty slice\n",
      "  lambda *s: None if s[0] is None else np.nanmean(s, axis=0),\n",
      "/home/allenwu/anaconda3/envs/marllib/lib/python3.8/site-packages/ray/rllib/utils/metrics/learner_info.py:64: RuntimeWarning: Mean of empty slice\n",
      "  lambda *s: None if s[0] is None else np.nanmean(s, axis=0),\n",
      "/home/allenwu/anaconda3/envs/marllib/lib/python3.8/site-packages/ray/rllib/utils/metrics/learner_info.py:64: RuntimeWarning: Mean of empty slice\n",
      "  lambda *s: None if s[0] is None else np.nanmean(s, axis=0),\n",
      "/home/allenwu/anaconda3/envs/marllib/lib/python3.8/site-packages/ray/rllib/utils/metrics/learner_info.py:64: RuntimeWarning: Mean of empty slice\n",
      "  lambda *s: None if s[0] is None else np.nanmean(s, axis=0),\n",
      "/home/allenwu/anaconda3/envs/marllib/lib/python3.8/site-packages/ray/rllib/utils/metrics/learner_info.py:64: RuntimeWarning: Mean of empty slice\n",
      "  lambda *s: None if s[0] is None else np.nanmean(s, axis=0),\n"
     ]
    },
    {
     "name": "stdout",
     "output_type": "stream",
     "text": [
      "== Status ==\n",
      "Current time: 2023-09-21 01:58:30 (running for 00:15:21.77)\n",
      "Memory usage on this node: 11.9/31.2 GiB\n",
      "Using FIFO scheduling algorithm.\n",
      "Resources requested: 3.0/24 CPUs, 1.0/0 GPUs, 0.0/15.61 GiB heap, 0.0/7.8 GiB objects (0.0/1.0 accelerator_type:G)\n",
      "Result logdir: /home/allenwu/Desktop/work/MARLlib-1.0.3/exp_results/happo_gru_CityLearn_5e-07_0.0005_APPEND-DATA_seed-2\n",
      "Number of trials: 1/1 (1 RUNNING)\n",
      "\n",
      "\n"
     ]
    },
    {
     "name": "stderr",
     "output_type": "stream",
     "text": [
      "/home/allenwu/anaconda3/envs/marllib/lib/python3.8/site-packages/ray/rllib/utils/metrics/learner_info.py:64: RuntimeWarning: Mean of empty slice\n",
      "  lambda *s: None if s[0] is None else np.nanmean(s, axis=0),\n",
      "/home/allenwu/anaconda3/envs/marllib/lib/python3.8/site-packages/ray/rllib/utils/metrics/learner_info.py:64: RuntimeWarning: Mean of empty slice\n",
      "  lambda *s: None if s[0] is None else np.nanmean(s, axis=0),\n",
      "/home/allenwu/anaconda3/envs/marllib/lib/python3.8/site-packages/ray/rllib/utils/metrics/learner_info.py:64: RuntimeWarning: Mean of empty slice\n",
      "  lambda *s: None if s[0] is None else np.nanmean(s, axis=0),\n",
      "/home/allenwu/anaconda3/envs/marllib/lib/python3.8/site-packages/ray/rllib/utils/metrics/learner_info.py:64: RuntimeWarning: Mean of empty slice\n",
      "  lambda *s: None if s[0] is None else np.nanmean(s, axis=0),\n"
     ]
    },
    {
     "name": "stdout",
     "output_type": "stream",
     "text": [
      "== Status ==\n",
      "Current time: 2023-09-21 01:58:35 (running for 00:15:26.86)\n",
      "Memory usage on this node: 11.9/31.2 GiB\n",
      "Using FIFO scheduling algorithm.\n",
      "Resources requested: 3.0/24 CPUs, 1.0/0 GPUs, 0.0/15.61 GiB heap, 0.0/7.8 GiB objects (0.0/1.0 accelerator_type:G)\n",
      "Result logdir: /home/allenwu/Desktop/work/MARLlib-1.0.3/exp_results/happo_gru_CityLearn_5e-07_0.0005_APPEND-DATA_seed-2\n",
      "Number of trials: 1/1 (1 RUNNING)\n",
      "\n",
      "\n"
     ]
    },
    {
     "name": "stderr",
     "output_type": "stream",
     "text": [
      "/home/allenwu/anaconda3/envs/marllib/lib/python3.8/site-packages/ray/rllib/utils/metrics/learner_info.py:64: RuntimeWarning: Mean of empty slice\n",
      "  lambda *s: None if s[0] is None else np.nanmean(s, axis=0),\n",
      "/home/allenwu/anaconda3/envs/marllib/lib/python3.8/site-packages/ray/rllib/utils/metrics/learner_info.py:64: RuntimeWarning: Mean of empty slice\n",
      "  lambda *s: None if s[0] is None else np.nanmean(s, axis=0),\n",
      "/home/allenwu/anaconda3/envs/marllib/lib/python3.8/site-packages/ray/rllib/utils/metrics/learner_info.py:64: RuntimeWarning: Mean of empty slice\n",
      "  lambda *s: None if s[0] is None else np.nanmean(s, axis=0),\n",
      "/home/allenwu/anaconda3/envs/marllib/lib/python3.8/site-packages/ray/rllib/utils/metrics/learner_info.py:64: RuntimeWarning: Mean of empty slice\n",
      "  lambda *s: None if s[0] is None else np.nanmean(s, axis=0),\n",
      "/home/allenwu/anaconda3/envs/marllib/lib/python3.8/site-packages/ray/rllib/utils/metrics/learner_info.py:64: RuntimeWarning: Mean of empty slice\n",
      "  lambda *s: None if s[0] is None else np.nanmean(s, axis=0),\n"
     ]
    },
    {
     "name": "stdout",
     "output_type": "stream",
     "text": [
      "== Status ==\n",
      "Current time: 2023-09-21 01:58:40 (running for 00:15:31.98)\n",
      "Memory usage on this node: 11.9/31.2 GiB\n",
      "Using FIFO scheduling algorithm.\n",
      "Resources requested: 3.0/24 CPUs, 1.0/0 GPUs, 0.0/15.61 GiB heap, 0.0/7.8 GiB objects (0.0/1.0 accelerator_type:G)\n",
      "Result logdir: /home/allenwu/Desktop/work/MARLlib-1.0.3/exp_results/happo_gru_CityLearn_5e-07_0.0005_APPEND-DATA_seed-2\n",
      "Number of trials: 1/1 (1 RUNNING)\n",
      "\n",
      "\n"
     ]
    },
    {
     "name": "stderr",
     "output_type": "stream",
     "text": [
      "/home/allenwu/anaconda3/envs/marllib/lib/python3.8/site-packages/ray/rllib/utils/metrics/learner_info.py:64: RuntimeWarning: Mean of empty slice\n",
      "  lambda *s: None if s[0] is None else np.nanmean(s, axis=0),\n",
      "/home/allenwu/anaconda3/envs/marllib/lib/python3.8/site-packages/ray/rllib/utils/metrics/learner_info.py:64: RuntimeWarning: Mean of empty slice\n",
      "  lambda *s: None if s[0] is None else np.nanmean(s, axis=0),\n",
      "/home/allenwu/anaconda3/envs/marllib/lib/python3.8/site-packages/ray/rllib/utils/metrics/learner_info.py:64: RuntimeWarning: Mean of empty slice\n",
      "  lambda *s: None if s[0] is None else np.nanmean(s, axis=0),\n",
      "/home/allenwu/anaconda3/envs/marllib/lib/python3.8/site-packages/ray/rllib/utils/metrics/learner_info.py:64: RuntimeWarning: Mean of empty slice\n",
      "  lambda *s: None if s[0] is None else np.nanmean(s, axis=0),\n",
      "/home/allenwu/anaconda3/envs/marllib/lib/python3.8/site-packages/ray/rllib/utils/metrics/learner_info.py:64: RuntimeWarning: Mean of empty slice\n",
      "  lambda *s: None if s[0] is None else np.nanmean(s, axis=0),\n",
      "/home/allenwu/anaconda3/envs/marllib/lib/python3.8/site-packages/ray/rllib/utils/metrics/learner_info.py:64: RuntimeWarning: Mean of empty slice\n",
      "  lambda *s: None if s[0] is None else np.nanmean(s, axis=0),\n"
     ]
    },
    {
     "name": "stdout",
     "output_type": "stream",
     "text": [
      "== Status ==\n",
      "Current time: 2023-09-21 01:58:45 (running for 00:15:37.06)\n",
      "Memory usage on this node: 12.0/31.2 GiB\n",
      "Using FIFO scheduling algorithm.\n",
      "Resources requested: 3.0/24 CPUs, 1.0/0 GPUs, 0.0/15.61 GiB heap, 0.0/7.8 GiB objects (0.0/1.0 accelerator_type:G)\n",
      "Result logdir: /home/allenwu/Desktop/work/MARLlib-1.0.3/exp_results/happo_gru_CityLearn_5e-07_0.0005_APPEND-DATA_seed-2\n",
      "Number of trials: 1/1 (1 RUNNING)\n",
      "\n",
      "\n"
     ]
    },
    {
     "name": "stderr",
     "output_type": "stream",
     "text": [
      "/home/allenwu/anaconda3/envs/marllib/lib/python3.8/site-packages/ray/rllib/utils/metrics/learner_info.py:64: RuntimeWarning: Mean of empty slice\n",
      "  lambda *s: None if s[0] is None else np.nanmean(s, axis=0),\n",
      "/home/allenwu/anaconda3/envs/marllib/lib/python3.8/site-packages/ray/rllib/utils/metrics/learner_info.py:64: RuntimeWarning: Mean of empty slice\n",
      "  lambda *s: None if s[0] is None else np.nanmean(s, axis=0),\n",
      "/home/allenwu/anaconda3/envs/marllib/lib/python3.8/site-packages/ray/rllib/utils/metrics/learner_info.py:64: RuntimeWarning: Mean of empty slice\n",
      "  lambda *s: None if s[0] is None else np.nanmean(s, axis=0),\n",
      "/home/allenwu/anaconda3/envs/marllib/lib/python3.8/site-packages/ray/rllib/utils/metrics/learner_info.py:64: RuntimeWarning: Mean of empty slice\n",
      "  lambda *s: None if s[0] is None else np.nanmean(s, axis=0),\n",
      "/home/allenwu/anaconda3/envs/marllib/lib/python3.8/site-packages/ray/rllib/utils/metrics/learner_info.py:64: RuntimeWarning: Mean of empty slice\n",
      "  lambda *s: None if s[0] is None else np.nanmean(s, axis=0),\n",
      "/home/allenwu/anaconda3/envs/marllib/lib/python3.8/site-packages/ray/rllib/utils/metrics/learner_info.py:64: RuntimeWarning: Mean of empty slice\n",
      "  lambda *s: None if s[0] is None else np.nanmean(s, axis=0),\n",
      "/home/allenwu/anaconda3/envs/marllib/lib/python3.8/site-packages/ray/rllib/utils/metrics/learner_info.py:64: RuntimeWarning: Mean of empty slice\n",
      "  lambda *s: None if s[0] is None else np.nanmean(s, axis=0),\n"
     ]
    },
    {
     "name": "stdout",
     "output_type": "stream",
     "text": [
      "== Status ==\n",
      "Current time: 2023-09-21 01:58:50 (running for 00:15:42.14)\n",
      "Memory usage on this node: 12.0/31.2 GiB\n",
      "Using FIFO scheduling algorithm.\n",
      "Resources requested: 3.0/24 CPUs, 1.0/0 GPUs, 0.0/15.61 GiB heap, 0.0/7.8 GiB objects (0.0/1.0 accelerator_type:G)\n",
      "Result logdir: /home/allenwu/Desktop/work/MARLlib-1.0.3/exp_results/happo_gru_CityLearn_5e-07_0.0005_APPEND-DATA_seed-2\n",
      "Number of trials: 1/1 (1 RUNNING)\n",
      "\n",
      "\n"
     ]
    },
    {
     "name": "stderr",
     "output_type": "stream",
     "text": [
      "/home/allenwu/anaconda3/envs/marllib/lib/python3.8/site-packages/ray/rllib/utils/metrics/learner_info.py:64: RuntimeWarning: Mean of empty slice\n",
      "  lambda *s: None if s[0] is None else np.nanmean(s, axis=0),\n",
      "/home/allenwu/anaconda3/envs/marllib/lib/python3.8/site-packages/ray/rllib/utils/metrics/learner_info.py:64: RuntimeWarning: Mean of empty slice\n",
      "  lambda *s: None if s[0] is None else np.nanmean(s, axis=0),\n",
      "/home/allenwu/anaconda3/envs/marllib/lib/python3.8/site-packages/ray/rllib/utils/metrics/learner_info.py:64: RuntimeWarning: Mean of empty slice\n",
      "  lambda *s: None if s[0] is None else np.nanmean(s, axis=0),\n",
      "/home/allenwu/anaconda3/envs/marllib/lib/python3.8/site-packages/ray/rllib/utils/metrics/learner_info.py:64: RuntimeWarning: Mean of empty slice\n",
      "  lambda *s: None if s[0] is None else np.nanmean(s, axis=0),\n",
      "/home/allenwu/anaconda3/envs/marllib/lib/python3.8/site-packages/ray/rllib/utils/metrics/learner_info.py:64: RuntimeWarning: Mean of empty slice\n",
      "  lambda *s: None if s[0] is None else np.nanmean(s, axis=0),\n",
      "/home/allenwu/anaconda3/envs/marllib/lib/python3.8/site-packages/ray/rllib/utils/metrics/learner_info.py:64: RuntimeWarning: Mean of empty slice\n",
      "  lambda *s: None if s[0] is None else np.nanmean(s, axis=0),\n",
      "/home/allenwu/anaconda3/envs/marllib/lib/python3.8/site-packages/ray/rllib/utils/metrics/learner_info.py:64: RuntimeWarning: Mean of empty slice\n",
      "  lambda *s: None if s[0] is None else np.nanmean(s, axis=0),\n"
     ]
    },
    {
     "name": "stdout",
     "output_type": "stream",
     "text": [
      "== Status ==\n",
      "Current time: 2023-09-21 01:58:55 (running for 00:15:47.22)\n",
      "Memory usage on this node: 12.0/31.2 GiB\n",
      "Using FIFO scheduling algorithm.\n",
      "Resources requested: 3.0/24 CPUs, 1.0/0 GPUs, 0.0/15.61 GiB heap, 0.0/7.8 GiB objects (0.0/1.0 accelerator_type:G)\n",
      "Result logdir: /home/allenwu/Desktop/work/MARLlib-1.0.3/exp_results/happo_gru_CityLearn_5e-07_0.0005_APPEND-DATA_seed-2\n",
      "Number of trials: 1/1 (1 RUNNING)\n",
      "\n",
      "\n"
     ]
    },
    {
     "name": "stderr",
     "output_type": "stream",
     "text": [
      "/home/allenwu/anaconda3/envs/marllib/lib/python3.8/site-packages/ray/rllib/utils/metrics/learner_info.py:64: RuntimeWarning: Mean of empty slice\n",
      "  lambda *s: None if s[0] is None else np.nanmean(s, axis=0),\n",
      "/home/allenwu/anaconda3/envs/marllib/lib/python3.8/site-packages/ray/rllib/utils/metrics/learner_info.py:64: RuntimeWarning: Mean of empty slice\n",
      "  lambda *s: None if s[0] is None else np.nanmean(s, axis=0),\n",
      "/home/allenwu/anaconda3/envs/marllib/lib/python3.8/site-packages/ray/rllib/utils/metrics/learner_info.py:64: RuntimeWarning: Mean of empty slice\n",
      "  lambda *s: None if s[0] is None else np.nanmean(s, axis=0),\n",
      "/home/allenwu/anaconda3/envs/marllib/lib/python3.8/site-packages/ray/rllib/utils/metrics/learner_info.py:64: RuntimeWarning: Mean of empty slice\n",
      "  lambda *s: None if s[0] is None else np.nanmean(s, axis=0),\n",
      "/home/allenwu/anaconda3/envs/marllib/lib/python3.8/site-packages/ray/rllib/utils/metrics/learner_info.py:64: RuntimeWarning: Mean of empty slice\n",
      "  lambda *s: None if s[0] is None else np.nanmean(s, axis=0),\n",
      "/home/allenwu/anaconda3/envs/marllib/lib/python3.8/site-packages/ray/rllib/utils/metrics/learner_info.py:64: RuntimeWarning: Mean of empty slice\n",
      "  lambda *s: None if s[0] is None else np.nanmean(s, axis=0),\n",
      "/home/allenwu/anaconda3/envs/marllib/lib/python3.8/site-packages/ray/rllib/utils/metrics/learner_info.py:64: RuntimeWarning: Mean of empty slice\n",
      "  lambda *s: None if s[0] is None else np.nanmean(s, axis=0),\n",
      "/home/allenwu/anaconda3/envs/marllib/lib/python3.8/site-packages/ray/rllib/utils/metrics/learner_info.py:64: RuntimeWarning: Mean of empty slice\n",
      "  lambda *s: None if s[0] is None else np.nanmean(s, axis=0),\n",
      "/home/allenwu/anaconda3/envs/marllib/lib/python3.8/site-packages/ray/rllib/utils/metrics/learner_info.py:64: RuntimeWarning: Mean of empty slice\n",
      "  lambda *s: None if s[0] is None else np.nanmean(s, axis=0),\n",
      "/home/allenwu/anaconda3/envs/marllib/lib/python3.8/site-packages/ray/rllib/utils/metrics/learner_info.py:64: RuntimeWarning: Mean of empty slice\n",
      "  lambda *s: None if s[0] is None else np.nanmean(s, axis=0),\n"
     ]
    },
    {
     "name": "stdout",
     "output_type": "stream",
     "text": [
      "== Status ==\n",
      "Current time: 2023-09-21 01:59:01 (running for 00:15:52.32)\n",
      "Memory usage on this node: 12.1/31.2 GiB\n",
      "Using FIFO scheduling algorithm.\n",
      "Resources requested: 3.0/24 CPUs, 1.0/0 GPUs, 0.0/15.61 GiB heap, 0.0/7.8 GiB objects (0.0/1.0 accelerator_type:G)\n",
      "Result logdir: /home/allenwu/Desktop/work/MARLlib-1.0.3/exp_results/happo_gru_CityLearn_5e-07_0.0005_APPEND-DATA_seed-2\n",
      "Number of trials: 1/1 (1 RUNNING)\n",
      "\n",
      "\n"
     ]
    },
    {
     "name": "stderr",
     "output_type": "stream",
     "text": [
      "/home/allenwu/anaconda3/envs/marllib/lib/python3.8/site-packages/ray/rllib/utils/metrics/learner_info.py:64: RuntimeWarning: Mean of empty slice\n",
      "  lambda *s: None if s[0] is None else np.nanmean(s, axis=0),\n",
      "/home/allenwu/anaconda3/envs/marllib/lib/python3.8/site-packages/ray/rllib/utils/metrics/learner_info.py:64: RuntimeWarning: Mean of empty slice\n",
      "  lambda *s: None if s[0] is None else np.nanmean(s, axis=0),\n",
      "/home/allenwu/anaconda3/envs/marllib/lib/python3.8/site-packages/ray/rllib/utils/metrics/learner_info.py:64: RuntimeWarning: Mean of empty slice\n",
      "  lambda *s: None if s[0] is None else np.nanmean(s, axis=0),\n",
      "/home/allenwu/anaconda3/envs/marllib/lib/python3.8/site-packages/ray/rllib/utils/metrics/learner_info.py:64: RuntimeWarning: Mean of empty slice\n",
      "  lambda *s: None if s[0] is None else np.nanmean(s, axis=0),\n",
      "/home/allenwu/anaconda3/envs/marllib/lib/python3.8/site-packages/ray/rllib/utils/metrics/learner_info.py:64: RuntimeWarning: Mean of empty slice\n",
      "  lambda *s: None if s[0] is None else np.nanmean(s, axis=0),\n",
      "/home/allenwu/anaconda3/envs/marllib/lib/python3.8/site-packages/ray/rllib/utils/metrics/learner_info.py:64: RuntimeWarning: Mean of empty slice\n",
      "  lambda *s: None if s[0] is None else np.nanmean(s, axis=0),\n",
      "/home/allenwu/anaconda3/envs/marllib/lib/python3.8/site-packages/ray/rllib/utils/metrics/learner_info.py:64: RuntimeWarning: Mean of empty slice\n",
      "  lambda *s: None if s[0] is None else np.nanmean(s, axis=0),\n",
      "/home/allenwu/anaconda3/envs/marllib/lib/python3.8/site-packages/ray/rllib/utils/metrics/learner_info.py:64: RuntimeWarning: Mean of empty slice\n",
      "  lambda *s: None if s[0] is None else np.nanmean(s, axis=0),\n",
      "/home/allenwu/anaconda3/envs/marllib/lib/python3.8/site-packages/ray/rllib/utils/metrics/learner_info.py:64: RuntimeWarning: Mean of empty slice\n",
      "  lambda *s: None if s[0] is None else np.nanmean(s, axis=0),\n"
     ]
    },
    {
     "name": "stdout",
     "output_type": "stream",
     "text": [
      "== Status ==\n",
      "Current time: 2023-09-21 01:59:06 (running for 00:15:57.69)\n",
      "Memory usage on this node: 12.1/31.2 GiB\n",
      "Using FIFO scheduling algorithm.\n",
      "Resources requested: 3.0/24 CPUs, 1.0/0 GPUs, 0.0/15.61 GiB heap, 0.0/7.8 GiB objects (0.0/1.0 accelerator_type:G)\n",
      "Result logdir: /home/allenwu/Desktop/work/MARLlib-1.0.3/exp_results/happo_gru_CityLearn_5e-07_0.0005_APPEND-DATA_seed-2\n",
      "Number of trials: 1/1 (1 RUNNING)\n",
      "\n",
      "\n"
     ]
    },
    {
     "name": "stderr",
     "output_type": "stream",
     "text": [
      "/home/allenwu/anaconda3/envs/marllib/lib/python3.8/site-packages/ray/rllib/utils/metrics/learner_info.py:64: RuntimeWarning: Mean of empty slice\n",
      "  lambda *s: None if s[0] is None else np.nanmean(s, axis=0),\n",
      "/home/allenwu/anaconda3/envs/marllib/lib/python3.8/site-packages/ray/rllib/utils/metrics/learner_info.py:64: RuntimeWarning: Mean of empty slice\n",
      "  lambda *s: None if s[0] is None else np.nanmean(s, axis=0),\n",
      "/home/allenwu/anaconda3/envs/marllib/lib/python3.8/site-packages/ray/rllib/utils/metrics/learner_info.py:64: RuntimeWarning: Mean of empty slice\n",
      "  lambda *s: None if s[0] is None else np.nanmean(s, axis=0),\n",
      "/home/allenwu/anaconda3/envs/marllib/lib/python3.8/site-packages/ray/rllib/utils/metrics/learner_info.py:64: RuntimeWarning: Mean of empty slice\n",
      "  lambda *s: None if s[0] is None else np.nanmean(s, axis=0),\n",
      "/home/allenwu/anaconda3/envs/marllib/lib/python3.8/site-packages/ray/rllib/utils/metrics/learner_info.py:64: RuntimeWarning: Mean of empty slice\n",
      "  lambda *s: None if s[0] is None else np.nanmean(s, axis=0),\n",
      "/home/allenwu/anaconda3/envs/marllib/lib/python3.8/site-packages/ray/rllib/utils/metrics/learner_info.py:64: RuntimeWarning: Mean of empty slice\n",
      "  lambda *s: None if s[0] is None else np.nanmean(s, axis=0),\n",
      "/home/allenwu/anaconda3/envs/marllib/lib/python3.8/site-packages/ray/rllib/utils/metrics/learner_info.py:64: RuntimeWarning: Mean of empty slice\n",
      "  lambda *s: None if s[0] is None else np.nanmean(s, axis=0),\n",
      "/home/allenwu/anaconda3/envs/marllib/lib/python3.8/site-packages/ray/rllib/utils/metrics/learner_info.py:64: RuntimeWarning: Mean of empty slice\n",
      "  lambda *s: None if s[0] is None else np.nanmean(s, axis=0),\n"
     ]
    },
    {
     "name": "stdout",
     "output_type": "stream",
     "text": [
      "== Status ==\n",
      "Current time: 2023-09-21 01:59:11 (running for 00:16:03.09)\n",
      "Memory usage on this node: 12.1/31.2 GiB\n",
      "Using FIFO scheduling algorithm.\n",
      "Resources requested: 3.0/24 CPUs, 1.0/0 GPUs, 0.0/15.61 GiB heap, 0.0/7.8 GiB objects (0.0/1.0 accelerator_type:G)\n",
      "Result logdir: /home/allenwu/Desktop/work/MARLlib-1.0.3/exp_results/happo_gru_CityLearn_5e-07_0.0005_APPEND-DATA_seed-2\n",
      "Number of trials: 1/1 (1 RUNNING)\n",
      "\n",
      "\n"
     ]
    },
    {
     "name": "stderr",
     "output_type": "stream",
     "text": [
      "/home/allenwu/anaconda3/envs/marllib/lib/python3.8/site-packages/ray/rllib/utils/metrics/learner_info.py:64: RuntimeWarning: Mean of empty slice\n",
      "  lambda *s: None if s[0] is None else np.nanmean(s, axis=0),\n",
      "2023-09-21 01:59:12,753\tWARNING ray_trial_executor.py:768 -- Over the last 60 seconds, the Tune event loop has been backlogged processing new results. Consider increasing your period of result reporting to improve performance.\n",
      "/home/allenwu/anaconda3/envs/marllib/lib/python3.8/site-packages/ray/rllib/utils/metrics/learner_info.py:64: RuntimeWarning: Mean of empty slice\n",
      "  lambda *s: None if s[0] is None else np.nanmean(s, axis=0),\n",
      "/home/allenwu/anaconda3/envs/marllib/lib/python3.8/site-packages/ray/rllib/utils/metrics/learner_info.py:64: RuntimeWarning: Mean of empty slice\n",
      "  lambda *s: None if s[0] is None else np.nanmean(s, axis=0),\n",
      "/home/allenwu/anaconda3/envs/marllib/lib/python3.8/site-packages/ray/rllib/utils/metrics/learner_info.py:64: RuntimeWarning: Mean of empty slice\n",
      "  lambda *s: None if s[0] is None else np.nanmean(s, axis=0),\n",
      "/home/allenwu/anaconda3/envs/marllib/lib/python3.8/site-packages/ray/rllib/utils/metrics/learner_info.py:64: RuntimeWarning: Mean of empty slice\n",
      "  lambda *s: None if s[0] is None else np.nanmean(s, axis=0),\n",
      "/home/allenwu/anaconda3/envs/marllib/lib/python3.8/site-packages/ray/rllib/utils/metrics/learner_info.py:64: RuntimeWarning: Mean of empty slice\n",
      "  lambda *s: None if s[0] is None else np.nanmean(s, axis=0),\n"
     ]
    },
    {
     "name": "stdout",
     "output_type": "stream",
     "text": [
      "== Status ==\n",
      "Current time: 2023-09-21 01:59:17 (running for 00:16:08.46)\n",
      "Memory usage on this node: 12.1/31.2 GiB\n",
      "Using FIFO scheduling algorithm.\n",
      "Resources requested: 3.0/24 CPUs, 1.0/0 GPUs, 0.0/15.61 GiB heap, 0.0/7.8 GiB objects (0.0/1.0 accelerator_type:G)\n",
      "Result logdir: /home/allenwu/Desktop/work/MARLlib-1.0.3/exp_results/happo_gru_CityLearn_5e-07_0.0005_APPEND-DATA_seed-2\n",
      "Number of trials: 1/1 (1 RUNNING)\n",
      "\n",
      "\n"
     ]
    },
    {
     "name": "stderr",
     "output_type": "stream",
     "text": [
      "/home/allenwu/anaconda3/envs/marllib/lib/python3.8/site-packages/ray/rllib/utils/metrics/learner_info.py:64: RuntimeWarning: Mean of empty slice\n",
      "  lambda *s: None if s[0] is None else np.nanmean(s, axis=0),\n",
      "/home/allenwu/anaconda3/envs/marllib/lib/python3.8/site-packages/ray/rllib/utils/metrics/learner_info.py:64: RuntimeWarning: Mean of empty slice\n",
      "  lambda *s: None if s[0] is None else np.nanmean(s, axis=0),\n",
      "/home/allenwu/anaconda3/envs/marllib/lib/python3.8/site-packages/ray/rllib/utils/metrics/learner_info.py:64: RuntimeWarning: Mean of empty slice\n",
      "  lambda *s: None if s[0] is None else np.nanmean(s, axis=0),\n",
      "/home/allenwu/anaconda3/envs/marllib/lib/python3.8/site-packages/ray/rllib/utils/metrics/learner_info.py:64: RuntimeWarning: Mean of empty slice\n",
      "  lambda *s: None if s[0] is None else np.nanmean(s, axis=0),\n",
      "/home/allenwu/anaconda3/envs/marllib/lib/python3.8/site-packages/ray/rllib/utils/metrics/learner_info.py:64: RuntimeWarning: Mean of empty slice\n",
      "  lambda *s: None if s[0] is None else np.nanmean(s, axis=0),\n",
      "/home/allenwu/anaconda3/envs/marllib/lib/python3.8/site-packages/ray/rllib/utils/metrics/learner_info.py:64: RuntimeWarning: Mean of empty slice\n",
      "  lambda *s: None if s[0] is None else np.nanmean(s, axis=0),\n"
     ]
    },
    {
     "name": "stdout",
     "output_type": "stream",
     "text": [
      "== Status ==\n",
      "Current time: 2023-09-21 01:59:22 (running for 00:16:13.79)\n",
      "Memory usage on this node: 12.2/31.2 GiB\n",
      "Using FIFO scheduling algorithm.\n",
      "Resources requested: 3.0/24 CPUs, 1.0/0 GPUs, 0.0/15.61 GiB heap, 0.0/7.8 GiB objects (0.0/1.0 accelerator_type:G)\n",
      "Result logdir: /home/allenwu/Desktop/work/MARLlib-1.0.3/exp_results/happo_gru_CityLearn_5e-07_0.0005_APPEND-DATA_seed-2\n",
      "Number of trials: 1/1 (1 RUNNING)\n",
      "\n",
      "\n"
     ]
    },
    {
     "name": "stderr",
     "output_type": "stream",
     "text": [
      "/home/allenwu/anaconda3/envs/marllib/lib/python3.8/site-packages/ray/rllib/utils/metrics/learner_info.py:64: RuntimeWarning: Mean of empty slice\n",
      "  lambda *s: None if s[0] is None else np.nanmean(s, axis=0),\n",
      "/home/allenwu/anaconda3/envs/marllib/lib/python3.8/site-packages/ray/rllib/utils/metrics/learner_info.py:64: RuntimeWarning: Mean of empty slice\n",
      "  lambda *s: None if s[0] is None else np.nanmean(s, axis=0),\n",
      "/home/allenwu/anaconda3/envs/marllib/lib/python3.8/site-packages/ray/rllib/utils/metrics/learner_info.py:64: RuntimeWarning: Mean of empty slice\n",
      "  lambda *s: None if s[0] is None else np.nanmean(s, axis=0),\n",
      "/home/allenwu/anaconda3/envs/marllib/lib/python3.8/site-packages/ray/rllib/utils/metrics/learner_info.py:64: RuntimeWarning: Mean of empty slice\n",
      "  lambda *s: None if s[0] is None else np.nanmean(s, axis=0),\n"
     ]
    },
    {
     "name": "stdout",
     "output_type": "stream",
     "text": [
      "== Status ==\n",
      "Current time: 2023-09-21 01:59:27 (running for 00:16:19.16)\n",
      "Memory usage on this node: 12.2/31.2 GiB\n",
      "Using FIFO scheduling algorithm.\n",
      "Resources requested: 3.0/24 CPUs, 1.0/0 GPUs, 0.0/15.61 GiB heap, 0.0/7.8 GiB objects (0.0/1.0 accelerator_type:G)\n",
      "Result logdir: /home/allenwu/Desktop/work/MARLlib-1.0.3/exp_results/happo_gru_CityLearn_5e-07_0.0005_APPEND-DATA_seed-2\n",
      "Number of trials: 1/1 (1 RUNNING)\n",
      "\n",
      "\n"
     ]
    },
    {
     "name": "stderr",
     "output_type": "stream",
     "text": [
      "/home/allenwu/anaconda3/envs/marllib/lib/python3.8/site-packages/ray/rllib/utils/metrics/learner_info.py:64: RuntimeWarning: Mean of empty slice\n",
      "  lambda *s: None if s[0] is None else np.nanmean(s, axis=0),\n",
      "/home/allenwu/anaconda3/envs/marllib/lib/python3.8/site-packages/ray/rllib/utils/metrics/learner_info.py:64: RuntimeWarning: Mean of empty slice\n",
      "  lambda *s: None if s[0] is None else np.nanmean(s, axis=0),\n",
      "/home/allenwu/anaconda3/envs/marllib/lib/python3.8/site-packages/ray/rllib/utils/metrics/learner_info.py:64: RuntimeWarning: Mean of empty slice\n",
      "  lambda *s: None if s[0] is None else np.nanmean(s, axis=0),\n",
      "/home/allenwu/anaconda3/envs/marllib/lib/python3.8/site-packages/ray/rllib/utils/metrics/learner_info.py:64: RuntimeWarning: Mean of empty slice\n",
      "  lambda *s: None if s[0] is None else np.nanmean(s, axis=0),\n",
      "/home/allenwu/anaconda3/envs/marllib/lib/python3.8/site-packages/ray/rllib/utils/metrics/learner_info.py:64: RuntimeWarning: Mean of empty slice\n",
      "  lambda *s: None if s[0] is None else np.nanmean(s, axis=0),\n",
      "/home/allenwu/anaconda3/envs/marllib/lib/python3.8/site-packages/ray/rllib/utils/metrics/learner_info.py:64: RuntimeWarning: Mean of empty slice\n",
      "  lambda *s: None if s[0] is None else np.nanmean(s, axis=0),\n",
      "/home/allenwu/anaconda3/envs/marllib/lib/python3.8/site-packages/ray/rllib/utils/metrics/learner_info.py:64: RuntimeWarning: Mean of empty slice\n",
      "  lambda *s: None if s[0] is None else np.nanmean(s, axis=0),\n",
      "/home/allenwu/anaconda3/envs/marllib/lib/python3.8/site-packages/ray/rllib/utils/metrics/learner_info.py:64: RuntimeWarning: Mean of empty slice\n",
      "  lambda *s: None if s[0] is None else np.nanmean(s, axis=0),\n",
      "/home/allenwu/anaconda3/envs/marllib/lib/python3.8/site-packages/ray/rllib/utils/metrics/learner_info.py:64: RuntimeWarning: Mean of empty slice\n",
      "  lambda *s: None if s[0] is None else np.nanmean(s, axis=0),\n"
     ]
    },
    {
     "name": "stdout",
     "output_type": "stream",
     "text": [
      "== Status ==\n",
      "Current time: 2023-09-21 01:59:33 (running for 00:16:24.49)\n",
      "Memory usage on this node: 12.2/31.2 GiB\n",
      "Using FIFO scheduling algorithm.\n",
      "Resources requested: 3.0/24 CPUs, 1.0/0 GPUs, 0.0/15.61 GiB heap, 0.0/7.8 GiB objects (0.0/1.0 accelerator_type:G)\n",
      "Result logdir: /home/allenwu/Desktop/work/MARLlib-1.0.3/exp_results/happo_gru_CityLearn_5e-07_0.0005_APPEND-DATA_seed-2\n",
      "Number of trials: 1/1 (1 RUNNING)\n",
      "\n",
      "\n"
     ]
    },
    {
     "name": "stderr",
     "output_type": "stream",
     "text": [
      "/home/allenwu/anaconda3/envs/marllib/lib/python3.8/site-packages/ray/rllib/utils/metrics/learner_info.py:64: RuntimeWarning: Mean of empty slice\n",
      "  lambda *s: None if s[0] is None else np.nanmean(s, axis=0),\n",
      "/home/allenwu/anaconda3/envs/marllib/lib/python3.8/site-packages/ray/rllib/utils/metrics/learner_info.py:64: RuntimeWarning: Mean of empty slice\n",
      "  lambda *s: None if s[0] is None else np.nanmean(s, axis=0),\n",
      "/home/allenwu/anaconda3/envs/marllib/lib/python3.8/site-packages/ray/rllib/utils/metrics/learner_info.py:64: RuntimeWarning: Mean of empty slice\n",
      "  lambda *s: None if s[0] is None else np.nanmean(s, axis=0),\n",
      "/home/allenwu/anaconda3/envs/marllib/lib/python3.8/site-packages/ray/rllib/utils/metrics/learner_info.py:64: RuntimeWarning: Mean of empty slice\n",
      "  lambda *s: None if s[0] is None else np.nanmean(s, axis=0),\n",
      "/home/allenwu/anaconda3/envs/marllib/lib/python3.8/site-packages/ray/rllib/utils/metrics/learner_info.py:64: RuntimeWarning: Mean of empty slice\n",
      "  lambda *s: None if s[0] is None else np.nanmean(s, axis=0),\n",
      "/home/allenwu/anaconda3/envs/marllib/lib/python3.8/site-packages/ray/rllib/utils/metrics/learner_info.py:64: RuntimeWarning: Mean of empty slice\n",
      "  lambda *s: None if s[0] is None else np.nanmean(s, axis=0),\n",
      "/home/allenwu/anaconda3/envs/marllib/lib/python3.8/site-packages/ray/rllib/utils/metrics/learner_info.py:64: RuntimeWarning: Mean of empty slice\n",
      "  lambda *s: None if s[0] is None else np.nanmean(s, axis=0),\n",
      "/home/allenwu/anaconda3/envs/marllib/lib/python3.8/site-packages/ray/rllib/utils/metrics/learner_info.py:64: RuntimeWarning: Mean of empty slice\n",
      "  lambda *s: None if s[0] is None else np.nanmean(s, axis=0),\n",
      "/home/allenwu/anaconda3/envs/marllib/lib/python3.8/site-packages/ray/rllib/utils/metrics/learner_info.py:64: RuntimeWarning: Mean of empty slice\n",
      "  lambda *s: None if s[0] is None else np.nanmean(s, axis=0),\n",
      "/home/allenwu/anaconda3/envs/marllib/lib/python3.8/site-packages/ray/rllib/utils/metrics/learner_info.py:64: RuntimeWarning: Mean of empty slice\n",
      "  lambda *s: None if s[0] is None else np.nanmean(s, axis=0),\n"
     ]
    },
    {
     "name": "stdout",
     "output_type": "stream",
     "text": [
      "== Status ==\n",
      "Current time: 2023-09-21 01:59:38 (running for 00:16:29.81)\n",
      "Memory usage on this node: 12.2/31.2 GiB\n",
      "Using FIFO scheduling algorithm.\n",
      "Resources requested: 3.0/24 CPUs, 1.0/0 GPUs, 0.0/15.61 GiB heap, 0.0/7.8 GiB objects (0.0/1.0 accelerator_type:G)\n",
      "Result logdir: /home/allenwu/Desktop/work/MARLlib-1.0.3/exp_results/happo_gru_CityLearn_5e-07_0.0005_APPEND-DATA_seed-2\n",
      "Number of trials: 1/1 (1 RUNNING)\n",
      "\n",
      "\n"
     ]
    },
    {
     "name": "stderr",
     "output_type": "stream",
     "text": [
      "/home/allenwu/anaconda3/envs/marllib/lib/python3.8/site-packages/ray/rllib/utils/metrics/learner_info.py:64: RuntimeWarning: Mean of empty slice\n",
      "  lambda *s: None if s[0] is None else np.nanmean(s, axis=0),\n",
      "/home/allenwu/anaconda3/envs/marllib/lib/python3.8/site-packages/ray/rllib/utils/metrics/learner_info.py:64: RuntimeWarning: Mean of empty slice\n",
      "  lambda *s: None if s[0] is None else np.nanmean(s, axis=0),\n",
      "/home/allenwu/anaconda3/envs/marllib/lib/python3.8/site-packages/ray/rllib/utils/metrics/learner_info.py:64: RuntimeWarning: Mean of empty slice\n",
      "  lambda *s: None if s[0] is None else np.nanmean(s, axis=0),\n",
      "/home/allenwu/anaconda3/envs/marllib/lib/python3.8/site-packages/ray/rllib/utils/metrics/learner_info.py:64: RuntimeWarning: Mean of empty slice\n",
      "  lambda *s: None if s[0] is None else np.nanmean(s, axis=0),\n",
      "/home/allenwu/anaconda3/envs/marllib/lib/python3.8/site-packages/ray/rllib/utils/metrics/learner_info.py:64: RuntimeWarning: Mean of empty slice\n",
      "  lambda *s: None if s[0] is None else np.nanmean(s, axis=0),\n",
      "/home/allenwu/anaconda3/envs/marllib/lib/python3.8/site-packages/ray/rllib/utils/metrics/learner_info.py:64: RuntimeWarning: Mean of empty slice\n",
      "  lambda *s: None if s[0] is None else np.nanmean(s, axis=0),\n",
      "/home/allenwu/anaconda3/envs/marllib/lib/python3.8/site-packages/ray/rllib/utils/metrics/learner_info.py:64: RuntimeWarning: Mean of empty slice\n",
      "  lambda *s: None if s[0] is None else np.nanmean(s, axis=0),\n",
      "/home/allenwu/anaconda3/envs/marllib/lib/python3.8/site-packages/ray/rllib/utils/metrics/learner_info.py:64: RuntimeWarning: Mean of empty slice\n",
      "  lambda *s: None if s[0] is None else np.nanmean(s, axis=0),\n"
     ]
    },
    {
     "name": "stdout",
     "output_type": "stream",
     "text": [
      "== Status ==\n",
      "Current time: 2023-09-21 01:59:43 (running for 00:16:35.13)\n",
      "Memory usage on this node: 12.3/31.2 GiB\n",
      "Using FIFO scheduling algorithm.\n",
      "Resources requested: 3.0/24 CPUs, 1.0/0 GPUs, 0.0/15.61 GiB heap, 0.0/7.8 GiB objects (0.0/1.0 accelerator_type:G)\n",
      "Result logdir: /home/allenwu/Desktop/work/MARLlib-1.0.3/exp_results/happo_gru_CityLearn_5e-07_0.0005_APPEND-DATA_seed-2\n",
      "Number of trials: 1/1 (1 RUNNING)\n",
      "\n",
      "\n"
     ]
    },
    {
     "name": "stderr",
     "output_type": "stream",
     "text": [
      "/home/allenwu/anaconda3/envs/marllib/lib/python3.8/site-packages/ray/rllib/utils/metrics/learner_info.py:64: RuntimeWarning: Mean of empty slice\n",
      "  lambda *s: None if s[0] is None else np.nanmean(s, axis=0),\n",
      "/home/allenwu/anaconda3/envs/marllib/lib/python3.8/site-packages/ray/rllib/utils/metrics/learner_info.py:64: RuntimeWarning: Mean of empty slice\n",
      "  lambda *s: None if s[0] is None else np.nanmean(s, axis=0),\n",
      "/home/allenwu/anaconda3/envs/marllib/lib/python3.8/site-packages/ray/rllib/utils/metrics/learner_info.py:64: RuntimeWarning: Mean of empty slice\n",
      "  lambda *s: None if s[0] is None else np.nanmean(s, axis=0),\n",
      "/home/allenwu/anaconda3/envs/marllib/lib/python3.8/site-packages/ray/rllib/utils/metrics/learner_info.py:64: RuntimeWarning: Mean of empty slice\n",
      "  lambda *s: None if s[0] is None else np.nanmean(s, axis=0),\n",
      "/home/allenwu/anaconda3/envs/marllib/lib/python3.8/site-packages/ray/rllib/utils/metrics/learner_info.py:64: RuntimeWarning: Mean of empty slice\n",
      "  lambda *s: None if s[0] is None else np.nanmean(s, axis=0),\n",
      "/home/allenwu/anaconda3/envs/marllib/lib/python3.8/site-packages/ray/rllib/utils/metrics/learner_info.py:64: RuntimeWarning: Mean of empty slice\n",
      "  lambda *s: None if s[0] is None else np.nanmean(s, axis=0),\n",
      "/home/allenwu/anaconda3/envs/marllib/lib/python3.8/site-packages/ray/rllib/utils/metrics/learner_info.py:64: RuntimeWarning: Mean of empty slice\n",
      "  lambda *s: None if s[0] is None else np.nanmean(s, axis=0),\n",
      "/home/allenwu/anaconda3/envs/marllib/lib/python3.8/site-packages/ray/rllib/utils/metrics/learner_info.py:64: RuntimeWarning: Mean of empty slice\n",
      "  lambda *s: None if s[0] is None else np.nanmean(s, axis=0),\n",
      "/home/allenwu/anaconda3/envs/marllib/lib/python3.8/site-packages/ray/rllib/utils/metrics/learner_info.py:64: RuntimeWarning: Mean of empty slice\n",
      "  lambda *s: None if s[0] is None else np.nanmean(s, axis=0),\n",
      "/home/allenwu/anaconda3/envs/marllib/lib/python3.8/site-packages/ray/rllib/utils/metrics/learner_info.py:64: RuntimeWarning: Mean of empty slice\n",
      "  lambda *s: None if s[0] is None else np.nanmean(s, axis=0),\n",
      "/home/allenwu/anaconda3/envs/marllib/lib/python3.8/site-packages/ray/rllib/utils/metrics/learner_info.py:64: RuntimeWarning: Mean of empty slice\n",
      "  lambda *s: None if s[0] is None else np.nanmean(s, axis=0),\n"
     ]
    },
    {
     "name": "stdout",
     "output_type": "stream",
     "text": [
      "== Status ==\n",
      "Current time: 2023-09-21 01:59:49 (running for 00:16:40.48)\n",
      "Memory usage on this node: 12.3/31.2 GiB\n",
      "Using FIFO scheduling algorithm.\n",
      "Resources requested: 3.0/24 CPUs, 1.0/0 GPUs, 0.0/15.61 GiB heap, 0.0/7.8 GiB objects (0.0/1.0 accelerator_type:G)\n",
      "Result logdir: /home/allenwu/Desktop/work/MARLlib-1.0.3/exp_results/happo_gru_CityLearn_5e-07_0.0005_APPEND-DATA_seed-2\n",
      "Number of trials: 1/1 (1 RUNNING)\n",
      "\n",
      "\n"
     ]
    },
    {
     "name": "stderr",
     "output_type": "stream",
     "text": [
      "/home/allenwu/anaconda3/envs/marllib/lib/python3.8/site-packages/ray/rllib/utils/metrics/learner_info.py:64: RuntimeWarning: Mean of empty slice\n",
      "  lambda *s: None if s[0] is None else np.nanmean(s, axis=0),\n",
      "/home/allenwu/anaconda3/envs/marllib/lib/python3.8/site-packages/ray/rllib/utils/metrics/learner_info.py:64: RuntimeWarning: Mean of empty slice\n",
      "  lambda *s: None if s[0] is None else np.nanmean(s, axis=0),\n",
      "/home/allenwu/anaconda3/envs/marllib/lib/python3.8/site-packages/ray/rllib/utils/metrics/learner_info.py:64: RuntimeWarning: Mean of empty slice\n",
      "  lambda *s: None if s[0] is None else np.nanmean(s, axis=0),\n",
      "/home/allenwu/anaconda3/envs/marllib/lib/python3.8/site-packages/ray/rllib/utils/metrics/learner_info.py:64: RuntimeWarning: Mean of empty slice\n",
      "  lambda *s: None if s[0] is None else np.nanmean(s, axis=0),\n",
      "/home/allenwu/anaconda3/envs/marllib/lib/python3.8/site-packages/ray/rllib/utils/metrics/learner_info.py:64: RuntimeWarning: Mean of empty slice\n",
      "  lambda *s: None if s[0] is None else np.nanmean(s, axis=0),\n",
      "/home/allenwu/anaconda3/envs/marllib/lib/python3.8/site-packages/ray/rllib/utils/metrics/learner_info.py:64: RuntimeWarning: Mean of empty slice\n",
      "  lambda *s: None if s[0] is None else np.nanmean(s, axis=0),\n"
     ]
    },
    {
     "name": "stdout",
     "output_type": "stream",
     "text": [
      "== Status ==\n",
      "Current time: 2023-09-21 01:59:54 (running for 00:16:45.79)\n",
      "Memory usage on this node: 12.4/31.2 GiB\n",
      "Using FIFO scheduling algorithm.\n",
      "Resources requested: 3.0/24 CPUs, 1.0/0 GPUs, 0.0/15.61 GiB heap, 0.0/7.8 GiB objects (0.0/1.0 accelerator_type:G)\n",
      "Result logdir: /home/allenwu/Desktop/work/MARLlib-1.0.3/exp_results/happo_gru_CityLearn_5e-07_0.0005_APPEND-DATA_seed-2\n",
      "Number of trials: 1/1 (1 RUNNING)\n",
      "\n",
      "\n"
     ]
    },
    {
     "name": "stderr",
     "output_type": "stream",
     "text": [
      "/home/allenwu/anaconda3/envs/marllib/lib/python3.8/site-packages/ray/rllib/utils/metrics/learner_info.py:64: RuntimeWarning: Mean of empty slice\n",
      "  lambda *s: None if s[0] is None else np.nanmean(s, axis=0),\n",
      "/home/allenwu/anaconda3/envs/marllib/lib/python3.8/site-packages/ray/rllib/utils/metrics/learner_info.py:64: RuntimeWarning: Mean of empty slice\n",
      "  lambda *s: None if s[0] is None else np.nanmean(s, axis=0),\n",
      "/home/allenwu/anaconda3/envs/marllib/lib/python3.8/site-packages/ray/rllib/utils/metrics/learner_info.py:64: RuntimeWarning: Mean of empty slice\n",
      "  lambda *s: None if s[0] is None else np.nanmean(s, axis=0),\n",
      "/home/allenwu/anaconda3/envs/marllib/lib/python3.8/site-packages/ray/rllib/utils/metrics/learner_info.py:64: RuntimeWarning: Mean of empty slice\n",
      "  lambda *s: None if s[0] is None else np.nanmean(s, axis=0),\n",
      "/home/allenwu/anaconda3/envs/marllib/lib/python3.8/site-packages/ray/rllib/utils/metrics/learner_info.py:64: RuntimeWarning: Mean of empty slice\n",
      "  lambda *s: None if s[0] is None else np.nanmean(s, axis=0),\n",
      "/home/allenwu/anaconda3/envs/marllib/lib/python3.8/site-packages/ray/rllib/utils/metrics/learner_info.py:64: RuntimeWarning: Mean of empty slice\n",
      "  lambda *s: None if s[0] is None else np.nanmean(s, axis=0),\n",
      "/home/allenwu/anaconda3/envs/marllib/lib/python3.8/site-packages/ray/rllib/utils/metrics/learner_info.py:64: RuntimeWarning: Mean of empty slice\n",
      "  lambda *s: None if s[0] is None else np.nanmean(s, axis=0),\n",
      "/home/allenwu/anaconda3/envs/marllib/lib/python3.8/site-packages/ray/rllib/utils/metrics/learner_info.py:64: RuntimeWarning: Mean of empty slice\n",
      "  lambda *s: None if s[0] is None else np.nanmean(s, axis=0),\n",
      "/home/allenwu/anaconda3/envs/marllib/lib/python3.8/site-packages/ray/rllib/utils/metrics/learner_info.py:64: RuntimeWarning: Mean of empty slice\n",
      "  lambda *s: None if s[0] is None else np.nanmean(s, axis=0),\n"
     ]
    },
    {
     "name": "stdout",
     "output_type": "stream",
     "text": [
      "== Status ==\n",
      "Current time: 2023-09-21 01:59:59 (running for 00:16:51.11)\n",
      "Memory usage on this node: 12.4/31.2 GiB\n",
      "Using FIFO scheduling algorithm.\n",
      "Resources requested: 3.0/24 CPUs, 1.0/0 GPUs, 0.0/15.61 GiB heap, 0.0/7.8 GiB objects (0.0/1.0 accelerator_type:G)\n",
      "Result logdir: /home/allenwu/Desktop/work/MARLlib-1.0.3/exp_results/happo_gru_CityLearn_5e-07_0.0005_APPEND-DATA_seed-2\n",
      "Number of trials: 1/1 (1 RUNNING)\n",
      "\n",
      "\n"
     ]
    },
    {
     "name": "stderr",
     "output_type": "stream",
     "text": [
      "/home/allenwu/anaconda3/envs/marllib/lib/python3.8/site-packages/ray/rllib/utils/metrics/learner_info.py:64: RuntimeWarning: Mean of empty slice\n",
      "  lambda *s: None if s[0] is None else np.nanmean(s, axis=0),\n",
      "/home/allenwu/anaconda3/envs/marllib/lib/python3.8/site-packages/ray/rllib/utils/metrics/learner_info.py:64: RuntimeWarning: Mean of empty slice\n",
      "  lambda *s: None if s[0] is None else np.nanmean(s, axis=0),\n",
      "/home/allenwu/anaconda3/envs/marllib/lib/python3.8/site-packages/ray/rllib/utils/metrics/learner_info.py:64: RuntimeWarning: Mean of empty slice\n",
      "  lambda *s: None if s[0] is None else np.nanmean(s, axis=0),\n",
      "/home/allenwu/anaconda3/envs/marllib/lib/python3.8/site-packages/ray/rllib/utils/metrics/learner_info.py:64: RuntimeWarning: Mean of empty slice\n",
      "  lambda *s: None if s[0] is None else np.nanmean(s, axis=0),\n",
      "/home/allenwu/anaconda3/envs/marllib/lib/python3.8/site-packages/ray/rllib/utils/metrics/learner_info.py:64: RuntimeWarning: Mean of empty slice\n",
      "  lambda *s: None if s[0] is None else np.nanmean(s, axis=0),\n",
      "/home/allenwu/anaconda3/envs/marllib/lib/python3.8/site-packages/ray/rllib/utils/metrics/learner_info.py:64: RuntimeWarning: Mean of empty slice\n",
      "  lambda *s: None if s[0] is None else np.nanmean(s, axis=0),\n",
      "/home/allenwu/anaconda3/envs/marllib/lib/python3.8/site-packages/ray/rllib/utils/metrics/learner_info.py:64: RuntimeWarning: Mean of empty slice\n",
      "  lambda *s: None if s[0] is None else np.nanmean(s, axis=0),\n",
      "/home/allenwu/anaconda3/envs/marllib/lib/python3.8/site-packages/ray/rllib/utils/metrics/learner_info.py:64: RuntimeWarning: Mean of empty slice\n",
      "  lambda *s: None if s[0] is None else np.nanmean(s, axis=0),\n"
     ]
    },
    {
     "name": "stdout",
     "output_type": "stream",
     "text": [
      "== Status ==\n",
      "Current time: 2023-09-21 02:00:05 (running for 00:16:56.44)\n",
      "Memory usage on this node: 12.3/31.2 GiB\n",
      "Using FIFO scheduling algorithm.\n",
      "Resources requested: 3.0/24 CPUs, 1.0/0 GPUs, 0.0/15.61 GiB heap, 0.0/7.8 GiB objects (0.0/1.0 accelerator_type:G)\n",
      "Result logdir: /home/allenwu/Desktop/work/MARLlib-1.0.3/exp_results/happo_gru_CityLearn_5e-07_0.0005_APPEND-DATA_seed-2\n",
      "Number of trials: 1/1 (1 RUNNING)\n",
      "\n",
      "\n"
     ]
    },
    {
     "name": "stderr",
     "output_type": "stream",
     "text": [
      "/home/allenwu/anaconda3/envs/marllib/lib/python3.8/site-packages/ray/rllib/utils/metrics/learner_info.py:64: RuntimeWarning: Mean of empty slice\n",
      "  lambda *s: None if s[0] is None else np.nanmean(s, axis=0),\n",
      "/home/allenwu/anaconda3/envs/marllib/lib/python3.8/site-packages/ray/rllib/utils/metrics/learner_info.py:64: RuntimeWarning: Mean of empty slice\n",
      "  lambda *s: None if s[0] is None else np.nanmean(s, axis=0),\n",
      "/home/allenwu/anaconda3/envs/marllib/lib/python3.8/site-packages/ray/rllib/utils/metrics/learner_info.py:64: RuntimeWarning: Mean of empty slice\n",
      "  lambda *s: None if s[0] is None else np.nanmean(s, axis=0),\n",
      "/home/allenwu/anaconda3/envs/marllib/lib/python3.8/site-packages/ray/rllib/utils/metrics/learner_info.py:64: RuntimeWarning: Mean of empty slice\n",
      "  lambda *s: None if s[0] is None else np.nanmean(s, axis=0),\n",
      "/home/allenwu/anaconda3/envs/marllib/lib/python3.8/site-packages/ray/rllib/utils/metrics/learner_info.py:64: RuntimeWarning: Mean of empty slice\n",
      "  lambda *s: None if s[0] is None else np.nanmean(s, axis=0),\n",
      "/home/allenwu/anaconda3/envs/marllib/lib/python3.8/site-packages/ray/rllib/utils/metrics/learner_info.py:64: RuntimeWarning: Mean of empty slice\n",
      "  lambda *s: None if s[0] is None else np.nanmean(s, axis=0),\n",
      "/home/allenwu/anaconda3/envs/marllib/lib/python3.8/site-packages/ray/rllib/utils/metrics/learner_info.py:64: RuntimeWarning: Mean of empty slice\n",
      "  lambda *s: None if s[0] is None else np.nanmean(s, axis=0),\n",
      "/home/allenwu/anaconda3/envs/marllib/lib/python3.8/site-packages/ray/rllib/utils/metrics/learner_info.py:64: RuntimeWarning: Mean of empty slice\n",
      "  lambda *s: None if s[0] is None else np.nanmean(s, axis=0),\n"
     ]
    },
    {
     "name": "stdout",
     "output_type": "stream",
     "text": [
      "== Status ==\n",
      "Current time: 2023-09-21 02:00:10 (running for 00:17:01.77)\n",
      "Memory usage on this node: 12.4/31.2 GiB\n",
      "Using FIFO scheduling algorithm.\n",
      "Resources requested: 3.0/24 CPUs, 1.0/0 GPUs, 0.0/15.61 GiB heap, 0.0/7.8 GiB objects (0.0/1.0 accelerator_type:G)\n",
      "Result logdir: /home/allenwu/Desktop/work/MARLlib-1.0.3/exp_results/happo_gru_CityLearn_5e-07_0.0005_APPEND-DATA_seed-2\n",
      "Number of trials: 1/1 (1 RUNNING)\n",
      "\n",
      "\n"
     ]
    },
    {
     "name": "stderr",
     "output_type": "stream",
     "text": [
      "/home/allenwu/anaconda3/envs/marllib/lib/python3.8/site-packages/ray/rllib/utils/metrics/learner_info.py:64: RuntimeWarning: Mean of empty slice\n",
      "  lambda *s: None if s[0] is None else np.nanmean(s, axis=0),\n",
      "/home/allenwu/anaconda3/envs/marllib/lib/python3.8/site-packages/ray/rllib/utils/metrics/learner_info.py:64: RuntimeWarning: Mean of empty slice\n",
      "  lambda *s: None if s[0] is None else np.nanmean(s, axis=0),\n",
      "/home/allenwu/anaconda3/envs/marllib/lib/python3.8/site-packages/ray/rllib/utils/metrics/learner_info.py:64: RuntimeWarning: Mean of empty slice\n",
      "  lambda *s: None if s[0] is None else np.nanmean(s, axis=0),\n",
      "/home/allenwu/anaconda3/envs/marllib/lib/python3.8/site-packages/ray/rllib/utils/metrics/learner_info.py:64: RuntimeWarning: Mean of empty slice\n",
      "  lambda *s: None if s[0] is None else np.nanmean(s, axis=0),\n",
      "/home/allenwu/anaconda3/envs/marllib/lib/python3.8/site-packages/ray/rllib/utils/metrics/learner_info.py:64: RuntimeWarning: Mean of empty slice\n",
      "  lambda *s: None if s[0] is None else np.nanmean(s, axis=0),\n",
      "2023-09-21 02:00:13,191\tWARNING ray_trial_executor.py:768 -- Over the last 60 seconds, the Tune event loop has been backlogged processing new results. Consider increasing your period of result reporting to improve performance.\n",
      "/home/allenwu/anaconda3/envs/marllib/lib/python3.8/site-packages/ray/rllib/utils/metrics/learner_info.py:64: RuntimeWarning: Mean of empty slice\n",
      "  lambda *s: None if s[0] is None else np.nanmean(s, axis=0),\n",
      "/home/allenwu/anaconda3/envs/marllib/lib/python3.8/site-packages/ray/rllib/utils/metrics/learner_info.py:64: RuntimeWarning: Mean of empty slice\n",
      "  lambda *s: None if s[0] is None else np.nanmean(s, axis=0),\n",
      "/home/allenwu/anaconda3/envs/marllib/lib/python3.8/site-packages/ray/rllib/utils/metrics/learner_info.py:64: RuntimeWarning: Mean of empty slice\n",
      "  lambda *s: None if s[0] is None else np.nanmean(s, axis=0),\n",
      "/home/allenwu/anaconda3/envs/marllib/lib/python3.8/site-packages/ray/rllib/utils/metrics/learner_info.py:64: RuntimeWarning: Mean of empty slice\n",
      "  lambda *s: None if s[0] is None else np.nanmean(s, axis=0),\n"
     ]
    },
    {
     "name": "stdout",
     "output_type": "stream",
     "text": [
      "== Status ==\n",
      "Current time: 2023-09-21 02:00:15 (running for 00:17:07.08)\n",
      "Memory usage on this node: 12.4/31.2 GiB\n",
      "Using FIFO scheduling algorithm.\n",
      "Resources requested: 3.0/24 CPUs, 1.0/0 GPUs, 0.0/15.61 GiB heap, 0.0/7.8 GiB objects (0.0/1.0 accelerator_type:G)\n",
      "Result logdir: /home/allenwu/Desktop/work/MARLlib-1.0.3/exp_results/happo_gru_CityLearn_5e-07_0.0005_APPEND-DATA_seed-2\n",
      "Number of trials: 1/1 (1 RUNNING)\n",
      "\n",
      "\n"
     ]
    },
    {
     "name": "stderr",
     "output_type": "stream",
     "text": [
      "/home/allenwu/anaconda3/envs/marllib/lib/python3.8/site-packages/ray/rllib/utils/metrics/learner_info.py:64: RuntimeWarning: Mean of empty slice\n",
      "  lambda *s: None if s[0] is None else np.nanmean(s, axis=0),\n",
      "/home/allenwu/anaconda3/envs/marllib/lib/python3.8/site-packages/ray/rllib/utils/metrics/learner_info.py:64: RuntimeWarning: Mean of empty slice\n",
      "  lambda *s: None if s[0] is None else np.nanmean(s, axis=0),\n",
      "/home/allenwu/anaconda3/envs/marllib/lib/python3.8/site-packages/ray/rllib/utils/metrics/learner_info.py:64: RuntimeWarning: Mean of empty slice\n",
      "  lambda *s: None if s[0] is None else np.nanmean(s, axis=0),\n",
      "/home/allenwu/anaconda3/envs/marllib/lib/python3.8/site-packages/ray/rllib/utils/metrics/learner_info.py:64: RuntimeWarning: Mean of empty slice\n",
      "  lambda *s: None if s[0] is None else np.nanmean(s, axis=0),\n",
      "/home/allenwu/anaconda3/envs/marllib/lib/python3.8/site-packages/ray/rllib/utils/metrics/learner_info.py:64: RuntimeWarning: Mean of empty slice\n",
      "  lambda *s: None if s[0] is None else np.nanmean(s, axis=0),\n",
      "/home/allenwu/anaconda3/envs/marllib/lib/python3.8/site-packages/ray/rllib/utils/metrics/learner_info.py:64: RuntimeWarning: Mean of empty slice\n",
      "  lambda *s: None if s[0] is None else np.nanmean(s, axis=0),\n",
      "/home/allenwu/anaconda3/envs/marllib/lib/python3.8/site-packages/ray/rllib/utils/metrics/learner_info.py:64: RuntimeWarning: Mean of empty slice\n",
      "  lambda *s: None if s[0] is None else np.nanmean(s, axis=0),\n"
     ]
    },
    {
     "name": "stdout",
     "output_type": "stream",
     "text": [
      "== Status ==\n",
      "Current time: 2023-09-21 02:00:21 (running for 00:17:12.39)\n",
      "Memory usage on this node: 12.5/31.2 GiB\n",
      "Using FIFO scheduling algorithm.\n",
      "Resources requested: 3.0/24 CPUs, 1.0/0 GPUs, 0.0/15.61 GiB heap, 0.0/7.8 GiB objects (0.0/1.0 accelerator_type:G)\n",
      "Result logdir: /home/allenwu/Desktop/work/MARLlib-1.0.3/exp_results/happo_gru_CityLearn_5e-07_0.0005_APPEND-DATA_seed-2\n",
      "Number of trials: 1/1 (1 RUNNING)\n",
      "\n",
      "\n"
     ]
    },
    {
     "name": "stderr",
     "output_type": "stream",
     "text": [
      "/home/allenwu/anaconda3/envs/marllib/lib/python3.8/site-packages/ray/rllib/utils/metrics/learner_info.py:64: RuntimeWarning: Mean of empty slice\n",
      "  lambda *s: None if s[0] is None else np.nanmean(s, axis=0),\n",
      "/home/allenwu/anaconda3/envs/marllib/lib/python3.8/site-packages/ray/rllib/utils/metrics/learner_info.py:64: RuntimeWarning: Mean of empty slice\n",
      "  lambda *s: None if s[0] is None else np.nanmean(s, axis=0),\n",
      "/home/allenwu/anaconda3/envs/marllib/lib/python3.8/site-packages/ray/rllib/utils/metrics/learner_info.py:64: RuntimeWarning: Mean of empty slice\n",
      "  lambda *s: None if s[0] is None else np.nanmean(s, axis=0),\n",
      "/home/allenwu/anaconda3/envs/marllib/lib/python3.8/site-packages/ray/rllib/utils/metrics/learner_info.py:64: RuntimeWarning: Mean of empty slice\n",
      "  lambda *s: None if s[0] is None else np.nanmean(s, axis=0),\n",
      "/home/allenwu/anaconda3/envs/marllib/lib/python3.8/site-packages/ray/rllib/utils/metrics/learner_info.py:64: RuntimeWarning: Mean of empty slice\n",
      "  lambda *s: None if s[0] is None else np.nanmean(s, axis=0),\n",
      "/home/allenwu/anaconda3/envs/marllib/lib/python3.8/site-packages/ray/rllib/utils/metrics/learner_info.py:64: RuntimeWarning: Mean of empty slice\n",
      "  lambda *s: None if s[0] is None else np.nanmean(s, axis=0),\n"
     ]
    },
    {
     "name": "stdout",
     "output_type": "stream",
     "text": [
      "== Status ==\n",
      "Current time: 2023-09-21 02:00:26 (running for 00:17:17.71)\n",
      "Memory usage on this node: 12.5/31.2 GiB\n",
      "Using FIFO scheduling algorithm.\n",
      "Resources requested: 3.0/24 CPUs, 1.0/0 GPUs, 0.0/15.61 GiB heap, 0.0/7.8 GiB objects (0.0/1.0 accelerator_type:G)\n",
      "Result logdir: /home/allenwu/Desktop/work/MARLlib-1.0.3/exp_results/happo_gru_CityLearn_5e-07_0.0005_APPEND-DATA_seed-2\n",
      "Number of trials: 1/1 (1 RUNNING)\n",
      "\n",
      "\n"
     ]
    },
    {
     "name": "stderr",
     "output_type": "stream",
     "text": [
      "/home/allenwu/anaconda3/envs/marllib/lib/python3.8/site-packages/ray/rllib/utils/metrics/learner_info.py:64: RuntimeWarning: Mean of empty slice\n",
      "  lambda *s: None if s[0] is None else np.nanmean(s, axis=0),\n",
      "/home/allenwu/anaconda3/envs/marllib/lib/python3.8/site-packages/ray/rllib/utils/metrics/learner_info.py:64: RuntimeWarning: Mean of empty slice\n",
      "  lambda *s: None if s[0] is None else np.nanmean(s, axis=0),\n",
      "/home/allenwu/anaconda3/envs/marllib/lib/python3.8/site-packages/ray/rllib/utils/metrics/learner_info.py:64: RuntimeWarning: Mean of empty slice\n",
      "  lambda *s: None if s[0] is None else np.nanmean(s, axis=0),\n",
      "/home/allenwu/anaconda3/envs/marllib/lib/python3.8/site-packages/ray/rllib/utils/metrics/learner_info.py:64: RuntimeWarning: Mean of empty slice\n",
      "  lambda *s: None if s[0] is None else np.nanmean(s, axis=0),\n",
      "/home/allenwu/anaconda3/envs/marllib/lib/python3.8/site-packages/ray/rllib/utils/metrics/learner_info.py:64: RuntimeWarning: Mean of empty slice\n",
      "  lambda *s: None if s[0] is None else np.nanmean(s, axis=0),\n",
      "/home/allenwu/anaconda3/envs/marllib/lib/python3.8/site-packages/ray/rllib/utils/metrics/learner_info.py:64: RuntimeWarning: Mean of empty slice\n",
      "  lambda *s: None if s[0] is None else np.nanmean(s, axis=0),\n",
      "/home/allenwu/anaconda3/envs/marllib/lib/python3.8/site-packages/ray/rllib/utils/metrics/learner_info.py:64: RuntimeWarning: Mean of empty slice\n",
      "  lambda *s: None if s[0] is None else np.nanmean(s, axis=0),\n"
     ]
    },
    {
     "name": "stdout",
     "output_type": "stream",
     "text": [
      "== Status ==\n",
      "Current time: 2023-09-21 02:00:31 (running for 00:17:23.16)\n",
      "Memory usage on this node: 12.5/31.2 GiB\n",
      "Using FIFO scheduling algorithm.\n",
      "Resources requested: 3.0/24 CPUs, 1.0/0 GPUs, 0.0/15.61 GiB heap, 0.0/7.8 GiB objects (0.0/1.0 accelerator_type:G)\n",
      "Result logdir: /home/allenwu/Desktop/work/MARLlib-1.0.3/exp_results/happo_gru_CityLearn_5e-07_0.0005_APPEND-DATA_seed-2\n",
      "Number of trials: 1/1 (1 RUNNING)\n",
      "\n",
      "\n"
     ]
    },
    {
     "name": "stderr",
     "output_type": "stream",
     "text": [
      "/home/allenwu/anaconda3/envs/marllib/lib/python3.8/site-packages/ray/rllib/utils/metrics/learner_info.py:64: RuntimeWarning: Mean of empty slice\n",
      "  lambda *s: None if s[0] is None else np.nanmean(s, axis=0),\n",
      "/home/allenwu/anaconda3/envs/marllib/lib/python3.8/site-packages/ray/rllib/utils/metrics/learner_info.py:64: RuntimeWarning: Mean of empty slice\n",
      "  lambda *s: None if s[0] is None else np.nanmean(s, axis=0),\n",
      "/home/allenwu/anaconda3/envs/marllib/lib/python3.8/site-packages/ray/rllib/utils/metrics/learner_info.py:64: RuntimeWarning: Mean of empty slice\n",
      "  lambda *s: None if s[0] is None else np.nanmean(s, axis=0),\n",
      "/home/allenwu/anaconda3/envs/marllib/lib/python3.8/site-packages/ray/rllib/utils/metrics/learner_info.py:64: RuntimeWarning: Mean of empty slice\n",
      "  lambda *s: None if s[0] is None else np.nanmean(s, axis=0),\n",
      "/home/allenwu/anaconda3/envs/marllib/lib/python3.8/site-packages/ray/rllib/utils/metrics/learner_info.py:64: RuntimeWarning: Mean of empty slice\n",
      "  lambda *s: None if s[0] is None else np.nanmean(s, axis=0),\n"
     ]
    },
    {
     "name": "stdout",
     "output_type": "stream",
     "text": [
      "== Status ==\n",
      "Current time: 2023-09-21 02:00:37 (running for 00:17:28.48)\n",
      "Memory usage on this node: 12.6/31.2 GiB\n",
      "Using FIFO scheduling algorithm.\n",
      "Resources requested: 3.0/24 CPUs, 1.0/0 GPUs, 0.0/15.61 GiB heap, 0.0/7.8 GiB objects (0.0/1.0 accelerator_type:G)\n",
      "Result logdir: /home/allenwu/Desktop/work/MARLlib-1.0.3/exp_results/happo_gru_CityLearn_5e-07_0.0005_APPEND-DATA_seed-2\n",
      "Number of trials: 1/1 (1 RUNNING)\n",
      "\n",
      "\n"
     ]
    },
    {
     "name": "stderr",
     "output_type": "stream",
     "text": [
      "/home/allenwu/anaconda3/envs/marllib/lib/python3.8/site-packages/ray/rllib/utils/metrics/learner_info.py:64: RuntimeWarning: Mean of empty slice\n",
      "  lambda *s: None if s[0] is None else np.nanmean(s, axis=0),\n",
      "/home/allenwu/anaconda3/envs/marllib/lib/python3.8/site-packages/ray/rllib/utils/metrics/learner_info.py:64: RuntimeWarning: Mean of empty slice\n",
      "  lambda *s: None if s[0] is None else np.nanmean(s, axis=0),\n",
      "/home/allenwu/anaconda3/envs/marllib/lib/python3.8/site-packages/ray/rllib/utils/metrics/learner_info.py:64: RuntimeWarning: Mean of empty slice\n",
      "  lambda *s: None if s[0] is None else np.nanmean(s, axis=0),\n",
      "/home/allenwu/anaconda3/envs/marllib/lib/python3.8/site-packages/ray/rllib/utils/metrics/learner_info.py:64: RuntimeWarning: Mean of empty slice\n",
      "  lambda *s: None if s[0] is None else np.nanmean(s, axis=0),\n",
      "/home/allenwu/anaconda3/envs/marllib/lib/python3.8/site-packages/ray/rllib/utils/metrics/learner_info.py:64: RuntimeWarning: Mean of empty slice\n",
      "  lambda *s: None if s[0] is None else np.nanmean(s, axis=0),\n",
      "/home/allenwu/anaconda3/envs/marllib/lib/python3.8/site-packages/ray/rllib/utils/metrics/learner_info.py:64: RuntimeWarning: Mean of empty slice\n",
      "  lambda *s: None if s[0] is None else np.nanmean(s, axis=0),\n",
      "/home/allenwu/anaconda3/envs/marllib/lib/python3.8/site-packages/ray/rllib/utils/metrics/learner_info.py:64: RuntimeWarning: Mean of empty slice\n",
      "  lambda *s: None if s[0] is None else np.nanmean(s, axis=0),\n",
      "/home/allenwu/anaconda3/envs/marllib/lib/python3.8/site-packages/ray/rllib/utils/metrics/learner_info.py:64: RuntimeWarning: Mean of empty slice\n",
      "  lambda *s: None if s[0] is None else np.nanmean(s, axis=0),\n",
      "/home/allenwu/anaconda3/envs/marllib/lib/python3.8/site-packages/ray/rllib/utils/metrics/learner_info.py:64: RuntimeWarning: Mean of empty slice\n",
      "  lambda *s: None if s[0] is None else np.nanmean(s, axis=0),\n"
     ]
    },
    {
     "name": "stdout",
     "output_type": "stream",
     "text": [
      "== Status ==\n",
      "Current time: 2023-09-21 02:00:42 (running for 00:17:33.78)\n",
      "Memory usage on this node: 12.6/31.2 GiB\n",
      "Using FIFO scheduling algorithm.\n",
      "Resources requested: 3.0/24 CPUs, 1.0/0 GPUs, 0.0/15.61 GiB heap, 0.0/7.8 GiB objects (0.0/1.0 accelerator_type:G)\n",
      "Result logdir: /home/allenwu/Desktop/work/MARLlib-1.0.3/exp_results/happo_gru_CityLearn_5e-07_0.0005_APPEND-DATA_seed-2\n",
      "Number of trials: 1/1 (1 RUNNING)\n",
      "\n",
      "\n"
     ]
    },
    {
     "name": "stderr",
     "output_type": "stream",
     "text": [
      "/home/allenwu/anaconda3/envs/marllib/lib/python3.8/site-packages/ray/rllib/utils/metrics/learner_info.py:64: RuntimeWarning: Mean of empty slice\n",
      "  lambda *s: None if s[0] is None else np.nanmean(s, axis=0),\n",
      "/home/allenwu/anaconda3/envs/marllib/lib/python3.8/site-packages/ray/rllib/utils/metrics/learner_info.py:64: RuntimeWarning: Mean of empty slice\n",
      "  lambda *s: None if s[0] is None else np.nanmean(s, axis=0),\n",
      "/home/allenwu/anaconda3/envs/marllib/lib/python3.8/site-packages/ray/rllib/utils/metrics/learner_info.py:64: RuntimeWarning: Mean of empty slice\n",
      "  lambda *s: None if s[0] is None else np.nanmean(s, axis=0),\n",
      "/home/allenwu/anaconda3/envs/marllib/lib/python3.8/site-packages/ray/rllib/utils/metrics/learner_info.py:64: RuntimeWarning: Mean of empty slice\n",
      "  lambda *s: None if s[0] is None else np.nanmean(s, axis=0),\n",
      "/home/allenwu/anaconda3/envs/marllib/lib/python3.8/site-packages/ray/rllib/utils/metrics/learner_info.py:64: RuntimeWarning: Mean of empty slice\n",
      "  lambda *s: None if s[0] is None else np.nanmean(s, axis=0),\n",
      "/home/allenwu/anaconda3/envs/marllib/lib/python3.8/site-packages/ray/rllib/utils/metrics/learner_info.py:64: RuntimeWarning: Mean of empty slice\n",
      "  lambda *s: None if s[0] is None else np.nanmean(s, axis=0),\n",
      "/home/allenwu/anaconda3/envs/marllib/lib/python3.8/site-packages/ray/rllib/utils/metrics/learner_info.py:64: RuntimeWarning: Mean of empty slice\n",
      "  lambda *s: None if s[0] is None else np.nanmean(s, axis=0),\n",
      "/home/allenwu/anaconda3/envs/marllib/lib/python3.8/site-packages/ray/rllib/utils/metrics/learner_info.py:64: RuntimeWarning: Mean of empty slice\n",
      "  lambda *s: None if s[0] is None else np.nanmean(s, axis=0),\n",
      "/home/allenwu/anaconda3/envs/marllib/lib/python3.8/site-packages/ray/rllib/utils/metrics/learner_info.py:64: RuntimeWarning: Mean of empty slice\n",
      "  lambda *s: None if s[0] is None else np.nanmean(s, axis=0),\n"
     ]
    },
    {
     "name": "stdout",
     "output_type": "stream",
     "text": [
      "== Status ==\n",
      "Current time: 2023-09-21 02:00:47 (running for 00:17:39.07)\n",
      "Memory usage on this node: 12.6/31.2 GiB\n",
      "Using FIFO scheduling algorithm.\n",
      "Resources requested: 3.0/24 CPUs, 1.0/0 GPUs, 0.0/15.61 GiB heap, 0.0/7.8 GiB objects (0.0/1.0 accelerator_type:G)\n",
      "Result logdir: /home/allenwu/Desktop/work/MARLlib-1.0.3/exp_results/happo_gru_CityLearn_5e-07_0.0005_APPEND-DATA_seed-2\n",
      "Number of trials: 1/1 (1 RUNNING)\n",
      "\n",
      "\n"
     ]
    },
    {
     "name": "stderr",
     "output_type": "stream",
     "text": [
      "/home/allenwu/anaconda3/envs/marllib/lib/python3.8/site-packages/ray/rllib/utils/metrics/learner_info.py:64: RuntimeWarning: Mean of empty slice\n",
      "  lambda *s: None if s[0] is None else np.nanmean(s, axis=0),\n",
      "/home/allenwu/anaconda3/envs/marllib/lib/python3.8/site-packages/ray/rllib/utils/metrics/learner_info.py:64: RuntimeWarning: Mean of empty slice\n",
      "  lambda *s: None if s[0] is None else np.nanmean(s, axis=0),\n",
      "/home/allenwu/anaconda3/envs/marllib/lib/python3.8/site-packages/ray/rllib/utils/metrics/learner_info.py:64: RuntimeWarning: Mean of empty slice\n",
      "  lambda *s: None if s[0] is None else np.nanmean(s, axis=0),\n",
      "/home/allenwu/anaconda3/envs/marllib/lib/python3.8/site-packages/ray/rllib/utils/metrics/learner_info.py:64: RuntimeWarning: Mean of empty slice\n",
      "  lambda *s: None if s[0] is None else np.nanmean(s, axis=0),\n",
      "/home/allenwu/anaconda3/envs/marllib/lib/python3.8/site-packages/ray/rllib/utils/metrics/learner_info.py:64: RuntimeWarning: Mean of empty slice\n",
      "  lambda *s: None if s[0] is None else np.nanmean(s, axis=0),\n",
      "/home/allenwu/anaconda3/envs/marllib/lib/python3.8/site-packages/ray/rllib/utils/metrics/learner_info.py:64: RuntimeWarning: Mean of empty slice\n",
      "  lambda *s: None if s[0] is None else np.nanmean(s, axis=0),\n"
     ]
    },
    {
     "name": "stdout",
     "output_type": "stream",
     "text": [
      "== Status ==\n",
      "Current time: 2023-09-21 02:00:53 (running for 00:17:44.40)\n",
      "Memory usage on this node: 12.6/31.2 GiB\n",
      "Using FIFO scheduling algorithm.\n",
      "Resources requested: 3.0/24 CPUs, 1.0/0 GPUs, 0.0/15.61 GiB heap, 0.0/7.8 GiB objects (0.0/1.0 accelerator_type:G)\n",
      "Result logdir: /home/allenwu/Desktop/work/MARLlib-1.0.3/exp_results/happo_gru_CityLearn_5e-07_0.0005_APPEND-DATA_seed-2\n",
      "Number of trials: 1/1 (1 RUNNING)\n",
      "\n",
      "\n"
     ]
    },
    {
     "name": "stderr",
     "output_type": "stream",
     "text": [
      "/home/allenwu/anaconda3/envs/marllib/lib/python3.8/site-packages/ray/rllib/utils/metrics/learner_info.py:64: RuntimeWarning: Mean of empty slice\n",
      "  lambda *s: None if s[0] is None else np.nanmean(s, axis=0),\n",
      "/home/allenwu/anaconda3/envs/marllib/lib/python3.8/site-packages/ray/rllib/utils/metrics/learner_info.py:64: RuntimeWarning: Mean of empty slice\n",
      "  lambda *s: None if s[0] is None else np.nanmean(s, axis=0),\n",
      "/home/allenwu/anaconda3/envs/marllib/lib/python3.8/site-packages/ray/rllib/utils/metrics/learner_info.py:64: RuntimeWarning: Mean of empty slice\n",
      "  lambda *s: None if s[0] is None else np.nanmean(s, axis=0),\n",
      "/home/allenwu/anaconda3/envs/marllib/lib/python3.8/site-packages/ray/rllib/utils/metrics/learner_info.py:64: RuntimeWarning: Mean of empty slice\n",
      "  lambda *s: None if s[0] is None else np.nanmean(s, axis=0),\n",
      "/home/allenwu/anaconda3/envs/marllib/lib/python3.8/site-packages/ray/rllib/utils/metrics/learner_info.py:64: RuntimeWarning: Mean of empty slice\n",
      "  lambda *s: None if s[0] is None else np.nanmean(s, axis=0),\n",
      "/home/allenwu/anaconda3/envs/marllib/lib/python3.8/site-packages/ray/rllib/utils/metrics/learner_info.py:64: RuntimeWarning: Mean of empty slice\n",
      "  lambda *s: None if s[0] is None else np.nanmean(s, axis=0),\n",
      "/home/allenwu/anaconda3/envs/marllib/lib/python3.8/site-packages/ray/rllib/utils/metrics/learner_info.py:64: RuntimeWarning: Mean of empty slice\n",
      "  lambda *s: None if s[0] is None else np.nanmean(s, axis=0),\n",
      "/home/allenwu/anaconda3/envs/marllib/lib/python3.8/site-packages/ray/rllib/utils/metrics/learner_info.py:64: RuntimeWarning: Mean of empty slice\n",
      "  lambda *s: None if s[0] is None else np.nanmean(s, axis=0),\n",
      "/home/allenwu/anaconda3/envs/marllib/lib/python3.8/site-packages/ray/rllib/utils/metrics/learner_info.py:64: RuntimeWarning: Mean of empty slice\n",
      "  lambda *s: None if s[0] is None else np.nanmean(s, axis=0),\n",
      "/home/allenwu/anaconda3/envs/marllib/lib/python3.8/site-packages/ray/rllib/utils/metrics/learner_info.py:64: RuntimeWarning: Mean of empty slice\n",
      "  lambda *s: None if s[0] is None else np.nanmean(s, axis=0),\n"
     ]
    },
    {
     "name": "stdout",
     "output_type": "stream",
     "text": [
      "== Status ==\n",
      "Current time: 2023-09-21 02:00:58 (running for 00:17:49.69)\n",
      "Memory usage on this node: 12.6/31.2 GiB\n",
      "Using FIFO scheduling algorithm.\n",
      "Resources requested: 3.0/24 CPUs, 1.0/0 GPUs, 0.0/15.61 GiB heap, 0.0/7.8 GiB objects (0.0/1.0 accelerator_type:G)\n",
      "Result logdir: /home/allenwu/Desktop/work/MARLlib-1.0.3/exp_results/happo_gru_CityLearn_5e-07_0.0005_APPEND-DATA_seed-2\n",
      "Number of trials: 1/1 (1 RUNNING)\n",
      "\n",
      "\n"
     ]
    },
    {
     "name": "stderr",
     "output_type": "stream",
     "text": [
      "/home/allenwu/anaconda3/envs/marllib/lib/python3.8/site-packages/ray/rllib/utils/metrics/learner_info.py:64: RuntimeWarning: Mean of empty slice\n",
      "  lambda *s: None if s[0] is None else np.nanmean(s, axis=0),\n",
      "/home/allenwu/anaconda3/envs/marllib/lib/python3.8/site-packages/ray/rllib/utils/metrics/learner_info.py:64: RuntimeWarning: Mean of empty slice\n",
      "  lambda *s: None if s[0] is None else np.nanmean(s, axis=0),\n",
      "/home/allenwu/anaconda3/envs/marllib/lib/python3.8/site-packages/ray/rllib/utils/metrics/learner_info.py:64: RuntimeWarning: Mean of empty slice\n",
      "  lambda *s: None if s[0] is None else np.nanmean(s, axis=0),\n",
      "/home/allenwu/anaconda3/envs/marllib/lib/python3.8/site-packages/ray/rllib/utils/metrics/learner_info.py:64: RuntimeWarning: Mean of empty slice\n",
      "  lambda *s: None if s[0] is None else np.nanmean(s, axis=0),\n",
      "/home/allenwu/anaconda3/envs/marllib/lib/python3.8/site-packages/ray/rllib/utils/metrics/learner_info.py:64: RuntimeWarning: Mean of empty slice\n",
      "  lambda *s: None if s[0] is None else np.nanmean(s, axis=0),\n",
      "/home/allenwu/anaconda3/envs/marllib/lib/python3.8/site-packages/ray/rllib/utils/metrics/learner_info.py:64: RuntimeWarning: Mean of empty slice\n",
      "  lambda *s: None if s[0] is None else np.nanmean(s, axis=0),\n",
      "/home/allenwu/anaconda3/envs/marllib/lib/python3.8/site-packages/ray/rllib/utils/metrics/learner_info.py:64: RuntimeWarning: Mean of empty slice\n",
      "  lambda *s: None if s[0] is None else np.nanmean(s, axis=0),\n"
     ]
    },
    {
     "name": "stdout",
     "output_type": "stream",
     "text": [
      "== Status ==\n",
      "Current time: 2023-09-21 02:01:03 (running for 00:17:55.03)\n",
      "Memory usage on this node: 12.7/31.2 GiB\n",
      "Using FIFO scheduling algorithm.\n",
      "Resources requested: 3.0/24 CPUs, 1.0/0 GPUs, 0.0/15.61 GiB heap, 0.0/7.8 GiB objects (0.0/1.0 accelerator_type:G)\n",
      "Result logdir: /home/allenwu/Desktop/work/MARLlib-1.0.3/exp_results/happo_gru_CityLearn_5e-07_0.0005_APPEND-DATA_seed-2\n",
      "Number of trials: 1/1 (1 RUNNING)\n",
      "\n",
      "\n"
     ]
    },
    {
     "name": "stderr",
     "output_type": "stream",
     "text": [
      "/home/allenwu/anaconda3/envs/marllib/lib/python3.8/site-packages/ray/rllib/utils/metrics/learner_info.py:64: RuntimeWarning: Mean of empty slice\n",
      "  lambda *s: None if s[0] is None else np.nanmean(s, axis=0),\n",
      "/home/allenwu/anaconda3/envs/marllib/lib/python3.8/site-packages/ray/rllib/utils/metrics/learner_info.py:64: RuntimeWarning: Mean of empty slice\n",
      "  lambda *s: None if s[0] is None else np.nanmean(s, axis=0),\n",
      "/home/allenwu/anaconda3/envs/marllib/lib/python3.8/site-packages/ray/rllib/utils/metrics/learner_info.py:64: RuntimeWarning: Mean of empty slice\n",
      "  lambda *s: None if s[0] is None else np.nanmean(s, axis=0),\n",
      "/home/allenwu/anaconda3/envs/marllib/lib/python3.8/site-packages/ray/rllib/utils/metrics/learner_info.py:64: RuntimeWarning: Mean of empty slice\n",
      "  lambda *s: None if s[0] is None else np.nanmean(s, axis=0),\n",
      "/home/allenwu/anaconda3/envs/marllib/lib/python3.8/site-packages/ray/rllib/utils/metrics/learner_info.py:64: RuntimeWarning: Mean of empty slice\n",
      "  lambda *s: None if s[0] is None else np.nanmean(s, axis=0),\n",
      "/home/allenwu/anaconda3/envs/marllib/lib/python3.8/site-packages/ray/rllib/utils/metrics/learner_info.py:64: RuntimeWarning: Mean of empty slice\n",
      "  lambda *s: None if s[0] is None else np.nanmean(s, axis=0),\n",
      "/home/allenwu/anaconda3/envs/marllib/lib/python3.8/site-packages/ray/rllib/utils/metrics/learner_info.py:64: RuntimeWarning: Mean of empty slice\n",
      "  lambda *s: None if s[0] is None else np.nanmean(s, axis=0),\n",
      "/home/allenwu/anaconda3/envs/marllib/lib/python3.8/site-packages/ray/rllib/utils/metrics/learner_info.py:64: RuntimeWarning: Mean of empty slice\n",
      "  lambda *s: None if s[0] is None else np.nanmean(s, axis=0),\n"
     ]
    },
    {
     "name": "stdout",
     "output_type": "stream",
     "text": [
      "== Status ==\n",
      "Current time: 2023-09-21 02:01:09 (running for 00:18:00.34)\n",
      "Memory usage on this node: 12.7/31.2 GiB\n",
      "Using FIFO scheduling algorithm.\n",
      "Resources requested: 3.0/24 CPUs, 1.0/0 GPUs, 0.0/15.61 GiB heap, 0.0/7.8 GiB objects (0.0/1.0 accelerator_type:G)\n",
      "Result logdir: /home/allenwu/Desktop/work/MARLlib-1.0.3/exp_results/happo_gru_CityLearn_5e-07_0.0005_APPEND-DATA_seed-2\n",
      "Number of trials: 1/1 (1 RUNNING)\n",
      "\n",
      "\n"
     ]
    },
    {
     "name": "stderr",
     "output_type": "stream",
     "text": [
      "/home/allenwu/anaconda3/envs/marllib/lib/python3.8/site-packages/ray/rllib/utils/metrics/learner_info.py:64: RuntimeWarning: Mean of empty slice\n",
      "  lambda *s: None if s[0] is None else np.nanmean(s, axis=0),\n",
      "/home/allenwu/anaconda3/envs/marllib/lib/python3.8/site-packages/ray/rllib/utils/metrics/learner_info.py:64: RuntimeWarning: Mean of empty slice\n",
      "  lambda *s: None if s[0] is None else np.nanmean(s, axis=0),\n",
      "/home/allenwu/anaconda3/envs/marllib/lib/python3.8/site-packages/ray/rllib/utils/metrics/learner_info.py:64: RuntimeWarning: Mean of empty slice\n",
      "  lambda *s: None if s[0] is None else np.nanmean(s, axis=0),\n",
      "/home/allenwu/anaconda3/envs/marllib/lib/python3.8/site-packages/ray/rllib/utils/metrics/learner_info.py:64: RuntimeWarning: Mean of empty slice\n",
      "  lambda *s: None if s[0] is None else np.nanmean(s, axis=0),\n",
      "/home/allenwu/anaconda3/envs/marllib/lib/python3.8/site-packages/ray/rllib/utils/metrics/learner_info.py:64: RuntimeWarning: Mean of empty slice\n",
      "  lambda *s: None if s[0] is None else np.nanmean(s, axis=0),\n",
      "2023-09-21 02:01:13,590\tWARNING ray_trial_executor.py:768 -- Over the last 60 seconds, the Tune event loop has been backlogged processing new results. Consider increasing your period of result reporting to improve performance.\n",
      "/home/allenwu/anaconda3/envs/marllib/lib/python3.8/site-packages/ray/rllib/utils/metrics/learner_info.py:64: RuntimeWarning: Mean of empty slice\n",
      "  lambda *s: None if s[0] is None else np.nanmean(s, axis=0),\n",
      "/home/allenwu/anaconda3/envs/marllib/lib/python3.8/site-packages/ray/rllib/utils/metrics/learner_info.py:64: RuntimeWarning: Mean of empty slice\n",
      "  lambda *s: None if s[0] is None else np.nanmean(s, axis=0),\n"
     ]
    },
    {
     "name": "stdout",
     "output_type": "stream",
     "text": [
      "== Status ==\n",
      "Current time: 2023-09-21 02:01:14 (running for 00:18:05.76)\n",
      "Memory usage on this node: 12.7/31.2 GiB\n",
      "Using FIFO scheduling algorithm.\n",
      "Resources requested: 3.0/24 CPUs, 1.0/0 GPUs, 0.0/15.61 GiB heap, 0.0/7.8 GiB objects (0.0/1.0 accelerator_type:G)\n",
      "Result logdir: /home/allenwu/Desktop/work/MARLlib-1.0.3/exp_results/happo_gru_CityLearn_5e-07_0.0005_APPEND-DATA_seed-2\n",
      "Number of trials: 1/1 (1 RUNNING)\n",
      "\n",
      "\n"
     ]
    },
    {
     "name": "stderr",
     "output_type": "stream",
     "text": [
      "/home/allenwu/anaconda3/envs/marllib/lib/python3.8/site-packages/ray/rllib/utils/metrics/learner_info.py:64: RuntimeWarning: Mean of empty slice\n",
      "  lambda *s: None if s[0] is None else np.nanmean(s, axis=0),\n",
      "/home/allenwu/anaconda3/envs/marllib/lib/python3.8/site-packages/ray/rllib/utils/metrics/learner_info.py:64: RuntimeWarning: Mean of empty slice\n",
      "  lambda *s: None if s[0] is None else np.nanmean(s, axis=0),\n",
      "/home/allenwu/anaconda3/envs/marllib/lib/python3.8/site-packages/ray/rllib/utils/metrics/learner_info.py:64: RuntimeWarning: Mean of empty slice\n",
      "  lambda *s: None if s[0] is None else np.nanmean(s, axis=0),\n",
      "/home/allenwu/anaconda3/envs/marllib/lib/python3.8/site-packages/ray/rllib/utils/metrics/learner_info.py:64: RuntimeWarning: Mean of empty slice\n",
      "  lambda *s: None if s[0] is None else np.nanmean(s, axis=0),\n",
      "/home/allenwu/anaconda3/envs/marllib/lib/python3.8/site-packages/ray/rllib/utils/metrics/learner_info.py:64: RuntimeWarning: Mean of empty slice\n",
      "  lambda *s: None if s[0] is None else np.nanmean(s, axis=0),\n",
      "/home/allenwu/anaconda3/envs/marllib/lib/python3.8/site-packages/ray/rllib/utils/metrics/learner_info.py:64: RuntimeWarning: Mean of empty slice\n",
      "  lambda *s: None if s[0] is None else np.nanmean(s, axis=0),\n",
      "/home/allenwu/anaconda3/envs/marllib/lib/python3.8/site-packages/ray/rllib/utils/metrics/learner_info.py:64: RuntimeWarning: Mean of empty slice\n",
      "  lambda *s: None if s[0] is None else np.nanmean(s, axis=0),\n"
     ]
    },
    {
     "name": "stdout",
     "output_type": "stream",
     "text": [
      "== Status ==\n",
      "Current time: 2023-09-21 02:01:19 (running for 00:18:11.16)\n",
      "Memory usage on this node: 12.8/31.2 GiB\n",
      "Using FIFO scheduling algorithm.\n",
      "Resources requested: 3.0/24 CPUs, 1.0/0 GPUs, 0.0/15.61 GiB heap, 0.0/7.8 GiB objects (0.0/1.0 accelerator_type:G)\n",
      "Result logdir: /home/allenwu/Desktop/work/MARLlib-1.0.3/exp_results/happo_gru_CityLearn_5e-07_0.0005_APPEND-DATA_seed-2\n",
      "Number of trials: 1/1 (1 RUNNING)\n",
      "\n",
      "\n"
     ]
    },
    {
     "name": "stderr",
     "output_type": "stream",
     "text": [
      "/home/allenwu/anaconda3/envs/marllib/lib/python3.8/site-packages/ray/rllib/utils/metrics/learner_info.py:64: RuntimeWarning: Mean of empty slice\n",
      "  lambda *s: None if s[0] is None else np.nanmean(s, axis=0),\n",
      "/home/allenwu/anaconda3/envs/marllib/lib/python3.8/site-packages/ray/rllib/utils/metrics/learner_info.py:64: RuntimeWarning: Mean of empty slice\n",
      "  lambda *s: None if s[0] is None else np.nanmean(s, axis=0),\n",
      "/home/allenwu/anaconda3/envs/marllib/lib/python3.8/site-packages/ray/rllib/utils/metrics/learner_info.py:64: RuntimeWarning: Mean of empty slice\n",
      "  lambda *s: None if s[0] is None else np.nanmean(s, axis=0),\n",
      "/home/allenwu/anaconda3/envs/marllib/lib/python3.8/site-packages/ray/rllib/utils/metrics/learner_info.py:64: RuntimeWarning: Mean of empty slice\n",
      "  lambda *s: None if s[0] is None else np.nanmean(s, axis=0),\n",
      "/home/allenwu/anaconda3/envs/marllib/lib/python3.8/site-packages/ray/rllib/utils/metrics/learner_info.py:64: RuntimeWarning: Mean of empty slice\n",
      "  lambda *s: None if s[0] is None else np.nanmean(s, axis=0),\n",
      "/home/allenwu/anaconda3/envs/marllib/lib/python3.8/site-packages/ray/rllib/utils/metrics/learner_info.py:64: RuntimeWarning: Mean of empty slice\n",
      "  lambda *s: None if s[0] is None else np.nanmean(s, axis=0),\n"
     ]
    },
    {
     "name": "stdout",
     "output_type": "stream",
     "text": [
      "== Status ==\n",
      "Current time: 2023-09-21 02:01:25 (running for 00:18:16.56)\n",
      "Memory usage on this node: 12.8/31.2 GiB\n",
      "Using FIFO scheduling algorithm.\n",
      "Resources requested: 3.0/24 CPUs, 1.0/0 GPUs, 0.0/15.61 GiB heap, 0.0/7.8 GiB objects (0.0/1.0 accelerator_type:G)\n",
      "Result logdir: /home/allenwu/Desktop/work/MARLlib-1.0.3/exp_results/happo_gru_CityLearn_5e-07_0.0005_APPEND-DATA_seed-2\n",
      "Number of trials: 1/1 (1 RUNNING)\n",
      "\n",
      "\n"
     ]
    },
    {
     "name": "stderr",
     "output_type": "stream",
     "text": [
      "/home/allenwu/anaconda3/envs/marllib/lib/python3.8/site-packages/ray/rllib/utils/metrics/learner_info.py:64: RuntimeWarning: Mean of empty slice\n",
      "  lambda *s: None if s[0] is None else np.nanmean(s, axis=0),\n",
      "/home/allenwu/anaconda3/envs/marllib/lib/python3.8/site-packages/ray/rllib/utils/metrics/learner_info.py:64: RuntimeWarning: Mean of empty slice\n",
      "  lambda *s: None if s[0] is None else np.nanmean(s, axis=0),\n",
      "/home/allenwu/anaconda3/envs/marllib/lib/python3.8/site-packages/ray/rllib/utils/metrics/learner_info.py:64: RuntimeWarning: Mean of empty slice\n",
      "  lambda *s: None if s[0] is None else np.nanmean(s, axis=0),\n",
      "/home/allenwu/anaconda3/envs/marllib/lib/python3.8/site-packages/ray/rllib/utils/metrics/learner_info.py:64: RuntimeWarning: Mean of empty slice\n",
      "  lambda *s: None if s[0] is None else np.nanmean(s, axis=0),\n",
      "/home/allenwu/anaconda3/envs/marllib/lib/python3.8/site-packages/ray/rllib/utils/metrics/learner_info.py:64: RuntimeWarning: Mean of empty slice\n",
      "  lambda *s: None if s[0] is None else np.nanmean(s, axis=0),\n",
      "/home/allenwu/anaconda3/envs/marllib/lib/python3.8/site-packages/ray/rllib/utils/metrics/learner_info.py:64: RuntimeWarning: Mean of empty slice\n",
      "  lambda *s: None if s[0] is None else np.nanmean(s, axis=0),\n",
      "/home/allenwu/anaconda3/envs/marllib/lib/python3.8/site-packages/ray/rllib/utils/metrics/learner_info.py:64: RuntimeWarning: Mean of empty slice\n",
      "  lambda *s: None if s[0] is None else np.nanmean(s, axis=0),\n"
     ]
    },
    {
     "name": "stdout",
     "output_type": "stream",
     "text": [
      "== Status ==\n",
      "Current time: 2023-09-21 02:01:30 (running for 00:18:21.98)\n",
      "Memory usage on this node: 12.8/31.2 GiB\n",
      "Using FIFO scheduling algorithm.\n",
      "Resources requested: 3.0/24 CPUs, 1.0/0 GPUs, 0.0/15.61 GiB heap, 0.0/7.8 GiB objects (0.0/1.0 accelerator_type:G)\n",
      "Result logdir: /home/allenwu/Desktop/work/MARLlib-1.0.3/exp_results/happo_gru_CityLearn_5e-07_0.0005_APPEND-DATA_seed-2\n",
      "Number of trials: 1/1 (1 RUNNING)\n",
      "\n",
      "\n"
     ]
    },
    {
     "name": "stderr",
     "output_type": "stream",
     "text": [
      "/home/allenwu/anaconda3/envs/marllib/lib/python3.8/site-packages/ray/rllib/utils/metrics/learner_info.py:64: RuntimeWarning: Mean of empty slice\n",
      "  lambda *s: None if s[0] is None else np.nanmean(s, axis=0),\n",
      "/home/allenwu/anaconda3/envs/marllib/lib/python3.8/site-packages/ray/rllib/utils/metrics/learner_info.py:64: RuntimeWarning: Mean of empty slice\n",
      "  lambda *s: None if s[0] is None else np.nanmean(s, axis=0),\n",
      "/home/allenwu/anaconda3/envs/marllib/lib/python3.8/site-packages/ray/rllib/utils/metrics/learner_info.py:64: RuntimeWarning: Mean of empty slice\n",
      "  lambda *s: None if s[0] is None else np.nanmean(s, axis=0),\n",
      "/home/allenwu/anaconda3/envs/marllib/lib/python3.8/site-packages/ray/rllib/utils/metrics/learner_info.py:64: RuntimeWarning: Mean of empty slice\n",
      "  lambda *s: None if s[0] is None else np.nanmean(s, axis=0),\n",
      "/home/allenwu/anaconda3/envs/marllib/lib/python3.8/site-packages/ray/rllib/utils/metrics/learner_info.py:64: RuntimeWarning: Mean of empty slice\n",
      "  lambda *s: None if s[0] is None else np.nanmean(s, axis=0),\n",
      "/home/allenwu/anaconda3/envs/marllib/lib/python3.8/site-packages/ray/rllib/utils/metrics/learner_info.py:64: RuntimeWarning: Mean of empty slice\n",
      "  lambda *s: None if s[0] is None else np.nanmean(s, axis=0),\n",
      "/home/allenwu/anaconda3/envs/marllib/lib/python3.8/site-packages/ray/rllib/utils/metrics/learner_info.py:64: RuntimeWarning: Mean of empty slice\n",
      "  lambda *s: None if s[0] is None else np.nanmean(s, axis=0),\n",
      "/home/allenwu/anaconda3/envs/marllib/lib/python3.8/site-packages/ray/rllib/utils/metrics/learner_info.py:64: RuntimeWarning: Mean of empty slice\n",
      "  lambda *s: None if s[0] is None else np.nanmean(s, axis=0),\n"
     ]
    },
    {
     "name": "stdout",
     "output_type": "stream",
     "text": [
      "== Status ==\n",
      "Current time: 2023-09-21 02:01:36 (running for 00:18:27.39)\n",
      "Memory usage on this node: 12.9/31.2 GiB\n",
      "Using FIFO scheduling algorithm.\n",
      "Resources requested: 3.0/24 CPUs, 1.0/0 GPUs, 0.0/15.61 GiB heap, 0.0/7.8 GiB objects (0.0/1.0 accelerator_type:G)\n",
      "Result logdir: /home/allenwu/Desktop/work/MARLlib-1.0.3/exp_results/happo_gru_CityLearn_5e-07_0.0005_APPEND-DATA_seed-2\n",
      "Number of trials: 1/1 (1 RUNNING)\n",
      "\n",
      "\n"
     ]
    },
    {
     "name": "stderr",
     "output_type": "stream",
     "text": [
      "/home/allenwu/anaconda3/envs/marllib/lib/python3.8/site-packages/ray/rllib/utils/metrics/learner_info.py:64: RuntimeWarning: Mean of empty slice\n",
      "  lambda *s: None if s[0] is None else np.nanmean(s, axis=0),\n",
      "/home/allenwu/anaconda3/envs/marllib/lib/python3.8/site-packages/ray/rllib/utils/metrics/learner_info.py:64: RuntimeWarning: Mean of empty slice\n",
      "  lambda *s: None if s[0] is None else np.nanmean(s, axis=0),\n",
      "/home/allenwu/anaconda3/envs/marllib/lib/python3.8/site-packages/ray/rllib/utils/metrics/learner_info.py:64: RuntimeWarning: Mean of empty slice\n",
      "  lambda *s: None if s[0] is None else np.nanmean(s, axis=0),\n",
      "/home/allenwu/anaconda3/envs/marllib/lib/python3.8/site-packages/ray/rllib/utils/metrics/learner_info.py:64: RuntimeWarning: Mean of empty slice\n",
      "  lambda *s: None if s[0] is None else np.nanmean(s, axis=0),\n",
      "/home/allenwu/anaconda3/envs/marllib/lib/python3.8/site-packages/ray/rllib/utils/metrics/learner_info.py:64: RuntimeWarning: Mean of empty slice\n",
      "  lambda *s: None if s[0] is None else np.nanmean(s, axis=0),\n"
     ]
    },
    {
     "name": "stdout",
     "output_type": "stream",
     "text": [
      "== Status ==\n",
      "Current time: 2023-09-21 02:01:41 (running for 00:18:32.41)\n",
      "Memory usage on this node: 12.9/31.2 GiB\n",
      "Using FIFO scheduling algorithm.\n",
      "Resources requested: 3.0/24 CPUs, 1.0/0 GPUs, 0.0/15.61 GiB heap, 0.0/7.8 GiB objects (0.0/1.0 accelerator_type:G)\n",
      "Result logdir: /home/allenwu/Desktop/work/MARLlib-1.0.3/exp_results/happo_gru_CityLearn_5e-07_0.0005_APPEND-DATA_seed-2\n",
      "Number of trials: 1/1 (1 RUNNING)\n",
      "\n",
      "\n"
     ]
    },
    {
     "name": "stderr",
     "output_type": "stream",
     "text": [
      "/home/allenwu/anaconda3/envs/marllib/lib/python3.8/site-packages/ray/rllib/utils/metrics/learner_info.py:64: RuntimeWarning: Mean of empty slice\n",
      "  lambda *s: None if s[0] is None else np.nanmean(s, axis=0),\n",
      "/home/allenwu/anaconda3/envs/marllib/lib/python3.8/site-packages/ray/rllib/utils/metrics/learner_info.py:64: RuntimeWarning: Mean of empty slice\n",
      "  lambda *s: None if s[0] is None else np.nanmean(s, axis=0),\n",
      "/home/allenwu/anaconda3/envs/marllib/lib/python3.8/site-packages/ray/rllib/utils/metrics/learner_info.py:64: RuntimeWarning: Mean of empty slice\n",
      "  lambda *s: None if s[0] is None else np.nanmean(s, axis=0),\n",
      "/home/allenwu/anaconda3/envs/marllib/lib/python3.8/site-packages/ray/rllib/utils/metrics/learner_info.py:64: RuntimeWarning: Mean of empty slice\n",
      "  lambda *s: None if s[0] is None else np.nanmean(s, axis=0),\n",
      "/home/allenwu/anaconda3/envs/marllib/lib/python3.8/site-packages/ray/rllib/utils/metrics/learner_info.py:64: RuntimeWarning: Mean of empty slice\n",
      "  lambda *s: None if s[0] is None else np.nanmean(s, axis=0),\n",
      "/home/allenwu/anaconda3/envs/marllib/lib/python3.8/site-packages/ray/rllib/utils/metrics/learner_info.py:64: RuntimeWarning: Mean of empty slice\n",
      "  lambda *s: None if s[0] is None else np.nanmean(s, axis=0),\n",
      "/home/allenwu/anaconda3/envs/marllib/lib/python3.8/site-packages/ray/rllib/utils/metrics/learner_info.py:64: RuntimeWarning: Mean of empty slice\n",
      "  lambda *s: None if s[0] is None else np.nanmean(s, axis=0),\n"
     ]
    },
    {
     "name": "stdout",
     "output_type": "stream",
     "text": [
      "== Status ==\n",
      "Current time: 2023-09-21 02:01:46 (running for 00:18:37.87)\n",
      "Memory usage on this node: 12.9/31.2 GiB\n",
      "Using FIFO scheduling algorithm.\n",
      "Resources requested: 3.0/24 CPUs, 1.0/0 GPUs, 0.0/15.61 GiB heap, 0.0/7.8 GiB objects (0.0/1.0 accelerator_type:G)\n",
      "Result logdir: /home/allenwu/Desktop/work/MARLlib-1.0.3/exp_results/happo_gru_CityLearn_5e-07_0.0005_APPEND-DATA_seed-2\n",
      "Number of trials: 1/1 (1 RUNNING)\n",
      "\n",
      "\n"
     ]
    },
    {
     "name": "stderr",
     "output_type": "stream",
     "text": [
      "/home/allenwu/anaconda3/envs/marllib/lib/python3.8/site-packages/ray/rllib/utils/metrics/learner_info.py:64: RuntimeWarning: Mean of empty slice\n",
      "  lambda *s: None if s[0] is None else np.nanmean(s, axis=0),\n",
      "/home/allenwu/anaconda3/envs/marllib/lib/python3.8/site-packages/ray/rllib/utils/metrics/learner_info.py:64: RuntimeWarning: Mean of empty slice\n",
      "  lambda *s: None if s[0] is None else np.nanmean(s, axis=0),\n",
      "/home/allenwu/anaconda3/envs/marllib/lib/python3.8/site-packages/ray/rllib/utils/metrics/learner_info.py:64: RuntimeWarning: Mean of empty slice\n",
      "  lambda *s: None if s[0] is None else np.nanmean(s, axis=0),\n",
      "/home/allenwu/anaconda3/envs/marllib/lib/python3.8/site-packages/ray/rllib/utils/metrics/learner_info.py:64: RuntimeWarning: Mean of empty slice\n",
      "  lambda *s: None if s[0] is None else np.nanmean(s, axis=0),\n",
      "/home/allenwu/anaconda3/envs/marllib/lib/python3.8/site-packages/ray/rllib/utils/metrics/learner_info.py:64: RuntimeWarning: Mean of empty slice\n",
      "  lambda *s: None if s[0] is None else np.nanmean(s, axis=0),\n",
      "/home/allenwu/anaconda3/envs/marllib/lib/python3.8/site-packages/ray/rllib/utils/metrics/learner_info.py:64: RuntimeWarning: Mean of empty slice\n",
      "  lambda *s: None if s[0] is None else np.nanmean(s, axis=0),\n"
     ]
    },
    {
     "name": "stdout",
     "output_type": "stream",
     "text": [
      "== Status ==\n",
      "Current time: 2023-09-21 02:01:51 (running for 00:18:43.11)\n",
      "Memory usage on this node: 12.9/31.2 GiB\n",
      "Using FIFO scheduling algorithm.\n",
      "Resources requested: 3.0/24 CPUs, 1.0/0 GPUs, 0.0/15.61 GiB heap, 0.0/7.8 GiB objects (0.0/1.0 accelerator_type:G)\n",
      "Result logdir: /home/allenwu/Desktop/work/MARLlib-1.0.3/exp_results/happo_gru_CityLearn_5e-07_0.0005_APPEND-DATA_seed-2\n",
      "Number of trials: 1/1 (1 RUNNING)\n",
      "\n",
      "\n"
     ]
    },
    {
     "name": "stderr",
     "output_type": "stream",
     "text": [
      "/home/allenwu/anaconda3/envs/marllib/lib/python3.8/site-packages/ray/rllib/utils/metrics/learner_info.py:64: RuntimeWarning: Mean of empty slice\n",
      "  lambda *s: None if s[0] is None else np.nanmean(s, axis=0),\n",
      "/home/allenwu/anaconda3/envs/marllib/lib/python3.8/site-packages/ray/rllib/utils/metrics/learner_info.py:64: RuntimeWarning: Mean of empty slice\n",
      "  lambda *s: None if s[0] is None else np.nanmean(s, axis=0),\n",
      "/home/allenwu/anaconda3/envs/marllib/lib/python3.8/site-packages/ray/rllib/utils/metrics/learner_info.py:64: RuntimeWarning: Mean of empty slice\n",
      "  lambda *s: None if s[0] is None else np.nanmean(s, axis=0),\n",
      "/home/allenwu/anaconda3/envs/marllib/lib/python3.8/site-packages/ray/rllib/utils/metrics/learner_info.py:64: RuntimeWarning: Mean of empty slice\n",
      "  lambda *s: None if s[0] is None else np.nanmean(s, axis=0),\n",
      "/home/allenwu/anaconda3/envs/marllib/lib/python3.8/site-packages/ray/rllib/utils/metrics/learner_info.py:64: RuntimeWarning: Mean of empty slice\n",
      "  lambda *s: None if s[0] is None else np.nanmean(s, axis=0),\n",
      "/home/allenwu/anaconda3/envs/marllib/lib/python3.8/site-packages/ray/rllib/utils/metrics/learner_info.py:64: RuntimeWarning: Mean of empty slice\n",
      "  lambda *s: None if s[0] is None else np.nanmean(s, axis=0),\n",
      "/home/allenwu/anaconda3/envs/marllib/lib/python3.8/site-packages/ray/rllib/utils/metrics/learner_info.py:64: RuntimeWarning: Mean of empty slice\n",
      "  lambda *s: None if s[0] is None else np.nanmean(s, axis=0),\n",
      "/home/allenwu/anaconda3/envs/marllib/lib/python3.8/site-packages/ray/rllib/utils/metrics/learner_info.py:64: RuntimeWarning: Mean of empty slice\n",
      "  lambda *s: None if s[0] is None else np.nanmean(s, axis=0),\n"
     ]
    },
    {
     "name": "stdout",
     "output_type": "stream",
     "text": [
      "== Status ==\n",
      "Current time: 2023-09-21 02:01:57 (running for 00:18:48.37)\n",
      "Memory usage on this node: 13.0/31.2 GiB\n",
      "Using FIFO scheduling algorithm.\n",
      "Resources requested: 3.0/24 CPUs, 1.0/0 GPUs, 0.0/15.61 GiB heap, 0.0/7.8 GiB objects (0.0/1.0 accelerator_type:G)\n",
      "Result logdir: /home/allenwu/Desktop/work/MARLlib-1.0.3/exp_results/happo_gru_CityLearn_5e-07_0.0005_APPEND-DATA_seed-2\n",
      "Number of trials: 1/1 (1 RUNNING)\n",
      "\n",
      "\n"
     ]
    },
    {
     "name": "stderr",
     "output_type": "stream",
     "text": [
      "/home/allenwu/anaconda3/envs/marllib/lib/python3.8/site-packages/ray/rllib/utils/metrics/learner_info.py:64: RuntimeWarning: Mean of empty slice\n",
      "  lambda *s: None if s[0] is None else np.nanmean(s, axis=0),\n",
      "/home/allenwu/anaconda3/envs/marllib/lib/python3.8/site-packages/ray/rllib/utils/metrics/learner_info.py:64: RuntimeWarning: Mean of empty slice\n",
      "  lambda *s: None if s[0] is None else np.nanmean(s, axis=0),\n",
      "/home/allenwu/anaconda3/envs/marllib/lib/python3.8/site-packages/ray/rllib/utils/metrics/learner_info.py:64: RuntimeWarning: Mean of empty slice\n",
      "  lambda *s: None if s[0] is None else np.nanmean(s, axis=0),\n",
      "/home/allenwu/anaconda3/envs/marllib/lib/python3.8/site-packages/ray/rllib/utils/metrics/learner_info.py:64: RuntimeWarning: Mean of empty slice\n",
      "  lambda *s: None if s[0] is None else np.nanmean(s, axis=0),\n",
      "/home/allenwu/anaconda3/envs/marllib/lib/python3.8/site-packages/ray/rllib/utils/metrics/learner_info.py:64: RuntimeWarning: Mean of empty slice\n",
      "  lambda *s: None if s[0] is None else np.nanmean(s, axis=0),\n",
      "/home/allenwu/anaconda3/envs/marllib/lib/python3.8/site-packages/ray/rllib/utils/metrics/learner_info.py:64: RuntimeWarning: Mean of empty slice\n",
      "  lambda *s: None if s[0] is None else np.nanmean(s, axis=0),\n",
      "/home/allenwu/anaconda3/envs/marllib/lib/python3.8/site-packages/ray/rllib/utils/metrics/learner_info.py:64: RuntimeWarning: Mean of empty slice\n",
      "  lambda *s: None if s[0] is None else np.nanmean(s, axis=0),\n",
      "/home/allenwu/anaconda3/envs/marllib/lib/python3.8/site-packages/ray/rllib/utils/metrics/learner_info.py:64: RuntimeWarning: Mean of empty slice\n",
      "  lambda *s: None if s[0] is None else np.nanmean(s, axis=0),\n"
     ]
    },
    {
     "name": "stdout",
     "output_type": "stream",
     "text": [
      "== Status ==\n",
      "Current time: 2023-09-21 02:02:02 (running for 00:18:53.69)\n",
      "Memory usage on this node: 13.0/31.2 GiB\n",
      "Using FIFO scheduling algorithm.\n",
      "Resources requested: 3.0/24 CPUs, 1.0/0 GPUs, 0.0/15.61 GiB heap, 0.0/7.8 GiB objects (0.0/1.0 accelerator_type:G)\n",
      "Result logdir: /home/allenwu/Desktop/work/MARLlib-1.0.3/exp_results/happo_gru_CityLearn_5e-07_0.0005_APPEND-DATA_seed-2\n",
      "Number of trials: 1/1 (1 RUNNING)\n",
      "\n",
      "\n"
     ]
    },
    {
     "name": "stderr",
     "output_type": "stream",
     "text": [
      "/home/allenwu/anaconda3/envs/marllib/lib/python3.8/site-packages/ray/rllib/utils/metrics/learner_info.py:64: RuntimeWarning: Mean of empty slice\n",
      "  lambda *s: None if s[0] is None else np.nanmean(s, axis=0),\n",
      "/home/allenwu/anaconda3/envs/marllib/lib/python3.8/site-packages/ray/rllib/utils/metrics/learner_info.py:64: RuntimeWarning: Mean of empty slice\n",
      "  lambda *s: None if s[0] is None else np.nanmean(s, axis=0),\n",
      "/home/allenwu/anaconda3/envs/marllib/lib/python3.8/site-packages/ray/rllib/utils/metrics/learner_info.py:64: RuntimeWarning: Mean of empty slice\n",
      "  lambda *s: None if s[0] is None else np.nanmean(s, axis=0),\n",
      "/home/allenwu/anaconda3/envs/marllib/lib/python3.8/site-packages/ray/rllib/utils/metrics/learner_info.py:64: RuntimeWarning: Mean of empty slice\n",
      "  lambda *s: None if s[0] is None else np.nanmean(s, axis=0),\n",
      "/home/allenwu/anaconda3/envs/marllib/lib/python3.8/site-packages/ray/rllib/utils/metrics/learner_info.py:64: RuntimeWarning: Mean of empty slice\n",
      "  lambda *s: None if s[0] is None else np.nanmean(s, axis=0),\n",
      "/home/allenwu/anaconda3/envs/marllib/lib/python3.8/site-packages/ray/rllib/utils/metrics/learner_info.py:64: RuntimeWarning: Mean of empty slice\n",
      "  lambda *s: None if s[0] is None else np.nanmean(s, axis=0),\n",
      "/home/allenwu/anaconda3/envs/marllib/lib/python3.8/site-packages/ray/rllib/utils/metrics/learner_info.py:64: RuntimeWarning: Mean of empty slice\n",
      "  lambda *s: None if s[0] is None else np.nanmean(s, axis=0),\n",
      "/home/allenwu/anaconda3/envs/marllib/lib/python3.8/site-packages/ray/rllib/utils/metrics/learner_info.py:64: RuntimeWarning: Mean of empty slice\n",
      "  lambda *s: None if s[0] is None else np.nanmean(s, axis=0),\n"
     ]
    },
    {
     "name": "stdout",
     "output_type": "stream",
     "text": [
      "== Status ==\n",
      "Current time: 2023-09-21 02:02:07 (running for 00:18:58.99)\n",
      "Memory usage on this node: 13.0/31.2 GiB\n",
      "Using FIFO scheduling algorithm.\n",
      "Resources requested: 3.0/24 CPUs, 1.0/0 GPUs, 0.0/15.61 GiB heap, 0.0/7.8 GiB objects (0.0/1.0 accelerator_type:G)\n",
      "Result logdir: /home/allenwu/Desktop/work/MARLlib-1.0.3/exp_results/happo_gru_CityLearn_5e-07_0.0005_APPEND-DATA_seed-2\n",
      "Number of trials: 1/1 (1 RUNNING)\n",
      "\n",
      "\n"
     ]
    },
    {
     "name": "stderr",
     "output_type": "stream",
     "text": [
      "/home/allenwu/anaconda3/envs/marllib/lib/python3.8/site-packages/ray/rllib/utils/metrics/learner_info.py:64: RuntimeWarning: Mean of empty slice\n",
      "  lambda *s: None if s[0] is None else np.nanmean(s, axis=0),\n",
      "/home/allenwu/anaconda3/envs/marllib/lib/python3.8/site-packages/ray/rllib/utils/metrics/learner_info.py:64: RuntimeWarning: Mean of empty slice\n",
      "  lambda *s: None if s[0] is None else np.nanmean(s, axis=0),\n",
      "/home/allenwu/anaconda3/envs/marllib/lib/python3.8/site-packages/ray/rllib/utils/metrics/learner_info.py:64: RuntimeWarning: Mean of empty slice\n",
      "  lambda *s: None if s[0] is None else np.nanmean(s, axis=0),\n",
      "/home/allenwu/anaconda3/envs/marllib/lib/python3.8/site-packages/ray/rllib/utils/metrics/learner_info.py:64: RuntimeWarning: Mean of empty slice\n",
      "  lambda *s: None if s[0] is None else np.nanmean(s, axis=0),\n",
      "/home/allenwu/anaconda3/envs/marllib/lib/python3.8/site-packages/ray/rllib/utils/metrics/learner_info.py:64: RuntimeWarning: Mean of empty slice\n",
      "  lambda *s: None if s[0] is None else np.nanmean(s, axis=0),\n",
      "/home/allenwu/anaconda3/envs/marllib/lib/python3.8/site-packages/ray/rllib/utils/metrics/learner_info.py:64: RuntimeWarning: Mean of empty slice\n",
      "  lambda *s: None if s[0] is None else np.nanmean(s, axis=0),\n",
      "/home/allenwu/anaconda3/envs/marllib/lib/python3.8/site-packages/ray/rllib/utils/metrics/learner_info.py:64: RuntimeWarning: Mean of empty slice\n",
      "  lambda *s: None if s[0] is None else np.nanmean(s, axis=0),\n"
     ]
    },
    {
     "name": "stdout",
     "output_type": "stream",
     "text": [
      "== Status ==\n",
      "Current time: 2023-09-21 02:02:13 (running for 00:19:04.26)\n",
      "Memory usage on this node: 13.1/31.2 GiB\n",
      "Using FIFO scheduling algorithm.\n",
      "Resources requested: 3.0/24 CPUs, 1.0/0 GPUs, 0.0/15.61 GiB heap, 0.0/7.8 GiB objects (0.0/1.0 accelerator_type:G)\n",
      "Result logdir: /home/allenwu/Desktop/work/MARLlib-1.0.3/exp_results/happo_gru_CityLearn_5e-07_0.0005_APPEND-DATA_seed-2\n",
      "Number of trials: 1/1 (1 RUNNING)\n",
      "\n",
      "\n"
     ]
    },
    {
     "name": "stderr",
     "output_type": "stream",
     "text": [
      "/home/allenwu/anaconda3/envs/marllib/lib/python3.8/site-packages/ray/rllib/utils/metrics/learner_info.py:64: RuntimeWarning: Mean of empty slice\n",
      "  lambda *s: None if s[0] is None else np.nanmean(s, axis=0),\n",
      "2023-09-21 02:02:13,903\tWARNING ray_trial_executor.py:768 -- Over the last 60 seconds, the Tune event loop has been backlogged processing new results. Consider increasing your period of result reporting to improve performance.\n",
      "/home/allenwu/anaconda3/envs/marllib/lib/python3.8/site-packages/ray/rllib/utils/metrics/learner_info.py:64: RuntimeWarning: Mean of empty slice\n",
      "  lambda *s: None if s[0] is None else np.nanmean(s, axis=0),\n",
      "/home/allenwu/anaconda3/envs/marllib/lib/python3.8/site-packages/ray/rllib/utils/metrics/learner_info.py:64: RuntimeWarning: Mean of empty slice\n",
      "  lambda *s: None if s[0] is None else np.nanmean(s, axis=0),\n",
      "/home/allenwu/anaconda3/envs/marllib/lib/python3.8/site-packages/ray/rllib/utils/metrics/learner_info.py:64: RuntimeWarning: Mean of empty slice\n",
      "  lambda *s: None if s[0] is None else np.nanmean(s, axis=0),\n",
      "/home/allenwu/anaconda3/envs/marllib/lib/python3.8/site-packages/ray/rllib/utils/metrics/learner_info.py:64: RuntimeWarning: Mean of empty slice\n",
      "  lambda *s: None if s[0] is None else np.nanmean(s, axis=0),\n",
      "/home/allenwu/anaconda3/envs/marllib/lib/python3.8/site-packages/ray/rllib/utils/metrics/learner_info.py:64: RuntimeWarning: Mean of empty slice\n",
      "  lambda *s: None if s[0] is None else np.nanmean(s, axis=0),\n",
      "/home/allenwu/anaconda3/envs/marllib/lib/python3.8/site-packages/ray/rllib/utils/metrics/learner_info.py:64: RuntimeWarning: Mean of empty slice\n",
      "  lambda *s: None if s[0] is None else np.nanmean(s, axis=0),\n"
     ]
    },
    {
     "name": "stdout",
     "output_type": "stream",
     "text": [
      "== Status ==\n",
      "Current time: 2023-09-21 02:02:18 (running for 00:19:09.51)\n",
      "Memory usage on this node: 13.1/31.2 GiB\n",
      "Using FIFO scheduling algorithm.\n",
      "Resources requested: 3.0/24 CPUs, 1.0/0 GPUs, 0.0/15.61 GiB heap, 0.0/7.8 GiB objects (0.0/1.0 accelerator_type:G)\n",
      "Result logdir: /home/allenwu/Desktop/work/MARLlib-1.0.3/exp_results/happo_gru_CityLearn_5e-07_0.0005_APPEND-DATA_seed-2\n",
      "Number of trials: 1/1 (1 RUNNING)\n",
      "\n",
      "\n"
     ]
    },
    {
     "name": "stderr",
     "output_type": "stream",
     "text": [
      "/home/allenwu/anaconda3/envs/marllib/lib/python3.8/site-packages/ray/rllib/utils/metrics/learner_info.py:64: RuntimeWarning: Mean of empty slice\n",
      "  lambda *s: None if s[0] is None else np.nanmean(s, axis=0),\n",
      "/home/allenwu/anaconda3/envs/marllib/lib/python3.8/site-packages/ray/rllib/utils/metrics/learner_info.py:64: RuntimeWarning: Mean of empty slice\n",
      "  lambda *s: None if s[0] is None else np.nanmean(s, axis=0),\n",
      "/home/allenwu/anaconda3/envs/marllib/lib/python3.8/site-packages/ray/rllib/utils/metrics/learner_info.py:64: RuntimeWarning: Mean of empty slice\n",
      "  lambda *s: None if s[0] is None else np.nanmean(s, axis=0),\n",
      "/home/allenwu/anaconda3/envs/marllib/lib/python3.8/site-packages/ray/rllib/utils/metrics/learner_info.py:64: RuntimeWarning: Mean of empty slice\n",
      "  lambda *s: None if s[0] is None else np.nanmean(s, axis=0),\n",
      "/home/allenwu/anaconda3/envs/marllib/lib/python3.8/site-packages/ray/rllib/utils/metrics/learner_info.py:64: RuntimeWarning: Mean of empty slice\n",
      "  lambda *s: None if s[0] is None else np.nanmean(s, axis=0),\n",
      "/home/allenwu/anaconda3/envs/marllib/lib/python3.8/site-packages/ray/rllib/utils/metrics/learner_info.py:64: RuntimeWarning: Mean of empty slice\n",
      "  lambda *s: None if s[0] is None else np.nanmean(s, axis=0),\n",
      "/home/allenwu/anaconda3/envs/marllib/lib/python3.8/site-packages/ray/rllib/utils/metrics/learner_info.py:64: RuntimeWarning: Mean of empty slice\n",
      "  lambda *s: None if s[0] is None else np.nanmean(s, axis=0),\n"
     ]
    },
    {
     "name": "stdout",
     "output_type": "stream",
     "text": [
      "== Status ==\n",
      "Current time: 2023-09-21 02:02:23 (running for 00:19:14.78)\n",
      "Memory usage on this node: 13.1/31.2 GiB\n",
      "Using FIFO scheduling algorithm.\n",
      "Resources requested: 3.0/24 CPUs, 1.0/0 GPUs, 0.0/15.61 GiB heap, 0.0/7.8 GiB objects (0.0/1.0 accelerator_type:G)\n",
      "Result logdir: /home/allenwu/Desktop/work/MARLlib-1.0.3/exp_results/happo_gru_CityLearn_5e-07_0.0005_APPEND-DATA_seed-2\n",
      "Number of trials: 1/1 (1 RUNNING)\n",
      "\n",
      "\n"
     ]
    },
    {
     "name": "stderr",
     "output_type": "stream",
     "text": [
      "/home/allenwu/anaconda3/envs/marllib/lib/python3.8/site-packages/ray/rllib/utils/metrics/learner_info.py:64: RuntimeWarning: Mean of empty slice\n",
      "  lambda *s: None if s[0] is None else np.nanmean(s, axis=0),\n",
      "/home/allenwu/anaconda3/envs/marllib/lib/python3.8/site-packages/ray/rllib/utils/metrics/learner_info.py:64: RuntimeWarning: Mean of empty slice\n",
      "  lambda *s: None if s[0] is None else np.nanmean(s, axis=0),\n",
      "/home/allenwu/anaconda3/envs/marllib/lib/python3.8/site-packages/ray/rllib/utils/metrics/learner_info.py:64: RuntimeWarning: Mean of empty slice\n",
      "  lambda *s: None if s[0] is None else np.nanmean(s, axis=0),\n",
      "/home/allenwu/anaconda3/envs/marllib/lib/python3.8/site-packages/ray/rllib/utils/metrics/learner_info.py:64: RuntimeWarning: Mean of empty slice\n",
      "  lambda *s: None if s[0] is None else np.nanmean(s, axis=0),\n",
      "/home/allenwu/anaconda3/envs/marllib/lib/python3.8/site-packages/ray/rllib/utils/metrics/learner_info.py:64: RuntimeWarning: Mean of empty slice\n",
      "  lambda *s: None if s[0] is None else np.nanmean(s, axis=0),\n"
     ]
    },
    {
     "name": "stdout",
     "output_type": "stream",
     "text": [
      "== Status ==\n",
      "Current time: 2023-09-21 02:02:28 (running for 00:19:20.11)\n",
      "Memory usage on this node: 13.1/31.2 GiB\n",
      "Using FIFO scheduling algorithm.\n",
      "Resources requested: 3.0/24 CPUs, 1.0/0 GPUs, 0.0/15.61 GiB heap, 0.0/7.8 GiB objects (0.0/1.0 accelerator_type:G)\n",
      "Result logdir: /home/allenwu/Desktop/work/MARLlib-1.0.3/exp_results/happo_gru_CityLearn_5e-07_0.0005_APPEND-DATA_seed-2\n",
      "Number of trials: 1/1 (1 RUNNING)\n",
      "\n",
      "\n"
     ]
    },
    {
     "name": "stderr",
     "output_type": "stream",
     "text": [
      "/home/allenwu/anaconda3/envs/marllib/lib/python3.8/site-packages/ray/rllib/utils/metrics/learner_info.py:64: RuntimeWarning: Mean of empty slice\n",
      "  lambda *s: None if s[0] is None else np.nanmean(s, axis=0),\n",
      "/home/allenwu/anaconda3/envs/marllib/lib/python3.8/site-packages/ray/rllib/utils/metrics/learner_info.py:64: RuntimeWarning: Mean of empty slice\n",
      "  lambda *s: None if s[0] is None else np.nanmean(s, axis=0),\n",
      "/home/allenwu/anaconda3/envs/marllib/lib/python3.8/site-packages/ray/rllib/utils/metrics/learner_info.py:64: RuntimeWarning: Mean of empty slice\n",
      "  lambda *s: None if s[0] is None else np.nanmean(s, axis=0),\n",
      "/home/allenwu/anaconda3/envs/marllib/lib/python3.8/site-packages/ray/rllib/utils/metrics/learner_info.py:64: RuntimeWarning: Mean of empty slice\n",
      "  lambda *s: None if s[0] is None else np.nanmean(s, axis=0),\n",
      "/home/allenwu/anaconda3/envs/marllib/lib/python3.8/site-packages/ray/rllib/utils/metrics/learner_info.py:64: RuntimeWarning: Mean of empty slice\n",
      "  lambda *s: None if s[0] is None else np.nanmean(s, axis=0),\n",
      "/home/allenwu/anaconda3/envs/marllib/lib/python3.8/site-packages/ray/rllib/utils/metrics/learner_info.py:64: RuntimeWarning: Mean of empty slice\n",
      "  lambda *s: None if s[0] is None else np.nanmean(s, axis=0),\n"
     ]
    },
    {
     "name": "stdout",
     "output_type": "stream",
     "text": [
      "== Status ==\n",
      "Current time: 2023-09-21 02:02:34 (running for 00:19:25.34)\n",
      "Memory usage on this node: 13.2/31.2 GiB\n",
      "Using FIFO scheduling algorithm.\n",
      "Resources requested: 3.0/24 CPUs, 1.0/0 GPUs, 0.0/15.61 GiB heap, 0.0/7.8 GiB objects (0.0/1.0 accelerator_type:G)\n",
      "Result logdir: /home/allenwu/Desktop/work/MARLlib-1.0.3/exp_results/happo_gru_CityLearn_5e-07_0.0005_APPEND-DATA_seed-2\n",
      "Number of trials: 1/1 (1 RUNNING)\n",
      "\n",
      "\n"
     ]
    },
    {
     "name": "stderr",
     "output_type": "stream",
     "text": [
      "/home/allenwu/anaconda3/envs/marllib/lib/python3.8/site-packages/ray/rllib/utils/metrics/learner_info.py:64: RuntimeWarning: Mean of empty slice\n",
      "  lambda *s: None if s[0] is None else np.nanmean(s, axis=0),\n",
      "/home/allenwu/anaconda3/envs/marllib/lib/python3.8/site-packages/ray/rllib/utils/metrics/learner_info.py:64: RuntimeWarning: Mean of empty slice\n",
      "  lambda *s: None if s[0] is None else np.nanmean(s, axis=0),\n",
      "/home/allenwu/anaconda3/envs/marllib/lib/python3.8/site-packages/ray/rllib/utils/metrics/learner_info.py:64: RuntimeWarning: Mean of empty slice\n",
      "  lambda *s: None if s[0] is None else np.nanmean(s, axis=0),\n",
      "/home/allenwu/anaconda3/envs/marllib/lib/python3.8/site-packages/ray/rllib/utils/metrics/learner_info.py:64: RuntimeWarning: Mean of empty slice\n",
      "  lambda *s: None if s[0] is None else np.nanmean(s, axis=0),\n",
      "/home/allenwu/anaconda3/envs/marllib/lib/python3.8/site-packages/ray/rllib/utils/metrics/learner_info.py:64: RuntimeWarning: Mean of empty slice\n",
      "  lambda *s: None if s[0] is None else np.nanmean(s, axis=0),\n",
      "/home/allenwu/anaconda3/envs/marllib/lib/python3.8/site-packages/ray/rllib/utils/metrics/learner_info.py:64: RuntimeWarning: Mean of empty slice\n",
      "  lambda *s: None if s[0] is None else np.nanmean(s, axis=0),\n"
     ]
    },
    {
     "name": "stdout",
     "output_type": "stream",
     "text": [
      "== Status ==\n",
      "Current time: 2023-09-21 02:02:39 (running for 00:19:30.58)\n",
      "Memory usage on this node: 13.2/31.2 GiB\n",
      "Using FIFO scheduling algorithm.\n",
      "Resources requested: 3.0/24 CPUs, 1.0/0 GPUs, 0.0/15.61 GiB heap, 0.0/7.8 GiB objects (0.0/1.0 accelerator_type:G)\n",
      "Result logdir: /home/allenwu/Desktop/work/MARLlib-1.0.3/exp_results/happo_gru_CityLearn_5e-07_0.0005_APPEND-DATA_seed-2\n",
      "Number of trials: 1/1 (1 RUNNING)\n",
      "\n",
      "\n"
     ]
    },
    {
     "name": "stderr",
     "output_type": "stream",
     "text": [
      "/home/allenwu/anaconda3/envs/marllib/lib/python3.8/site-packages/ray/rllib/utils/metrics/learner_info.py:64: RuntimeWarning: Mean of empty slice\n",
      "  lambda *s: None if s[0] is None else np.nanmean(s, axis=0),\n",
      "/home/allenwu/anaconda3/envs/marllib/lib/python3.8/site-packages/ray/rllib/utils/metrics/learner_info.py:64: RuntimeWarning: Mean of empty slice\n",
      "  lambda *s: None if s[0] is None else np.nanmean(s, axis=0),\n",
      "/home/allenwu/anaconda3/envs/marllib/lib/python3.8/site-packages/ray/rllib/utils/metrics/learner_info.py:64: RuntimeWarning: Mean of empty slice\n",
      "  lambda *s: None if s[0] is None else np.nanmean(s, axis=0),\n",
      "/home/allenwu/anaconda3/envs/marllib/lib/python3.8/site-packages/ray/rllib/utils/metrics/learner_info.py:64: RuntimeWarning: Mean of empty slice\n",
      "  lambda *s: None if s[0] is None else np.nanmean(s, axis=0),\n",
      "/home/allenwu/anaconda3/envs/marllib/lib/python3.8/site-packages/ray/rllib/utils/metrics/learner_info.py:64: RuntimeWarning: Mean of empty slice\n",
      "  lambda *s: None if s[0] is None else np.nanmean(s, axis=0),\n",
      "/home/allenwu/anaconda3/envs/marllib/lib/python3.8/site-packages/ray/rllib/utils/metrics/learner_info.py:64: RuntimeWarning: Mean of empty slice\n",
      "  lambda *s: None if s[0] is None else np.nanmean(s, axis=0),\n",
      "/home/allenwu/anaconda3/envs/marllib/lib/python3.8/site-packages/ray/rllib/utils/metrics/learner_info.py:64: RuntimeWarning: Mean of empty slice\n",
      "  lambda *s: None if s[0] is None else np.nanmean(s, axis=0),\n"
     ]
    },
    {
     "name": "stdout",
     "output_type": "stream",
     "text": [
      "== Status ==\n",
      "Current time: 2023-09-21 02:02:44 (running for 00:19:35.85)\n",
      "Memory usage on this node: 13.2/31.2 GiB\n",
      "Using FIFO scheduling algorithm.\n",
      "Resources requested: 3.0/24 CPUs, 1.0/0 GPUs, 0.0/15.61 GiB heap, 0.0/7.8 GiB objects (0.0/1.0 accelerator_type:G)\n",
      "Result logdir: /home/allenwu/Desktop/work/MARLlib-1.0.3/exp_results/happo_gru_CityLearn_5e-07_0.0005_APPEND-DATA_seed-2\n",
      "Number of trials: 1/1 (1 RUNNING)\n",
      "\n",
      "\n"
     ]
    },
    {
     "name": "stderr",
     "output_type": "stream",
     "text": [
      "/home/allenwu/anaconda3/envs/marllib/lib/python3.8/site-packages/ray/rllib/utils/metrics/learner_info.py:64: RuntimeWarning: Mean of empty slice\n",
      "  lambda *s: None if s[0] is None else np.nanmean(s, axis=0),\n",
      "/home/allenwu/anaconda3/envs/marllib/lib/python3.8/site-packages/ray/rllib/utils/metrics/learner_info.py:64: RuntimeWarning: Mean of empty slice\n",
      "  lambda *s: None if s[0] is None else np.nanmean(s, axis=0),\n",
      "/home/allenwu/anaconda3/envs/marllib/lib/python3.8/site-packages/ray/rllib/utils/metrics/learner_info.py:64: RuntimeWarning: Mean of empty slice\n",
      "  lambda *s: None if s[0] is None else np.nanmean(s, axis=0),\n",
      "/home/allenwu/anaconda3/envs/marllib/lib/python3.8/site-packages/ray/rllib/utils/metrics/learner_info.py:64: RuntimeWarning: Mean of empty slice\n",
      "  lambda *s: None if s[0] is None else np.nanmean(s, axis=0),\n",
      "/home/allenwu/anaconda3/envs/marllib/lib/python3.8/site-packages/ray/rllib/utils/metrics/learner_info.py:64: RuntimeWarning: Mean of empty slice\n",
      "  lambda *s: None if s[0] is None else np.nanmean(s, axis=0),\n",
      "/home/allenwu/anaconda3/envs/marllib/lib/python3.8/site-packages/ray/rllib/utils/metrics/learner_info.py:64: RuntimeWarning: Mean of empty slice\n",
      "  lambda *s: None if s[0] is None else np.nanmean(s, axis=0),\n",
      "/home/allenwu/anaconda3/envs/marllib/lib/python3.8/site-packages/ray/rllib/utils/metrics/learner_info.py:64: RuntimeWarning: Mean of empty slice\n",
      "  lambda *s: None if s[0] is None else np.nanmean(s, axis=0),\n"
     ]
    },
    {
     "name": "stdout",
     "output_type": "stream",
     "text": [
      "== Status ==\n",
      "Current time: 2023-09-21 02:02:49 (running for 00:19:41.10)\n",
      "Memory usage on this node: 13.3/31.2 GiB\n",
      "Using FIFO scheduling algorithm.\n",
      "Resources requested: 3.0/24 CPUs, 1.0/0 GPUs, 0.0/15.61 GiB heap, 0.0/7.8 GiB objects (0.0/1.0 accelerator_type:G)\n",
      "Result logdir: /home/allenwu/Desktop/work/MARLlib-1.0.3/exp_results/happo_gru_CityLearn_5e-07_0.0005_APPEND-DATA_seed-2\n",
      "Number of trials: 1/1 (1 RUNNING)\n",
      "\n",
      "\n"
     ]
    },
    {
     "name": "stderr",
     "output_type": "stream",
     "text": [
      "/home/allenwu/anaconda3/envs/marllib/lib/python3.8/site-packages/ray/rllib/utils/metrics/learner_info.py:64: RuntimeWarning: Mean of empty slice\n",
      "  lambda *s: None if s[0] is None else np.nanmean(s, axis=0),\n",
      "/home/allenwu/anaconda3/envs/marllib/lib/python3.8/site-packages/ray/rllib/utils/metrics/learner_info.py:64: RuntimeWarning: Mean of empty slice\n",
      "  lambda *s: None if s[0] is None else np.nanmean(s, axis=0),\n",
      "/home/allenwu/anaconda3/envs/marllib/lib/python3.8/site-packages/ray/rllib/utils/metrics/learner_info.py:64: RuntimeWarning: Mean of empty slice\n",
      "  lambda *s: None if s[0] is None else np.nanmean(s, axis=0),\n",
      "/home/allenwu/anaconda3/envs/marllib/lib/python3.8/site-packages/ray/rllib/utils/metrics/learner_info.py:64: RuntimeWarning: Mean of empty slice\n",
      "  lambda *s: None if s[0] is None else np.nanmean(s, axis=0),\n"
     ]
    },
    {
     "name": "stdout",
     "output_type": "stream",
     "text": [
      "== Status ==\n",
      "Current time: 2023-09-21 02:02:55 (running for 00:19:46.34)\n",
      "Memory usage on this node: 13.3/31.2 GiB\n",
      "Using FIFO scheduling algorithm.\n",
      "Resources requested: 3.0/24 CPUs, 1.0/0 GPUs, 0.0/15.61 GiB heap, 0.0/7.8 GiB objects (0.0/1.0 accelerator_type:G)\n",
      "Result logdir: /home/allenwu/Desktop/work/MARLlib-1.0.3/exp_results/happo_gru_CityLearn_5e-07_0.0005_APPEND-DATA_seed-2\n",
      "Number of trials: 1/1 (1 RUNNING)\n",
      "\n",
      "\n"
     ]
    },
    {
     "name": "stderr",
     "output_type": "stream",
     "text": [
      "/home/allenwu/anaconda3/envs/marllib/lib/python3.8/site-packages/ray/rllib/utils/metrics/learner_info.py:64: RuntimeWarning: Mean of empty slice\n",
      "  lambda *s: None if s[0] is None else np.nanmean(s, axis=0),\n",
      "/home/allenwu/anaconda3/envs/marllib/lib/python3.8/site-packages/ray/rllib/utils/metrics/learner_info.py:64: RuntimeWarning: Mean of empty slice\n",
      "  lambda *s: None if s[0] is None else np.nanmean(s, axis=0),\n",
      "/home/allenwu/anaconda3/envs/marllib/lib/python3.8/site-packages/ray/rllib/utils/metrics/learner_info.py:64: RuntimeWarning: Mean of empty slice\n",
      "  lambda *s: None if s[0] is None else np.nanmean(s, axis=0),\n",
      "/home/allenwu/anaconda3/envs/marllib/lib/python3.8/site-packages/ray/rllib/utils/metrics/learner_info.py:64: RuntimeWarning: Mean of empty slice\n",
      "  lambda *s: None if s[0] is None else np.nanmean(s, axis=0),\n",
      "/home/allenwu/anaconda3/envs/marllib/lib/python3.8/site-packages/ray/rllib/utils/metrics/learner_info.py:64: RuntimeWarning: Mean of empty slice\n",
      "  lambda *s: None if s[0] is None else np.nanmean(s, axis=0),\n",
      "/home/allenwu/anaconda3/envs/marllib/lib/python3.8/site-packages/ray/rllib/utils/metrics/learner_info.py:64: RuntimeWarning: Mean of empty slice\n",
      "  lambda *s: None if s[0] is None else np.nanmean(s, axis=0),\n",
      "/home/allenwu/anaconda3/envs/marllib/lib/python3.8/site-packages/ray/rllib/utils/metrics/learner_info.py:64: RuntimeWarning: Mean of empty slice\n",
      "  lambda *s: None if s[0] is None else np.nanmean(s, axis=0),\n"
     ]
    },
    {
     "name": "stdout",
     "output_type": "stream",
     "text": [
      "== Status ==\n",
      "Current time: 2023-09-21 02:03:00 (running for 00:19:51.66)\n",
      "Memory usage on this node: 13.3/31.2 GiB\n",
      "Using FIFO scheduling algorithm.\n",
      "Resources requested: 3.0/24 CPUs, 1.0/0 GPUs, 0.0/15.61 GiB heap, 0.0/7.8 GiB objects (0.0/1.0 accelerator_type:G)\n",
      "Result logdir: /home/allenwu/Desktop/work/MARLlib-1.0.3/exp_results/happo_gru_CityLearn_5e-07_0.0005_APPEND-DATA_seed-2\n",
      "Number of trials: 1/1 (1 RUNNING)\n",
      "\n",
      "\n"
     ]
    },
    {
     "name": "stderr",
     "output_type": "stream",
     "text": [
      "/home/allenwu/anaconda3/envs/marllib/lib/python3.8/site-packages/ray/rllib/utils/metrics/learner_info.py:64: RuntimeWarning: Mean of empty slice\n",
      "  lambda *s: None if s[0] is None else np.nanmean(s, axis=0),\n",
      "/home/allenwu/anaconda3/envs/marllib/lib/python3.8/site-packages/ray/rllib/utils/metrics/learner_info.py:64: RuntimeWarning: Mean of empty slice\n",
      "  lambda *s: None if s[0] is None else np.nanmean(s, axis=0),\n",
      "/home/allenwu/anaconda3/envs/marllib/lib/python3.8/site-packages/ray/rllib/utils/metrics/learner_info.py:64: RuntimeWarning: Mean of empty slice\n",
      "  lambda *s: None if s[0] is None else np.nanmean(s, axis=0),\n",
      "/home/allenwu/anaconda3/envs/marllib/lib/python3.8/site-packages/ray/rllib/utils/metrics/learner_info.py:64: RuntimeWarning: Mean of empty slice\n",
      "  lambda *s: None if s[0] is None else np.nanmean(s, axis=0),\n",
      "/home/allenwu/anaconda3/envs/marllib/lib/python3.8/site-packages/ray/rllib/utils/metrics/learner_info.py:64: RuntimeWarning: Mean of empty slice\n",
      "  lambda *s: None if s[0] is None else np.nanmean(s, axis=0),\n",
      "/home/allenwu/anaconda3/envs/marllib/lib/python3.8/site-packages/ray/rllib/utils/metrics/learner_info.py:64: RuntimeWarning: Mean of empty slice\n",
      "  lambda *s: None if s[0] is None else np.nanmean(s, axis=0),\n"
     ]
    },
    {
     "name": "stdout",
     "output_type": "stream",
     "text": [
      "== Status ==\n",
      "Current time: 2023-09-21 02:03:05 (running for 00:19:56.95)\n",
      "Memory usage on this node: 13.3/31.2 GiB\n",
      "Using FIFO scheduling algorithm.\n",
      "Resources requested: 3.0/24 CPUs, 1.0/0 GPUs, 0.0/15.61 GiB heap, 0.0/7.8 GiB objects (0.0/1.0 accelerator_type:G)\n",
      "Result logdir: /home/allenwu/Desktop/work/MARLlib-1.0.3/exp_results/happo_gru_CityLearn_5e-07_0.0005_APPEND-DATA_seed-2\n",
      "Number of trials: 1/1 (1 RUNNING)\n",
      "\n",
      "\n"
     ]
    },
    {
     "name": "stderr",
     "output_type": "stream",
     "text": [
      "/home/allenwu/anaconda3/envs/marllib/lib/python3.8/site-packages/ray/rllib/utils/metrics/learner_info.py:64: RuntimeWarning: Mean of empty slice\n",
      "  lambda *s: None if s[0] is None else np.nanmean(s, axis=0),\n",
      "/home/allenwu/anaconda3/envs/marllib/lib/python3.8/site-packages/ray/rllib/utils/metrics/learner_info.py:64: RuntimeWarning: Mean of empty slice\n",
      "  lambda *s: None if s[0] is None else np.nanmean(s, axis=0),\n",
      "/home/allenwu/anaconda3/envs/marllib/lib/python3.8/site-packages/ray/rllib/utils/metrics/learner_info.py:64: RuntimeWarning: Mean of empty slice\n",
      "  lambda *s: None if s[0] is None else np.nanmean(s, axis=0),\n",
      "/home/allenwu/anaconda3/envs/marllib/lib/python3.8/site-packages/ray/rllib/utils/metrics/learner_info.py:64: RuntimeWarning: Mean of empty slice\n",
      "  lambda *s: None if s[0] is None else np.nanmean(s, axis=0),\n",
      "/home/allenwu/anaconda3/envs/marllib/lib/python3.8/site-packages/ray/rllib/utils/metrics/learner_info.py:64: RuntimeWarning: Mean of empty slice\n",
      "  lambda *s: None if s[0] is None else np.nanmean(s, axis=0),\n",
      "/home/allenwu/anaconda3/envs/marllib/lib/python3.8/site-packages/ray/rllib/utils/metrics/learner_info.py:64: RuntimeWarning: Mean of empty slice\n",
      "  lambda *s: None if s[0] is None else np.nanmean(s, axis=0),\n",
      "/home/allenwu/anaconda3/envs/marllib/lib/python3.8/site-packages/ray/rllib/utils/metrics/learner_info.py:64: RuntimeWarning: Mean of empty slice\n",
      "  lambda *s: None if s[0] is None else np.nanmean(s, axis=0),\n",
      "/home/allenwu/anaconda3/envs/marllib/lib/python3.8/site-packages/ray/rllib/utils/metrics/learner_info.py:64: RuntimeWarning: Mean of empty slice\n",
      "  lambda *s: None if s[0] is None else np.nanmean(s, axis=0),\n"
     ]
    },
    {
     "name": "stdout",
     "output_type": "stream",
     "text": [
      "== Status ==\n",
      "Current time: 2023-09-21 02:03:11 (running for 00:20:02.38)\n",
      "Memory usage on this node: 13.4/31.2 GiB\n",
      "Using FIFO scheduling algorithm.\n",
      "Resources requested: 3.0/24 CPUs, 1.0/0 GPUs, 0.0/15.61 GiB heap, 0.0/7.8 GiB objects (0.0/1.0 accelerator_type:G)\n",
      "Result logdir: /home/allenwu/Desktop/work/MARLlib-1.0.3/exp_results/happo_gru_CityLearn_5e-07_0.0005_APPEND-DATA_seed-2\n",
      "Number of trials: 1/1 (1 RUNNING)\n",
      "\n",
      "\n"
     ]
    },
    {
     "name": "stderr",
     "output_type": "stream",
     "text": [
      "/home/allenwu/anaconda3/envs/marllib/lib/python3.8/site-packages/ray/rllib/utils/metrics/learner_info.py:64: RuntimeWarning: Mean of empty slice\n",
      "  lambda *s: None if s[0] is None else np.nanmean(s, axis=0),\n",
      "/home/allenwu/anaconda3/envs/marllib/lib/python3.8/site-packages/ray/rllib/utils/metrics/learner_info.py:64: RuntimeWarning: Mean of empty slice\n",
      "  lambda *s: None if s[0] is None else np.nanmean(s, axis=0),\n",
      "/home/allenwu/anaconda3/envs/marllib/lib/python3.8/site-packages/ray/rllib/utils/metrics/learner_info.py:64: RuntimeWarning: Mean of empty slice\n",
      "  lambda *s: None if s[0] is None else np.nanmean(s, axis=0),\n",
      "/home/allenwu/anaconda3/envs/marllib/lib/python3.8/site-packages/ray/rllib/utils/metrics/learner_info.py:64: RuntimeWarning: Mean of empty slice\n",
      "  lambda *s: None if s[0] is None else np.nanmean(s, axis=0),\n",
      "2023-09-21 02:03:14,302\tWARNING ray_trial_executor.py:768 -- Over the last 60 seconds, the Tune event loop has been backlogged processing new results. Consider increasing your period of result reporting to improve performance.\n",
      "/home/allenwu/anaconda3/envs/marllib/lib/python3.8/site-packages/ray/rllib/utils/metrics/learner_info.py:64: RuntimeWarning: Mean of empty slice\n",
      "  lambda *s: None if s[0] is None else np.nanmean(s, axis=0),\n",
      "/home/allenwu/anaconda3/envs/marllib/lib/python3.8/site-packages/ray/rllib/utils/metrics/learner_info.py:64: RuntimeWarning: Mean of empty slice\n",
      "  lambda *s: None if s[0] is None else np.nanmean(s, axis=0),\n",
      "/home/allenwu/anaconda3/envs/marllib/lib/python3.8/site-packages/ray/rllib/utils/metrics/learner_info.py:64: RuntimeWarning: Mean of empty slice\n",
      "  lambda *s: None if s[0] is None else np.nanmean(s, axis=0),\n"
     ]
    },
    {
     "name": "stdout",
     "output_type": "stream",
     "text": [
      "== Status ==\n",
      "Current time: 2023-09-21 02:03:16 (running for 00:20:07.79)\n",
      "Memory usage on this node: 13.4/31.2 GiB\n",
      "Using FIFO scheduling algorithm.\n",
      "Resources requested: 3.0/24 CPUs, 1.0/0 GPUs, 0.0/15.61 GiB heap, 0.0/7.8 GiB objects (0.0/1.0 accelerator_type:G)\n",
      "Result logdir: /home/allenwu/Desktop/work/MARLlib-1.0.3/exp_results/happo_gru_CityLearn_5e-07_0.0005_APPEND-DATA_seed-2\n",
      "Number of trials: 1/1 (1 RUNNING)\n",
      "\n",
      "\n"
     ]
    },
    {
     "name": "stderr",
     "output_type": "stream",
     "text": [
      "/home/allenwu/anaconda3/envs/marllib/lib/python3.8/site-packages/ray/rllib/utils/metrics/learner_info.py:64: RuntimeWarning: Mean of empty slice\n",
      "  lambda *s: None if s[0] is None else np.nanmean(s, axis=0),\n",
      "/home/allenwu/anaconda3/envs/marllib/lib/python3.8/site-packages/ray/rllib/utils/metrics/learner_info.py:64: RuntimeWarning: Mean of empty slice\n",
      "  lambda *s: None if s[0] is None else np.nanmean(s, axis=0),\n",
      "/home/allenwu/anaconda3/envs/marllib/lib/python3.8/site-packages/ray/rllib/utils/metrics/learner_info.py:64: RuntimeWarning: Mean of empty slice\n",
      "  lambda *s: None if s[0] is None else np.nanmean(s, axis=0),\n",
      "/home/allenwu/anaconda3/envs/marllib/lib/python3.8/site-packages/ray/rllib/utils/metrics/learner_info.py:64: RuntimeWarning: Mean of empty slice\n",
      "  lambda *s: None if s[0] is None else np.nanmean(s, axis=0),\n"
     ]
    },
    {
     "name": "stdout",
     "output_type": "stream",
     "text": [
      "== Status ==\n",
      "Current time: 2023-09-21 02:03:21 (running for 00:20:13.19)\n",
      "Memory usage on this node: 13.4/31.2 GiB\n",
      "Using FIFO scheduling algorithm.\n",
      "Resources requested: 3.0/24 CPUs, 1.0/0 GPUs, 0.0/15.61 GiB heap, 0.0/7.8 GiB objects (0.0/1.0 accelerator_type:G)\n",
      "Result logdir: /home/allenwu/Desktop/work/MARLlib-1.0.3/exp_results/happo_gru_CityLearn_5e-07_0.0005_APPEND-DATA_seed-2\n",
      "Number of trials: 1/1 (1 RUNNING)\n",
      "\n",
      "\n"
     ]
    },
    {
     "name": "stderr",
     "output_type": "stream",
     "text": [
      "/home/allenwu/anaconda3/envs/marllib/lib/python3.8/site-packages/ray/rllib/utils/metrics/learner_info.py:64: RuntimeWarning: Mean of empty slice\n",
      "  lambda *s: None if s[0] is None else np.nanmean(s, axis=0),\n",
      "/home/allenwu/anaconda3/envs/marllib/lib/python3.8/site-packages/ray/rllib/utils/metrics/learner_info.py:64: RuntimeWarning: Mean of empty slice\n",
      "  lambda *s: None if s[0] is None else np.nanmean(s, axis=0),\n",
      "/home/allenwu/anaconda3/envs/marllib/lib/python3.8/site-packages/ray/rllib/utils/metrics/learner_info.py:64: RuntimeWarning: Mean of empty slice\n",
      "  lambda *s: None if s[0] is None else np.nanmean(s, axis=0),\n",
      "/home/allenwu/anaconda3/envs/marllib/lib/python3.8/site-packages/ray/rllib/utils/metrics/learner_info.py:64: RuntimeWarning: Mean of empty slice\n",
      "  lambda *s: None if s[0] is None else np.nanmean(s, axis=0),\n",
      "/home/allenwu/anaconda3/envs/marllib/lib/python3.8/site-packages/ray/rllib/utils/metrics/learner_info.py:64: RuntimeWarning: Mean of empty slice\n",
      "  lambda *s: None if s[0] is None else np.nanmean(s, axis=0),\n",
      "/home/allenwu/anaconda3/envs/marllib/lib/python3.8/site-packages/ray/rllib/utils/metrics/learner_info.py:64: RuntimeWarning: Mean of empty slice\n",
      "  lambda *s: None if s[0] is None else np.nanmean(s, axis=0),\n",
      "/home/allenwu/anaconda3/envs/marllib/lib/python3.8/site-packages/ray/rllib/utils/metrics/learner_info.py:64: RuntimeWarning: Mean of empty slice\n",
      "  lambda *s: None if s[0] is None else np.nanmean(s, axis=0),\n",
      "/home/allenwu/anaconda3/envs/marllib/lib/python3.8/site-packages/ray/rllib/utils/metrics/learner_info.py:64: RuntimeWarning: Mean of empty slice\n",
      "  lambda *s: None if s[0] is None else np.nanmean(s, axis=0),\n",
      "/home/allenwu/anaconda3/envs/marllib/lib/python3.8/site-packages/ray/rllib/utils/metrics/learner_info.py:64: RuntimeWarning: Mean of empty slice\n",
      "  lambda *s: None if s[0] is None else np.nanmean(s, axis=0),\n"
     ]
    },
    {
     "name": "stdout",
     "output_type": "stream",
     "text": [
      "== Status ==\n",
      "Current time: 2023-09-21 02:03:27 (running for 00:20:18.64)\n",
      "Memory usage on this node: 13.5/31.2 GiB\n",
      "Using FIFO scheduling algorithm.\n",
      "Resources requested: 3.0/24 CPUs, 1.0/0 GPUs, 0.0/15.61 GiB heap, 0.0/7.8 GiB objects (0.0/1.0 accelerator_type:G)\n",
      "Result logdir: /home/allenwu/Desktop/work/MARLlib-1.0.3/exp_results/happo_gru_CityLearn_5e-07_0.0005_APPEND-DATA_seed-2\n",
      "Number of trials: 1/1 (1 RUNNING)\n",
      "\n",
      "\n"
     ]
    },
    {
     "name": "stderr",
     "output_type": "stream",
     "text": [
      "/home/allenwu/anaconda3/envs/marllib/lib/python3.8/site-packages/ray/rllib/utils/metrics/learner_info.py:64: RuntimeWarning: Mean of empty slice\n",
      "  lambda *s: None if s[0] is None else np.nanmean(s, axis=0),\n",
      "/home/allenwu/anaconda3/envs/marllib/lib/python3.8/site-packages/ray/rllib/utils/metrics/learner_info.py:64: RuntimeWarning: Mean of empty slice\n",
      "  lambda *s: None if s[0] is None else np.nanmean(s, axis=0),\n",
      "/home/allenwu/anaconda3/envs/marllib/lib/python3.8/site-packages/ray/rllib/utils/metrics/learner_info.py:64: RuntimeWarning: Mean of empty slice\n",
      "  lambda *s: None if s[0] is None else np.nanmean(s, axis=0),\n",
      "/home/allenwu/anaconda3/envs/marllib/lib/python3.8/site-packages/ray/rllib/utils/metrics/learner_info.py:64: RuntimeWarning: Mean of empty slice\n",
      "  lambda *s: None if s[0] is None else np.nanmean(s, axis=0),\n",
      "/home/allenwu/anaconda3/envs/marllib/lib/python3.8/site-packages/ray/rllib/utils/metrics/learner_info.py:64: RuntimeWarning: Mean of empty slice\n",
      "  lambda *s: None if s[0] is None else np.nanmean(s, axis=0),\n",
      "/home/allenwu/anaconda3/envs/marllib/lib/python3.8/site-packages/ray/rllib/utils/metrics/learner_info.py:64: RuntimeWarning: Mean of empty slice\n",
      "  lambda *s: None if s[0] is None else np.nanmean(s, axis=0),\n",
      "/home/allenwu/anaconda3/envs/marllib/lib/python3.8/site-packages/ray/rllib/utils/metrics/learner_info.py:64: RuntimeWarning: Mean of empty slice\n",
      "  lambda *s: None if s[0] is None else np.nanmean(s, axis=0),\n",
      "/home/allenwu/anaconda3/envs/marllib/lib/python3.8/site-packages/ray/rllib/utils/metrics/learner_info.py:64: RuntimeWarning: Mean of empty slice\n",
      "  lambda *s: None if s[0] is None else np.nanmean(s, axis=0),\n"
     ]
    },
    {
     "name": "stdout",
     "output_type": "stream",
     "text": [
      "== Status ==\n",
      "Current time: 2023-09-21 02:03:32 (running for 00:20:24.03)\n",
      "Memory usage on this node: 13.5/31.2 GiB\n",
      "Using FIFO scheduling algorithm.\n",
      "Resources requested: 3.0/24 CPUs, 1.0/0 GPUs, 0.0/15.61 GiB heap, 0.0/7.8 GiB objects (0.0/1.0 accelerator_type:G)\n",
      "Result logdir: /home/allenwu/Desktop/work/MARLlib-1.0.3/exp_results/happo_gru_CityLearn_5e-07_0.0005_APPEND-DATA_seed-2\n",
      "Number of trials: 1/1 (1 RUNNING)\n",
      "\n",
      "\n"
     ]
    },
    {
     "name": "stderr",
     "output_type": "stream",
     "text": [
      "/home/allenwu/anaconda3/envs/marllib/lib/python3.8/site-packages/ray/rllib/utils/metrics/learner_info.py:64: RuntimeWarning: Mean of empty slice\n",
      "  lambda *s: None if s[0] is None else np.nanmean(s, axis=0),\n",
      "/home/allenwu/anaconda3/envs/marllib/lib/python3.8/site-packages/ray/rllib/utils/metrics/learner_info.py:64: RuntimeWarning: Mean of empty slice\n",
      "  lambda *s: None if s[0] is None else np.nanmean(s, axis=0),\n",
      "/home/allenwu/anaconda3/envs/marllib/lib/python3.8/site-packages/ray/rllib/utils/metrics/learner_info.py:64: RuntimeWarning: Mean of empty slice\n",
      "  lambda *s: None if s[0] is None else np.nanmean(s, axis=0),\n",
      "/home/allenwu/anaconda3/envs/marllib/lib/python3.8/site-packages/ray/rllib/utils/metrics/learner_info.py:64: RuntimeWarning: Mean of empty slice\n",
      "  lambda *s: None if s[0] is None else np.nanmean(s, axis=0),\n",
      "/home/allenwu/anaconda3/envs/marllib/lib/python3.8/site-packages/ray/rllib/utils/metrics/learner_info.py:64: RuntimeWarning: Mean of empty slice\n",
      "  lambda *s: None if s[0] is None else np.nanmean(s, axis=0),\n"
     ]
    },
    {
     "name": "stdout",
     "output_type": "stream",
     "text": [
      "== Status ==\n",
      "Current time: 2023-09-21 02:03:38 (running for 00:20:29.41)\n",
      "Memory usage on this node: 13.5/31.2 GiB\n",
      "Using FIFO scheduling algorithm.\n",
      "Resources requested: 3.0/24 CPUs, 1.0/0 GPUs, 0.0/15.61 GiB heap, 0.0/7.8 GiB objects (0.0/1.0 accelerator_type:G)\n",
      "Result logdir: /home/allenwu/Desktop/work/MARLlib-1.0.3/exp_results/happo_gru_CityLearn_5e-07_0.0005_APPEND-DATA_seed-2\n",
      "Number of trials: 1/1 (1 RUNNING)\n",
      "\n",
      "\n"
     ]
    },
    {
     "name": "stderr",
     "output_type": "stream",
     "text": [
      "/home/allenwu/anaconda3/envs/marllib/lib/python3.8/site-packages/ray/rllib/utils/metrics/learner_info.py:64: RuntimeWarning: Mean of empty slice\n",
      "  lambda *s: None if s[0] is None else np.nanmean(s, axis=0),\n",
      "/home/allenwu/anaconda3/envs/marllib/lib/python3.8/site-packages/ray/rllib/utils/metrics/learner_info.py:64: RuntimeWarning: Mean of empty slice\n",
      "  lambda *s: None if s[0] is None else np.nanmean(s, axis=0),\n",
      "/home/allenwu/anaconda3/envs/marllib/lib/python3.8/site-packages/ray/rllib/utils/metrics/learner_info.py:64: RuntimeWarning: Mean of empty slice\n",
      "  lambda *s: None if s[0] is None else np.nanmean(s, axis=0),\n",
      "/home/allenwu/anaconda3/envs/marllib/lib/python3.8/site-packages/ray/rllib/utils/metrics/learner_info.py:64: RuntimeWarning: Mean of empty slice\n",
      "  lambda *s: None if s[0] is None else np.nanmean(s, axis=0),\n",
      "/home/allenwu/anaconda3/envs/marllib/lib/python3.8/site-packages/ray/rllib/utils/metrics/learner_info.py:64: RuntimeWarning: Mean of empty slice\n",
      "  lambda *s: None if s[0] is None else np.nanmean(s, axis=0),\n",
      "/home/allenwu/anaconda3/envs/marllib/lib/python3.8/site-packages/ray/rllib/utils/metrics/learner_info.py:64: RuntimeWarning: Mean of empty slice\n",
      "  lambda *s: None if s[0] is None else np.nanmean(s, axis=0),\n",
      "/home/allenwu/anaconda3/envs/marllib/lib/python3.8/site-packages/ray/rllib/utils/metrics/learner_info.py:64: RuntimeWarning: Mean of empty slice\n",
      "  lambda *s: None if s[0] is None else np.nanmean(s, axis=0),\n",
      "/home/allenwu/anaconda3/envs/marllib/lib/python3.8/site-packages/ray/rllib/utils/metrics/learner_info.py:64: RuntimeWarning: Mean of empty slice\n",
      "  lambda *s: None if s[0] is None else np.nanmean(s, axis=0),\n",
      "/home/allenwu/anaconda3/envs/marllib/lib/python3.8/site-packages/ray/rllib/utils/metrics/learner_info.py:64: RuntimeWarning: Mean of empty slice\n",
      "  lambda *s: None if s[0] is None else np.nanmean(s, axis=0),\n"
     ]
    },
    {
     "name": "stdout",
     "output_type": "stream",
     "text": [
      "== Status ==\n",
      "Current time: 2023-09-21 02:03:43 (running for 00:20:34.79)\n",
      "Memory usage on this node: 13.6/31.2 GiB\n",
      "Using FIFO scheduling algorithm.\n",
      "Resources requested: 3.0/24 CPUs, 1.0/0 GPUs, 0.0/15.61 GiB heap, 0.0/7.8 GiB objects (0.0/1.0 accelerator_type:G)\n",
      "Result logdir: /home/allenwu/Desktop/work/MARLlib-1.0.3/exp_results/happo_gru_CityLearn_5e-07_0.0005_APPEND-DATA_seed-2\n",
      "Number of trials: 1/1 (1 RUNNING)\n",
      "\n",
      "\n"
     ]
    },
    {
     "name": "stderr",
     "output_type": "stream",
     "text": [
      "/home/allenwu/anaconda3/envs/marllib/lib/python3.8/site-packages/ray/rllib/utils/metrics/learner_info.py:64: RuntimeWarning: Mean of empty slice\n",
      "  lambda *s: None if s[0] is None else np.nanmean(s, axis=0),\n",
      "/home/allenwu/anaconda3/envs/marllib/lib/python3.8/site-packages/ray/rllib/utils/metrics/learner_info.py:64: RuntimeWarning: Mean of empty slice\n",
      "  lambda *s: None if s[0] is None else np.nanmean(s, axis=0),\n",
      "/home/allenwu/anaconda3/envs/marllib/lib/python3.8/site-packages/ray/rllib/utils/metrics/learner_info.py:64: RuntimeWarning: Mean of empty slice\n",
      "  lambda *s: None if s[0] is None else np.nanmean(s, axis=0),\n",
      "/home/allenwu/anaconda3/envs/marllib/lib/python3.8/site-packages/ray/rllib/utils/metrics/learner_info.py:64: RuntimeWarning: Mean of empty slice\n",
      "  lambda *s: None if s[0] is None else np.nanmean(s, axis=0),\n",
      "/home/allenwu/anaconda3/envs/marllib/lib/python3.8/site-packages/ray/rllib/utils/metrics/learner_info.py:64: RuntimeWarning: Mean of empty slice\n",
      "  lambda *s: None if s[0] is None else np.nanmean(s, axis=0),\n",
      "/home/allenwu/anaconda3/envs/marllib/lib/python3.8/site-packages/ray/rllib/utils/metrics/learner_info.py:64: RuntimeWarning: Mean of empty slice\n",
      "  lambda *s: None if s[0] is None else np.nanmean(s, axis=0),\n",
      "/home/allenwu/anaconda3/envs/marllib/lib/python3.8/site-packages/ray/rllib/utils/metrics/learner_info.py:64: RuntimeWarning: Mean of empty slice\n",
      "  lambda *s: None if s[0] is None else np.nanmean(s, axis=0),\n",
      "/home/allenwu/anaconda3/envs/marllib/lib/python3.8/site-packages/ray/rllib/utils/metrics/learner_info.py:64: RuntimeWarning: Mean of empty slice\n",
      "  lambda *s: None if s[0] is None else np.nanmean(s, axis=0),\n",
      "/home/allenwu/anaconda3/envs/marllib/lib/python3.8/site-packages/ray/rllib/utils/metrics/learner_info.py:64: RuntimeWarning: Mean of empty slice\n",
      "  lambda *s: None if s[0] is None else np.nanmean(s, axis=0),\n"
     ]
    },
    {
     "name": "stdout",
     "output_type": "stream",
     "text": [
      "== Status ==\n",
      "Current time: 2023-09-21 02:03:48 (running for 00:20:40.16)\n",
      "Memory usage on this node: 13.5/31.2 GiB\n",
      "Using FIFO scheduling algorithm.\n",
      "Resources requested: 3.0/24 CPUs, 1.0/0 GPUs, 0.0/15.61 GiB heap, 0.0/7.8 GiB objects (0.0/1.0 accelerator_type:G)\n",
      "Result logdir: /home/allenwu/Desktop/work/MARLlib-1.0.3/exp_results/happo_gru_CityLearn_5e-07_0.0005_APPEND-DATA_seed-2\n",
      "Number of trials: 1/1 (1 RUNNING)\n",
      "\n",
      "\n"
     ]
    },
    {
     "name": "stderr",
     "output_type": "stream",
     "text": [
      "/home/allenwu/anaconda3/envs/marllib/lib/python3.8/site-packages/ray/rllib/utils/metrics/learner_info.py:64: RuntimeWarning: Mean of empty slice\n",
      "  lambda *s: None if s[0] is None else np.nanmean(s, axis=0),\n",
      "/home/allenwu/anaconda3/envs/marllib/lib/python3.8/site-packages/ray/rllib/utils/metrics/learner_info.py:64: RuntimeWarning: Mean of empty slice\n",
      "  lambda *s: None if s[0] is None else np.nanmean(s, axis=0),\n",
      "/home/allenwu/anaconda3/envs/marllib/lib/python3.8/site-packages/ray/rllib/utils/metrics/learner_info.py:64: RuntimeWarning: Mean of empty slice\n",
      "  lambda *s: None if s[0] is None else np.nanmean(s, axis=0),\n",
      "/home/allenwu/anaconda3/envs/marllib/lib/python3.8/site-packages/ray/rllib/utils/metrics/learner_info.py:64: RuntimeWarning: Mean of empty slice\n",
      "  lambda *s: None if s[0] is None else np.nanmean(s, axis=0),\n",
      "/home/allenwu/anaconda3/envs/marllib/lib/python3.8/site-packages/ray/rllib/utils/metrics/learner_info.py:64: RuntimeWarning: Mean of empty slice\n",
      "  lambda *s: None if s[0] is None else np.nanmean(s, axis=0),\n"
     ]
    },
    {
     "name": "stdout",
     "output_type": "stream",
     "text": [
      "== Status ==\n",
      "Current time: 2023-09-21 02:03:54 (running for 00:20:45.56)\n",
      "Memory usage on this node: 13.6/31.2 GiB\n",
      "Using FIFO scheduling algorithm.\n",
      "Resources requested: 3.0/24 CPUs, 1.0/0 GPUs, 0.0/15.61 GiB heap, 0.0/7.8 GiB objects (0.0/1.0 accelerator_type:G)\n",
      "Result logdir: /home/allenwu/Desktop/work/MARLlib-1.0.3/exp_results/happo_gru_CityLearn_5e-07_0.0005_APPEND-DATA_seed-2\n",
      "Number of trials: 1/1 (1 RUNNING)\n",
      "\n",
      "\n"
     ]
    },
    {
     "name": "stderr",
     "output_type": "stream",
     "text": [
      "/home/allenwu/anaconda3/envs/marllib/lib/python3.8/site-packages/ray/rllib/utils/metrics/learner_info.py:64: RuntimeWarning: Mean of empty slice\n",
      "  lambda *s: None if s[0] is None else np.nanmean(s, axis=0),\n",
      "/home/allenwu/anaconda3/envs/marllib/lib/python3.8/site-packages/ray/rllib/utils/metrics/learner_info.py:64: RuntimeWarning: Mean of empty slice\n",
      "  lambda *s: None if s[0] is None else np.nanmean(s, axis=0),\n",
      "/home/allenwu/anaconda3/envs/marllib/lib/python3.8/site-packages/ray/rllib/utils/metrics/learner_info.py:64: RuntimeWarning: Mean of empty slice\n",
      "  lambda *s: None if s[0] is None else np.nanmean(s, axis=0),\n",
      "/home/allenwu/anaconda3/envs/marllib/lib/python3.8/site-packages/ray/rllib/utils/metrics/learner_info.py:64: RuntimeWarning: Mean of empty slice\n",
      "  lambda *s: None if s[0] is None else np.nanmean(s, axis=0),\n",
      "/home/allenwu/anaconda3/envs/marllib/lib/python3.8/site-packages/ray/rllib/utils/metrics/learner_info.py:64: RuntimeWarning: Mean of empty slice\n",
      "  lambda *s: None if s[0] is None else np.nanmean(s, axis=0),\n",
      "/home/allenwu/anaconda3/envs/marllib/lib/python3.8/site-packages/ray/rllib/utils/metrics/learner_info.py:64: RuntimeWarning: Mean of empty slice\n",
      "  lambda *s: None if s[0] is None else np.nanmean(s, axis=0),\n",
      "/home/allenwu/anaconda3/envs/marllib/lib/python3.8/site-packages/ray/rllib/utils/metrics/learner_info.py:64: RuntimeWarning: Mean of empty slice\n",
      "  lambda *s: None if s[0] is None else np.nanmean(s, axis=0),\n"
     ]
    },
    {
     "name": "stdout",
     "output_type": "stream",
     "text": [
      "== Status ==\n",
      "Current time: 2023-09-21 02:03:59 (running for 00:20:50.95)\n",
      "Memory usage on this node: 13.6/31.2 GiB\n",
      "Using FIFO scheduling algorithm.\n",
      "Resources requested: 3.0/24 CPUs, 1.0/0 GPUs, 0.0/15.61 GiB heap, 0.0/7.8 GiB objects (0.0/1.0 accelerator_type:G)\n",
      "Result logdir: /home/allenwu/Desktop/work/MARLlib-1.0.3/exp_results/happo_gru_CityLearn_5e-07_0.0005_APPEND-DATA_seed-2\n",
      "Number of trials: 1/1 (1 RUNNING)\n",
      "\n",
      "\n"
     ]
    },
    {
     "name": "stderr",
     "output_type": "stream",
     "text": [
      "/home/allenwu/anaconda3/envs/marllib/lib/python3.8/site-packages/ray/rllib/utils/metrics/learner_info.py:64: RuntimeWarning: Mean of empty slice\n",
      "  lambda *s: None if s[0] is None else np.nanmean(s, axis=0),\n",
      "/home/allenwu/anaconda3/envs/marllib/lib/python3.8/site-packages/ray/rllib/utils/metrics/learner_info.py:64: RuntimeWarning: Mean of empty slice\n",
      "  lambda *s: None if s[0] is None else np.nanmean(s, axis=0),\n",
      "/home/allenwu/anaconda3/envs/marllib/lib/python3.8/site-packages/ray/rllib/utils/metrics/learner_info.py:64: RuntimeWarning: Mean of empty slice\n",
      "  lambda *s: None if s[0] is None else np.nanmean(s, axis=0),\n",
      "/home/allenwu/anaconda3/envs/marllib/lib/python3.8/site-packages/ray/rllib/utils/metrics/learner_info.py:64: RuntimeWarning: Mean of empty slice\n",
      "  lambda *s: None if s[0] is None else np.nanmean(s, axis=0),\n",
      "/home/allenwu/anaconda3/envs/marllib/lib/python3.8/site-packages/ray/rllib/utils/metrics/learner_info.py:64: RuntimeWarning: Mean of empty slice\n",
      "  lambda *s: None if s[0] is None else np.nanmean(s, axis=0),\n",
      "/home/allenwu/anaconda3/envs/marllib/lib/python3.8/site-packages/ray/rllib/utils/metrics/learner_info.py:64: RuntimeWarning: Mean of empty slice\n",
      "  lambda *s: None if s[0] is None else np.nanmean(s, axis=0),\n",
      "/home/allenwu/anaconda3/envs/marllib/lib/python3.8/site-packages/ray/rllib/utils/metrics/learner_info.py:64: RuntimeWarning: Mean of empty slice\n",
      "  lambda *s: None if s[0] is None else np.nanmean(s, axis=0),\n",
      "/home/allenwu/anaconda3/envs/marllib/lib/python3.8/site-packages/ray/rllib/utils/metrics/learner_info.py:64: RuntimeWarning: Mean of empty slice\n",
      "  lambda *s: None if s[0] is None else np.nanmean(s, axis=0),\n"
     ]
    },
    {
     "name": "stdout",
     "output_type": "stream",
     "text": [
      "== Status ==\n",
      "Current time: 2023-09-21 02:04:05 (running for 00:20:56.33)\n",
      "Memory usage on this node: 13.6/31.2 GiB\n",
      "Using FIFO scheduling algorithm.\n",
      "Resources requested: 3.0/24 CPUs, 1.0/0 GPUs, 0.0/15.61 GiB heap, 0.0/7.8 GiB objects (0.0/1.0 accelerator_type:G)\n",
      "Result logdir: /home/allenwu/Desktop/work/MARLlib-1.0.3/exp_results/happo_gru_CityLearn_5e-07_0.0005_APPEND-DATA_seed-2\n",
      "Number of trials: 1/1 (1 RUNNING)\n",
      "\n",
      "\n"
     ]
    },
    {
     "name": "stderr",
     "output_type": "stream",
     "text": [
      "/home/allenwu/anaconda3/envs/marllib/lib/python3.8/site-packages/ray/rllib/utils/metrics/learner_info.py:64: RuntimeWarning: Mean of empty slice\n",
      "  lambda *s: None if s[0] is None else np.nanmean(s, axis=0),\n",
      "/home/allenwu/anaconda3/envs/marllib/lib/python3.8/site-packages/ray/rllib/utils/metrics/learner_info.py:64: RuntimeWarning: Mean of empty slice\n",
      "  lambda *s: None if s[0] is None else np.nanmean(s, axis=0),\n",
      "/home/allenwu/anaconda3/envs/marllib/lib/python3.8/site-packages/ray/rllib/utils/metrics/learner_info.py:64: RuntimeWarning: Mean of empty slice\n",
      "  lambda *s: None if s[0] is None else np.nanmean(s, axis=0),\n",
      "/home/allenwu/anaconda3/envs/marllib/lib/python3.8/site-packages/ray/rllib/utils/metrics/learner_info.py:64: RuntimeWarning: Mean of empty slice\n",
      "  lambda *s: None if s[0] is None else np.nanmean(s, axis=0),\n",
      "/home/allenwu/anaconda3/envs/marllib/lib/python3.8/site-packages/ray/rllib/utils/metrics/learner_info.py:64: RuntimeWarning: Mean of empty slice\n",
      "  lambda *s: None if s[0] is None else np.nanmean(s, axis=0),\n",
      "/home/allenwu/anaconda3/envs/marllib/lib/python3.8/site-packages/ray/rllib/utils/metrics/learner_info.py:64: RuntimeWarning: Mean of empty slice\n",
      "  lambda *s: None if s[0] is None else np.nanmean(s, axis=0),\n",
      "/home/allenwu/anaconda3/envs/marllib/lib/python3.8/site-packages/ray/rllib/utils/metrics/learner_info.py:64: RuntimeWarning: Mean of empty slice\n",
      "  lambda *s: None if s[0] is None else np.nanmean(s, axis=0),\n",
      "/home/allenwu/anaconda3/envs/marllib/lib/python3.8/site-packages/ray/rllib/utils/metrics/learner_info.py:64: RuntimeWarning: Mean of empty slice\n",
      "  lambda *s: None if s[0] is None else np.nanmean(s, axis=0),\n",
      "/home/allenwu/anaconda3/envs/marllib/lib/python3.8/site-packages/ray/rllib/utils/metrics/learner_info.py:64: RuntimeWarning: Mean of empty slice\n",
      "  lambda *s: None if s[0] is None else np.nanmean(s, axis=0),\n",
      "/home/allenwu/anaconda3/envs/marllib/lib/python3.8/site-packages/ray/rllib/utils/metrics/learner_info.py:64: RuntimeWarning: Mean of empty slice\n",
      "  lambda *s: None if s[0] is None else np.nanmean(s, axis=0),\n"
     ]
    },
    {
     "name": "stdout",
     "output_type": "stream",
     "text": [
      "== Status ==\n",
      "Current time: 2023-09-21 02:04:10 (running for 00:21:01.73)\n",
      "Memory usage on this node: 13.7/31.2 GiB\n",
      "Using FIFO scheduling algorithm.\n",
      "Resources requested: 3.0/24 CPUs, 1.0/0 GPUs, 0.0/15.61 GiB heap, 0.0/7.8 GiB objects (0.0/1.0 accelerator_type:G)\n",
      "Result logdir: /home/allenwu/Desktop/work/MARLlib-1.0.3/exp_results/happo_gru_CityLearn_5e-07_0.0005_APPEND-DATA_seed-2\n",
      "Number of trials: 1/1 (1 RUNNING)\n",
      "\n",
      "\n"
     ]
    },
    {
     "name": "stderr",
     "output_type": "stream",
     "text": [
      "/home/allenwu/anaconda3/envs/marllib/lib/python3.8/site-packages/ray/rllib/utils/metrics/learner_info.py:64: RuntimeWarning: Mean of empty slice\n",
      "  lambda *s: None if s[0] is None else np.nanmean(s, axis=0),\n",
      "/home/allenwu/anaconda3/envs/marllib/lib/python3.8/site-packages/ray/rllib/utils/metrics/learner_info.py:64: RuntimeWarning: Mean of empty slice\n",
      "  lambda *s: None if s[0] is None else np.nanmean(s, axis=0),\n",
      "/home/allenwu/anaconda3/envs/marllib/lib/python3.8/site-packages/ray/rllib/utils/metrics/learner_info.py:64: RuntimeWarning: Mean of empty slice\n",
      "  lambda *s: None if s[0] is None else np.nanmean(s, axis=0),\n",
      "/home/allenwu/anaconda3/envs/marllib/lib/python3.8/site-packages/ray/rllib/utils/metrics/learner_info.py:64: RuntimeWarning: Mean of empty slice\n",
      "  lambda *s: None if s[0] is None else np.nanmean(s, axis=0),\n",
      "/home/allenwu/anaconda3/envs/marllib/lib/python3.8/site-packages/ray/rllib/utils/metrics/learner_info.py:64: RuntimeWarning: Mean of empty slice\n",
      "  lambda *s: None if s[0] is None else np.nanmean(s, axis=0),\n",
      "2023-09-21 02:04:14,546\tWARNING ray_trial_executor.py:768 -- Over the last 60 seconds, the Tune event loop has been backlogged processing new results. Consider increasing your period of result reporting to improve performance.\n",
      "/home/allenwu/anaconda3/envs/marllib/lib/python3.8/site-packages/ray/rllib/utils/metrics/learner_info.py:64: RuntimeWarning: Mean of empty slice\n",
      "  lambda *s: None if s[0] is None else np.nanmean(s, axis=0),\n",
      "/home/allenwu/anaconda3/envs/marllib/lib/python3.8/site-packages/ray/rllib/utils/metrics/learner_info.py:64: RuntimeWarning: Mean of empty slice\n",
      "  lambda *s: None if s[0] is None else np.nanmean(s, axis=0),\n",
      "/home/allenwu/anaconda3/envs/marllib/lib/python3.8/site-packages/ray/rllib/utils/metrics/learner_info.py:64: RuntimeWarning: Mean of empty slice\n",
      "  lambda *s: None if s[0] is None else np.nanmean(s, axis=0),\n"
     ]
    },
    {
     "name": "stdout",
     "output_type": "stream",
     "text": [
      "== Status ==\n",
      "Current time: 2023-09-21 02:04:15 (running for 00:21:07.13)\n",
      "Memory usage on this node: 13.7/31.2 GiB\n",
      "Using FIFO scheduling algorithm.\n",
      "Resources requested: 3.0/24 CPUs, 1.0/0 GPUs, 0.0/15.61 GiB heap, 0.0/7.8 GiB objects (0.0/1.0 accelerator_type:G)\n",
      "Result logdir: /home/allenwu/Desktop/work/MARLlib-1.0.3/exp_results/happo_gru_CityLearn_5e-07_0.0005_APPEND-DATA_seed-2\n",
      "Number of trials: 1/1 (1 RUNNING)\n",
      "\n",
      "\n"
     ]
    },
    {
     "name": "stderr",
     "output_type": "stream",
     "text": [
      "/home/allenwu/anaconda3/envs/marllib/lib/python3.8/site-packages/ray/rllib/utils/metrics/learner_info.py:64: RuntimeWarning: Mean of empty slice\n",
      "  lambda *s: None if s[0] is None else np.nanmean(s, axis=0),\n",
      "/home/allenwu/anaconda3/envs/marllib/lib/python3.8/site-packages/ray/rllib/utils/metrics/learner_info.py:64: RuntimeWarning: Mean of empty slice\n",
      "  lambda *s: None if s[0] is None else np.nanmean(s, axis=0),\n",
      "/home/allenwu/anaconda3/envs/marllib/lib/python3.8/site-packages/ray/rllib/utils/metrics/learner_info.py:64: RuntimeWarning: Mean of empty slice\n",
      "  lambda *s: None if s[0] is None else np.nanmean(s, axis=0),\n",
      "/home/allenwu/anaconda3/envs/marllib/lib/python3.8/site-packages/ray/rllib/utils/metrics/learner_info.py:64: RuntimeWarning: Mean of empty slice\n",
      "  lambda *s: None if s[0] is None else np.nanmean(s, axis=0),\n",
      "/home/allenwu/anaconda3/envs/marllib/lib/python3.8/site-packages/ray/rllib/utils/metrics/learner_info.py:64: RuntimeWarning: Mean of empty slice\n",
      "  lambda *s: None if s[0] is None else np.nanmean(s, axis=0),\n",
      "/home/allenwu/anaconda3/envs/marllib/lib/python3.8/site-packages/ray/rllib/utils/metrics/learner_info.py:64: RuntimeWarning: Mean of empty slice\n",
      "  lambda *s: None if s[0] is None else np.nanmean(s, axis=0),\n",
      "/home/allenwu/anaconda3/envs/marllib/lib/python3.8/site-packages/ray/rllib/utils/metrics/learner_info.py:64: RuntimeWarning: Mean of empty slice\n",
      "  lambda *s: None if s[0] is None else np.nanmean(s, axis=0),\n",
      "/home/allenwu/anaconda3/envs/marllib/lib/python3.8/site-packages/ray/rllib/utils/metrics/learner_info.py:64: RuntimeWarning: Mean of empty slice\n",
      "  lambda *s: None if s[0] is None else np.nanmean(s, axis=0),\n"
     ]
    },
    {
     "name": "stdout",
     "output_type": "stream",
     "text": [
      "== Status ==\n",
      "Current time: 2023-09-21 02:04:21 (running for 00:21:12.51)\n",
      "Memory usage on this node: 13.8/31.2 GiB\n",
      "Using FIFO scheduling algorithm.\n",
      "Resources requested: 3.0/24 CPUs, 1.0/0 GPUs, 0.0/15.61 GiB heap, 0.0/7.8 GiB objects (0.0/1.0 accelerator_type:G)\n",
      "Result logdir: /home/allenwu/Desktop/work/MARLlib-1.0.3/exp_results/happo_gru_CityLearn_5e-07_0.0005_APPEND-DATA_seed-2\n",
      "Number of trials: 1/1 (1 RUNNING)\n",
      "\n",
      "\n"
     ]
    },
    {
     "name": "stderr",
     "output_type": "stream",
     "text": [
      "/home/allenwu/anaconda3/envs/marllib/lib/python3.8/site-packages/ray/rllib/utils/metrics/learner_info.py:64: RuntimeWarning: Mean of empty slice\n",
      "  lambda *s: None if s[0] is None else np.nanmean(s, axis=0),\n",
      "/home/allenwu/anaconda3/envs/marllib/lib/python3.8/site-packages/ray/rllib/utils/metrics/learner_info.py:64: RuntimeWarning: Mean of empty slice\n",
      "  lambda *s: None if s[0] is None else np.nanmean(s, axis=0),\n",
      "/home/allenwu/anaconda3/envs/marllib/lib/python3.8/site-packages/ray/rllib/utils/metrics/learner_info.py:64: RuntimeWarning: Mean of empty slice\n",
      "  lambda *s: None if s[0] is None else np.nanmean(s, axis=0),\n",
      "/home/allenwu/anaconda3/envs/marllib/lib/python3.8/site-packages/ray/rllib/utils/metrics/learner_info.py:64: RuntimeWarning: Mean of empty slice\n",
      "  lambda *s: None if s[0] is None else np.nanmean(s, axis=0),\n",
      "/home/allenwu/anaconda3/envs/marllib/lib/python3.8/site-packages/ray/rllib/utils/metrics/learner_info.py:64: RuntimeWarning: Mean of empty slice\n",
      "  lambda *s: None if s[0] is None else np.nanmean(s, axis=0),\n",
      "/home/allenwu/anaconda3/envs/marllib/lib/python3.8/site-packages/ray/rllib/utils/metrics/learner_info.py:64: RuntimeWarning: Mean of empty slice\n",
      "  lambda *s: None if s[0] is None else np.nanmean(s, axis=0),\n",
      "/home/allenwu/anaconda3/envs/marllib/lib/python3.8/site-packages/ray/rllib/utils/metrics/learner_info.py:64: RuntimeWarning: Mean of empty slice\n",
      "  lambda *s: None if s[0] is None else np.nanmean(s, axis=0),\n",
      "/home/allenwu/anaconda3/envs/marllib/lib/python3.8/site-packages/ray/rllib/utils/metrics/learner_info.py:64: RuntimeWarning: Mean of empty slice\n",
      "  lambda *s: None if s[0] is None else np.nanmean(s, axis=0),\n",
      "/home/allenwu/anaconda3/envs/marllib/lib/python3.8/site-packages/ray/rllib/utils/metrics/learner_info.py:64: RuntimeWarning: Mean of empty slice\n",
      "  lambda *s: None if s[0] is None else np.nanmean(s, axis=0),\n",
      "/home/allenwu/anaconda3/envs/marllib/lib/python3.8/site-packages/ray/rllib/utils/metrics/learner_info.py:64: RuntimeWarning: Mean of empty slice\n",
      "  lambda *s: None if s[0] is None else np.nanmean(s, axis=0),\n"
     ]
    },
    {
     "name": "stdout",
     "output_type": "stream",
     "text": [
      "== Status ==\n",
      "Current time: 2023-09-21 02:04:26 (running for 00:21:17.90)\n",
      "Memory usage on this node: 13.7/31.2 GiB\n",
      "Using FIFO scheduling algorithm.\n",
      "Resources requested: 3.0/24 CPUs, 1.0/0 GPUs, 0.0/15.61 GiB heap, 0.0/7.8 GiB objects (0.0/1.0 accelerator_type:G)\n",
      "Result logdir: /home/allenwu/Desktop/work/MARLlib-1.0.3/exp_results/happo_gru_CityLearn_5e-07_0.0005_APPEND-DATA_seed-2\n",
      "Number of trials: 1/1 (1 RUNNING)\n",
      "\n",
      "\n"
     ]
    },
    {
     "name": "stderr",
     "output_type": "stream",
     "text": [
      "/home/allenwu/anaconda3/envs/marllib/lib/python3.8/site-packages/ray/rllib/utils/metrics/learner_info.py:64: RuntimeWarning: Mean of empty slice\n",
      "  lambda *s: None if s[0] is None else np.nanmean(s, axis=0),\n",
      "/home/allenwu/anaconda3/envs/marllib/lib/python3.8/site-packages/ray/rllib/utils/metrics/learner_info.py:64: RuntimeWarning: Mean of empty slice\n",
      "  lambda *s: None if s[0] is None else np.nanmean(s, axis=0),\n",
      "/home/allenwu/anaconda3/envs/marllib/lib/python3.8/site-packages/ray/rllib/utils/metrics/learner_info.py:64: RuntimeWarning: Mean of empty slice\n",
      "  lambda *s: None if s[0] is None else np.nanmean(s, axis=0),\n",
      "/home/allenwu/anaconda3/envs/marllib/lib/python3.8/site-packages/ray/rllib/utils/metrics/learner_info.py:64: RuntimeWarning: Mean of empty slice\n",
      "  lambda *s: None if s[0] is None else np.nanmean(s, axis=0),\n",
      "/home/allenwu/anaconda3/envs/marllib/lib/python3.8/site-packages/ray/rllib/utils/metrics/learner_info.py:64: RuntimeWarning: Mean of empty slice\n",
      "  lambda *s: None if s[0] is None else np.nanmean(s, axis=0),\n",
      "/home/allenwu/anaconda3/envs/marllib/lib/python3.8/site-packages/ray/rllib/utils/metrics/learner_info.py:64: RuntimeWarning: Mean of empty slice\n",
      "  lambda *s: None if s[0] is None else np.nanmean(s, axis=0),\n",
      "/home/allenwu/anaconda3/envs/marllib/lib/python3.8/site-packages/ray/rllib/utils/metrics/learner_info.py:64: RuntimeWarning: Mean of empty slice\n",
      "  lambda *s: None if s[0] is None else np.nanmean(s, axis=0),\n",
      "/home/allenwu/anaconda3/envs/marllib/lib/python3.8/site-packages/ray/rllib/utils/metrics/learner_info.py:64: RuntimeWarning: Mean of empty slice\n",
      "  lambda *s: None if s[0] is None else np.nanmean(s, axis=0),\n",
      "/home/allenwu/anaconda3/envs/marllib/lib/python3.8/site-packages/ray/rllib/utils/metrics/learner_info.py:64: RuntimeWarning: Mean of empty slice\n",
      "  lambda *s: None if s[0] is None else np.nanmean(s, axis=0),\n"
     ]
    },
    {
     "name": "stdout",
     "output_type": "stream",
     "text": [
      "== Status ==\n",
      "Current time: 2023-09-21 02:04:32 (running for 00:21:23.28)\n",
      "Memory usage on this node: 13.8/31.2 GiB\n",
      "Using FIFO scheduling algorithm.\n",
      "Resources requested: 3.0/24 CPUs, 1.0/0 GPUs, 0.0/15.61 GiB heap, 0.0/7.8 GiB objects (0.0/1.0 accelerator_type:G)\n",
      "Result logdir: /home/allenwu/Desktop/work/MARLlib-1.0.3/exp_results/happo_gru_CityLearn_5e-07_0.0005_APPEND-DATA_seed-2\n",
      "Number of trials: 1/1 (1 RUNNING)\n",
      "\n",
      "\n"
     ]
    },
    {
     "name": "stderr",
     "output_type": "stream",
     "text": [
      "/home/allenwu/anaconda3/envs/marllib/lib/python3.8/site-packages/ray/rllib/utils/metrics/learner_info.py:64: RuntimeWarning: Mean of empty slice\n",
      "  lambda *s: None if s[0] is None else np.nanmean(s, axis=0),\n",
      "/home/allenwu/anaconda3/envs/marllib/lib/python3.8/site-packages/ray/rllib/utils/metrics/learner_info.py:64: RuntimeWarning: Mean of empty slice\n",
      "  lambda *s: None if s[0] is None else np.nanmean(s, axis=0),\n",
      "/home/allenwu/anaconda3/envs/marllib/lib/python3.8/site-packages/ray/rllib/utils/metrics/learner_info.py:64: RuntimeWarning: Mean of empty slice\n",
      "  lambda *s: None if s[0] is None else np.nanmean(s, axis=0),\n",
      "/home/allenwu/anaconda3/envs/marllib/lib/python3.8/site-packages/ray/rllib/utils/metrics/learner_info.py:64: RuntimeWarning: Mean of empty slice\n",
      "  lambda *s: None if s[0] is None else np.nanmean(s, axis=0),\n",
      "/home/allenwu/anaconda3/envs/marllib/lib/python3.8/site-packages/ray/rllib/utils/metrics/learner_info.py:64: RuntimeWarning: Mean of empty slice\n",
      "  lambda *s: None if s[0] is None else np.nanmean(s, axis=0),\n",
      "/home/allenwu/anaconda3/envs/marllib/lib/python3.8/site-packages/ray/rllib/utils/metrics/learner_info.py:64: RuntimeWarning: Mean of empty slice\n",
      "  lambda *s: None if s[0] is None else np.nanmean(s, axis=0),\n",
      "/home/allenwu/anaconda3/envs/marllib/lib/python3.8/site-packages/ray/rllib/utils/metrics/learner_info.py:64: RuntimeWarning: Mean of empty slice\n",
      "  lambda *s: None if s[0] is None else np.nanmean(s, axis=0),\n",
      "/home/allenwu/anaconda3/envs/marllib/lib/python3.8/site-packages/ray/rllib/utils/metrics/learner_info.py:64: RuntimeWarning: Mean of empty slice\n",
      "  lambda *s: None if s[0] is None else np.nanmean(s, axis=0),\n",
      "/home/allenwu/anaconda3/envs/marllib/lib/python3.8/site-packages/ray/rllib/utils/metrics/learner_info.py:64: RuntimeWarning: Mean of empty slice\n",
      "  lambda *s: None if s[0] is None else np.nanmean(s, axis=0),\n"
     ]
    },
    {
     "name": "stdout",
     "output_type": "stream",
     "text": [
      "== Status ==\n",
      "Current time: 2023-09-21 02:04:37 (running for 00:21:28.71)\n",
      "Memory usage on this node: 13.8/31.2 GiB\n",
      "Using FIFO scheduling algorithm.\n",
      "Resources requested: 3.0/24 CPUs, 1.0/0 GPUs, 0.0/15.61 GiB heap, 0.0/7.8 GiB objects (0.0/1.0 accelerator_type:G)\n",
      "Result logdir: /home/allenwu/Desktop/work/MARLlib-1.0.3/exp_results/happo_gru_CityLearn_5e-07_0.0005_APPEND-DATA_seed-2\n",
      "Number of trials: 1/1 (1 RUNNING)\n",
      "\n",
      "\n"
     ]
    },
    {
     "name": "stderr",
     "output_type": "stream",
     "text": [
      "/home/allenwu/anaconda3/envs/marllib/lib/python3.8/site-packages/ray/rllib/utils/metrics/learner_info.py:64: RuntimeWarning: Mean of empty slice\n",
      "  lambda *s: None if s[0] is None else np.nanmean(s, axis=0),\n",
      "/home/allenwu/anaconda3/envs/marllib/lib/python3.8/site-packages/ray/rllib/utils/metrics/learner_info.py:64: RuntimeWarning: Mean of empty slice\n",
      "  lambda *s: None if s[0] is None else np.nanmean(s, axis=0),\n",
      "/home/allenwu/anaconda3/envs/marllib/lib/python3.8/site-packages/ray/rllib/utils/metrics/learner_info.py:64: RuntimeWarning: Mean of empty slice\n",
      "  lambda *s: None if s[0] is None else np.nanmean(s, axis=0),\n",
      "/home/allenwu/anaconda3/envs/marllib/lib/python3.8/site-packages/ray/rllib/utils/metrics/learner_info.py:64: RuntimeWarning: Mean of empty slice\n",
      "  lambda *s: None if s[0] is None else np.nanmean(s, axis=0),\n",
      "/home/allenwu/anaconda3/envs/marllib/lib/python3.8/site-packages/ray/rllib/utils/metrics/learner_info.py:64: RuntimeWarning: Mean of empty slice\n",
      "  lambda *s: None if s[0] is None else np.nanmean(s, axis=0),\n",
      "/home/allenwu/anaconda3/envs/marllib/lib/python3.8/site-packages/ray/rllib/utils/metrics/learner_info.py:64: RuntimeWarning: Mean of empty slice\n",
      "  lambda *s: None if s[0] is None else np.nanmean(s, axis=0),\n"
     ]
    },
    {
     "name": "stdout",
     "output_type": "stream",
     "text": [
      "== Status ==\n",
      "Current time: 2023-09-21 02:04:42 (running for 00:21:34.08)\n",
      "Memory usage on this node: 13.8/31.2 GiB\n",
      "Using FIFO scheduling algorithm.\n",
      "Resources requested: 3.0/24 CPUs, 1.0/0 GPUs, 0.0/15.61 GiB heap, 0.0/7.8 GiB objects (0.0/1.0 accelerator_type:G)\n",
      "Result logdir: /home/allenwu/Desktop/work/MARLlib-1.0.3/exp_results/happo_gru_CityLearn_5e-07_0.0005_APPEND-DATA_seed-2\n",
      "Number of trials: 1/1 (1 RUNNING)\n",
      "\n",
      "\n"
     ]
    },
    {
     "name": "stderr",
     "output_type": "stream",
     "text": [
      "/home/allenwu/anaconda3/envs/marllib/lib/python3.8/site-packages/ray/rllib/utils/metrics/learner_info.py:64: RuntimeWarning: Mean of empty slice\n",
      "  lambda *s: None if s[0] is None else np.nanmean(s, axis=0),\n",
      "/home/allenwu/anaconda3/envs/marllib/lib/python3.8/site-packages/ray/rllib/utils/metrics/learner_info.py:64: RuntimeWarning: Mean of empty slice\n",
      "  lambda *s: None if s[0] is None else np.nanmean(s, axis=0),\n",
      "/home/allenwu/anaconda3/envs/marllib/lib/python3.8/site-packages/ray/rllib/utils/metrics/learner_info.py:64: RuntimeWarning: Mean of empty slice\n",
      "  lambda *s: None if s[0] is None else np.nanmean(s, axis=0),\n",
      "/home/allenwu/anaconda3/envs/marllib/lib/python3.8/site-packages/ray/rllib/utils/metrics/learner_info.py:64: RuntimeWarning: Mean of empty slice\n",
      "  lambda *s: None if s[0] is None else np.nanmean(s, axis=0),\n",
      "/home/allenwu/anaconda3/envs/marllib/lib/python3.8/site-packages/ray/rllib/utils/metrics/learner_info.py:64: RuntimeWarning: Mean of empty slice\n",
      "  lambda *s: None if s[0] is None else np.nanmean(s, axis=0),\n",
      "/home/allenwu/anaconda3/envs/marllib/lib/python3.8/site-packages/ray/rllib/utils/metrics/learner_info.py:64: RuntimeWarning: Mean of empty slice\n",
      "  lambda *s: None if s[0] is None else np.nanmean(s, axis=0),\n",
      "/home/allenwu/anaconda3/envs/marllib/lib/python3.8/site-packages/ray/rllib/utils/metrics/learner_info.py:64: RuntimeWarning: Mean of empty slice\n",
      "  lambda *s: None if s[0] is None else np.nanmean(s, axis=0),\n"
     ]
    },
    {
     "name": "stdout",
     "output_type": "stream",
     "text": [
      "== Status ==\n",
      "Current time: 2023-09-21 02:04:48 (running for 00:21:39.47)\n",
      "Memory usage on this node: 13.9/31.2 GiB\n",
      "Using FIFO scheduling algorithm.\n",
      "Resources requested: 3.0/24 CPUs, 1.0/0 GPUs, 0.0/15.61 GiB heap, 0.0/7.8 GiB objects (0.0/1.0 accelerator_type:G)\n",
      "Result logdir: /home/allenwu/Desktop/work/MARLlib-1.0.3/exp_results/happo_gru_CityLearn_5e-07_0.0005_APPEND-DATA_seed-2\n",
      "Number of trials: 1/1 (1 RUNNING)\n",
      "\n",
      "\n"
     ]
    },
    {
     "name": "stderr",
     "output_type": "stream",
     "text": [
      "/home/allenwu/anaconda3/envs/marllib/lib/python3.8/site-packages/ray/rllib/utils/metrics/learner_info.py:64: RuntimeWarning: Mean of empty slice\n",
      "  lambda *s: None if s[0] is None else np.nanmean(s, axis=0),\n",
      "/home/allenwu/anaconda3/envs/marllib/lib/python3.8/site-packages/ray/rllib/utils/metrics/learner_info.py:64: RuntimeWarning: Mean of empty slice\n",
      "  lambda *s: None if s[0] is None else np.nanmean(s, axis=0),\n",
      "/home/allenwu/anaconda3/envs/marllib/lib/python3.8/site-packages/ray/rllib/utils/metrics/learner_info.py:64: RuntimeWarning: Mean of empty slice\n",
      "  lambda *s: None if s[0] is None else np.nanmean(s, axis=0),\n",
      "/home/allenwu/anaconda3/envs/marllib/lib/python3.8/site-packages/ray/rllib/utils/metrics/learner_info.py:64: RuntimeWarning: Mean of empty slice\n",
      "  lambda *s: None if s[0] is None else np.nanmean(s, axis=0),\n",
      "/home/allenwu/anaconda3/envs/marllib/lib/python3.8/site-packages/ray/rllib/utils/metrics/learner_info.py:64: RuntimeWarning: Mean of empty slice\n",
      "  lambda *s: None if s[0] is None else np.nanmean(s, axis=0),\n",
      "/home/allenwu/anaconda3/envs/marllib/lib/python3.8/site-packages/ray/rllib/utils/metrics/learner_info.py:64: RuntimeWarning: Mean of empty slice\n",
      "  lambda *s: None if s[0] is None else np.nanmean(s, axis=0),\n",
      "/home/allenwu/anaconda3/envs/marllib/lib/python3.8/site-packages/ray/rllib/utils/metrics/learner_info.py:64: RuntimeWarning: Mean of empty slice\n",
      "  lambda *s: None if s[0] is None else np.nanmean(s, axis=0),\n",
      "/home/allenwu/anaconda3/envs/marllib/lib/python3.8/site-packages/ray/rllib/utils/metrics/learner_info.py:64: RuntimeWarning: Mean of empty slice\n",
      "  lambda *s: None if s[0] is None else np.nanmean(s, axis=0),\n",
      "/home/allenwu/anaconda3/envs/marllib/lib/python3.8/site-packages/ray/rllib/utils/metrics/learner_info.py:64: RuntimeWarning: Mean of empty slice\n",
      "  lambda *s: None if s[0] is None else np.nanmean(s, axis=0),\n"
     ]
    },
    {
     "name": "stdout",
     "output_type": "stream",
     "text": [
      "== Status ==\n",
      "Current time: 2023-09-21 02:04:53 (running for 00:21:44.84)\n",
      "Memory usage on this node: 13.9/31.2 GiB\n",
      "Using FIFO scheduling algorithm.\n",
      "Resources requested: 3.0/24 CPUs, 1.0/0 GPUs, 0.0/15.61 GiB heap, 0.0/7.8 GiB objects (0.0/1.0 accelerator_type:G)\n",
      "Result logdir: /home/allenwu/Desktop/work/MARLlib-1.0.3/exp_results/happo_gru_CityLearn_5e-07_0.0005_APPEND-DATA_seed-2\n",
      "Number of trials: 1/1 (1 RUNNING)\n",
      "\n",
      "\n"
     ]
    },
    {
     "name": "stderr",
     "output_type": "stream",
     "text": [
      "/home/allenwu/anaconda3/envs/marllib/lib/python3.8/site-packages/ray/rllib/utils/metrics/learner_info.py:64: RuntimeWarning: Mean of empty slice\n",
      "  lambda *s: None if s[0] is None else np.nanmean(s, axis=0),\n",
      "/home/allenwu/anaconda3/envs/marllib/lib/python3.8/site-packages/ray/rllib/utils/metrics/learner_info.py:64: RuntimeWarning: Mean of empty slice\n",
      "  lambda *s: None if s[0] is None else np.nanmean(s, axis=0),\n",
      "/home/allenwu/anaconda3/envs/marllib/lib/python3.8/site-packages/ray/rllib/utils/metrics/learner_info.py:64: RuntimeWarning: Mean of empty slice\n",
      "  lambda *s: None if s[0] is None else np.nanmean(s, axis=0),\n",
      "/home/allenwu/anaconda3/envs/marllib/lib/python3.8/site-packages/ray/rllib/utils/metrics/learner_info.py:64: RuntimeWarning: Mean of empty slice\n",
      "  lambda *s: None if s[0] is None else np.nanmean(s, axis=0),\n",
      "/home/allenwu/anaconda3/envs/marllib/lib/python3.8/site-packages/ray/rllib/utils/metrics/learner_info.py:64: RuntimeWarning: Mean of empty slice\n",
      "  lambda *s: None if s[0] is None else np.nanmean(s, axis=0),\n",
      "/home/allenwu/anaconda3/envs/marllib/lib/python3.8/site-packages/ray/rllib/utils/metrics/learner_info.py:64: RuntimeWarning: Mean of empty slice\n",
      "  lambda *s: None if s[0] is None else np.nanmean(s, axis=0),\n"
     ]
    },
    {
     "name": "stdout",
     "output_type": "stream",
     "text": [
      "== Status ==\n",
      "Current time: 2023-09-21 02:04:59 (running for 00:21:50.24)\n",
      "Memory usage on this node: 14.0/31.2 GiB\n",
      "Using FIFO scheduling algorithm.\n",
      "Resources requested: 3.0/24 CPUs, 1.0/0 GPUs, 0.0/15.61 GiB heap, 0.0/7.8 GiB objects (0.0/1.0 accelerator_type:G)\n",
      "Result logdir: /home/allenwu/Desktop/work/MARLlib-1.0.3/exp_results/happo_gru_CityLearn_5e-07_0.0005_APPEND-DATA_seed-2\n",
      "Number of trials: 1/1 (1 RUNNING)\n",
      "\n",
      "\n"
     ]
    },
    {
     "name": "stderr",
     "output_type": "stream",
     "text": [
      "/home/allenwu/anaconda3/envs/marllib/lib/python3.8/site-packages/ray/rllib/utils/metrics/learner_info.py:64: RuntimeWarning: Mean of empty slice\n",
      "  lambda *s: None if s[0] is None else np.nanmean(s, axis=0),\n",
      "/home/allenwu/anaconda3/envs/marllib/lib/python3.8/site-packages/ray/rllib/utils/metrics/learner_info.py:64: RuntimeWarning: Mean of empty slice\n",
      "  lambda *s: None if s[0] is None else np.nanmean(s, axis=0),\n",
      "/home/allenwu/anaconda3/envs/marllib/lib/python3.8/site-packages/ray/rllib/utils/metrics/learner_info.py:64: RuntimeWarning: Mean of empty slice\n",
      "  lambda *s: None if s[0] is None else np.nanmean(s, axis=0),\n",
      "/home/allenwu/anaconda3/envs/marllib/lib/python3.8/site-packages/ray/rllib/utils/metrics/learner_info.py:64: RuntimeWarning: Mean of empty slice\n",
      "  lambda *s: None if s[0] is None else np.nanmean(s, axis=0),\n",
      "/home/allenwu/anaconda3/envs/marllib/lib/python3.8/site-packages/ray/rllib/utils/metrics/learner_info.py:64: RuntimeWarning: Mean of empty slice\n",
      "  lambda *s: None if s[0] is None else np.nanmean(s, axis=0),\n",
      "/home/allenwu/anaconda3/envs/marllib/lib/python3.8/site-packages/ray/rllib/utils/metrics/learner_info.py:64: RuntimeWarning: Mean of empty slice\n",
      "  lambda *s: None if s[0] is None else np.nanmean(s, axis=0),\n",
      "/home/allenwu/anaconda3/envs/marllib/lib/python3.8/site-packages/ray/rllib/utils/metrics/learner_info.py:64: RuntimeWarning: Mean of empty slice\n",
      "  lambda *s: None if s[0] is None else np.nanmean(s, axis=0),\n",
      "/home/allenwu/anaconda3/envs/marllib/lib/python3.8/site-packages/ray/rllib/utils/metrics/learner_info.py:64: RuntimeWarning: Mean of empty slice\n",
      "  lambda *s: None if s[0] is None else np.nanmean(s, axis=0),\n"
     ]
    },
    {
     "name": "stdout",
     "output_type": "stream",
     "text": [
      "== Status ==\n",
      "Current time: 2023-09-21 02:05:04 (running for 00:21:55.54)\n",
      "Memory usage on this node: 13.9/31.2 GiB\n",
      "Using FIFO scheduling algorithm.\n",
      "Resources requested: 3.0/24 CPUs, 1.0/0 GPUs, 0.0/15.61 GiB heap, 0.0/7.8 GiB objects (0.0/1.0 accelerator_type:G)\n",
      "Result logdir: /home/allenwu/Desktop/work/MARLlib-1.0.3/exp_results/happo_gru_CityLearn_5e-07_0.0005_APPEND-DATA_seed-2\n",
      "Number of trials: 1/1 (1 RUNNING)\n",
      "\n",
      "\n"
     ]
    },
    {
     "name": "stderr",
     "output_type": "stream",
     "text": [
      "/home/allenwu/anaconda3/envs/marllib/lib/python3.8/site-packages/ray/rllib/utils/metrics/learner_info.py:64: RuntimeWarning: Mean of empty slice\n",
      "  lambda *s: None if s[0] is None else np.nanmean(s, axis=0),\n",
      "/home/allenwu/anaconda3/envs/marllib/lib/python3.8/site-packages/ray/rllib/utils/metrics/learner_info.py:64: RuntimeWarning: Mean of empty slice\n",
      "  lambda *s: None if s[0] is None else np.nanmean(s, axis=0),\n",
      "/home/allenwu/anaconda3/envs/marllib/lib/python3.8/site-packages/ray/rllib/utils/metrics/learner_info.py:64: RuntimeWarning: Mean of empty slice\n",
      "  lambda *s: None if s[0] is None else np.nanmean(s, axis=0),\n",
      "/home/allenwu/anaconda3/envs/marllib/lib/python3.8/site-packages/ray/rllib/utils/metrics/learner_info.py:64: RuntimeWarning: Mean of empty slice\n",
      "  lambda *s: None if s[0] is None else np.nanmean(s, axis=0),\n",
      "/home/allenwu/anaconda3/envs/marllib/lib/python3.8/site-packages/ray/rllib/utils/metrics/learner_info.py:64: RuntimeWarning: Mean of empty slice\n",
      "  lambda *s: None if s[0] is None else np.nanmean(s, axis=0),\n",
      "/home/allenwu/anaconda3/envs/marllib/lib/python3.8/site-packages/ray/rllib/utils/metrics/learner_info.py:64: RuntimeWarning: Mean of empty slice\n",
      "  lambda *s: None if s[0] is None else np.nanmean(s, axis=0),\n",
      "/home/allenwu/anaconda3/envs/marllib/lib/python3.8/site-packages/ray/rllib/utils/metrics/learner_info.py:64: RuntimeWarning: Mean of empty slice\n",
      "  lambda *s: None if s[0] is None else np.nanmean(s, axis=0),\n",
      "/home/allenwu/anaconda3/envs/marllib/lib/python3.8/site-packages/ray/rllib/utils/metrics/learner_info.py:64: RuntimeWarning: Mean of empty slice\n",
      "  lambda *s: None if s[0] is None else np.nanmean(s, axis=0),\n",
      "/home/allenwu/anaconda3/envs/marllib/lib/python3.8/site-packages/ray/rllib/utils/metrics/learner_info.py:64: RuntimeWarning: Mean of empty slice\n",
      "  lambda *s: None if s[0] is None else np.nanmean(s, axis=0),\n"
     ]
    },
    {
     "name": "stdout",
     "output_type": "stream",
     "text": [
      "== Status ==\n",
      "Current time: 2023-09-21 02:05:09 (running for 00:22:00.84)\n",
      "Memory usage on this node: 13.9/31.2 GiB\n",
      "Using FIFO scheduling algorithm.\n",
      "Resources requested: 3.0/24 CPUs, 1.0/0 GPUs, 0.0/15.61 GiB heap, 0.0/7.8 GiB objects (0.0/1.0 accelerator_type:G)\n",
      "Result logdir: /home/allenwu/Desktop/work/MARLlib-1.0.3/exp_results/happo_gru_CityLearn_5e-07_0.0005_APPEND-DATA_seed-2\n",
      "Number of trials: 1/1 (1 RUNNING)\n",
      "\n",
      "\n"
     ]
    },
    {
     "name": "stderr",
     "output_type": "stream",
     "text": [
      "/home/allenwu/anaconda3/envs/marllib/lib/python3.8/site-packages/ray/rllib/utils/metrics/learner_info.py:64: RuntimeWarning: Mean of empty slice\n",
      "  lambda *s: None if s[0] is None else np.nanmean(s, axis=0),\n",
      "/home/allenwu/anaconda3/envs/marllib/lib/python3.8/site-packages/ray/rllib/utils/metrics/learner_info.py:64: RuntimeWarning: Mean of empty slice\n",
      "  lambda *s: None if s[0] is None else np.nanmean(s, axis=0),\n",
      "/home/allenwu/anaconda3/envs/marllib/lib/python3.8/site-packages/ray/rllib/utils/metrics/learner_info.py:64: RuntimeWarning: Mean of empty slice\n",
      "  lambda *s: None if s[0] is None else np.nanmean(s, axis=0),\n",
      "/home/allenwu/anaconda3/envs/marllib/lib/python3.8/site-packages/ray/rllib/utils/metrics/learner_info.py:64: RuntimeWarning: Mean of empty slice\n",
      "  lambda *s: None if s[0] is None else np.nanmean(s, axis=0),\n",
      "/home/allenwu/anaconda3/envs/marllib/lib/python3.8/site-packages/ray/rllib/utils/metrics/learner_info.py:64: RuntimeWarning: Mean of empty slice\n",
      "  lambda *s: None if s[0] is None else np.nanmean(s, axis=0),\n",
      "/home/allenwu/anaconda3/envs/marllib/lib/python3.8/site-packages/ray/rllib/utils/metrics/learner_info.py:64: RuntimeWarning: Mean of empty slice\n",
      "  lambda *s: None if s[0] is None else np.nanmean(s, axis=0),\n",
      "/home/allenwu/anaconda3/envs/marllib/lib/python3.8/site-packages/ray/rllib/utils/metrics/learner_info.py:64: RuntimeWarning: Mean of empty slice\n",
      "  lambda *s: None if s[0] is None else np.nanmean(s, axis=0),\n",
      "/home/allenwu/anaconda3/envs/marllib/lib/python3.8/site-packages/ray/rllib/utils/metrics/learner_info.py:64: RuntimeWarning: Mean of empty slice\n",
      "  lambda *s: None if s[0] is None else np.nanmean(s, axis=0),\n",
      "/home/allenwu/anaconda3/envs/marllib/lib/python3.8/site-packages/ray/rllib/utils/metrics/learner_info.py:64: RuntimeWarning: Mean of empty slice\n",
      "  lambda *s: None if s[0] is None else np.nanmean(s, axis=0),\n",
      "/home/allenwu/anaconda3/envs/marllib/lib/python3.8/site-packages/ray/rllib/utils/metrics/learner_info.py:64: RuntimeWarning: Mean of empty slice\n",
      "  lambda *s: None if s[0] is None else np.nanmean(s, axis=0),\n",
      "/home/allenwu/anaconda3/envs/marllib/lib/python3.8/site-packages/ray/rllib/utils/metrics/learner_info.py:64: RuntimeWarning: Mean of empty slice\n",
      "  lambda *s: None if s[0] is None else np.nanmean(s, axis=0),\n",
      "2023-09-21 02:05:14,876\tWARNING ray_trial_executor.py:768 -- Over the last 60 seconds, the Tune event loop has been backlogged processing new results. Consider increasing your period of result reporting to improve performance.\n"
     ]
    },
    {
     "name": "stdout",
     "output_type": "stream",
     "text": [
      "== Status ==\n",
      "Current time: 2023-09-21 02:05:14 (running for 00:22:06.11)\n",
      "Memory usage on this node: 14.0/31.2 GiB\n",
      "Using FIFO scheduling algorithm.\n",
      "Resources requested: 3.0/24 CPUs, 1.0/0 GPUs, 0.0/15.61 GiB heap, 0.0/7.8 GiB objects (0.0/1.0 accelerator_type:G)\n",
      "Result logdir: /home/allenwu/Desktop/work/MARLlib-1.0.3/exp_results/happo_gru_CityLearn_5e-07_0.0005_APPEND-DATA_seed-2\n",
      "Number of trials: 1/1 (1 RUNNING)\n",
      "\n",
      "\n"
     ]
    },
    {
     "name": "stderr",
     "output_type": "stream",
     "text": [
      "/home/allenwu/anaconda3/envs/marllib/lib/python3.8/site-packages/ray/rllib/utils/metrics/learner_info.py:64: RuntimeWarning: Mean of empty slice\n",
      "  lambda *s: None if s[0] is None else np.nanmean(s, axis=0),\n",
      "/home/allenwu/anaconda3/envs/marllib/lib/python3.8/site-packages/ray/rllib/utils/metrics/learner_info.py:64: RuntimeWarning: Mean of empty slice\n",
      "  lambda *s: None if s[0] is None else np.nanmean(s, axis=0),\n",
      "/home/allenwu/anaconda3/envs/marllib/lib/python3.8/site-packages/ray/rllib/utils/metrics/learner_info.py:64: RuntimeWarning: Mean of empty slice\n",
      "  lambda *s: None if s[0] is None else np.nanmean(s, axis=0),\n",
      "/home/allenwu/anaconda3/envs/marllib/lib/python3.8/site-packages/ray/rllib/utils/metrics/learner_info.py:64: RuntimeWarning: Mean of empty slice\n",
      "  lambda *s: None if s[0] is None else np.nanmean(s, axis=0),\n",
      "/home/allenwu/anaconda3/envs/marllib/lib/python3.8/site-packages/ray/rllib/utils/metrics/learner_info.py:64: RuntimeWarning: Mean of empty slice\n",
      "  lambda *s: None if s[0] is None else np.nanmean(s, axis=0),\n"
     ]
    },
    {
     "name": "stdout",
     "output_type": "stream",
     "text": [
      "== Status ==\n",
      "Current time: 2023-09-21 02:05:20 (running for 00:22:11.43)\n",
      "Memory usage on this node: 14.0/31.2 GiB\n",
      "Using FIFO scheduling algorithm.\n",
      "Resources requested: 3.0/24 CPUs, 1.0/0 GPUs, 0.0/15.61 GiB heap, 0.0/7.8 GiB objects (0.0/1.0 accelerator_type:G)\n",
      "Result logdir: /home/allenwu/Desktop/work/MARLlib-1.0.3/exp_results/happo_gru_CityLearn_5e-07_0.0005_APPEND-DATA_seed-2\n",
      "Number of trials: 1/1 (1 RUNNING)\n",
      "\n",
      "\n"
     ]
    },
    {
     "name": "stderr",
     "output_type": "stream",
     "text": [
      "/home/allenwu/anaconda3/envs/marllib/lib/python3.8/site-packages/ray/rllib/utils/metrics/learner_info.py:64: RuntimeWarning: Mean of empty slice\n",
      "  lambda *s: None if s[0] is None else np.nanmean(s, axis=0),\n",
      "/home/allenwu/anaconda3/envs/marllib/lib/python3.8/site-packages/ray/rllib/utils/metrics/learner_info.py:64: RuntimeWarning: Mean of empty slice\n",
      "  lambda *s: None if s[0] is None else np.nanmean(s, axis=0),\n",
      "/home/allenwu/anaconda3/envs/marllib/lib/python3.8/site-packages/ray/rllib/utils/metrics/learner_info.py:64: RuntimeWarning: Mean of empty slice\n",
      "  lambda *s: None if s[0] is None else np.nanmean(s, axis=0),\n",
      "/home/allenwu/anaconda3/envs/marllib/lib/python3.8/site-packages/ray/rllib/utils/metrics/learner_info.py:64: RuntimeWarning: Mean of empty slice\n",
      "  lambda *s: None if s[0] is None else np.nanmean(s, axis=0),\n",
      "/home/allenwu/anaconda3/envs/marllib/lib/python3.8/site-packages/ray/rllib/utils/metrics/learner_info.py:64: RuntimeWarning: Mean of empty slice\n",
      "  lambda *s: None if s[0] is None else np.nanmean(s, axis=0),\n",
      "/home/allenwu/anaconda3/envs/marllib/lib/python3.8/site-packages/ray/rllib/utils/metrics/learner_info.py:64: RuntimeWarning: Mean of empty slice\n",
      "  lambda *s: None if s[0] is None else np.nanmean(s, axis=0),\n",
      "/home/allenwu/anaconda3/envs/marllib/lib/python3.8/site-packages/ray/rllib/utils/metrics/learner_info.py:64: RuntimeWarning: Mean of empty slice\n",
      "  lambda *s: None if s[0] is None else np.nanmean(s, axis=0),\n",
      "/home/allenwu/anaconda3/envs/marllib/lib/python3.8/site-packages/ray/rllib/utils/metrics/learner_info.py:64: RuntimeWarning: Mean of empty slice\n",
      "  lambda *s: None if s[0] is None else np.nanmean(s, axis=0),\n",
      "/home/allenwu/anaconda3/envs/marllib/lib/python3.8/site-packages/ray/rllib/utils/metrics/learner_info.py:64: RuntimeWarning: Mean of empty slice\n",
      "  lambda *s: None if s[0] is None else np.nanmean(s, axis=0),\n",
      "/home/allenwu/anaconda3/envs/marllib/lib/python3.8/site-packages/ray/rllib/utils/metrics/learner_info.py:64: RuntimeWarning: Mean of empty slice\n",
      "  lambda *s: None if s[0] is None else np.nanmean(s, axis=0),\n"
     ]
    },
    {
     "name": "stdout",
     "output_type": "stream",
     "text": [
      "== Status ==\n",
      "Current time: 2023-09-21 02:05:25 (running for 00:22:16.57)\n",
      "Memory usage on this node: 14.1/31.2 GiB\n",
      "Using FIFO scheduling algorithm.\n",
      "Resources requested: 3.0/24 CPUs, 1.0/0 GPUs, 0.0/15.61 GiB heap, 0.0/7.8 GiB objects (0.0/1.0 accelerator_type:G)\n",
      "Result logdir: /home/allenwu/Desktop/work/MARLlib-1.0.3/exp_results/happo_gru_CityLearn_5e-07_0.0005_APPEND-DATA_seed-2\n",
      "Number of trials: 1/1 (1 RUNNING)\n",
      "\n",
      "\n"
     ]
    },
    {
     "name": "stderr",
     "output_type": "stream",
     "text": [
      "/home/allenwu/anaconda3/envs/marllib/lib/python3.8/site-packages/ray/rllib/utils/metrics/learner_info.py:64: RuntimeWarning: Mean of empty slice\n",
      "  lambda *s: None if s[0] is None else np.nanmean(s, axis=0),\n",
      "/home/allenwu/anaconda3/envs/marllib/lib/python3.8/site-packages/ray/rllib/utils/metrics/learner_info.py:64: RuntimeWarning: Mean of empty slice\n",
      "  lambda *s: None if s[0] is None else np.nanmean(s, axis=0),\n",
      "/home/allenwu/anaconda3/envs/marllib/lib/python3.8/site-packages/ray/rllib/utils/metrics/learner_info.py:64: RuntimeWarning: Mean of empty slice\n",
      "  lambda *s: None if s[0] is None else np.nanmean(s, axis=0),\n",
      "/home/allenwu/anaconda3/envs/marllib/lib/python3.8/site-packages/ray/rllib/utils/metrics/learner_info.py:64: RuntimeWarning: Mean of empty slice\n",
      "  lambda *s: None if s[0] is None else np.nanmean(s, axis=0),\n",
      "/home/allenwu/anaconda3/envs/marllib/lib/python3.8/site-packages/ray/rllib/utils/metrics/learner_info.py:64: RuntimeWarning: Mean of empty slice\n",
      "  lambda *s: None if s[0] is None else np.nanmean(s, axis=0),\n",
      "/home/allenwu/anaconda3/envs/marllib/lib/python3.8/site-packages/ray/rllib/utils/metrics/learner_info.py:64: RuntimeWarning: Mean of empty slice\n",
      "  lambda *s: None if s[0] is None else np.nanmean(s, axis=0),\n",
      "/home/allenwu/anaconda3/envs/marllib/lib/python3.8/site-packages/ray/rllib/utils/metrics/learner_info.py:64: RuntimeWarning: Mean of empty slice\n",
      "  lambda *s: None if s[0] is None else np.nanmean(s, axis=0),\n",
      "/home/allenwu/anaconda3/envs/marllib/lib/python3.8/site-packages/ray/rllib/utils/metrics/learner_info.py:64: RuntimeWarning: Mean of empty slice\n",
      "  lambda *s: None if s[0] is None else np.nanmean(s, axis=0),\n"
     ]
    },
    {
     "name": "stdout",
     "output_type": "stream",
     "text": [
      "== Status ==\n",
      "Current time: 2023-09-21 02:05:30 (running for 00:22:21.70)\n",
      "Memory usage on this node: 14.1/31.2 GiB\n",
      "Using FIFO scheduling algorithm.\n",
      "Resources requested: 3.0/24 CPUs, 1.0/0 GPUs, 0.0/15.61 GiB heap, 0.0/7.8 GiB objects (0.0/1.0 accelerator_type:G)\n",
      "Result logdir: /home/allenwu/Desktop/work/MARLlib-1.0.3/exp_results/happo_gru_CityLearn_5e-07_0.0005_APPEND-DATA_seed-2\n",
      "Number of trials: 1/1 (1 RUNNING)\n",
      "\n",
      "\n"
     ]
    },
    {
     "name": "stderr",
     "output_type": "stream",
     "text": [
      "/home/allenwu/anaconda3/envs/marllib/lib/python3.8/site-packages/ray/rllib/utils/metrics/learner_info.py:64: RuntimeWarning: Mean of empty slice\n",
      "  lambda *s: None if s[0] is None else np.nanmean(s, axis=0),\n",
      "/home/allenwu/anaconda3/envs/marllib/lib/python3.8/site-packages/ray/rllib/utils/metrics/learner_info.py:64: RuntimeWarning: Mean of empty slice\n",
      "  lambda *s: None if s[0] is None else np.nanmean(s, axis=0),\n",
      "/home/allenwu/anaconda3/envs/marllib/lib/python3.8/site-packages/ray/rllib/utils/metrics/learner_info.py:64: RuntimeWarning: Mean of empty slice\n",
      "  lambda *s: None if s[0] is None else np.nanmean(s, axis=0),\n",
      "/home/allenwu/anaconda3/envs/marllib/lib/python3.8/site-packages/ray/rllib/utils/metrics/learner_info.py:64: RuntimeWarning: Mean of empty slice\n",
      "  lambda *s: None if s[0] is None else np.nanmean(s, axis=0),\n",
      "/home/allenwu/anaconda3/envs/marllib/lib/python3.8/site-packages/ray/rllib/utils/metrics/learner_info.py:64: RuntimeWarning: Mean of empty slice\n",
      "  lambda *s: None if s[0] is None else np.nanmean(s, axis=0),\n",
      "/home/allenwu/anaconda3/envs/marllib/lib/python3.8/site-packages/ray/rllib/utils/metrics/learner_info.py:64: RuntimeWarning: Mean of empty slice\n",
      "  lambda *s: None if s[0] is None else np.nanmean(s, axis=0),\n",
      "/home/allenwu/anaconda3/envs/marllib/lib/python3.8/site-packages/ray/rllib/utils/metrics/learner_info.py:64: RuntimeWarning: Mean of empty slice\n",
      "  lambda *s: None if s[0] is None else np.nanmean(s, axis=0),\n"
     ]
    },
    {
     "name": "stdout",
     "output_type": "stream",
     "text": [
      "== Status ==\n",
      "Current time: 2023-09-21 02:05:35 (running for 00:22:26.79)\n",
      "Memory usage on this node: 14.1/31.2 GiB\n",
      "Using FIFO scheduling algorithm.\n",
      "Resources requested: 3.0/24 CPUs, 1.0/0 GPUs, 0.0/15.61 GiB heap, 0.0/7.8 GiB objects (0.0/1.0 accelerator_type:G)\n",
      "Result logdir: /home/allenwu/Desktop/work/MARLlib-1.0.3/exp_results/happo_gru_CityLearn_5e-07_0.0005_APPEND-DATA_seed-2\n",
      "Number of trials: 1/1 (1 RUNNING)\n",
      "\n",
      "\n"
     ]
    },
    {
     "name": "stderr",
     "output_type": "stream",
     "text": [
      "/home/allenwu/anaconda3/envs/marllib/lib/python3.8/site-packages/ray/rllib/utils/metrics/learner_info.py:64: RuntimeWarning: Mean of empty slice\n",
      "  lambda *s: None if s[0] is None else np.nanmean(s, axis=0),\n",
      "/home/allenwu/anaconda3/envs/marllib/lib/python3.8/site-packages/ray/rllib/utils/metrics/learner_info.py:64: RuntimeWarning: Mean of empty slice\n",
      "  lambda *s: None if s[0] is None else np.nanmean(s, axis=0),\n",
      "/home/allenwu/anaconda3/envs/marllib/lib/python3.8/site-packages/ray/rllib/utils/metrics/learner_info.py:64: RuntimeWarning: Mean of empty slice\n",
      "  lambda *s: None if s[0] is None else np.nanmean(s, axis=0),\n",
      "/home/allenwu/anaconda3/envs/marllib/lib/python3.8/site-packages/ray/rllib/utils/metrics/learner_info.py:64: RuntimeWarning: Mean of empty slice\n",
      "  lambda *s: None if s[0] is None else np.nanmean(s, axis=0),\n",
      "/home/allenwu/anaconda3/envs/marllib/lib/python3.8/site-packages/ray/rllib/utils/metrics/learner_info.py:64: RuntimeWarning: Mean of empty slice\n",
      "  lambda *s: None if s[0] is None else np.nanmean(s, axis=0),\n",
      "/home/allenwu/anaconda3/envs/marllib/lib/python3.8/site-packages/ray/rllib/utils/metrics/learner_info.py:64: RuntimeWarning: Mean of empty slice\n",
      "  lambda *s: None if s[0] is None else np.nanmean(s, axis=0),\n",
      "/home/allenwu/anaconda3/envs/marllib/lib/python3.8/site-packages/ray/rllib/utils/metrics/learner_info.py:64: RuntimeWarning: Mean of empty slice\n",
      "  lambda *s: None if s[0] is None else np.nanmean(s, axis=0),\n"
     ]
    },
    {
     "name": "stdout",
     "output_type": "stream",
     "text": [
      "== Status ==\n",
      "Current time: 2023-09-21 02:05:40 (running for 00:22:31.99)\n",
      "Memory usage on this node: 14.2/31.2 GiB\n",
      "Using FIFO scheduling algorithm.\n",
      "Resources requested: 3.0/24 CPUs, 1.0/0 GPUs, 0.0/15.61 GiB heap, 0.0/7.8 GiB objects (0.0/1.0 accelerator_type:G)\n",
      "Result logdir: /home/allenwu/Desktop/work/MARLlib-1.0.3/exp_results/happo_gru_CityLearn_5e-07_0.0005_APPEND-DATA_seed-2\n",
      "Number of trials: 1/1 (1 RUNNING)\n",
      "\n",
      "\n"
     ]
    },
    {
     "name": "stderr",
     "output_type": "stream",
     "text": [
      "/home/allenwu/anaconda3/envs/marllib/lib/python3.8/site-packages/ray/rllib/utils/metrics/learner_info.py:64: RuntimeWarning: Mean of empty slice\n",
      "  lambda *s: None if s[0] is None else np.nanmean(s, axis=0),\n",
      "/home/allenwu/anaconda3/envs/marllib/lib/python3.8/site-packages/ray/rllib/utils/metrics/learner_info.py:64: RuntimeWarning: Mean of empty slice\n",
      "  lambda *s: None if s[0] is None else np.nanmean(s, axis=0),\n",
      "/home/allenwu/anaconda3/envs/marllib/lib/python3.8/site-packages/ray/rllib/utils/metrics/learner_info.py:64: RuntimeWarning: Mean of empty slice\n",
      "  lambda *s: None if s[0] is None else np.nanmean(s, axis=0),\n",
      "/home/allenwu/anaconda3/envs/marllib/lib/python3.8/site-packages/ray/rllib/utils/metrics/learner_info.py:64: RuntimeWarning: Mean of empty slice\n",
      "  lambda *s: None if s[0] is None else np.nanmean(s, axis=0),\n",
      "/home/allenwu/anaconda3/envs/marllib/lib/python3.8/site-packages/ray/rllib/utils/metrics/learner_info.py:64: RuntimeWarning: Mean of empty slice\n",
      "  lambda *s: None if s[0] is None else np.nanmean(s, axis=0),\n",
      "/home/allenwu/anaconda3/envs/marllib/lib/python3.8/site-packages/ray/rllib/utils/metrics/learner_info.py:64: RuntimeWarning: Mean of empty slice\n",
      "  lambda *s: None if s[0] is None else np.nanmean(s, axis=0),\n",
      "/home/allenwu/anaconda3/envs/marllib/lib/python3.8/site-packages/ray/rllib/utils/metrics/learner_info.py:64: RuntimeWarning: Mean of empty slice\n",
      "  lambda *s: None if s[0] is None else np.nanmean(s, axis=0),\n",
      "/home/allenwu/anaconda3/envs/marllib/lib/python3.8/site-packages/ray/rllib/utils/metrics/learner_info.py:64: RuntimeWarning: Mean of empty slice\n",
      "  lambda *s: None if s[0] is None else np.nanmean(s, axis=0),\n"
     ]
    },
    {
     "name": "stdout",
     "output_type": "stream",
     "text": [
      "== Status ==\n",
      "Current time: 2023-09-21 02:05:45 (running for 00:22:37.13)\n",
      "Memory usage on this node: 14.2/31.2 GiB\n",
      "Using FIFO scheduling algorithm.\n",
      "Resources requested: 3.0/24 CPUs, 1.0/0 GPUs, 0.0/15.61 GiB heap, 0.0/7.8 GiB objects (0.0/1.0 accelerator_type:G)\n",
      "Result logdir: /home/allenwu/Desktop/work/MARLlib-1.0.3/exp_results/happo_gru_CityLearn_5e-07_0.0005_APPEND-DATA_seed-2\n",
      "Number of trials: 1/1 (1 RUNNING)\n",
      "\n",
      "\n"
     ]
    },
    {
     "name": "stderr",
     "output_type": "stream",
     "text": [
      "/home/allenwu/anaconda3/envs/marllib/lib/python3.8/site-packages/ray/rllib/utils/metrics/learner_info.py:64: RuntimeWarning: Mean of empty slice\n",
      "  lambda *s: None if s[0] is None else np.nanmean(s, axis=0),\n",
      "/home/allenwu/anaconda3/envs/marllib/lib/python3.8/site-packages/ray/rllib/utils/metrics/learner_info.py:64: RuntimeWarning: Mean of empty slice\n",
      "  lambda *s: None if s[0] is None else np.nanmean(s, axis=0),\n",
      "/home/allenwu/anaconda3/envs/marllib/lib/python3.8/site-packages/ray/rllib/utils/metrics/learner_info.py:64: RuntimeWarning: Mean of empty slice\n",
      "  lambda *s: None if s[0] is None else np.nanmean(s, axis=0),\n",
      "/home/allenwu/anaconda3/envs/marllib/lib/python3.8/site-packages/ray/rllib/utils/metrics/learner_info.py:64: RuntimeWarning: Mean of empty slice\n",
      "  lambda *s: None if s[0] is None else np.nanmean(s, axis=0),\n",
      "/home/allenwu/anaconda3/envs/marllib/lib/python3.8/site-packages/ray/rllib/utils/metrics/learner_info.py:64: RuntimeWarning: Mean of empty slice\n",
      "  lambda *s: None if s[0] is None else np.nanmean(s, axis=0),\n",
      "/home/allenwu/anaconda3/envs/marllib/lib/python3.8/site-packages/ray/rllib/utils/metrics/learner_info.py:64: RuntimeWarning: Mean of empty slice\n",
      "  lambda *s: None if s[0] is None else np.nanmean(s, axis=0),\n",
      "/home/allenwu/anaconda3/envs/marllib/lib/python3.8/site-packages/ray/rllib/utils/metrics/learner_info.py:64: RuntimeWarning: Mean of empty slice\n",
      "  lambda *s: None if s[0] is None else np.nanmean(s, axis=0),\n",
      "/home/allenwu/anaconda3/envs/marllib/lib/python3.8/site-packages/ray/rllib/utils/metrics/learner_info.py:64: RuntimeWarning: Mean of empty slice\n",
      "  lambda *s: None if s[0] is None else np.nanmean(s, axis=0),\n"
     ]
    },
    {
     "name": "stdout",
     "output_type": "stream",
     "text": [
      "== Status ==\n",
      "Current time: 2023-09-21 02:05:51 (running for 00:22:42.25)\n",
      "Memory usage on this node: 14.2/31.2 GiB\n",
      "Using FIFO scheduling algorithm.\n",
      "Resources requested: 3.0/24 CPUs, 1.0/0 GPUs, 0.0/15.61 GiB heap, 0.0/7.8 GiB objects (0.0/1.0 accelerator_type:G)\n",
      "Result logdir: /home/allenwu/Desktop/work/MARLlib-1.0.3/exp_results/happo_gru_CityLearn_5e-07_0.0005_APPEND-DATA_seed-2\n",
      "Number of trials: 1/1 (1 RUNNING)\n",
      "\n",
      "\n"
     ]
    },
    {
     "name": "stderr",
     "output_type": "stream",
     "text": [
      "/home/allenwu/anaconda3/envs/marllib/lib/python3.8/site-packages/ray/rllib/utils/metrics/learner_info.py:64: RuntimeWarning: Mean of empty slice\n",
      "  lambda *s: None if s[0] is None else np.nanmean(s, axis=0),\n",
      "/home/allenwu/anaconda3/envs/marllib/lib/python3.8/site-packages/ray/rllib/utils/metrics/learner_info.py:64: RuntimeWarning: Mean of empty slice\n",
      "  lambda *s: None if s[0] is None else np.nanmean(s, axis=0),\n",
      "/home/allenwu/anaconda3/envs/marllib/lib/python3.8/site-packages/ray/rllib/utils/metrics/learner_info.py:64: RuntimeWarning: Mean of empty slice\n",
      "  lambda *s: None if s[0] is None else np.nanmean(s, axis=0),\n",
      "/home/allenwu/anaconda3/envs/marllib/lib/python3.8/site-packages/ray/rllib/utils/metrics/learner_info.py:64: RuntimeWarning: Mean of empty slice\n",
      "  lambda *s: None if s[0] is None else np.nanmean(s, axis=0),\n",
      "/home/allenwu/anaconda3/envs/marllib/lib/python3.8/site-packages/ray/rllib/utils/metrics/learner_info.py:64: RuntimeWarning: Mean of empty slice\n",
      "  lambda *s: None if s[0] is None else np.nanmean(s, axis=0),\n",
      "/home/allenwu/anaconda3/envs/marllib/lib/python3.8/site-packages/ray/rllib/utils/metrics/learner_info.py:64: RuntimeWarning: Mean of empty slice\n",
      "  lambda *s: None if s[0] is None else np.nanmean(s, axis=0),\n",
      "/home/allenwu/anaconda3/envs/marllib/lib/python3.8/site-packages/ray/rllib/utils/metrics/learner_info.py:64: RuntimeWarning: Mean of empty slice\n",
      "  lambda *s: None if s[0] is None else np.nanmean(s, axis=0),\n"
     ]
    },
    {
     "name": "stdout",
     "output_type": "stream",
     "text": [
      "== Status ==\n",
      "Current time: 2023-09-21 02:05:56 (running for 00:22:47.37)\n",
      "Memory usage on this node: 14.3/31.2 GiB\n",
      "Using FIFO scheduling algorithm.\n",
      "Resources requested: 3.0/24 CPUs, 1.0/0 GPUs, 0.0/15.61 GiB heap, 0.0/7.8 GiB objects (0.0/1.0 accelerator_type:G)\n",
      "Result logdir: /home/allenwu/Desktop/work/MARLlib-1.0.3/exp_results/happo_gru_CityLearn_5e-07_0.0005_APPEND-DATA_seed-2\n",
      "Number of trials: 1/1 (1 RUNNING)\n",
      "\n",
      "\n"
     ]
    },
    {
     "name": "stderr",
     "output_type": "stream",
     "text": [
      "/home/allenwu/anaconda3/envs/marllib/lib/python3.8/site-packages/ray/rllib/utils/metrics/learner_info.py:64: RuntimeWarning: Mean of empty slice\n",
      "  lambda *s: None if s[0] is None else np.nanmean(s, axis=0),\n",
      "/home/allenwu/anaconda3/envs/marllib/lib/python3.8/site-packages/ray/rllib/utils/metrics/learner_info.py:64: RuntimeWarning: Mean of empty slice\n",
      "  lambda *s: None if s[0] is None else np.nanmean(s, axis=0),\n",
      "/home/allenwu/anaconda3/envs/marllib/lib/python3.8/site-packages/ray/rllib/utils/metrics/learner_info.py:64: RuntimeWarning: Mean of empty slice\n",
      "  lambda *s: None if s[0] is None else np.nanmean(s, axis=0),\n",
      "/home/allenwu/anaconda3/envs/marllib/lib/python3.8/site-packages/ray/rllib/utils/metrics/learner_info.py:64: RuntimeWarning: Mean of empty slice\n",
      "  lambda *s: None if s[0] is None else np.nanmean(s, axis=0),\n",
      "/home/allenwu/anaconda3/envs/marllib/lib/python3.8/site-packages/ray/rllib/utils/metrics/learner_info.py:64: RuntimeWarning: Mean of empty slice\n",
      "  lambda *s: None if s[0] is None else np.nanmean(s, axis=0),\n"
     ]
    },
    {
     "name": "stdout",
     "output_type": "stream",
     "text": [
      "== Status ==\n",
      "Current time: 2023-09-21 02:06:01 (running for 00:22:52.48)\n",
      "Memory usage on this node: 14.3/31.2 GiB\n",
      "Using FIFO scheduling algorithm.\n",
      "Resources requested: 3.0/24 CPUs, 1.0/0 GPUs, 0.0/15.61 GiB heap, 0.0/7.8 GiB objects (0.0/1.0 accelerator_type:G)\n",
      "Result logdir: /home/allenwu/Desktop/work/MARLlib-1.0.3/exp_results/happo_gru_CityLearn_5e-07_0.0005_APPEND-DATA_seed-2\n",
      "Number of trials: 1/1 (1 RUNNING)\n",
      "\n",
      "\n"
     ]
    },
    {
     "name": "stderr",
     "output_type": "stream",
     "text": [
      "/home/allenwu/anaconda3/envs/marllib/lib/python3.8/site-packages/ray/rllib/utils/metrics/learner_info.py:64: RuntimeWarning: Mean of empty slice\n",
      "  lambda *s: None if s[0] is None else np.nanmean(s, axis=0),\n",
      "/home/allenwu/anaconda3/envs/marllib/lib/python3.8/site-packages/ray/rllib/utils/metrics/learner_info.py:64: RuntimeWarning: Mean of empty slice\n",
      "  lambda *s: None if s[0] is None else np.nanmean(s, axis=0),\n",
      "/home/allenwu/anaconda3/envs/marllib/lib/python3.8/site-packages/ray/rllib/utils/metrics/learner_info.py:64: RuntimeWarning: Mean of empty slice\n",
      "  lambda *s: None if s[0] is None else np.nanmean(s, axis=0),\n",
      "/home/allenwu/anaconda3/envs/marllib/lib/python3.8/site-packages/ray/rllib/utils/metrics/learner_info.py:64: RuntimeWarning: Mean of empty slice\n",
      "  lambda *s: None if s[0] is None else np.nanmean(s, axis=0),\n",
      "/home/allenwu/anaconda3/envs/marllib/lib/python3.8/site-packages/ray/rllib/utils/metrics/learner_info.py:64: RuntimeWarning: Mean of empty slice\n",
      "  lambda *s: None if s[0] is None else np.nanmean(s, axis=0),\n",
      "/home/allenwu/anaconda3/envs/marllib/lib/python3.8/site-packages/ray/rllib/utils/metrics/learner_info.py:64: RuntimeWarning: Mean of empty slice\n",
      "  lambda *s: None if s[0] is None else np.nanmean(s, axis=0),\n",
      "/home/allenwu/anaconda3/envs/marllib/lib/python3.8/site-packages/ray/rllib/utils/metrics/learner_info.py:64: RuntimeWarning: Mean of empty slice\n",
      "  lambda *s: None if s[0] is None else np.nanmean(s, axis=0),\n"
     ]
    },
    {
     "name": "stdout",
     "output_type": "stream",
     "text": [
      "== Status ==\n",
      "Current time: 2023-09-21 02:06:06 (running for 00:22:57.64)\n",
      "Memory usage on this node: 14.4/31.2 GiB\n",
      "Using FIFO scheduling algorithm.\n",
      "Resources requested: 3.0/24 CPUs, 1.0/0 GPUs, 0.0/15.61 GiB heap, 0.0/7.8 GiB objects (0.0/1.0 accelerator_type:G)\n",
      "Result logdir: /home/allenwu/Desktop/work/MARLlib-1.0.3/exp_results/happo_gru_CityLearn_5e-07_0.0005_APPEND-DATA_seed-2\n",
      "Number of trials: 1/1 (1 RUNNING)\n",
      "\n",
      "\n"
     ]
    },
    {
     "name": "stderr",
     "output_type": "stream",
     "text": [
      "/home/allenwu/anaconda3/envs/marllib/lib/python3.8/site-packages/ray/rllib/utils/metrics/learner_info.py:64: RuntimeWarning: Mean of empty slice\n",
      "  lambda *s: None if s[0] is None else np.nanmean(s, axis=0),\n",
      "/home/allenwu/anaconda3/envs/marllib/lib/python3.8/site-packages/ray/rllib/utils/metrics/learner_info.py:64: RuntimeWarning: Mean of empty slice\n",
      "  lambda *s: None if s[0] is None else np.nanmean(s, axis=0),\n",
      "/home/allenwu/anaconda3/envs/marllib/lib/python3.8/site-packages/ray/rllib/utils/metrics/learner_info.py:64: RuntimeWarning: Mean of empty slice\n",
      "  lambda *s: None if s[0] is None else np.nanmean(s, axis=0),\n",
      "/home/allenwu/anaconda3/envs/marllib/lib/python3.8/site-packages/ray/rllib/utils/metrics/learner_info.py:64: RuntimeWarning: Mean of empty slice\n",
      "  lambda *s: None if s[0] is None else np.nanmean(s, axis=0),\n",
      "/home/allenwu/anaconda3/envs/marllib/lib/python3.8/site-packages/ray/rllib/utils/metrics/learner_info.py:64: RuntimeWarning: Mean of empty slice\n",
      "  lambda *s: None if s[0] is None else np.nanmean(s, axis=0),\n",
      "/home/allenwu/anaconda3/envs/marllib/lib/python3.8/site-packages/ray/rllib/utils/metrics/learner_info.py:64: RuntimeWarning: Mean of empty slice\n",
      "  lambda *s: None if s[0] is None else np.nanmean(s, axis=0),\n",
      "/home/allenwu/anaconda3/envs/marllib/lib/python3.8/site-packages/ray/rllib/utils/metrics/learner_info.py:64: RuntimeWarning: Mean of empty slice\n",
      "  lambda *s: None if s[0] is None else np.nanmean(s, axis=0),\n",
      "/home/allenwu/anaconda3/envs/marllib/lib/python3.8/site-packages/ray/rllib/utils/metrics/learner_info.py:64: RuntimeWarning: Mean of empty slice\n",
      "  lambda *s: None if s[0] is None else np.nanmean(s, axis=0),\n",
      "/home/allenwu/anaconda3/envs/marllib/lib/python3.8/site-packages/ray/rllib/utils/metrics/learner_info.py:64: RuntimeWarning: Mean of empty slice\n",
      "  lambda *s: None if s[0] is None else np.nanmean(s, axis=0),\n",
      "/home/allenwu/anaconda3/envs/marllib/lib/python3.8/site-packages/ray/rllib/utils/metrics/learner_info.py:64: RuntimeWarning: Mean of empty slice\n",
      "  lambda *s: None if s[0] is None else np.nanmean(s, axis=0),\n"
     ]
    },
    {
     "name": "stdout",
     "output_type": "stream",
     "text": [
      "== Status ==\n",
      "Current time: 2023-09-21 02:06:11 (running for 00:23:02.73)\n",
      "Memory usage on this node: 14.4/31.2 GiB\n",
      "Using FIFO scheduling algorithm.\n",
      "Resources requested: 3.0/24 CPUs, 1.0/0 GPUs, 0.0/15.61 GiB heap, 0.0/7.8 GiB objects (0.0/1.0 accelerator_type:G)\n",
      "Result logdir: /home/allenwu/Desktop/work/MARLlib-1.0.3/exp_results/happo_gru_CityLearn_5e-07_0.0005_APPEND-DATA_seed-2\n",
      "Number of trials: 1/1 (1 RUNNING)\n",
      "\n",
      "\n"
     ]
    },
    {
     "name": "stderr",
     "output_type": "stream",
     "text": [
      "/home/allenwu/anaconda3/envs/marllib/lib/python3.8/site-packages/ray/rllib/utils/metrics/learner_info.py:64: RuntimeWarning: Mean of empty slice\n",
      "  lambda *s: None if s[0] is None else np.nanmean(s, axis=0),\n",
      "/home/allenwu/anaconda3/envs/marllib/lib/python3.8/site-packages/ray/rllib/utils/metrics/learner_info.py:64: RuntimeWarning: Mean of empty slice\n",
      "  lambda *s: None if s[0] is None else np.nanmean(s, axis=0),\n",
      "/home/allenwu/anaconda3/envs/marllib/lib/python3.8/site-packages/ray/rllib/utils/metrics/learner_info.py:64: RuntimeWarning: Mean of empty slice\n",
      "  lambda *s: None if s[0] is None else np.nanmean(s, axis=0),\n",
      "/home/allenwu/anaconda3/envs/marllib/lib/python3.8/site-packages/ray/rllib/utils/metrics/learner_info.py:64: RuntimeWarning: Mean of empty slice\n",
      "  lambda *s: None if s[0] is None else np.nanmean(s, axis=0),\n",
      "/home/allenwu/anaconda3/envs/marllib/lib/python3.8/site-packages/ray/rllib/utils/metrics/learner_info.py:64: RuntimeWarning: Mean of empty slice\n",
      "  lambda *s: None if s[0] is None else np.nanmean(s, axis=0),\n",
      "/home/allenwu/anaconda3/envs/marllib/lib/python3.8/site-packages/ray/rllib/utils/metrics/learner_info.py:64: RuntimeWarning: Mean of empty slice\n",
      "  lambda *s: None if s[0] is None else np.nanmean(s, axis=0),\n",
      "2023-09-21 02:06:14,901\tWARNING ray_trial_executor.py:768 -- Over the last 60 seconds, the Tune event loop has been backlogged processing new results. Consider increasing your period of result reporting to improve performance.\n",
      "/home/allenwu/anaconda3/envs/marllib/lib/python3.8/site-packages/ray/rllib/utils/metrics/learner_info.py:64: RuntimeWarning: Mean of empty slice\n",
      "  lambda *s: None if s[0] is None else np.nanmean(s, axis=0),\n",
      "/home/allenwu/anaconda3/envs/marllib/lib/python3.8/site-packages/ray/rllib/utils/metrics/learner_info.py:64: RuntimeWarning: Mean of empty slice\n",
      "  lambda *s: None if s[0] is None else np.nanmean(s, axis=0),\n",
      "/home/allenwu/anaconda3/envs/marllib/lib/python3.8/site-packages/ray/rllib/utils/metrics/learner_info.py:64: RuntimeWarning: Mean of empty slice\n",
      "  lambda *s: None if s[0] is None else np.nanmean(s, axis=0),\n"
     ]
    },
    {
     "name": "stdout",
     "output_type": "stream",
     "text": [
      "== Status ==\n",
      "Current time: 2023-09-21 02:06:16 (running for 00:23:07.84)\n",
      "Memory usage on this node: 14.3/31.2 GiB\n",
      "Using FIFO scheduling algorithm.\n",
      "Resources requested: 3.0/24 CPUs, 1.0/0 GPUs, 0.0/15.61 GiB heap, 0.0/7.8 GiB objects (0.0/1.0 accelerator_type:G)\n",
      "Result logdir: /home/allenwu/Desktop/work/MARLlib-1.0.3/exp_results/happo_gru_CityLearn_5e-07_0.0005_APPEND-DATA_seed-2\n",
      "Number of trials: 1/1 (1 RUNNING)\n",
      "\n",
      "\n"
     ]
    },
    {
     "name": "stderr",
     "output_type": "stream",
     "text": [
      "/home/allenwu/anaconda3/envs/marllib/lib/python3.8/site-packages/ray/rllib/utils/metrics/learner_info.py:64: RuntimeWarning: Mean of empty slice\n",
      "  lambda *s: None if s[0] is None else np.nanmean(s, axis=0),\n",
      "/home/allenwu/anaconda3/envs/marllib/lib/python3.8/site-packages/ray/rllib/utils/metrics/learner_info.py:64: RuntimeWarning: Mean of empty slice\n",
      "  lambda *s: None if s[0] is None else np.nanmean(s, axis=0),\n",
      "/home/allenwu/anaconda3/envs/marllib/lib/python3.8/site-packages/ray/rllib/utils/metrics/learner_info.py:64: RuntimeWarning: Mean of empty slice\n",
      "  lambda *s: None if s[0] is None else np.nanmean(s, axis=0),\n",
      "/home/allenwu/anaconda3/envs/marllib/lib/python3.8/site-packages/ray/rllib/utils/metrics/learner_info.py:64: RuntimeWarning: Mean of empty slice\n",
      "  lambda *s: None if s[0] is None else np.nanmean(s, axis=0),\n",
      "/home/allenwu/anaconda3/envs/marllib/lib/python3.8/site-packages/ray/rllib/utils/metrics/learner_info.py:64: RuntimeWarning: Mean of empty slice\n",
      "  lambda *s: None if s[0] is None else np.nanmean(s, axis=0),\n",
      "/home/allenwu/anaconda3/envs/marllib/lib/python3.8/site-packages/ray/rllib/utils/metrics/learner_info.py:64: RuntimeWarning: Mean of empty slice\n",
      "  lambda *s: None if s[0] is None else np.nanmean(s, axis=0),\n",
      "/home/allenwu/anaconda3/envs/marllib/lib/python3.8/site-packages/ray/rllib/utils/metrics/learner_info.py:64: RuntimeWarning: Mean of empty slice\n",
      "  lambda *s: None if s[0] is None else np.nanmean(s, axis=0),\n",
      "/home/allenwu/anaconda3/envs/marllib/lib/python3.8/site-packages/ray/rllib/utils/metrics/learner_info.py:64: RuntimeWarning: Mean of empty slice\n",
      "  lambda *s: None if s[0] is None else np.nanmean(s, axis=0),\n"
     ]
    },
    {
     "name": "stdout",
     "output_type": "stream",
     "text": [
      "== Status ==\n",
      "Current time: 2023-09-21 02:06:21 (running for 00:23:12.95)\n",
      "Memory usage on this node: 14.3/31.2 GiB\n",
      "Using FIFO scheduling algorithm.\n",
      "Resources requested: 3.0/24 CPUs, 1.0/0 GPUs, 0.0/15.61 GiB heap, 0.0/7.8 GiB objects (0.0/1.0 accelerator_type:G)\n",
      "Result logdir: /home/allenwu/Desktop/work/MARLlib-1.0.3/exp_results/happo_gru_CityLearn_5e-07_0.0005_APPEND-DATA_seed-2\n",
      "Number of trials: 1/1 (1 RUNNING)\n",
      "\n",
      "\n"
     ]
    },
    {
     "name": "stderr",
     "output_type": "stream",
     "text": [
      "/home/allenwu/anaconda3/envs/marllib/lib/python3.8/site-packages/ray/rllib/utils/metrics/learner_info.py:64: RuntimeWarning: Mean of empty slice\n",
      "  lambda *s: None if s[0] is None else np.nanmean(s, axis=0),\n",
      "/home/allenwu/anaconda3/envs/marllib/lib/python3.8/site-packages/ray/rllib/utils/metrics/learner_info.py:64: RuntimeWarning: Mean of empty slice\n",
      "  lambda *s: None if s[0] is None else np.nanmean(s, axis=0),\n",
      "/home/allenwu/anaconda3/envs/marllib/lib/python3.8/site-packages/ray/rllib/utils/metrics/learner_info.py:64: RuntimeWarning: Mean of empty slice\n",
      "  lambda *s: None if s[0] is None else np.nanmean(s, axis=0),\n",
      "/home/allenwu/anaconda3/envs/marllib/lib/python3.8/site-packages/ray/rllib/utils/metrics/learner_info.py:64: RuntimeWarning: Mean of empty slice\n",
      "  lambda *s: None if s[0] is None else np.nanmean(s, axis=0),\n",
      "/home/allenwu/anaconda3/envs/marllib/lib/python3.8/site-packages/ray/rllib/utils/metrics/learner_info.py:64: RuntimeWarning: Mean of empty slice\n",
      "  lambda *s: None if s[0] is None else np.nanmean(s, axis=0),\n",
      "/home/allenwu/anaconda3/envs/marllib/lib/python3.8/site-packages/ray/rllib/utils/metrics/learner_info.py:64: RuntimeWarning: Mean of empty slice\n",
      "  lambda *s: None if s[0] is None else np.nanmean(s, axis=0),\n",
      "/home/allenwu/anaconda3/envs/marllib/lib/python3.8/site-packages/ray/rllib/utils/metrics/learner_info.py:64: RuntimeWarning: Mean of empty slice\n",
      "  lambda *s: None if s[0] is None else np.nanmean(s, axis=0),\n",
      "/home/allenwu/anaconda3/envs/marllib/lib/python3.8/site-packages/ray/rllib/utils/metrics/learner_info.py:64: RuntimeWarning: Mean of empty slice\n",
      "  lambda *s: None if s[0] is None else np.nanmean(s, axis=0),\n"
     ]
    },
    {
     "name": "stdout",
     "output_type": "stream",
     "text": [
      "== Status ==\n",
      "Current time: 2023-09-21 02:06:26 (running for 00:23:18.09)\n",
      "Memory usage on this node: 14.4/31.2 GiB\n",
      "Using FIFO scheduling algorithm.\n",
      "Resources requested: 3.0/24 CPUs, 1.0/0 GPUs, 0.0/15.61 GiB heap, 0.0/7.8 GiB objects (0.0/1.0 accelerator_type:G)\n",
      "Result logdir: /home/allenwu/Desktop/work/MARLlib-1.0.3/exp_results/happo_gru_CityLearn_5e-07_0.0005_APPEND-DATA_seed-2\n",
      "Number of trials: 1/1 (1 RUNNING)\n",
      "\n",
      "\n"
     ]
    },
    {
     "name": "stderr",
     "output_type": "stream",
     "text": [
      "/home/allenwu/anaconda3/envs/marllib/lib/python3.8/site-packages/ray/rllib/utils/metrics/learner_info.py:64: RuntimeWarning: Mean of empty slice\n",
      "  lambda *s: None if s[0] is None else np.nanmean(s, axis=0),\n",
      "/home/allenwu/anaconda3/envs/marllib/lib/python3.8/site-packages/ray/rllib/utils/metrics/learner_info.py:64: RuntimeWarning: Mean of empty slice\n",
      "  lambda *s: None if s[0] is None else np.nanmean(s, axis=0),\n",
      "/home/allenwu/anaconda3/envs/marllib/lib/python3.8/site-packages/ray/rllib/utils/metrics/learner_info.py:64: RuntimeWarning: Mean of empty slice\n",
      "  lambda *s: None if s[0] is None else np.nanmean(s, axis=0),\n",
      "/home/allenwu/anaconda3/envs/marllib/lib/python3.8/site-packages/ray/rllib/utils/metrics/learner_info.py:64: RuntimeWarning: Mean of empty slice\n",
      "  lambda *s: None if s[0] is None else np.nanmean(s, axis=0),\n",
      "/home/allenwu/anaconda3/envs/marllib/lib/python3.8/site-packages/ray/rllib/utils/metrics/learner_info.py:64: RuntimeWarning: Mean of empty slice\n",
      "  lambda *s: None if s[0] is None else np.nanmean(s, axis=0),\n",
      "/home/allenwu/anaconda3/envs/marllib/lib/python3.8/site-packages/ray/rllib/utils/metrics/learner_info.py:64: RuntimeWarning: Mean of empty slice\n",
      "  lambda *s: None if s[0] is None else np.nanmean(s, axis=0),\n",
      "/home/allenwu/anaconda3/envs/marllib/lib/python3.8/site-packages/ray/rllib/utils/metrics/learner_info.py:64: RuntimeWarning: Mean of empty slice\n",
      "  lambda *s: None if s[0] is None else np.nanmean(s, axis=0),\n",
      "/home/allenwu/anaconda3/envs/marllib/lib/python3.8/site-packages/ray/rllib/utils/metrics/learner_info.py:64: RuntimeWarning: Mean of empty slice\n",
      "  lambda *s: None if s[0] is None else np.nanmean(s, axis=0),\n",
      "/home/allenwu/anaconda3/envs/marllib/lib/python3.8/site-packages/ray/rllib/utils/metrics/learner_info.py:64: RuntimeWarning: Mean of empty slice\n",
      "  lambda *s: None if s[0] is None else np.nanmean(s, axis=0),\n"
     ]
    },
    {
     "name": "stdout",
     "output_type": "stream",
     "text": [
      "== Status ==\n",
      "Current time: 2023-09-21 02:06:31 (running for 00:23:23.18)\n",
      "Memory usage on this node: 14.4/31.2 GiB\n",
      "Using FIFO scheduling algorithm.\n",
      "Resources requested: 3.0/24 CPUs, 1.0/0 GPUs, 0.0/15.61 GiB heap, 0.0/7.8 GiB objects (0.0/1.0 accelerator_type:G)\n",
      "Result logdir: /home/allenwu/Desktop/work/MARLlib-1.0.3/exp_results/happo_gru_CityLearn_5e-07_0.0005_APPEND-DATA_seed-2\n",
      "Number of trials: 1/1 (1 RUNNING)\n",
      "\n",
      "\n"
     ]
    },
    {
     "name": "stderr",
     "output_type": "stream",
     "text": [
      "/home/allenwu/anaconda3/envs/marllib/lib/python3.8/site-packages/ray/rllib/utils/metrics/learner_info.py:64: RuntimeWarning: Mean of empty slice\n",
      "  lambda *s: None if s[0] is None else np.nanmean(s, axis=0),\n",
      "/home/allenwu/anaconda3/envs/marllib/lib/python3.8/site-packages/ray/rllib/utils/metrics/learner_info.py:64: RuntimeWarning: Mean of empty slice\n",
      "  lambda *s: None if s[0] is None else np.nanmean(s, axis=0),\n",
      "/home/allenwu/anaconda3/envs/marllib/lib/python3.8/site-packages/ray/rllib/utils/metrics/learner_info.py:64: RuntimeWarning: Mean of empty slice\n",
      "  lambda *s: None if s[0] is None else np.nanmean(s, axis=0),\n",
      "/home/allenwu/anaconda3/envs/marllib/lib/python3.8/site-packages/ray/rllib/utils/metrics/learner_info.py:64: RuntimeWarning: Mean of empty slice\n",
      "  lambda *s: None if s[0] is None else np.nanmean(s, axis=0),\n",
      "/home/allenwu/anaconda3/envs/marllib/lib/python3.8/site-packages/ray/rllib/utils/metrics/learner_info.py:64: RuntimeWarning: Mean of empty slice\n",
      "  lambda *s: None if s[0] is None else np.nanmean(s, axis=0),\n",
      "/home/allenwu/anaconda3/envs/marllib/lib/python3.8/site-packages/ray/rllib/utils/metrics/learner_info.py:64: RuntimeWarning: Mean of empty slice\n",
      "  lambda *s: None if s[0] is None else np.nanmean(s, axis=0),\n",
      "/home/allenwu/anaconda3/envs/marllib/lib/python3.8/site-packages/ray/rllib/utils/metrics/learner_info.py:64: RuntimeWarning: Mean of empty slice\n",
      "  lambda *s: None if s[0] is None else np.nanmean(s, axis=0),\n",
      "/home/allenwu/anaconda3/envs/marllib/lib/python3.8/site-packages/ray/rllib/utils/metrics/learner_info.py:64: RuntimeWarning: Mean of empty slice\n",
      "  lambda *s: None if s[0] is None else np.nanmean(s, axis=0),\n",
      "/home/allenwu/anaconda3/envs/marllib/lib/python3.8/site-packages/ray/rllib/utils/metrics/learner_info.py:64: RuntimeWarning: Mean of empty slice\n",
      "  lambda *s: None if s[0] is None else np.nanmean(s, axis=0),\n",
      "/home/allenwu/anaconda3/envs/marllib/lib/python3.8/site-packages/ray/rllib/utils/metrics/learner_info.py:64: RuntimeWarning: Mean of empty slice\n",
      "  lambda *s: None if s[0] is None else np.nanmean(s, axis=0),\n"
     ]
    },
    {
     "name": "stdout",
     "output_type": "stream",
     "text": [
      "== Status ==\n",
      "Current time: 2023-09-21 02:06:37 (running for 00:23:28.28)\n",
      "Memory usage on this node: 14.4/31.2 GiB\n",
      "Using FIFO scheduling algorithm.\n",
      "Resources requested: 3.0/24 CPUs, 1.0/0 GPUs, 0.0/15.61 GiB heap, 0.0/7.8 GiB objects (0.0/1.0 accelerator_type:G)\n",
      "Result logdir: /home/allenwu/Desktop/work/MARLlib-1.0.3/exp_results/happo_gru_CityLearn_5e-07_0.0005_APPEND-DATA_seed-2\n",
      "Number of trials: 1/1 (1 RUNNING)\n",
      "\n",
      "\n"
     ]
    },
    {
     "name": "stderr",
     "output_type": "stream",
     "text": [
      "/home/allenwu/anaconda3/envs/marllib/lib/python3.8/site-packages/ray/rllib/utils/metrics/learner_info.py:64: RuntimeWarning: Mean of empty slice\n",
      "  lambda *s: None if s[0] is None else np.nanmean(s, axis=0),\n",
      "/home/allenwu/anaconda3/envs/marllib/lib/python3.8/site-packages/ray/rllib/utils/metrics/learner_info.py:64: RuntimeWarning: Mean of empty slice\n",
      "  lambda *s: None if s[0] is None else np.nanmean(s, axis=0),\n",
      "/home/allenwu/anaconda3/envs/marllib/lib/python3.8/site-packages/ray/rllib/utils/metrics/learner_info.py:64: RuntimeWarning: Mean of empty slice\n",
      "  lambda *s: None if s[0] is None else np.nanmean(s, axis=0),\n",
      "/home/allenwu/anaconda3/envs/marllib/lib/python3.8/site-packages/ray/rllib/utils/metrics/learner_info.py:64: RuntimeWarning: Mean of empty slice\n",
      "  lambda *s: None if s[0] is None else np.nanmean(s, axis=0),\n",
      "/home/allenwu/anaconda3/envs/marllib/lib/python3.8/site-packages/ray/rllib/utils/metrics/learner_info.py:64: RuntimeWarning: Mean of empty slice\n",
      "  lambda *s: None if s[0] is None else np.nanmean(s, axis=0),\n",
      "/home/allenwu/anaconda3/envs/marllib/lib/python3.8/site-packages/ray/rllib/utils/metrics/learner_info.py:64: RuntimeWarning: Mean of empty slice\n",
      "  lambda *s: None if s[0] is None else np.nanmean(s, axis=0),\n"
     ]
    },
    {
     "name": "stdout",
     "output_type": "stream",
     "text": [
      "== Status ==\n",
      "Current time: 2023-09-21 02:06:42 (running for 00:23:33.39)\n",
      "Memory usage on this node: 14.5/31.2 GiB\n",
      "Using FIFO scheduling algorithm.\n",
      "Resources requested: 3.0/24 CPUs, 1.0/0 GPUs, 0.0/15.61 GiB heap, 0.0/7.8 GiB objects (0.0/1.0 accelerator_type:G)\n",
      "Result logdir: /home/allenwu/Desktop/work/MARLlib-1.0.3/exp_results/happo_gru_CityLearn_5e-07_0.0005_APPEND-DATA_seed-2\n",
      "Number of trials: 1/1 (1 RUNNING)\n",
      "\n",
      "\n"
     ]
    },
    {
     "name": "stderr",
     "output_type": "stream",
     "text": [
      "/home/allenwu/anaconda3/envs/marllib/lib/python3.8/site-packages/ray/rllib/utils/metrics/learner_info.py:64: RuntimeWarning: Mean of empty slice\n",
      "  lambda *s: None if s[0] is None else np.nanmean(s, axis=0),\n",
      "/home/allenwu/anaconda3/envs/marllib/lib/python3.8/site-packages/ray/rllib/utils/metrics/learner_info.py:64: RuntimeWarning: Mean of empty slice\n",
      "  lambda *s: None if s[0] is None else np.nanmean(s, axis=0),\n",
      "/home/allenwu/anaconda3/envs/marllib/lib/python3.8/site-packages/ray/rllib/utils/metrics/learner_info.py:64: RuntimeWarning: Mean of empty slice\n",
      "  lambda *s: None if s[0] is None else np.nanmean(s, axis=0),\n",
      "/home/allenwu/anaconda3/envs/marllib/lib/python3.8/site-packages/ray/rllib/utils/metrics/learner_info.py:64: RuntimeWarning: Mean of empty slice\n",
      "  lambda *s: None if s[0] is None else np.nanmean(s, axis=0),\n",
      "/home/allenwu/anaconda3/envs/marllib/lib/python3.8/site-packages/ray/rllib/utils/metrics/learner_info.py:64: RuntimeWarning: Mean of empty slice\n",
      "  lambda *s: None if s[0] is None else np.nanmean(s, axis=0),\n",
      "/home/allenwu/anaconda3/envs/marllib/lib/python3.8/site-packages/ray/rllib/utils/metrics/learner_info.py:64: RuntimeWarning: Mean of empty slice\n",
      "  lambda *s: None if s[0] is None else np.nanmean(s, axis=0),\n",
      "/home/allenwu/anaconda3/envs/marllib/lib/python3.8/site-packages/ray/rllib/utils/metrics/learner_info.py:64: RuntimeWarning: Mean of empty slice\n",
      "  lambda *s: None if s[0] is None else np.nanmean(s, axis=0),\n",
      "/home/allenwu/anaconda3/envs/marllib/lib/python3.8/site-packages/ray/rllib/utils/metrics/learner_info.py:64: RuntimeWarning: Mean of empty slice\n",
      "  lambda *s: None if s[0] is None else np.nanmean(s, axis=0),\n",
      "/home/allenwu/anaconda3/envs/marllib/lib/python3.8/site-packages/ray/rllib/utils/metrics/learner_info.py:64: RuntimeWarning: Mean of empty slice\n",
      "  lambda *s: None if s[0] is None else np.nanmean(s, axis=0),\n",
      "/home/allenwu/anaconda3/envs/marllib/lib/python3.8/site-packages/ray/rllib/utils/metrics/learner_info.py:64: RuntimeWarning: Mean of empty slice\n",
      "  lambda *s: None if s[0] is None else np.nanmean(s, axis=0),\n",
      "/home/allenwu/anaconda3/envs/marllib/lib/python3.8/site-packages/ray/rllib/utils/metrics/learner_info.py:64: RuntimeWarning: Mean of empty slice\n",
      "  lambda *s: None if s[0] is None else np.nanmean(s, axis=0),\n"
     ]
    },
    {
     "name": "stdout",
     "output_type": "stream",
     "text": [
      "== Status ==\n",
      "Current time: 2023-09-21 02:06:47 (running for 00:23:38.52)\n",
      "Memory usage on this node: 14.5/31.2 GiB\n",
      "Using FIFO scheduling algorithm.\n",
      "Resources requested: 3.0/24 CPUs, 1.0/0 GPUs, 0.0/15.61 GiB heap, 0.0/7.8 GiB objects (0.0/1.0 accelerator_type:G)\n",
      "Result logdir: /home/allenwu/Desktop/work/MARLlib-1.0.3/exp_results/happo_gru_CityLearn_5e-07_0.0005_APPEND-DATA_seed-2\n",
      "Number of trials: 1/1 (1 RUNNING)\n",
      "\n",
      "\n"
     ]
    },
    {
     "name": "stderr",
     "output_type": "stream",
     "text": [
      "/home/allenwu/anaconda3/envs/marllib/lib/python3.8/site-packages/ray/rllib/utils/metrics/learner_info.py:64: RuntimeWarning: Mean of empty slice\n",
      "  lambda *s: None if s[0] is None else np.nanmean(s, axis=0),\n",
      "/home/allenwu/anaconda3/envs/marllib/lib/python3.8/site-packages/ray/rllib/utils/metrics/learner_info.py:64: RuntimeWarning: Mean of empty slice\n",
      "  lambda *s: None if s[0] is None else np.nanmean(s, axis=0),\n",
      "/home/allenwu/anaconda3/envs/marllib/lib/python3.8/site-packages/ray/rllib/utils/metrics/learner_info.py:64: RuntimeWarning: Mean of empty slice\n",
      "  lambda *s: None if s[0] is None else np.nanmean(s, axis=0),\n",
      "/home/allenwu/anaconda3/envs/marllib/lib/python3.8/site-packages/ray/rllib/utils/metrics/learner_info.py:64: RuntimeWarning: Mean of empty slice\n",
      "  lambda *s: None if s[0] is None else np.nanmean(s, axis=0),\n",
      "/home/allenwu/anaconda3/envs/marllib/lib/python3.8/site-packages/ray/rllib/utils/metrics/learner_info.py:64: RuntimeWarning: Mean of empty slice\n",
      "  lambda *s: None if s[0] is None else np.nanmean(s, axis=0),\n",
      "/home/allenwu/anaconda3/envs/marllib/lib/python3.8/site-packages/ray/rllib/utils/metrics/learner_info.py:64: RuntimeWarning: Mean of empty slice\n",
      "  lambda *s: None if s[0] is None else np.nanmean(s, axis=0),\n"
     ]
    },
    {
     "name": "stdout",
     "output_type": "stream",
     "text": [
      "== Status ==\n",
      "Current time: 2023-09-21 02:06:52 (running for 00:23:43.78)\n",
      "Memory usage on this node: 14.5/31.2 GiB\n",
      "Using FIFO scheduling algorithm.\n",
      "Resources requested: 3.0/24 CPUs, 1.0/0 GPUs, 0.0/15.61 GiB heap, 0.0/7.8 GiB objects (0.0/1.0 accelerator_type:G)\n",
      "Result logdir: /home/allenwu/Desktop/work/MARLlib-1.0.3/exp_results/happo_gru_CityLearn_5e-07_0.0005_APPEND-DATA_seed-2\n",
      "Number of trials: 1/1 (1 RUNNING)\n",
      "\n",
      "\n"
     ]
    },
    {
     "name": "stderr",
     "output_type": "stream",
     "text": [
      "/home/allenwu/anaconda3/envs/marllib/lib/python3.8/site-packages/ray/rllib/utils/metrics/learner_info.py:64: RuntimeWarning: Mean of empty slice\n",
      "  lambda *s: None if s[0] is None else np.nanmean(s, axis=0),\n",
      "/home/allenwu/anaconda3/envs/marllib/lib/python3.8/site-packages/ray/rllib/utils/metrics/learner_info.py:64: RuntimeWarning: Mean of empty slice\n",
      "  lambda *s: None if s[0] is None else np.nanmean(s, axis=0),\n",
      "/home/allenwu/anaconda3/envs/marllib/lib/python3.8/site-packages/ray/rllib/utils/metrics/learner_info.py:64: RuntimeWarning: Mean of empty slice\n",
      "  lambda *s: None if s[0] is None else np.nanmean(s, axis=0),\n",
      "/home/allenwu/anaconda3/envs/marllib/lib/python3.8/site-packages/ray/rllib/utils/metrics/learner_info.py:64: RuntimeWarning: Mean of empty slice\n",
      "  lambda *s: None if s[0] is None else np.nanmean(s, axis=0),\n",
      "/home/allenwu/anaconda3/envs/marllib/lib/python3.8/site-packages/ray/rllib/utils/metrics/learner_info.py:64: RuntimeWarning: Mean of empty slice\n",
      "  lambda *s: None if s[0] is None else np.nanmean(s, axis=0),\n",
      "/home/allenwu/anaconda3/envs/marllib/lib/python3.8/site-packages/ray/rllib/utils/metrics/learner_info.py:64: RuntimeWarning: Mean of empty slice\n",
      "  lambda *s: None if s[0] is None else np.nanmean(s, axis=0),\n",
      "/home/allenwu/anaconda3/envs/marllib/lib/python3.8/site-packages/ray/rllib/utils/metrics/learner_info.py:64: RuntimeWarning: Mean of empty slice\n",
      "  lambda *s: None if s[0] is None else np.nanmean(s, axis=0),\n",
      "/home/allenwu/anaconda3/envs/marllib/lib/python3.8/site-packages/ray/rllib/utils/metrics/learner_info.py:64: RuntimeWarning: Mean of empty slice\n",
      "  lambda *s: None if s[0] is None else np.nanmean(s, axis=0),\n"
     ]
    },
    {
     "name": "stdout",
     "output_type": "stream",
     "text": [
      "== Status ==\n",
      "Current time: 2023-09-21 02:06:57 (running for 00:23:49.05)\n",
      "Memory usage on this node: 14.5/31.2 GiB\n",
      "Using FIFO scheduling algorithm.\n",
      "Resources requested: 3.0/24 CPUs, 1.0/0 GPUs, 0.0/15.61 GiB heap, 0.0/7.8 GiB objects (0.0/1.0 accelerator_type:G)\n",
      "Result logdir: /home/allenwu/Desktop/work/MARLlib-1.0.3/exp_results/happo_gru_CityLearn_5e-07_0.0005_APPEND-DATA_seed-2\n",
      "Number of trials: 1/1 (1 RUNNING)\n",
      "\n",
      "\n"
     ]
    },
    {
     "name": "stderr",
     "output_type": "stream",
     "text": [
      "/home/allenwu/anaconda3/envs/marllib/lib/python3.8/site-packages/ray/rllib/utils/metrics/learner_info.py:64: RuntimeWarning: Mean of empty slice\n",
      "  lambda *s: None if s[0] is None else np.nanmean(s, axis=0),\n",
      "/home/allenwu/anaconda3/envs/marllib/lib/python3.8/site-packages/ray/rllib/utils/metrics/learner_info.py:64: RuntimeWarning: Mean of empty slice\n",
      "  lambda *s: None if s[0] is None else np.nanmean(s, axis=0),\n",
      "/home/allenwu/anaconda3/envs/marllib/lib/python3.8/site-packages/ray/rllib/utils/metrics/learner_info.py:64: RuntimeWarning: Mean of empty slice\n",
      "  lambda *s: None if s[0] is None else np.nanmean(s, axis=0),\n",
      "/home/allenwu/anaconda3/envs/marllib/lib/python3.8/site-packages/ray/rllib/utils/metrics/learner_info.py:64: RuntimeWarning: Mean of empty slice\n",
      "  lambda *s: None if s[0] is None else np.nanmean(s, axis=0),\n",
      "/home/allenwu/anaconda3/envs/marllib/lib/python3.8/site-packages/ray/rllib/utils/metrics/learner_info.py:64: RuntimeWarning: Mean of empty slice\n",
      "  lambda *s: None if s[0] is None else np.nanmean(s, axis=0),\n",
      "/home/allenwu/anaconda3/envs/marllib/lib/python3.8/site-packages/ray/rllib/utils/metrics/learner_info.py:64: RuntimeWarning: Mean of empty slice\n",
      "  lambda *s: None if s[0] is None else np.nanmean(s, axis=0),\n",
      "/home/allenwu/anaconda3/envs/marllib/lib/python3.8/site-packages/ray/rllib/utils/metrics/learner_info.py:64: RuntimeWarning: Mean of empty slice\n",
      "  lambda *s: None if s[0] is None else np.nanmean(s, axis=0),\n",
      "/home/allenwu/anaconda3/envs/marllib/lib/python3.8/site-packages/ray/rllib/utils/metrics/learner_info.py:64: RuntimeWarning: Mean of empty slice\n",
      "  lambda *s: None if s[0] is None else np.nanmean(s, axis=0),\n",
      "/home/allenwu/anaconda3/envs/marllib/lib/python3.8/site-packages/ray/rllib/utils/metrics/learner_info.py:64: RuntimeWarning: Mean of empty slice\n",
      "  lambda *s: None if s[0] is None else np.nanmean(s, axis=0),\n",
      "/home/allenwu/anaconda3/envs/marllib/lib/python3.8/site-packages/ray/rllib/utils/metrics/learner_info.py:64: RuntimeWarning: Mean of empty slice\n",
      "  lambda *s: None if s[0] is None else np.nanmean(s, axis=0),\n",
      "/home/allenwu/anaconda3/envs/marllib/lib/python3.8/site-packages/ray/rllib/utils/metrics/learner_info.py:64: RuntimeWarning: Mean of empty slice\n",
      "  lambda *s: None if s[0] is None else np.nanmean(s, axis=0),\n"
     ]
    },
    {
     "name": "stdout",
     "output_type": "stream",
     "text": [
      "== Status ==\n",
      "Current time: 2023-09-21 02:07:03 (running for 00:23:54.33)\n",
      "Memory usage on this node: 14.6/31.2 GiB\n",
      "Using FIFO scheduling algorithm.\n",
      "Resources requested: 3.0/24 CPUs, 1.0/0 GPUs, 0.0/15.61 GiB heap, 0.0/7.8 GiB objects (0.0/1.0 accelerator_type:G)\n",
      "Result logdir: /home/allenwu/Desktop/work/MARLlib-1.0.3/exp_results/happo_gru_CityLearn_5e-07_0.0005_APPEND-DATA_seed-2\n",
      "Number of trials: 1/1 (1 RUNNING)\n",
      "\n",
      "\n"
     ]
    },
    {
     "name": "stderr",
     "output_type": "stream",
     "text": [
      "/home/allenwu/anaconda3/envs/marllib/lib/python3.8/site-packages/ray/rllib/utils/metrics/learner_info.py:64: RuntimeWarning: Mean of empty slice\n",
      "  lambda *s: None if s[0] is None else np.nanmean(s, axis=0),\n",
      "/home/allenwu/anaconda3/envs/marllib/lib/python3.8/site-packages/ray/rllib/utils/metrics/learner_info.py:64: RuntimeWarning: Mean of empty slice\n",
      "  lambda *s: None if s[0] is None else np.nanmean(s, axis=0),\n",
      "/home/allenwu/anaconda3/envs/marllib/lib/python3.8/site-packages/ray/rllib/utils/metrics/learner_info.py:64: RuntimeWarning: Mean of empty slice\n",
      "  lambda *s: None if s[0] is None else np.nanmean(s, axis=0),\n",
      "/home/allenwu/anaconda3/envs/marllib/lib/python3.8/site-packages/ray/rllib/utils/metrics/learner_info.py:64: RuntimeWarning: Mean of empty slice\n",
      "  lambda *s: None if s[0] is None else np.nanmean(s, axis=0),\n",
      "/home/allenwu/anaconda3/envs/marllib/lib/python3.8/site-packages/ray/rllib/utils/metrics/learner_info.py:64: RuntimeWarning: Mean of empty slice\n",
      "  lambda *s: None if s[0] is None else np.nanmean(s, axis=0),\n",
      "/home/allenwu/anaconda3/envs/marllib/lib/python3.8/site-packages/ray/rllib/utils/metrics/learner_info.py:64: RuntimeWarning: Mean of empty slice\n",
      "  lambda *s: None if s[0] is None else np.nanmean(s, axis=0),\n",
      "/home/allenwu/anaconda3/envs/marllib/lib/python3.8/site-packages/ray/rllib/utils/metrics/learner_info.py:64: RuntimeWarning: Mean of empty slice\n",
      "  lambda *s: None if s[0] is None else np.nanmean(s, axis=0),\n",
      "/home/allenwu/anaconda3/envs/marllib/lib/python3.8/site-packages/ray/rllib/utils/metrics/learner_info.py:64: RuntimeWarning: Mean of empty slice\n",
      "  lambda *s: None if s[0] is None else np.nanmean(s, axis=0),\n"
     ]
    },
    {
     "name": "stdout",
     "output_type": "stream",
     "text": [
      "== Status ==\n",
      "Current time: 2023-09-21 02:07:08 (running for 00:23:59.64)\n",
      "Memory usage on this node: 14.6/31.2 GiB\n",
      "Using FIFO scheduling algorithm.\n",
      "Resources requested: 3.0/24 CPUs, 1.0/0 GPUs, 0.0/15.61 GiB heap, 0.0/7.8 GiB objects (0.0/1.0 accelerator_type:G)\n",
      "Result logdir: /home/allenwu/Desktop/work/MARLlib-1.0.3/exp_results/happo_gru_CityLearn_5e-07_0.0005_APPEND-DATA_seed-2\n",
      "Number of trials: 1/1 (1 RUNNING)\n",
      "\n",
      "\n"
     ]
    },
    {
     "name": "stderr",
     "output_type": "stream",
     "text": [
      "/home/allenwu/anaconda3/envs/marllib/lib/python3.8/site-packages/ray/rllib/utils/metrics/learner_info.py:64: RuntimeWarning: Mean of empty slice\n",
      "  lambda *s: None if s[0] is None else np.nanmean(s, axis=0),\n",
      "/home/allenwu/anaconda3/envs/marllib/lib/python3.8/site-packages/ray/rllib/utils/metrics/learner_info.py:64: RuntimeWarning: Mean of empty slice\n",
      "  lambda *s: None if s[0] is None else np.nanmean(s, axis=0),\n",
      "/home/allenwu/anaconda3/envs/marllib/lib/python3.8/site-packages/ray/rllib/utils/metrics/learner_info.py:64: RuntimeWarning: Mean of empty slice\n",
      "  lambda *s: None if s[0] is None else np.nanmean(s, axis=0),\n",
      "/home/allenwu/anaconda3/envs/marllib/lib/python3.8/site-packages/ray/rllib/utils/metrics/learner_info.py:64: RuntimeWarning: Mean of empty slice\n",
      "  lambda *s: None if s[0] is None else np.nanmean(s, axis=0),\n",
      "/home/allenwu/anaconda3/envs/marllib/lib/python3.8/site-packages/ray/rllib/utils/metrics/learner_info.py:64: RuntimeWarning: Mean of empty slice\n",
      "  lambda *s: None if s[0] is None else np.nanmean(s, axis=0),\n",
      "/home/allenwu/anaconda3/envs/marllib/lib/python3.8/site-packages/ray/rllib/utils/metrics/learner_info.py:64: RuntimeWarning: Mean of empty slice\n",
      "  lambda *s: None if s[0] is None else np.nanmean(s, axis=0),\n",
      "/home/allenwu/anaconda3/envs/marllib/lib/python3.8/site-packages/ray/rllib/utils/metrics/learner_info.py:64: RuntimeWarning: Mean of empty slice\n",
      "  lambda *s: None if s[0] is None else np.nanmean(s, axis=0),\n"
     ]
    },
    {
     "name": "stdout",
     "output_type": "stream",
     "text": [
      "== Status ==\n",
      "Current time: 2023-09-21 02:07:13 (running for 00:24:04.92)\n",
      "Memory usage on this node: 14.6/31.2 GiB\n",
      "Using FIFO scheduling algorithm.\n",
      "Resources requested: 3.0/24 CPUs, 1.0/0 GPUs, 0.0/15.61 GiB heap, 0.0/7.8 GiB objects (0.0/1.0 accelerator_type:G)\n",
      "Result logdir: /home/allenwu/Desktop/work/MARLlib-1.0.3/exp_results/happo_gru_CityLearn_5e-07_0.0005_APPEND-DATA_seed-2\n",
      "Number of trials: 1/1 (1 RUNNING)\n",
      "\n",
      "\n"
     ]
    },
    {
     "name": "stderr",
     "output_type": "stream",
     "text": [
      "/home/allenwu/anaconda3/envs/marllib/lib/python3.8/site-packages/ray/rllib/utils/metrics/learner_info.py:64: RuntimeWarning: Mean of empty slice\n",
      "  lambda *s: None if s[0] is None else np.nanmean(s, axis=0),\n",
      "/home/allenwu/anaconda3/envs/marllib/lib/python3.8/site-packages/ray/rllib/utils/metrics/learner_info.py:64: RuntimeWarning: Mean of empty slice\n",
      "  lambda *s: None if s[0] is None else np.nanmean(s, axis=0),\n",
      "2023-09-21 02:07:15,018\tWARNING ray_trial_executor.py:768 -- Over the last 60 seconds, the Tune event loop has been backlogged processing new results. Consider increasing your period of result reporting to improve performance.\n",
      "/home/allenwu/anaconda3/envs/marllib/lib/python3.8/site-packages/ray/rllib/utils/metrics/learner_info.py:64: RuntimeWarning: Mean of empty slice\n",
      "  lambda *s: None if s[0] is None else np.nanmean(s, axis=0),\n",
      "/home/allenwu/anaconda3/envs/marllib/lib/python3.8/site-packages/ray/rllib/utils/metrics/learner_info.py:64: RuntimeWarning: Mean of empty slice\n",
      "  lambda *s: None if s[0] is None else np.nanmean(s, axis=0),\n",
      "/home/allenwu/anaconda3/envs/marllib/lib/python3.8/site-packages/ray/rllib/utils/metrics/learner_info.py:64: RuntimeWarning: Mean of empty slice\n",
      "  lambda *s: None if s[0] is None else np.nanmean(s, axis=0),\n",
      "/home/allenwu/anaconda3/envs/marllib/lib/python3.8/site-packages/ray/rllib/utils/metrics/learner_info.py:64: RuntimeWarning: Mean of empty slice\n",
      "  lambda *s: None if s[0] is None else np.nanmean(s, axis=0),\n"
     ]
    },
    {
     "name": "stdout",
     "output_type": "stream",
     "text": [
      "== Status ==\n",
      "Current time: 2023-09-21 02:07:18 (running for 00:24:10.20)\n",
      "Memory usage on this node: 14.7/31.2 GiB\n",
      "Using FIFO scheduling algorithm.\n",
      "Resources requested: 3.0/24 CPUs, 1.0/0 GPUs, 0.0/15.61 GiB heap, 0.0/7.8 GiB objects (0.0/1.0 accelerator_type:G)\n",
      "Result logdir: /home/allenwu/Desktop/work/MARLlib-1.0.3/exp_results/happo_gru_CityLearn_5e-07_0.0005_APPEND-DATA_seed-2\n",
      "Number of trials: 1/1 (1 RUNNING)\n",
      "\n",
      "\n"
     ]
    },
    {
     "name": "stderr",
     "output_type": "stream",
     "text": [
      "/home/allenwu/anaconda3/envs/marllib/lib/python3.8/site-packages/ray/rllib/utils/metrics/learner_info.py:64: RuntimeWarning: Mean of empty slice\n",
      "  lambda *s: None if s[0] is None else np.nanmean(s, axis=0),\n",
      "/home/allenwu/anaconda3/envs/marllib/lib/python3.8/site-packages/ray/rllib/utils/metrics/learner_info.py:64: RuntimeWarning: Mean of empty slice\n",
      "  lambda *s: None if s[0] is None else np.nanmean(s, axis=0),\n",
      "/home/allenwu/anaconda3/envs/marllib/lib/python3.8/site-packages/ray/rllib/utils/metrics/learner_info.py:64: RuntimeWarning: Mean of empty slice\n",
      "  lambda *s: None if s[0] is None else np.nanmean(s, axis=0),\n",
      "/home/allenwu/anaconda3/envs/marllib/lib/python3.8/site-packages/ray/rllib/utils/metrics/learner_info.py:64: RuntimeWarning: Mean of empty slice\n",
      "  lambda *s: None if s[0] is None else np.nanmean(s, axis=0),\n",
      "/home/allenwu/anaconda3/envs/marllib/lib/python3.8/site-packages/ray/rllib/utils/metrics/learner_info.py:64: RuntimeWarning: Mean of empty slice\n",
      "  lambda *s: None if s[0] is None else np.nanmean(s, axis=0),\n",
      "/home/allenwu/anaconda3/envs/marllib/lib/python3.8/site-packages/ray/rllib/utils/metrics/learner_info.py:64: RuntimeWarning: Mean of empty slice\n",
      "  lambda *s: None if s[0] is None else np.nanmean(s, axis=0),\n",
      "/home/allenwu/anaconda3/envs/marllib/lib/python3.8/site-packages/ray/rllib/utils/metrics/learner_info.py:64: RuntimeWarning: Mean of empty slice\n",
      "  lambda *s: None if s[0] is None else np.nanmean(s, axis=0),\n",
      "/home/allenwu/anaconda3/envs/marllib/lib/python3.8/site-packages/ray/rllib/utils/metrics/learner_info.py:64: RuntimeWarning: Mean of empty slice\n",
      "  lambda *s: None if s[0] is None else np.nanmean(s, axis=0),\n"
     ]
    },
    {
     "name": "stdout",
     "output_type": "stream",
     "text": [
      "== Status ==\n",
      "Current time: 2023-09-21 02:07:24 (running for 00:24:15.46)\n",
      "Memory usage on this node: 14.7/31.2 GiB\n",
      "Using FIFO scheduling algorithm.\n",
      "Resources requested: 3.0/24 CPUs, 1.0/0 GPUs, 0.0/15.61 GiB heap, 0.0/7.8 GiB objects (0.0/1.0 accelerator_type:G)\n",
      "Result logdir: /home/allenwu/Desktop/work/MARLlib-1.0.3/exp_results/happo_gru_CityLearn_5e-07_0.0005_APPEND-DATA_seed-2\n",
      "Number of trials: 1/1 (1 RUNNING)\n",
      "\n",
      "\n"
     ]
    },
    {
     "name": "stderr",
     "output_type": "stream",
     "text": [
      "/home/allenwu/anaconda3/envs/marllib/lib/python3.8/site-packages/ray/rllib/utils/metrics/learner_info.py:64: RuntimeWarning: Mean of empty slice\n",
      "  lambda *s: None if s[0] is None else np.nanmean(s, axis=0),\n",
      "/home/allenwu/anaconda3/envs/marllib/lib/python3.8/site-packages/ray/rllib/utils/metrics/learner_info.py:64: RuntimeWarning: Mean of empty slice\n",
      "  lambda *s: None if s[0] is None else np.nanmean(s, axis=0),\n",
      "/home/allenwu/anaconda3/envs/marllib/lib/python3.8/site-packages/ray/rllib/utils/metrics/learner_info.py:64: RuntimeWarning: Mean of empty slice\n",
      "  lambda *s: None if s[0] is None else np.nanmean(s, axis=0),\n",
      "/home/allenwu/anaconda3/envs/marllib/lib/python3.8/site-packages/ray/rllib/utils/metrics/learner_info.py:64: RuntimeWarning: Mean of empty slice\n",
      "  lambda *s: None if s[0] is None else np.nanmean(s, axis=0),\n",
      "/home/allenwu/anaconda3/envs/marllib/lib/python3.8/site-packages/ray/rllib/utils/metrics/learner_info.py:64: RuntimeWarning: Mean of empty slice\n",
      "  lambda *s: None if s[0] is None else np.nanmean(s, axis=0),\n",
      "/home/allenwu/anaconda3/envs/marllib/lib/python3.8/site-packages/ray/rllib/utils/metrics/learner_info.py:64: RuntimeWarning: Mean of empty slice\n",
      "  lambda *s: None if s[0] is None else np.nanmean(s, axis=0),\n",
      "/home/allenwu/anaconda3/envs/marllib/lib/python3.8/site-packages/ray/rllib/utils/metrics/learner_info.py:64: RuntimeWarning: Mean of empty slice\n",
      "  lambda *s: None if s[0] is None else np.nanmean(s, axis=0),\n",
      "/home/allenwu/anaconda3/envs/marllib/lib/python3.8/site-packages/ray/rllib/utils/metrics/learner_info.py:64: RuntimeWarning: Mean of empty slice\n",
      "  lambda *s: None if s[0] is None else np.nanmean(s, axis=0),\n"
     ]
    },
    {
     "name": "stdout",
     "output_type": "stream",
     "text": [
      "== Status ==\n",
      "Current time: 2023-09-21 02:07:29 (running for 00:24:20.77)\n",
      "Memory usage on this node: 14.7/31.2 GiB\n",
      "Using FIFO scheduling algorithm.\n",
      "Resources requested: 3.0/24 CPUs, 1.0/0 GPUs, 0.0/15.61 GiB heap, 0.0/7.8 GiB objects (0.0/1.0 accelerator_type:G)\n",
      "Result logdir: /home/allenwu/Desktop/work/MARLlib-1.0.3/exp_results/happo_gru_CityLearn_5e-07_0.0005_APPEND-DATA_seed-2\n",
      "Number of trials: 1/1 (1 RUNNING)\n",
      "\n",
      "\n"
     ]
    },
    {
     "name": "stderr",
     "output_type": "stream",
     "text": [
      "/home/allenwu/anaconda3/envs/marllib/lib/python3.8/site-packages/ray/rllib/utils/metrics/learner_info.py:64: RuntimeWarning: Mean of empty slice\n",
      "  lambda *s: None if s[0] is None else np.nanmean(s, axis=0),\n",
      "/home/allenwu/anaconda3/envs/marllib/lib/python3.8/site-packages/ray/rllib/utils/metrics/learner_info.py:64: RuntimeWarning: Mean of empty slice\n",
      "  lambda *s: None if s[0] is None else np.nanmean(s, axis=0),\n",
      "/home/allenwu/anaconda3/envs/marllib/lib/python3.8/site-packages/ray/rllib/utils/metrics/learner_info.py:64: RuntimeWarning: Mean of empty slice\n",
      "  lambda *s: None if s[0] is None else np.nanmean(s, axis=0),\n",
      "/home/allenwu/anaconda3/envs/marllib/lib/python3.8/site-packages/ray/rllib/utils/metrics/learner_info.py:64: RuntimeWarning: Mean of empty slice\n",
      "  lambda *s: None if s[0] is None else np.nanmean(s, axis=0),\n",
      "/home/allenwu/anaconda3/envs/marllib/lib/python3.8/site-packages/ray/rllib/utils/metrics/learner_info.py:64: RuntimeWarning: Mean of empty slice\n",
      "  lambda *s: None if s[0] is None else np.nanmean(s, axis=0),\n",
      "/home/allenwu/anaconda3/envs/marllib/lib/python3.8/site-packages/ray/rllib/utils/metrics/learner_info.py:64: RuntimeWarning: Mean of empty slice\n",
      "  lambda *s: None if s[0] is None else np.nanmean(s, axis=0),\n",
      "/home/allenwu/anaconda3/envs/marllib/lib/python3.8/site-packages/ray/rllib/utils/metrics/learner_info.py:64: RuntimeWarning: Mean of empty slice\n",
      "  lambda *s: None if s[0] is None else np.nanmean(s, axis=0),\n",
      "/home/allenwu/anaconda3/envs/marllib/lib/python3.8/site-packages/ray/rllib/utils/metrics/learner_info.py:64: RuntimeWarning: Mean of empty slice\n",
      "  lambda *s: None if s[0] is None else np.nanmean(s, axis=0),\n"
     ]
    },
    {
     "name": "stdout",
     "output_type": "stream",
     "text": [
      "== Status ==\n",
      "Current time: 2023-09-21 02:07:34 (running for 00:24:26.04)\n",
      "Memory usage on this node: 14.7/31.2 GiB\n",
      "Using FIFO scheduling algorithm.\n",
      "Resources requested: 3.0/24 CPUs, 1.0/0 GPUs, 0.0/15.61 GiB heap, 0.0/7.8 GiB objects (0.0/1.0 accelerator_type:G)\n",
      "Result logdir: /home/allenwu/Desktop/work/MARLlib-1.0.3/exp_results/happo_gru_CityLearn_5e-07_0.0005_APPEND-DATA_seed-2\n",
      "Number of trials: 1/1 (1 RUNNING)\n",
      "\n",
      "\n"
     ]
    },
    {
     "name": "stderr",
     "output_type": "stream",
     "text": [
      "/home/allenwu/anaconda3/envs/marllib/lib/python3.8/site-packages/ray/rllib/utils/metrics/learner_info.py:64: RuntimeWarning: Mean of empty slice\n",
      "  lambda *s: None if s[0] is None else np.nanmean(s, axis=0),\n",
      "/home/allenwu/anaconda3/envs/marllib/lib/python3.8/site-packages/ray/rllib/utils/metrics/learner_info.py:64: RuntimeWarning: Mean of empty slice\n",
      "  lambda *s: None if s[0] is None else np.nanmean(s, axis=0),\n",
      "/home/allenwu/anaconda3/envs/marllib/lib/python3.8/site-packages/ray/rllib/utils/metrics/learner_info.py:64: RuntimeWarning: Mean of empty slice\n",
      "  lambda *s: None if s[0] is None else np.nanmean(s, axis=0),\n",
      "/home/allenwu/anaconda3/envs/marllib/lib/python3.8/site-packages/ray/rllib/utils/metrics/learner_info.py:64: RuntimeWarning: Mean of empty slice\n",
      "  lambda *s: None if s[0] is None else np.nanmean(s, axis=0),\n",
      "/home/allenwu/anaconda3/envs/marllib/lib/python3.8/site-packages/ray/rllib/utils/metrics/learner_info.py:64: RuntimeWarning: Mean of empty slice\n",
      "  lambda *s: None if s[0] is None else np.nanmean(s, axis=0),\n"
     ]
    },
    {
     "name": "stdout",
     "output_type": "stream",
     "text": [
      "== Status ==\n",
      "Current time: 2023-09-21 02:07:40 (running for 00:24:31.29)\n",
      "Memory usage on this node: 14.8/31.2 GiB\n",
      "Using FIFO scheduling algorithm.\n",
      "Resources requested: 3.0/24 CPUs, 1.0/0 GPUs, 0.0/15.61 GiB heap, 0.0/7.8 GiB objects (0.0/1.0 accelerator_type:G)\n",
      "Result logdir: /home/allenwu/Desktop/work/MARLlib-1.0.3/exp_results/happo_gru_CityLearn_5e-07_0.0005_APPEND-DATA_seed-2\n",
      "Number of trials: 1/1 (1 RUNNING)\n",
      "\n",
      "\n"
     ]
    },
    {
     "name": "stderr",
     "output_type": "stream",
     "text": [
      "/home/allenwu/anaconda3/envs/marllib/lib/python3.8/site-packages/ray/rllib/utils/metrics/learner_info.py:64: RuntimeWarning: Mean of empty slice\n",
      "  lambda *s: None if s[0] is None else np.nanmean(s, axis=0),\n",
      "/home/allenwu/anaconda3/envs/marllib/lib/python3.8/site-packages/ray/rllib/utils/metrics/learner_info.py:64: RuntimeWarning: Mean of empty slice\n",
      "  lambda *s: None if s[0] is None else np.nanmean(s, axis=0),\n",
      "/home/allenwu/anaconda3/envs/marllib/lib/python3.8/site-packages/ray/rllib/utils/metrics/learner_info.py:64: RuntimeWarning: Mean of empty slice\n",
      "  lambda *s: None if s[0] is None else np.nanmean(s, axis=0),\n",
      "/home/allenwu/anaconda3/envs/marllib/lib/python3.8/site-packages/ray/rllib/utils/metrics/learner_info.py:64: RuntimeWarning: Mean of empty slice\n",
      "  lambda *s: None if s[0] is None else np.nanmean(s, axis=0),\n",
      "/home/allenwu/anaconda3/envs/marllib/lib/python3.8/site-packages/ray/rllib/utils/metrics/learner_info.py:64: RuntimeWarning: Mean of empty slice\n",
      "  lambda *s: None if s[0] is None else np.nanmean(s, axis=0),\n",
      "/home/allenwu/anaconda3/envs/marllib/lib/python3.8/site-packages/ray/rllib/utils/metrics/learner_info.py:64: RuntimeWarning: Mean of empty slice\n",
      "  lambda *s: None if s[0] is None else np.nanmean(s, axis=0),\n",
      "/home/allenwu/anaconda3/envs/marllib/lib/python3.8/site-packages/ray/rllib/utils/metrics/learner_info.py:64: RuntimeWarning: Mean of empty slice\n",
      "  lambda *s: None if s[0] is None else np.nanmean(s, axis=0),\n"
     ]
    },
    {
     "name": "stdout",
     "output_type": "stream",
     "text": [
      "== Status ==\n",
      "Current time: 2023-09-21 02:07:45 (running for 00:24:36.55)\n",
      "Memory usage on this node: 14.8/31.2 GiB\n",
      "Using FIFO scheduling algorithm.\n",
      "Resources requested: 3.0/24 CPUs, 1.0/0 GPUs, 0.0/15.61 GiB heap, 0.0/7.8 GiB objects (0.0/1.0 accelerator_type:G)\n",
      "Result logdir: /home/allenwu/Desktop/work/MARLlib-1.0.3/exp_results/happo_gru_CityLearn_5e-07_0.0005_APPEND-DATA_seed-2\n",
      "Number of trials: 1/1 (1 RUNNING)\n",
      "\n",
      "\n"
     ]
    },
    {
     "name": "stderr",
     "output_type": "stream",
     "text": [
      "/home/allenwu/anaconda3/envs/marllib/lib/python3.8/site-packages/ray/rllib/utils/metrics/learner_info.py:64: RuntimeWarning: Mean of empty slice\n",
      "  lambda *s: None if s[0] is None else np.nanmean(s, axis=0),\n",
      "/home/allenwu/anaconda3/envs/marllib/lib/python3.8/site-packages/ray/rllib/utils/metrics/learner_info.py:64: RuntimeWarning: Mean of empty slice\n",
      "  lambda *s: None if s[0] is None else np.nanmean(s, axis=0),\n",
      "/home/allenwu/anaconda3/envs/marllib/lib/python3.8/site-packages/ray/rllib/utils/metrics/learner_info.py:64: RuntimeWarning: Mean of empty slice\n",
      "  lambda *s: None if s[0] is None else np.nanmean(s, axis=0),\n",
      "/home/allenwu/anaconda3/envs/marllib/lib/python3.8/site-packages/ray/rllib/utils/metrics/learner_info.py:64: RuntimeWarning: Mean of empty slice\n",
      "  lambda *s: None if s[0] is None else np.nanmean(s, axis=0),\n",
      "/home/allenwu/anaconda3/envs/marllib/lib/python3.8/site-packages/ray/rllib/utils/metrics/learner_info.py:64: RuntimeWarning: Mean of empty slice\n",
      "  lambda *s: None if s[0] is None else np.nanmean(s, axis=0),\n",
      "/home/allenwu/anaconda3/envs/marllib/lib/python3.8/site-packages/ray/rllib/utils/metrics/learner_info.py:64: RuntimeWarning: Mean of empty slice\n",
      "  lambda *s: None if s[0] is None else np.nanmean(s, axis=0),\n",
      "/home/allenwu/anaconda3/envs/marllib/lib/python3.8/site-packages/ray/rllib/utils/metrics/learner_info.py:64: RuntimeWarning: Mean of empty slice\n",
      "  lambda *s: None if s[0] is None else np.nanmean(s, axis=0),\n"
     ]
    },
    {
     "name": "stdout",
     "output_type": "stream",
     "text": [
      "== Status ==\n",
      "Current time: 2023-09-21 02:07:50 (running for 00:24:41.85)\n",
      "Memory usage on this node: 14.9/31.2 GiB\n",
      "Using FIFO scheduling algorithm.\n",
      "Resources requested: 3.0/24 CPUs, 1.0/0 GPUs, 0.0/15.61 GiB heap, 0.0/7.8 GiB objects (0.0/1.0 accelerator_type:G)\n",
      "Result logdir: /home/allenwu/Desktop/work/MARLlib-1.0.3/exp_results/happo_gru_CityLearn_5e-07_0.0005_APPEND-DATA_seed-2\n",
      "Number of trials: 1/1 (1 RUNNING)\n",
      "\n",
      "\n"
     ]
    },
    {
     "name": "stderr",
     "output_type": "stream",
     "text": [
      "/home/allenwu/anaconda3/envs/marllib/lib/python3.8/site-packages/ray/rllib/utils/metrics/learner_info.py:64: RuntimeWarning: Mean of empty slice\n",
      "  lambda *s: None if s[0] is None else np.nanmean(s, axis=0),\n",
      "/home/allenwu/anaconda3/envs/marllib/lib/python3.8/site-packages/ray/rllib/utils/metrics/learner_info.py:64: RuntimeWarning: Mean of empty slice\n",
      "  lambda *s: None if s[0] is None else np.nanmean(s, axis=0),\n",
      "/home/allenwu/anaconda3/envs/marllib/lib/python3.8/site-packages/ray/rllib/utils/metrics/learner_info.py:64: RuntimeWarning: Mean of empty slice\n",
      "  lambda *s: None if s[0] is None else np.nanmean(s, axis=0),\n",
      "/home/allenwu/anaconda3/envs/marllib/lib/python3.8/site-packages/ray/rllib/utils/metrics/learner_info.py:64: RuntimeWarning: Mean of empty slice\n",
      "  lambda *s: None if s[0] is None else np.nanmean(s, axis=0),\n",
      "/home/allenwu/anaconda3/envs/marllib/lib/python3.8/site-packages/ray/rllib/utils/metrics/learner_info.py:64: RuntimeWarning: Mean of empty slice\n",
      "  lambda *s: None if s[0] is None else np.nanmean(s, axis=0),\n",
      "/home/allenwu/anaconda3/envs/marllib/lib/python3.8/site-packages/ray/rllib/utils/metrics/learner_info.py:64: RuntimeWarning: Mean of empty slice\n",
      "  lambda *s: None if s[0] is None else np.nanmean(s, axis=0),\n",
      "/home/allenwu/anaconda3/envs/marllib/lib/python3.8/site-packages/ray/rllib/utils/metrics/learner_info.py:64: RuntimeWarning: Mean of empty slice\n",
      "  lambda *s: None if s[0] is None else np.nanmean(s, axis=0),\n",
      "/home/allenwu/anaconda3/envs/marllib/lib/python3.8/site-packages/ray/rllib/utils/metrics/learner_info.py:64: RuntimeWarning: Mean of empty slice\n",
      "  lambda *s: None if s[0] is None else np.nanmean(s, axis=0),\n",
      "/home/allenwu/anaconda3/envs/marllib/lib/python3.8/site-packages/ray/rllib/utils/metrics/learner_info.py:64: RuntimeWarning: Mean of empty slice\n",
      "  lambda *s: None if s[0] is None else np.nanmean(s, axis=0),\n",
      "/home/allenwu/anaconda3/envs/marllib/lib/python3.8/site-packages/ray/rllib/utils/metrics/learner_info.py:64: RuntimeWarning: Mean of empty slice\n",
      "  lambda *s: None if s[0] is None else np.nanmean(s, axis=0),\n"
     ]
    },
    {
     "name": "stdout",
     "output_type": "stream",
     "text": [
      "== Status ==\n",
      "Current time: 2023-09-21 02:07:55 (running for 00:24:47.09)\n",
      "Memory usage on this node: 14.9/31.2 GiB\n",
      "Using FIFO scheduling algorithm.\n",
      "Resources requested: 3.0/24 CPUs, 1.0/0 GPUs, 0.0/15.61 GiB heap, 0.0/7.8 GiB objects (0.0/1.0 accelerator_type:G)\n",
      "Result logdir: /home/allenwu/Desktop/work/MARLlib-1.0.3/exp_results/happo_gru_CityLearn_5e-07_0.0005_APPEND-DATA_seed-2\n",
      "Number of trials: 1/1 (1 RUNNING)\n",
      "\n",
      "\n"
     ]
    },
    {
     "name": "stderr",
     "output_type": "stream",
     "text": [
      "/home/allenwu/anaconda3/envs/marllib/lib/python3.8/site-packages/ray/rllib/utils/metrics/learner_info.py:64: RuntimeWarning: Mean of empty slice\n",
      "  lambda *s: None if s[0] is None else np.nanmean(s, axis=0),\n",
      "/home/allenwu/anaconda3/envs/marllib/lib/python3.8/site-packages/ray/rllib/utils/metrics/learner_info.py:64: RuntimeWarning: Mean of empty slice\n",
      "  lambda *s: None if s[0] is None else np.nanmean(s, axis=0),\n",
      "/home/allenwu/anaconda3/envs/marllib/lib/python3.8/site-packages/ray/rllib/utils/metrics/learner_info.py:64: RuntimeWarning: Mean of empty slice\n",
      "  lambda *s: None if s[0] is None else np.nanmean(s, axis=0),\n",
      "/home/allenwu/anaconda3/envs/marllib/lib/python3.8/site-packages/ray/rllib/utils/metrics/learner_info.py:64: RuntimeWarning: Mean of empty slice\n",
      "  lambda *s: None if s[0] is None else np.nanmean(s, axis=0),\n",
      "/home/allenwu/anaconda3/envs/marllib/lib/python3.8/site-packages/ray/rllib/utils/metrics/learner_info.py:64: RuntimeWarning: Mean of empty slice\n",
      "  lambda *s: None if s[0] is None else np.nanmean(s, axis=0),\n",
      "/home/allenwu/anaconda3/envs/marllib/lib/python3.8/site-packages/ray/rllib/utils/metrics/learner_info.py:64: RuntimeWarning: Mean of empty slice\n",
      "  lambda *s: None if s[0] is None else np.nanmean(s, axis=0),\n",
      "/home/allenwu/anaconda3/envs/marllib/lib/python3.8/site-packages/ray/rllib/utils/metrics/learner_info.py:64: RuntimeWarning: Mean of empty slice\n",
      "  lambda *s: None if s[0] is None else np.nanmean(s, axis=0),\n",
      "/home/allenwu/anaconda3/envs/marllib/lib/python3.8/site-packages/ray/rllib/utils/metrics/learner_info.py:64: RuntimeWarning: Mean of empty slice\n",
      "  lambda *s: None if s[0] is None else np.nanmean(s, axis=0),\n",
      "/home/allenwu/anaconda3/envs/marllib/lib/python3.8/site-packages/ray/rllib/utils/metrics/learner_info.py:64: RuntimeWarning: Mean of empty slice\n",
      "  lambda *s: None if s[0] is None else np.nanmean(s, axis=0),\n",
      "/home/allenwu/anaconda3/envs/marllib/lib/python3.8/site-packages/ray/rllib/utils/metrics/learner_info.py:64: RuntimeWarning: Mean of empty slice\n",
      "  lambda *s: None if s[0] is None else np.nanmean(s, axis=0),\n",
      "/home/allenwu/anaconda3/envs/marllib/lib/python3.8/site-packages/ray/rllib/utils/metrics/learner_info.py:64: RuntimeWarning: Mean of empty slice\n",
      "  lambda *s: None if s[0] is None else np.nanmean(s, axis=0),\n",
      "/home/allenwu/anaconda3/envs/marllib/lib/python3.8/site-packages/ray/rllib/utils/metrics/learner_info.py:64: RuntimeWarning: Mean of empty slice\n",
      "  lambda *s: None if s[0] is None else np.nanmean(s, axis=0),\n"
     ]
    },
    {
     "name": "stdout",
     "output_type": "stream",
     "text": [
      "== Status ==\n",
      "Current time: 2023-09-21 02:08:01 (running for 00:24:52.34)\n",
      "Memory usage on this node: 14.9/31.2 GiB\n",
      "Using FIFO scheduling algorithm.\n",
      "Resources requested: 3.0/24 CPUs, 1.0/0 GPUs, 0.0/15.61 GiB heap, 0.0/7.8 GiB objects (0.0/1.0 accelerator_type:G)\n",
      "Result logdir: /home/allenwu/Desktop/work/MARLlib-1.0.3/exp_results/happo_gru_CityLearn_5e-07_0.0005_APPEND-DATA_seed-2\n",
      "Number of trials: 1/1 (1 RUNNING)\n",
      "\n",
      "\n"
     ]
    },
    {
     "name": "stderr",
     "output_type": "stream",
     "text": [
      "/home/allenwu/anaconda3/envs/marllib/lib/python3.8/site-packages/ray/rllib/utils/metrics/learner_info.py:64: RuntimeWarning: Mean of empty slice\n",
      "  lambda *s: None if s[0] is None else np.nanmean(s, axis=0),\n",
      "/home/allenwu/anaconda3/envs/marllib/lib/python3.8/site-packages/ray/rllib/utils/metrics/learner_info.py:64: RuntimeWarning: Mean of empty slice\n",
      "  lambda *s: None if s[0] is None else np.nanmean(s, axis=0),\n",
      "/home/allenwu/anaconda3/envs/marllib/lib/python3.8/site-packages/ray/rllib/utils/metrics/learner_info.py:64: RuntimeWarning: Mean of empty slice\n",
      "  lambda *s: None if s[0] is None else np.nanmean(s, axis=0),\n",
      "/home/allenwu/anaconda3/envs/marllib/lib/python3.8/site-packages/ray/rllib/utils/metrics/learner_info.py:64: RuntimeWarning: Mean of empty slice\n",
      "  lambda *s: None if s[0] is None else np.nanmean(s, axis=0),\n",
      "/home/allenwu/anaconda3/envs/marllib/lib/python3.8/site-packages/ray/rllib/utils/metrics/learner_info.py:64: RuntimeWarning: Mean of empty slice\n",
      "  lambda *s: None if s[0] is None else np.nanmean(s, axis=0),\n",
      "/home/allenwu/anaconda3/envs/marllib/lib/python3.8/site-packages/ray/rllib/utils/metrics/learner_info.py:64: RuntimeWarning: Mean of empty slice\n",
      "  lambda *s: None if s[0] is None else np.nanmean(s, axis=0),\n",
      "/home/allenwu/anaconda3/envs/marllib/lib/python3.8/site-packages/ray/rllib/utils/metrics/learner_info.py:64: RuntimeWarning: Mean of empty slice\n",
      "  lambda *s: None if s[0] is None else np.nanmean(s, axis=0),\n",
      "/home/allenwu/anaconda3/envs/marllib/lib/python3.8/site-packages/ray/rllib/utils/metrics/learner_info.py:64: RuntimeWarning: Mean of empty slice\n",
      "  lambda *s: None if s[0] is None else np.nanmean(s, axis=0),\n",
      "/home/allenwu/anaconda3/envs/marllib/lib/python3.8/site-packages/ray/rllib/utils/metrics/learner_info.py:64: RuntimeWarning: Mean of empty slice\n",
      "  lambda *s: None if s[0] is None else np.nanmean(s, axis=0),\n",
      "/home/allenwu/anaconda3/envs/marllib/lib/python3.8/site-packages/ray/rllib/utils/metrics/learner_info.py:64: RuntimeWarning: Mean of empty slice\n",
      "  lambda *s: None if s[0] is None else np.nanmean(s, axis=0),\n"
     ]
    },
    {
     "name": "stdout",
     "output_type": "stream",
     "text": [
      "== Status ==\n",
      "Current time: 2023-09-21 02:08:06 (running for 00:24:57.63)\n",
      "Memory usage on this node: 14.9/31.2 GiB\n",
      "Using FIFO scheduling algorithm.\n",
      "Resources requested: 3.0/24 CPUs, 1.0/0 GPUs, 0.0/15.61 GiB heap, 0.0/7.8 GiB objects (0.0/1.0 accelerator_type:G)\n",
      "Result logdir: /home/allenwu/Desktop/work/MARLlib-1.0.3/exp_results/happo_gru_CityLearn_5e-07_0.0005_APPEND-DATA_seed-2\n",
      "Number of trials: 1/1 (1 RUNNING)\n",
      "\n",
      "\n"
     ]
    },
    {
     "name": "stderr",
     "output_type": "stream",
     "text": [
      "/home/allenwu/anaconda3/envs/marllib/lib/python3.8/site-packages/ray/rllib/utils/metrics/learner_info.py:64: RuntimeWarning: Mean of empty slice\n",
      "  lambda *s: None if s[0] is None else np.nanmean(s, axis=0),\n",
      "/home/allenwu/anaconda3/envs/marllib/lib/python3.8/site-packages/ray/rllib/utils/metrics/learner_info.py:64: RuntimeWarning: Mean of empty slice\n",
      "  lambda *s: None if s[0] is None else np.nanmean(s, axis=0),\n",
      "/home/allenwu/anaconda3/envs/marllib/lib/python3.8/site-packages/ray/rllib/utils/metrics/learner_info.py:64: RuntimeWarning: Mean of empty slice\n",
      "  lambda *s: None if s[0] is None else np.nanmean(s, axis=0),\n",
      "/home/allenwu/anaconda3/envs/marllib/lib/python3.8/site-packages/ray/rllib/utils/metrics/learner_info.py:64: RuntimeWarning: Mean of empty slice\n",
      "  lambda *s: None if s[0] is None else np.nanmean(s, axis=0),\n",
      "/home/allenwu/anaconda3/envs/marllib/lib/python3.8/site-packages/ray/rllib/utils/metrics/learner_info.py:64: RuntimeWarning: Mean of empty slice\n",
      "  lambda *s: None if s[0] is None else np.nanmean(s, axis=0),\n",
      "/home/allenwu/anaconda3/envs/marllib/lib/python3.8/site-packages/ray/rllib/utils/metrics/learner_info.py:64: RuntimeWarning: Mean of empty slice\n",
      "  lambda *s: None if s[0] is None else np.nanmean(s, axis=0),\n",
      "/home/allenwu/anaconda3/envs/marllib/lib/python3.8/site-packages/ray/rllib/utils/metrics/learner_info.py:64: RuntimeWarning: Mean of empty slice\n",
      "  lambda *s: None if s[0] is None else np.nanmean(s, axis=0),\n",
      "/home/allenwu/anaconda3/envs/marllib/lib/python3.8/site-packages/ray/rllib/utils/metrics/learner_info.py:64: RuntimeWarning: Mean of empty slice\n",
      "  lambda *s: None if s[0] is None else np.nanmean(s, axis=0),\n",
      "/home/allenwu/anaconda3/envs/marllib/lib/python3.8/site-packages/ray/rllib/utils/metrics/learner_info.py:64: RuntimeWarning: Mean of empty slice\n",
      "  lambda *s: None if s[0] is None else np.nanmean(s, axis=0),\n",
      "/home/allenwu/anaconda3/envs/marllib/lib/python3.8/site-packages/ray/rllib/utils/metrics/learner_info.py:64: RuntimeWarning: Mean of empty slice\n",
      "  lambda *s: None if s[0] is None else np.nanmean(s, axis=0),\n"
     ]
    },
    {
     "name": "stdout",
     "output_type": "stream",
     "text": [
      "== Status ==\n",
      "Current time: 2023-09-21 02:08:11 (running for 00:25:02.89)\n",
      "Memory usage on this node: 14.9/31.2 GiB\n",
      "Using FIFO scheduling algorithm.\n",
      "Resources requested: 3.0/24 CPUs, 1.0/0 GPUs, 0.0/15.61 GiB heap, 0.0/7.8 GiB objects (0.0/1.0 accelerator_type:G)\n",
      "Result logdir: /home/allenwu/Desktop/work/MARLlib-1.0.3/exp_results/happo_gru_CityLearn_5e-07_0.0005_APPEND-DATA_seed-2\n",
      "Number of trials: 1/1 (1 RUNNING)\n",
      "\n",
      "\n"
     ]
    },
    {
     "name": "stderr",
     "output_type": "stream",
     "text": [
      "/home/allenwu/anaconda3/envs/marllib/lib/python3.8/site-packages/ray/rllib/utils/metrics/learner_info.py:64: RuntimeWarning: Mean of empty slice\n",
      "  lambda *s: None if s[0] is None else np.nanmean(s, axis=0),\n",
      "/home/allenwu/anaconda3/envs/marllib/lib/python3.8/site-packages/ray/rllib/utils/metrics/learner_info.py:64: RuntimeWarning: Mean of empty slice\n",
      "  lambda *s: None if s[0] is None else np.nanmean(s, axis=0),\n",
      "/home/allenwu/anaconda3/envs/marllib/lib/python3.8/site-packages/ray/rllib/utils/metrics/learner_info.py:64: RuntimeWarning: Mean of empty slice\n",
      "  lambda *s: None if s[0] is None else np.nanmean(s, axis=0),\n",
      "/home/allenwu/anaconda3/envs/marllib/lib/python3.8/site-packages/ray/rllib/utils/metrics/learner_info.py:64: RuntimeWarning: Mean of empty slice\n",
      "  lambda *s: None if s[0] is None else np.nanmean(s, axis=0),\n",
      "/home/allenwu/anaconda3/envs/marllib/lib/python3.8/site-packages/ray/rllib/utils/metrics/learner_info.py:64: RuntimeWarning: Mean of empty slice\n",
      "  lambda *s: None if s[0] is None else np.nanmean(s, axis=0),\n",
      "/home/allenwu/anaconda3/envs/marllib/lib/python3.8/site-packages/ray/rllib/utils/metrics/learner_info.py:64: RuntimeWarning: Mean of empty slice\n",
      "  lambda *s: None if s[0] is None else np.nanmean(s, axis=0),\n",
      "/home/allenwu/anaconda3/envs/marllib/lib/python3.8/site-packages/ray/rllib/utils/metrics/learner_info.py:64: RuntimeWarning: Mean of empty slice\n",
      "  lambda *s: None if s[0] is None else np.nanmean(s, axis=0),\n",
      "2023-09-21 02:08:15,209\tWARNING ray_trial_executor.py:768 -- Over the last 60 seconds, the Tune event loop has been backlogged processing new results. Consider increasing your period of result reporting to improve performance.\n",
      "/home/allenwu/anaconda3/envs/marllib/lib/python3.8/site-packages/ray/rllib/utils/metrics/learner_info.py:64: RuntimeWarning: Mean of empty slice\n",
      "  lambda *s: None if s[0] is None else np.nanmean(s, axis=0),\n",
      "/home/allenwu/anaconda3/envs/marllib/lib/python3.8/site-packages/ray/rllib/utils/metrics/learner_info.py:64: RuntimeWarning: Mean of empty slice\n",
      "  lambda *s: None if s[0] is None else np.nanmean(s, axis=0),\n",
      "/home/allenwu/anaconda3/envs/marllib/lib/python3.8/site-packages/ray/rllib/utils/metrics/learner_info.py:64: RuntimeWarning: Mean of empty slice\n",
      "  lambda *s: None if s[0] is None else np.nanmean(s, axis=0),\n"
     ]
    },
    {
     "name": "stdout",
     "output_type": "stream",
     "text": [
      "== Status ==\n",
      "Current time: 2023-09-21 02:08:16 (running for 00:25:08.21)\n",
      "Memory usage on this node: 15.0/31.2 GiB\n",
      "Using FIFO scheduling algorithm.\n",
      "Resources requested: 3.0/24 CPUs, 1.0/0 GPUs, 0.0/15.61 GiB heap, 0.0/7.8 GiB objects (0.0/1.0 accelerator_type:G)\n",
      "Result logdir: /home/allenwu/Desktop/work/MARLlib-1.0.3/exp_results/happo_gru_CityLearn_5e-07_0.0005_APPEND-DATA_seed-2\n",
      "Number of trials: 1/1 (1 RUNNING)\n",
      "\n",
      "\n"
     ]
    },
    {
     "name": "stderr",
     "output_type": "stream",
     "text": [
      "/home/allenwu/anaconda3/envs/marllib/lib/python3.8/site-packages/ray/rllib/utils/metrics/learner_info.py:64: RuntimeWarning: Mean of empty slice\n",
      "  lambda *s: None if s[0] is None else np.nanmean(s, axis=0),\n",
      "/home/allenwu/anaconda3/envs/marllib/lib/python3.8/site-packages/ray/rllib/utils/metrics/learner_info.py:64: RuntimeWarning: Mean of empty slice\n",
      "  lambda *s: None if s[0] is None else np.nanmean(s, axis=0),\n",
      "/home/allenwu/anaconda3/envs/marllib/lib/python3.8/site-packages/ray/rllib/utils/metrics/learner_info.py:64: RuntimeWarning: Mean of empty slice\n",
      "  lambda *s: None if s[0] is None else np.nanmean(s, axis=0),\n",
      "/home/allenwu/anaconda3/envs/marllib/lib/python3.8/site-packages/ray/rllib/utils/metrics/learner_info.py:64: RuntimeWarning: Mean of empty slice\n",
      "  lambda *s: None if s[0] is None else np.nanmean(s, axis=0),\n",
      "/home/allenwu/anaconda3/envs/marllib/lib/python3.8/site-packages/ray/rllib/utils/metrics/learner_info.py:64: RuntimeWarning: Mean of empty slice\n",
      "  lambda *s: None if s[0] is None else np.nanmean(s, axis=0),\n",
      "/home/allenwu/anaconda3/envs/marllib/lib/python3.8/site-packages/ray/rllib/utils/metrics/learner_info.py:64: RuntimeWarning: Mean of empty slice\n",
      "  lambda *s: None if s[0] is None else np.nanmean(s, axis=0),\n",
      "/home/allenwu/anaconda3/envs/marllib/lib/python3.8/site-packages/ray/rllib/utils/metrics/learner_info.py:64: RuntimeWarning: Mean of empty slice\n",
      "  lambda *s: None if s[0] is None else np.nanmean(s, axis=0),\n",
      "/home/allenwu/anaconda3/envs/marllib/lib/python3.8/site-packages/ray/rllib/utils/metrics/learner_info.py:64: RuntimeWarning: Mean of empty slice\n",
      "  lambda *s: None if s[0] is None else np.nanmean(s, axis=0),\n",
      "/home/allenwu/anaconda3/envs/marllib/lib/python3.8/site-packages/ray/rllib/utils/metrics/learner_info.py:64: RuntimeWarning: Mean of empty slice\n",
      "  lambda *s: None if s[0] is None else np.nanmean(s, axis=0),\n",
      "/home/allenwu/anaconda3/envs/marllib/lib/python3.8/site-packages/ray/rllib/utils/metrics/learner_info.py:64: RuntimeWarning: Mean of empty slice\n",
      "  lambda *s: None if s[0] is None else np.nanmean(s, axis=0),\n",
      "/home/allenwu/anaconda3/envs/marllib/lib/python3.8/site-packages/ray/rllib/utils/metrics/learner_info.py:64: RuntimeWarning: Mean of empty slice\n",
      "  lambda *s: None if s[0] is None else np.nanmean(s, axis=0),\n"
     ]
    },
    {
     "name": "stdout",
     "output_type": "stream",
     "text": [
      "== Status ==\n",
      "Current time: 2023-09-21 02:08:22 (running for 00:25:13.57)\n",
      "Memory usage on this node: 15.0/31.2 GiB\n",
      "Using FIFO scheduling algorithm.\n",
      "Resources requested: 3.0/24 CPUs, 1.0/0 GPUs, 0.0/15.61 GiB heap, 0.0/7.8 GiB objects (0.0/1.0 accelerator_type:G)\n",
      "Result logdir: /home/allenwu/Desktop/work/MARLlib-1.0.3/exp_results/happo_gru_CityLearn_5e-07_0.0005_APPEND-DATA_seed-2\n",
      "Number of trials: 1/1 (1 RUNNING)\n",
      "\n",
      "\n"
     ]
    },
    {
     "name": "stderr",
     "output_type": "stream",
     "text": [
      "/home/allenwu/anaconda3/envs/marllib/lib/python3.8/site-packages/ray/rllib/utils/metrics/learner_info.py:64: RuntimeWarning: Mean of empty slice\n",
      "  lambda *s: None if s[0] is None else np.nanmean(s, axis=0),\n",
      "/home/allenwu/anaconda3/envs/marllib/lib/python3.8/site-packages/ray/rllib/utils/metrics/learner_info.py:64: RuntimeWarning: Mean of empty slice\n",
      "  lambda *s: None if s[0] is None else np.nanmean(s, axis=0),\n",
      "/home/allenwu/anaconda3/envs/marllib/lib/python3.8/site-packages/ray/rllib/utils/metrics/learner_info.py:64: RuntimeWarning: Mean of empty slice\n",
      "  lambda *s: None if s[0] is None else np.nanmean(s, axis=0),\n",
      "/home/allenwu/anaconda3/envs/marllib/lib/python3.8/site-packages/ray/rllib/utils/metrics/learner_info.py:64: RuntimeWarning: Mean of empty slice\n",
      "  lambda *s: None if s[0] is None else np.nanmean(s, axis=0),\n",
      "/home/allenwu/anaconda3/envs/marllib/lib/python3.8/site-packages/ray/rllib/utils/metrics/learner_info.py:64: RuntimeWarning: Mean of empty slice\n",
      "  lambda *s: None if s[0] is None else np.nanmean(s, axis=0),\n",
      "/home/allenwu/anaconda3/envs/marllib/lib/python3.8/site-packages/ray/rllib/utils/metrics/learner_info.py:64: RuntimeWarning: Mean of empty slice\n",
      "  lambda *s: None if s[0] is None else np.nanmean(s, axis=0),\n",
      "/home/allenwu/anaconda3/envs/marllib/lib/python3.8/site-packages/ray/rllib/utils/metrics/learner_info.py:64: RuntimeWarning: Mean of empty slice\n",
      "  lambda *s: None if s[0] is None else np.nanmean(s, axis=0),\n",
      "/home/allenwu/anaconda3/envs/marllib/lib/python3.8/site-packages/ray/rllib/utils/metrics/learner_info.py:64: RuntimeWarning: Mean of empty slice\n",
      "  lambda *s: None if s[0] is None else np.nanmean(s, axis=0),\n",
      "/home/allenwu/anaconda3/envs/marllib/lib/python3.8/site-packages/ray/rllib/utils/metrics/learner_info.py:64: RuntimeWarning: Mean of empty slice\n",
      "  lambda *s: None if s[0] is None else np.nanmean(s, axis=0),\n",
      "/home/allenwu/anaconda3/envs/marllib/lib/python3.8/site-packages/ray/rllib/utils/metrics/learner_info.py:64: RuntimeWarning: Mean of empty slice\n",
      "  lambda *s: None if s[0] is None else np.nanmean(s, axis=0),\n"
     ]
    },
    {
     "name": "stdout",
     "output_type": "stream",
     "text": [
      "== Status ==\n",
      "Current time: 2023-09-21 02:08:27 (running for 00:25:18.94)\n",
      "Memory usage on this node: 15.1/31.2 GiB\n",
      "Using FIFO scheduling algorithm.\n",
      "Resources requested: 3.0/24 CPUs, 1.0/0 GPUs, 0.0/15.61 GiB heap, 0.0/7.8 GiB objects (0.0/1.0 accelerator_type:G)\n",
      "Result logdir: /home/allenwu/Desktop/work/MARLlib-1.0.3/exp_results/happo_gru_CityLearn_5e-07_0.0005_APPEND-DATA_seed-2\n",
      "Number of trials: 1/1 (1 RUNNING)\n",
      "\n",
      "\n"
     ]
    },
    {
     "name": "stderr",
     "output_type": "stream",
     "text": [
      "/home/allenwu/anaconda3/envs/marllib/lib/python3.8/site-packages/ray/rllib/utils/metrics/learner_info.py:64: RuntimeWarning: Mean of empty slice\n",
      "  lambda *s: None if s[0] is None else np.nanmean(s, axis=0),\n",
      "/home/allenwu/anaconda3/envs/marllib/lib/python3.8/site-packages/ray/rllib/utils/metrics/learner_info.py:64: RuntimeWarning: Mean of empty slice\n",
      "  lambda *s: None if s[0] is None else np.nanmean(s, axis=0),\n",
      "/home/allenwu/anaconda3/envs/marllib/lib/python3.8/site-packages/ray/rllib/utils/metrics/learner_info.py:64: RuntimeWarning: Mean of empty slice\n",
      "  lambda *s: None if s[0] is None else np.nanmean(s, axis=0),\n",
      "/home/allenwu/anaconda3/envs/marllib/lib/python3.8/site-packages/ray/rllib/utils/metrics/learner_info.py:64: RuntimeWarning: Mean of empty slice\n",
      "  lambda *s: None if s[0] is None else np.nanmean(s, axis=0),\n",
      "/home/allenwu/anaconda3/envs/marllib/lib/python3.8/site-packages/ray/rllib/utils/metrics/learner_info.py:64: RuntimeWarning: Mean of empty slice\n",
      "  lambda *s: None if s[0] is None else np.nanmean(s, axis=0),\n",
      "/home/allenwu/anaconda3/envs/marllib/lib/python3.8/site-packages/ray/rllib/utils/metrics/learner_info.py:64: RuntimeWarning: Mean of empty slice\n",
      "  lambda *s: None if s[0] is None else np.nanmean(s, axis=0),\n",
      "/home/allenwu/anaconda3/envs/marllib/lib/python3.8/site-packages/ray/rllib/utils/metrics/learner_info.py:64: RuntimeWarning: Mean of empty slice\n",
      "  lambda *s: None if s[0] is None else np.nanmean(s, axis=0),\n",
      "/home/allenwu/anaconda3/envs/marllib/lib/python3.8/site-packages/ray/rllib/utils/metrics/learner_info.py:64: RuntimeWarning: Mean of empty slice\n",
      "  lambda *s: None if s[0] is None else np.nanmean(s, axis=0),\n"
     ]
    },
    {
     "name": "stdout",
     "output_type": "stream",
     "text": [
      "== Status ==\n",
      "Current time: 2023-09-21 02:08:33 (running for 00:25:24.26)\n",
      "Memory usage on this node: 15.0/31.2 GiB\n",
      "Using FIFO scheduling algorithm.\n",
      "Resources requested: 3.0/24 CPUs, 1.0/0 GPUs, 0.0/15.61 GiB heap, 0.0/7.8 GiB objects (0.0/1.0 accelerator_type:G)\n",
      "Result logdir: /home/allenwu/Desktop/work/MARLlib-1.0.3/exp_results/happo_gru_CityLearn_5e-07_0.0005_APPEND-DATA_seed-2\n",
      "Number of trials: 1/1 (1 RUNNING)\n",
      "\n",
      "\n"
     ]
    },
    {
     "name": "stderr",
     "output_type": "stream",
     "text": [
      "/home/allenwu/anaconda3/envs/marllib/lib/python3.8/site-packages/ray/rllib/utils/metrics/learner_info.py:64: RuntimeWarning: Mean of empty slice\n",
      "  lambda *s: None if s[0] is None else np.nanmean(s, axis=0),\n",
      "/home/allenwu/anaconda3/envs/marllib/lib/python3.8/site-packages/ray/rllib/utils/metrics/learner_info.py:64: RuntimeWarning: Mean of empty slice\n",
      "  lambda *s: None if s[0] is None else np.nanmean(s, axis=0),\n",
      "/home/allenwu/anaconda3/envs/marllib/lib/python3.8/site-packages/ray/rllib/utils/metrics/learner_info.py:64: RuntimeWarning: Mean of empty slice\n",
      "  lambda *s: None if s[0] is None else np.nanmean(s, axis=0),\n",
      "/home/allenwu/anaconda3/envs/marllib/lib/python3.8/site-packages/ray/rllib/utils/metrics/learner_info.py:64: RuntimeWarning: Mean of empty slice\n",
      "  lambda *s: None if s[0] is None else np.nanmean(s, axis=0),\n",
      "/home/allenwu/anaconda3/envs/marllib/lib/python3.8/site-packages/ray/rllib/utils/metrics/learner_info.py:64: RuntimeWarning: Mean of empty slice\n",
      "  lambda *s: None if s[0] is None else np.nanmean(s, axis=0),\n",
      "/home/allenwu/anaconda3/envs/marllib/lib/python3.8/site-packages/ray/rllib/utils/metrics/learner_info.py:64: RuntimeWarning: Mean of empty slice\n",
      "  lambda *s: None if s[0] is None else np.nanmean(s, axis=0),\n",
      "/home/allenwu/anaconda3/envs/marllib/lib/python3.8/site-packages/ray/rllib/utils/metrics/learner_info.py:64: RuntimeWarning: Mean of empty slice\n",
      "  lambda *s: None if s[0] is None else np.nanmean(s, axis=0),\n"
     ]
    },
    {
     "name": "stdout",
     "output_type": "stream",
     "text": [
      "== Status ==\n",
      "Current time: 2023-09-21 02:08:38 (running for 00:25:29.61)\n",
      "Memory usage on this node: 15.1/31.2 GiB\n",
      "Using FIFO scheduling algorithm.\n",
      "Resources requested: 3.0/24 CPUs, 1.0/0 GPUs, 0.0/15.61 GiB heap, 0.0/7.8 GiB objects (0.0/1.0 accelerator_type:G)\n",
      "Result logdir: /home/allenwu/Desktop/work/MARLlib-1.0.3/exp_results/happo_gru_CityLearn_5e-07_0.0005_APPEND-DATA_seed-2\n",
      "Number of trials: 1/1 (1 RUNNING)\n",
      "\n",
      "\n"
     ]
    },
    {
     "name": "stderr",
     "output_type": "stream",
     "text": [
      "/home/allenwu/anaconda3/envs/marllib/lib/python3.8/site-packages/ray/rllib/utils/metrics/learner_info.py:64: RuntimeWarning: Mean of empty slice\n",
      "  lambda *s: None if s[0] is None else np.nanmean(s, axis=0),\n",
      "/home/allenwu/anaconda3/envs/marllib/lib/python3.8/site-packages/ray/rllib/utils/metrics/learner_info.py:64: RuntimeWarning: Mean of empty slice\n",
      "  lambda *s: None if s[0] is None else np.nanmean(s, axis=0),\n",
      "/home/allenwu/anaconda3/envs/marllib/lib/python3.8/site-packages/ray/rllib/utils/metrics/learner_info.py:64: RuntimeWarning: Mean of empty slice\n",
      "  lambda *s: None if s[0] is None else np.nanmean(s, axis=0),\n",
      "/home/allenwu/anaconda3/envs/marllib/lib/python3.8/site-packages/ray/rllib/utils/metrics/learner_info.py:64: RuntimeWarning: Mean of empty slice\n",
      "  lambda *s: None if s[0] is None else np.nanmean(s, axis=0),\n",
      "/home/allenwu/anaconda3/envs/marllib/lib/python3.8/site-packages/ray/rllib/utils/metrics/learner_info.py:64: RuntimeWarning: Mean of empty slice\n",
      "  lambda *s: None if s[0] is None else np.nanmean(s, axis=0),\n",
      "/home/allenwu/anaconda3/envs/marllib/lib/python3.8/site-packages/ray/rllib/utils/metrics/learner_info.py:64: RuntimeWarning: Mean of empty slice\n",
      "  lambda *s: None if s[0] is None else np.nanmean(s, axis=0),\n",
      "/home/allenwu/anaconda3/envs/marllib/lib/python3.8/site-packages/ray/rllib/utils/metrics/learner_info.py:64: RuntimeWarning: Mean of empty slice\n",
      "  lambda *s: None if s[0] is None else np.nanmean(s, axis=0),\n"
     ]
    },
    {
     "name": "stdout",
     "output_type": "stream",
     "text": [
      "== Status ==\n",
      "Current time: 2023-09-21 02:08:43 (running for 00:25:34.95)\n",
      "Memory usage on this node: 15.1/31.2 GiB\n",
      "Using FIFO scheduling algorithm.\n",
      "Resources requested: 3.0/24 CPUs, 1.0/0 GPUs, 0.0/15.61 GiB heap, 0.0/7.8 GiB objects (0.0/1.0 accelerator_type:G)\n",
      "Result logdir: /home/allenwu/Desktop/work/MARLlib-1.0.3/exp_results/happo_gru_CityLearn_5e-07_0.0005_APPEND-DATA_seed-2\n",
      "Number of trials: 1/1 (1 RUNNING)\n",
      "\n",
      "\n"
     ]
    },
    {
     "name": "stderr",
     "output_type": "stream",
     "text": [
      "/home/allenwu/anaconda3/envs/marllib/lib/python3.8/site-packages/ray/rllib/utils/metrics/learner_info.py:64: RuntimeWarning: Mean of empty slice\n",
      "  lambda *s: None if s[0] is None else np.nanmean(s, axis=0),\n",
      "/home/allenwu/anaconda3/envs/marllib/lib/python3.8/site-packages/ray/rllib/utils/metrics/learner_info.py:64: RuntimeWarning: Mean of empty slice\n",
      "  lambda *s: None if s[0] is None else np.nanmean(s, axis=0),\n",
      "/home/allenwu/anaconda3/envs/marllib/lib/python3.8/site-packages/ray/rllib/utils/metrics/learner_info.py:64: RuntimeWarning: Mean of empty slice\n",
      "  lambda *s: None if s[0] is None else np.nanmean(s, axis=0),\n",
      "/home/allenwu/anaconda3/envs/marllib/lib/python3.8/site-packages/ray/rllib/utils/metrics/learner_info.py:64: RuntimeWarning: Mean of empty slice\n",
      "  lambda *s: None if s[0] is None else np.nanmean(s, axis=0),\n",
      "/home/allenwu/anaconda3/envs/marllib/lib/python3.8/site-packages/ray/rllib/utils/metrics/learner_info.py:64: RuntimeWarning: Mean of empty slice\n",
      "  lambda *s: None if s[0] is None else np.nanmean(s, axis=0),\n",
      "/home/allenwu/anaconda3/envs/marllib/lib/python3.8/site-packages/ray/rllib/utils/metrics/learner_info.py:64: RuntimeWarning: Mean of empty slice\n",
      "  lambda *s: None if s[0] is None else np.nanmean(s, axis=0),\n",
      "/home/allenwu/anaconda3/envs/marllib/lib/python3.8/site-packages/ray/rllib/utils/metrics/learner_info.py:64: RuntimeWarning: Mean of empty slice\n",
      "  lambda *s: None if s[0] is None else np.nanmean(s, axis=0),\n",
      "/home/allenwu/anaconda3/envs/marllib/lib/python3.8/site-packages/ray/rllib/utils/metrics/learner_info.py:64: RuntimeWarning: Mean of empty slice\n",
      "  lambda *s: None if s[0] is None else np.nanmean(s, axis=0),\n",
      "/home/allenwu/anaconda3/envs/marllib/lib/python3.8/site-packages/ray/rllib/utils/metrics/learner_info.py:64: RuntimeWarning: Mean of empty slice\n",
      "  lambda *s: None if s[0] is None else np.nanmean(s, axis=0),\n",
      "/home/allenwu/anaconda3/envs/marllib/lib/python3.8/site-packages/ray/rllib/utils/metrics/learner_info.py:64: RuntimeWarning: Mean of empty slice\n",
      "  lambda *s: None if s[0] is None else np.nanmean(s, axis=0),\n"
     ]
    },
    {
     "name": "stdout",
     "output_type": "stream",
     "text": [
      "== Status ==\n",
      "Current time: 2023-09-21 02:08:49 (running for 00:25:40.24)\n",
      "Memory usage on this node: 15.1/31.2 GiB\n",
      "Using FIFO scheduling algorithm.\n",
      "Resources requested: 3.0/24 CPUs, 1.0/0 GPUs, 0.0/15.61 GiB heap, 0.0/7.8 GiB objects (0.0/1.0 accelerator_type:G)\n",
      "Result logdir: /home/allenwu/Desktop/work/MARLlib-1.0.3/exp_results/happo_gru_CityLearn_5e-07_0.0005_APPEND-DATA_seed-2\n",
      "Number of trials: 1/1 (1 RUNNING)\n",
      "\n",
      "\n"
     ]
    },
    {
     "name": "stderr",
     "output_type": "stream",
     "text": [
      "/home/allenwu/anaconda3/envs/marllib/lib/python3.8/site-packages/ray/rllib/utils/metrics/learner_info.py:64: RuntimeWarning: Mean of empty slice\n",
      "  lambda *s: None if s[0] is None else np.nanmean(s, axis=0),\n",
      "/home/allenwu/anaconda3/envs/marllib/lib/python3.8/site-packages/ray/rllib/utils/metrics/learner_info.py:64: RuntimeWarning: Mean of empty slice\n",
      "  lambda *s: None if s[0] is None else np.nanmean(s, axis=0),\n",
      "/home/allenwu/anaconda3/envs/marllib/lib/python3.8/site-packages/ray/rllib/utils/metrics/learner_info.py:64: RuntimeWarning: Mean of empty slice\n",
      "  lambda *s: None if s[0] is None else np.nanmean(s, axis=0),\n",
      "/home/allenwu/anaconda3/envs/marllib/lib/python3.8/site-packages/ray/rllib/utils/metrics/learner_info.py:64: RuntimeWarning: Mean of empty slice\n",
      "  lambda *s: None if s[0] is None else np.nanmean(s, axis=0),\n",
      "/home/allenwu/anaconda3/envs/marllib/lib/python3.8/site-packages/ray/rllib/utils/metrics/learner_info.py:64: RuntimeWarning: Mean of empty slice\n",
      "  lambda *s: None if s[0] is None else np.nanmean(s, axis=0),\n",
      "/home/allenwu/anaconda3/envs/marllib/lib/python3.8/site-packages/ray/rllib/utils/metrics/learner_info.py:64: RuntimeWarning: Mean of empty slice\n",
      "  lambda *s: None if s[0] is None else np.nanmean(s, axis=0),\n",
      "/home/allenwu/anaconda3/envs/marllib/lib/python3.8/site-packages/ray/rllib/utils/metrics/learner_info.py:64: RuntimeWarning: Mean of empty slice\n",
      "  lambda *s: None if s[0] is None else np.nanmean(s, axis=0),\n",
      "/home/allenwu/anaconda3/envs/marllib/lib/python3.8/site-packages/ray/rllib/utils/metrics/learner_info.py:64: RuntimeWarning: Mean of empty slice\n",
      "  lambda *s: None if s[0] is None else np.nanmean(s, axis=0),\n",
      "/home/allenwu/anaconda3/envs/marllib/lib/python3.8/site-packages/ray/rllib/utils/metrics/learner_info.py:64: RuntimeWarning: Mean of empty slice\n",
      "  lambda *s: None if s[0] is None else np.nanmean(s, axis=0),\n"
     ]
    },
    {
     "name": "stdout",
     "output_type": "stream",
     "text": [
      "== Status ==\n",
      "Current time: 2023-09-21 02:08:54 (running for 00:25:45.53)\n",
      "Memory usage on this node: 15.2/31.2 GiB\n",
      "Using FIFO scheduling algorithm.\n",
      "Resources requested: 3.0/24 CPUs, 1.0/0 GPUs, 0.0/15.61 GiB heap, 0.0/7.8 GiB objects (0.0/1.0 accelerator_type:G)\n",
      "Result logdir: /home/allenwu/Desktop/work/MARLlib-1.0.3/exp_results/happo_gru_CityLearn_5e-07_0.0005_APPEND-DATA_seed-2\n",
      "Number of trials: 1/1 (1 RUNNING)\n",
      "\n",
      "\n"
     ]
    },
    {
     "name": "stderr",
     "output_type": "stream",
     "text": [
      "/home/allenwu/anaconda3/envs/marllib/lib/python3.8/site-packages/ray/rllib/utils/metrics/learner_info.py:64: RuntimeWarning: Mean of empty slice\n",
      "  lambda *s: None if s[0] is None else np.nanmean(s, axis=0),\n",
      "/home/allenwu/anaconda3/envs/marllib/lib/python3.8/site-packages/ray/rllib/utils/metrics/learner_info.py:64: RuntimeWarning: Mean of empty slice\n",
      "  lambda *s: None if s[0] is None else np.nanmean(s, axis=0),\n",
      "/home/allenwu/anaconda3/envs/marllib/lib/python3.8/site-packages/ray/rllib/utils/metrics/learner_info.py:64: RuntimeWarning: Mean of empty slice\n",
      "  lambda *s: None if s[0] is None else np.nanmean(s, axis=0),\n",
      "/home/allenwu/anaconda3/envs/marllib/lib/python3.8/site-packages/ray/rllib/utils/metrics/learner_info.py:64: RuntimeWarning: Mean of empty slice\n",
      "  lambda *s: None if s[0] is None else np.nanmean(s, axis=0),\n",
      "/home/allenwu/anaconda3/envs/marllib/lib/python3.8/site-packages/ray/rllib/utils/metrics/learner_info.py:64: RuntimeWarning: Mean of empty slice\n",
      "  lambda *s: None if s[0] is None else np.nanmean(s, axis=0),\n",
      "/home/allenwu/anaconda3/envs/marllib/lib/python3.8/site-packages/ray/rllib/utils/metrics/learner_info.py:64: RuntimeWarning: Mean of empty slice\n",
      "  lambda *s: None if s[0] is None else np.nanmean(s, axis=0),\n",
      "/home/allenwu/anaconda3/envs/marllib/lib/python3.8/site-packages/ray/rllib/utils/metrics/learner_info.py:64: RuntimeWarning: Mean of empty slice\n",
      "  lambda *s: None if s[0] is None else np.nanmean(s, axis=0),\n",
      "/home/allenwu/anaconda3/envs/marllib/lib/python3.8/site-packages/ray/rllib/utils/metrics/learner_info.py:64: RuntimeWarning: Mean of empty slice\n",
      "  lambda *s: None if s[0] is None else np.nanmean(s, axis=0),\n"
     ]
    },
    {
     "name": "stdout",
     "output_type": "stream",
     "text": [
      "== Status ==\n",
      "Current time: 2023-09-21 02:08:59 (running for 00:25:50.84)\n",
      "Memory usage on this node: 15.2/31.2 GiB\n",
      "Using FIFO scheduling algorithm.\n",
      "Resources requested: 3.0/24 CPUs, 1.0/0 GPUs, 0.0/15.61 GiB heap, 0.0/7.8 GiB objects (0.0/1.0 accelerator_type:G)\n",
      "Result logdir: /home/allenwu/Desktop/work/MARLlib-1.0.3/exp_results/happo_gru_CityLearn_5e-07_0.0005_APPEND-DATA_seed-2\n",
      "Number of trials: 1/1 (1 RUNNING)\n",
      "\n",
      "\n"
     ]
    },
    {
     "name": "stderr",
     "output_type": "stream",
     "text": [
      "/home/allenwu/anaconda3/envs/marllib/lib/python3.8/site-packages/ray/rllib/utils/metrics/learner_info.py:64: RuntimeWarning: Mean of empty slice\n",
      "  lambda *s: None if s[0] is None else np.nanmean(s, axis=0),\n",
      "/home/allenwu/anaconda3/envs/marllib/lib/python3.8/site-packages/ray/rllib/utils/metrics/learner_info.py:64: RuntimeWarning: Mean of empty slice\n",
      "  lambda *s: None if s[0] is None else np.nanmean(s, axis=0),\n",
      "/home/allenwu/anaconda3/envs/marllib/lib/python3.8/site-packages/ray/rllib/utils/metrics/learner_info.py:64: RuntimeWarning: Mean of empty slice\n",
      "  lambda *s: None if s[0] is None else np.nanmean(s, axis=0),\n",
      "/home/allenwu/anaconda3/envs/marllib/lib/python3.8/site-packages/ray/rllib/utils/metrics/learner_info.py:64: RuntimeWarning: Mean of empty slice\n",
      "  lambda *s: None if s[0] is None else np.nanmean(s, axis=0),\n",
      "/home/allenwu/anaconda3/envs/marllib/lib/python3.8/site-packages/ray/rllib/utils/metrics/learner_info.py:64: RuntimeWarning: Mean of empty slice\n",
      "  lambda *s: None if s[0] is None else np.nanmean(s, axis=0),\n",
      "/home/allenwu/anaconda3/envs/marllib/lib/python3.8/site-packages/ray/rllib/utils/metrics/learner_info.py:64: RuntimeWarning: Mean of empty slice\n",
      "  lambda *s: None if s[0] is None else np.nanmean(s, axis=0),\n",
      "/home/allenwu/anaconda3/envs/marllib/lib/python3.8/site-packages/ray/rllib/utils/metrics/learner_info.py:64: RuntimeWarning: Mean of empty slice\n",
      "  lambda *s: None if s[0] is None else np.nanmean(s, axis=0),\n",
      "/home/allenwu/anaconda3/envs/marllib/lib/python3.8/site-packages/ray/rllib/utils/metrics/learner_info.py:64: RuntimeWarning: Mean of empty slice\n",
      "  lambda *s: None if s[0] is None else np.nanmean(s, axis=0),\n",
      "/home/allenwu/anaconda3/envs/marllib/lib/python3.8/site-packages/ray/rllib/utils/metrics/learner_info.py:64: RuntimeWarning: Mean of empty slice\n",
      "  lambda *s: None if s[0] is None else np.nanmean(s, axis=0),\n",
      "/home/allenwu/anaconda3/envs/marllib/lib/python3.8/site-packages/ray/rllib/utils/metrics/learner_info.py:64: RuntimeWarning: Mean of empty slice\n",
      "  lambda *s: None if s[0] is None else np.nanmean(s, axis=0),\n"
     ]
    },
    {
     "name": "stdout",
     "output_type": "stream",
     "text": [
      "== Status ==\n",
      "Current time: 2023-09-21 02:09:04 (running for 00:25:56.05)\n",
      "Memory usage on this node: 15.2/31.2 GiB\n",
      "Using FIFO scheduling algorithm.\n",
      "Resources requested: 3.0/24 CPUs, 1.0/0 GPUs, 0.0/15.61 GiB heap, 0.0/7.8 GiB objects (0.0/1.0 accelerator_type:G)\n",
      "Result logdir: /home/allenwu/Desktop/work/MARLlib-1.0.3/exp_results/happo_gru_CityLearn_5e-07_0.0005_APPEND-DATA_seed-2\n",
      "Number of trials: 1/1 (1 RUNNING)\n",
      "\n",
      "\n"
     ]
    },
    {
     "name": "stderr",
     "output_type": "stream",
     "text": [
      "/home/allenwu/anaconda3/envs/marllib/lib/python3.8/site-packages/ray/rllib/utils/metrics/learner_info.py:64: RuntimeWarning: Mean of empty slice\n",
      "  lambda *s: None if s[0] is None else np.nanmean(s, axis=0),\n",
      "/home/allenwu/anaconda3/envs/marllib/lib/python3.8/site-packages/ray/rllib/utils/metrics/learner_info.py:64: RuntimeWarning: Mean of empty slice\n",
      "  lambda *s: None if s[0] is None else np.nanmean(s, axis=0),\n",
      "/home/allenwu/anaconda3/envs/marllib/lib/python3.8/site-packages/ray/rllib/utils/metrics/learner_info.py:64: RuntimeWarning: Mean of empty slice\n",
      "  lambda *s: None if s[0] is None else np.nanmean(s, axis=0),\n",
      "/home/allenwu/anaconda3/envs/marllib/lib/python3.8/site-packages/ray/rllib/utils/metrics/learner_info.py:64: RuntimeWarning: Mean of empty slice\n",
      "  lambda *s: None if s[0] is None else np.nanmean(s, axis=0),\n",
      "/home/allenwu/anaconda3/envs/marllib/lib/python3.8/site-packages/ray/rllib/utils/metrics/learner_info.py:64: RuntimeWarning: Mean of empty slice\n",
      "  lambda *s: None if s[0] is None else np.nanmean(s, axis=0),\n",
      "/home/allenwu/anaconda3/envs/marllib/lib/python3.8/site-packages/ray/rllib/utils/metrics/learner_info.py:64: RuntimeWarning: Mean of empty slice\n",
      "  lambda *s: None if s[0] is None else np.nanmean(s, axis=0),\n"
     ]
    },
    {
     "name": "stdout",
     "output_type": "stream",
     "text": [
      "== Status ==\n",
      "Current time: 2023-09-21 02:09:10 (running for 00:26:01.28)\n",
      "Memory usage on this node: 15.2/31.2 GiB\n",
      "Using FIFO scheduling algorithm.\n",
      "Resources requested: 3.0/24 CPUs, 1.0/0 GPUs, 0.0/15.61 GiB heap, 0.0/7.8 GiB objects (0.0/1.0 accelerator_type:G)\n",
      "Result logdir: /home/allenwu/Desktop/work/MARLlib-1.0.3/exp_results/happo_gru_CityLearn_5e-07_0.0005_APPEND-DATA_seed-2\n",
      "Number of trials: 1/1 (1 RUNNING)\n",
      "\n",
      "\n"
     ]
    },
    {
     "name": "stderr",
     "output_type": "stream",
     "text": [
      "/home/allenwu/anaconda3/envs/marllib/lib/python3.8/site-packages/ray/rllib/utils/metrics/learner_info.py:64: RuntimeWarning: Mean of empty slice\n",
      "  lambda *s: None if s[0] is None else np.nanmean(s, axis=0),\n",
      "/home/allenwu/anaconda3/envs/marllib/lib/python3.8/site-packages/ray/rllib/utils/metrics/learner_info.py:64: RuntimeWarning: Mean of empty slice\n",
      "  lambda *s: None if s[0] is None else np.nanmean(s, axis=0),\n",
      "/home/allenwu/anaconda3/envs/marllib/lib/python3.8/site-packages/ray/rllib/utils/metrics/learner_info.py:64: RuntimeWarning: Mean of empty slice\n",
      "  lambda *s: None if s[0] is None else np.nanmean(s, axis=0),\n",
      "/home/allenwu/anaconda3/envs/marllib/lib/python3.8/site-packages/ray/rllib/utils/metrics/learner_info.py:64: RuntimeWarning: Mean of empty slice\n",
      "  lambda *s: None if s[0] is None else np.nanmean(s, axis=0),\n",
      "/home/allenwu/anaconda3/envs/marllib/lib/python3.8/site-packages/ray/rllib/utils/metrics/learner_info.py:64: RuntimeWarning: Mean of empty slice\n",
      "  lambda *s: None if s[0] is None else np.nanmean(s, axis=0),\n",
      "/home/allenwu/anaconda3/envs/marllib/lib/python3.8/site-packages/ray/rllib/utils/metrics/learner_info.py:64: RuntimeWarning: Mean of empty slice\n",
      "  lambda *s: None if s[0] is None else np.nanmean(s, axis=0),\n",
      "/home/allenwu/anaconda3/envs/marllib/lib/python3.8/site-packages/ray/rllib/utils/metrics/learner_info.py:64: RuntimeWarning: Mean of empty slice\n",
      "  lambda *s: None if s[0] is None else np.nanmean(s, axis=0),\n",
      "/home/allenwu/anaconda3/envs/marllib/lib/python3.8/site-packages/ray/rllib/utils/metrics/learner_info.py:64: RuntimeWarning: Mean of empty slice\n",
      "  lambda *s: None if s[0] is None else np.nanmean(s, axis=0),\n",
      "/home/allenwu/anaconda3/envs/marllib/lib/python3.8/site-packages/ray/rllib/utils/metrics/learner_info.py:64: RuntimeWarning: Mean of empty slice\n",
      "  lambda *s: None if s[0] is None else np.nanmean(s, axis=0),\n",
      "/home/allenwu/anaconda3/envs/marllib/lib/python3.8/site-packages/ray/rllib/utils/metrics/learner_info.py:64: RuntimeWarning: Mean of empty slice\n",
      "  lambda *s: None if s[0] is None else np.nanmean(s, axis=0),\n",
      "/home/allenwu/anaconda3/envs/marllib/lib/python3.8/site-packages/ray/rllib/utils/metrics/learner_info.py:64: RuntimeWarning: Mean of empty slice\n",
      "  lambda *s: None if s[0] is None else np.nanmean(s, axis=0),\n",
      "2023-09-21 02:09:15,324\tWARNING ray_trial_executor.py:768 -- Over the last 60 seconds, the Tune event loop has been backlogged processing new results. Consider increasing your period of result reporting to improve performance.\n"
     ]
    },
    {
     "name": "stdout",
     "output_type": "stream",
     "text": [
      "== Status ==\n",
      "Current time: 2023-09-21 02:09:15 (running for 00:26:06.56)\n",
      "Memory usage on this node: 15.3/31.2 GiB\n",
      "Using FIFO scheduling algorithm.\n",
      "Resources requested: 3.0/24 CPUs, 1.0/0 GPUs, 0.0/15.61 GiB heap, 0.0/7.8 GiB objects (0.0/1.0 accelerator_type:G)\n",
      "Result logdir: /home/allenwu/Desktop/work/MARLlib-1.0.3/exp_results/happo_gru_CityLearn_5e-07_0.0005_APPEND-DATA_seed-2\n",
      "Number of trials: 1/1 (1 RUNNING)\n",
      "\n",
      "\n"
     ]
    },
    {
     "name": "stderr",
     "output_type": "stream",
     "text": [
      "/home/allenwu/anaconda3/envs/marllib/lib/python3.8/site-packages/ray/rllib/utils/metrics/learner_info.py:64: RuntimeWarning: Mean of empty slice\n",
      "  lambda *s: None if s[0] is None else np.nanmean(s, axis=0),\n",
      "/home/allenwu/anaconda3/envs/marllib/lib/python3.8/site-packages/ray/rllib/utils/metrics/learner_info.py:64: RuntimeWarning: Mean of empty slice\n",
      "  lambda *s: None if s[0] is None else np.nanmean(s, axis=0),\n",
      "/home/allenwu/anaconda3/envs/marllib/lib/python3.8/site-packages/ray/rllib/utils/metrics/learner_info.py:64: RuntimeWarning: Mean of empty slice\n",
      "  lambda *s: None if s[0] is None else np.nanmean(s, axis=0),\n",
      "/home/allenwu/anaconda3/envs/marllib/lib/python3.8/site-packages/ray/rllib/utils/metrics/learner_info.py:64: RuntimeWarning: Mean of empty slice\n",
      "  lambda *s: None if s[0] is None else np.nanmean(s, axis=0),\n",
      "/home/allenwu/anaconda3/envs/marllib/lib/python3.8/site-packages/ray/rllib/utils/metrics/learner_info.py:64: RuntimeWarning: Mean of empty slice\n",
      "  lambda *s: None if s[0] is None else np.nanmean(s, axis=0),\n",
      "/home/allenwu/anaconda3/envs/marllib/lib/python3.8/site-packages/ray/rllib/utils/metrics/learner_info.py:64: RuntimeWarning: Mean of empty slice\n",
      "  lambda *s: None if s[0] is None else np.nanmean(s, axis=0),\n",
      "/home/allenwu/anaconda3/envs/marllib/lib/python3.8/site-packages/ray/rllib/utils/metrics/learner_info.py:64: RuntimeWarning: Mean of empty slice\n",
      "  lambda *s: None if s[0] is None else np.nanmean(s, axis=0),\n",
      "/home/allenwu/anaconda3/envs/marllib/lib/python3.8/site-packages/ray/rllib/utils/metrics/learner_info.py:64: RuntimeWarning: Mean of empty slice\n",
      "  lambda *s: None if s[0] is None else np.nanmean(s, axis=0),\n",
      "/home/allenwu/anaconda3/envs/marllib/lib/python3.8/site-packages/ray/rllib/utils/metrics/learner_info.py:64: RuntimeWarning: Mean of empty slice\n",
      "  lambda *s: None if s[0] is None else np.nanmean(s, axis=0),\n"
     ]
    },
    {
     "name": "stdout",
     "output_type": "stream",
     "text": [
      "== Status ==\n",
      "Current time: 2023-09-21 02:09:20 (running for 00:26:11.71)\n",
      "Memory usage on this node: 15.3/31.2 GiB\n",
      "Using FIFO scheduling algorithm.\n",
      "Resources requested: 3.0/24 CPUs, 1.0/0 GPUs, 0.0/15.61 GiB heap, 0.0/7.8 GiB objects (0.0/1.0 accelerator_type:G)\n",
      "Result logdir: /home/allenwu/Desktop/work/MARLlib-1.0.3/exp_results/happo_gru_CityLearn_5e-07_0.0005_APPEND-DATA_seed-2\n",
      "Number of trials: 1/1 (1 RUNNING)\n",
      "\n",
      "\n"
     ]
    },
    {
     "name": "stderr",
     "output_type": "stream",
     "text": [
      "/home/allenwu/anaconda3/envs/marllib/lib/python3.8/site-packages/ray/rllib/utils/metrics/learner_info.py:64: RuntimeWarning: Mean of empty slice\n",
      "  lambda *s: None if s[0] is None else np.nanmean(s, axis=0),\n",
      "/home/allenwu/anaconda3/envs/marllib/lib/python3.8/site-packages/ray/rllib/utils/metrics/learner_info.py:64: RuntimeWarning: Mean of empty slice\n",
      "  lambda *s: None if s[0] is None else np.nanmean(s, axis=0),\n",
      "/home/allenwu/anaconda3/envs/marllib/lib/python3.8/site-packages/ray/rllib/utils/metrics/learner_info.py:64: RuntimeWarning: Mean of empty slice\n",
      "  lambda *s: None if s[0] is None else np.nanmean(s, axis=0),\n",
      "/home/allenwu/anaconda3/envs/marllib/lib/python3.8/site-packages/ray/rllib/utils/metrics/learner_info.py:64: RuntimeWarning: Mean of empty slice\n",
      "  lambda *s: None if s[0] is None else np.nanmean(s, axis=0),\n",
      "/home/allenwu/anaconda3/envs/marllib/lib/python3.8/site-packages/ray/rllib/utils/metrics/learner_info.py:64: RuntimeWarning: Mean of empty slice\n",
      "  lambda *s: None if s[0] is None else np.nanmean(s, axis=0),\n",
      "/home/allenwu/anaconda3/envs/marllib/lib/python3.8/site-packages/ray/rllib/utils/metrics/learner_info.py:64: RuntimeWarning: Mean of empty slice\n",
      "  lambda *s: None if s[0] is None else np.nanmean(s, axis=0),\n",
      "/home/allenwu/anaconda3/envs/marllib/lib/python3.8/site-packages/ray/rllib/utils/metrics/learner_info.py:64: RuntimeWarning: Mean of empty slice\n",
      "  lambda *s: None if s[0] is None else np.nanmean(s, axis=0),\n",
      "/home/allenwu/anaconda3/envs/marllib/lib/python3.8/site-packages/ray/rllib/utils/metrics/learner_info.py:64: RuntimeWarning: Mean of empty slice\n",
      "  lambda *s: None if s[0] is None else np.nanmean(s, axis=0),\n",
      "/home/allenwu/anaconda3/envs/marllib/lib/python3.8/site-packages/ray/rllib/utils/metrics/learner_info.py:64: RuntimeWarning: Mean of empty slice\n",
      "  lambda *s: None if s[0] is None else np.nanmean(s, axis=0),\n",
      "/home/allenwu/anaconda3/envs/marllib/lib/python3.8/site-packages/ray/rllib/utils/metrics/learner_info.py:64: RuntimeWarning: Mean of empty slice\n",
      "  lambda *s: None if s[0] is None else np.nanmean(s, axis=0),\n"
     ]
    },
    {
     "name": "stdout",
     "output_type": "stream",
     "text": [
      "== Status ==\n",
      "Current time: 2023-09-21 02:09:25 (running for 00:26:16.81)\n",
      "Memory usage on this node: 15.4/31.2 GiB\n",
      "Using FIFO scheduling algorithm.\n",
      "Resources requested: 3.0/24 CPUs, 1.0/0 GPUs, 0.0/15.61 GiB heap, 0.0/7.8 GiB objects (0.0/1.0 accelerator_type:G)\n",
      "Result logdir: /home/allenwu/Desktop/work/MARLlib-1.0.3/exp_results/happo_gru_CityLearn_5e-07_0.0005_APPEND-DATA_seed-2\n",
      "Number of trials: 1/1 (1 RUNNING)\n",
      "\n",
      "\n"
     ]
    },
    {
     "name": "stderr",
     "output_type": "stream",
     "text": [
      "/home/allenwu/anaconda3/envs/marllib/lib/python3.8/site-packages/ray/rllib/utils/metrics/learner_info.py:64: RuntimeWarning: Mean of empty slice\n",
      "  lambda *s: None if s[0] is None else np.nanmean(s, axis=0),\n",
      "/home/allenwu/anaconda3/envs/marllib/lib/python3.8/site-packages/ray/rllib/utils/metrics/learner_info.py:64: RuntimeWarning: Mean of empty slice\n",
      "  lambda *s: None if s[0] is None else np.nanmean(s, axis=0),\n",
      "/home/allenwu/anaconda3/envs/marllib/lib/python3.8/site-packages/ray/rllib/utils/metrics/learner_info.py:64: RuntimeWarning: Mean of empty slice\n",
      "  lambda *s: None if s[0] is None else np.nanmean(s, axis=0),\n",
      "/home/allenwu/anaconda3/envs/marllib/lib/python3.8/site-packages/ray/rllib/utils/metrics/learner_info.py:64: RuntimeWarning: Mean of empty slice\n",
      "  lambda *s: None if s[0] is None else np.nanmean(s, axis=0),\n",
      "/home/allenwu/anaconda3/envs/marllib/lib/python3.8/site-packages/ray/rllib/utils/metrics/learner_info.py:64: RuntimeWarning: Mean of empty slice\n",
      "  lambda *s: None if s[0] is None else np.nanmean(s, axis=0),\n",
      "/home/allenwu/anaconda3/envs/marllib/lib/python3.8/site-packages/ray/rllib/utils/metrics/learner_info.py:64: RuntimeWarning: Mean of empty slice\n",
      "  lambda *s: None if s[0] is None else np.nanmean(s, axis=0),\n",
      "/home/allenwu/anaconda3/envs/marllib/lib/python3.8/site-packages/ray/rllib/utils/metrics/learner_info.py:64: RuntimeWarning: Mean of empty slice\n",
      "  lambda *s: None if s[0] is None else np.nanmean(s, axis=0),\n",
      "/home/allenwu/anaconda3/envs/marllib/lib/python3.8/site-packages/ray/rllib/utils/metrics/learner_info.py:64: RuntimeWarning: Mean of empty slice\n",
      "  lambda *s: None if s[0] is None else np.nanmean(s, axis=0),\n",
      "/home/allenwu/anaconda3/envs/marllib/lib/python3.8/site-packages/ray/rllib/utils/metrics/learner_info.py:64: RuntimeWarning: Mean of empty slice\n",
      "  lambda *s: None if s[0] is None else np.nanmean(s, axis=0),\n",
      "/home/allenwu/anaconda3/envs/marllib/lib/python3.8/site-packages/ray/rllib/utils/metrics/learner_info.py:64: RuntimeWarning: Mean of empty slice\n",
      "  lambda *s: None if s[0] is None else np.nanmean(s, axis=0),\n"
     ]
    },
    {
     "name": "stdout",
     "output_type": "stream",
     "text": [
      "== Status ==\n",
      "Current time: 2023-09-21 02:09:30 (running for 00:26:21.89)\n",
      "Memory usage on this node: 15.4/31.2 GiB\n",
      "Using FIFO scheduling algorithm.\n",
      "Resources requested: 3.0/24 CPUs, 1.0/0 GPUs, 0.0/15.61 GiB heap, 0.0/7.8 GiB objects (0.0/1.0 accelerator_type:G)\n",
      "Result logdir: /home/allenwu/Desktop/work/MARLlib-1.0.3/exp_results/happo_gru_CityLearn_5e-07_0.0005_APPEND-DATA_seed-2\n",
      "Number of trials: 1/1 (1 RUNNING)\n",
      "\n",
      "\n"
     ]
    },
    {
     "name": "stderr",
     "output_type": "stream",
     "text": [
      "/home/allenwu/anaconda3/envs/marllib/lib/python3.8/site-packages/ray/rllib/utils/metrics/learner_info.py:64: RuntimeWarning: Mean of empty slice\n",
      "  lambda *s: None if s[0] is None else np.nanmean(s, axis=0),\n",
      "/home/allenwu/anaconda3/envs/marllib/lib/python3.8/site-packages/ray/rllib/utils/metrics/learner_info.py:64: RuntimeWarning: Mean of empty slice\n",
      "  lambda *s: None if s[0] is None else np.nanmean(s, axis=0),\n",
      "/home/allenwu/anaconda3/envs/marllib/lib/python3.8/site-packages/ray/rllib/utils/metrics/learner_info.py:64: RuntimeWarning: Mean of empty slice\n",
      "  lambda *s: None if s[0] is None else np.nanmean(s, axis=0),\n",
      "/home/allenwu/anaconda3/envs/marllib/lib/python3.8/site-packages/ray/rllib/utils/metrics/learner_info.py:64: RuntimeWarning: Mean of empty slice\n",
      "  lambda *s: None if s[0] is None else np.nanmean(s, axis=0),\n",
      "/home/allenwu/anaconda3/envs/marllib/lib/python3.8/site-packages/ray/rllib/utils/metrics/learner_info.py:64: RuntimeWarning: Mean of empty slice\n",
      "  lambda *s: None if s[0] is None else np.nanmean(s, axis=0),\n",
      "/home/allenwu/anaconda3/envs/marllib/lib/python3.8/site-packages/ray/rllib/utils/metrics/learner_info.py:64: RuntimeWarning: Mean of empty slice\n",
      "  lambda *s: None if s[0] is None else np.nanmean(s, axis=0),\n",
      "/home/allenwu/anaconda3/envs/marllib/lib/python3.8/site-packages/ray/rllib/utils/metrics/learner_info.py:64: RuntimeWarning: Mean of empty slice\n",
      "  lambda *s: None if s[0] is None else np.nanmean(s, axis=0),\n",
      "/home/allenwu/anaconda3/envs/marllib/lib/python3.8/site-packages/ray/rllib/utils/metrics/learner_info.py:64: RuntimeWarning: Mean of empty slice\n",
      "  lambda *s: None if s[0] is None else np.nanmean(s, axis=0),\n",
      "/home/allenwu/anaconda3/envs/marllib/lib/python3.8/site-packages/ray/rllib/utils/metrics/learner_info.py:64: RuntimeWarning: Mean of empty slice\n",
      "  lambda *s: None if s[0] is None else np.nanmean(s, axis=0),\n",
      "/home/allenwu/anaconda3/envs/marllib/lib/python3.8/site-packages/ray/rllib/utils/metrics/learner_info.py:64: RuntimeWarning: Mean of empty slice\n",
      "  lambda *s: None if s[0] is None else np.nanmean(s, axis=0),\n"
     ]
    },
    {
     "name": "stdout",
     "output_type": "stream",
     "text": [
      "== Status ==\n",
      "Current time: 2023-09-21 02:09:35 (running for 00:26:26.96)\n",
      "Memory usage on this node: 15.4/31.2 GiB\n",
      "Using FIFO scheduling algorithm.\n",
      "Resources requested: 3.0/24 CPUs, 1.0/0 GPUs, 0.0/15.61 GiB heap, 0.0/7.8 GiB objects (0.0/1.0 accelerator_type:G)\n",
      "Result logdir: /home/allenwu/Desktop/work/MARLlib-1.0.3/exp_results/happo_gru_CityLearn_5e-07_0.0005_APPEND-DATA_seed-2\n",
      "Number of trials: 1/1 (1 RUNNING)\n",
      "\n",
      "\n"
     ]
    },
    {
     "name": "stderr",
     "output_type": "stream",
     "text": [
      "/home/allenwu/anaconda3/envs/marllib/lib/python3.8/site-packages/ray/rllib/utils/metrics/learner_info.py:64: RuntimeWarning: Mean of empty slice\n",
      "  lambda *s: None if s[0] is None else np.nanmean(s, axis=0),\n",
      "/home/allenwu/anaconda3/envs/marllib/lib/python3.8/site-packages/ray/rllib/utils/metrics/learner_info.py:64: RuntimeWarning: Mean of empty slice\n",
      "  lambda *s: None if s[0] is None else np.nanmean(s, axis=0),\n",
      "/home/allenwu/anaconda3/envs/marllib/lib/python3.8/site-packages/ray/rllib/utils/metrics/learner_info.py:64: RuntimeWarning: Mean of empty slice\n",
      "  lambda *s: None if s[0] is None else np.nanmean(s, axis=0),\n",
      "/home/allenwu/anaconda3/envs/marllib/lib/python3.8/site-packages/ray/rllib/utils/metrics/learner_info.py:64: RuntimeWarning: Mean of empty slice\n",
      "  lambda *s: None if s[0] is None else np.nanmean(s, axis=0),\n",
      "/home/allenwu/anaconda3/envs/marllib/lib/python3.8/site-packages/ray/rllib/utils/metrics/learner_info.py:64: RuntimeWarning: Mean of empty slice\n",
      "  lambda *s: None if s[0] is None else np.nanmean(s, axis=0),\n",
      "/home/allenwu/anaconda3/envs/marllib/lib/python3.8/site-packages/ray/rllib/utils/metrics/learner_info.py:64: RuntimeWarning: Mean of empty slice\n",
      "  lambda *s: None if s[0] is None else np.nanmean(s, axis=0),\n",
      "/home/allenwu/anaconda3/envs/marllib/lib/python3.8/site-packages/ray/rllib/utils/metrics/learner_info.py:64: RuntimeWarning: Mean of empty slice\n",
      "  lambda *s: None if s[0] is None else np.nanmean(s, axis=0),\n",
      "/home/allenwu/anaconda3/envs/marllib/lib/python3.8/site-packages/ray/rllib/utils/metrics/learner_info.py:64: RuntimeWarning: Mean of empty slice\n",
      "  lambda *s: None if s[0] is None else np.nanmean(s, axis=0),\n",
      "/home/allenwu/anaconda3/envs/marllib/lib/python3.8/site-packages/ray/rllib/utils/metrics/learner_info.py:64: RuntimeWarning: Mean of empty slice\n",
      "  lambda *s: None if s[0] is None else np.nanmean(s, axis=0),\n"
     ]
    },
    {
     "name": "stdout",
     "output_type": "stream",
     "text": [
      "== Status ==\n",
      "Current time: 2023-09-21 02:09:40 (running for 00:26:32.05)\n",
      "Memory usage on this node: 15.4/31.2 GiB\n",
      "Using FIFO scheduling algorithm.\n",
      "Resources requested: 3.0/24 CPUs, 1.0/0 GPUs, 0.0/15.61 GiB heap, 0.0/7.8 GiB objects (0.0/1.0 accelerator_type:G)\n",
      "Result logdir: /home/allenwu/Desktop/work/MARLlib-1.0.3/exp_results/happo_gru_CityLearn_5e-07_0.0005_APPEND-DATA_seed-2\n",
      "Number of trials: 1/1 (1 RUNNING)\n",
      "\n",
      "\n"
     ]
    },
    {
     "name": "stderr",
     "output_type": "stream",
     "text": [
      "/home/allenwu/anaconda3/envs/marllib/lib/python3.8/site-packages/ray/rllib/utils/metrics/learner_info.py:64: RuntimeWarning: Mean of empty slice\n",
      "  lambda *s: None if s[0] is None else np.nanmean(s, axis=0),\n",
      "/home/allenwu/anaconda3/envs/marllib/lib/python3.8/site-packages/ray/rllib/utils/metrics/learner_info.py:64: RuntimeWarning: Mean of empty slice\n",
      "  lambda *s: None if s[0] is None else np.nanmean(s, axis=0),\n",
      "/home/allenwu/anaconda3/envs/marllib/lib/python3.8/site-packages/ray/rllib/utils/metrics/learner_info.py:64: RuntimeWarning: Mean of empty slice\n",
      "  lambda *s: None if s[0] is None else np.nanmean(s, axis=0),\n",
      "/home/allenwu/anaconda3/envs/marllib/lib/python3.8/site-packages/ray/rllib/utils/metrics/learner_info.py:64: RuntimeWarning: Mean of empty slice\n",
      "  lambda *s: None if s[0] is None else np.nanmean(s, axis=0),\n",
      "/home/allenwu/anaconda3/envs/marllib/lib/python3.8/site-packages/ray/rllib/utils/metrics/learner_info.py:64: RuntimeWarning: Mean of empty slice\n",
      "  lambda *s: None if s[0] is None else np.nanmean(s, axis=0),\n",
      "/home/allenwu/anaconda3/envs/marllib/lib/python3.8/site-packages/ray/rllib/utils/metrics/learner_info.py:64: RuntimeWarning: Mean of empty slice\n",
      "  lambda *s: None if s[0] is None else np.nanmean(s, axis=0),\n",
      "/home/allenwu/anaconda3/envs/marllib/lib/python3.8/site-packages/ray/rllib/utils/metrics/learner_info.py:64: RuntimeWarning: Mean of empty slice\n",
      "  lambda *s: None if s[0] is None else np.nanmean(s, axis=0),\n",
      "/home/allenwu/anaconda3/envs/marllib/lib/python3.8/site-packages/ray/rllib/utils/metrics/learner_info.py:64: RuntimeWarning: Mean of empty slice\n",
      "  lambda *s: None if s[0] is None else np.nanmean(s, axis=0),\n",
      "/home/allenwu/anaconda3/envs/marllib/lib/python3.8/site-packages/ray/rllib/utils/metrics/learner_info.py:64: RuntimeWarning: Mean of empty slice\n",
      "  lambda *s: None if s[0] is None else np.nanmean(s, axis=0),\n",
      "/home/allenwu/anaconda3/envs/marllib/lib/python3.8/site-packages/ray/rllib/utils/metrics/learner_info.py:64: RuntimeWarning: Mean of empty slice\n",
      "  lambda *s: None if s[0] is None else np.nanmean(s, axis=0),\n"
     ]
    },
    {
     "name": "stdout",
     "output_type": "stream",
     "text": [
      "== Status ==\n",
      "Current time: 2023-09-21 02:09:45 (running for 00:26:37.16)\n",
      "Memory usage on this node: 15.4/31.2 GiB\n",
      "Using FIFO scheduling algorithm.\n",
      "Resources requested: 3.0/24 CPUs, 1.0/0 GPUs, 0.0/15.61 GiB heap, 0.0/7.8 GiB objects (0.0/1.0 accelerator_type:G)\n",
      "Result logdir: /home/allenwu/Desktop/work/MARLlib-1.0.3/exp_results/happo_gru_CityLearn_5e-07_0.0005_APPEND-DATA_seed-2\n",
      "Number of trials: 1/1 (1 RUNNING)\n",
      "\n",
      "\n"
     ]
    },
    {
     "name": "stderr",
     "output_type": "stream",
     "text": [
      "/home/allenwu/anaconda3/envs/marllib/lib/python3.8/site-packages/ray/rllib/utils/metrics/learner_info.py:64: RuntimeWarning: Mean of empty slice\n",
      "  lambda *s: None if s[0] is None else np.nanmean(s, axis=0),\n",
      "/home/allenwu/anaconda3/envs/marllib/lib/python3.8/site-packages/ray/rllib/utils/metrics/learner_info.py:64: RuntimeWarning: Mean of empty slice\n",
      "  lambda *s: None if s[0] is None else np.nanmean(s, axis=0),\n",
      "/home/allenwu/anaconda3/envs/marllib/lib/python3.8/site-packages/ray/rllib/utils/metrics/learner_info.py:64: RuntimeWarning: Mean of empty slice\n",
      "  lambda *s: None if s[0] is None else np.nanmean(s, axis=0),\n",
      "/home/allenwu/anaconda3/envs/marllib/lib/python3.8/site-packages/ray/rllib/utils/metrics/learner_info.py:64: RuntimeWarning: Mean of empty slice\n",
      "  lambda *s: None if s[0] is None else np.nanmean(s, axis=0),\n",
      "/home/allenwu/anaconda3/envs/marllib/lib/python3.8/site-packages/ray/rllib/utils/metrics/learner_info.py:64: RuntimeWarning: Mean of empty slice\n",
      "  lambda *s: None if s[0] is None else np.nanmean(s, axis=0),\n",
      "/home/allenwu/anaconda3/envs/marllib/lib/python3.8/site-packages/ray/rllib/utils/metrics/learner_info.py:64: RuntimeWarning: Mean of empty slice\n",
      "  lambda *s: None if s[0] is None else np.nanmean(s, axis=0),\n",
      "/home/allenwu/anaconda3/envs/marllib/lib/python3.8/site-packages/ray/rllib/utils/metrics/learner_info.py:64: RuntimeWarning: Mean of empty slice\n",
      "  lambda *s: None if s[0] is None else np.nanmean(s, axis=0),\n",
      "/home/allenwu/anaconda3/envs/marllib/lib/python3.8/site-packages/ray/rllib/utils/metrics/learner_info.py:64: RuntimeWarning: Mean of empty slice\n",
      "  lambda *s: None if s[0] is None else np.nanmean(s, axis=0),\n",
      "/home/allenwu/anaconda3/envs/marllib/lib/python3.8/site-packages/ray/rllib/utils/metrics/learner_info.py:64: RuntimeWarning: Mean of empty slice\n",
      "  lambda *s: None if s[0] is None else np.nanmean(s, axis=0),\n",
      "/home/allenwu/anaconda3/envs/marllib/lib/python3.8/site-packages/ray/rllib/utils/metrics/learner_info.py:64: RuntimeWarning: Mean of empty slice\n",
      "  lambda *s: None if s[0] is None else np.nanmean(s, axis=0),\n"
     ]
    },
    {
     "name": "stdout",
     "output_type": "stream",
     "text": [
      "== Status ==\n",
      "Current time: 2023-09-21 02:09:51 (running for 00:26:42.32)\n",
      "Memory usage on this node: 15.5/31.2 GiB\n",
      "Using FIFO scheduling algorithm.\n",
      "Resources requested: 3.0/24 CPUs, 1.0/0 GPUs, 0.0/15.61 GiB heap, 0.0/7.8 GiB objects (0.0/1.0 accelerator_type:G)\n",
      "Result logdir: /home/allenwu/Desktop/work/MARLlib-1.0.3/exp_results/happo_gru_CityLearn_5e-07_0.0005_APPEND-DATA_seed-2\n",
      "Number of trials: 1/1 (1 RUNNING)\n",
      "\n",
      "\n"
     ]
    },
    {
     "name": "stderr",
     "output_type": "stream",
     "text": [
      "/home/allenwu/anaconda3/envs/marllib/lib/python3.8/site-packages/ray/rllib/utils/metrics/learner_info.py:64: RuntimeWarning: Mean of empty slice\n",
      "  lambda *s: None if s[0] is None else np.nanmean(s, axis=0),\n",
      "/home/allenwu/anaconda3/envs/marllib/lib/python3.8/site-packages/ray/rllib/utils/metrics/learner_info.py:64: RuntimeWarning: Mean of empty slice\n",
      "  lambda *s: None if s[0] is None else np.nanmean(s, axis=0),\n",
      "/home/allenwu/anaconda3/envs/marllib/lib/python3.8/site-packages/ray/rllib/utils/metrics/learner_info.py:64: RuntimeWarning: Mean of empty slice\n",
      "  lambda *s: None if s[0] is None else np.nanmean(s, axis=0),\n",
      "/home/allenwu/anaconda3/envs/marllib/lib/python3.8/site-packages/ray/rllib/utils/metrics/learner_info.py:64: RuntimeWarning: Mean of empty slice\n",
      "  lambda *s: None if s[0] is None else np.nanmean(s, axis=0),\n",
      "/home/allenwu/anaconda3/envs/marllib/lib/python3.8/site-packages/ray/rllib/utils/metrics/learner_info.py:64: RuntimeWarning: Mean of empty slice\n",
      "  lambda *s: None if s[0] is None else np.nanmean(s, axis=0),\n",
      "/home/allenwu/anaconda3/envs/marllib/lib/python3.8/site-packages/ray/rllib/utils/metrics/learner_info.py:64: RuntimeWarning: Mean of empty slice\n",
      "  lambda *s: None if s[0] is None else np.nanmean(s, axis=0),\n",
      "/home/allenwu/anaconda3/envs/marllib/lib/python3.8/site-packages/ray/rllib/utils/metrics/learner_info.py:64: RuntimeWarning: Mean of empty slice\n",
      "  lambda *s: None if s[0] is None else np.nanmean(s, axis=0),\n",
      "/home/allenwu/anaconda3/envs/marllib/lib/python3.8/site-packages/ray/rllib/utils/metrics/learner_info.py:64: RuntimeWarning: Mean of empty slice\n",
      "  lambda *s: None if s[0] is None else np.nanmean(s, axis=0),\n",
      "/home/allenwu/anaconda3/envs/marllib/lib/python3.8/site-packages/ray/rllib/utils/metrics/learner_info.py:64: RuntimeWarning: Mean of empty slice\n",
      "  lambda *s: None if s[0] is None else np.nanmean(s, axis=0),\n",
      "/home/allenwu/anaconda3/envs/marllib/lib/python3.8/site-packages/ray/rllib/utils/metrics/learner_info.py:64: RuntimeWarning: Mean of empty slice\n",
      "  lambda *s: None if s[0] is None else np.nanmean(s, axis=0),\n",
      "/home/allenwu/anaconda3/envs/marllib/lib/python3.8/site-packages/ray/rllib/utils/metrics/learner_info.py:64: RuntimeWarning: Mean of empty slice\n",
      "  lambda *s: None if s[0] is None else np.nanmean(s, axis=0),\n"
     ]
    },
    {
     "name": "stdout",
     "output_type": "stream",
     "text": [
      "== Status ==\n",
      "Current time: 2023-09-21 02:09:56 (running for 00:26:47.48)\n",
      "Memory usage on this node: 15.5/31.2 GiB\n",
      "Using FIFO scheduling algorithm.\n",
      "Resources requested: 3.0/24 CPUs, 1.0/0 GPUs, 0.0/15.61 GiB heap, 0.0/7.8 GiB objects (0.0/1.0 accelerator_type:G)\n",
      "Result logdir: /home/allenwu/Desktop/work/MARLlib-1.0.3/exp_results/happo_gru_CityLearn_5e-07_0.0005_APPEND-DATA_seed-2\n",
      "Number of trials: 1/1 (1 RUNNING)\n",
      "\n",
      "\n"
     ]
    },
    {
     "name": "stderr",
     "output_type": "stream",
     "text": [
      "/home/allenwu/anaconda3/envs/marllib/lib/python3.8/site-packages/ray/rllib/utils/metrics/learner_info.py:64: RuntimeWarning: Mean of empty slice\n",
      "  lambda *s: None if s[0] is None else np.nanmean(s, axis=0),\n",
      "/home/allenwu/anaconda3/envs/marllib/lib/python3.8/site-packages/ray/rllib/utils/metrics/learner_info.py:64: RuntimeWarning: Mean of empty slice\n",
      "  lambda *s: None if s[0] is None else np.nanmean(s, axis=0),\n",
      "/home/allenwu/anaconda3/envs/marllib/lib/python3.8/site-packages/ray/rllib/utils/metrics/learner_info.py:64: RuntimeWarning: Mean of empty slice\n",
      "  lambda *s: None if s[0] is None else np.nanmean(s, axis=0),\n",
      "/home/allenwu/anaconda3/envs/marllib/lib/python3.8/site-packages/ray/rllib/utils/metrics/learner_info.py:64: RuntimeWarning: Mean of empty slice\n",
      "  lambda *s: None if s[0] is None else np.nanmean(s, axis=0),\n",
      "/home/allenwu/anaconda3/envs/marllib/lib/python3.8/site-packages/ray/rllib/utils/metrics/learner_info.py:64: RuntimeWarning: Mean of empty slice\n",
      "  lambda *s: None if s[0] is None else np.nanmean(s, axis=0),\n",
      "/home/allenwu/anaconda3/envs/marllib/lib/python3.8/site-packages/ray/rllib/utils/metrics/learner_info.py:64: RuntimeWarning: Mean of empty slice\n",
      "  lambda *s: None if s[0] is None else np.nanmean(s, axis=0),\n",
      "/home/allenwu/anaconda3/envs/marllib/lib/python3.8/site-packages/ray/rllib/utils/metrics/learner_info.py:64: RuntimeWarning: Mean of empty slice\n",
      "  lambda *s: None if s[0] is None else np.nanmean(s, axis=0),\n",
      "/home/allenwu/anaconda3/envs/marllib/lib/python3.8/site-packages/ray/rllib/utils/metrics/learner_info.py:64: RuntimeWarning: Mean of empty slice\n",
      "  lambda *s: None if s[0] is None else np.nanmean(s, axis=0),\n",
      "/home/allenwu/anaconda3/envs/marllib/lib/python3.8/site-packages/ray/rllib/utils/metrics/learner_info.py:64: RuntimeWarning: Mean of empty slice\n",
      "  lambda *s: None if s[0] is None else np.nanmean(s, axis=0),\n"
     ]
    },
    {
     "name": "stdout",
     "output_type": "stream",
     "text": [
      "== Status ==\n",
      "Current time: 2023-09-21 02:10:01 (running for 00:26:52.64)\n",
      "Memory usage on this node: 15.6/31.2 GiB\n",
      "Using FIFO scheduling algorithm.\n",
      "Resources requested: 3.0/24 CPUs, 1.0/0 GPUs, 0.0/15.61 GiB heap, 0.0/7.8 GiB objects (0.0/1.0 accelerator_type:G)\n",
      "Result logdir: /home/allenwu/Desktop/work/MARLlib-1.0.3/exp_results/happo_gru_CityLearn_5e-07_0.0005_APPEND-DATA_seed-2\n",
      "Number of trials: 1/1 (1 RUNNING)\n",
      "\n",
      "\n"
     ]
    },
    {
     "name": "stderr",
     "output_type": "stream",
     "text": [
      "/home/allenwu/anaconda3/envs/marllib/lib/python3.8/site-packages/ray/rllib/utils/metrics/learner_info.py:64: RuntimeWarning: Mean of empty slice\n",
      "  lambda *s: None if s[0] is None else np.nanmean(s, axis=0),\n",
      "/home/allenwu/anaconda3/envs/marllib/lib/python3.8/site-packages/ray/rllib/utils/metrics/learner_info.py:64: RuntimeWarning: Mean of empty slice\n",
      "  lambda *s: None if s[0] is None else np.nanmean(s, axis=0),\n",
      "/home/allenwu/anaconda3/envs/marllib/lib/python3.8/site-packages/ray/rllib/utils/metrics/learner_info.py:64: RuntimeWarning: Mean of empty slice\n",
      "  lambda *s: None if s[0] is None else np.nanmean(s, axis=0),\n",
      "/home/allenwu/anaconda3/envs/marllib/lib/python3.8/site-packages/ray/rllib/utils/metrics/learner_info.py:64: RuntimeWarning: Mean of empty slice\n",
      "  lambda *s: None if s[0] is None else np.nanmean(s, axis=0),\n",
      "/home/allenwu/anaconda3/envs/marllib/lib/python3.8/site-packages/ray/rllib/utils/metrics/learner_info.py:64: RuntimeWarning: Mean of empty slice\n",
      "  lambda *s: None if s[0] is None else np.nanmean(s, axis=0),\n",
      "/home/allenwu/anaconda3/envs/marllib/lib/python3.8/site-packages/ray/rllib/utils/metrics/learner_info.py:64: RuntimeWarning: Mean of empty slice\n",
      "  lambda *s: None if s[0] is None else np.nanmean(s, axis=0),\n",
      "/home/allenwu/anaconda3/envs/marllib/lib/python3.8/site-packages/ray/rllib/utils/metrics/learner_info.py:64: RuntimeWarning: Mean of empty slice\n",
      "  lambda *s: None if s[0] is None else np.nanmean(s, axis=0),\n",
      "/home/allenwu/anaconda3/envs/marllib/lib/python3.8/site-packages/ray/rllib/utils/metrics/learner_info.py:64: RuntimeWarning: Mean of empty slice\n",
      "  lambda *s: None if s[0] is None else np.nanmean(s, axis=0),\n",
      "/home/allenwu/anaconda3/envs/marllib/lib/python3.8/site-packages/ray/rllib/utils/metrics/learner_info.py:64: RuntimeWarning: Mean of empty slice\n",
      "  lambda *s: None if s[0] is None else np.nanmean(s, axis=0),\n",
      "/home/allenwu/anaconda3/envs/marllib/lib/python3.8/site-packages/ray/rllib/utils/metrics/learner_info.py:64: RuntimeWarning: Mean of empty slice\n",
      "  lambda *s: None if s[0] is None else np.nanmean(s, axis=0),\n",
      "/home/allenwu/anaconda3/envs/marllib/lib/python3.8/site-packages/ray/rllib/utils/metrics/learner_info.py:64: RuntimeWarning: Mean of empty slice\n",
      "  lambda *s: None if s[0] is None else np.nanmean(s, axis=0),\n"
     ]
    },
    {
     "name": "stdout",
     "output_type": "stream",
     "text": [
      "== Status ==\n",
      "Current time: 2023-09-21 02:10:06 (running for 00:26:57.78)\n",
      "Memory usage on this node: 15.5/31.2 GiB\n",
      "Using FIFO scheduling algorithm.\n",
      "Resources requested: 3.0/24 CPUs, 1.0/0 GPUs, 0.0/15.61 GiB heap, 0.0/7.8 GiB objects (0.0/1.0 accelerator_type:G)\n",
      "Result logdir: /home/allenwu/Desktop/work/MARLlib-1.0.3/exp_results/happo_gru_CityLearn_5e-07_0.0005_APPEND-DATA_seed-2\n",
      "Number of trials: 1/1 (1 RUNNING)\n",
      "\n",
      "\n"
     ]
    },
    {
     "name": "stderr",
     "output_type": "stream",
     "text": [
      "/home/allenwu/anaconda3/envs/marllib/lib/python3.8/site-packages/ray/rllib/utils/metrics/learner_info.py:64: RuntimeWarning: Mean of empty slice\n",
      "  lambda *s: None if s[0] is None else np.nanmean(s, axis=0),\n",
      "/home/allenwu/anaconda3/envs/marllib/lib/python3.8/site-packages/ray/rllib/utils/metrics/learner_info.py:64: RuntimeWarning: Mean of empty slice\n",
      "  lambda *s: None if s[0] is None else np.nanmean(s, axis=0),\n",
      "/home/allenwu/anaconda3/envs/marllib/lib/python3.8/site-packages/ray/rllib/utils/metrics/learner_info.py:64: RuntimeWarning: Mean of empty slice\n",
      "  lambda *s: None if s[0] is None else np.nanmean(s, axis=0),\n",
      "/home/allenwu/anaconda3/envs/marllib/lib/python3.8/site-packages/ray/rllib/utils/metrics/learner_info.py:64: RuntimeWarning: Mean of empty slice\n",
      "  lambda *s: None if s[0] is None else np.nanmean(s, axis=0),\n",
      "/home/allenwu/anaconda3/envs/marllib/lib/python3.8/site-packages/ray/rllib/utils/metrics/learner_info.py:64: RuntimeWarning: Mean of empty slice\n",
      "  lambda *s: None if s[0] is None else np.nanmean(s, axis=0),\n",
      "/home/allenwu/anaconda3/envs/marllib/lib/python3.8/site-packages/ray/rllib/utils/metrics/learner_info.py:64: RuntimeWarning: Mean of empty slice\n",
      "  lambda *s: None if s[0] is None else np.nanmean(s, axis=0),\n",
      "/home/allenwu/anaconda3/envs/marllib/lib/python3.8/site-packages/ray/rllib/utils/metrics/learner_info.py:64: RuntimeWarning: Mean of empty slice\n",
      "  lambda *s: None if s[0] is None else np.nanmean(s, axis=0),\n"
     ]
    },
    {
     "name": "stdout",
     "output_type": "stream",
     "text": [
      "== Status ==\n",
      "Current time: 2023-09-21 02:10:11 (running for 00:27:02.91)\n",
      "Memory usage on this node: 15.6/31.2 GiB\n",
      "Using FIFO scheduling algorithm.\n",
      "Resources requested: 3.0/24 CPUs, 1.0/0 GPUs, 0.0/15.61 GiB heap, 0.0/7.8 GiB objects (0.0/1.0 accelerator_type:G)\n",
      "Result logdir: /home/allenwu/Desktop/work/MARLlib-1.0.3/exp_results/happo_gru_CityLearn_5e-07_0.0005_APPEND-DATA_seed-2\n",
      "Number of trials: 1/1 (1 RUNNING)\n",
      "\n",
      "\n"
     ]
    },
    {
     "name": "stderr",
     "output_type": "stream",
     "text": [
      "/home/allenwu/anaconda3/envs/marllib/lib/python3.8/site-packages/ray/rllib/utils/metrics/learner_info.py:64: RuntimeWarning: Mean of empty slice\n",
      "  lambda *s: None if s[0] is None else np.nanmean(s, axis=0),\n",
      "/home/allenwu/anaconda3/envs/marllib/lib/python3.8/site-packages/ray/rllib/utils/metrics/learner_info.py:64: RuntimeWarning: Mean of empty slice\n",
      "  lambda *s: None if s[0] is None else np.nanmean(s, axis=0),\n",
      "/home/allenwu/anaconda3/envs/marllib/lib/python3.8/site-packages/ray/rllib/utils/metrics/learner_info.py:64: RuntimeWarning: Mean of empty slice\n",
      "  lambda *s: None if s[0] is None else np.nanmean(s, axis=0),\n",
      "/home/allenwu/anaconda3/envs/marllib/lib/python3.8/site-packages/ray/rllib/utils/metrics/learner_info.py:64: RuntimeWarning: Mean of empty slice\n",
      "  lambda *s: None if s[0] is None else np.nanmean(s, axis=0),\n",
      "/home/allenwu/anaconda3/envs/marllib/lib/python3.8/site-packages/ray/rllib/utils/metrics/learner_info.py:64: RuntimeWarning: Mean of empty slice\n",
      "  lambda *s: None if s[0] is None else np.nanmean(s, axis=0),\n",
      "/home/allenwu/anaconda3/envs/marllib/lib/python3.8/site-packages/ray/rllib/utils/metrics/learner_info.py:64: RuntimeWarning: Mean of empty slice\n",
      "  lambda *s: None if s[0] is None else np.nanmean(s, axis=0),\n",
      "/home/allenwu/anaconda3/envs/marllib/lib/python3.8/site-packages/ray/rllib/utils/metrics/learner_info.py:64: RuntimeWarning: Mean of empty slice\n",
      "  lambda *s: None if s[0] is None else np.nanmean(s, axis=0),\n",
      "2023-09-21 02:10:15,484\tWARNING ray_trial_executor.py:768 -- Over the last 60 seconds, the Tune event loop has been backlogged processing new results. Consider increasing your period of result reporting to improve performance.\n",
      "/home/allenwu/anaconda3/envs/marllib/lib/python3.8/site-packages/ray/rllib/utils/metrics/learner_info.py:64: RuntimeWarning: Mean of empty slice\n",
      "  lambda *s: None if s[0] is None else np.nanmean(s, axis=0),\n",
      "/home/allenwu/anaconda3/envs/marllib/lib/python3.8/site-packages/ray/rllib/utils/metrics/learner_info.py:64: RuntimeWarning: Mean of empty slice\n",
      "  lambda *s: None if s[0] is None else np.nanmean(s, axis=0),\n",
      "/home/allenwu/anaconda3/envs/marllib/lib/python3.8/site-packages/ray/rllib/utils/metrics/learner_info.py:64: RuntimeWarning: Mean of empty slice\n",
      "  lambda *s: None if s[0] is None else np.nanmean(s, axis=0),\n"
     ]
    },
    {
     "name": "stdout",
     "output_type": "stream",
     "text": [
      "== Status ==\n",
      "Current time: 2023-09-21 02:10:16 (running for 00:27:07.98)\n",
      "Memory usage on this node: 15.6/31.2 GiB\n",
      "Using FIFO scheduling algorithm.\n",
      "Resources requested: 3.0/24 CPUs, 1.0/0 GPUs, 0.0/15.61 GiB heap, 0.0/7.8 GiB objects (0.0/1.0 accelerator_type:G)\n",
      "Result logdir: /home/allenwu/Desktop/work/MARLlib-1.0.3/exp_results/happo_gru_CityLearn_5e-07_0.0005_APPEND-DATA_seed-2\n",
      "Number of trials: 1/1 (1 RUNNING)\n",
      "\n",
      "\n"
     ]
    },
    {
     "name": "stderr",
     "output_type": "stream",
     "text": [
      "/home/allenwu/anaconda3/envs/marllib/lib/python3.8/site-packages/ray/rllib/utils/metrics/learner_info.py:64: RuntimeWarning: Mean of empty slice\n",
      "  lambda *s: None if s[0] is None else np.nanmean(s, axis=0),\n",
      "/home/allenwu/anaconda3/envs/marllib/lib/python3.8/site-packages/ray/rllib/utils/metrics/learner_info.py:64: RuntimeWarning: Mean of empty slice\n",
      "  lambda *s: None if s[0] is None else np.nanmean(s, axis=0),\n",
      "/home/allenwu/anaconda3/envs/marllib/lib/python3.8/site-packages/ray/rllib/utils/metrics/learner_info.py:64: RuntimeWarning: Mean of empty slice\n",
      "  lambda *s: None if s[0] is None else np.nanmean(s, axis=0),\n",
      "/home/allenwu/anaconda3/envs/marllib/lib/python3.8/site-packages/ray/rllib/utils/metrics/learner_info.py:64: RuntimeWarning: Mean of empty slice\n",
      "  lambda *s: None if s[0] is None else np.nanmean(s, axis=0),\n",
      "/home/allenwu/anaconda3/envs/marllib/lib/python3.8/site-packages/ray/rllib/utils/metrics/learner_info.py:64: RuntimeWarning: Mean of empty slice\n",
      "  lambda *s: None if s[0] is None else np.nanmean(s, axis=0),\n",
      "/home/allenwu/anaconda3/envs/marllib/lib/python3.8/site-packages/ray/rllib/utils/metrics/learner_info.py:64: RuntimeWarning: Mean of empty slice\n",
      "  lambda *s: None if s[0] is None else np.nanmean(s, axis=0),\n",
      "/home/allenwu/anaconda3/envs/marllib/lib/python3.8/site-packages/ray/rllib/utils/metrics/learner_info.py:64: RuntimeWarning: Mean of empty slice\n",
      "  lambda *s: None if s[0] is None else np.nanmean(s, axis=0),\n"
     ]
    },
    {
     "name": "stdout",
     "output_type": "stream",
     "text": [
      "== Status ==\n",
      "Current time: 2023-09-21 02:10:21 (running for 00:27:13.07)\n",
      "Memory usage on this node: 15.6/31.2 GiB\n",
      "Using FIFO scheduling algorithm.\n",
      "Resources requested: 3.0/24 CPUs, 1.0/0 GPUs, 0.0/15.61 GiB heap, 0.0/7.8 GiB objects (0.0/1.0 accelerator_type:G)\n",
      "Result logdir: /home/allenwu/Desktop/work/MARLlib-1.0.3/exp_results/happo_gru_CityLearn_5e-07_0.0005_APPEND-DATA_seed-2\n",
      "Number of trials: 1/1 (1 RUNNING)\n",
      "\n",
      "\n"
     ]
    },
    {
     "name": "stderr",
     "output_type": "stream",
     "text": [
      "/home/allenwu/anaconda3/envs/marllib/lib/python3.8/site-packages/ray/rllib/utils/metrics/learner_info.py:64: RuntimeWarning: Mean of empty slice\n",
      "  lambda *s: None if s[0] is None else np.nanmean(s, axis=0),\n",
      "/home/allenwu/anaconda3/envs/marllib/lib/python3.8/site-packages/ray/rllib/utils/metrics/learner_info.py:64: RuntimeWarning: Mean of empty slice\n",
      "  lambda *s: None if s[0] is None else np.nanmean(s, axis=0),\n",
      "/home/allenwu/anaconda3/envs/marllib/lib/python3.8/site-packages/ray/rllib/utils/metrics/learner_info.py:64: RuntimeWarning: Mean of empty slice\n",
      "  lambda *s: None if s[0] is None else np.nanmean(s, axis=0),\n",
      "/home/allenwu/anaconda3/envs/marllib/lib/python3.8/site-packages/ray/rllib/utils/metrics/learner_info.py:64: RuntimeWarning: Mean of empty slice\n",
      "  lambda *s: None if s[0] is None else np.nanmean(s, axis=0),\n",
      "/home/allenwu/anaconda3/envs/marllib/lib/python3.8/site-packages/ray/rllib/utils/metrics/learner_info.py:64: RuntimeWarning: Mean of empty slice\n",
      "  lambda *s: None if s[0] is None else np.nanmean(s, axis=0),\n",
      "/home/allenwu/anaconda3/envs/marllib/lib/python3.8/site-packages/ray/rllib/utils/metrics/learner_info.py:64: RuntimeWarning: Mean of empty slice\n",
      "  lambda *s: None if s[0] is None else np.nanmean(s, axis=0),\n",
      "/home/allenwu/anaconda3/envs/marllib/lib/python3.8/site-packages/ray/rllib/utils/metrics/learner_info.py:64: RuntimeWarning: Mean of empty slice\n",
      "  lambda *s: None if s[0] is None else np.nanmean(s, axis=0),\n",
      "/home/allenwu/anaconda3/envs/marllib/lib/python3.8/site-packages/ray/rllib/utils/metrics/learner_info.py:64: RuntimeWarning: Mean of empty slice\n",
      "  lambda *s: None if s[0] is None else np.nanmean(s, axis=0),\n",
      "/home/allenwu/anaconda3/envs/marllib/lib/python3.8/site-packages/ray/rllib/utils/metrics/learner_info.py:64: RuntimeWarning: Mean of empty slice\n",
      "  lambda *s: None if s[0] is None else np.nanmean(s, axis=0),\n"
     ]
    },
    {
     "name": "stdout",
     "output_type": "stream",
     "text": [
      "== Status ==\n",
      "Current time: 2023-09-21 02:10:27 (running for 00:27:18.25)\n",
      "Memory usage on this node: 15.7/31.2 GiB\n",
      "Using FIFO scheduling algorithm.\n",
      "Resources requested: 3.0/24 CPUs, 1.0/0 GPUs, 0.0/15.61 GiB heap, 0.0/7.8 GiB objects (0.0/1.0 accelerator_type:G)\n",
      "Result logdir: /home/allenwu/Desktop/work/MARLlib-1.0.3/exp_results/happo_gru_CityLearn_5e-07_0.0005_APPEND-DATA_seed-2\n",
      "Number of trials: 1/1 (1 RUNNING)\n",
      "\n",
      "\n"
     ]
    },
    {
     "name": "stderr",
     "output_type": "stream",
     "text": [
      "/home/allenwu/anaconda3/envs/marllib/lib/python3.8/site-packages/ray/rllib/utils/metrics/learner_info.py:64: RuntimeWarning: Mean of empty slice\n",
      "  lambda *s: None if s[0] is None else np.nanmean(s, axis=0),\n",
      "/home/allenwu/anaconda3/envs/marllib/lib/python3.8/site-packages/ray/rllib/utils/metrics/learner_info.py:64: RuntimeWarning: Mean of empty slice\n",
      "  lambda *s: None if s[0] is None else np.nanmean(s, axis=0),\n",
      "/home/allenwu/anaconda3/envs/marllib/lib/python3.8/site-packages/ray/rllib/utils/metrics/learner_info.py:64: RuntimeWarning: Mean of empty slice\n",
      "  lambda *s: None if s[0] is None else np.nanmean(s, axis=0),\n",
      "/home/allenwu/anaconda3/envs/marllib/lib/python3.8/site-packages/ray/rllib/utils/metrics/learner_info.py:64: RuntimeWarning: Mean of empty slice\n",
      "  lambda *s: None if s[0] is None else np.nanmean(s, axis=0),\n",
      "/home/allenwu/anaconda3/envs/marllib/lib/python3.8/site-packages/ray/rllib/utils/metrics/learner_info.py:64: RuntimeWarning: Mean of empty slice\n",
      "  lambda *s: None if s[0] is None else np.nanmean(s, axis=0),\n",
      "/home/allenwu/anaconda3/envs/marllib/lib/python3.8/site-packages/ray/rllib/utils/metrics/learner_info.py:64: RuntimeWarning: Mean of empty slice\n",
      "  lambda *s: None if s[0] is None else np.nanmean(s, axis=0),\n",
      "/home/allenwu/anaconda3/envs/marllib/lib/python3.8/site-packages/ray/rllib/utils/metrics/learner_info.py:64: RuntimeWarning: Mean of empty slice\n",
      "  lambda *s: None if s[0] is None else np.nanmean(s, axis=0),\n",
      "/home/allenwu/anaconda3/envs/marllib/lib/python3.8/site-packages/ray/rllib/utils/metrics/learner_info.py:64: RuntimeWarning: Mean of empty slice\n",
      "  lambda *s: None if s[0] is None else np.nanmean(s, axis=0),\n",
      "/home/allenwu/anaconda3/envs/marllib/lib/python3.8/site-packages/ray/rllib/utils/metrics/learner_info.py:64: RuntimeWarning: Mean of empty slice\n",
      "  lambda *s: None if s[0] is None else np.nanmean(s, axis=0),\n",
      "/home/allenwu/anaconda3/envs/marllib/lib/python3.8/site-packages/ray/rllib/utils/metrics/learner_info.py:64: RuntimeWarning: Mean of empty slice\n",
      "  lambda *s: None if s[0] is None else np.nanmean(s, axis=0),\n"
     ]
    },
    {
     "name": "stdout",
     "output_type": "stream",
     "text": [
      "== Status ==\n",
      "Current time: 2023-09-21 02:10:32 (running for 00:27:23.37)\n",
      "Memory usage on this node: 15.7/31.2 GiB\n",
      "Using FIFO scheduling algorithm.\n",
      "Resources requested: 3.0/24 CPUs, 1.0/0 GPUs, 0.0/15.61 GiB heap, 0.0/7.8 GiB objects (0.0/1.0 accelerator_type:G)\n",
      "Result logdir: /home/allenwu/Desktop/work/MARLlib-1.0.3/exp_results/happo_gru_CityLearn_5e-07_0.0005_APPEND-DATA_seed-2\n",
      "Number of trials: 1/1 (1 RUNNING)\n",
      "\n",
      "\n"
     ]
    },
    {
     "name": "stderr",
     "output_type": "stream",
     "text": [
      "/home/allenwu/anaconda3/envs/marllib/lib/python3.8/site-packages/ray/rllib/utils/metrics/learner_info.py:64: RuntimeWarning: Mean of empty slice\n",
      "  lambda *s: None if s[0] is None else np.nanmean(s, axis=0),\n",
      "/home/allenwu/anaconda3/envs/marllib/lib/python3.8/site-packages/ray/rllib/utils/metrics/learner_info.py:64: RuntimeWarning: Mean of empty slice\n",
      "  lambda *s: None if s[0] is None else np.nanmean(s, axis=0),\n",
      "/home/allenwu/anaconda3/envs/marllib/lib/python3.8/site-packages/ray/rllib/utils/metrics/learner_info.py:64: RuntimeWarning: Mean of empty slice\n",
      "  lambda *s: None if s[0] is None else np.nanmean(s, axis=0),\n",
      "/home/allenwu/anaconda3/envs/marllib/lib/python3.8/site-packages/ray/rllib/utils/metrics/learner_info.py:64: RuntimeWarning: Mean of empty slice\n",
      "  lambda *s: None if s[0] is None else np.nanmean(s, axis=0),\n",
      "/home/allenwu/anaconda3/envs/marllib/lib/python3.8/site-packages/ray/rllib/utils/metrics/learner_info.py:64: RuntimeWarning: Mean of empty slice\n",
      "  lambda *s: None if s[0] is None else np.nanmean(s, axis=0),\n",
      "/home/allenwu/anaconda3/envs/marllib/lib/python3.8/site-packages/ray/rllib/utils/metrics/learner_info.py:64: RuntimeWarning: Mean of empty slice\n",
      "  lambda *s: None if s[0] is None else np.nanmean(s, axis=0),\n",
      "/home/allenwu/anaconda3/envs/marllib/lib/python3.8/site-packages/ray/rllib/utils/metrics/learner_info.py:64: RuntimeWarning: Mean of empty slice\n",
      "  lambda *s: None if s[0] is None else np.nanmean(s, axis=0),\n"
     ]
    },
    {
     "name": "stdout",
     "output_type": "stream",
     "text": [
      "== Status ==\n",
      "Current time: 2023-09-21 02:10:37 (running for 00:27:28.50)\n",
      "Memory usage on this node: 15.7/31.2 GiB\n",
      "Using FIFO scheduling algorithm.\n",
      "Resources requested: 3.0/24 CPUs, 1.0/0 GPUs, 0.0/15.61 GiB heap, 0.0/7.8 GiB objects (0.0/1.0 accelerator_type:G)\n",
      "Result logdir: /home/allenwu/Desktop/work/MARLlib-1.0.3/exp_results/happo_gru_CityLearn_5e-07_0.0005_APPEND-DATA_seed-2\n",
      "Number of trials: 1/1 (1 RUNNING)\n",
      "\n",
      "\n"
     ]
    },
    {
     "name": "stderr",
     "output_type": "stream",
     "text": [
      "/home/allenwu/anaconda3/envs/marllib/lib/python3.8/site-packages/ray/rllib/utils/metrics/learner_info.py:64: RuntimeWarning: Mean of empty slice\n",
      "  lambda *s: None if s[0] is None else np.nanmean(s, axis=0),\n",
      "/home/allenwu/anaconda3/envs/marllib/lib/python3.8/site-packages/ray/rllib/utils/metrics/learner_info.py:64: RuntimeWarning: Mean of empty slice\n",
      "  lambda *s: None if s[0] is None else np.nanmean(s, axis=0),\n",
      "/home/allenwu/anaconda3/envs/marllib/lib/python3.8/site-packages/ray/rllib/utils/metrics/learner_info.py:64: RuntimeWarning: Mean of empty slice\n",
      "  lambda *s: None if s[0] is None else np.nanmean(s, axis=0),\n",
      "/home/allenwu/anaconda3/envs/marllib/lib/python3.8/site-packages/ray/rllib/utils/metrics/learner_info.py:64: RuntimeWarning: Mean of empty slice\n",
      "  lambda *s: None if s[0] is None else np.nanmean(s, axis=0),\n",
      "/home/allenwu/anaconda3/envs/marllib/lib/python3.8/site-packages/ray/rllib/utils/metrics/learner_info.py:64: RuntimeWarning: Mean of empty slice\n",
      "  lambda *s: None if s[0] is None else np.nanmean(s, axis=0),\n",
      "/home/allenwu/anaconda3/envs/marllib/lib/python3.8/site-packages/ray/rllib/utils/metrics/learner_info.py:64: RuntimeWarning: Mean of empty slice\n",
      "  lambda *s: None if s[0] is None else np.nanmean(s, axis=0),\n",
      "/home/allenwu/anaconda3/envs/marllib/lib/python3.8/site-packages/ray/rllib/utils/metrics/learner_info.py:64: RuntimeWarning: Mean of empty slice\n",
      "  lambda *s: None if s[0] is None else np.nanmean(s, axis=0),\n",
      "/home/allenwu/anaconda3/envs/marllib/lib/python3.8/site-packages/ray/rllib/utils/metrics/learner_info.py:64: RuntimeWarning: Mean of empty slice\n",
      "  lambda *s: None if s[0] is None else np.nanmean(s, axis=0),\n",
      "/home/allenwu/anaconda3/envs/marllib/lib/python3.8/site-packages/ray/rllib/utils/metrics/learner_info.py:64: RuntimeWarning: Mean of empty slice\n",
      "  lambda *s: None if s[0] is None else np.nanmean(s, axis=0),\n",
      "/home/allenwu/anaconda3/envs/marllib/lib/python3.8/site-packages/ray/rllib/utils/metrics/learner_info.py:64: RuntimeWarning: Mean of empty slice\n",
      "  lambda *s: None if s[0] is None else np.nanmean(s, axis=0),\n",
      "/home/allenwu/anaconda3/envs/marllib/lib/python3.8/site-packages/ray/rllib/utils/metrics/learner_info.py:64: RuntimeWarning: Mean of empty slice\n",
      "  lambda *s: None if s[0] is None else np.nanmean(s, axis=0),\n"
     ]
    },
    {
     "name": "stdout",
     "output_type": "stream",
     "text": [
      "== Status ==\n",
      "Current time: 2023-09-21 02:10:42 (running for 00:27:33.63)\n",
      "Memory usage on this node: 15.7/31.2 GiB\n",
      "Using FIFO scheduling algorithm.\n",
      "Resources requested: 3.0/24 CPUs, 1.0/0 GPUs, 0.0/15.61 GiB heap, 0.0/7.8 GiB objects (0.0/1.0 accelerator_type:G)\n",
      "Result logdir: /home/allenwu/Desktop/work/MARLlib-1.0.3/exp_results/happo_gru_CityLearn_5e-07_0.0005_APPEND-DATA_seed-2\n",
      "Number of trials: 1/1 (1 RUNNING)\n",
      "\n",
      "\n"
     ]
    },
    {
     "name": "stderr",
     "output_type": "stream",
     "text": [
      "/home/allenwu/anaconda3/envs/marllib/lib/python3.8/site-packages/ray/rllib/utils/metrics/learner_info.py:64: RuntimeWarning: Mean of empty slice\n",
      "  lambda *s: None if s[0] is None else np.nanmean(s, axis=0),\n",
      "/home/allenwu/anaconda3/envs/marllib/lib/python3.8/site-packages/ray/rllib/utils/metrics/learner_info.py:64: RuntimeWarning: Mean of empty slice\n",
      "  lambda *s: None if s[0] is None else np.nanmean(s, axis=0),\n",
      "/home/allenwu/anaconda3/envs/marllib/lib/python3.8/site-packages/ray/rllib/utils/metrics/learner_info.py:64: RuntimeWarning: Mean of empty slice\n",
      "  lambda *s: None if s[0] is None else np.nanmean(s, axis=0),\n",
      "/home/allenwu/anaconda3/envs/marllib/lib/python3.8/site-packages/ray/rllib/utils/metrics/learner_info.py:64: RuntimeWarning: Mean of empty slice\n",
      "  lambda *s: None if s[0] is None else np.nanmean(s, axis=0),\n",
      "/home/allenwu/anaconda3/envs/marllib/lib/python3.8/site-packages/ray/rllib/utils/metrics/learner_info.py:64: RuntimeWarning: Mean of empty slice\n",
      "  lambda *s: None if s[0] is None else np.nanmean(s, axis=0),\n",
      "/home/allenwu/anaconda3/envs/marllib/lib/python3.8/site-packages/ray/rllib/utils/metrics/learner_info.py:64: RuntimeWarning: Mean of empty slice\n",
      "  lambda *s: None if s[0] is None else np.nanmean(s, axis=0),\n",
      "/home/allenwu/anaconda3/envs/marllib/lib/python3.8/site-packages/ray/rllib/utils/metrics/learner_info.py:64: RuntimeWarning: Mean of empty slice\n",
      "  lambda *s: None if s[0] is None else np.nanmean(s, axis=0),\n",
      "/home/allenwu/anaconda3/envs/marllib/lib/python3.8/site-packages/ray/rllib/utils/metrics/learner_info.py:64: RuntimeWarning: Mean of empty slice\n",
      "  lambda *s: None if s[0] is None else np.nanmean(s, axis=0),\n",
      "/home/allenwu/anaconda3/envs/marllib/lib/python3.8/site-packages/ray/rllib/utils/metrics/learner_info.py:64: RuntimeWarning: Mean of empty slice\n",
      "  lambda *s: None if s[0] is None else np.nanmean(s, axis=0),\n"
     ]
    },
    {
     "name": "stdout",
     "output_type": "stream",
     "text": [
      "== Status ==\n",
      "Current time: 2023-09-21 02:10:47 (running for 00:27:38.78)\n",
      "Memory usage on this node: 15.8/31.2 GiB\n",
      "Using FIFO scheduling algorithm.\n",
      "Resources requested: 3.0/24 CPUs, 1.0/0 GPUs, 0.0/15.61 GiB heap, 0.0/7.8 GiB objects (0.0/1.0 accelerator_type:G)\n",
      "Result logdir: /home/allenwu/Desktop/work/MARLlib-1.0.3/exp_results/happo_gru_CityLearn_5e-07_0.0005_APPEND-DATA_seed-2\n",
      "Number of trials: 1/1 (1 RUNNING)\n",
      "\n",
      "\n"
     ]
    },
    {
     "name": "stderr",
     "output_type": "stream",
     "text": [
      "/home/allenwu/anaconda3/envs/marllib/lib/python3.8/site-packages/ray/rllib/utils/metrics/learner_info.py:64: RuntimeWarning: Mean of empty slice\n",
      "  lambda *s: None if s[0] is None else np.nanmean(s, axis=0),\n",
      "/home/allenwu/anaconda3/envs/marllib/lib/python3.8/site-packages/ray/rllib/utils/metrics/learner_info.py:64: RuntimeWarning: Mean of empty slice\n",
      "  lambda *s: None if s[0] is None else np.nanmean(s, axis=0),\n",
      "/home/allenwu/anaconda3/envs/marllib/lib/python3.8/site-packages/ray/rllib/utils/metrics/learner_info.py:64: RuntimeWarning: Mean of empty slice\n",
      "  lambda *s: None if s[0] is None else np.nanmean(s, axis=0),\n",
      "/home/allenwu/anaconda3/envs/marllib/lib/python3.8/site-packages/ray/rllib/utils/metrics/learner_info.py:64: RuntimeWarning: Mean of empty slice\n",
      "  lambda *s: None if s[0] is None else np.nanmean(s, axis=0),\n",
      "/home/allenwu/anaconda3/envs/marllib/lib/python3.8/site-packages/ray/rllib/utils/metrics/learner_info.py:64: RuntimeWarning: Mean of empty slice\n",
      "  lambda *s: None if s[0] is None else np.nanmean(s, axis=0),\n",
      "/home/allenwu/anaconda3/envs/marllib/lib/python3.8/site-packages/ray/rllib/utils/metrics/learner_info.py:64: RuntimeWarning: Mean of empty slice\n",
      "  lambda *s: None if s[0] is None else np.nanmean(s, axis=0),\n",
      "/home/allenwu/anaconda3/envs/marllib/lib/python3.8/site-packages/ray/rllib/utils/metrics/learner_info.py:64: RuntimeWarning: Mean of empty slice\n",
      "  lambda *s: None if s[0] is None else np.nanmean(s, axis=0),\n"
     ]
    },
    {
     "name": "stdout",
     "output_type": "stream",
     "text": [
      "== Status ==\n",
      "Current time: 2023-09-21 02:10:52 (running for 00:27:43.88)\n",
      "Memory usage on this node: 15.8/31.2 GiB\n",
      "Using FIFO scheduling algorithm.\n",
      "Resources requested: 3.0/24 CPUs, 1.0/0 GPUs, 0.0/15.61 GiB heap, 0.0/7.8 GiB objects (0.0/1.0 accelerator_type:G)\n",
      "Result logdir: /home/allenwu/Desktop/work/MARLlib-1.0.3/exp_results/happo_gru_CityLearn_5e-07_0.0005_APPEND-DATA_seed-2\n",
      "Number of trials: 1/1 (1 RUNNING)\n",
      "\n",
      "\n"
     ]
    },
    {
     "name": "stderr",
     "output_type": "stream",
     "text": [
      "/home/allenwu/anaconda3/envs/marllib/lib/python3.8/site-packages/ray/rllib/utils/metrics/learner_info.py:64: RuntimeWarning: Mean of empty slice\n",
      "  lambda *s: None if s[0] is None else np.nanmean(s, axis=0),\n",
      "/home/allenwu/anaconda3/envs/marllib/lib/python3.8/site-packages/ray/rllib/utils/metrics/learner_info.py:64: RuntimeWarning: Mean of empty slice\n",
      "  lambda *s: None if s[0] is None else np.nanmean(s, axis=0),\n",
      "/home/allenwu/anaconda3/envs/marllib/lib/python3.8/site-packages/ray/rllib/utils/metrics/learner_info.py:64: RuntimeWarning: Mean of empty slice\n",
      "  lambda *s: None if s[0] is None else np.nanmean(s, axis=0),\n",
      "/home/allenwu/anaconda3/envs/marllib/lib/python3.8/site-packages/ray/rllib/utils/metrics/learner_info.py:64: RuntimeWarning: Mean of empty slice\n",
      "  lambda *s: None if s[0] is None else np.nanmean(s, axis=0),\n",
      "/home/allenwu/anaconda3/envs/marllib/lib/python3.8/site-packages/ray/rllib/utils/metrics/learner_info.py:64: RuntimeWarning: Mean of empty slice\n",
      "  lambda *s: None if s[0] is None else np.nanmean(s, axis=0),\n",
      "/home/allenwu/anaconda3/envs/marllib/lib/python3.8/site-packages/ray/rllib/utils/metrics/learner_info.py:64: RuntimeWarning: Mean of empty slice\n",
      "  lambda *s: None if s[0] is None else np.nanmean(s, axis=0),\n",
      "/home/allenwu/anaconda3/envs/marllib/lib/python3.8/site-packages/ray/rllib/utils/metrics/learner_info.py:64: RuntimeWarning: Mean of empty slice\n",
      "  lambda *s: None if s[0] is None else np.nanmean(s, axis=0),\n",
      "/home/allenwu/anaconda3/envs/marllib/lib/python3.8/site-packages/ray/rllib/utils/metrics/learner_info.py:64: RuntimeWarning: Mean of empty slice\n",
      "  lambda *s: None if s[0] is None else np.nanmean(s, axis=0),\n"
     ]
    },
    {
     "name": "stdout",
     "output_type": "stream",
     "text": [
      "== Status ==\n",
      "Current time: 2023-09-21 02:10:57 (running for 00:27:48.98)\n",
      "Memory usage on this node: 15.9/31.2 GiB\n",
      "Using FIFO scheduling algorithm.\n",
      "Resources requested: 3.0/24 CPUs, 1.0/0 GPUs, 0.0/15.61 GiB heap, 0.0/7.8 GiB objects (0.0/1.0 accelerator_type:G)\n",
      "Result logdir: /home/allenwu/Desktop/work/MARLlib-1.0.3/exp_results/happo_gru_CityLearn_5e-07_0.0005_APPEND-DATA_seed-2\n",
      "Number of trials: 1/1 (1 RUNNING)\n",
      "\n",
      "\n"
     ]
    },
    {
     "name": "stderr",
     "output_type": "stream",
     "text": [
      "/home/allenwu/anaconda3/envs/marllib/lib/python3.8/site-packages/ray/rllib/utils/metrics/learner_info.py:64: RuntimeWarning: Mean of empty slice\n",
      "  lambda *s: None if s[0] is None else np.nanmean(s, axis=0),\n",
      "/home/allenwu/anaconda3/envs/marllib/lib/python3.8/site-packages/ray/rllib/utils/metrics/learner_info.py:64: RuntimeWarning: Mean of empty slice\n",
      "  lambda *s: None if s[0] is None else np.nanmean(s, axis=0),\n",
      "/home/allenwu/anaconda3/envs/marllib/lib/python3.8/site-packages/ray/rllib/utils/metrics/learner_info.py:64: RuntimeWarning: Mean of empty slice\n",
      "  lambda *s: None if s[0] is None else np.nanmean(s, axis=0),\n",
      "/home/allenwu/anaconda3/envs/marllib/lib/python3.8/site-packages/ray/rllib/utils/metrics/learner_info.py:64: RuntimeWarning: Mean of empty slice\n",
      "  lambda *s: None if s[0] is None else np.nanmean(s, axis=0),\n",
      "/home/allenwu/anaconda3/envs/marllib/lib/python3.8/site-packages/ray/rllib/utils/metrics/learner_info.py:64: RuntimeWarning: Mean of empty slice\n",
      "  lambda *s: None if s[0] is None else np.nanmean(s, axis=0),\n",
      "/home/allenwu/anaconda3/envs/marllib/lib/python3.8/site-packages/ray/rllib/utils/metrics/learner_info.py:64: RuntimeWarning: Mean of empty slice\n",
      "  lambda *s: None if s[0] is None else np.nanmean(s, axis=0),\n",
      "/home/allenwu/anaconda3/envs/marllib/lib/python3.8/site-packages/ray/rllib/utils/metrics/learner_info.py:64: RuntimeWarning: Mean of empty slice\n",
      "  lambda *s: None if s[0] is None else np.nanmean(s, axis=0),\n",
      "/home/allenwu/anaconda3/envs/marllib/lib/python3.8/site-packages/ray/rllib/utils/metrics/learner_info.py:64: RuntimeWarning: Mean of empty slice\n",
      "  lambda *s: None if s[0] is None else np.nanmean(s, axis=0),\n"
     ]
    },
    {
     "name": "stdout",
     "output_type": "stream",
     "text": [
      "== Status ==\n",
      "Current time: 2023-09-21 02:11:02 (running for 00:27:54.07)\n",
      "Memory usage on this node: 15.9/31.2 GiB\n",
      "Using FIFO scheduling algorithm.\n",
      "Resources requested: 3.0/24 CPUs, 1.0/0 GPUs, 0.0/15.61 GiB heap, 0.0/7.8 GiB objects (0.0/1.0 accelerator_type:G)\n",
      "Result logdir: /home/allenwu/Desktop/work/MARLlib-1.0.3/exp_results/happo_gru_CityLearn_5e-07_0.0005_APPEND-DATA_seed-2\n",
      "Number of trials: 1/1 (1 RUNNING)\n",
      "\n",
      "\n"
     ]
    },
    {
     "name": "stderr",
     "output_type": "stream",
     "text": [
      "/home/allenwu/anaconda3/envs/marllib/lib/python3.8/site-packages/ray/rllib/utils/metrics/learner_info.py:64: RuntimeWarning: Mean of empty slice\n",
      "  lambda *s: None if s[0] is None else np.nanmean(s, axis=0),\n",
      "/home/allenwu/anaconda3/envs/marllib/lib/python3.8/site-packages/ray/rllib/utils/metrics/learner_info.py:64: RuntimeWarning: Mean of empty slice\n",
      "  lambda *s: None if s[0] is None else np.nanmean(s, axis=0),\n",
      "/home/allenwu/anaconda3/envs/marllib/lib/python3.8/site-packages/ray/rllib/utils/metrics/learner_info.py:64: RuntimeWarning: Mean of empty slice\n",
      "  lambda *s: None if s[0] is None else np.nanmean(s, axis=0),\n",
      "/home/allenwu/anaconda3/envs/marllib/lib/python3.8/site-packages/ray/rllib/utils/metrics/learner_info.py:64: RuntimeWarning: Mean of empty slice\n",
      "  lambda *s: None if s[0] is None else np.nanmean(s, axis=0),\n",
      "/home/allenwu/anaconda3/envs/marllib/lib/python3.8/site-packages/ray/rllib/utils/metrics/learner_info.py:64: RuntimeWarning: Mean of empty slice\n",
      "  lambda *s: None if s[0] is None else np.nanmean(s, axis=0),\n",
      "/home/allenwu/anaconda3/envs/marllib/lib/python3.8/site-packages/ray/rllib/utils/metrics/learner_info.py:64: RuntimeWarning: Mean of empty slice\n",
      "  lambda *s: None if s[0] is None else np.nanmean(s, axis=0),\n",
      "/home/allenwu/anaconda3/envs/marllib/lib/python3.8/site-packages/ray/rllib/utils/metrics/learner_info.py:64: RuntimeWarning: Mean of empty slice\n",
      "  lambda *s: None if s[0] is None else np.nanmean(s, axis=0),\n",
      "/home/allenwu/anaconda3/envs/marllib/lib/python3.8/site-packages/ray/rllib/utils/metrics/learner_info.py:64: RuntimeWarning: Mean of empty slice\n",
      "  lambda *s: None if s[0] is None else np.nanmean(s, axis=0),\n",
      "/home/allenwu/anaconda3/envs/marllib/lib/python3.8/site-packages/ray/rllib/utils/metrics/learner_info.py:64: RuntimeWarning: Mean of empty slice\n",
      "  lambda *s: None if s[0] is None else np.nanmean(s, axis=0),\n"
     ]
    },
    {
     "name": "stdout",
     "output_type": "stream",
     "text": [
      "== Status ==\n",
      "Current time: 2023-09-21 02:11:07 (running for 00:27:59.19)\n",
      "Memory usage on this node: 15.9/31.2 GiB\n",
      "Using FIFO scheduling algorithm.\n",
      "Resources requested: 3.0/24 CPUs, 1.0/0 GPUs, 0.0/15.61 GiB heap, 0.0/7.8 GiB objects (0.0/1.0 accelerator_type:G)\n",
      "Result logdir: /home/allenwu/Desktop/work/MARLlib-1.0.3/exp_results/happo_gru_CityLearn_5e-07_0.0005_APPEND-DATA_seed-2\n",
      "Number of trials: 1/1 (1 RUNNING)\n",
      "\n",
      "\n"
     ]
    },
    {
     "name": "stderr",
     "output_type": "stream",
     "text": [
      "/home/allenwu/anaconda3/envs/marllib/lib/python3.8/site-packages/ray/rllib/utils/metrics/learner_info.py:64: RuntimeWarning: Mean of empty slice\n",
      "  lambda *s: None if s[0] is None else np.nanmean(s, axis=0),\n",
      "/home/allenwu/anaconda3/envs/marllib/lib/python3.8/site-packages/ray/rllib/utils/metrics/learner_info.py:64: RuntimeWarning: Mean of empty slice\n",
      "  lambda *s: None if s[0] is None else np.nanmean(s, axis=0),\n",
      "/home/allenwu/anaconda3/envs/marllib/lib/python3.8/site-packages/ray/rllib/utils/metrics/learner_info.py:64: RuntimeWarning: Mean of empty slice\n",
      "  lambda *s: None if s[0] is None else np.nanmean(s, axis=0),\n",
      "/home/allenwu/anaconda3/envs/marllib/lib/python3.8/site-packages/ray/rllib/utils/metrics/learner_info.py:64: RuntimeWarning: Mean of empty slice\n",
      "  lambda *s: None if s[0] is None else np.nanmean(s, axis=0),\n",
      "/home/allenwu/anaconda3/envs/marllib/lib/python3.8/site-packages/ray/rllib/utils/metrics/learner_info.py:64: RuntimeWarning: Mean of empty slice\n",
      "  lambda *s: None if s[0] is None else np.nanmean(s, axis=0),\n",
      "/home/allenwu/anaconda3/envs/marllib/lib/python3.8/site-packages/ray/rllib/utils/metrics/learner_info.py:64: RuntimeWarning: Mean of empty slice\n",
      "  lambda *s: None if s[0] is None else np.nanmean(s, axis=0),\n",
      "/home/allenwu/anaconda3/envs/marllib/lib/python3.8/site-packages/ray/rllib/utils/metrics/learner_info.py:64: RuntimeWarning: Mean of empty slice\n",
      "  lambda *s: None if s[0] is None else np.nanmean(s, axis=0),\n",
      "/home/allenwu/anaconda3/envs/marllib/lib/python3.8/site-packages/ray/rllib/utils/metrics/learner_info.py:64: RuntimeWarning: Mean of empty slice\n",
      "  lambda *s: None if s[0] is None else np.nanmean(s, axis=0),\n",
      "/home/allenwu/anaconda3/envs/marllib/lib/python3.8/site-packages/ray/rllib/utils/metrics/learner_info.py:64: RuntimeWarning: Mean of empty slice\n",
      "  lambda *s: None if s[0] is None else np.nanmean(s, axis=0),\n"
     ]
    },
    {
     "name": "stdout",
     "output_type": "stream",
     "text": [
      "== Status ==\n",
      "Current time: 2023-09-21 02:11:13 (running for 00:28:04.27)\n",
      "Memory usage on this node: 15.9/31.2 GiB\n",
      "Using FIFO scheduling algorithm.\n",
      "Resources requested: 3.0/24 CPUs, 1.0/0 GPUs, 0.0/15.61 GiB heap, 0.0/7.8 GiB objects (0.0/1.0 accelerator_type:G)\n",
      "Result logdir: /home/allenwu/Desktop/work/MARLlib-1.0.3/exp_results/happo_gru_CityLearn_5e-07_0.0005_APPEND-DATA_seed-2\n",
      "Number of trials: 1/1 (1 RUNNING)\n",
      "\n",
      "\n"
     ]
    },
    {
     "name": "stderr",
     "output_type": "stream",
     "text": [
      "/home/allenwu/anaconda3/envs/marllib/lib/python3.8/site-packages/ray/rllib/utils/metrics/learner_info.py:64: RuntimeWarning: Mean of empty slice\n",
      "  lambda *s: None if s[0] is None else np.nanmean(s, axis=0),\n",
      "/home/allenwu/anaconda3/envs/marllib/lib/python3.8/site-packages/ray/rllib/utils/metrics/learner_info.py:64: RuntimeWarning: Mean of empty slice\n",
      "  lambda *s: None if s[0] is None else np.nanmean(s, axis=0),\n",
      "/home/allenwu/anaconda3/envs/marllib/lib/python3.8/site-packages/ray/rllib/utils/metrics/learner_info.py:64: RuntimeWarning: Mean of empty slice\n",
      "  lambda *s: None if s[0] is None else np.nanmean(s, axis=0),\n",
      "/home/allenwu/anaconda3/envs/marllib/lib/python3.8/site-packages/ray/rllib/utils/metrics/learner_info.py:64: RuntimeWarning: Mean of empty slice\n",
      "  lambda *s: None if s[0] is None else np.nanmean(s, axis=0),\n",
      "2023-09-21 02:11:15,566\tWARNING ray_trial_executor.py:768 -- Over the last 60 seconds, the Tune event loop has been backlogged processing new results. Consider increasing your period of result reporting to improve performance.\n",
      "/home/allenwu/anaconda3/envs/marllib/lib/python3.8/site-packages/ray/rllib/utils/metrics/learner_info.py:64: RuntimeWarning: Mean of empty slice\n",
      "  lambda *s: None if s[0] is None else np.nanmean(s, axis=0),\n",
      "/home/allenwu/anaconda3/envs/marllib/lib/python3.8/site-packages/ray/rllib/utils/metrics/learner_info.py:64: RuntimeWarning: Mean of empty slice\n",
      "  lambda *s: None if s[0] is None else np.nanmean(s, axis=0),\n",
      "/home/allenwu/anaconda3/envs/marllib/lib/python3.8/site-packages/ray/rllib/utils/metrics/learner_info.py:64: RuntimeWarning: Mean of empty slice\n",
      "  lambda *s: None if s[0] is None else np.nanmean(s, axis=0),\n"
     ]
    },
    {
     "name": "stdout",
     "output_type": "stream",
     "text": [
      "== Status ==\n",
      "Current time: 2023-09-21 02:11:18 (running for 00:28:09.32)\n",
      "Memory usage on this node: 16.0/31.2 GiB\n",
      "Using FIFO scheduling algorithm.\n",
      "Resources requested: 3.0/24 CPUs, 1.0/0 GPUs, 0.0/15.61 GiB heap, 0.0/7.8 GiB objects (0.0/1.0 accelerator_type:G)\n",
      "Result logdir: /home/allenwu/Desktop/work/MARLlib-1.0.3/exp_results/happo_gru_CityLearn_5e-07_0.0005_APPEND-DATA_seed-2\n",
      "Number of trials: 1/1 (1 RUNNING)\n",
      "\n",
      "\n"
     ]
    },
    {
     "name": "stderr",
     "output_type": "stream",
     "text": [
      "/home/allenwu/anaconda3/envs/marllib/lib/python3.8/site-packages/ray/rllib/utils/metrics/learner_info.py:64: RuntimeWarning: Mean of empty slice\n",
      "  lambda *s: None if s[0] is None else np.nanmean(s, axis=0),\n",
      "/home/allenwu/anaconda3/envs/marllib/lib/python3.8/site-packages/ray/rllib/utils/metrics/learner_info.py:64: RuntimeWarning: Mean of empty slice\n",
      "  lambda *s: None if s[0] is None else np.nanmean(s, axis=0),\n",
      "/home/allenwu/anaconda3/envs/marllib/lib/python3.8/site-packages/ray/rllib/utils/metrics/learner_info.py:64: RuntimeWarning: Mean of empty slice\n",
      "  lambda *s: None if s[0] is None else np.nanmean(s, axis=0),\n",
      "/home/allenwu/anaconda3/envs/marllib/lib/python3.8/site-packages/ray/rllib/utils/metrics/learner_info.py:64: RuntimeWarning: Mean of empty slice\n",
      "  lambda *s: None if s[0] is None else np.nanmean(s, axis=0),\n",
      "/home/allenwu/anaconda3/envs/marllib/lib/python3.8/site-packages/ray/rllib/utils/metrics/learner_info.py:64: RuntimeWarning: Mean of empty slice\n",
      "  lambda *s: None if s[0] is None else np.nanmean(s, axis=0),\n",
      "/home/allenwu/anaconda3/envs/marllib/lib/python3.8/site-packages/ray/rllib/utils/metrics/learner_info.py:64: RuntimeWarning: Mean of empty slice\n",
      "  lambda *s: None if s[0] is None else np.nanmean(s, axis=0),\n",
      "/home/allenwu/anaconda3/envs/marllib/lib/python3.8/site-packages/ray/rllib/utils/metrics/learner_info.py:64: RuntimeWarning: Mean of empty slice\n",
      "  lambda *s: None if s[0] is None else np.nanmean(s, axis=0),\n",
      "/home/allenwu/anaconda3/envs/marllib/lib/python3.8/site-packages/ray/rllib/utils/metrics/learner_info.py:64: RuntimeWarning: Mean of empty slice\n",
      "  lambda *s: None if s[0] is None else np.nanmean(s, axis=0),\n",
      "/home/allenwu/anaconda3/envs/marllib/lib/python3.8/site-packages/ray/rllib/utils/metrics/learner_info.py:64: RuntimeWarning: Mean of empty slice\n",
      "  lambda *s: None if s[0] is None else np.nanmean(s, axis=0),\n",
      "/home/allenwu/anaconda3/envs/marllib/lib/python3.8/site-packages/ray/rllib/utils/metrics/learner_info.py:64: RuntimeWarning: Mean of empty slice\n",
      "  lambda *s: None if s[0] is None else np.nanmean(s, axis=0),\n"
     ]
    },
    {
     "name": "stdout",
     "output_type": "stream",
     "text": [
      "== Status ==\n",
      "Current time: 2023-09-21 02:11:23 (running for 00:28:14.56)\n",
      "Memory usage on this node: 16.0/31.2 GiB\n",
      "Using FIFO scheduling algorithm.\n",
      "Resources requested: 3.0/24 CPUs, 1.0/0 GPUs, 0.0/15.61 GiB heap, 0.0/7.8 GiB objects (0.0/1.0 accelerator_type:G)\n",
      "Result logdir: /home/allenwu/Desktop/work/MARLlib-1.0.3/exp_results/happo_gru_CityLearn_5e-07_0.0005_APPEND-DATA_seed-2\n",
      "Number of trials: 1/1 (1 RUNNING)\n",
      "\n",
      "\n"
     ]
    },
    {
     "name": "stderr",
     "output_type": "stream",
     "text": [
      "/home/allenwu/anaconda3/envs/marllib/lib/python3.8/site-packages/ray/rllib/utils/metrics/learner_info.py:64: RuntimeWarning: Mean of empty slice\n",
      "  lambda *s: None if s[0] is None else np.nanmean(s, axis=0),\n",
      "/home/allenwu/anaconda3/envs/marllib/lib/python3.8/site-packages/ray/rllib/utils/metrics/learner_info.py:64: RuntimeWarning: Mean of empty slice\n",
      "  lambda *s: None if s[0] is None else np.nanmean(s, axis=0),\n",
      "/home/allenwu/anaconda3/envs/marllib/lib/python3.8/site-packages/ray/rllib/utils/metrics/learner_info.py:64: RuntimeWarning: Mean of empty slice\n",
      "  lambda *s: None if s[0] is None else np.nanmean(s, axis=0),\n",
      "/home/allenwu/anaconda3/envs/marllib/lib/python3.8/site-packages/ray/rllib/utils/metrics/learner_info.py:64: RuntimeWarning: Mean of empty slice\n",
      "  lambda *s: None if s[0] is None else np.nanmean(s, axis=0),\n",
      "/home/allenwu/anaconda3/envs/marllib/lib/python3.8/site-packages/ray/rllib/utils/metrics/learner_info.py:64: RuntimeWarning: Mean of empty slice\n",
      "  lambda *s: None if s[0] is None else np.nanmean(s, axis=0),\n",
      "/home/allenwu/anaconda3/envs/marllib/lib/python3.8/site-packages/ray/rllib/utils/metrics/learner_info.py:64: RuntimeWarning: Mean of empty slice\n",
      "  lambda *s: None if s[0] is None else np.nanmean(s, axis=0),\n"
     ]
    },
    {
     "name": "stdout",
     "output_type": "stream",
     "text": [
      "== Status ==\n",
      "Current time: 2023-09-21 02:11:28 (running for 00:28:19.91)\n",
      "Memory usage on this node: 16.0/31.2 GiB\n",
      "Using FIFO scheduling algorithm.\n",
      "Resources requested: 3.0/24 CPUs, 1.0/0 GPUs, 0.0/15.61 GiB heap, 0.0/7.8 GiB objects (0.0/1.0 accelerator_type:G)\n",
      "Result logdir: /home/allenwu/Desktop/work/MARLlib-1.0.3/exp_results/happo_gru_CityLearn_5e-07_0.0005_APPEND-DATA_seed-2\n",
      "Number of trials: 1/1 (1 RUNNING)\n",
      "\n",
      "\n"
     ]
    },
    {
     "name": "stderr",
     "output_type": "stream",
     "text": [
      "/home/allenwu/anaconda3/envs/marllib/lib/python3.8/site-packages/ray/rllib/utils/metrics/learner_info.py:64: RuntimeWarning: Mean of empty slice\n",
      "  lambda *s: None if s[0] is None else np.nanmean(s, axis=0),\n",
      "/home/allenwu/anaconda3/envs/marllib/lib/python3.8/site-packages/ray/rllib/utils/metrics/learner_info.py:64: RuntimeWarning: Mean of empty slice\n",
      "  lambda *s: None if s[0] is None else np.nanmean(s, axis=0),\n",
      "/home/allenwu/anaconda3/envs/marllib/lib/python3.8/site-packages/ray/rllib/utils/metrics/learner_info.py:64: RuntimeWarning: Mean of empty slice\n",
      "  lambda *s: None if s[0] is None else np.nanmean(s, axis=0),\n",
      "/home/allenwu/anaconda3/envs/marllib/lib/python3.8/site-packages/ray/rllib/utils/metrics/learner_info.py:64: RuntimeWarning: Mean of empty slice\n",
      "  lambda *s: None if s[0] is None else np.nanmean(s, axis=0),\n",
      "/home/allenwu/anaconda3/envs/marllib/lib/python3.8/site-packages/ray/rllib/utils/metrics/learner_info.py:64: RuntimeWarning: Mean of empty slice\n",
      "  lambda *s: None if s[0] is None else np.nanmean(s, axis=0),\n",
      "/home/allenwu/anaconda3/envs/marllib/lib/python3.8/site-packages/ray/rllib/utils/metrics/learner_info.py:64: RuntimeWarning: Mean of empty slice\n",
      "  lambda *s: None if s[0] is None else np.nanmean(s, axis=0),\n",
      "/home/allenwu/anaconda3/envs/marllib/lib/python3.8/site-packages/ray/rllib/utils/metrics/learner_info.py:64: RuntimeWarning: Mean of empty slice\n",
      "  lambda *s: None if s[0] is None else np.nanmean(s, axis=0),\n",
      "/home/allenwu/anaconda3/envs/marllib/lib/python3.8/site-packages/ray/rllib/utils/metrics/learner_info.py:64: RuntimeWarning: Mean of empty slice\n",
      "  lambda *s: None if s[0] is None else np.nanmean(s, axis=0),\n",
      "/home/allenwu/anaconda3/envs/marllib/lib/python3.8/site-packages/ray/rllib/utils/metrics/learner_info.py:64: RuntimeWarning: Mean of empty slice\n",
      "  lambda *s: None if s[0] is None else np.nanmean(s, axis=0),\n",
      "/home/allenwu/anaconda3/envs/marllib/lib/python3.8/site-packages/ray/rllib/utils/metrics/learner_info.py:64: RuntimeWarning: Mean of empty slice\n",
      "  lambda *s: None if s[0] is None else np.nanmean(s, axis=0),\n"
     ]
    },
    {
     "name": "stdout",
     "output_type": "stream",
     "text": [
      "== Status ==\n",
      "Current time: 2023-09-21 02:11:33 (running for 00:28:25.23)\n",
      "Memory usage on this node: 16.0/31.2 GiB\n",
      "Using FIFO scheduling algorithm.\n",
      "Resources requested: 3.0/24 CPUs, 1.0/0 GPUs, 0.0/15.61 GiB heap, 0.0/7.8 GiB objects (0.0/1.0 accelerator_type:G)\n",
      "Result logdir: /home/allenwu/Desktop/work/MARLlib-1.0.3/exp_results/happo_gru_CityLearn_5e-07_0.0005_APPEND-DATA_seed-2\n",
      "Number of trials: 1/1 (1 RUNNING)\n",
      "\n",
      "\n"
     ]
    },
    {
     "name": "stderr",
     "output_type": "stream",
     "text": [
      "/home/allenwu/anaconda3/envs/marllib/lib/python3.8/site-packages/ray/rllib/utils/metrics/learner_info.py:64: RuntimeWarning: Mean of empty slice\n",
      "  lambda *s: None if s[0] is None else np.nanmean(s, axis=0),\n",
      "/home/allenwu/anaconda3/envs/marllib/lib/python3.8/site-packages/ray/rllib/utils/metrics/learner_info.py:64: RuntimeWarning: Mean of empty slice\n",
      "  lambda *s: None if s[0] is None else np.nanmean(s, axis=0),\n",
      "/home/allenwu/anaconda3/envs/marllib/lib/python3.8/site-packages/ray/rllib/utils/metrics/learner_info.py:64: RuntimeWarning: Mean of empty slice\n",
      "  lambda *s: None if s[0] is None else np.nanmean(s, axis=0),\n",
      "/home/allenwu/anaconda3/envs/marllib/lib/python3.8/site-packages/ray/rllib/utils/metrics/learner_info.py:64: RuntimeWarning: Mean of empty slice\n",
      "  lambda *s: None if s[0] is None else np.nanmean(s, axis=0),\n",
      "/home/allenwu/anaconda3/envs/marllib/lib/python3.8/site-packages/ray/rllib/utils/metrics/learner_info.py:64: RuntimeWarning: Mean of empty slice\n",
      "  lambda *s: None if s[0] is None else np.nanmean(s, axis=0),\n",
      "/home/allenwu/anaconda3/envs/marllib/lib/python3.8/site-packages/ray/rllib/utils/metrics/learner_info.py:64: RuntimeWarning: Mean of empty slice\n",
      "  lambda *s: None if s[0] is None else np.nanmean(s, axis=0),\n",
      "/home/allenwu/anaconda3/envs/marllib/lib/python3.8/site-packages/ray/rllib/utils/metrics/learner_info.py:64: RuntimeWarning: Mean of empty slice\n",
      "  lambda *s: None if s[0] is None else np.nanmean(s, axis=0),\n",
      "/home/allenwu/anaconda3/envs/marllib/lib/python3.8/site-packages/ray/rllib/utils/metrics/learner_info.py:64: RuntimeWarning: Mean of empty slice\n",
      "  lambda *s: None if s[0] is None else np.nanmean(s, axis=0),\n",
      "/home/allenwu/anaconda3/envs/marllib/lib/python3.8/site-packages/ray/rllib/utils/metrics/learner_info.py:64: RuntimeWarning: Mean of empty slice\n",
      "  lambda *s: None if s[0] is None else np.nanmean(s, axis=0),\n",
      "/home/allenwu/anaconda3/envs/marllib/lib/python3.8/site-packages/ray/rllib/utils/metrics/learner_info.py:64: RuntimeWarning: Mean of empty slice\n",
      "  lambda *s: None if s[0] is None else np.nanmean(s, axis=0),\n",
      "/home/allenwu/anaconda3/envs/marllib/lib/python3.8/site-packages/ray/rllib/utils/metrics/learner_info.py:64: RuntimeWarning: Mean of empty slice\n",
      "  lambda *s: None if s[0] is None else np.nanmean(s, axis=0),\n",
      "/home/allenwu/anaconda3/envs/marllib/lib/python3.8/site-packages/ray/rllib/utils/metrics/learner_info.py:64: RuntimeWarning: Mean of empty slice\n",
      "  lambda *s: None if s[0] is None else np.nanmean(s, axis=0),\n"
     ]
    },
    {
     "name": "stdout",
     "output_type": "stream",
     "text": [
      "== Status ==\n",
      "Current time: 2023-09-21 02:11:39 (running for 00:28:30.51)\n",
      "Memory usage on this node: 16.1/31.2 GiB\n",
      "Using FIFO scheduling algorithm.\n",
      "Resources requested: 3.0/24 CPUs, 1.0/0 GPUs, 0.0/15.61 GiB heap, 0.0/7.8 GiB objects (0.0/1.0 accelerator_type:G)\n",
      "Result logdir: /home/allenwu/Desktop/work/MARLlib-1.0.3/exp_results/happo_gru_CityLearn_5e-07_0.0005_APPEND-DATA_seed-2\n",
      "Number of trials: 1/1 (1 RUNNING)\n",
      "\n",
      "\n"
     ]
    },
    {
     "name": "stderr",
     "output_type": "stream",
     "text": [
      "/home/allenwu/anaconda3/envs/marllib/lib/python3.8/site-packages/ray/rllib/utils/metrics/learner_info.py:64: RuntimeWarning: Mean of empty slice\n",
      "  lambda *s: None if s[0] is None else np.nanmean(s, axis=0),\n",
      "/home/allenwu/anaconda3/envs/marllib/lib/python3.8/site-packages/ray/rllib/utils/metrics/learner_info.py:64: RuntimeWarning: Mean of empty slice\n",
      "  lambda *s: None if s[0] is None else np.nanmean(s, axis=0),\n",
      "/home/allenwu/anaconda3/envs/marllib/lib/python3.8/site-packages/ray/rllib/utils/metrics/learner_info.py:64: RuntimeWarning: Mean of empty slice\n",
      "  lambda *s: None if s[0] is None else np.nanmean(s, axis=0),\n",
      "/home/allenwu/anaconda3/envs/marllib/lib/python3.8/site-packages/ray/rllib/utils/metrics/learner_info.py:64: RuntimeWarning: Mean of empty slice\n",
      "  lambda *s: None if s[0] is None else np.nanmean(s, axis=0),\n",
      "/home/allenwu/anaconda3/envs/marllib/lib/python3.8/site-packages/ray/rllib/utils/metrics/learner_info.py:64: RuntimeWarning: Mean of empty slice\n",
      "  lambda *s: None if s[0] is None else np.nanmean(s, axis=0),\n",
      "/home/allenwu/anaconda3/envs/marllib/lib/python3.8/site-packages/ray/rllib/utils/metrics/learner_info.py:64: RuntimeWarning: Mean of empty slice\n",
      "  lambda *s: None if s[0] is None else np.nanmean(s, axis=0),\n",
      "/home/allenwu/anaconda3/envs/marllib/lib/python3.8/site-packages/ray/rllib/utils/metrics/learner_info.py:64: RuntimeWarning: Mean of empty slice\n",
      "  lambda *s: None if s[0] is None else np.nanmean(s, axis=0),\n",
      "/home/allenwu/anaconda3/envs/marllib/lib/python3.8/site-packages/ray/rllib/utils/metrics/learner_info.py:64: RuntimeWarning: Mean of empty slice\n",
      "  lambda *s: None if s[0] is None else np.nanmean(s, axis=0),\n",
      "/home/allenwu/anaconda3/envs/marllib/lib/python3.8/site-packages/ray/rllib/utils/metrics/learner_info.py:64: RuntimeWarning: Mean of empty slice\n",
      "  lambda *s: None if s[0] is None else np.nanmean(s, axis=0),\n",
      "/home/allenwu/anaconda3/envs/marllib/lib/python3.8/site-packages/ray/rllib/utils/metrics/learner_info.py:64: RuntimeWarning: Mean of empty slice\n",
      "  lambda *s: None if s[0] is None else np.nanmean(s, axis=0),\n"
     ]
    },
    {
     "name": "stdout",
     "output_type": "stream",
     "text": [
      "== Status ==\n",
      "Current time: 2023-09-21 02:11:44 (running for 00:28:35.95)\n",
      "Memory usage on this node: 16.1/31.2 GiB\n",
      "Using FIFO scheduling algorithm.\n",
      "Resources requested: 3.0/24 CPUs, 1.0/0 GPUs, 0.0/15.61 GiB heap, 0.0/7.8 GiB objects (0.0/1.0 accelerator_type:G)\n",
      "Result logdir: /home/allenwu/Desktop/work/MARLlib-1.0.3/exp_results/happo_gru_CityLearn_5e-07_0.0005_APPEND-DATA_seed-2\n",
      "Number of trials: 1/1 (1 RUNNING)\n",
      "\n",
      "\n"
     ]
    },
    {
     "name": "stderr",
     "output_type": "stream",
     "text": [
      "/home/allenwu/anaconda3/envs/marllib/lib/python3.8/site-packages/ray/rllib/utils/metrics/learner_info.py:64: RuntimeWarning: Mean of empty slice\n",
      "  lambda *s: None if s[0] is None else np.nanmean(s, axis=0),\n",
      "/home/allenwu/anaconda3/envs/marllib/lib/python3.8/site-packages/ray/rllib/utils/metrics/learner_info.py:64: RuntimeWarning: Mean of empty slice\n",
      "  lambda *s: None if s[0] is None else np.nanmean(s, axis=0),\n",
      "/home/allenwu/anaconda3/envs/marllib/lib/python3.8/site-packages/ray/rllib/utils/metrics/learner_info.py:64: RuntimeWarning: Mean of empty slice\n",
      "  lambda *s: None if s[0] is None else np.nanmean(s, axis=0),\n",
      "/home/allenwu/anaconda3/envs/marllib/lib/python3.8/site-packages/ray/rllib/utils/metrics/learner_info.py:64: RuntimeWarning: Mean of empty slice\n",
      "  lambda *s: None if s[0] is None else np.nanmean(s, axis=0),\n",
      "/home/allenwu/anaconda3/envs/marllib/lib/python3.8/site-packages/ray/rllib/utils/metrics/learner_info.py:64: RuntimeWarning: Mean of empty slice\n",
      "  lambda *s: None if s[0] is None else np.nanmean(s, axis=0),\n",
      "/home/allenwu/anaconda3/envs/marllib/lib/python3.8/site-packages/ray/rllib/utils/metrics/learner_info.py:64: RuntimeWarning: Mean of empty slice\n",
      "  lambda *s: None if s[0] is None else np.nanmean(s, axis=0),\n"
     ]
    },
    {
     "name": "stdout",
     "output_type": "stream",
     "text": [
      "== Status ==\n",
      "Current time: 2023-09-21 02:11:49 (running for 00:28:40.97)\n",
      "Memory usage on this node: 16.1/31.2 GiB\n",
      "Using FIFO scheduling algorithm.\n",
      "Resources requested: 3.0/24 CPUs, 1.0/0 GPUs, 0.0/15.61 GiB heap, 0.0/7.8 GiB objects (0.0/1.0 accelerator_type:G)\n",
      "Result logdir: /home/allenwu/Desktop/work/MARLlib-1.0.3/exp_results/happo_gru_CityLearn_5e-07_0.0005_APPEND-DATA_seed-2\n",
      "Number of trials: 1/1 (1 RUNNING)\n",
      "\n",
      "\n"
     ]
    },
    {
     "name": "stderr",
     "output_type": "stream",
     "text": [
      "/home/allenwu/anaconda3/envs/marllib/lib/python3.8/site-packages/ray/rllib/utils/metrics/learner_info.py:64: RuntimeWarning: Mean of empty slice\n",
      "  lambda *s: None if s[0] is None else np.nanmean(s, axis=0),\n",
      "/home/allenwu/anaconda3/envs/marllib/lib/python3.8/site-packages/ray/rllib/utils/metrics/learner_info.py:64: RuntimeWarning: Mean of empty slice\n",
      "  lambda *s: None if s[0] is None else np.nanmean(s, axis=0),\n",
      "/home/allenwu/anaconda3/envs/marllib/lib/python3.8/site-packages/ray/rllib/utils/metrics/learner_info.py:64: RuntimeWarning: Mean of empty slice\n",
      "  lambda *s: None if s[0] is None else np.nanmean(s, axis=0),\n",
      "/home/allenwu/anaconda3/envs/marllib/lib/python3.8/site-packages/ray/rllib/utils/metrics/learner_info.py:64: RuntimeWarning: Mean of empty slice\n",
      "  lambda *s: None if s[0] is None else np.nanmean(s, axis=0),\n",
      "/home/allenwu/anaconda3/envs/marllib/lib/python3.8/site-packages/ray/rllib/utils/metrics/learner_info.py:64: RuntimeWarning: Mean of empty slice\n",
      "  lambda *s: None if s[0] is None else np.nanmean(s, axis=0),\n",
      "/home/allenwu/anaconda3/envs/marllib/lib/python3.8/site-packages/ray/rllib/utils/metrics/learner_info.py:64: RuntimeWarning: Mean of empty slice\n",
      "  lambda *s: None if s[0] is None else np.nanmean(s, axis=0),\n",
      "/home/allenwu/anaconda3/envs/marllib/lib/python3.8/site-packages/ray/rllib/utils/metrics/learner_info.py:64: RuntimeWarning: Mean of empty slice\n",
      "  lambda *s: None if s[0] is None else np.nanmean(s, axis=0),\n",
      "/home/allenwu/anaconda3/envs/marllib/lib/python3.8/site-packages/ray/rllib/utils/metrics/learner_info.py:64: RuntimeWarning: Mean of empty slice\n",
      "  lambda *s: None if s[0] is None else np.nanmean(s, axis=0),\n",
      "/home/allenwu/anaconda3/envs/marllib/lib/python3.8/site-packages/ray/rllib/utils/metrics/learner_info.py:64: RuntimeWarning: Mean of empty slice\n",
      "  lambda *s: None if s[0] is None else np.nanmean(s, axis=0),\n",
      "/home/allenwu/anaconda3/envs/marllib/lib/python3.8/site-packages/ray/rllib/utils/metrics/learner_info.py:64: RuntimeWarning: Mean of empty slice\n",
      "  lambda *s: None if s[0] is None else np.nanmean(s, axis=0),\n"
     ]
    },
    {
     "name": "stdout",
     "output_type": "stream",
     "text": [
      "== Status ==\n",
      "Current time: 2023-09-21 02:11:55 (running for 00:28:46.40)\n",
      "Memory usage on this node: 16.2/31.2 GiB\n",
      "Using FIFO scheduling algorithm.\n",
      "Resources requested: 3.0/24 CPUs, 1.0/0 GPUs, 0.0/15.61 GiB heap, 0.0/7.8 GiB objects (0.0/1.0 accelerator_type:G)\n",
      "Result logdir: /home/allenwu/Desktop/work/MARLlib-1.0.3/exp_results/happo_gru_CityLearn_5e-07_0.0005_APPEND-DATA_seed-2\n",
      "Number of trials: 1/1 (1 RUNNING)\n",
      "\n",
      "\n"
     ]
    },
    {
     "name": "stderr",
     "output_type": "stream",
     "text": [
      "/home/allenwu/anaconda3/envs/marllib/lib/python3.8/site-packages/ray/rllib/utils/metrics/learner_info.py:64: RuntimeWarning: Mean of empty slice\n",
      "  lambda *s: None if s[0] is None else np.nanmean(s, axis=0),\n",
      "/home/allenwu/anaconda3/envs/marllib/lib/python3.8/site-packages/ray/rllib/utils/metrics/learner_info.py:64: RuntimeWarning: Mean of empty slice\n",
      "  lambda *s: None if s[0] is None else np.nanmean(s, axis=0),\n",
      "/home/allenwu/anaconda3/envs/marllib/lib/python3.8/site-packages/ray/rllib/utils/metrics/learner_info.py:64: RuntimeWarning: Mean of empty slice\n",
      "  lambda *s: None if s[0] is None else np.nanmean(s, axis=0),\n",
      "/home/allenwu/anaconda3/envs/marllib/lib/python3.8/site-packages/ray/rllib/utils/metrics/learner_info.py:64: RuntimeWarning: Mean of empty slice\n",
      "  lambda *s: None if s[0] is None else np.nanmean(s, axis=0),\n",
      "/home/allenwu/anaconda3/envs/marllib/lib/python3.8/site-packages/ray/rllib/utils/metrics/learner_info.py:64: RuntimeWarning: Mean of empty slice\n",
      "  lambda *s: None if s[0] is None else np.nanmean(s, axis=0),\n",
      "/home/allenwu/anaconda3/envs/marllib/lib/python3.8/site-packages/ray/rllib/utils/metrics/learner_info.py:64: RuntimeWarning: Mean of empty slice\n",
      "  lambda *s: None if s[0] is None else np.nanmean(s, axis=0),\n",
      "/home/allenwu/anaconda3/envs/marllib/lib/python3.8/site-packages/ray/rllib/utils/metrics/learner_info.py:64: RuntimeWarning: Mean of empty slice\n",
      "  lambda *s: None if s[0] is None else np.nanmean(s, axis=0),\n",
      "/home/allenwu/anaconda3/envs/marllib/lib/python3.8/site-packages/ray/rllib/utils/metrics/learner_info.py:64: RuntimeWarning: Mean of empty slice\n",
      "  lambda *s: None if s[0] is None else np.nanmean(s, axis=0),\n",
      "/home/allenwu/anaconda3/envs/marllib/lib/python3.8/site-packages/ray/rllib/utils/metrics/learner_info.py:64: RuntimeWarning: Mean of empty slice\n",
      "  lambda *s: None if s[0] is None else np.nanmean(s, axis=0),\n",
      "/home/allenwu/anaconda3/envs/marllib/lib/python3.8/site-packages/ray/rllib/utils/metrics/learner_info.py:64: RuntimeWarning: Mean of empty slice\n",
      "  lambda *s: None if s[0] is None else np.nanmean(s, axis=0),\n"
     ]
    },
    {
     "name": "stdout",
     "output_type": "stream",
     "text": [
      "== Status ==\n",
      "Current time: 2023-09-21 02:12:00 (running for 00:28:51.82)\n",
      "Memory usage on this node: 16.2/31.2 GiB\n",
      "Using FIFO scheduling algorithm.\n",
      "Resources requested: 3.0/24 CPUs, 1.0/0 GPUs, 0.0/15.61 GiB heap, 0.0/7.8 GiB objects (0.0/1.0 accelerator_type:G)\n",
      "Result logdir: /home/allenwu/Desktop/work/MARLlib-1.0.3/exp_results/happo_gru_CityLearn_5e-07_0.0005_APPEND-DATA_seed-2\n",
      "Number of trials: 1/1 (1 RUNNING)\n",
      "\n",
      "\n"
     ]
    },
    {
     "name": "stderr",
     "output_type": "stream",
     "text": [
      "/home/allenwu/anaconda3/envs/marllib/lib/python3.8/site-packages/ray/rllib/utils/metrics/learner_info.py:64: RuntimeWarning: Mean of empty slice\n",
      "  lambda *s: None if s[0] is None else np.nanmean(s, axis=0),\n",
      "/home/allenwu/anaconda3/envs/marllib/lib/python3.8/site-packages/ray/rllib/utils/metrics/learner_info.py:64: RuntimeWarning: Mean of empty slice\n",
      "  lambda *s: None if s[0] is None else np.nanmean(s, axis=0),\n",
      "/home/allenwu/anaconda3/envs/marllib/lib/python3.8/site-packages/ray/rllib/utils/metrics/learner_info.py:64: RuntimeWarning: Mean of empty slice\n",
      "  lambda *s: None if s[0] is None else np.nanmean(s, axis=0),\n",
      "/home/allenwu/anaconda3/envs/marllib/lib/python3.8/site-packages/ray/rllib/utils/metrics/learner_info.py:64: RuntimeWarning: Mean of empty slice\n",
      "  lambda *s: None if s[0] is None else np.nanmean(s, axis=0),\n",
      "/home/allenwu/anaconda3/envs/marllib/lib/python3.8/site-packages/ray/rllib/utils/metrics/learner_info.py:64: RuntimeWarning: Mean of empty slice\n",
      "  lambda *s: None if s[0] is None else np.nanmean(s, axis=0),\n",
      "/home/allenwu/anaconda3/envs/marllib/lib/python3.8/site-packages/ray/rllib/utils/metrics/learner_info.py:64: RuntimeWarning: Mean of empty slice\n",
      "  lambda *s: None if s[0] is None else np.nanmean(s, axis=0),\n",
      "/home/allenwu/anaconda3/envs/marllib/lib/python3.8/site-packages/ray/rllib/utils/metrics/learner_info.py:64: RuntimeWarning: Mean of empty slice\n",
      "  lambda *s: None if s[0] is None else np.nanmean(s, axis=0),\n",
      "/home/allenwu/anaconda3/envs/marllib/lib/python3.8/site-packages/ray/rllib/utils/metrics/learner_info.py:64: RuntimeWarning: Mean of empty slice\n",
      "  lambda *s: None if s[0] is None else np.nanmean(s, axis=0),\n",
      "/home/allenwu/anaconda3/envs/marllib/lib/python3.8/site-packages/ray/rllib/utils/metrics/learner_info.py:64: RuntimeWarning: Mean of empty slice\n",
      "  lambda *s: None if s[0] is None else np.nanmean(s, axis=0),\n",
      "/home/allenwu/anaconda3/envs/marllib/lib/python3.8/site-packages/ray/rllib/utils/metrics/learner_info.py:64: RuntimeWarning: Mean of empty slice\n",
      "  lambda *s: None if s[0] is None else np.nanmean(s, axis=0),\n"
     ]
    },
    {
     "name": "stdout",
     "output_type": "stream",
     "text": [
      "== Status ==\n",
      "Current time: 2023-09-21 02:12:05 (running for 00:28:57.16)\n",
      "Memory usage on this node: 16.2/31.2 GiB\n",
      "Using FIFO scheduling algorithm.\n",
      "Resources requested: 3.0/24 CPUs, 1.0/0 GPUs, 0.0/15.61 GiB heap, 0.0/7.8 GiB objects (0.0/1.0 accelerator_type:G)\n",
      "Result logdir: /home/allenwu/Desktop/work/MARLlib-1.0.3/exp_results/happo_gru_CityLearn_5e-07_0.0005_APPEND-DATA_seed-2\n",
      "Number of trials: 1/1 (1 RUNNING)\n",
      "\n",
      "\n"
     ]
    },
    {
     "name": "stderr",
     "output_type": "stream",
     "text": [
      "/home/allenwu/anaconda3/envs/marllib/lib/python3.8/site-packages/ray/rllib/utils/metrics/learner_info.py:64: RuntimeWarning: Mean of empty slice\n",
      "  lambda *s: None if s[0] is None else np.nanmean(s, axis=0),\n",
      "/home/allenwu/anaconda3/envs/marllib/lib/python3.8/site-packages/ray/rllib/utils/metrics/learner_info.py:64: RuntimeWarning: Mean of empty slice\n",
      "  lambda *s: None if s[0] is None else np.nanmean(s, axis=0),\n",
      "/home/allenwu/anaconda3/envs/marllib/lib/python3.8/site-packages/ray/rllib/utils/metrics/learner_info.py:64: RuntimeWarning: Mean of empty slice\n",
      "  lambda *s: None if s[0] is None else np.nanmean(s, axis=0),\n",
      "/home/allenwu/anaconda3/envs/marllib/lib/python3.8/site-packages/ray/rllib/utils/metrics/learner_info.py:64: RuntimeWarning: Mean of empty slice\n",
      "  lambda *s: None if s[0] is None else np.nanmean(s, axis=0),\n",
      "/home/allenwu/anaconda3/envs/marllib/lib/python3.8/site-packages/ray/rllib/utils/metrics/learner_info.py:64: RuntimeWarning: Mean of empty slice\n",
      "  lambda *s: None if s[0] is None else np.nanmean(s, axis=0),\n",
      "/home/allenwu/anaconda3/envs/marllib/lib/python3.8/site-packages/ray/rllib/utils/metrics/learner_info.py:64: RuntimeWarning: Mean of empty slice\n",
      "  lambda *s: None if s[0] is None else np.nanmean(s, axis=0),\n",
      "/home/allenwu/anaconda3/envs/marllib/lib/python3.8/site-packages/ray/rllib/utils/metrics/learner_info.py:64: RuntimeWarning: Mean of empty slice\n",
      "  lambda *s: None if s[0] is None else np.nanmean(s, axis=0),\n",
      "/home/allenwu/anaconda3/envs/marllib/lib/python3.8/site-packages/ray/rllib/utils/metrics/learner_info.py:64: RuntimeWarning: Mean of empty slice\n",
      "  lambda *s: None if s[0] is None else np.nanmean(s, axis=0),\n",
      "/home/allenwu/anaconda3/envs/marllib/lib/python3.8/site-packages/ray/rllib/utils/metrics/learner_info.py:64: RuntimeWarning: Mean of empty slice\n",
      "  lambda *s: None if s[0] is None else np.nanmean(s, axis=0),\n"
     ]
    },
    {
     "name": "stdout",
     "output_type": "stream",
     "text": [
      "== Status ==\n",
      "Current time: 2023-09-21 02:12:11 (running for 00:29:02.33)\n",
      "Memory usage on this node: 16.2/31.2 GiB\n",
      "Using FIFO scheduling algorithm.\n",
      "Resources requested: 3.0/24 CPUs, 1.0/0 GPUs, 0.0/15.61 GiB heap, 0.0/7.8 GiB objects (0.0/1.0 accelerator_type:G)\n",
      "Result logdir: /home/allenwu/Desktop/work/MARLlib-1.0.3/exp_results/happo_gru_CityLearn_5e-07_0.0005_APPEND-DATA_seed-2\n",
      "Number of trials: 1/1 (1 RUNNING)\n",
      "\n",
      "\n"
     ]
    },
    {
     "name": "stderr",
     "output_type": "stream",
     "text": [
      "/home/allenwu/anaconda3/envs/marllib/lib/python3.8/site-packages/ray/rllib/utils/metrics/learner_info.py:64: RuntimeWarning: Mean of empty slice\n",
      "  lambda *s: None if s[0] is None else np.nanmean(s, axis=0),\n",
      "/home/allenwu/anaconda3/envs/marllib/lib/python3.8/site-packages/ray/rllib/utils/metrics/learner_info.py:64: RuntimeWarning: Mean of empty slice\n",
      "  lambda *s: None if s[0] is None else np.nanmean(s, axis=0),\n",
      "/home/allenwu/anaconda3/envs/marllib/lib/python3.8/site-packages/ray/rllib/utils/metrics/learner_info.py:64: RuntimeWarning: Mean of empty slice\n",
      "  lambda *s: None if s[0] is None else np.nanmean(s, axis=0),\n",
      "/home/allenwu/anaconda3/envs/marllib/lib/python3.8/site-packages/ray/rllib/utils/metrics/learner_info.py:64: RuntimeWarning: Mean of empty slice\n",
      "  lambda *s: None if s[0] is None else np.nanmean(s, axis=0),\n",
      "/home/allenwu/anaconda3/envs/marllib/lib/python3.8/site-packages/ray/rllib/utils/metrics/learner_info.py:64: RuntimeWarning: Mean of empty slice\n",
      "  lambda *s: None if s[0] is None else np.nanmean(s, axis=0),\n",
      "/home/allenwu/anaconda3/envs/marllib/lib/python3.8/site-packages/ray/rllib/utils/metrics/learner_info.py:64: RuntimeWarning: Mean of empty slice\n",
      "  lambda *s: None if s[0] is None else np.nanmean(s, axis=0),\n",
      "/home/allenwu/anaconda3/envs/marllib/lib/python3.8/site-packages/ray/rllib/utils/metrics/learner_info.py:64: RuntimeWarning: Mean of empty slice\n",
      "  lambda *s: None if s[0] is None else np.nanmean(s, axis=0),\n",
      "/home/allenwu/anaconda3/envs/marllib/lib/python3.8/site-packages/ray/rllib/utils/metrics/learner_info.py:64: RuntimeWarning: Mean of empty slice\n",
      "  lambda *s: None if s[0] is None else np.nanmean(s, axis=0),\n",
      "/home/allenwu/anaconda3/envs/marllib/lib/python3.8/site-packages/ray/rllib/utils/metrics/learner_info.py:64: RuntimeWarning: Mean of empty slice\n",
      "  lambda *s: None if s[0] is None else np.nanmean(s, axis=0),\n",
      "2023-09-21 02:12:15,824\tWARNING ray_trial_executor.py:768 -- Over the last 60 seconds, the Tune event loop has been backlogged processing new results. Consider increasing your period of result reporting to improve performance.\n",
      "/home/allenwu/anaconda3/envs/marllib/lib/python3.8/site-packages/ray/rllib/utils/metrics/learner_info.py:64: RuntimeWarning: Mean of empty slice\n",
      "  lambda *s: None if s[0] is None else np.nanmean(s, axis=0),\n"
     ]
    },
    {
     "name": "stdout",
     "output_type": "stream",
     "text": [
      "== Status ==\n",
      "Current time: 2023-09-21 02:12:16 (running for 00:29:07.48)\n",
      "Memory usage on this node: 16.3/31.2 GiB\n",
      "Using FIFO scheduling algorithm.\n",
      "Resources requested: 3.0/24 CPUs, 1.0/0 GPUs, 0.0/15.61 GiB heap, 0.0/7.8 GiB objects (0.0/1.0 accelerator_type:G)\n",
      "Result logdir: /home/allenwu/Desktop/work/MARLlib-1.0.3/exp_results/happo_gru_CityLearn_5e-07_0.0005_APPEND-DATA_seed-2\n",
      "Number of trials: 1/1 (1 RUNNING)\n",
      "\n",
      "\n"
     ]
    },
    {
     "name": "stderr",
     "output_type": "stream",
     "text": [
      "/home/allenwu/anaconda3/envs/marllib/lib/python3.8/site-packages/ray/rllib/utils/metrics/learner_info.py:64: RuntimeWarning: Mean of empty slice\n",
      "  lambda *s: None if s[0] is None else np.nanmean(s, axis=0),\n",
      "/home/allenwu/anaconda3/envs/marllib/lib/python3.8/site-packages/ray/rllib/utils/metrics/learner_info.py:64: RuntimeWarning: Mean of empty slice\n",
      "  lambda *s: None if s[0] is None else np.nanmean(s, axis=0),\n",
      "/home/allenwu/anaconda3/envs/marllib/lib/python3.8/site-packages/ray/rllib/utils/metrics/learner_info.py:64: RuntimeWarning: Mean of empty slice\n",
      "  lambda *s: None if s[0] is None else np.nanmean(s, axis=0),\n",
      "/home/allenwu/anaconda3/envs/marllib/lib/python3.8/site-packages/ray/rllib/utils/metrics/learner_info.py:64: RuntimeWarning: Mean of empty slice\n",
      "  lambda *s: None if s[0] is None else np.nanmean(s, axis=0),\n",
      "/home/allenwu/anaconda3/envs/marllib/lib/python3.8/site-packages/ray/rllib/utils/metrics/learner_info.py:64: RuntimeWarning: Mean of empty slice\n",
      "  lambda *s: None if s[0] is None else np.nanmean(s, axis=0),\n",
      "/home/allenwu/anaconda3/envs/marllib/lib/python3.8/site-packages/ray/rllib/utils/metrics/learner_info.py:64: RuntimeWarning: Mean of empty slice\n",
      "  lambda *s: None if s[0] is None else np.nanmean(s, axis=0),\n",
      "/home/allenwu/anaconda3/envs/marllib/lib/python3.8/site-packages/ray/rllib/utils/metrics/learner_info.py:64: RuntimeWarning: Mean of empty slice\n",
      "  lambda *s: None if s[0] is None else np.nanmean(s, axis=0),\n",
      "/home/allenwu/anaconda3/envs/marllib/lib/python3.8/site-packages/ray/rllib/utils/metrics/learner_info.py:64: RuntimeWarning: Mean of empty slice\n",
      "  lambda *s: None if s[0] is None else np.nanmean(s, axis=0),\n",
      "/home/allenwu/anaconda3/envs/marllib/lib/python3.8/site-packages/ray/rllib/utils/metrics/learner_info.py:64: RuntimeWarning: Mean of empty slice\n",
      "  lambda *s: None if s[0] is None else np.nanmean(s, axis=0),\n",
      "/home/allenwu/anaconda3/envs/marllib/lib/python3.8/site-packages/ray/rllib/utils/metrics/learner_info.py:64: RuntimeWarning: Mean of empty slice\n",
      "  lambda *s: None if s[0] is None else np.nanmean(s, axis=0),\n"
     ]
    },
    {
     "name": "stdout",
     "output_type": "stream",
     "text": [
      "== Status ==\n",
      "Current time: 2023-09-21 02:12:21 (running for 00:29:12.60)\n",
      "Memory usage on this node: 16.3/31.2 GiB\n",
      "Using FIFO scheduling algorithm.\n",
      "Resources requested: 3.0/24 CPUs, 1.0/0 GPUs, 0.0/15.61 GiB heap, 0.0/7.8 GiB objects (0.0/1.0 accelerator_type:G)\n",
      "Result logdir: /home/allenwu/Desktop/work/MARLlib-1.0.3/exp_results/happo_gru_CityLearn_5e-07_0.0005_APPEND-DATA_seed-2\n",
      "Number of trials: 1/1 (1 RUNNING)\n",
      "\n",
      "\n"
     ]
    },
    {
     "name": "stderr",
     "output_type": "stream",
     "text": [
      "/home/allenwu/anaconda3/envs/marllib/lib/python3.8/site-packages/ray/rllib/utils/metrics/learner_info.py:64: RuntimeWarning: Mean of empty slice\n",
      "  lambda *s: None if s[0] is None else np.nanmean(s, axis=0),\n",
      "/home/allenwu/anaconda3/envs/marllib/lib/python3.8/site-packages/ray/rllib/utils/metrics/learner_info.py:64: RuntimeWarning: Mean of empty slice\n",
      "  lambda *s: None if s[0] is None else np.nanmean(s, axis=0),\n",
      "/home/allenwu/anaconda3/envs/marllib/lib/python3.8/site-packages/ray/rllib/utils/metrics/learner_info.py:64: RuntimeWarning: Mean of empty slice\n",
      "  lambda *s: None if s[0] is None else np.nanmean(s, axis=0),\n",
      "/home/allenwu/anaconda3/envs/marllib/lib/python3.8/site-packages/ray/rllib/utils/metrics/learner_info.py:64: RuntimeWarning: Mean of empty slice\n",
      "  lambda *s: None if s[0] is None else np.nanmean(s, axis=0),\n",
      "/home/allenwu/anaconda3/envs/marllib/lib/python3.8/site-packages/ray/rllib/utils/metrics/learner_info.py:64: RuntimeWarning: Mean of empty slice\n",
      "  lambda *s: None if s[0] is None else np.nanmean(s, axis=0),\n",
      "/home/allenwu/anaconda3/envs/marllib/lib/python3.8/site-packages/ray/rllib/utils/metrics/learner_info.py:64: RuntimeWarning: Mean of empty slice\n",
      "  lambda *s: None if s[0] is None else np.nanmean(s, axis=0),\n",
      "/home/allenwu/anaconda3/envs/marllib/lib/python3.8/site-packages/ray/rllib/utils/metrics/learner_info.py:64: RuntimeWarning: Mean of empty slice\n",
      "  lambda *s: None if s[0] is None else np.nanmean(s, axis=0),\n",
      "/home/allenwu/anaconda3/envs/marllib/lib/python3.8/site-packages/ray/rllib/utils/metrics/learner_info.py:64: RuntimeWarning: Mean of empty slice\n",
      "  lambda *s: None if s[0] is None else np.nanmean(s, axis=0),\n",
      "/home/allenwu/anaconda3/envs/marllib/lib/python3.8/site-packages/ray/rllib/utils/metrics/learner_info.py:64: RuntimeWarning: Mean of empty slice\n",
      "  lambda *s: None if s[0] is None else np.nanmean(s, axis=0),\n",
      "/home/allenwu/anaconda3/envs/marllib/lib/python3.8/site-packages/ray/rllib/utils/metrics/learner_info.py:64: RuntimeWarning: Mean of empty slice\n",
      "  lambda *s: None if s[0] is None else np.nanmean(s, axis=0),\n",
      "/home/allenwu/anaconda3/envs/marllib/lib/python3.8/site-packages/ray/rllib/utils/metrics/learner_info.py:64: RuntimeWarning: Mean of empty slice\n",
      "  lambda *s: None if s[0] is None else np.nanmean(s, axis=0),\n"
     ]
    },
    {
     "name": "stdout",
     "output_type": "stream",
     "text": [
      "== Status ==\n",
      "Current time: 2023-09-21 02:12:26 (running for 00:29:17.79)\n",
      "Memory usage on this node: 16.3/31.2 GiB\n",
      "Using FIFO scheduling algorithm.\n",
      "Resources requested: 3.0/24 CPUs, 1.0/0 GPUs, 0.0/15.61 GiB heap, 0.0/7.8 GiB objects (0.0/1.0 accelerator_type:G)\n",
      "Result logdir: /home/allenwu/Desktop/work/MARLlib-1.0.3/exp_results/happo_gru_CityLearn_5e-07_0.0005_APPEND-DATA_seed-2\n",
      "Number of trials: 1/1 (1 RUNNING)\n",
      "\n",
      "\n"
     ]
    },
    {
     "name": "stderr",
     "output_type": "stream",
     "text": [
      "/home/allenwu/anaconda3/envs/marllib/lib/python3.8/site-packages/ray/rllib/utils/metrics/learner_info.py:64: RuntimeWarning: Mean of empty slice\n",
      "  lambda *s: None if s[0] is None else np.nanmean(s, axis=0),\n",
      "/home/allenwu/anaconda3/envs/marllib/lib/python3.8/site-packages/ray/rllib/utils/metrics/learner_info.py:64: RuntimeWarning: Mean of empty slice\n",
      "  lambda *s: None if s[0] is None else np.nanmean(s, axis=0),\n",
      "/home/allenwu/anaconda3/envs/marllib/lib/python3.8/site-packages/ray/rllib/utils/metrics/learner_info.py:64: RuntimeWarning: Mean of empty slice\n",
      "  lambda *s: None if s[0] is None else np.nanmean(s, axis=0),\n",
      "/home/allenwu/anaconda3/envs/marllib/lib/python3.8/site-packages/ray/rllib/utils/metrics/learner_info.py:64: RuntimeWarning: Mean of empty slice\n",
      "  lambda *s: None if s[0] is None else np.nanmean(s, axis=0),\n",
      "/home/allenwu/anaconda3/envs/marllib/lib/python3.8/site-packages/ray/rllib/utils/metrics/learner_info.py:64: RuntimeWarning: Mean of empty slice\n",
      "  lambda *s: None if s[0] is None else np.nanmean(s, axis=0),\n",
      "/home/allenwu/anaconda3/envs/marllib/lib/python3.8/site-packages/ray/rllib/utils/metrics/learner_info.py:64: RuntimeWarning: Mean of empty slice\n",
      "  lambda *s: None if s[0] is None else np.nanmean(s, axis=0),\n",
      "/home/allenwu/anaconda3/envs/marllib/lib/python3.8/site-packages/ray/rllib/utils/metrics/learner_info.py:64: RuntimeWarning: Mean of empty slice\n",
      "  lambda *s: None if s[0] is None else np.nanmean(s, axis=0),\n",
      "/home/allenwu/anaconda3/envs/marllib/lib/python3.8/site-packages/ray/rllib/utils/metrics/learner_info.py:64: RuntimeWarning: Mean of empty slice\n",
      "  lambda *s: None if s[0] is None else np.nanmean(s, axis=0),\n",
      "/home/allenwu/anaconda3/envs/marllib/lib/python3.8/site-packages/ray/rllib/utils/metrics/learner_info.py:64: RuntimeWarning: Mean of empty slice\n",
      "  lambda *s: None if s[0] is None else np.nanmean(s, axis=0),\n",
      "/home/allenwu/anaconda3/envs/marllib/lib/python3.8/site-packages/ray/rllib/utils/metrics/learner_info.py:64: RuntimeWarning: Mean of empty slice\n",
      "  lambda *s: None if s[0] is None else np.nanmean(s, axis=0),\n",
      "/home/allenwu/anaconda3/envs/marllib/lib/python3.8/site-packages/ray/rllib/utils/metrics/learner_info.py:64: RuntimeWarning: Mean of empty slice\n",
      "  lambda *s: None if s[0] is None else np.nanmean(s, axis=0),\n"
     ]
    },
    {
     "name": "stdout",
     "output_type": "stream",
     "text": [
      "== Status ==\n",
      "Current time: 2023-09-21 02:12:31 (running for 00:29:23.15)\n",
      "Memory usage on this node: 16.3/31.2 GiB\n",
      "Using FIFO scheduling algorithm.\n",
      "Resources requested: 3.0/24 CPUs, 1.0/0 GPUs, 0.0/15.61 GiB heap, 0.0/7.8 GiB objects (0.0/1.0 accelerator_type:G)\n",
      "Result logdir: /home/allenwu/Desktop/work/MARLlib-1.0.3/exp_results/happo_gru_CityLearn_5e-07_0.0005_APPEND-DATA_seed-2\n",
      "Number of trials: 1/1 (1 RUNNING)\n",
      "\n",
      "\n"
     ]
    },
    {
     "name": "stderr",
     "output_type": "stream",
     "text": [
      "/home/allenwu/anaconda3/envs/marllib/lib/python3.8/site-packages/ray/rllib/utils/metrics/learner_info.py:64: RuntimeWarning: Mean of empty slice\n",
      "  lambda *s: None if s[0] is None else np.nanmean(s, axis=0),\n",
      "/home/allenwu/anaconda3/envs/marllib/lib/python3.8/site-packages/ray/rllib/utils/metrics/learner_info.py:64: RuntimeWarning: Mean of empty slice\n",
      "  lambda *s: None if s[0] is None else np.nanmean(s, axis=0),\n",
      "/home/allenwu/anaconda3/envs/marllib/lib/python3.8/site-packages/ray/rllib/utils/metrics/learner_info.py:64: RuntimeWarning: Mean of empty slice\n",
      "  lambda *s: None if s[0] is None else np.nanmean(s, axis=0),\n",
      "/home/allenwu/anaconda3/envs/marllib/lib/python3.8/site-packages/ray/rllib/utils/metrics/learner_info.py:64: RuntimeWarning: Mean of empty slice\n",
      "  lambda *s: None if s[0] is None else np.nanmean(s, axis=0),\n",
      "/home/allenwu/anaconda3/envs/marllib/lib/python3.8/site-packages/ray/rllib/utils/metrics/learner_info.py:64: RuntimeWarning: Mean of empty slice\n",
      "  lambda *s: None if s[0] is None else np.nanmean(s, axis=0),\n",
      "/home/allenwu/anaconda3/envs/marllib/lib/python3.8/site-packages/ray/rllib/utils/metrics/learner_info.py:64: RuntimeWarning: Mean of empty slice\n",
      "  lambda *s: None if s[0] is None else np.nanmean(s, axis=0),\n",
      "/home/allenwu/anaconda3/envs/marllib/lib/python3.8/site-packages/ray/rllib/utils/metrics/learner_info.py:64: RuntimeWarning: Mean of empty slice\n",
      "  lambda *s: None if s[0] is None else np.nanmean(s, axis=0),\n",
      "/home/allenwu/anaconda3/envs/marllib/lib/python3.8/site-packages/ray/rllib/utils/metrics/learner_info.py:64: RuntimeWarning: Mean of empty slice\n",
      "  lambda *s: None if s[0] is None else np.nanmean(s, axis=0),\n",
      "/home/allenwu/anaconda3/envs/marllib/lib/python3.8/site-packages/ray/rllib/utils/metrics/learner_info.py:64: RuntimeWarning: Mean of empty slice\n",
      "  lambda *s: None if s[0] is None else np.nanmean(s, axis=0),\n",
      "/home/allenwu/anaconda3/envs/marllib/lib/python3.8/site-packages/ray/rllib/utils/metrics/learner_info.py:64: RuntimeWarning: Mean of empty slice\n",
      "  lambda *s: None if s[0] is None else np.nanmean(s, axis=0),\n"
     ]
    },
    {
     "name": "stdout",
     "output_type": "stream",
     "text": [
      "== Status ==\n",
      "Current time: 2023-09-21 02:12:37 (running for 00:29:28.58)\n",
      "Memory usage on this node: 16.3/31.2 GiB\n",
      "Using FIFO scheduling algorithm.\n",
      "Resources requested: 3.0/24 CPUs, 1.0/0 GPUs, 0.0/15.61 GiB heap, 0.0/7.8 GiB objects (0.0/1.0 accelerator_type:G)\n",
      "Result logdir: /home/allenwu/Desktop/work/MARLlib-1.0.3/exp_results/happo_gru_CityLearn_5e-07_0.0005_APPEND-DATA_seed-2\n",
      "Number of trials: 1/1 (1 RUNNING)\n",
      "\n",
      "\n"
     ]
    },
    {
     "name": "stderr",
     "output_type": "stream",
     "text": [
      "/home/allenwu/anaconda3/envs/marllib/lib/python3.8/site-packages/ray/rllib/utils/metrics/learner_info.py:64: RuntimeWarning: Mean of empty slice\n",
      "  lambda *s: None if s[0] is None else np.nanmean(s, axis=0),\n",
      "/home/allenwu/anaconda3/envs/marllib/lib/python3.8/site-packages/ray/rllib/utils/metrics/learner_info.py:64: RuntimeWarning: Mean of empty slice\n",
      "  lambda *s: None if s[0] is None else np.nanmean(s, axis=0),\n",
      "/home/allenwu/anaconda3/envs/marllib/lib/python3.8/site-packages/ray/rllib/utils/metrics/learner_info.py:64: RuntimeWarning: Mean of empty slice\n",
      "  lambda *s: None if s[0] is None else np.nanmean(s, axis=0),\n",
      "/home/allenwu/anaconda3/envs/marllib/lib/python3.8/site-packages/ray/rllib/utils/metrics/learner_info.py:64: RuntimeWarning: Mean of empty slice\n",
      "  lambda *s: None if s[0] is None else np.nanmean(s, axis=0),\n",
      "/home/allenwu/anaconda3/envs/marllib/lib/python3.8/site-packages/ray/rllib/utils/metrics/learner_info.py:64: RuntimeWarning: Mean of empty slice\n",
      "  lambda *s: None if s[0] is None else np.nanmean(s, axis=0),\n",
      "/home/allenwu/anaconda3/envs/marllib/lib/python3.8/site-packages/ray/rllib/utils/metrics/learner_info.py:64: RuntimeWarning: Mean of empty slice\n",
      "  lambda *s: None if s[0] is None else np.nanmean(s, axis=0),\n",
      "/home/allenwu/anaconda3/envs/marllib/lib/python3.8/site-packages/ray/rllib/utils/metrics/learner_info.py:64: RuntimeWarning: Mean of empty slice\n",
      "  lambda *s: None if s[0] is None else np.nanmean(s, axis=0),\n",
      "/home/allenwu/anaconda3/envs/marllib/lib/python3.8/site-packages/ray/rllib/utils/metrics/learner_info.py:64: RuntimeWarning: Mean of empty slice\n",
      "  lambda *s: None if s[0] is None else np.nanmean(s, axis=0),\n",
      "/home/allenwu/anaconda3/envs/marllib/lib/python3.8/site-packages/ray/rllib/utils/metrics/learner_info.py:64: RuntimeWarning: Mean of empty slice\n",
      "  lambda *s: None if s[0] is None else np.nanmean(s, axis=0),\n",
      "/home/allenwu/anaconda3/envs/marllib/lib/python3.8/site-packages/ray/rllib/utils/metrics/learner_info.py:64: RuntimeWarning: Mean of empty slice\n",
      "  lambda *s: None if s[0] is None else np.nanmean(s, axis=0),\n",
      "/home/allenwu/anaconda3/envs/marllib/lib/python3.8/site-packages/ray/rllib/utils/metrics/learner_info.py:64: RuntimeWarning: Mean of empty slice\n",
      "  lambda *s: None if s[0] is None else np.nanmean(s, axis=0),\n",
      "/home/allenwu/anaconda3/envs/marllib/lib/python3.8/site-packages/ray/rllib/utils/metrics/learner_info.py:64: RuntimeWarning: Mean of empty slice\n",
      "  lambda *s: None if s[0] is None else np.nanmean(s, axis=0),\n"
     ]
    },
    {
     "name": "stdout",
     "output_type": "stream",
     "text": [
      "== Status ==\n",
      "Current time: 2023-09-21 02:12:42 (running for 00:29:33.94)\n",
      "Memory usage on this node: 16.4/31.2 GiB\n",
      "Using FIFO scheduling algorithm.\n",
      "Resources requested: 3.0/24 CPUs, 1.0/0 GPUs, 0.0/15.61 GiB heap, 0.0/7.8 GiB objects (0.0/1.0 accelerator_type:G)\n",
      "Result logdir: /home/allenwu/Desktop/work/MARLlib-1.0.3/exp_results/happo_gru_CityLearn_5e-07_0.0005_APPEND-DATA_seed-2\n",
      "Number of trials: 1/1 (1 RUNNING)\n",
      "\n",
      "\n"
     ]
    },
    {
     "name": "stderr",
     "output_type": "stream",
     "text": [
      "/home/allenwu/anaconda3/envs/marllib/lib/python3.8/site-packages/ray/rllib/utils/metrics/learner_info.py:64: RuntimeWarning: Mean of empty slice\n",
      "  lambda *s: None if s[0] is None else np.nanmean(s, axis=0),\n",
      "/home/allenwu/anaconda3/envs/marllib/lib/python3.8/site-packages/ray/rllib/utils/metrics/learner_info.py:64: RuntimeWarning: Mean of empty slice\n",
      "  lambda *s: None if s[0] is None else np.nanmean(s, axis=0),\n",
      "/home/allenwu/anaconda3/envs/marllib/lib/python3.8/site-packages/ray/rllib/utils/metrics/learner_info.py:64: RuntimeWarning: Mean of empty slice\n",
      "  lambda *s: None if s[0] is None else np.nanmean(s, axis=0),\n",
      "/home/allenwu/anaconda3/envs/marllib/lib/python3.8/site-packages/ray/rllib/utils/metrics/learner_info.py:64: RuntimeWarning: Mean of empty slice\n",
      "  lambda *s: None if s[0] is None else np.nanmean(s, axis=0),\n",
      "/home/allenwu/anaconda3/envs/marllib/lib/python3.8/site-packages/ray/rllib/utils/metrics/learner_info.py:64: RuntimeWarning: Mean of empty slice\n",
      "  lambda *s: None if s[0] is None else np.nanmean(s, axis=0),\n",
      "/home/allenwu/anaconda3/envs/marllib/lib/python3.8/site-packages/ray/rllib/utils/metrics/learner_info.py:64: RuntimeWarning: Mean of empty slice\n",
      "  lambda *s: None if s[0] is None else np.nanmean(s, axis=0),\n",
      "/home/allenwu/anaconda3/envs/marllib/lib/python3.8/site-packages/ray/rllib/utils/metrics/learner_info.py:64: RuntimeWarning: Mean of empty slice\n",
      "  lambda *s: None if s[0] is None else np.nanmean(s, axis=0),\n",
      "/home/allenwu/anaconda3/envs/marllib/lib/python3.8/site-packages/ray/rllib/utils/metrics/learner_info.py:64: RuntimeWarning: Mean of empty slice\n",
      "  lambda *s: None if s[0] is None else np.nanmean(s, axis=0),\n",
      "/home/allenwu/anaconda3/envs/marllib/lib/python3.8/site-packages/ray/rllib/utils/metrics/learner_info.py:64: RuntimeWarning: Mean of empty slice\n",
      "  lambda *s: None if s[0] is None else np.nanmean(s, axis=0),\n",
      "/home/allenwu/anaconda3/envs/marllib/lib/python3.8/site-packages/ray/rllib/utils/metrics/learner_info.py:64: RuntimeWarning: Mean of empty slice\n",
      "  lambda *s: None if s[0] is None else np.nanmean(s, axis=0),\n",
      "/home/allenwu/anaconda3/envs/marllib/lib/python3.8/site-packages/ray/rllib/utils/metrics/learner_info.py:64: RuntimeWarning: Mean of empty slice\n",
      "  lambda *s: None if s[0] is None else np.nanmean(s, axis=0),\n",
      "/home/allenwu/anaconda3/envs/marllib/lib/python3.8/site-packages/ray/rllib/utils/metrics/learner_info.py:64: RuntimeWarning: Mean of empty slice\n",
      "  lambda *s: None if s[0] is None else np.nanmean(s, axis=0),\n"
     ]
    },
    {
     "name": "stdout",
     "output_type": "stream",
     "text": [
      "== Status ==\n",
      "Current time: 2023-09-21 02:12:47 (running for 00:29:39.19)\n",
      "Memory usage on this node: 16.4/31.2 GiB\n",
      "Using FIFO scheduling algorithm.\n",
      "Resources requested: 3.0/24 CPUs, 1.0/0 GPUs, 0.0/15.61 GiB heap, 0.0/7.8 GiB objects (0.0/1.0 accelerator_type:G)\n",
      "Result logdir: /home/allenwu/Desktop/work/MARLlib-1.0.3/exp_results/happo_gru_CityLearn_5e-07_0.0005_APPEND-DATA_seed-2\n",
      "Number of trials: 1/1 (1 RUNNING)\n",
      "\n",
      "\n"
     ]
    },
    {
     "name": "stderr",
     "output_type": "stream",
     "text": [
      "/home/allenwu/anaconda3/envs/marllib/lib/python3.8/site-packages/ray/rllib/utils/metrics/learner_info.py:64: RuntimeWarning: Mean of empty slice\n",
      "  lambda *s: None if s[0] is None else np.nanmean(s, axis=0),\n",
      "/home/allenwu/anaconda3/envs/marllib/lib/python3.8/site-packages/ray/rllib/utils/metrics/learner_info.py:64: RuntimeWarning: Mean of empty slice\n",
      "  lambda *s: None if s[0] is None else np.nanmean(s, axis=0),\n",
      "/home/allenwu/anaconda3/envs/marllib/lib/python3.8/site-packages/ray/rllib/utils/metrics/learner_info.py:64: RuntimeWarning: Mean of empty slice\n",
      "  lambda *s: None if s[0] is None else np.nanmean(s, axis=0),\n",
      "/home/allenwu/anaconda3/envs/marllib/lib/python3.8/site-packages/ray/rllib/utils/metrics/learner_info.py:64: RuntimeWarning: Mean of empty slice\n",
      "  lambda *s: None if s[0] is None else np.nanmean(s, axis=0),\n",
      "/home/allenwu/anaconda3/envs/marllib/lib/python3.8/site-packages/ray/rllib/utils/metrics/learner_info.py:64: RuntimeWarning: Mean of empty slice\n",
      "  lambda *s: None if s[0] is None else np.nanmean(s, axis=0),\n",
      "/home/allenwu/anaconda3/envs/marllib/lib/python3.8/site-packages/ray/rllib/utils/metrics/learner_info.py:64: RuntimeWarning: Mean of empty slice\n",
      "  lambda *s: None if s[0] is None else np.nanmean(s, axis=0),\n",
      "/home/allenwu/anaconda3/envs/marllib/lib/python3.8/site-packages/ray/rllib/utils/metrics/learner_info.py:64: RuntimeWarning: Mean of empty slice\n",
      "  lambda *s: None if s[0] is None else np.nanmean(s, axis=0),\n",
      "/home/allenwu/anaconda3/envs/marllib/lib/python3.8/site-packages/ray/rllib/utils/metrics/learner_info.py:64: RuntimeWarning: Mean of empty slice\n",
      "  lambda *s: None if s[0] is None else np.nanmean(s, axis=0),\n",
      "/home/allenwu/anaconda3/envs/marllib/lib/python3.8/site-packages/ray/rllib/utils/metrics/learner_info.py:64: RuntimeWarning: Mean of empty slice\n",
      "  lambda *s: None if s[0] is None else np.nanmean(s, axis=0),\n"
     ]
    },
    {
     "name": "stdout",
     "output_type": "stream",
     "text": [
      "== Status ==\n",
      "Current time: 2023-09-21 02:12:53 (running for 00:29:44.36)\n",
      "Memory usage on this node: 16.5/31.2 GiB\n",
      "Using FIFO scheduling algorithm.\n",
      "Resources requested: 3.0/24 CPUs, 1.0/0 GPUs, 0.0/15.61 GiB heap, 0.0/7.8 GiB objects (0.0/1.0 accelerator_type:G)\n",
      "Result logdir: /home/allenwu/Desktop/work/MARLlib-1.0.3/exp_results/happo_gru_CityLearn_5e-07_0.0005_APPEND-DATA_seed-2\n",
      "Number of trials: 1/1 (1 RUNNING)\n",
      "\n",
      "\n"
     ]
    },
    {
     "name": "stderr",
     "output_type": "stream",
     "text": [
      "/home/allenwu/anaconda3/envs/marllib/lib/python3.8/site-packages/ray/rllib/utils/metrics/learner_info.py:64: RuntimeWarning: Mean of empty slice\n",
      "  lambda *s: None if s[0] is None else np.nanmean(s, axis=0),\n",
      "/home/allenwu/anaconda3/envs/marllib/lib/python3.8/site-packages/ray/rllib/utils/metrics/learner_info.py:64: RuntimeWarning: Mean of empty slice\n",
      "  lambda *s: None if s[0] is None else np.nanmean(s, axis=0),\n",
      "/home/allenwu/anaconda3/envs/marllib/lib/python3.8/site-packages/ray/rllib/utils/metrics/learner_info.py:64: RuntimeWarning: Mean of empty slice\n",
      "  lambda *s: None if s[0] is None else np.nanmean(s, axis=0),\n",
      "/home/allenwu/anaconda3/envs/marllib/lib/python3.8/site-packages/ray/rllib/utils/metrics/learner_info.py:64: RuntimeWarning: Mean of empty slice\n",
      "  lambda *s: None if s[0] is None else np.nanmean(s, axis=0),\n",
      "/home/allenwu/anaconda3/envs/marllib/lib/python3.8/site-packages/ray/rllib/utils/metrics/learner_info.py:64: RuntimeWarning: Mean of empty slice\n",
      "  lambda *s: None if s[0] is None else np.nanmean(s, axis=0),\n",
      "/home/allenwu/anaconda3/envs/marllib/lib/python3.8/site-packages/ray/rllib/utils/metrics/learner_info.py:64: RuntimeWarning: Mean of empty slice\n",
      "  lambda *s: None if s[0] is None else np.nanmean(s, axis=0),\n",
      "/home/allenwu/anaconda3/envs/marllib/lib/python3.8/site-packages/ray/rllib/utils/metrics/learner_info.py:64: RuntimeWarning: Mean of empty slice\n",
      "  lambda *s: None if s[0] is None else np.nanmean(s, axis=0),\n",
      "/home/allenwu/anaconda3/envs/marllib/lib/python3.8/site-packages/ray/rllib/utils/metrics/learner_info.py:64: RuntimeWarning: Mean of empty slice\n",
      "  lambda *s: None if s[0] is None else np.nanmean(s, axis=0),\n",
      "/home/allenwu/anaconda3/envs/marllib/lib/python3.8/site-packages/ray/rllib/utils/metrics/learner_info.py:64: RuntimeWarning: Mean of empty slice\n",
      "  lambda *s: None if s[0] is None else np.nanmean(s, axis=0),\n",
      "/home/allenwu/anaconda3/envs/marllib/lib/python3.8/site-packages/ray/rllib/utils/metrics/learner_info.py:64: RuntimeWarning: Mean of empty slice\n",
      "  lambda *s: None if s[0] is None else np.nanmean(s, axis=0),\n"
     ]
    },
    {
     "name": "stdout",
     "output_type": "stream",
     "text": [
      "== Status ==\n",
      "Current time: 2023-09-21 02:12:58 (running for 00:29:49.52)\n",
      "Memory usage on this node: 16.4/31.2 GiB\n",
      "Using FIFO scheduling algorithm.\n",
      "Resources requested: 3.0/24 CPUs, 1.0/0 GPUs, 0.0/15.61 GiB heap, 0.0/7.8 GiB objects (0.0/1.0 accelerator_type:G)\n",
      "Result logdir: /home/allenwu/Desktop/work/MARLlib-1.0.3/exp_results/happo_gru_CityLearn_5e-07_0.0005_APPEND-DATA_seed-2\n",
      "Number of trials: 1/1 (1 RUNNING)\n",
      "\n",
      "\n"
     ]
    },
    {
     "name": "stderr",
     "output_type": "stream",
     "text": [
      "/home/allenwu/anaconda3/envs/marllib/lib/python3.8/site-packages/ray/rllib/utils/metrics/learner_info.py:64: RuntimeWarning: Mean of empty slice\n",
      "  lambda *s: None if s[0] is None else np.nanmean(s, axis=0),\n",
      "/home/allenwu/anaconda3/envs/marllib/lib/python3.8/site-packages/ray/rllib/utils/metrics/learner_info.py:64: RuntimeWarning: Mean of empty slice\n",
      "  lambda *s: None if s[0] is None else np.nanmean(s, axis=0),\n",
      "/home/allenwu/anaconda3/envs/marllib/lib/python3.8/site-packages/ray/rllib/utils/metrics/learner_info.py:64: RuntimeWarning: Mean of empty slice\n",
      "  lambda *s: None if s[0] is None else np.nanmean(s, axis=0),\n",
      "/home/allenwu/anaconda3/envs/marllib/lib/python3.8/site-packages/ray/rllib/utils/metrics/learner_info.py:64: RuntimeWarning: Mean of empty slice\n",
      "  lambda *s: None if s[0] is None else np.nanmean(s, axis=0),\n",
      "/home/allenwu/anaconda3/envs/marllib/lib/python3.8/site-packages/ray/rllib/utils/metrics/learner_info.py:64: RuntimeWarning: Mean of empty slice\n",
      "  lambda *s: None if s[0] is None else np.nanmean(s, axis=0),\n",
      "/home/allenwu/anaconda3/envs/marllib/lib/python3.8/site-packages/ray/rllib/utils/metrics/learner_info.py:64: RuntimeWarning: Mean of empty slice\n",
      "  lambda *s: None if s[0] is None else np.nanmean(s, axis=0),\n",
      "/home/allenwu/anaconda3/envs/marllib/lib/python3.8/site-packages/ray/rllib/utils/metrics/learner_info.py:64: RuntimeWarning: Mean of empty slice\n",
      "  lambda *s: None if s[0] is None else np.nanmean(s, axis=0),\n",
      "/home/allenwu/anaconda3/envs/marllib/lib/python3.8/site-packages/ray/rllib/utils/metrics/learner_info.py:64: RuntimeWarning: Mean of empty slice\n",
      "  lambda *s: None if s[0] is None else np.nanmean(s, axis=0),\n",
      "/home/allenwu/anaconda3/envs/marllib/lib/python3.8/site-packages/ray/rllib/utils/metrics/learner_info.py:64: RuntimeWarning: Mean of empty slice\n",
      "  lambda *s: None if s[0] is None else np.nanmean(s, axis=0),\n",
      "/home/allenwu/anaconda3/envs/marllib/lib/python3.8/site-packages/ray/rllib/utils/metrics/learner_info.py:64: RuntimeWarning: Mean of empty slice\n",
      "  lambda *s: None if s[0] is None else np.nanmean(s, axis=0),\n",
      "/home/allenwu/anaconda3/envs/marllib/lib/python3.8/site-packages/ray/rllib/utils/metrics/learner_info.py:64: RuntimeWarning: Mean of empty slice\n",
      "  lambda *s: None if s[0] is None else np.nanmean(s, axis=0),\n"
     ]
    },
    {
     "name": "stdout",
     "output_type": "stream",
     "text": [
      "== Status ==\n",
      "Current time: 2023-09-21 02:13:03 (running for 00:29:54.63)\n",
      "Memory usage on this node: 16.5/31.2 GiB\n",
      "Using FIFO scheduling algorithm.\n",
      "Resources requested: 3.0/24 CPUs, 1.0/0 GPUs, 0.0/15.61 GiB heap, 0.0/7.8 GiB objects (0.0/1.0 accelerator_type:G)\n",
      "Result logdir: /home/allenwu/Desktop/work/MARLlib-1.0.3/exp_results/happo_gru_CityLearn_5e-07_0.0005_APPEND-DATA_seed-2\n",
      "Number of trials: 1/1 (1 RUNNING)\n",
      "\n",
      "\n"
     ]
    },
    {
     "name": "stderr",
     "output_type": "stream",
     "text": [
      "/home/allenwu/anaconda3/envs/marllib/lib/python3.8/site-packages/ray/rllib/utils/metrics/learner_info.py:64: RuntimeWarning: Mean of empty slice\n",
      "  lambda *s: None if s[0] is None else np.nanmean(s, axis=0),\n",
      "/home/allenwu/anaconda3/envs/marllib/lib/python3.8/site-packages/ray/rllib/utils/metrics/learner_info.py:64: RuntimeWarning: Mean of empty slice\n",
      "  lambda *s: None if s[0] is None else np.nanmean(s, axis=0),\n",
      "/home/allenwu/anaconda3/envs/marllib/lib/python3.8/site-packages/ray/rllib/utils/metrics/learner_info.py:64: RuntimeWarning: Mean of empty slice\n",
      "  lambda *s: None if s[0] is None else np.nanmean(s, axis=0),\n",
      "/home/allenwu/anaconda3/envs/marllib/lib/python3.8/site-packages/ray/rllib/utils/metrics/learner_info.py:64: RuntimeWarning: Mean of empty slice\n",
      "  lambda *s: None if s[0] is None else np.nanmean(s, axis=0),\n",
      "/home/allenwu/anaconda3/envs/marllib/lib/python3.8/site-packages/ray/rllib/utils/metrics/learner_info.py:64: RuntimeWarning: Mean of empty slice\n",
      "  lambda *s: None if s[0] is None else np.nanmean(s, axis=0),\n",
      "/home/allenwu/anaconda3/envs/marllib/lib/python3.8/site-packages/ray/rllib/utils/metrics/learner_info.py:64: RuntimeWarning: Mean of empty slice\n",
      "  lambda *s: None if s[0] is None else np.nanmean(s, axis=0),\n",
      "/home/allenwu/anaconda3/envs/marllib/lib/python3.8/site-packages/ray/rllib/utils/metrics/learner_info.py:64: RuntimeWarning: Mean of empty slice\n",
      "  lambda *s: None if s[0] is None else np.nanmean(s, axis=0),\n",
      "/home/allenwu/anaconda3/envs/marllib/lib/python3.8/site-packages/ray/rllib/utils/metrics/learner_info.py:64: RuntimeWarning: Mean of empty slice\n",
      "  lambda *s: None if s[0] is None else np.nanmean(s, axis=0),\n"
     ]
    },
    {
     "name": "stdout",
     "output_type": "stream",
     "text": [
      "== Status ==\n",
      "Current time: 2023-09-21 02:13:08 (running for 00:29:59.81)\n",
      "Memory usage on this node: 16.5/31.2 GiB\n",
      "Using FIFO scheduling algorithm.\n",
      "Resources requested: 3.0/24 CPUs, 1.0/0 GPUs, 0.0/15.61 GiB heap, 0.0/7.8 GiB objects (0.0/1.0 accelerator_type:G)\n",
      "Result logdir: /home/allenwu/Desktop/work/MARLlib-1.0.3/exp_results/happo_gru_CityLearn_5e-07_0.0005_APPEND-DATA_seed-2\n",
      "Number of trials: 1/1 (1 RUNNING)\n",
      "\n",
      "\n"
     ]
    },
    {
     "name": "stderr",
     "output_type": "stream",
     "text": [
      "/home/allenwu/anaconda3/envs/marllib/lib/python3.8/site-packages/ray/rllib/utils/metrics/learner_info.py:64: RuntimeWarning: Mean of empty slice\n",
      "  lambda *s: None if s[0] is None else np.nanmean(s, axis=0),\n",
      "/home/allenwu/anaconda3/envs/marllib/lib/python3.8/site-packages/ray/rllib/utils/metrics/learner_info.py:64: RuntimeWarning: Mean of empty slice\n",
      "  lambda *s: None if s[0] is None else np.nanmean(s, axis=0),\n",
      "/home/allenwu/anaconda3/envs/marllib/lib/python3.8/site-packages/ray/rllib/utils/metrics/learner_info.py:64: RuntimeWarning: Mean of empty slice\n",
      "  lambda *s: None if s[0] is None else np.nanmean(s, axis=0),\n",
      "/home/allenwu/anaconda3/envs/marllib/lib/python3.8/site-packages/ray/rllib/utils/metrics/learner_info.py:64: RuntimeWarning: Mean of empty slice\n",
      "  lambda *s: None if s[0] is None else np.nanmean(s, axis=0),\n",
      "/home/allenwu/anaconda3/envs/marllib/lib/python3.8/site-packages/ray/rllib/utils/metrics/learner_info.py:64: RuntimeWarning: Mean of empty slice\n",
      "  lambda *s: None if s[0] is None else np.nanmean(s, axis=0),\n",
      "/home/allenwu/anaconda3/envs/marllib/lib/python3.8/site-packages/ray/rllib/utils/metrics/learner_info.py:64: RuntimeWarning: Mean of empty slice\n",
      "  lambda *s: None if s[0] is None else np.nanmean(s, axis=0),\n",
      "/home/allenwu/anaconda3/envs/marllib/lib/python3.8/site-packages/ray/rllib/utils/metrics/learner_info.py:64: RuntimeWarning: Mean of empty slice\n",
      "  lambda *s: None if s[0] is None else np.nanmean(s, axis=0),\n",
      "/home/allenwu/anaconda3/envs/marllib/lib/python3.8/site-packages/ray/rllib/utils/metrics/learner_info.py:64: RuntimeWarning: Mean of empty slice\n",
      "  lambda *s: None if s[0] is None else np.nanmean(s, axis=0),\n",
      "/home/allenwu/anaconda3/envs/marllib/lib/python3.8/site-packages/ray/rllib/utils/metrics/learner_info.py:64: RuntimeWarning: Mean of empty slice\n",
      "  lambda *s: None if s[0] is None else np.nanmean(s, axis=0),\n"
     ]
    },
    {
     "name": "stdout",
     "output_type": "stream",
     "text": [
      "== Status ==\n",
      "Current time: 2023-09-21 02:13:13 (running for 00:30:04.97)\n",
      "Memory usage on this node: 16.6/31.2 GiB\n",
      "Using FIFO scheduling algorithm.\n",
      "Resources requested: 3.0/24 CPUs, 1.0/0 GPUs, 0.0/15.61 GiB heap, 0.0/7.8 GiB objects (0.0/1.0 accelerator_type:G)\n",
      "Result logdir: /home/allenwu/Desktop/work/MARLlib-1.0.3/exp_results/happo_gru_CityLearn_5e-07_0.0005_APPEND-DATA_seed-2\n",
      "Number of trials: 1/1 (1 RUNNING)\n",
      "\n",
      "\n"
     ]
    },
    {
     "name": "stderr",
     "output_type": "stream",
     "text": [
      "/home/allenwu/anaconda3/envs/marllib/lib/python3.8/site-packages/ray/rllib/utils/metrics/learner_info.py:64: RuntimeWarning: Mean of empty slice\n",
      "  lambda *s: None if s[0] is None else np.nanmean(s, axis=0),\n",
      "/home/allenwu/anaconda3/envs/marllib/lib/python3.8/site-packages/ray/rllib/utils/metrics/learner_info.py:64: RuntimeWarning: Mean of empty slice\n",
      "  lambda *s: None if s[0] is None else np.nanmean(s, axis=0),\n",
      "/home/allenwu/anaconda3/envs/marllib/lib/python3.8/site-packages/ray/rllib/utils/metrics/learner_info.py:64: RuntimeWarning: Mean of empty slice\n",
      "  lambda *s: None if s[0] is None else np.nanmean(s, axis=0),\n",
      "2023-09-21 02:13:15,983\tWARNING ray_trial_executor.py:768 -- Over the last 60 seconds, the Tune event loop has been backlogged processing new results. Consider increasing your period of result reporting to improve performance.\n",
      "/home/allenwu/anaconda3/envs/marllib/lib/python3.8/site-packages/ray/rllib/utils/metrics/learner_info.py:64: RuntimeWarning: Mean of empty slice\n",
      "  lambda *s: None if s[0] is None else np.nanmean(s, axis=0),\n",
      "/home/allenwu/anaconda3/envs/marllib/lib/python3.8/site-packages/ray/rllib/utils/metrics/learner_info.py:64: RuntimeWarning: Mean of empty slice\n",
      "  lambda *s: None if s[0] is None else np.nanmean(s, axis=0),\n",
      "/home/allenwu/anaconda3/envs/marllib/lib/python3.8/site-packages/ray/rllib/utils/metrics/learner_info.py:64: RuntimeWarning: Mean of empty slice\n",
      "  lambda *s: None if s[0] is None else np.nanmean(s, axis=0),\n",
      "/home/allenwu/anaconda3/envs/marllib/lib/python3.8/site-packages/ray/rllib/utils/metrics/learner_info.py:64: RuntimeWarning: Mean of empty slice\n",
      "  lambda *s: None if s[0] is None else np.nanmean(s, axis=0),\n",
      "/home/allenwu/anaconda3/envs/marllib/lib/python3.8/site-packages/ray/rllib/utils/metrics/learner_info.py:64: RuntimeWarning: Mean of empty slice\n",
      "  lambda *s: None if s[0] is None else np.nanmean(s, axis=0),\n",
      "/home/allenwu/anaconda3/envs/marllib/lib/python3.8/site-packages/ray/rllib/utils/metrics/learner_info.py:64: RuntimeWarning: Mean of empty slice\n",
      "  lambda *s: None if s[0] is None else np.nanmean(s, axis=0),\n",
      "/home/allenwu/anaconda3/envs/marllib/lib/python3.8/site-packages/ray/rllib/utils/metrics/learner_info.py:64: RuntimeWarning: Mean of empty slice\n",
      "  lambda *s: None if s[0] is None else np.nanmean(s, axis=0),\n"
     ]
    },
    {
     "name": "stdout",
     "output_type": "stream",
     "text": [
      "== Status ==\n",
      "Current time: 2023-09-21 02:13:19 (running for 00:30:10.38)\n",
      "Memory usage on this node: 16.6/31.2 GiB\n",
      "Using FIFO scheduling algorithm.\n",
      "Resources requested: 3.0/24 CPUs, 1.0/0 GPUs, 0.0/15.61 GiB heap, 0.0/7.8 GiB objects (0.0/1.0 accelerator_type:G)\n",
      "Result logdir: /home/allenwu/Desktop/work/MARLlib-1.0.3/exp_results/happo_gru_CityLearn_5e-07_0.0005_APPEND-DATA_seed-2\n",
      "Number of trials: 1/1 (1 RUNNING)\n",
      "\n",
      "\n"
     ]
    },
    {
     "name": "stderr",
     "output_type": "stream",
     "text": [
      "/home/allenwu/anaconda3/envs/marllib/lib/python3.8/site-packages/ray/rllib/utils/metrics/learner_info.py:64: RuntimeWarning: Mean of empty slice\n",
      "  lambda *s: None if s[0] is None else np.nanmean(s, axis=0),\n",
      "/home/allenwu/anaconda3/envs/marllib/lib/python3.8/site-packages/ray/rllib/utils/metrics/learner_info.py:64: RuntimeWarning: Mean of empty slice\n",
      "  lambda *s: None if s[0] is None else np.nanmean(s, axis=0),\n",
      "/home/allenwu/anaconda3/envs/marllib/lib/python3.8/site-packages/ray/rllib/utils/metrics/learner_info.py:64: RuntimeWarning: Mean of empty slice\n",
      "  lambda *s: None if s[0] is None else np.nanmean(s, axis=0),\n",
      "/home/allenwu/anaconda3/envs/marllib/lib/python3.8/site-packages/ray/rllib/utils/metrics/learner_info.py:64: RuntimeWarning: Mean of empty slice\n",
      "  lambda *s: None if s[0] is None else np.nanmean(s, axis=0),\n",
      "/home/allenwu/anaconda3/envs/marllib/lib/python3.8/site-packages/ray/rllib/utils/metrics/learner_info.py:64: RuntimeWarning: Mean of empty slice\n",
      "  lambda *s: None if s[0] is None else np.nanmean(s, axis=0),\n",
      "/home/allenwu/anaconda3/envs/marllib/lib/python3.8/site-packages/ray/rllib/utils/metrics/learner_info.py:64: RuntimeWarning: Mean of empty slice\n",
      "  lambda *s: None if s[0] is None else np.nanmean(s, axis=0),\n",
      "/home/allenwu/anaconda3/envs/marllib/lib/python3.8/site-packages/ray/rllib/utils/metrics/learner_info.py:64: RuntimeWarning: Mean of empty slice\n",
      "  lambda *s: None if s[0] is None else np.nanmean(s, axis=0),\n",
      "/home/allenwu/anaconda3/envs/marllib/lib/python3.8/site-packages/ray/rllib/utils/metrics/learner_info.py:64: RuntimeWarning: Mean of empty slice\n",
      "  lambda *s: None if s[0] is None else np.nanmean(s, axis=0),\n",
      "/home/allenwu/anaconda3/envs/marllib/lib/python3.8/site-packages/ray/rllib/utils/metrics/learner_info.py:64: RuntimeWarning: Mean of empty slice\n",
      "  lambda *s: None if s[0] is None else np.nanmean(s, axis=0),\n"
     ]
    },
    {
     "name": "stdout",
     "output_type": "stream",
     "text": [
      "== Status ==\n",
      "Current time: 2023-09-21 02:13:24 (running for 00:30:15.70)\n",
      "Memory usage on this node: 16.6/31.2 GiB\n",
      "Using FIFO scheduling algorithm.\n",
      "Resources requested: 3.0/24 CPUs, 1.0/0 GPUs, 0.0/15.61 GiB heap, 0.0/7.8 GiB objects (0.0/1.0 accelerator_type:G)\n",
      "Result logdir: /home/allenwu/Desktop/work/MARLlib-1.0.3/exp_results/happo_gru_CityLearn_5e-07_0.0005_APPEND-DATA_seed-2\n",
      "Number of trials: 1/1 (1 RUNNING)\n",
      "\n",
      "\n"
     ]
    },
    {
     "name": "stderr",
     "output_type": "stream",
     "text": [
      "/home/allenwu/anaconda3/envs/marllib/lib/python3.8/site-packages/ray/rllib/utils/metrics/learner_info.py:64: RuntimeWarning: Mean of empty slice\n",
      "  lambda *s: None if s[0] is None else np.nanmean(s, axis=0),\n",
      "/home/allenwu/anaconda3/envs/marllib/lib/python3.8/site-packages/ray/rllib/utils/metrics/learner_info.py:64: RuntimeWarning: Mean of empty slice\n",
      "  lambda *s: None if s[0] is None else np.nanmean(s, axis=0),\n",
      "/home/allenwu/anaconda3/envs/marllib/lib/python3.8/site-packages/ray/rllib/utils/metrics/learner_info.py:64: RuntimeWarning: Mean of empty slice\n",
      "  lambda *s: None if s[0] is None else np.nanmean(s, axis=0),\n",
      "/home/allenwu/anaconda3/envs/marllib/lib/python3.8/site-packages/ray/rllib/utils/metrics/learner_info.py:64: RuntimeWarning: Mean of empty slice\n",
      "  lambda *s: None if s[0] is None else np.nanmean(s, axis=0),\n",
      "/home/allenwu/anaconda3/envs/marllib/lib/python3.8/site-packages/ray/rllib/utils/metrics/learner_info.py:64: RuntimeWarning: Mean of empty slice\n",
      "  lambda *s: None if s[0] is None else np.nanmean(s, axis=0),\n",
      "/home/allenwu/anaconda3/envs/marllib/lib/python3.8/site-packages/ray/rllib/utils/metrics/learner_info.py:64: RuntimeWarning: Mean of empty slice\n",
      "  lambda *s: None if s[0] is None else np.nanmean(s, axis=0),\n",
      "/home/allenwu/anaconda3/envs/marllib/lib/python3.8/site-packages/ray/rllib/utils/metrics/learner_info.py:64: RuntimeWarning: Mean of empty slice\n",
      "  lambda *s: None if s[0] is None else np.nanmean(s, axis=0),\n",
      "/home/allenwu/anaconda3/envs/marllib/lib/python3.8/site-packages/ray/rllib/utils/metrics/learner_info.py:64: RuntimeWarning: Mean of empty slice\n",
      "  lambda *s: None if s[0] is None else np.nanmean(s, axis=0),\n",
      "/home/allenwu/anaconda3/envs/marllib/lib/python3.8/site-packages/ray/rllib/utils/metrics/learner_info.py:64: RuntimeWarning: Mean of empty slice\n",
      "  lambda *s: None if s[0] is None else np.nanmean(s, axis=0),\n"
     ]
    },
    {
     "name": "stdout",
     "output_type": "stream",
     "text": [
      "== Status ==\n",
      "Current time: 2023-09-21 02:13:29 (running for 00:30:21.03)\n",
      "Memory usage on this node: 16.6/31.2 GiB\n",
      "Using FIFO scheduling algorithm.\n",
      "Resources requested: 3.0/24 CPUs, 1.0/0 GPUs, 0.0/15.61 GiB heap, 0.0/7.8 GiB objects (0.0/1.0 accelerator_type:G)\n",
      "Result logdir: /home/allenwu/Desktop/work/MARLlib-1.0.3/exp_results/happo_gru_CityLearn_5e-07_0.0005_APPEND-DATA_seed-2\n",
      "Number of trials: 1/1 (1 RUNNING)\n",
      "\n",
      "\n"
     ]
    },
    {
     "name": "stderr",
     "output_type": "stream",
     "text": [
      "/home/allenwu/anaconda3/envs/marllib/lib/python3.8/site-packages/ray/rllib/utils/metrics/learner_info.py:64: RuntimeWarning: Mean of empty slice\n",
      "  lambda *s: None if s[0] is None else np.nanmean(s, axis=0),\n",
      "/home/allenwu/anaconda3/envs/marllib/lib/python3.8/site-packages/ray/rllib/utils/metrics/learner_info.py:64: RuntimeWarning: Mean of empty slice\n",
      "  lambda *s: None if s[0] is None else np.nanmean(s, axis=0),\n",
      "/home/allenwu/anaconda3/envs/marllib/lib/python3.8/site-packages/ray/rllib/utils/metrics/learner_info.py:64: RuntimeWarning: Mean of empty slice\n",
      "  lambda *s: None if s[0] is None else np.nanmean(s, axis=0),\n",
      "/home/allenwu/anaconda3/envs/marllib/lib/python3.8/site-packages/ray/rllib/utils/metrics/learner_info.py:64: RuntimeWarning: Mean of empty slice\n",
      "  lambda *s: None if s[0] is None else np.nanmean(s, axis=0),\n",
      "/home/allenwu/anaconda3/envs/marllib/lib/python3.8/site-packages/ray/rllib/utils/metrics/learner_info.py:64: RuntimeWarning: Mean of empty slice\n",
      "  lambda *s: None if s[0] is None else np.nanmean(s, axis=0),\n"
     ]
    },
    {
     "name": "stdout",
     "output_type": "stream",
     "text": [
      "== Status ==\n",
      "Current time: 2023-09-21 02:13:35 (running for 00:30:26.36)\n",
      "Memory usage on this node: 16.7/31.2 GiB\n",
      "Using FIFO scheduling algorithm.\n",
      "Resources requested: 3.0/24 CPUs, 1.0/0 GPUs, 0.0/15.61 GiB heap, 0.0/7.8 GiB objects (0.0/1.0 accelerator_type:G)\n",
      "Result logdir: /home/allenwu/Desktop/work/MARLlib-1.0.3/exp_results/happo_gru_CityLearn_5e-07_0.0005_APPEND-DATA_seed-2\n",
      "Number of trials: 1/1 (1 RUNNING)\n",
      "\n",
      "\n"
     ]
    },
    {
     "name": "stderr",
     "output_type": "stream",
     "text": [
      "/home/allenwu/anaconda3/envs/marllib/lib/python3.8/site-packages/ray/rllib/utils/metrics/learner_info.py:64: RuntimeWarning: Mean of empty slice\n",
      "  lambda *s: None if s[0] is None else np.nanmean(s, axis=0),\n",
      "/home/allenwu/anaconda3/envs/marllib/lib/python3.8/site-packages/ray/rllib/utils/metrics/learner_info.py:64: RuntimeWarning: Mean of empty slice\n",
      "  lambda *s: None if s[0] is None else np.nanmean(s, axis=0),\n",
      "/home/allenwu/anaconda3/envs/marllib/lib/python3.8/site-packages/ray/rllib/utils/metrics/learner_info.py:64: RuntimeWarning: Mean of empty slice\n",
      "  lambda *s: None if s[0] is None else np.nanmean(s, axis=0),\n",
      "/home/allenwu/anaconda3/envs/marllib/lib/python3.8/site-packages/ray/rllib/utils/metrics/learner_info.py:64: RuntimeWarning: Mean of empty slice\n",
      "  lambda *s: None if s[0] is None else np.nanmean(s, axis=0),\n",
      "/home/allenwu/anaconda3/envs/marllib/lib/python3.8/site-packages/ray/rllib/utils/metrics/learner_info.py:64: RuntimeWarning: Mean of empty slice\n",
      "  lambda *s: None if s[0] is None else np.nanmean(s, axis=0),\n",
      "/home/allenwu/anaconda3/envs/marllib/lib/python3.8/site-packages/ray/rllib/utils/metrics/learner_info.py:64: RuntimeWarning: Mean of empty slice\n",
      "  lambda *s: None if s[0] is None else np.nanmean(s, axis=0),\n",
      "/home/allenwu/anaconda3/envs/marllib/lib/python3.8/site-packages/ray/rllib/utils/metrics/learner_info.py:64: RuntimeWarning: Mean of empty slice\n",
      "  lambda *s: None if s[0] is None else np.nanmean(s, axis=0),\n",
      "/home/allenwu/anaconda3/envs/marllib/lib/python3.8/site-packages/ray/rllib/utils/metrics/learner_info.py:64: RuntimeWarning: Mean of empty slice\n",
      "  lambda *s: None if s[0] is None else np.nanmean(s, axis=0),\n",
      "/home/allenwu/anaconda3/envs/marllib/lib/python3.8/site-packages/ray/rllib/utils/metrics/learner_info.py:64: RuntimeWarning: Mean of empty slice\n",
      "  lambda *s: None if s[0] is None else np.nanmean(s, axis=0),\n"
     ]
    },
    {
     "name": "stdout",
     "output_type": "stream",
     "text": [
      "== Status ==\n",
      "Current time: 2023-09-21 02:13:40 (running for 00:30:31.73)\n",
      "Memory usage on this node: 16.7/31.2 GiB\n",
      "Using FIFO scheduling algorithm.\n",
      "Resources requested: 3.0/24 CPUs, 1.0/0 GPUs, 0.0/15.61 GiB heap, 0.0/7.8 GiB objects (0.0/1.0 accelerator_type:G)\n",
      "Result logdir: /home/allenwu/Desktop/work/MARLlib-1.0.3/exp_results/happo_gru_CityLearn_5e-07_0.0005_APPEND-DATA_seed-2\n",
      "Number of trials: 1/1 (1 RUNNING)\n",
      "\n",
      "\n"
     ]
    },
    {
     "name": "stderr",
     "output_type": "stream",
     "text": [
      "/home/allenwu/anaconda3/envs/marllib/lib/python3.8/site-packages/ray/rllib/utils/metrics/learner_info.py:64: RuntimeWarning: Mean of empty slice\n",
      "  lambda *s: None if s[0] is None else np.nanmean(s, axis=0),\n",
      "/home/allenwu/anaconda3/envs/marllib/lib/python3.8/site-packages/ray/rllib/utils/metrics/learner_info.py:64: RuntimeWarning: Mean of empty slice\n",
      "  lambda *s: None if s[0] is None else np.nanmean(s, axis=0),\n",
      "/home/allenwu/anaconda3/envs/marllib/lib/python3.8/site-packages/ray/rllib/utils/metrics/learner_info.py:64: RuntimeWarning: Mean of empty slice\n",
      "  lambda *s: None if s[0] is None else np.nanmean(s, axis=0),\n",
      "/home/allenwu/anaconda3/envs/marllib/lib/python3.8/site-packages/ray/rllib/utils/metrics/learner_info.py:64: RuntimeWarning: Mean of empty slice\n",
      "  lambda *s: None if s[0] is None else np.nanmean(s, axis=0),\n",
      "/home/allenwu/anaconda3/envs/marllib/lib/python3.8/site-packages/ray/rllib/utils/metrics/learner_info.py:64: RuntimeWarning: Mean of empty slice\n",
      "  lambda *s: None if s[0] is None else np.nanmean(s, axis=0),\n",
      "/home/allenwu/anaconda3/envs/marllib/lib/python3.8/site-packages/ray/rllib/utils/metrics/learner_info.py:64: RuntimeWarning: Mean of empty slice\n",
      "  lambda *s: None if s[0] is None else np.nanmean(s, axis=0),\n",
      "/home/allenwu/anaconda3/envs/marllib/lib/python3.8/site-packages/ray/rllib/utils/metrics/learner_info.py:64: RuntimeWarning: Mean of empty slice\n",
      "  lambda *s: None if s[0] is None else np.nanmean(s, axis=0),\n"
     ]
    },
    {
     "name": "stdout",
     "output_type": "stream",
     "text": [
      "== Status ==\n",
      "Current time: 2023-09-21 02:13:45 (running for 00:30:37.14)\n",
      "Memory usage on this node: 16.7/31.2 GiB\n",
      "Using FIFO scheduling algorithm.\n",
      "Resources requested: 3.0/24 CPUs, 1.0/0 GPUs, 0.0/15.61 GiB heap, 0.0/7.8 GiB objects (0.0/1.0 accelerator_type:G)\n",
      "Result logdir: /home/allenwu/Desktop/work/MARLlib-1.0.3/exp_results/happo_gru_CityLearn_5e-07_0.0005_APPEND-DATA_seed-2\n",
      "Number of trials: 1/1 (1 RUNNING)\n",
      "\n",
      "\n"
     ]
    },
    {
     "name": "stderr",
     "output_type": "stream",
     "text": [
      "/home/allenwu/anaconda3/envs/marllib/lib/python3.8/site-packages/ray/rllib/utils/metrics/learner_info.py:64: RuntimeWarning: Mean of empty slice\n",
      "  lambda *s: None if s[0] is None else np.nanmean(s, axis=0),\n",
      "/home/allenwu/anaconda3/envs/marllib/lib/python3.8/site-packages/ray/rllib/utils/metrics/learner_info.py:64: RuntimeWarning: Mean of empty slice\n",
      "  lambda *s: None if s[0] is None else np.nanmean(s, axis=0),\n",
      "/home/allenwu/anaconda3/envs/marllib/lib/python3.8/site-packages/ray/rllib/utils/metrics/learner_info.py:64: RuntimeWarning: Mean of empty slice\n",
      "  lambda *s: None if s[0] is None else np.nanmean(s, axis=0),\n",
      "/home/allenwu/anaconda3/envs/marllib/lib/python3.8/site-packages/ray/rllib/utils/metrics/learner_info.py:64: RuntimeWarning: Mean of empty slice\n",
      "  lambda *s: None if s[0] is None else np.nanmean(s, axis=0),\n",
      "/home/allenwu/anaconda3/envs/marllib/lib/python3.8/site-packages/ray/rllib/utils/metrics/learner_info.py:64: RuntimeWarning: Mean of empty slice\n",
      "  lambda *s: None if s[0] is None else np.nanmean(s, axis=0),\n",
      "/home/allenwu/anaconda3/envs/marllib/lib/python3.8/site-packages/ray/rllib/utils/metrics/learner_info.py:64: RuntimeWarning: Mean of empty slice\n",
      "  lambda *s: None if s[0] is None else np.nanmean(s, axis=0),\n",
      "/home/allenwu/anaconda3/envs/marllib/lib/python3.8/site-packages/ray/rllib/utils/metrics/learner_info.py:64: RuntimeWarning: Mean of empty slice\n",
      "  lambda *s: None if s[0] is None else np.nanmean(s, axis=0),\n",
      "/home/allenwu/anaconda3/envs/marllib/lib/python3.8/site-packages/ray/rllib/utils/metrics/learner_info.py:64: RuntimeWarning: Mean of empty slice\n",
      "  lambda *s: None if s[0] is None else np.nanmean(s, axis=0),\n",
      "/home/allenwu/anaconda3/envs/marllib/lib/python3.8/site-packages/ray/rllib/utils/metrics/learner_info.py:64: RuntimeWarning: Mean of empty slice\n",
      "  lambda *s: None if s[0] is None else np.nanmean(s, axis=0),\n",
      "/home/allenwu/anaconda3/envs/marllib/lib/python3.8/site-packages/ray/rllib/utils/metrics/learner_info.py:64: RuntimeWarning: Mean of empty slice\n",
      "  lambda *s: None if s[0] is None else np.nanmean(s, axis=0),\n"
     ]
    },
    {
     "name": "stdout",
     "output_type": "stream",
     "text": [
      "== Status ==\n",
      "Current time: 2023-09-21 02:13:51 (running for 00:30:42.55)\n",
      "Memory usage on this node: 16.7/31.2 GiB\n",
      "Using FIFO scheduling algorithm.\n",
      "Resources requested: 3.0/24 CPUs, 1.0/0 GPUs, 0.0/15.61 GiB heap, 0.0/7.8 GiB objects (0.0/1.0 accelerator_type:G)\n",
      "Result logdir: /home/allenwu/Desktop/work/MARLlib-1.0.3/exp_results/happo_gru_CityLearn_5e-07_0.0005_APPEND-DATA_seed-2\n",
      "Number of trials: 1/1 (1 RUNNING)\n",
      "\n",
      "\n"
     ]
    },
    {
     "name": "stderr",
     "output_type": "stream",
     "text": [
      "/home/allenwu/anaconda3/envs/marllib/lib/python3.8/site-packages/ray/rllib/utils/metrics/learner_info.py:64: RuntimeWarning: Mean of empty slice\n",
      "  lambda *s: None if s[0] is None else np.nanmean(s, axis=0),\n",
      "/home/allenwu/anaconda3/envs/marllib/lib/python3.8/site-packages/ray/rllib/utils/metrics/learner_info.py:64: RuntimeWarning: Mean of empty slice\n",
      "  lambda *s: None if s[0] is None else np.nanmean(s, axis=0),\n",
      "/home/allenwu/anaconda3/envs/marllib/lib/python3.8/site-packages/ray/rllib/utils/metrics/learner_info.py:64: RuntimeWarning: Mean of empty slice\n",
      "  lambda *s: None if s[0] is None else np.nanmean(s, axis=0),\n",
      "/home/allenwu/anaconda3/envs/marllib/lib/python3.8/site-packages/ray/rllib/utils/metrics/learner_info.py:64: RuntimeWarning: Mean of empty slice\n",
      "  lambda *s: None if s[0] is None else np.nanmean(s, axis=0),\n",
      "/home/allenwu/anaconda3/envs/marllib/lib/python3.8/site-packages/ray/rllib/utils/metrics/learner_info.py:64: RuntimeWarning: Mean of empty slice\n",
      "  lambda *s: None if s[0] is None else np.nanmean(s, axis=0),\n",
      "/home/allenwu/anaconda3/envs/marllib/lib/python3.8/site-packages/ray/rllib/utils/metrics/learner_info.py:64: RuntimeWarning: Mean of empty slice\n",
      "  lambda *s: None if s[0] is None else np.nanmean(s, axis=0),\n",
      "/home/allenwu/anaconda3/envs/marllib/lib/python3.8/site-packages/ray/rllib/utils/metrics/learner_info.py:64: RuntimeWarning: Mean of empty slice\n",
      "  lambda *s: None if s[0] is None else np.nanmean(s, axis=0),\n",
      "/home/allenwu/anaconda3/envs/marllib/lib/python3.8/site-packages/ray/rllib/utils/metrics/learner_info.py:64: RuntimeWarning: Mean of empty slice\n",
      "  lambda *s: None if s[0] is None else np.nanmean(s, axis=0),\n",
      "/home/allenwu/anaconda3/envs/marllib/lib/python3.8/site-packages/ray/rllib/utils/metrics/learner_info.py:64: RuntimeWarning: Mean of empty slice\n",
      "  lambda *s: None if s[0] is None else np.nanmean(s, axis=0),\n",
      "/home/allenwu/anaconda3/envs/marllib/lib/python3.8/site-packages/ray/rllib/utils/metrics/learner_info.py:64: RuntimeWarning: Mean of empty slice\n",
      "  lambda *s: None if s[0] is None else np.nanmean(s, axis=0),\n"
     ]
    },
    {
     "name": "stdout",
     "output_type": "stream",
     "text": [
      "== Status ==\n",
      "Current time: 2023-09-21 02:13:56 (running for 00:30:47.93)\n",
      "Memory usage on this node: 16.8/31.2 GiB\n",
      "Using FIFO scheduling algorithm.\n",
      "Resources requested: 3.0/24 CPUs, 1.0/0 GPUs, 0.0/15.61 GiB heap, 0.0/7.8 GiB objects (0.0/1.0 accelerator_type:G)\n",
      "Result logdir: /home/allenwu/Desktop/work/MARLlib-1.0.3/exp_results/happo_gru_CityLearn_5e-07_0.0005_APPEND-DATA_seed-2\n",
      "Number of trials: 1/1 (1 RUNNING)\n",
      "\n",
      "\n"
     ]
    },
    {
     "name": "stderr",
     "output_type": "stream",
     "text": [
      "/home/allenwu/anaconda3/envs/marllib/lib/python3.8/site-packages/ray/rllib/utils/metrics/learner_info.py:64: RuntimeWarning: Mean of empty slice\n",
      "  lambda *s: None if s[0] is None else np.nanmean(s, axis=0),\n",
      "/home/allenwu/anaconda3/envs/marllib/lib/python3.8/site-packages/ray/rllib/utils/metrics/learner_info.py:64: RuntimeWarning: Mean of empty slice\n",
      "  lambda *s: None if s[0] is None else np.nanmean(s, axis=0),\n",
      "/home/allenwu/anaconda3/envs/marllib/lib/python3.8/site-packages/ray/rllib/utils/metrics/learner_info.py:64: RuntimeWarning: Mean of empty slice\n",
      "  lambda *s: None if s[0] is None else np.nanmean(s, axis=0),\n",
      "/home/allenwu/anaconda3/envs/marllib/lib/python3.8/site-packages/ray/rllib/utils/metrics/learner_info.py:64: RuntimeWarning: Mean of empty slice\n",
      "  lambda *s: None if s[0] is None else np.nanmean(s, axis=0),\n",
      "/home/allenwu/anaconda3/envs/marllib/lib/python3.8/site-packages/ray/rllib/utils/metrics/learner_info.py:64: RuntimeWarning: Mean of empty slice\n",
      "  lambda *s: None if s[0] is None else np.nanmean(s, axis=0),\n",
      "/home/allenwu/anaconda3/envs/marllib/lib/python3.8/site-packages/ray/rllib/utils/metrics/learner_info.py:64: RuntimeWarning: Mean of empty slice\n",
      "  lambda *s: None if s[0] is None else np.nanmean(s, axis=0),\n",
      "/home/allenwu/anaconda3/envs/marllib/lib/python3.8/site-packages/ray/rllib/utils/metrics/learner_info.py:64: RuntimeWarning: Mean of empty slice\n",
      "  lambda *s: None if s[0] is None else np.nanmean(s, axis=0),\n",
      "/home/allenwu/anaconda3/envs/marllib/lib/python3.8/site-packages/ray/rllib/utils/metrics/learner_info.py:64: RuntimeWarning: Mean of empty slice\n",
      "  lambda *s: None if s[0] is None else np.nanmean(s, axis=0),\n",
      "/home/allenwu/anaconda3/envs/marllib/lib/python3.8/site-packages/ray/rllib/utils/metrics/learner_info.py:64: RuntimeWarning: Mean of empty slice\n",
      "  lambda *s: None if s[0] is None else np.nanmean(s, axis=0),\n",
      "/home/allenwu/anaconda3/envs/marllib/lib/python3.8/site-packages/ray/rllib/utils/metrics/learner_info.py:64: RuntimeWarning: Mean of empty slice\n",
      "  lambda *s: None if s[0] is None else np.nanmean(s, axis=0),\n"
     ]
    },
    {
     "name": "stdout",
     "output_type": "stream",
     "text": [
      "== Status ==\n",
      "Current time: 2023-09-21 02:14:02 (running for 00:30:53.35)\n",
      "Memory usage on this node: 16.8/31.2 GiB\n",
      "Using FIFO scheduling algorithm.\n",
      "Resources requested: 3.0/24 CPUs, 1.0/0 GPUs, 0.0/15.61 GiB heap, 0.0/7.8 GiB objects (0.0/1.0 accelerator_type:G)\n",
      "Result logdir: /home/allenwu/Desktop/work/MARLlib-1.0.3/exp_results/happo_gru_CityLearn_5e-07_0.0005_APPEND-DATA_seed-2\n",
      "Number of trials: 1/1 (1 RUNNING)\n",
      "\n",
      "\n"
     ]
    },
    {
     "name": "stderr",
     "output_type": "stream",
     "text": [
      "/home/allenwu/anaconda3/envs/marllib/lib/python3.8/site-packages/ray/rllib/utils/metrics/learner_info.py:64: RuntimeWarning: Mean of empty slice\n",
      "  lambda *s: None if s[0] is None else np.nanmean(s, axis=0),\n",
      "/home/allenwu/anaconda3/envs/marllib/lib/python3.8/site-packages/ray/rllib/utils/metrics/learner_info.py:64: RuntimeWarning: Mean of empty slice\n",
      "  lambda *s: None if s[0] is None else np.nanmean(s, axis=0),\n",
      "/home/allenwu/anaconda3/envs/marllib/lib/python3.8/site-packages/ray/rllib/utils/metrics/learner_info.py:64: RuntimeWarning: Mean of empty slice\n",
      "  lambda *s: None if s[0] is None else np.nanmean(s, axis=0),\n",
      "/home/allenwu/anaconda3/envs/marllib/lib/python3.8/site-packages/ray/rllib/utils/metrics/learner_info.py:64: RuntimeWarning: Mean of empty slice\n",
      "  lambda *s: None if s[0] is None else np.nanmean(s, axis=0),\n",
      "/home/allenwu/anaconda3/envs/marllib/lib/python3.8/site-packages/ray/rllib/utils/metrics/learner_info.py:64: RuntimeWarning: Mean of empty slice\n",
      "  lambda *s: None if s[0] is None else np.nanmean(s, axis=0),\n",
      "/home/allenwu/anaconda3/envs/marllib/lib/python3.8/site-packages/ray/rllib/utils/metrics/learner_info.py:64: RuntimeWarning: Mean of empty slice\n",
      "  lambda *s: None if s[0] is None else np.nanmean(s, axis=0),\n",
      "/home/allenwu/anaconda3/envs/marllib/lib/python3.8/site-packages/ray/rllib/utils/metrics/learner_info.py:64: RuntimeWarning: Mean of empty slice\n",
      "  lambda *s: None if s[0] is None else np.nanmean(s, axis=0),\n",
      "/home/allenwu/anaconda3/envs/marllib/lib/python3.8/site-packages/ray/rllib/utils/metrics/learner_info.py:64: RuntimeWarning: Mean of empty slice\n",
      "  lambda *s: None if s[0] is None else np.nanmean(s, axis=0),\n",
      "/home/allenwu/anaconda3/envs/marllib/lib/python3.8/site-packages/ray/rllib/utils/metrics/learner_info.py:64: RuntimeWarning: Mean of empty slice\n",
      "  lambda *s: None if s[0] is None else np.nanmean(s, axis=0),\n",
      "/home/allenwu/anaconda3/envs/marllib/lib/python3.8/site-packages/ray/rllib/utils/metrics/learner_info.py:64: RuntimeWarning: Mean of empty slice\n",
      "  lambda *s: None if s[0] is None else np.nanmean(s, axis=0),\n",
      "/home/allenwu/anaconda3/envs/marllib/lib/python3.8/site-packages/ray/rllib/utils/metrics/learner_info.py:64: RuntimeWarning: Mean of empty slice\n",
      "  lambda *s: None if s[0] is None else np.nanmean(s, axis=0),\n"
     ]
    },
    {
     "name": "stdout",
     "output_type": "stream",
     "text": [
      "== Status ==\n",
      "Current time: 2023-09-21 02:14:07 (running for 00:30:58.73)\n",
      "Memory usage on this node: 16.9/31.2 GiB\n",
      "Using FIFO scheduling algorithm.\n",
      "Resources requested: 3.0/24 CPUs, 1.0/0 GPUs, 0.0/15.61 GiB heap, 0.0/7.8 GiB objects (0.0/1.0 accelerator_type:G)\n",
      "Result logdir: /home/allenwu/Desktop/work/MARLlib-1.0.3/exp_results/happo_gru_CityLearn_5e-07_0.0005_APPEND-DATA_seed-2\n",
      "Number of trials: 1/1 (1 RUNNING)\n",
      "\n",
      "\n"
     ]
    },
    {
     "name": "stderr",
     "output_type": "stream",
     "text": [
      "/home/allenwu/anaconda3/envs/marllib/lib/python3.8/site-packages/ray/rllib/utils/metrics/learner_info.py:64: RuntimeWarning: Mean of empty slice\n",
      "  lambda *s: None if s[0] is None else np.nanmean(s, axis=0),\n",
      "/home/allenwu/anaconda3/envs/marllib/lib/python3.8/site-packages/ray/rllib/utils/metrics/learner_info.py:64: RuntimeWarning: Mean of empty slice\n",
      "  lambda *s: None if s[0] is None else np.nanmean(s, axis=0),\n",
      "/home/allenwu/anaconda3/envs/marllib/lib/python3.8/site-packages/ray/rllib/utils/metrics/learner_info.py:64: RuntimeWarning: Mean of empty slice\n",
      "  lambda *s: None if s[0] is None else np.nanmean(s, axis=0),\n",
      "/home/allenwu/anaconda3/envs/marllib/lib/python3.8/site-packages/ray/rllib/utils/metrics/learner_info.py:64: RuntimeWarning: Mean of empty slice\n",
      "  lambda *s: None if s[0] is None else np.nanmean(s, axis=0),\n",
      "/home/allenwu/anaconda3/envs/marllib/lib/python3.8/site-packages/ray/rllib/utils/metrics/learner_info.py:64: RuntimeWarning: Mean of empty slice\n",
      "  lambda *s: None if s[0] is None else np.nanmean(s, axis=0),\n",
      "/home/allenwu/anaconda3/envs/marllib/lib/python3.8/site-packages/ray/rllib/utils/metrics/learner_info.py:64: RuntimeWarning: Mean of empty slice\n",
      "  lambda *s: None if s[0] is None else np.nanmean(s, axis=0),\n",
      "/home/allenwu/anaconda3/envs/marllib/lib/python3.8/site-packages/ray/rllib/utils/metrics/learner_info.py:64: RuntimeWarning: Mean of empty slice\n",
      "  lambda *s: None if s[0] is None else np.nanmean(s, axis=0),\n",
      "/home/allenwu/anaconda3/envs/marllib/lib/python3.8/site-packages/ray/rllib/utils/metrics/learner_info.py:64: RuntimeWarning: Mean of empty slice\n",
      "  lambda *s: None if s[0] is None else np.nanmean(s, axis=0),\n",
      "/home/allenwu/anaconda3/envs/marllib/lib/python3.8/site-packages/ray/rllib/utils/metrics/learner_info.py:64: RuntimeWarning: Mean of empty slice\n",
      "  lambda *s: None if s[0] is None else np.nanmean(s, axis=0),\n"
     ]
    },
    {
     "name": "stdout",
     "output_type": "stream",
     "text": [
      "== Status ==\n",
      "Current time: 2023-09-21 02:14:12 (running for 00:31:04.12)\n",
      "Memory usage on this node: 16.9/31.2 GiB\n",
      "Using FIFO scheduling algorithm.\n",
      "Resources requested: 3.0/24 CPUs, 1.0/0 GPUs, 0.0/15.61 GiB heap, 0.0/7.8 GiB objects (0.0/1.0 accelerator_type:G)\n",
      "Result logdir: /home/allenwu/Desktop/work/MARLlib-1.0.3/exp_results/happo_gru_CityLearn_5e-07_0.0005_APPEND-DATA_seed-2\n",
      "Number of trials: 1/1 (1 RUNNING)\n",
      "\n",
      "\n"
     ]
    },
    {
     "name": "stderr",
     "output_type": "stream",
     "text": [
      "/home/allenwu/anaconda3/envs/marllib/lib/python3.8/site-packages/ray/rllib/utils/metrics/learner_info.py:64: RuntimeWarning: Mean of empty slice\n",
      "  lambda *s: None if s[0] is None else np.nanmean(s, axis=0),\n",
      "/home/allenwu/anaconda3/envs/marllib/lib/python3.8/site-packages/ray/rllib/utils/metrics/learner_info.py:64: RuntimeWarning: Mean of empty slice\n",
      "  lambda *s: None if s[0] is None else np.nanmean(s, axis=0),\n",
      "/home/allenwu/anaconda3/envs/marllib/lib/python3.8/site-packages/ray/rllib/utils/metrics/learner_info.py:64: RuntimeWarning: Mean of empty slice\n",
      "  lambda *s: None if s[0] is None else np.nanmean(s, axis=0),\n",
      "/home/allenwu/anaconda3/envs/marllib/lib/python3.8/site-packages/ray/rllib/utils/metrics/learner_info.py:64: RuntimeWarning: Mean of empty slice\n",
      "  lambda *s: None if s[0] is None else np.nanmean(s, axis=0),\n",
      "/home/allenwu/anaconda3/envs/marllib/lib/python3.8/site-packages/ray/rllib/utils/metrics/learner_info.py:64: RuntimeWarning: Mean of empty slice\n",
      "  lambda *s: None if s[0] is None else np.nanmean(s, axis=0),\n",
      "2023-09-21 02:14:16,024\tWARNING ray_trial_executor.py:768 -- Over the last 60 seconds, the Tune event loop has been backlogged processing new results. Consider increasing your period of result reporting to improve performance.\n",
      "/home/allenwu/anaconda3/envs/marllib/lib/python3.8/site-packages/ray/rllib/utils/metrics/learner_info.py:64: RuntimeWarning: Mean of empty slice\n",
      "  lambda *s: None if s[0] is None else np.nanmean(s, axis=0),\n",
      "/home/allenwu/anaconda3/envs/marllib/lib/python3.8/site-packages/ray/rllib/utils/metrics/learner_info.py:64: RuntimeWarning: Mean of empty slice\n",
      "  lambda *s: None if s[0] is None else np.nanmean(s, axis=0),\n",
      "/home/allenwu/anaconda3/envs/marllib/lib/python3.8/site-packages/ray/rllib/utils/metrics/learner_info.py:64: RuntimeWarning: Mean of empty slice\n",
      "  lambda *s: None if s[0] is None else np.nanmean(s, axis=0),\n",
      "/home/allenwu/anaconda3/envs/marllib/lib/python3.8/site-packages/ray/rllib/utils/metrics/learner_info.py:64: RuntimeWarning: Mean of empty slice\n",
      "  lambda *s: None if s[0] is None else np.nanmean(s, axis=0),\n"
     ]
    },
    {
     "name": "stdout",
     "output_type": "stream",
     "text": [
      "== Status ==\n",
      "Current time: 2023-09-21 02:14:18 (running for 00:31:09.47)\n",
      "Memory usage on this node: 16.9/31.2 GiB\n",
      "Using FIFO scheduling algorithm.\n",
      "Resources requested: 3.0/24 CPUs, 1.0/0 GPUs, 0.0/15.61 GiB heap, 0.0/7.8 GiB objects (0.0/1.0 accelerator_type:G)\n",
      "Result logdir: /home/allenwu/Desktop/work/MARLlib-1.0.3/exp_results/happo_gru_CityLearn_5e-07_0.0005_APPEND-DATA_seed-2\n",
      "Number of trials: 1/1 (1 RUNNING)\n",
      "\n",
      "\n"
     ]
    },
    {
     "name": "stderr",
     "output_type": "stream",
     "text": [
      "/home/allenwu/anaconda3/envs/marllib/lib/python3.8/site-packages/ray/rllib/utils/metrics/learner_info.py:64: RuntimeWarning: Mean of empty slice\n",
      "  lambda *s: None if s[0] is None else np.nanmean(s, axis=0),\n",
      "/home/allenwu/anaconda3/envs/marllib/lib/python3.8/site-packages/ray/rllib/utils/metrics/learner_info.py:64: RuntimeWarning: Mean of empty slice\n",
      "  lambda *s: None if s[0] is None else np.nanmean(s, axis=0),\n",
      "/home/allenwu/anaconda3/envs/marllib/lib/python3.8/site-packages/ray/rllib/utils/metrics/learner_info.py:64: RuntimeWarning: Mean of empty slice\n",
      "  lambda *s: None if s[0] is None else np.nanmean(s, axis=0),\n",
      "/home/allenwu/anaconda3/envs/marllib/lib/python3.8/site-packages/ray/rllib/utils/metrics/learner_info.py:64: RuntimeWarning: Mean of empty slice\n",
      "  lambda *s: None if s[0] is None else np.nanmean(s, axis=0),\n",
      "/home/allenwu/anaconda3/envs/marllib/lib/python3.8/site-packages/ray/rllib/utils/metrics/learner_info.py:64: RuntimeWarning: Mean of empty slice\n",
      "  lambda *s: None if s[0] is None else np.nanmean(s, axis=0),\n",
      "/home/allenwu/anaconda3/envs/marllib/lib/python3.8/site-packages/ray/rllib/utils/metrics/learner_info.py:64: RuntimeWarning: Mean of empty slice\n",
      "  lambda *s: None if s[0] is None else np.nanmean(s, axis=0),\n",
      "/home/allenwu/anaconda3/envs/marllib/lib/python3.8/site-packages/ray/rllib/utils/metrics/learner_info.py:64: RuntimeWarning: Mean of empty slice\n",
      "  lambda *s: None if s[0] is None else np.nanmean(s, axis=0),\n",
      "/home/allenwu/anaconda3/envs/marllib/lib/python3.8/site-packages/ray/rllib/utils/metrics/learner_info.py:64: RuntimeWarning: Mean of empty slice\n",
      "  lambda *s: None if s[0] is None else np.nanmean(s, axis=0),\n",
      "/home/allenwu/anaconda3/envs/marllib/lib/python3.8/site-packages/ray/rllib/utils/metrics/learner_info.py:64: RuntimeWarning: Mean of empty slice\n",
      "  lambda *s: None if s[0] is None else np.nanmean(s, axis=0),\n",
      "/home/allenwu/anaconda3/envs/marllib/lib/python3.8/site-packages/ray/rllib/utils/metrics/learner_info.py:64: RuntimeWarning: Mean of empty slice\n",
      "  lambda *s: None if s[0] is None else np.nanmean(s, axis=0),\n",
      "/home/allenwu/anaconda3/envs/marllib/lib/python3.8/site-packages/ray/rllib/utils/metrics/learner_info.py:64: RuntimeWarning: Mean of empty slice\n",
      "  lambda *s: None if s[0] is None else np.nanmean(s, axis=0),\n"
     ]
    },
    {
     "name": "stdout",
     "output_type": "stream",
     "text": [
      "== Status ==\n",
      "Current time: 2023-09-21 02:14:23 (running for 00:31:14.81)\n",
      "Memory usage on this node: 16.9/31.2 GiB\n",
      "Using FIFO scheduling algorithm.\n",
      "Resources requested: 3.0/24 CPUs, 1.0/0 GPUs, 0.0/15.61 GiB heap, 0.0/7.8 GiB objects (0.0/1.0 accelerator_type:G)\n",
      "Result logdir: /home/allenwu/Desktop/work/MARLlib-1.0.3/exp_results/happo_gru_CityLearn_5e-07_0.0005_APPEND-DATA_seed-2\n",
      "Number of trials: 1/1 (1 RUNNING)\n",
      "\n",
      "\n"
     ]
    },
    {
     "name": "stderr",
     "output_type": "stream",
     "text": [
      "/home/allenwu/anaconda3/envs/marllib/lib/python3.8/site-packages/ray/rllib/utils/metrics/learner_info.py:64: RuntimeWarning: Mean of empty slice\n",
      "  lambda *s: None if s[0] is None else np.nanmean(s, axis=0),\n",
      "/home/allenwu/anaconda3/envs/marllib/lib/python3.8/site-packages/ray/rllib/utils/metrics/learner_info.py:64: RuntimeWarning: Mean of empty slice\n",
      "  lambda *s: None if s[0] is None else np.nanmean(s, axis=0),\n",
      "/home/allenwu/anaconda3/envs/marllib/lib/python3.8/site-packages/ray/rllib/utils/metrics/learner_info.py:64: RuntimeWarning: Mean of empty slice\n",
      "  lambda *s: None if s[0] is None else np.nanmean(s, axis=0),\n",
      "/home/allenwu/anaconda3/envs/marllib/lib/python3.8/site-packages/ray/rllib/utils/metrics/learner_info.py:64: RuntimeWarning: Mean of empty slice\n",
      "  lambda *s: None if s[0] is None else np.nanmean(s, axis=0),\n",
      "/home/allenwu/anaconda3/envs/marllib/lib/python3.8/site-packages/ray/rllib/utils/metrics/learner_info.py:64: RuntimeWarning: Mean of empty slice\n",
      "  lambda *s: None if s[0] is None else np.nanmean(s, axis=0),\n",
      "/home/allenwu/anaconda3/envs/marllib/lib/python3.8/site-packages/ray/rllib/utils/metrics/learner_info.py:64: RuntimeWarning: Mean of empty slice\n",
      "  lambda *s: None if s[0] is None else np.nanmean(s, axis=0),\n",
      "/home/allenwu/anaconda3/envs/marllib/lib/python3.8/site-packages/ray/rllib/utils/metrics/learner_info.py:64: RuntimeWarning: Mean of empty slice\n",
      "  lambda *s: None if s[0] is None else np.nanmean(s, axis=0),\n",
      "/home/allenwu/anaconda3/envs/marllib/lib/python3.8/site-packages/ray/rllib/utils/metrics/learner_info.py:64: RuntimeWarning: Mean of empty slice\n",
      "  lambda *s: None if s[0] is None else np.nanmean(s, axis=0),\n",
      "/home/allenwu/anaconda3/envs/marllib/lib/python3.8/site-packages/ray/rllib/utils/metrics/learner_info.py:64: RuntimeWarning: Mean of empty slice\n",
      "  lambda *s: None if s[0] is None else np.nanmean(s, axis=0),\n",
      "/home/allenwu/anaconda3/envs/marllib/lib/python3.8/site-packages/ray/rllib/utils/metrics/learner_info.py:64: RuntimeWarning: Mean of empty slice\n",
      "  lambda *s: None if s[0] is None else np.nanmean(s, axis=0),\n",
      "/home/allenwu/anaconda3/envs/marllib/lib/python3.8/site-packages/ray/rllib/utils/metrics/learner_info.py:64: RuntimeWarning: Mean of empty slice\n",
      "  lambda *s: None if s[0] is None else np.nanmean(s, axis=0),\n",
      "/home/allenwu/anaconda3/envs/marllib/lib/python3.8/site-packages/ray/rllib/utils/metrics/learner_info.py:64: RuntimeWarning: Mean of empty slice\n",
      "  lambda *s: None if s[0] is None else np.nanmean(s, axis=0),\n"
     ]
    },
    {
     "name": "stdout",
     "output_type": "stream",
     "text": [
      "== Status ==\n",
      "Current time: 2023-09-21 02:14:28 (running for 00:31:20.22)\n",
      "Memory usage on this node: 17.0/31.2 GiB\n",
      "Using FIFO scheduling algorithm.\n",
      "Resources requested: 3.0/24 CPUs, 1.0/0 GPUs, 0.0/15.61 GiB heap, 0.0/7.8 GiB objects (0.0/1.0 accelerator_type:G)\n",
      "Result logdir: /home/allenwu/Desktop/work/MARLlib-1.0.3/exp_results/happo_gru_CityLearn_5e-07_0.0005_APPEND-DATA_seed-2\n",
      "Number of trials: 1/1 (1 RUNNING)\n",
      "\n",
      "\n"
     ]
    },
    {
     "name": "stderr",
     "output_type": "stream",
     "text": [
      "/home/allenwu/anaconda3/envs/marllib/lib/python3.8/site-packages/ray/rllib/utils/metrics/learner_info.py:64: RuntimeWarning: Mean of empty slice\n",
      "  lambda *s: None if s[0] is None else np.nanmean(s, axis=0),\n",
      "/home/allenwu/anaconda3/envs/marllib/lib/python3.8/site-packages/ray/rllib/utils/metrics/learner_info.py:64: RuntimeWarning: Mean of empty slice\n",
      "  lambda *s: None if s[0] is None else np.nanmean(s, axis=0),\n",
      "/home/allenwu/anaconda3/envs/marllib/lib/python3.8/site-packages/ray/rllib/utils/metrics/learner_info.py:64: RuntimeWarning: Mean of empty slice\n",
      "  lambda *s: None if s[0] is None else np.nanmean(s, axis=0),\n",
      "/home/allenwu/anaconda3/envs/marllib/lib/python3.8/site-packages/ray/rllib/utils/metrics/learner_info.py:64: RuntimeWarning: Mean of empty slice\n",
      "  lambda *s: None if s[0] is None else np.nanmean(s, axis=0),\n",
      "/home/allenwu/anaconda3/envs/marllib/lib/python3.8/site-packages/ray/rllib/utils/metrics/learner_info.py:64: RuntimeWarning: Mean of empty slice\n",
      "  lambda *s: None if s[0] is None else np.nanmean(s, axis=0),\n",
      "/home/allenwu/anaconda3/envs/marllib/lib/python3.8/site-packages/ray/rllib/utils/metrics/learner_info.py:64: RuntimeWarning: Mean of empty slice\n",
      "  lambda *s: None if s[0] is None else np.nanmean(s, axis=0),\n",
      "/home/allenwu/anaconda3/envs/marllib/lib/python3.8/site-packages/ray/rllib/utils/metrics/learner_info.py:64: RuntimeWarning: Mean of empty slice\n",
      "  lambda *s: None if s[0] is None else np.nanmean(s, axis=0),\n",
      "/home/allenwu/anaconda3/envs/marllib/lib/python3.8/site-packages/ray/rllib/utils/metrics/learner_info.py:64: RuntimeWarning: Mean of empty slice\n",
      "  lambda *s: None if s[0] is None else np.nanmean(s, axis=0),\n",
      "/home/allenwu/anaconda3/envs/marllib/lib/python3.8/site-packages/ray/rllib/utils/metrics/learner_info.py:64: RuntimeWarning: Mean of empty slice\n",
      "  lambda *s: None if s[0] is None else np.nanmean(s, axis=0),\n",
      "/home/allenwu/anaconda3/envs/marllib/lib/python3.8/site-packages/ray/rllib/utils/metrics/learner_info.py:64: RuntimeWarning: Mean of empty slice\n",
      "  lambda *s: None if s[0] is None else np.nanmean(s, axis=0),\n",
      "/home/allenwu/anaconda3/envs/marllib/lib/python3.8/site-packages/ray/rllib/utils/metrics/learner_info.py:64: RuntimeWarning: Mean of empty slice\n",
      "  lambda *s: None if s[0] is None else np.nanmean(s, axis=0),\n",
      "/home/allenwu/anaconda3/envs/marllib/lib/python3.8/site-packages/ray/rllib/utils/metrics/learner_info.py:64: RuntimeWarning: Mean of empty slice\n",
      "  lambda *s: None if s[0] is None else np.nanmean(s, axis=0),\n"
     ]
    },
    {
     "name": "stdout",
     "output_type": "stream",
     "text": [
      "== Status ==\n",
      "Current time: 2023-09-21 02:14:34 (running for 00:31:25.60)\n",
      "Memory usage on this node: 17.0/31.2 GiB\n",
      "Using FIFO scheduling algorithm.\n",
      "Resources requested: 3.0/24 CPUs, 1.0/0 GPUs, 0.0/15.61 GiB heap, 0.0/7.8 GiB objects (0.0/1.0 accelerator_type:G)\n",
      "Result logdir: /home/allenwu/Desktop/work/MARLlib-1.0.3/exp_results/happo_gru_CityLearn_5e-07_0.0005_APPEND-DATA_seed-2\n",
      "Number of trials: 1/1 (1 RUNNING)\n",
      "\n",
      "\n"
     ]
    },
    {
     "name": "stderr",
     "output_type": "stream",
     "text": [
      "/home/allenwu/anaconda3/envs/marllib/lib/python3.8/site-packages/ray/rllib/utils/metrics/learner_info.py:64: RuntimeWarning: Mean of empty slice\n",
      "  lambda *s: None if s[0] is None else np.nanmean(s, axis=0),\n",
      "/home/allenwu/anaconda3/envs/marllib/lib/python3.8/site-packages/ray/rllib/utils/metrics/learner_info.py:64: RuntimeWarning: Mean of empty slice\n",
      "  lambda *s: None if s[0] is None else np.nanmean(s, axis=0),\n",
      "/home/allenwu/anaconda3/envs/marllib/lib/python3.8/site-packages/ray/rllib/utils/metrics/learner_info.py:64: RuntimeWarning: Mean of empty slice\n",
      "  lambda *s: None if s[0] is None else np.nanmean(s, axis=0),\n",
      "/home/allenwu/anaconda3/envs/marllib/lib/python3.8/site-packages/ray/rllib/utils/metrics/learner_info.py:64: RuntimeWarning: Mean of empty slice\n",
      "  lambda *s: None if s[0] is None else np.nanmean(s, axis=0),\n",
      "/home/allenwu/anaconda3/envs/marllib/lib/python3.8/site-packages/ray/rllib/utils/metrics/learner_info.py:64: RuntimeWarning: Mean of empty slice\n",
      "  lambda *s: None if s[0] is None else np.nanmean(s, axis=0),\n",
      "/home/allenwu/anaconda3/envs/marllib/lib/python3.8/site-packages/ray/rllib/utils/metrics/learner_info.py:64: RuntimeWarning: Mean of empty slice\n",
      "  lambda *s: None if s[0] is None else np.nanmean(s, axis=0),\n",
      "/home/allenwu/anaconda3/envs/marllib/lib/python3.8/site-packages/ray/rllib/utils/metrics/learner_info.py:64: RuntimeWarning: Mean of empty slice\n",
      "  lambda *s: None if s[0] is None else np.nanmean(s, axis=0),\n",
      "/home/allenwu/anaconda3/envs/marllib/lib/python3.8/site-packages/ray/rllib/utils/metrics/learner_info.py:64: RuntimeWarning: Mean of empty slice\n",
      "  lambda *s: None if s[0] is None else np.nanmean(s, axis=0),\n",
      "/home/allenwu/anaconda3/envs/marllib/lib/python3.8/site-packages/ray/rllib/utils/metrics/learner_info.py:64: RuntimeWarning: Mean of empty slice\n",
      "  lambda *s: None if s[0] is None else np.nanmean(s, axis=0),\n",
      "/home/allenwu/anaconda3/envs/marllib/lib/python3.8/site-packages/ray/rllib/utils/metrics/learner_info.py:64: RuntimeWarning: Mean of empty slice\n",
      "  lambda *s: None if s[0] is None else np.nanmean(s, axis=0),\n",
      "/home/allenwu/anaconda3/envs/marllib/lib/python3.8/site-packages/ray/rllib/utils/metrics/learner_info.py:64: RuntimeWarning: Mean of empty slice\n",
      "  lambda *s: None if s[0] is None else np.nanmean(s, axis=0),\n",
      "/home/allenwu/anaconda3/envs/marllib/lib/python3.8/site-packages/ray/rllib/utils/metrics/learner_info.py:64: RuntimeWarning: Mean of empty slice\n",
      "  lambda *s: None if s[0] is None else np.nanmean(s, axis=0),\n"
     ]
    },
    {
     "name": "stdout",
     "output_type": "stream",
     "text": [
      "== Status ==\n",
      "Current time: 2023-09-21 02:14:39 (running for 00:31:30.91)\n",
      "Memory usage on this node: 17.1/31.2 GiB\n",
      "Using FIFO scheduling algorithm.\n",
      "Resources requested: 3.0/24 CPUs, 1.0/0 GPUs, 0.0/15.61 GiB heap, 0.0/7.8 GiB objects (0.0/1.0 accelerator_type:G)\n",
      "Result logdir: /home/allenwu/Desktop/work/MARLlib-1.0.3/exp_results/happo_gru_CityLearn_5e-07_0.0005_APPEND-DATA_seed-2\n",
      "Number of trials: 1/1 (1 RUNNING)\n",
      "\n",
      "\n"
     ]
    },
    {
     "name": "stderr",
     "output_type": "stream",
     "text": [
      "/home/allenwu/anaconda3/envs/marllib/lib/python3.8/site-packages/ray/rllib/utils/metrics/learner_info.py:64: RuntimeWarning: Mean of empty slice\n",
      "  lambda *s: None if s[0] is None else np.nanmean(s, axis=0),\n",
      "/home/allenwu/anaconda3/envs/marllib/lib/python3.8/site-packages/ray/rllib/utils/metrics/learner_info.py:64: RuntimeWarning: Mean of empty slice\n",
      "  lambda *s: None if s[0] is None else np.nanmean(s, axis=0),\n",
      "/home/allenwu/anaconda3/envs/marllib/lib/python3.8/site-packages/ray/rllib/utils/metrics/learner_info.py:64: RuntimeWarning: Mean of empty slice\n",
      "  lambda *s: None if s[0] is None else np.nanmean(s, axis=0),\n",
      "/home/allenwu/anaconda3/envs/marllib/lib/python3.8/site-packages/ray/rllib/utils/metrics/learner_info.py:64: RuntimeWarning: Mean of empty slice\n",
      "  lambda *s: None if s[0] is None else np.nanmean(s, axis=0),\n",
      "/home/allenwu/anaconda3/envs/marllib/lib/python3.8/site-packages/ray/rllib/utils/metrics/learner_info.py:64: RuntimeWarning: Mean of empty slice\n",
      "  lambda *s: None if s[0] is None else np.nanmean(s, axis=0),\n",
      "/home/allenwu/anaconda3/envs/marllib/lib/python3.8/site-packages/ray/rllib/utils/metrics/learner_info.py:64: RuntimeWarning: Mean of empty slice\n",
      "  lambda *s: None if s[0] is None else np.nanmean(s, axis=0),\n",
      "/home/allenwu/anaconda3/envs/marllib/lib/python3.8/site-packages/ray/rllib/utils/metrics/learner_info.py:64: RuntimeWarning: Mean of empty slice\n",
      "  lambda *s: None if s[0] is None else np.nanmean(s, axis=0),\n",
      "/home/allenwu/anaconda3/envs/marllib/lib/python3.8/site-packages/ray/rllib/utils/metrics/learner_info.py:64: RuntimeWarning: Mean of empty slice\n",
      "  lambda *s: None if s[0] is None else np.nanmean(s, axis=0),\n",
      "/home/allenwu/anaconda3/envs/marllib/lib/python3.8/site-packages/ray/rllib/utils/metrics/learner_info.py:64: RuntimeWarning: Mean of empty slice\n",
      "  lambda *s: None if s[0] is None else np.nanmean(s, axis=0),\n"
     ]
    },
    {
     "name": "stdout",
     "output_type": "stream",
     "text": [
      "== Status ==\n",
      "Current time: 2023-09-21 02:14:45 (running for 00:31:36.23)\n",
      "Memory usage on this node: 17.0/31.2 GiB\n",
      "Using FIFO scheduling algorithm.\n",
      "Resources requested: 3.0/24 CPUs, 1.0/0 GPUs, 0.0/15.61 GiB heap, 0.0/7.8 GiB objects (0.0/1.0 accelerator_type:G)\n",
      "Result logdir: /home/allenwu/Desktop/work/MARLlib-1.0.3/exp_results/happo_gru_CityLearn_5e-07_0.0005_APPEND-DATA_seed-2\n",
      "Number of trials: 1/1 (1 RUNNING)\n",
      "\n",
      "\n"
     ]
    },
    {
     "name": "stderr",
     "output_type": "stream",
     "text": [
      "/home/allenwu/anaconda3/envs/marllib/lib/python3.8/site-packages/ray/rllib/utils/metrics/learner_info.py:64: RuntimeWarning: Mean of empty slice\n",
      "  lambda *s: None if s[0] is None else np.nanmean(s, axis=0),\n",
      "/home/allenwu/anaconda3/envs/marllib/lib/python3.8/site-packages/ray/rllib/utils/metrics/learner_info.py:64: RuntimeWarning: Mean of empty slice\n",
      "  lambda *s: None if s[0] is None else np.nanmean(s, axis=0),\n",
      "/home/allenwu/anaconda3/envs/marllib/lib/python3.8/site-packages/ray/rllib/utils/metrics/learner_info.py:64: RuntimeWarning: Mean of empty slice\n",
      "  lambda *s: None if s[0] is None else np.nanmean(s, axis=0),\n",
      "/home/allenwu/anaconda3/envs/marllib/lib/python3.8/site-packages/ray/rllib/utils/metrics/learner_info.py:64: RuntimeWarning: Mean of empty slice\n",
      "  lambda *s: None if s[0] is None else np.nanmean(s, axis=0),\n",
      "/home/allenwu/anaconda3/envs/marllib/lib/python3.8/site-packages/ray/rllib/utils/metrics/learner_info.py:64: RuntimeWarning: Mean of empty slice\n",
      "  lambda *s: None if s[0] is None else np.nanmean(s, axis=0),\n",
      "/home/allenwu/anaconda3/envs/marllib/lib/python3.8/site-packages/ray/rllib/utils/metrics/learner_info.py:64: RuntimeWarning: Mean of empty slice\n",
      "  lambda *s: None if s[0] is None else np.nanmean(s, axis=0),\n",
      "/home/allenwu/anaconda3/envs/marllib/lib/python3.8/site-packages/ray/rllib/utils/metrics/learner_info.py:64: RuntimeWarning: Mean of empty slice\n",
      "  lambda *s: None if s[0] is None else np.nanmean(s, axis=0),\n",
      "/home/allenwu/anaconda3/envs/marllib/lib/python3.8/site-packages/ray/rllib/utils/metrics/learner_info.py:64: RuntimeWarning: Mean of empty slice\n",
      "  lambda *s: None if s[0] is None else np.nanmean(s, axis=0),\n",
      "/home/allenwu/anaconda3/envs/marllib/lib/python3.8/site-packages/ray/rllib/utils/metrics/learner_info.py:64: RuntimeWarning: Mean of empty slice\n",
      "  lambda *s: None if s[0] is None else np.nanmean(s, axis=0),\n",
      "/home/allenwu/anaconda3/envs/marllib/lib/python3.8/site-packages/ray/rllib/utils/metrics/learner_info.py:64: RuntimeWarning: Mean of empty slice\n",
      "  lambda *s: None if s[0] is None else np.nanmean(s, axis=0),\n"
     ]
    },
    {
     "name": "stdout",
     "output_type": "stream",
     "text": [
      "== Status ==\n",
      "Current time: 2023-09-21 02:14:50 (running for 00:31:41.57)\n",
      "Memory usage on this node: 17.1/31.2 GiB\n",
      "Using FIFO scheduling algorithm.\n",
      "Resources requested: 3.0/24 CPUs, 1.0/0 GPUs, 0.0/15.61 GiB heap, 0.0/7.8 GiB objects (0.0/1.0 accelerator_type:G)\n",
      "Result logdir: /home/allenwu/Desktop/work/MARLlib-1.0.3/exp_results/happo_gru_CityLearn_5e-07_0.0005_APPEND-DATA_seed-2\n",
      "Number of trials: 1/1 (1 RUNNING)\n",
      "\n",
      "\n"
     ]
    },
    {
     "name": "stderr",
     "output_type": "stream",
     "text": [
      "/home/allenwu/anaconda3/envs/marllib/lib/python3.8/site-packages/ray/rllib/utils/metrics/learner_info.py:64: RuntimeWarning: Mean of empty slice\n",
      "  lambda *s: None if s[0] is None else np.nanmean(s, axis=0),\n",
      "/home/allenwu/anaconda3/envs/marllib/lib/python3.8/site-packages/ray/rllib/utils/metrics/learner_info.py:64: RuntimeWarning: Mean of empty slice\n",
      "  lambda *s: None if s[0] is None else np.nanmean(s, axis=0),\n",
      "/home/allenwu/anaconda3/envs/marllib/lib/python3.8/site-packages/ray/rllib/utils/metrics/learner_info.py:64: RuntimeWarning: Mean of empty slice\n",
      "  lambda *s: None if s[0] is None else np.nanmean(s, axis=0),\n",
      "/home/allenwu/anaconda3/envs/marllib/lib/python3.8/site-packages/ray/rllib/utils/metrics/learner_info.py:64: RuntimeWarning: Mean of empty slice\n",
      "  lambda *s: None if s[0] is None else np.nanmean(s, axis=0),\n",
      "/home/allenwu/anaconda3/envs/marllib/lib/python3.8/site-packages/ray/rllib/utils/metrics/learner_info.py:64: RuntimeWarning: Mean of empty slice\n",
      "  lambda *s: None if s[0] is None else np.nanmean(s, axis=0),\n",
      "/home/allenwu/anaconda3/envs/marllib/lib/python3.8/site-packages/ray/rllib/utils/metrics/learner_info.py:64: RuntimeWarning: Mean of empty slice\n",
      "  lambda *s: None if s[0] is None else np.nanmean(s, axis=0),\n",
      "/home/allenwu/anaconda3/envs/marllib/lib/python3.8/site-packages/ray/rllib/utils/metrics/learner_info.py:64: RuntimeWarning: Mean of empty slice\n",
      "  lambda *s: None if s[0] is None else np.nanmean(s, axis=0),\n",
      "/home/allenwu/anaconda3/envs/marllib/lib/python3.8/site-packages/ray/rllib/utils/metrics/learner_info.py:64: RuntimeWarning: Mean of empty slice\n",
      "  lambda *s: None if s[0] is None else np.nanmean(s, axis=0),\n",
      "/home/allenwu/anaconda3/envs/marllib/lib/python3.8/site-packages/ray/rllib/utils/metrics/learner_info.py:64: RuntimeWarning: Mean of empty slice\n",
      "  lambda *s: None if s[0] is None else np.nanmean(s, axis=0),\n",
      "/home/allenwu/anaconda3/envs/marllib/lib/python3.8/site-packages/ray/rllib/utils/metrics/learner_info.py:64: RuntimeWarning: Mean of empty slice\n",
      "  lambda *s: None if s[0] is None else np.nanmean(s, axis=0),\n"
     ]
    },
    {
     "name": "stdout",
     "output_type": "stream",
     "text": [
      "== Status ==\n",
      "Current time: 2023-09-21 02:14:55 (running for 00:31:46.88)\n",
      "Memory usage on this node: 17.1/31.2 GiB\n",
      "Using FIFO scheduling algorithm.\n",
      "Resources requested: 3.0/24 CPUs, 1.0/0 GPUs, 0.0/15.61 GiB heap, 0.0/7.8 GiB objects (0.0/1.0 accelerator_type:G)\n",
      "Result logdir: /home/allenwu/Desktop/work/MARLlib-1.0.3/exp_results/happo_gru_CityLearn_5e-07_0.0005_APPEND-DATA_seed-2\n",
      "Number of trials: 1/1 (1 RUNNING)\n",
      "\n",
      "\n"
     ]
    },
    {
     "name": "stderr",
     "output_type": "stream",
     "text": [
      "/home/allenwu/anaconda3/envs/marllib/lib/python3.8/site-packages/ray/rllib/utils/metrics/learner_info.py:64: RuntimeWarning: Mean of empty slice\n",
      "  lambda *s: None if s[0] is None else np.nanmean(s, axis=0),\n",
      "/home/allenwu/anaconda3/envs/marllib/lib/python3.8/site-packages/ray/rllib/utils/metrics/learner_info.py:64: RuntimeWarning: Mean of empty slice\n",
      "  lambda *s: None if s[0] is None else np.nanmean(s, axis=0),\n",
      "/home/allenwu/anaconda3/envs/marllib/lib/python3.8/site-packages/ray/rllib/utils/metrics/learner_info.py:64: RuntimeWarning: Mean of empty slice\n",
      "  lambda *s: None if s[0] is None else np.nanmean(s, axis=0),\n",
      "/home/allenwu/anaconda3/envs/marllib/lib/python3.8/site-packages/ray/rllib/utils/metrics/learner_info.py:64: RuntimeWarning: Mean of empty slice\n",
      "  lambda *s: None if s[0] is None else np.nanmean(s, axis=0),\n",
      "/home/allenwu/anaconda3/envs/marllib/lib/python3.8/site-packages/ray/rllib/utils/metrics/learner_info.py:64: RuntimeWarning: Mean of empty slice\n",
      "  lambda *s: None if s[0] is None else np.nanmean(s, axis=0),\n",
      "/home/allenwu/anaconda3/envs/marllib/lib/python3.8/site-packages/ray/rllib/utils/metrics/learner_info.py:64: RuntimeWarning: Mean of empty slice\n",
      "  lambda *s: None if s[0] is None else np.nanmean(s, axis=0),\n",
      "/home/allenwu/anaconda3/envs/marllib/lib/python3.8/site-packages/ray/rllib/utils/metrics/learner_info.py:64: RuntimeWarning: Mean of empty slice\n",
      "  lambda *s: None if s[0] is None else np.nanmean(s, axis=0),\n",
      "/home/allenwu/anaconda3/envs/marllib/lib/python3.8/site-packages/ray/rllib/utils/metrics/learner_info.py:64: RuntimeWarning: Mean of empty slice\n",
      "  lambda *s: None if s[0] is None else np.nanmean(s, axis=0),\n",
      "/home/allenwu/anaconda3/envs/marllib/lib/python3.8/site-packages/ray/rllib/utils/metrics/learner_info.py:64: RuntimeWarning: Mean of empty slice\n",
      "  lambda *s: None if s[0] is None else np.nanmean(s, axis=0),\n",
      "/home/allenwu/anaconda3/envs/marllib/lib/python3.8/site-packages/ray/rllib/utils/metrics/learner_info.py:64: RuntimeWarning: Mean of empty slice\n",
      "  lambda *s: None if s[0] is None else np.nanmean(s, axis=0),\n"
     ]
    },
    {
     "name": "stdout",
     "output_type": "stream",
     "text": [
      "== Status ==\n",
      "Current time: 2023-09-21 02:15:00 (running for 00:31:52.18)\n",
      "Memory usage on this node: 17.1/31.2 GiB\n",
      "Using FIFO scheduling algorithm.\n",
      "Resources requested: 3.0/24 CPUs, 1.0/0 GPUs, 0.0/15.61 GiB heap, 0.0/7.8 GiB objects (0.0/1.0 accelerator_type:G)\n",
      "Result logdir: /home/allenwu/Desktop/work/MARLlib-1.0.3/exp_results/happo_gru_CityLearn_5e-07_0.0005_APPEND-DATA_seed-2\n",
      "Number of trials: 1/1 (1 RUNNING)\n",
      "\n",
      "\n"
     ]
    },
    {
     "name": "stderr",
     "output_type": "stream",
     "text": [
      "/home/allenwu/anaconda3/envs/marllib/lib/python3.8/site-packages/ray/rllib/utils/metrics/learner_info.py:64: RuntimeWarning: Mean of empty slice\n",
      "  lambda *s: None if s[0] is None else np.nanmean(s, axis=0),\n",
      "/home/allenwu/anaconda3/envs/marllib/lib/python3.8/site-packages/ray/rllib/utils/metrics/learner_info.py:64: RuntimeWarning: Mean of empty slice\n",
      "  lambda *s: None if s[0] is None else np.nanmean(s, axis=0),\n",
      "/home/allenwu/anaconda3/envs/marllib/lib/python3.8/site-packages/ray/rllib/utils/metrics/learner_info.py:64: RuntimeWarning: Mean of empty slice\n",
      "  lambda *s: None if s[0] is None else np.nanmean(s, axis=0),\n",
      "/home/allenwu/anaconda3/envs/marllib/lib/python3.8/site-packages/ray/rllib/utils/metrics/learner_info.py:64: RuntimeWarning: Mean of empty slice\n",
      "  lambda *s: None if s[0] is None else np.nanmean(s, axis=0),\n",
      "/home/allenwu/anaconda3/envs/marllib/lib/python3.8/site-packages/ray/rllib/utils/metrics/learner_info.py:64: RuntimeWarning: Mean of empty slice\n",
      "  lambda *s: None if s[0] is None else np.nanmean(s, axis=0),\n",
      "/home/allenwu/anaconda3/envs/marllib/lib/python3.8/site-packages/ray/rllib/utils/metrics/learner_info.py:64: RuntimeWarning: Mean of empty slice\n",
      "  lambda *s: None if s[0] is None else np.nanmean(s, axis=0),\n",
      "/home/allenwu/anaconda3/envs/marllib/lib/python3.8/site-packages/ray/rllib/utils/metrics/learner_info.py:64: RuntimeWarning: Mean of empty slice\n",
      "  lambda *s: None if s[0] is None else np.nanmean(s, axis=0),\n",
      "/home/allenwu/anaconda3/envs/marllib/lib/python3.8/site-packages/ray/rllib/utils/metrics/learner_info.py:64: RuntimeWarning: Mean of empty slice\n",
      "  lambda *s: None if s[0] is None else np.nanmean(s, axis=0),\n",
      "/home/allenwu/anaconda3/envs/marllib/lib/python3.8/site-packages/ray/rllib/utils/metrics/learner_info.py:64: RuntimeWarning: Mean of empty slice\n",
      "  lambda *s: None if s[0] is None else np.nanmean(s, axis=0),\n",
      "/home/allenwu/anaconda3/envs/marllib/lib/python3.8/site-packages/ray/rllib/utils/metrics/learner_info.py:64: RuntimeWarning: Mean of empty slice\n",
      "  lambda *s: None if s[0] is None else np.nanmean(s, axis=0),\n",
      "/home/allenwu/anaconda3/envs/marllib/lib/python3.8/site-packages/ray/rllib/utils/metrics/learner_info.py:64: RuntimeWarning: Mean of empty slice\n",
      "  lambda *s: None if s[0] is None else np.nanmean(s, axis=0),\n",
      "/home/allenwu/anaconda3/envs/marllib/lib/python3.8/site-packages/ray/rllib/utils/metrics/learner_info.py:64: RuntimeWarning: Mean of empty slice\n",
      "  lambda *s: None if s[0] is None else np.nanmean(s, axis=0),\n"
     ]
    },
    {
     "name": "stdout",
     "output_type": "stream",
     "text": [
      "== Status ==\n",
      "Current time: 2023-09-21 02:15:06 (running for 00:31:57.50)\n",
      "Memory usage on this node: 17.2/31.2 GiB\n",
      "Using FIFO scheduling algorithm.\n",
      "Resources requested: 3.0/24 CPUs, 1.0/0 GPUs, 0.0/15.61 GiB heap, 0.0/7.8 GiB objects (0.0/1.0 accelerator_type:G)\n",
      "Result logdir: /home/allenwu/Desktop/work/MARLlib-1.0.3/exp_results/happo_gru_CityLearn_5e-07_0.0005_APPEND-DATA_seed-2\n",
      "Number of trials: 1/1 (1 RUNNING)\n",
      "\n",
      "\n"
     ]
    },
    {
     "name": "stderr",
     "output_type": "stream",
     "text": [
      "/home/allenwu/anaconda3/envs/marllib/lib/python3.8/site-packages/ray/rllib/utils/metrics/learner_info.py:64: RuntimeWarning: Mean of empty slice\n",
      "  lambda *s: None if s[0] is None else np.nanmean(s, axis=0),\n",
      "/home/allenwu/anaconda3/envs/marllib/lib/python3.8/site-packages/ray/rllib/utils/metrics/learner_info.py:64: RuntimeWarning: Mean of empty slice\n",
      "  lambda *s: None if s[0] is None else np.nanmean(s, axis=0),\n",
      "/home/allenwu/anaconda3/envs/marllib/lib/python3.8/site-packages/ray/rllib/utils/metrics/learner_info.py:64: RuntimeWarning: Mean of empty slice\n",
      "  lambda *s: None if s[0] is None else np.nanmean(s, axis=0),\n",
      "/home/allenwu/anaconda3/envs/marllib/lib/python3.8/site-packages/ray/rllib/utils/metrics/learner_info.py:64: RuntimeWarning: Mean of empty slice\n",
      "  lambda *s: None if s[0] is None else np.nanmean(s, axis=0),\n",
      "/home/allenwu/anaconda3/envs/marllib/lib/python3.8/site-packages/ray/rllib/utils/metrics/learner_info.py:64: RuntimeWarning: Mean of empty slice\n",
      "  lambda *s: None if s[0] is None else np.nanmean(s, axis=0),\n",
      "/home/allenwu/anaconda3/envs/marllib/lib/python3.8/site-packages/ray/rllib/utils/metrics/learner_info.py:64: RuntimeWarning: Mean of empty slice\n",
      "  lambda *s: None if s[0] is None else np.nanmean(s, axis=0),\n",
      "/home/allenwu/anaconda3/envs/marllib/lib/python3.8/site-packages/ray/rllib/utils/metrics/learner_info.py:64: RuntimeWarning: Mean of empty slice\n",
      "  lambda *s: None if s[0] is None else np.nanmean(s, axis=0),\n",
      "/home/allenwu/anaconda3/envs/marllib/lib/python3.8/site-packages/ray/rllib/utils/metrics/learner_info.py:64: RuntimeWarning: Mean of empty slice\n",
      "  lambda *s: None if s[0] is None else np.nanmean(s, axis=0),\n",
      "/home/allenwu/anaconda3/envs/marllib/lib/python3.8/site-packages/ray/rllib/utils/metrics/learner_info.py:64: RuntimeWarning: Mean of empty slice\n",
      "  lambda *s: None if s[0] is None else np.nanmean(s, axis=0),\n",
      "/home/allenwu/anaconda3/envs/marllib/lib/python3.8/site-packages/ray/rllib/utils/metrics/learner_info.py:64: RuntimeWarning: Mean of empty slice\n",
      "  lambda *s: None if s[0] is None else np.nanmean(s, axis=0),\n"
     ]
    },
    {
     "name": "stdout",
     "output_type": "stream",
     "text": [
      "== Status ==\n",
      "Current time: 2023-09-21 02:15:11 (running for 00:32:02.86)\n",
      "Memory usage on this node: 17.2/31.2 GiB\n",
      "Using FIFO scheduling algorithm.\n",
      "Resources requested: 3.0/24 CPUs, 1.0/0 GPUs, 0.0/15.61 GiB heap, 0.0/7.8 GiB objects (0.0/1.0 accelerator_type:G)\n",
      "Result logdir: /home/allenwu/Desktop/work/MARLlib-1.0.3/exp_results/happo_gru_CityLearn_5e-07_0.0005_APPEND-DATA_seed-2\n",
      "Number of trials: 1/1 (1 RUNNING)\n",
      "\n",
      "\n"
     ]
    },
    {
     "name": "stderr",
     "output_type": "stream",
     "text": [
      "/home/allenwu/anaconda3/envs/marllib/lib/python3.8/site-packages/ray/rllib/utils/metrics/learner_info.py:64: RuntimeWarning: Mean of empty slice\n",
      "  lambda *s: None if s[0] is None else np.nanmean(s, axis=0),\n",
      "/home/allenwu/anaconda3/envs/marllib/lib/python3.8/site-packages/ray/rllib/utils/metrics/learner_info.py:64: RuntimeWarning: Mean of empty slice\n",
      "  lambda *s: None if s[0] is None else np.nanmean(s, axis=0),\n",
      "/home/allenwu/anaconda3/envs/marllib/lib/python3.8/site-packages/ray/rllib/utils/metrics/learner_info.py:64: RuntimeWarning: Mean of empty slice\n",
      "  lambda *s: None if s[0] is None else np.nanmean(s, axis=0),\n",
      "/home/allenwu/anaconda3/envs/marllib/lib/python3.8/site-packages/ray/rllib/utils/metrics/learner_info.py:64: RuntimeWarning: Mean of empty slice\n",
      "  lambda *s: None if s[0] is None else np.nanmean(s, axis=0),\n",
      "/home/allenwu/anaconda3/envs/marllib/lib/python3.8/site-packages/ray/rllib/utils/metrics/learner_info.py:64: RuntimeWarning: Mean of empty slice\n",
      "  lambda *s: None if s[0] is None else np.nanmean(s, axis=0),\n",
      "/home/allenwu/anaconda3/envs/marllib/lib/python3.8/site-packages/ray/rllib/utils/metrics/learner_info.py:64: RuntimeWarning: Mean of empty slice\n",
      "  lambda *s: None if s[0] is None else np.nanmean(s, axis=0),\n",
      "/home/allenwu/anaconda3/envs/marllib/lib/python3.8/site-packages/ray/rllib/utils/metrics/learner_info.py:64: RuntimeWarning: Mean of empty slice\n",
      "  lambda *s: None if s[0] is None else np.nanmean(s, axis=0),\n",
      "/home/allenwu/anaconda3/envs/marllib/lib/python3.8/site-packages/ray/rllib/utils/metrics/learner_info.py:64: RuntimeWarning: Mean of empty slice\n",
      "  lambda *s: None if s[0] is None else np.nanmean(s, axis=0),\n",
      "2023-09-21 02:15:16,048\tWARNING ray_trial_executor.py:768 -- Over the last 60 seconds, the Tune event loop has been backlogged processing new results. Consider increasing your period of result reporting to improve performance.\n",
      "/home/allenwu/anaconda3/envs/marllib/lib/python3.8/site-packages/ray/rllib/utils/metrics/learner_info.py:64: RuntimeWarning: Mean of empty slice\n",
      "  lambda *s: None if s[0] is None else np.nanmean(s, axis=0),\n"
     ]
    },
    {
     "name": "stdout",
     "output_type": "stream",
     "text": [
      "== Status ==\n",
      "Current time: 2023-09-21 02:15:16 (running for 00:32:08.16)\n",
      "Memory usage on this node: 17.2/31.2 GiB\n",
      "Using FIFO scheduling algorithm.\n",
      "Resources requested: 3.0/24 CPUs, 1.0/0 GPUs, 0.0/15.61 GiB heap, 0.0/7.8 GiB objects (0.0/1.0 accelerator_type:G)\n",
      "Result logdir: /home/allenwu/Desktop/work/MARLlib-1.0.3/exp_results/happo_gru_CityLearn_5e-07_0.0005_APPEND-DATA_seed-2\n",
      "Number of trials: 1/1 (1 RUNNING)\n",
      "\n",
      "\n"
     ]
    },
    {
     "name": "stderr",
     "output_type": "stream",
     "text": [
      "/home/allenwu/anaconda3/envs/marllib/lib/python3.8/site-packages/ray/rllib/utils/metrics/learner_info.py:64: RuntimeWarning: Mean of empty slice\n",
      "  lambda *s: None if s[0] is None else np.nanmean(s, axis=0),\n",
      "/home/allenwu/anaconda3/envs/marllib/lib/python3.8/site-packages/ray/rllib/utils/metrics/learner_info.py:64: RuntimeWarning: Mean of empty slice\n",
      "  lambda *s: None if s[0] is None else np.nanmean(s, axis=0),\n",
      "/home/allenwu/anaconda3/envs/marllib/lib/python3.8/site-packages/ray/rllib/utils/metrics/learner_info.py:64: RuntimeWarning: Mean of empty slice\n",
      "  lambda *s: None if s[0] is None else np.nanmean(s, axis=0),\n",
      "/home/allenwu/anaconda3/envs/marllib/lib/python3.8/site-packages/ray/rllib/utils/metrics/learner_info.py:64: RuntimeWarning: Mean of empty slice\n",
      "  lambda *s: None if s[0] is None else np.nanmean(s, axis=0),\n",
      "/home/allenwu/anaconda3/envs/marllib/lib/python3.8/site-packages/ray/rllib/utils/metrics/learner_info.py:64: RuntimeWarning: Mean of empty slice\n",
      "  lambda *s: None if s[0] is None else np.nanmean(s, axis=0),\n",
      "/home/allenwu/anaconda3/envs/marllib/lib/python3.8/site-packages/ray/rllib/utils/metrics/learner_info.py:64: RuntimeWarning: Mean of empty slice\n",
      "  lambda *s: None if s[0] is None else np.nanmean(s, axis=0),\n",
      "/home/allenwu/anaconda3/envs/marllib/lib/python3.8/site-packages/ray/rllib/utils/metrics/learner_info.py:64: RuntimeWarning: Mean of empty slice\n",
      "  lambda *s: None if s[0] is None else np.nanmean(s, axis=0),\n",
      "/home/allenwu/anaconda3/envs/marllib/lib/python3.8/site-packages/ray/rllib/utils/metrics/learner_info.py:64: RuntimeWarning: Mean of empty slice\n",
      "  lambda *s: None if s[0] is None else np.nanmean(s, axis=0),\n",
      "/home/allenwu/anaconda3/envs/marllib/lib/python3.8/site-packages/ray/rllib/utils/metrics/learner_info.py:64: RuntimeWarning: Mean of empty slice\n",
      "  lambda *s: None if s[0] is None else np.nanmean(s, axis=0),\n",
      "2023-09-21 02:15:22,535\tINFO tune.py:630 -- Total run time: 1933.77 seconds (1933.62 seconds for the tuning loop).\n"
     ]
    },
    {
     "name": "stdout",
     "output_type": "stream",
     "text": [
      "== Status ==\n",
      "Current time: 2023-09-21 02:15:22 (running for 00:32:13.62)\n",
      "Memory usage on this node: 17.3/31.2 GiB\n",
      "Using FIFO scheduling algorithm.\n",
      "Resources requested: 0/24 CPUs, 0/0 GPUs, 0.0/15.61 GiB heap, 0.0/7.8 GiB objects (0.0/1.0 accelerator_type:G)\n",
      "Result logdir: /home/allenwu/Desktop/work/MARLlib-1.0.3/exp_results/happo_gru_CityLearn_5e-07_0.0005_APPEND-DATA_seed-2\n",
      "Number of trials: 1/1 (1 TERMINATED)\n",
      "\n",
      "\n",
      "== Status ==\n",
      "Current time: 2023-09-21 02:15:22 (running for 00:32:13.67)\n",
      "Memory usage on this node: 17.3/31.2 GiB\n",
      "Using FIFO scheduling algorithm.\n",
      "Resources requested: 0/24 CPUs, 0/0 GPUs, 0.0/15.61 GiB heap, 0.0/7.8 GiB objects (0.0/1.0 accelerator_type:G)\n",
      "Result logdir: /home/allenwu/Desktop/work/MARLlib-1.0.3/exp_results/happo_gru_CityLearn_5e-07_0.0005_APPEND-DATA_seed-2\n",
      "Number of trials: 1/1 (1 TERMINATED)\n",
      "\n",
      "\n"
     ]
    },
    {
     "data": {
      "text/plain": [
       "<ray.tune.analysis.experiment_analysis.ExperimentAnalysis at 0x7ff6257a6b50>"
      ]
     },
     "execution_count": 4,
     "metadata": {},
     "output_type": "execute_result"
    }
   ],
   "source": [
    "env_2 = marl.make_env(environment_name=\"CityLearnGym\", map_name=\"CityLearn\")\n",
    "\n",
    "happo = marl.algos.happo(hyperparam_source=\"test\")\n",
    "model_2 = marl.build_model(env_2, happo, {\"core_arch\": \"gru\"})\n",
    "\n",
    "happo.fit(env_2, model_2, stop={'timesteps_total': 8759}, local_mode=True, num_gpus=1,\n",
    "            num_workers=2, share_policy=\"individual\", checkpoint_freq=500,\n",
    "            checkpoint_end=True)"
   ]
  },
  {
   "cell_type": "markdown",
   "metadata": {},
   "source": [
    "MATRPO"
   ]
  },
  {
   "cell_type": "code",
   "execution_count": null,
   "metadata": {},
   "outputs": [],
   "source": [
    "env_3 = marl.make_env(environment_name=\"CityLearnGym\", map_name=\"CityLearn\")\n",
    "\n",
    "matrpo = marl.algos.matrpo(hyperparam_source=\"common\")\n",
    "model_3 = marl.build_model(env_3, matrpo, {\"core_arch\": \"mlp\", \"encode_layer\": \"128-128\"})\n",
    "\n",
    "matrpo.fit(env_3, model_3, stop={'timesteps_total': 8759}, local_mode=True, num_gpus=1,\n",
    "            num_workers=2, share_policy='all', checkpoint_freq=500,\n",
    "            checkpoint_end=True)"
   ]
  },
  {
   "cell_type": "markdown",
   "metadata": {},
   "source": [
    "HATRPO"
   ]
  },
  {
   "cell_type": "code",
   "execution_count": null,
   "metadata": {},
   "outputs": [],
   "source": [
    "env_4 = marl.make_env(environment_name=\"CityLearnGym\", map_name=\"CityLearn\")\n",
    "\n",
    "# write MASAC\n",
    "hatrpo = marl.algos.hatrpo(hyperparam_source=\"common\")\n",
    "model_4 = marl.build_model(env_4, hatrpo, {\"core_arch\": \"mlp\", \"encode_layer\": \"128-128\"})\n",
    "\n",
    "hatrpo.fit(env_4, model_4, stop={'timesteps_total': 8759}, local_mode=True, num_gpus=1,\n",
    "            num_workers=2, share_policy='all', checkpoint_freq=500,\n",
    "            checkpoint_end=True)"
   ]
  },
  {
   "cell_type": "code",
   "execution_count": null,
   "metadata": {},
   "outputs": [],
   "source": [
    "# kpis = env_4[0].env.evaluate()\n",
    "# print(env_4[0].env.time_step)\n",
    "# print(env_4[0].env.done)\n",
    "\n",
    "# run_hatrpo\n",
    "\n",
    "# env_4[0].observation_space\n",
    "# observations = env_4[0].env.reset()\n",
    "\n",
    "# while not env_4[0].env.done:\n",
    "#     actions, _ = hatrpo.compute_single_action()"
   ]
  }
 ],
 "metadata": {
  "kernelspec": {
   "display_name": "marllib",
   "language": "python",
   "name": "python3"
  },
  "language_info": {
   "codemirror_mode": {
    "name": "ipython",
    "version": 3
   },
   "file_extension": ".py",
   "mimetype": "text/x-python",
   "name": "python",
   "nbconvert_exporter": "python",
   "pygments_lexer": "ipython3",
   "version": "3.8.16"
  },
  "orig_nbformat": 4
 },
 "nbformat": 4,
 "nbformat_minor": 2
}
