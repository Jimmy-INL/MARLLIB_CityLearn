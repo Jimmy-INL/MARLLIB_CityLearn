{
 "cells": [
  {
   "cell_type": "code",
   "execution_count": null,
   "metadata": {},
   "outputs": [],
   "source": [
    "import numpy as np\n",
    "from ray.rllib.env.multi_agent_env import MultiAgentEnv\n",
    "from gym.spaces import Dict as GymDict, Box\n",
    "from marllib import marl\n",
    "from marllib.envs.base_env import ENV_REGISTRY\n",
    "import time\n",
    "\n",
    "# importing CityLearn\n",
    "from citylearn.citylearn import CityLearnEnv\n",
    "from citylearn.wrappers import StableBaselines3Wrapper\n",
    "from citylearn.wrappers import NormalizedObservationWrapper\n",
    "from pathlib import Path\n",
    "\n",
    "from marllib.envs.base_env import ENV_REGISTRY\n",
    "from add_citylearn_env import RLlibCityLearnGym"
   ]
  },
  {
   "cell_type": "code",
   "execution_count": null,
   "metadata": {},
   "outputs": [],
   "source": [
    "ENV_REGISTRY[\"CityLearnGym\"] = RLlibCityLearnGym\n",
    "env = marl.make_env(environment_name=\"CityLearnGym\", map_name=\"CityLearn\")\n",
    "\n",
    "\n",
    "# write MASAC\n",
    "happo = marl.algos.happo(hyperparam_source=\"common\")\n",
    "model = marl.build_model(env, happo, {\"core_arch\": \"mlp\", \"encode_layer\": \"128-128\"})\n",
    "\n",
    "happo.fit(env, model, stop={'timesteps_total': 8759}, local_mode=True, num_gpus=1,\n",
    "            num_workers=2, share_policy='all', checkpoint_freq=500,\n",
    "            checkpoint_end=True)\n",
    "\n"
   ]
  },
  {
   "cell_type": "code",
   "execution_count": null,
   "metadata": {},
   "outputs": [],
   "source": [
    "# happo.name"
   ]
  },
  {
   "cell_type": "code",
   "execution_count": null,
   "metadata": {},
   "outputs": [],
   "source": [
    "\n",
    "# print(env[0].env.time_step)\n",
    "# print(env[0].env.done)\n",
    "\n",
    "# observations = env[0].env.reset()\n",
    "# print(observations)\n",
    "# print(model[0].get_actions(observations))\n",
    "\n",
    "# while not env[0].env.done:\n",
    "#     # actions, _ = model.predict(observations, deterministic=True)\n",
    "#     actions, _ = happo.compute_single_action()\n",
    "#     observations, _, _, _ = env[0].env.step(actions)\n",
    "\n",
    "# kpis = env.evaluate().pivot(index='cost_function', columns='name', values='value')\n",
    "# kpis = kpis.dropna(how='all')\n",
    "# display(kpis)"
   ]
  },
  {
   "cell_type": "code",
   "execution_count": null,
   "metadata": {},
   "outputs": [],
   "source": [
    "# this proves that you can't use env\n",
    "\n",
    "# env[0].env.net_electricity_consumption\n",
    "# env[0].env.net_electricity_consumption_without_storage\n",
    "\n",
    "# print(CostFunction.load_factor(env[0].env.net_electricity_consumption_without_storage))\n",
    "# print(CostFunction.load_factor(env2[0].env.net_electricity_consumption_without_storage))\n",
    "\n",
    "# print(env[0].env.net_electricity_consumption_without_storage)\n",
    "# print(env2[0].env.net_electricity_consumption_without_storage)"
   ]
  },
  {
   "cell_type": "code",
   "execution_count": null,
   "metadata": {},
   "outputs": [],
   "source": [
    "# kpis = env[0].env.evaluate().pivot(index='cost_function', columns='name', values='value')\n",
    "# kpis = kpis.dropna(how='all')\n",
    "# display(kpis)\n",
    "\n",
    "# happo.config_dict"
   ]
  }
 ],
 "metadata": {
  "kernelspec": {
   "display_name": "marllib",
   "language": "python",
   "name": "python3"
  },
  "language_info": {
   "codemirror_mode": {
    "name": "ipython",
    "version": 3
   },
   "file_extension": ".py",
   "mimetype": "text/x-python",
   "name": "python",
   "nbconvert_exporter": "python",
   "pygments_lexer": "ipython3",
   "version": "3.8.16"
  },
  "orig_nbformat": 4
 },
 "nbformat": 4,
 "nbformat_minor": 2
}
