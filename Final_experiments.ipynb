{
 "cells": [
  {
   "cell_type": "markdown",
   "metadata": {},
   "source": [
    "# Final Experiments"
   ]
  },
  {
   "cell_type": "code",
   "execution_count": 1,
   "metadata": {},
   "outputs": [],
   "source": [
    "import numpy as np\n",
    "from ray.rllib.env.multi_agent_env import MultiAgentEnv\n",
    "from gym.spaces import Dict as GymDict, Box\n",
    "from marllib import marl\n",
    "from marllib.envs.base_env import ENV_REGISTRY\n",
    "import time\n",
    "\n",
    "# importing CityLearn\n",
    "from citylearn.citylearn import CityLearnEnv\n",
    "from citylearn.wrappers import StableBaselines3Wrapper\n",
    "from citylearn.wrappers import NormalizedObservationWrapper\n",
    "from pathlib import Path\n",
    "\n",
    "from marllib.envs.base_env import ENV_REGISTRY\n",
    "from add_citylearn_env import RLlibCityLearnGym\n",
    "ENV_REGISTRY[\"CityLearnGym\"] = RLlibCityLearnGym"
   ]
  },
  {
   "cell_type": "markdown",
   "metadata": {},
   "source": [
    "MAPPO"
   ]
  },
  {
   "cell_type": "code",
   "execution_count": 2,
   "metadata": {},
   "outputs": [
    {
     "name": "stdout",
     "output_type": "stream",
     "text": [
      "+--------------+----------------+---------------------------------------------------------------------------------------------------------------------------------------------------------+----------------------------------------+-------------------------------+\n",
      "| Env_Name     | Check_Status   | Error_Log                                                                                                                                               | Config_File_Location                   | Env_File_Location             |\n",
      "+==============+================+=========================================================================================================================================================+========================================+===============================+\n",
      "| mpe          | Ready          | Null                                                                                                                                                    | envs/base_env/config/mpe.yaml          | envs/base_env/mpe.py          |\n",
      "+--------------+----------------+---------------------------------------------------------------------------------------------------------------------------------------------------------+----------------------------------------+-------------------------------+\n",
      "| mamujoco     | Error          | No module named 'mujoco_py'. (HINT: you need to install mujoco_py, and also perform the setup instructions here: https://github.com/openai/mujoco-py/.) | envs/base_env/config/mamujoco.yaml     | envs/base_env/mamujoco.py     |\n",
      "+--------------+----------------+---------------------------------------------------------------------------------------------------------------------------------------------------------+----------------------------------------+-------------------------------+\n",
      "| smac         | Error          | No module named 'smac'                                                                                                                                  | envs/base_env/config/smac.yaml         | envs/base_env/smac.py         |\n",
      "+--------------+----------------+---------------------------------------------------------------------------------------------------------------------------------------------------------+----------------------------------------+-------------------------------+\n",
      "| football     | Error          | No module named 'gfootball'                                                                                                                             | envs/base_env/config/football.yaml     | envs/base_env/football.py     |\n",
      "+--------------+----------------+---------------------------------------------------------------------------------------------------------------------------------------------------------+----------------------------------------+-------------------------------+\n",
      "| magent       | Error          | cannot import name 'adversarial_pursuit_v3' from 'pettingzoo.magent'                                                                                    | envs/base_env/config/magent.yaml       | envs/base_env/magent.py       |\n",
      "+--------------+----------------+---------------------------------------------------------------------------------------------------------------------------------------------------------+----------------------------------------+-------------------------------+\n",
      "| rware        | Error          | No module named 'rware'                                                                                                                                 | envs/base_env/config/rware.yaml        | envs/base_env/rware.py        |\n",
      "+--------------+----------------+---------------------------------------------------------------------------------------------------------------------------------------------------------+----------------------------------------+-------------------------------+\n",
      "| lbf          | Error          | No module named 'lbforaging'                                                                                                                            | envs/base_env/config/lbf.yaml          | envs/base_env/lbf.py          |\n",
      "+--------------+----------------+---------------------------------------------------------------------------------------------------------------------------------------------------------+----------------------------------------+-------------------------------+\n",
      "| pommerman    | Error          | No module named 'pommerman'                                                                                                                             | envs/base_env/config/pommerman.yaml    | envs/base_env/pommerman.py    |\n",
      "+--------------+----------------+---------------------------------------------------------------------------------------------------------------------------------------------------------+----------------------------------------+-------------------------------+\n",
      "| hanabi       | Ready          | Null                                                                                                                                                    | envs/base_env/config/hanabi.yaml       | envs/base_env/hanabi.py       |\n",
      "+--------------+----------------+---------------------------------------------------------------------------------------------------------------------------------------------------------+----------------------------------------+-------------------------------+\n",
      "| metadrive    | Error          | No module named 'metadrive'                                                                                                                             | envs/base_env/config/metadrive.yaml    | envs/base_env/metadrive.py    |\n",
      "+--------------+----------------+---------------------------------------------------------------------------------------------------------------------------------------------------------+----------------------------------------+-------------------------------+\n",
      "| mate         | Error          | No module named 'mate'                                                                                                                                  | envs/base_env/config/mate.yaml         | envs/base_env/mate.py         |\n",
      "+--------------+----------------+---------------------------------------------------------------------------------------------------------------------------------------------------------+----------------------------------------+-------------------------------+\n",
      "| gobigger     | Error          | No module named 'gobigger'                                                                                                                              | envs/base_env/config/gobigger.yaml     | envs/base_env/gobigger.py     |\n",
      "+--------------+----------------+---------------------------------------------------------------------------------------------------------------------------------------------------------+----------------------------------------+-------------------------------+\n",
      "| CityLearnGym | Ready          | Null                                                                                                                                                    | envs/base_env/config/CityLearnGym.yaml | envs/base_env/CityLearnGym.py |\n",
      "+--------------+----------------+---------------------------------------------------------------------------------------------------------------------------------------------------------+----------------------------------------+-------------------------------+\n"
     ]
    },
    {
     "name": "stderr",
     "output_type": "stream",
     "text": [
      "2023-09-18 23:50:23,581\tWARNING worker.py:496 -- `ray.get_gpu_ids()` will always return the empty list when called from the driver. This is because Ray does not manage GPU allocations to the driver process.\n",
      "2023-09-18 23:50:23,636\tWARNING deprecation.py:38 -- DeprecationWarning: `simple_optimizer` has been deprecated. This will raise an error in the future!\n",
      "2023-09-18 23:50:23,637\tWARNING ppo.py:143 -- `train_batch_size` (10) cannot be achieved with your other settings (num_workers=2 num_envs_per_worker=1 rollout_fragment_length=200)! Auto-adjusting `rollout_fragment_length` to 5.\n",
      "2023-09-18 23:50:23,637\tINFO ppo.py:166 -- In multi-agent mode, policies will be optimized sequentially by the multi-GPU optimizer. Consider setting simple_optimizer=True if this doesn't work for you.\n",
      "2023-09-18 23:50:23,637\tINFO trainer.py:770 -- Current log_level is WARN. For more information, set 'log_level': 'INFO' / 'DEBUG' or use the -v and -vv flags.\n"
     ]
    },
    {
     "name": "stdout",
     "output_type": "stream",
     "text": [
      ":task_name:bundle_reservation_check_func\n",
      ":actor_name:MAPPOTrainer\n",
      ":actor_name:RolloutWorker\n"
     ]
    },
    {
     "name": "stderr",
     "output_type": "stream",
     "text": [
      "2023-09-18 23:50:23,968\tWARNING deprecation.py:38 -- DeprecationWarning: `SampleBatch['is_training']` has been deprecated. Use `SampleBatch.is_training` instead. This will raise an error in the future!\n"
     ]
    },
    {
     "name": "stdout",
     "output_type": "stream",
     "text": [
      ":actor_name:RolloutWorker\n"
     ]
    },
    {
     "name": "stderr",
     "output_type": "stream",
     "text": [
      "2023-09-18 23:50:24,263\tWARNING rollout_worker.py:578 -- You are running ray with `local_mode=True`, but have configured 1 GPUs to be used! In local mode, Policies are placed on the CPU and the `num_gpus` setting is ignored.\n",
      "2023-09-18 23:50:24,270\tWARNING trainer_template.py:185 -- `execution_plan` functions should accept `trainer`, `workers`, and `config` as args!\n",
      "2023-09-18 23:50:24,271\tWARNING deprecation.py:38 -- DeprecationWarning: `simple_optimizer` has been deprecated. This will raise an error in the future!\n",
      "2023-09-18 23:50:24,548\tWARNING rollout_worker.py:578 -- You are running ray with `local_mode=True`, but have configured 1 GPUs to be used! In local mode, Policies are placed on the CPU and the `num_gpus` setting is ignored.\n",
      "2023-09-18 23:50:24,553\tWARNING util.py:57 -- Install gputil for GPU system monitoring.\n"
     ]
    },
    {
     "name": "stdout",
     "output_type": "stream",
     "text": [
      ":actor_name:MAPPOTrainer\n",
      "== Status ==\n",
      "Current time: 2023-09-18 23:50:24 (running for 00:00:01.12)\n",
      "Memory usage on this node: 5.9/31.2 GiB\n",
      "Using FIFO scheduling algorithm.\n",
      "Resources requested: 3.0/24 CPUs, 1.0/1 GPUs, 0.0/16.17 GiB heap, 0.0/8.08 GiB objects (0.0/1.0 accelerator_type:G)\n",
      "Result logdir: /home/allenwu/Desktop/work/MARLlib-1.0.3/exp_results/mappo_mlp_CityLearn\n",
      "Number of trials: 1/1 (1 RUNNING)\n",
      "+-------------------------------------------------+----------+---------------------+\n",
      "| Trial name                                      | status   | loc                 |\n",
      "|-------------------------------------------------+----------+---------------------|\n",
      "| MAPPOTrainer_CityLearnGym_CityLearn_ce90e_00000 | RUNNING  | 192.168.50.163:7890 |\n",
      "+-------------------------------------------------+----------+---------------------+\n",
      "\n",
      "\n"
     ]
    },
    {
     "name": "stderr",
     "output_type": "stream",
     "text": [
      "2023-09-18 23:51:37,554\tWARNING ray_trial_executor.py:768 -- Over the last 60 seconds, the Tune event loop has been backlogged processing new results. Consider increasing your period of result reporting to improve performance.\n"
     ]
    },
    {
     "name": "stdout",
     "output_type": "stream",
     "text": [
      "== Status ==\n",
      "Current time: 2023-09-18 23:51:37 (running for 00:01:14.08)\n",
      "Memory usage on this node: 5.9/31.2 GiB\n",
      "Using FIFO scheduling algorithm.\n",
      "Resources requested: 3.0/24 CPUs, 1.0/1 GPUs, 0.0/16.17 GiB heap, 0.0/8.08 GiB objects (0.0/1.0 accelerator_type:G)\n",
      "Result logdir: /home/allenwu/Desktop/work/MARLlib-1.0.3/exp_results/mappo_mlp_CityLearn\n",
      "Number of trials: 1/1 (1 RUNNING)\n",
      "+-------------------------------------------------+----------+---------------------+--------+------------------+------+----------+----------------------+----------------------+--------------------+\n",
      "| Trial name                                      | status   | loc                 |   iter |   total time (s) |   ts |   reward |   episode_reward_max |   episode_reward_min |   episode_len_mean |\n",
      "|-------------------------------------------------+----------+---------------------+--------+------------------+------+----------+----------------------+----------------------+--------------------|\n",
      "| MAPPOTrainer_CityLearnGym_CityLearn_ce90e_00000 | RUNNING  | 192.168.50.163:7890 |     49 |          1.62811 |  490 |      nan |                  nan |                  nan |                nan |\n",
      "+-------------------------------------------------+----------+---------------------+--------+------------------+------+----------+----------------------+----------------------+--------------------+\n",
      "\n",
      "\n"
     ]
    },
    {
     "name": "stderr",
     "output_type": "stream",
     "text": [
      "2023-09-18 23:52:50,832\tWARNING ray_trial_executor.py:768 -- Over the last 60 seconds, the Tune event loop has been backlogged processing new results. Consider increasing your period of result reporting to improve performance.\n"
     ]
    },
    {
     "name": "stdout",
     "output_type": "stream",
     "text": [
      "== Status ==\n",
      "Current time: 2023-09-18 23:52:50 (running for 00:02:27.36)\n",
      "Memory usage on this node: 5.9/31.2 GiB\n",
      "Using FIFO scheduling algorithm.\n",
      "Resources requested: 3.0/24 CPUs, 1.0/1 GPUs, 0.0/16.17 GiB heap, 0.0/8.08 GiB objects (0.0/1.0 accelerator_type:G)\n",
      "Result logdir: /home/allenwu/Desktop/work/MARLlib-1.0.3/exp_results/mappo_mlp_CityLearn\n",
      "Number of trials: 1/1 (1 RUNNING)\n",
      "+-------------------------------------------------+----------+---------------------+--------+------------------+------+----------+----------------------+----------------------+--------------------+\n",
      "| Trial name                                      | status   | loc                 |   iter |   total time (s) |   ts |   reward |   episode_reward_max |   episode_reward_min |   episode_len_mean |\n",
      "|-------------------------------------------------+----------+---------------------+--------+------------------+------+----------+----------------------+----------------------+--------------------|\n",
      "| MAPPOTrainer_CityLearnGym_CityLearn_ce90e_00000 | RUNNING  | 192.168.50.163:7890 |     99 |          74.2246 |  990 |      nan |                  nan |                  nan |                nan |\n",
      "+-------------------------------------------------+----------+---------------------+--------+------------------+------+----------+----------------------+----------------------+--------------------+\n",
      "\n",
      "\n"
     ]
    },
    {
     "name": "stderr",
     "output_type": "stream",
     "text": [
      "2023-09-18 23:54:04,244\tWARNING ray_trial_executor.py:768 -- Over the last 60 seconds, the Tune event loop has been backlogged processing new results. Consider increasing your period of result reporting to improve performance.\n"
     ]
    },
    {
     "name": "stdout",
     "output_type": "stream",
     "text": [
      "== Status ==\n",
      "Current time: 2023-09-18 23:54:04 (running for 00:03:40.77)\n",
      "Memory usage on this node: 6.0/31.2 GiB\n",
      "Using FIFO scheduling algorithm.\n",
      "Resources requested: 3.0/24 CPUs, 1.0/1 GPUs, 0.0/16.17 GiB heap, 0.0/8.08 GiB objects (0.0/1.0 accelerator_type:G)\n",
      "Result logdir: /home/allenwu/Desktop/work/MARLlib-1.0.3/exp_results/mappo_mlp_CityLearn\n",
      "Number of trials: 1/1 (1 RUNNING)\n",
      "+-------------------------------------------------+----------+---------------------+--------+------------------+------+----------+----------------------+----------------------+--------------------+\n",
      "| Trial name                                      | status   | loc                 |   iter |   total time (s) |   ts |   reward |   episode_reward_max |   episode_reward_min |   episode_len_mean |\n",
      "|-------------------------------------------------+----------+---------------------+--------+------------------+------+----------+----------------------+----------------------+--------------------|\n",
      "| MAPPOTrainer_CityLearnGym_CityLearn_ce90e_00000 | RUNNING  | 192.168.50.163:7890 |    149 |          147.168 | 1490 |      nan |                  nan |                  nan |                nan |\n",
      "+-------------------------------------------------+----------+---------------------+--------+------------------+------+----------+----------------------+----------------------+--------------------+\n",
      "\n",
      "\n"
     ]
    },
    {
     "name": "stderr",
     "output_type": "stream",
     "text": [
      "2023-09-18 23:55:17,720\tWARNING ray_trial_executor.py:768 -- Over the last 60 seconds, the Tune event loop has been backlogged processing new results. Consider increasing your period of result reporting to improve performance.\n"
     ]
    },
    {
     "name": "stdout",
     "output_type": "stream",
     "text": [
      "== Status ==\n",
      "Current time: 2023-09-18 23:55:17 (running for 00:04:54.24)\n",
      "Memory usage on this node: 6.0/31.2 GiB\n",
      "Using FIFO scheduling algorithm.\n",
      "Resources requested: 3.0/24 CPUs, 1.0/1 GPUs, 0.0/16.17 GiB heap, 0.0/8.08 GiB objects (0.0/1.0 accelerator_type:G)\n",
      "Result logdir: /home/allenwu/Desktop/work/MARLlib-1.0.3/exp_results/mappo_mlp_CityLearn\n",
      "Number of trials: 1/1 (1 RUNNING)\n",
      "+-------------------------------------------------+----------+---------------------+--------+------------------+------+----------+----------------------+----------------------+--------------------+\n",
      "| Trial name                                      | status   | loc                 |   iter |   total time (s) |   ts |   reward |   episode_reward_max |   episode_reward_min |   episode_len_mean |\n",
      "|-------------------------------------------------+----------+---------------------+--------+------------------+------+----------+----------------------+----------------------+--------------------|\n",
      "| MAPPOTrainer_CityLearnGym_CityLearn_ce90e_00000 | RUNNING  | 192.168.50.163:7890 |    199 |          220.305 | 1990 |      nan |                  nan |                  nan |                nan |\n",
      "+-------------------------------------------------+----------+---------------------+--------+------------------+------+----------+----------------------+----------------------+--------------------+\n",
      "\n",
      "\n"
     ]
    },
    {
     "name": "stderr",
     "output_type": "stream",
     "text": [
      "2023-09-18 23:56:29,674\tWARNING ray_trial_executor.py:768 -- Over the last 60 seconds, the Tune event loop has been backlogged processing new results. Consider increasing your period of result reporting to improve performance.\n"
     ]
    },
    {
     "name": "stdout",
     "output_type": "stream",
     "text": [
      "== Status ==\n",
      "Current time: 2023-09-18 23:56:29 (running for 00:06:06.20)\n",
      "Memory usage on this node: 6.0/31.2 GiB\n",
      "Using FIFO scheduling algorithm.\n",
      "Resources requested: 3.0/24 CPUs, 1.0/1 GPUs, 0.0/16.17 GiB heap, 0.0/8.08 GiB objects (0.0/1.0 accelerator_type:G)\n",
      "Result logdir: /home/allenwu/Desktop/work/MARLlib-1.0.3/exp_results/mappo_mlp_CityLearn\n",
      "Number of trials: 1/1 (1 RUNNING)\n",
      "+-------------------------------------------------+----------+---------------------+--------+------------------+------+----------+----------------------+----------------------+--------------------+\n",
      "| Trial name                                      | status   | loc                 |   iter |   total time (s) |   ts |   reward |   episode_reward_max |   episode_reward_min |   episode_len_mean |\n",
      "|-------------------------------------------------+----------+---------------------+--------+------------------+------+----------+----------------------+----------------------+--------------------|\n",
      "| MAPPOTrainer_CityLearnGym_CityLearn_ce90e_00000 | RUNNING  | 192.168.50.163:7890 |    249 |          293.425 | 2490 |      nan |                  nan |                  nan |                nan |\n",
      "+-------------------------------------------------+----------+---------------------+--------+------------------+------+----------+----------------------+----------------------+--------------------+\n",
      "\n",
      "\n"
     ]
    },
    {
     "name": "stderr",
     "output_type": "stream",
     "text": [
      "2023-09-18 23:57:43,564\tWARNING ray_trial_executor.py:768 -- Over the last 60 seconds, the Tune event loop has been backlogged processing new results. Consider increasing your period of result reporting to improve performance.\n"
     ]
    },
    {
     "name": "stdout",
     "output_type": "stream",
     "text": [
      "== Status ==\n",
      "Current time: 2023-09-18 23:57:43 (running for 00:07:20.09)\n",
      "Memory usage on this node: 6.0/31.2 GiB\n",
      "Using FIFO scheduling algorithm.\n",
      "Resources requested: 3.0/24 CPUs, 1.0/1 GPUs, 0.0/16.17 GiB heap, 0.0/8.08 GiB objects (0.0/1.0 accelerator_type:G)\n",
      "Result logdir: /home/allenwu/Desktop/work/MARLlib-1.0.3/exp_results/mappo_mlp_CityLearn\n",
      "Number of trials: 1/1 (1 RUNNING)\n",
      "+-------------------------------------------------+----------+---------------------+--------+------------------+------+----------+----------------------+----------------------+--------------------+\n",
      "| Trial name                                      | status   | loc                 |   iter |   total time (s) |   ts |   reward |   episode_reward_max |   episode_reward_min |   episode_len_mean |\n",
      "|-------------------------------------------------+----------+---------------------+--------+------------------+------+----------+----------------------+----------------------+--------------------|\n",
      "| MAPPOTrainer_CityLearnGym_CityLearn_ce90e_00000 | RUNNING  | 192.168.50.163:7890 |    299 |          365.108 | 2990 |      nan |                  nan |                  nan |                nan |\n",
      "+-------------------------------------------------+----------+---------------------+--------+------------------+------+----------+----------------------+----------------------+--------------------+\n",
      "\n",
      "\n"
     ]
    },
    {
     "name": "stderr",
     "output_type": "stream",
     "text": [
      "2023-09-18 23:58:57,566\tWARNING ray_trial_executor.py:768 -- Over the last 60 seconds, the Tune event loop has been backlogged processing new results. Consider increasing your period of result reporting to improve performance.\n"
     ]
    },
    {
     "name": "stdout",
     "output_type": "stream",
     "text": [
      "== Status ==\n",
      "Current time: 2023-09-18 23:58:57 (running for 00:08:34.09)\n",
      "Memory usage on this node: 6.0/31.2 GiB\n",
      "Using FIFO scheduling algorithm.\n",
      "Resources requested: 3.0/24 CPUs, 1.0/1 GPUs, 0.0/16.17 GiB heap, 0.0/8.08 GiB objects (0.0/1.0 accelerator_type:G)\n",
      "Result logdir: /home/allenwu/Desktop/work/MARLlib-1.0.3/exp_results/mappo_mlp_CityLearn\n",
      "Number of trials: 1/1 (1 RUNNING)\n",
      "+-------------------------------------------------+----------+---------------------+--------+------------------+------+----------+----------------------+----------------------+--------------------+\n",
      "| Trial name                                      | status   | loc                 |   iter |   total time (s) |   ts |   reward |   episode_reward_max |   episode_reward_min |   episode_len_mean |\n",
      "|-------------------------------------------------+----------+---------------------+--------+------------------+------+----------+----------------------+----------------------+--------------------|\n",
      "| MAPPOTrainer_CityLearnGym_CityLearn_ce90e_00000 | RUNNING  | 192.168.50.163:7890 |    349 |          438.713 | 3490 |      nan |                  nan |                  nan |                nan |\n",
      "+-------------------------------------------------+----------+---------------------+--------+------------------+------+----------+----------------------+----------------------+--------------------+\n",
      "\n",
      "\n"
     ]
    },
    {
     "name": "stderr",
     "output_type": "stream",
     "text": [
      "2023-09-19 00:00:12,294\tWARNING ray_trial_executor.py:768 -- Over the last 60 seconds, the Tune event loop has been backlogged processing new results. Consider increasing your period of result reporting to improve performance.\n"
     ]
    },
    {
     "name": "stdout",
     "output_type": "stream",
     "text": [
      "== Status ==\n",
      "Current time: 2023-09-19 00:00:12 (running for 00:09:48.82)\n",
      "Memory usage on this node: 6.1/31.2 GiB\n",
      "Using FIFO scheduling algorithm.\n",
      "Resources requested: 3.0/24 CPUs, 1.0/1 GPUs, 0.0/16.17 GiB heap, 0.0/8.08 GiB objects (0.0/1.0 accelerator_type:G)\n",
      "Result logdir: /home/allenwu/Desktop/work/MARLlib-1.0.3/exp_results/mappo_mlp_CityLearn\n",
      "Number of trials: 1/1 (1 RUNNING)\n",
      "+-------------------------------------------------+----------+---------------------+--------+------------------+------+----------+----------------------+----------------------+--------------------+\n",
      "| Trial name                                      | status   | loc                 |   iter |   total time (s) |   ts |   reward |   episode_reward_max |   episode_reward_min |   episode_len_mean |\n",
      "|-------------------------------------------------+----------+---------------------+--------+------------------+------+----------+----------------------+----------------------+--------------------|\n",
      "| MAPPOTrainer_CityLearnGym_CityLearn_ce90e_00000 | RUNNING  | 192.168.50.163:7890 |    399 |          512.421 | 3990 |      nan |                  nan |                  nan |                nan |\n",
      "+-------------------------------------------------+----------+---------------------+--------+------------------+------+----------+----------------------+----------------------+--------------------+\n",
      "\n",
      "\n"
     ]
    },
    {
     "name": "stderr",
     "output_type": "stream",
     "text": [
      "2023-09-19 00:01:26,139\tWARNING ray_trial_executor.py:768 -- Over the last 60 seconds, the Tune event loop has been backlogged processing new results. Consider increasing your period of result reporting to improve performance.\n"
     ]
    },
    {
     "name": "stdout",
     "output_type": "stream",
     "text": [
      "== Status ==\n",
      "Current time: 2023-09-19 00:01:26 (running for 00:11:02.66)\n",
      "Memory usage on this node: 6.1/31.2 GiB\n",
      "Using FIFO scheduling algorithm.\n",
      "Resources requested: 3.0/24 CPUs, 1.0/1 GPUs, 0.0/16.17 GiB heap, 0.0/8.08 GiB objects (0.0/1.0 accelerator_type:G)\n",
      "Result logdir: /home/allenwu/Desktop/work/MARLlib-1.0.3/exp_results/mappo_mlp_CityLearn\n",
      "Number of trials: 1/1 (1 RUNNING)\n",
      "+-------------------------------------------------+----------+---------------------+--------+------------------+------+----------+----------------------+----------------------+--------------------+\n",
      "| Trial name                                      | status   | loc                 |   iter |   total time (s) |   ts |   reward |   episode_reward_max |   episode_reward_min |   episode_len_mean |\n",
      "|-------------------------------------------------+----------+---------------------+--------+------------------+------+----------+----------------------+----------------------+--------------------|\n",
      "| MAPPOTrainer_CityLearnGym_CityLearn_ce90e_00000 | RUNNING  | 192.168.50.163:7890 |    449 |          586.885 | 4490 |      nan |                  nan |                  nan |                nan |\n",
      "+-------------------------------------------------+----------+---------------------+--------+------------------+------+----------+----------------------+----------------------+--------------------+\n",
      "\n",
      "\n"
     ]
    },
    {
     "name": "stderr",
     "output_type": "stream",
     "text": [
      "2023-09-19 00:02:39,596\tWARNING ray_trial_executor.py:768 -- Over the last 60 seconds, the Tune event loop has been backlogged processing new results. Consider increasing your period of result reporting to improve performance.\n"
     ]
    },
    {
     "name": "stdout",
     "output_type": "stream",
     "text": [
      "== Status ==\n",
      "Current time: 2023-09-19 00:02:39 (running for 00:12:16.12)\n",
      "Memory usage on this node: 6.1/31.2 GiB\n",
      "Using FIFO scheduling algorithm.\n",
      "Resources requested: 3.0/24 CPUs, 1.0/1 GPUs, 0.0/16.17 GiB heap, 0.0/8.08 GiB objects (0.0/1.0 accelerator_type:G)\n",
      "Result logdir: /home/allenwu/Desktop/work/MARLlib-1.0.3/exp_results/mappo_mlp_CityLearn\n",
      "Number of trials: 1/1 (1 RUNNING)\n",
      "+-------------------------------------------------+----------+---------------------+--------+------------------+------+----------+----------------------+----------------------+--------------------+\n",
      "| Trial name                                      | status   | loc                 |   iter |   total time (s) |   ts |   reward |   episode_reward_max |   episode_reward_min |   episode_len_mean |\n",
      "|-------------------------------------------------+----------+---------------------+--------+------------------+------+----------+----------------------+----------------------+--------------------|\n",
      "| MAPPOTrainer_CityLearnGym_CityLearn_ce90e_00000 | RUNNING  | 192.168.50.163:7890 |    499 |           660.42 | 4990 |      nan |                  nan |                  nan |                nan |\n",
      "+-------------------------------------------------+----------+---------------------+--------+------------------+------+----------+----------------------+----------------------+--------------------+\n",
      "\n",
      "\n"
     ]
    },
    {
     "name": "stderr",
     "output_type": "stream",
     "text": [
      "2023-09-19 00:03:52,243\tWARNING ray_trial_executor.py:768 -- Over the last 60 seconds, the Tune event loop has been backlogged processing new results. Consider increasing your period of result reporting to improve performance.\n"
     ]
    },
    {
     "name": "stdout",
     "output_type": "stream",
     "text": [
      "== Status ==\n",
      "Current time: 2023-09-19 00:03:52 (running for 00:13:28.77)\n",
      "Memory usage on this node: 6.2/31.2 GiB\n",
      "Using FIFO scheduling algorithm.\n",
      "Resources requested: 3.0/24 CPUs, 1.0/1 GPUs, 0.0/16.17 GiB heap, 0.0/8.08 GiB objects (0.0/1.0 accelerator_type:G)\n",
      "Result logdir: /home/allenwu/Desktop/work/MARLlib-1.0.3/exp_results/mappo_mlp_CityLearn\n",
      "Number of trials: 1/1 (1 RUNNING)\n",
      "+-------------------------------------------------+----------+---------------------+--------+------------------+------+----------+----------------------+----------------------+--------------------+\n",
      "| Trial name                                      | status   | loc                 |   iter |   total time (s) |   ts |   reward |   episode_reward_max |   episode_reward_min |   episode_len_mean |\n",
      "|-------------------------------------------------+----------+---------------------+--------+------------------+------+----------+----------------------+----------------------+--------------------|\n",
      "| MAPPOTrainer_CityLearnGym_CityLearn_ce90e_00000 | RUNNING  | 192.168.50.163:7890 |    549 |          733.519 | 5490 |      nan |                  nan |                  nan |                nan |\n",
      "+-------------------------------------------------+----------+---------------------+--------+------------------+------+----------+----------------------+----------------------+--------------------+\n",
      "\n",
      "\n"
     ]
    },
    {
     "name": "stderr",
     "output_type": "stream",
     "text": [
      "2023-09-19 00:05:05,333\tWARNING ray_trial_executor.py:768 -- Over the last 60 seconds, the Tune event loop has been backlogged processing new results. Consider increasing your period of result reporting to improve performance.\n"
     ]
    },
    {
     "name": "stdout",
     "output_type": "stream",
     "text": [
      "== Status ==\n",
      "Current time: 2023-09-19 00:05:05 (running for 00:14:41.86)\n",
      "Memory usage on this node: 6.2/31.2 GiB\n",
      "Using FIFO scheduling algorithm.\n",
      "Resources requested: 3.0/24 CPUs, 1.0/1 GPUs, 0.0/16.17 GiB heap, 0.0/8.08 GiB objects (0.0/1.0 accelerator_type:G)\n",
      "Result logdir: /home/allenwu/Desktop/work/MARLlib-1.0.3/exp_results/mappo_mlp_CityLearn\n",
      "Number of trials: 1/1 (1 RUNNING)\n",
      "+-------------------------------------------------+----------+---------------------+--------+------------------+------+----------+----------------------+----------------------+--------------------+\n",
      "| Trial name                                      | status   | loc                 |   iter |   total time (s) |   ts |   reward |   episode_reward_max |   episode_reward_min |   episode_len_mean |\n",
      "|-------------------------------------------------+----------+---------------------+--------+------------------+------+----------+----------------------+----------------------+--------------------|\n",
      "| MAPPOTrainer_CityLearnGym_CityLearn_ce90e_00000 | RUNNING  | 192.168.50.163:7890 |    599 |          805.852 | 5990 |      nan |                  nan |                  nan |                nan |\n",
      "+-------------------------------------------------+----------+---------------------+--------+------------------+------+----------+----------------------+----------------------+--------------------+\n",
      "\n",
      "\n"
     ]
    },
    {
     "name": "stderr",
     "output_type": "stream",
     "text": [
      "2023-09-19 00:06:18,405\tWARNING ray_trial_executor.py:768 -- Over the last 60 seconds, the Tune event loop has been backlogged processing new results. Consider increasing your period of result reporting to improve performance.\n"
     ]
    },
    {
     "name": "stdout",
     "output_type": "stream",
     "text": [
      "== Status ==\n",
      "Current time: 2023-09-19 00:06:18 (running for 00:15:54.93)\n",
      "Memory usage on this node: 6.3/31.2 GiB\n",
      "Using FIFO scheduling algorithm.\n",
      "Resources requested: 3.0/24 CPUs, 1.0/1 GPUs, 0.0/16.17 GiB heap, 0.0/8.08 GiB objects (0.0/1.0 accelerator_type:G)\n",
      "Result logdir: /home/allenwu/Desktop/work/MARLlib-1.0.3/exp_results/mappo_mlp_CityLearn\n",
      "Number of trials: 1/1 (1 RUNNING)\n",
      "+-------------------------------------------------+----------+---------------------+--------+------------------+------+----------+----------------------+----------------------+--------------------+\n",
      "| Trial name                                      | status   | loc                 |   iter |   total time (s) |   ts |   reward |   episode_reward_max |   episode_reward_min |   episode_len_mean |\n",
      "|-------------------------------------------------+----------+---------------------+--------+------------------+------+----------+----------------------+----------------------+--------------------|\n",
      "| MAPPOTrainer_CityLearnGym_CityLearn_ce90e_00000 | RUNNING  | 192.168.50.163:7890 |    649 |          878.663 | 6490 |      nan |                  nan |                  nan |                nan |\n",
      "+-------------------------------------------------+----------+---------------------+--------+------------------+------+----------+----------------------+----------------------+--------------------+\n",
      "\n",
      "\n"
     ]
    },
    {
     "name": "stderr",
     "output_type": "stream",
     "text": [
      "2023-09-19 00:07:30,242\tWARNING ray_trial_executor.py:768 -- Over the last 60 seconds, the Tune event loop has been backlogged processing new results. Consider increasing your period of result reporting to improve performance.\n"
     ]
    },
    {
     "name": "stdout",
     "output_type": "stream",
     "text": [
      "== Status ==\n",
      "Current time: 2023-09-19 00:07:30 (running for 00:17:06.77)\n",
      "Memory usage on this node: 6.3/31.2 GiB\n",
      "Using FIFO scheduling algorithm.\n",
      "Resources requested: 3.0/24 CPUs, 1.0/1 GPUs, 0.0/16.17 GiB heap, 0.0/8.08 GiB objects (0.0/1.0 accelerator_type:G)\n",
      "Result logdir: /home/allenwu/Desktop/work/MARLlib-1.0.3/exp_results/mappo_mlp_CityLearn\n",
      "Number of trials: 1/1 (1 RUNNING)\n",
      "+-------------------------------------------------+----------+---------------------+--------+------------------+------+----------+----------------------+----------------------+--------------------+\n",
      "| Trial name                                      | status   | loc                 |   iter |   total time (s) |   ts |   reward |   episode_reward_max |   episode_reward_min |   episode_len_mean |\n",
      "|-------------------------------------------------+----------+---------------------+--------+------------------+------+----------+----------------------+----------------------+--------------------|\n",
      "| MAPPOTrainer_CityLearnGym_CityLearn_ce90e_00000 | RUNNING  | 192.168.50.163:7890 |    699 |          951.428 | 6990 |      nan |                  nan |                  nan |                nan |\n",
      "+-------------------------------------------------+----------+---------------------+--------+------------------+------+----------+----------------------+----------------------+--------------------+\n",
      "\n",
      "\n"
     ]
    },
    {
     "name": "stderr",
     "output_type": "stream",
     "text": [
      "2023-09-19 00:08:41,545\tWARNING ray_trial_executor.py:768 -- Over the last 60 seconds, the Tune event loop has been backlogged processing new results. Consider increasing your period of result reporting to improve performance.\n"
     ]
    },
    {
     "name": "stdout",
     "output_type": "stream",
     "text": [
      "== Status ==\n",
      "Current time: 2023-09-19 00:08:41 (running for 00:18:18.07)\n",
      "Memory usage on this node: 6.3/31.2 GiB\n",
      "Using FIFO scheduling algorithm.\n",
      "Resources requested: 3.0/24 CPUs, 1.0/1 GPUs, 0.0/16.17 GiB heap, 0.0/8.08 GiB objects (0.0/1.0 accelerator_type:G)\n",
      "Result logdir: /home/allenwu/Desktop/work/MARLlib-1.0.3/exp_results/mappo_mlp_CityLearn\n",
      "Number of trials: 1/1 (1 RUNNING)\n",
      "+-------------------------------------------------+----------+---------------------+--------+------------------+------+----------+----------------------+----------------------+--------------------+\n",
      "| Trial name                                      | status   | loc                 |   iter |   total time (s) |   ts |   reward |   episode_reward_max |   episode_reward_min |   episode_len_mean |\n",
      "|-------------------------------------------------+----------+---------------------+--------+------------------+------+----------+----------------------+----------------------+--------------------|\n",
      "| MAPPOTrainer_CityLearnGym_CityLearn_ce90e_00000 | RUNNING  | 192.168.50.163:7890 |    749 |          1022.94 | 7490 |      nan |                  nan |                  nan |                nan |\n",
      "+-------------------------------------------------+----------+---------------------+--------+------------------+------+----------+----------------------+----------------------+--------------------+\n",
      "\n",
      "\n"
     ]
    },
    {
     "name": "stderr",
     "output_type": "stream",
     "text": [
      "2023-09-19 00:09:56,299\tWARNING ray_trial_executor.py:768 -- Over the last 60 seconds, the Tune event loop has been backlogged processing new results. Consider increasing your period of result reporting to improve performance.\n"
     ]
    },
    {
     "name": "stdout",
     "output_type": "stream",
     "text": [
      "== Status ==\n",
      "Current time: 2023-09-19 00:09:56 (running for 00:19:32.82)\n",
      "Memory usage on this node: 6.3/31.2 GiB\n",
      "Using FIFO scheduling algorithm.\n",
      "Resources requested: 3.0/24 CPUs, 1.0/1 GPUs, 0.0/16.17 GiB heap, 0.0/8.08 GiB objects (0.0/1.0 accelerator_type:G)\n",
      "Result logdir: /home/allenwu/Desktop/work/MARLlib-1.0.3/exp_results/mappo_mlp_CityLearn\n",
      "Number of trials: 1/1 (1 RUNNING)\n",
      "+-------------------------------------------------+----------+---------------------+--------+------------------+------+----------+----------------------+----------------------+--------------------+\n",
      "| Trial name                                      | status   | loc                 |   iter |   total time (s) |   ts |   reward |   episode_reward_max |   episode_reward_min |   episode_len_mean |\n",
      "|-------------------------------------------------+----------+---------------------+--------+------------------+------+----------+----------------------+----------------------+--------------------|\n",
      "| MAPPOTrainer_CityLearnGym_CityLearn_ce90e_00000 | RUNNING  | 192.168.50.163:7890 |    799 |          1093.97 | 7990 |      nan |                  nan |                  nan |                nan |\n",
      "+-------------------------------------------------+----------+---------------------+--------+------------------+------+----------+----------------------+----------------------+--------------------+\n",
      "\n",
      "\n"
     ]
    },
    {
     "name": "stderr",
     "output_type": "stream",
     "text": [
      "2023-09-19 00:11:10,084\tWARNING ray_trial_executor.py:768 -- Over the last 60 seconds, the Tune event loop has been backlogged processing new results. Consider increasing your period of result reporting to improve performance.\n"
     ]
    },
    {
     "name": "stdout",
     "output_type": "stream",
     "text": [
      "== Status ==\n",
      "Current time: 2023-09-19 00:11:10 (running for 00:20:46.61)\n",
      "Memory usage on this node: 6.3/31.2 GiB\n",
      "Using FIFO scheduling algorithm.\n",
      "Resources requested: 3.0/24 CPUs, 1.0/1 GPUs, 0.0/16.17 GiB heap, 0.0/8.08 GiB objects (0.0/1.0 accelerator_type:G)\n",
      "Result logdir: /home/allenwu/Desktop/work/MARLlib-1.0.3/exp_results/mappo_mlp_CityLearn\n",
      "Number of trials: 1/1 (1 RUNNING)\n",
      "+-------------------------------------------------+----------+---------------------+--------+------------------+------+----------+----------------------+----------------------+--------------------+\n",
      "| Trial name                                      | status   | loc                 |   iter |   total time (s) |   ts |   reward |   episode_reward_max |   episode_reward_min |   episode_len_mean |\n",
      "|-------------------------------------------------+----------+---------------------+--------+------------------+------+----------+----------------------+----------------------+--------------------|\n",
      "| MAPPOTrainer_CityLearnGym_CityLearn_ce90e_00000 | RUNNING  | 192.168.50.163:7890 |    849 |          1168.39 | 8490 |      nan |                  nan |                  nan |                nan |\n",
      "+-------------------------------------------------+----------+---------------------+--------+------------------+------+----------+----------------------+----------------------+--------------------+\n",
      "\n",
      "\n"
     ]
    },
    {
     "name": "stderr",
     "output_type": "stream",
     "text": [
      "2023-09-19 00:11:11,502\tINFO tune.py:630 -- Total run time: 1248.06 seconds (1247.91 seconds for the tuning loop).\n"
     ]
    },
    {
     "name": "stdout",
     "output_type": "stream",
     "text": [
      "== Status ==\n",
      "Current time: 2023-09-19 00:11:11 (running for 00:20:47.93)\n",
      "Memory usage on this node: 6.3/31.2 GiB\n",
      "Using FIFO scheduling algorithm.\n",
      "Resources requested: 0/24 CPUs, 0/1 GPUs, 0.0/16.17 GiB heap, 0.0/8.08 GiB objects (0.0/1.0 accelerator_type:G)\n",
      "Result logdir: /home/allenwu/Desktop/work/MARLlib-1.0.3/exp_results/mappo_mlp_CityLearn\n",
      "Number of trials: 1/1 (1 TERMINATED)\n",
      "+-------------------------------------------------+------------+---------------------+--------+------------------+------+----------+----------------------+----------------------+--------------------+\n",
      "| Trial name                                      | status     | loc                 |   iter |   total time (s) |   ts |   reward |   episode_reward_max |   episode_reward_min |   episode_len_mean |\n",
      "|-------------------------------------------------+------------+---------------------+--------+------------------+------+----------+----------------------+----------------------+--------------------|\n",
      "| MAPPOTrainer_CityLearnGym_CityLearn_ce90e_00000 | TERMINATED | 192.168.50.163:7890 |    876 |          1241.16 | 8760 |      nan |                  nan |                  nan |                nan |\n",
      "+-------------------------------------------------+------------+---------------------+--------+------------------+------+----------+----------------------+----------------------+--------------------+\n",
      "\n",
      "\n"
     ]
    }
   ],
   "source": [
    "env_1 = marl.make_env(environment_name=\"CityLearnGym\", map_name=\"CityLearn\")\n",
    "\n",
    "# write MASAC\n",
    "mappo = marl.algos.mappo(hyperparam_source=\"common\")\n",
    "model_1 = marl.build_model(env_1, mappo, {\"core_arch\": \"mlp\", \"encode_layer\": \"128-128\"})\n",
    "\n",
    "mappo.fit(env_1, model_1, stop={'timesteps_total': 8759}, local_mode=True, num_gpus=1,\n",
    "            num_workers=2, share_policy='all', checkpoint_freq=500,\n",
    "            checkpoint_end=True)\n"
   ]
  },
  {
   "cell_type": "markdown",
   "metadata": {},
   "source": [
    "HAPPO"
   ]
  },
  {
   "cell_type": "code",
   "execution_count": 3,
   "metadata": {},
   "outputs": [
    {
     "name": "stdout",
     "output_type": "stream",
     "text": [
      "+--------------+----------------+---------------------------------------------------------------------------------------------------------------------------------------------------------+----------------------------------------+-------------------------------+\n",
      "| Env_Name     | Check_Status   | Error_Log                                                                                                                                               | Config_File_Location                   | Env_File_Location             |\n",
      "+==============+================+=========================================================================================================================================================+========================================+===============================+\n",
      "| mpe          | Ready          | Null                                                                                                                                                    | envs/base_env/config/mpe.yaml          | envs/base_env/mpe.py          |\n",
      "+--------------+----------------+---------------------------------------------------------------------------------------------------------------------------------------------------------+----------------------------------------+-------------------------------+\n",
      "| mamujoco     | Error          | No module named 'mujoco_py'. (HINT: you need to install mujoco_py, and also perform the setup instructions here: https://github.com/openai/mujoco-py/.) | envs/base_env/config/mamujoco.yaml     | envs/base_env/mamujoco.py     |\n",
      "+--------------+----------------+---------------------------------------------------------------------------------------------------------------------------------------------------------+----------------------------------------+-------------------------------+\n",
      "| smac         | Error          | No module named 'smac'                                                                                                                                  | envs/base_env/config/smac.yaml         | envs/base_env/smac.py         |\n",
      "+--------------+----------------+---------------------------------------------------------------------------------------------------------------------------------------------------------+----------------------------------------+-------------------------------+\n",
      "| football     | Error          | No module named 'gfootball'                                                                                                                             | envs/base_env/config/football.yaml     | envs/base_env/football.py     |\n",
      "+--------------+----------------+---------------------------------------------------------------------------------------------------------------------------------------------------------+----------------------------------------+-------------------------------+\n",
      "| magent       | Error          | cannot import name 'adversarial_pursuit_v3' from 'pettingzoo.magent'                                                                                    | envs/base_env/config/magent.yaml       | envs/base_env/magent.py       |\n",
      "+--------------+----------------+---------------------------------------------------------------------------------------------------------------------------------------------------------+----------------------------------------+-------------------------------+\n",
      "| rware        | Error          | No module named 'rware'                                                                                                                                 | envs/base_env/config/rware.yaml        | envs/base_env/rware.py        |\n",
      "+--------------+----------------+---------------------------------------------------------------------------------------------------------------------------------------------------------+----------------------------------------+-------------------------------+\n",
      "| lbf          | Error          | No module named 'lbforaging'                                                                                                                            | envs/base_env/config/lbf.yaml          | envs/base_env/lbf.py          |\n",
      "+--------------+----------------+---------------------------------------------------------------------------------------------------------------------------------------------------------+----------------------------------------+-------------------------------+\n",
      "| pommerman    | Error          | No module named 'pommerman'                                                                                                                             | envs/base_env/config/pommerman.yaml    | envs/base_env/pommerman.py    |\n",
      "+--------------+----------------+---------------------------------------------------------------------------------------------------------------------------------------------------------+----------------------------------------+-------------------------------+\n",
      "| hanabi       | Ready          | Null                                                                                                                                                    | envs/base_env/config/hanabi.yaml       | envs/base_env/hanabi.py       |\n",
      "+--------------+----------------+---------------------------------------------------------------------------------------------------------------------------------------------------------+----------------------------------------+-------------------------------+\n",
      "| metadrive    | Error          | No module named 'metadrive'                                                                                                                             | envs/base_env/config/metadrive.yaml    | envs/base_env/metadrive.py    |\n",
      "+--------------+----------------+---------------------------------------------------------------------------------------------------------------------------------------------------------+----------------------------------------+-------------------------------+\n",
      "| mate         | Error          | No module named 'mate'                                                                                                                                  | envs/base_env/config/mate.yaml         | envs/base_env/mate.py         |\n",
      "+--------------+----------------+---------------------------------------------------------------------------------------------------------------------------------------------------------+----------------------------------------+-------------------------------+\n",
      "| gobigger     | Error          | No module named 'gobigger'                                                                                                                              | envs/base_env/config/gobigger.yaml     | envs/base_env/gobigger.py     |\n",
      "+--------------+----------------+---------------------------------------------------------------------------------------------------------------------------------------------------------+----------------------------------------+-------------------------------+\n",
      "| CityLearnGym | Ready          | Null                                                                                                                                                    | envs/base_env/config/CityLearnGym.yaml | envs/base_env/CityLearnGym.py |\n",
      "+--------------+----------------+---------------------------------------------------------------------------------------------------------------------------------------------------------+----------------------------------------+-------------------------------+\n"
     ]
    },
    {
     "name": "stderr",
     "output_type": "stream",
     "text": [
      "2023-09-19 00:11:13,993\tWARNING sample.py:401 -- DeprecationWarning: wrapping <function run_cc.<locals>.<lambda> at 0x7f52486f7a60> with tune.function() is no longer needed\n",
      "2023-09-19 00:11:14,160\tWARNING deprecation.py:38 -- DeprecationWarning: `simple_optimizer` has been deprecated. This will raise an error in the future!\n",
      "2023-09-19 00:11:14,160\tWARNING ppo.py:143 -- `train_batch_size` (10) cannot be achieved with your other settings (num_workers=2 num_envs_per_worker=1 rollout_fragment_length=200)! Auto-adjusting `rollout_fragment_length` to 5.\n"
     ]
    },
    {
     "name": "stdout",
     "output_type": "stream",
     "text": [
      ":task_name:bundle_reservation_check_func\n",
      ":actor_name:HAPPOTrainer\n",
      ":actor_name:RolloutWorker\n",
      ":actor_name:RolloutWorker\n"
     ]
    },
    {
     "name": "stderr",
     "output_type": "stream",
     "text": [
      "2023-09-19 00:11:14,919\tWARNING rollout_worker.py:578 -- You are running ray with `local_mode=True`, but have configured 1 GPUs to be used! In local mode, Policies are placed on the CPU and the `num_gpus` setting is ignored.\n",
      "2023-09-19 00:11:14,977\tWARNING trainer_template.py:185 -- `execution_plan` functions should accept `trainer`, `workers`, and `config` as args!\n",
      "2023-09-19 00:11:14,978\tWARNING deprecation.py:38 -- DeprecationWarning: `simple_optimizer` has been deprecated. This will raise an error in the future!\n",
      "2023-09-19 00:11:15,244\tWARNING rollout_worker.py:578 -- You are running ray with `local_mode=True`, but have configured 1 GPUs to be used! In local mode, Policies are placed on the CPU and the `num_gpus` setting is ignored.\n",
      "2023-09-19 00:11:15,253\tWARNING util.py:57 -- Install gputil for GPU system monitoring.\n"
     ]
    },
    {
     "name": "stdout",
     "output_type": "stream",
     "text": [
      ":actor_name:HAPPOTrainer\n"
     ]
    },
    {
     "name": "stderr",
     "output_type": "stream",
     "text": [
      "2023-09-19 00:11:15,492\tWARNING util.py:165 -- The `start_trial` operation took 1.381 s, which may be a performance bottleneck.\n"
     ]
    },
    {
     "name": "stdout",
     "output_type": "stream",
     "text": [
      "== Status ==\n",
      "Current time: 2023-09-19 00:11:15 (running for 00:00:01.49)\n",
      "Memory usage on this node: 6.3/31.2 GiB\n",
      "Using FIFO scheduling algorithm.\n",
      "Resources requested: 3.0/24 CPUs, 1.0/0 GPUs, 0.0/15.91 GiB heap, 0.0/7.96 GiB objects (0.0/1.0 accelerator_type:G)\n",
      "Result logdir: /home/allenwu/Desktop/work/MARLlib-1.0.3/exp_results/happo_mlp_CityLearn_5e-07_0.0005_APPEND-DATA_seed-5\n",
      "Number of trials: 1/1 (1 RUNNING)\n",
      "\n",
      "\n",
      "== Status ==\n",
      "Current time: 2023-09-19 00:11:20 (running for 00:00:06.65)\n",
      "Memory usage on this node: 6.3/31.2 GiB\n",
      "Using FIFO scheduling algorithm.\n",
      "Resources requested: 3.0/24 CPUs, 1.0/0 GPUs, 0.0/15.91 GiB heap, 0.0/7.96 GiB objects (0.0/1.0 accelerator_type:G)\n",
      "Result logdir: /home/allenwu/Desktop/work/MARLlib-1.0.3/exp_results/happo_mlp_CityLearn_5e-07_0.0005_APPEND-DATA_seed-5\n",
      "Number of trials: 1/1 (1 RUNNING)\n",
      "\n",
      "\n",
      "== Status ==\n",
      "Current time: 2023-09-19 00:11:25 (running for 00:00:11.82)\n",
      "Memory usage on this node: 6.3/31.2 GiB\n",
      "Using FIFO scheduling algorithm.\n",
      "Resources requested: 3.0/24 CPUs, 1.0/0 GPUs, 0.0/15.91 GiB heap, 0.0/7.96 GiB objects (0.0/1.0 accelerator_type:G)\n",
      "Result logdir: /home/allenwu/Desktop/work/MARLlib-1.0.3/exp_results/happo_mlp_CityLearn_5e-07_0.0005_APPEND-DATA_seed-5\n",
      "Number of trials: 1/1 (1 RUNNING)\n",
      "\n",
      "\n",
      "== Status ==\n",
      "Current time: 2023-09-19 00:11:30 (running for 00:00:16.83)\n",
      "Memory usage on this node: 6.3/31.2 GiB\n",
      "Using FIFO scheduling algorithm.\n",
      "Resources requested: 3.0/24 CPUs, 1.0/0 GPUs, 0.0/15.91 GiB heap, 0.0/7.96 GiB objects (0.0/1.0 accelerator_type:G)\n",
      "Result logdir: /home/allenwu/Desktop/work/MARLlib-1.0.3/exp_results/happo_mlp_CityLearn_5e-07_0.0005_APPEND-DATA_seed-5\n",
      "Number of trials: 1/1 (1 RUNNING)\n",
      "\n",
      "\n",
      "== Status ==\n",
      "Current time: 2023-09-19 00:11:36 (running for 00:00:22.00)\n",
      "Memory usage on this node: 6.3/31.2 GiB\n",
      "Using FIFO scheduling algorithm.\n",
      "Resources requested: 3.0/24 CPUs, 1.0/0 GPUs, 0.0/15.91 GiB heap, 0.0/7.96 GiB objects (0.0/1.0 accelerator_type:G)\n",
      "Result logdir: /home/allenwu/Desktop/work/MARLlib-1.0.3/exp_results/happo_mlp_CityLearn_5e-07_0.0005_APPEND-DATA_seed-5\n",
      "Number of trials: 1/1 (1 RUNNING)\n",
      "\n",
      "\n",
      "== Status ==\n",
      "Current time: 2023-09-19 00:11:41 (running for 00:00:27.16)\n",
      "Memory usage on this node: 6.3/31.2 GiB\n",
      "Using FIFO scheduling algorithm.\n",
      "Resources requested: 3.0/24 CPUs, 1.0/0 GPUs, 0.0/15.91 GiB heap, 0.0/7.96 GiB objects (0.0/1.0 accelerator_type:G)\n",
      "Result logdir: /home/allenwu/Desktop/work/MARLlib-1.0.3/exp_results/happo_mlp_CityLearn_5e-07_0.0005_APPEND-DATA_seed-5\n",
      "Number of trials: 1/1 (1 RUNNING)\n",
      "\n",
      "\n",
      "== Status ==\n",
      "Current time: 2023-09-19 00:11:46 (running for 00:00:32.29)\n",
      "Memory usage on this node: 6.3/31.2 GiB\n",
      "Using FIFO scheduling algorithm.\n",
      "Resources requested: 3.0/24 CPUs, 1.0/0 GPUs, 0.0/15.91 GiB heap, 0.0/7.96 GiB objects (0.0/1.0 accelerator_type:G)\n",
      "Result logdir: /home/allenwu/Desktop/work/MARLlib-1.0.3/exp_results/happo_mlp_CityLearn_5e-07_0.0005_APPEND-DATA_seed-5\n",
      "Number of trials: 1/1 (1 RUNNING)\n",
      "\n",
      "\n",
      "== Status ==\n",
      "Current time: 2023-09-19 00:11:51 (running for 00:00:37.45)\n",
      "Memory usage on this node: 6.3/31.2 GiB\n",
      "Using FIFO scheduling algorithm.\n",
      "Resources requested: 3.0/24 CPUs, 1.0/0 GPUs, 0.0/15.91 GiB heap, 0.0/7.96 GiB objects (0.0/1.0 accelerator_type:G)\n",
      "Result logdir: /home/allenwu/Desktop/work/MARLlib-1.0.3/exp_results/happo_mlp_CityLearn_5e-07_0.0005_APPEND-DATA_seed-5\n",
      "Number of trials: 1/1 (1 RUNNING)\n",
      "\n",
      "\n",
      "== Status ==\n",
      "Current time: 2023-09-19 00:11:56 (running for 00:00:42.65)\n",
      "Memory usage on this node: 6.3/31.2 GiB\n",
      "Using FIFO scheduling algorithm.\n",
      "Resources requested: 3.0/24 CPUs, 1.0/0 GPUs, 0.0/15.91 GiB heap, 0.0/7.96 GiB objects (0.0/1.0 accelerator_type:G)\n",
      "Result logdir: /home/allenwu/Desktop/work/MARLlib-1.0.3/exp_results/happo_mlp_CityLearn_5e-07_0.0005_APPEND-DATA_seed-5\n",
      "Number of trials: 1/1 (1 RUNNING)\n",
      "\n",
      "\n",
      "== Status ==\n",
      "Current time: 2023-09-19 00:12:01 (running for 00:00:47.78)\n",
      "Memory usage on this node: 6.3/31.2 GiB\n",
      "Using FIFO scheduling algorithm.\n",
      "Resources requested: 3.0/24 CPUs, 1.0/0 GPUs, 0.0/15.91 GiB heap, 0.0/7.96 GiB objects (0.0/1.0 accelerator_type:G)\n",
      "Result logdir: /home/allenwu/Desktop/work/MARLlib-1.0.3/exp_results/happo_mlp_CityLearn_5e-07_0.0005_APPEND-DATA_seed-5\n",
      "Number of trials: 1/1 (1 RUNNING)\n",
      "\n",
      "\n",
      "== Status ==\n",
      "Current time: 2023-09-19 00:12:06 (running for 00:00:52.87)\n",
      "Memory usage on this node: 6.3/31.2 GiB\n",
      "Using FIFO scheduling algorithm.\n",
      "Resources requested: 3.0/24 CPUs, 1.0/0 GPUs, 0.0/15.91 GiB heap, 0.0/7.96 GiB objects (0.0/1.0 accelerator_type:G)\n",
      "Result logdir: /home/allenwu/Desktop/work/MARLlib-1.0.3/exp_results/happo_mlp_CityLearn_5e-07_0.0005_APPEND-DATA_seed-5\n",
      "Number of trials: 1/1 (1 RUNNING)\n",
      "\n",
      "\n",
      "== Status ==\n",
      "Current time: 2023-09-19 00:12:11 (running for 00:00:57.95)\n",
      "Memory usage on this node: 6.3/31.2 GiB\n",
      "Using FIFO scheduling algorithm.\n",
      "Resources requested: 3.0/24 CPUs, 1.0/0 GPUs, 0.0/15.91 GiB heap, 0.0/7.96 GiB objects (0.0/1.0 accelerator_type:G)\n",
      "Result logdir: /home/allenwu/Desktop/work/MARLlib-1.0.3/exp_results/happo_mlp_CityLearn_5e-07_0.0005_APPEND-DATA_seed-5\n",
      "Number of trials: 1/1 (1 RUNNING)\n",
      "\n",
      "\n"
     ]
    },
    {
     "name": "stderr",
     "output_type": "stream",
     "text": [
      "2023-09-19 00:12:14,151\tWARNING ray_trial_executor.py:768 -- Over the last 60 seconds, the Tune event loop has been backlogged processing new results. Consider increasing your period of result reporting to improve performance.\n"
     ]
    },
    {
     "name": "stdout",
     "output_type": "stream",
     "text": [
      "== Status ==\n",
      "Current time: 2023-09-19 00:12:16 (running for 00:01:02.96)\n",
      "Memory usage on this node: 6.3/31.2 GiB\n",
      "Using FIFO scheduling algorithm.\n",
      "Resources requested: 3.0/24 CPUs, 1.0/0 GPUs, 0.0/15.91 GiB heap, 0.0/7.96 GiB objects (0.0/1.0 accelerator_type:G)\n",
      "Result logdir: /home/allenwu/Desktop/work/MARLlib-1.0.3/exp_results/happo_mlp_CityLearn_5e-07_0.0005_APPEND-DATA_seed-5\n",
      "Number of trials: 1/1 (1 RUNNING)\n",
      "\n",
      "\n",
      "== Status ==\n",
      "Current time: 2023-09-19 00:12:22 (running for 00:01:08.16)\n",
      "Memory usage on this node: 6.3/31.2 GiB\n",
      "Using FIFO scheduling algorithm.\n",
      "Resources requested: 3.0/24 CPUs, 1.0/0 GPUs, 0.0/15.91 GiB heap, 0.0/7.96 GiB objects (0.0/1.0 accelerator_type:G)\n",
      "Result logdir: /home/allenwu/Desktop/work/MARLlib-1.0.3/exp_results/happo_mlp_CityLearn_5e-07_0.0005_APPEND-DATA_seed-5\n",
      "Number of trials: 1/1 (1 RUNNING)\n",
      "\n",
      "\n",
      "== Status ==\n",
      "Current time: 2023-09-19 00:12:27 (running for 00:01:13.42)\n",
      "Memory usage on this node: 6.3/31.2 GiB\n",
      "Using FIFO scheduling algorithm.\n",
      "Resources requested: 3.0/24 CPUs, 1.0/0 GPUs, 0.0/15.91 GiB heap, 0.0/7.96 GiB objects (0.0/1.0 accelerator_type:G)\n",
      "Result logdir: /home/allenwu/Desktop/work/MARLlib-1.0.3/exp_results/happo_mlp_CityLearn_5e-07_0.0005_APPEND-DATA_seed-5\n",
      "Number of trials: 1/1 (1 RUNNING)\n",
      "\n",
      "\n",
      "== Status ==\n",
      "Current time: 2023-09-19 00:12:32 (running for 00:01:18.43)\n",
      "Memory usage on this node: 6.3/31.2 GiB\n",
      "Using FIFO scheduling algorithm.\n",
      "Resources requested: 3.0/24 CPUs, 1.0/0 GPUs, 0.0/15.91 GiB heap, 0.0/7.96 GiB objects (0.0/1.0 accelerator_type:G)\n",
      "Result logdir: /home/allenwu/Desktop/work/MARLlib-1.0.3/exp_results/happo_mlp_CityLearn_5e-07_0.0005_APPEND-DATA_seed-5\n",
      "Number of trials: 1/1 (1 RUNNING)\n",
      "\n",
      "\n",
      "== Status ==\n",
      "Current time: 2023-09-19 00:12:37 (running for 00:01:23.66)\n",
      "Memory usage on this node: 6.3/31.2 GiB\n",
      "Using FIFO scheduling algorithm.\n",
      "Resources requested: 3.0/24 CPUs, 1.0/0 GPUs, 0.0/15.91 GiB heap, 0.0/7.96 GiB objects (0.0/1.0 accelerator_type:G)\n",
      "Result logdir: /home/allenwu/Desktop/work/MARLlib-1.0.3/exp_results/happo_mlp_CityLearn_5e-07_0.0005_APPEND-DATA_seed-5\n",
      "Number of trials: 1/1 (1 RUNNING)\n",
      "\n",
      "\n",
      "== Status ==\n",
      "Current time: 2023-09-19 00:12:42 (running for 00:01:28.92)\n",
      "Memory usage on this node: 6.3/31.2 GiB\n",
      "Using FIFO scheduling algorithm.\n",
      "Resources requested: 3.0/24 CPUs, 1.0/0 GPUs, 0.0/15.91 GiB heap, 0.0/7.96 GiB objects (0.0/1.0 accelerator_type:G)\n",
      "Result logdir: /home/allenwu/Desktop/work/MARLlib-1.0.3/exp_results/happo_mlp_CityLearn_5e-07_0.0005_APPEND-DATA_seed-5\n",
      "Number of trials: 1/1 (1 RUNNING)\n",
      "\n",
      "\n",
      "== Status ==\n",
      "Current time: 2023-09-19 00:12:48 (running for 00:01:34.12)\n",
      "Memory usage on this node: 6.3/31.2 GiB\n",
      "Using FIFO scheduling algorithm.\n",
      "Resources requested: 3.0/24 CPUs, 1.0/0 GPUs, 0.0/15.91 GiB heap, 0.0/7.96 GiB objects (0.0/1.0 accelerator_type:G)\n",
      "Result logdir: /home/allenwu/Desktop/work/MARLlib-1.0.3/exp_results/happo_mlp_CityLearn_5e-07_0.0005_APPEND-DATA_seed-5\n",
      "Number of trials: 1/1 (1 RUNNING)\n",
      "\n",
      "\n",
      "== Status ==\n",
      "Current time: 2023-09-19 00:12:53 (running for 00:01:39.32)\n",
      "Memory usage on this node: 6.3/31.2 GiB\n",
      "Using FIFO scheduling algorithm.\n",
      "Resources requested: 3.0/24 CPUs, 1.0/0 GPUs, 0.0/15.91 GiB heap, 0.0/7.96 GiB objects (0.0/1.0 accelerator_type:G)\n",
      "Result logdir: /home/allenwu/Desktop/work/MARLlib-1.0.3/exp_results/happo_mlp_CityLearn_5e-07_0.0005_APPEND-DATA_seed-5\n",
      "Number of trials: 1/1 (1 RUNNING)\n",
      "\n",
      "\n",
      "== Status ==\n",
      "Current time: 2023-09-19 00:12:58 (running for 00:01:44.36)\n",
      "Memory usage on this node: 6.3/31.2 GiB\n",
      "Using FIFO scheduling algorithm.\n",
      "Resources requested: 3.0/24 CPUs, 1.0/0 GPUs, 0.0/15.91 GiB heap, 0.0/7.96 GiB objects (0.0/1.0 accelerator_type:G)\n",
      "Result logdir: /home/allenwu/Desktop/work/MARLlib-1.0.3/exp_results/happo_mlp_CityLearn_5e-07_0.0005_APPEND-DATA_seed-5\n",
      "Number of trials: 1/1 (1 RUNNING)\n",
      "\n",
      "\n",
      "== Status ==\n",
      "Current time: 2023-09-19 00:13:03 (running for 00:01:49.44)\n",
      "Memory usage on this node: 6.3/31.2 GiB\n",
      "Using FIFO scheduling algorithm.\n",
      "Resources requested: 3.0/24 CPUs, 1.0/0 GPUs, 0.0/15.91 GiB heap, 0.0/7.96 GiB objects (0.0/1.0 accelerator_type:G)\n",
      "Result logdir: /home/allenwu/Desktop/work/MARLlib-1.0.3/exp_results/happo_mlp_CityLearn_5e-07_0.0005_APPEND-DATA_seed-5\n",
      "Number of trials: 1/1 (1 RUNNING)\n",
      "\n",
      "\n",
      "== Status ==\n",
      "Current time: 2023-09-19 00:13:08 (running for 00:01:54.53)\n",
      "Memory usage on this node: 6.3/31.2 GiB\n",
      "Using FIFO scheduling algorithm.\n",
      "Resources requested: 3.0/24 CPUs, 1.0/0 GPUs, 0.0/15.91 GiB heap, 0.0/7.96 GiB objects (0.0/1.0 accelerator_type:G)\n",
      "Result logdir: /home/allenwu/Desktop/work/MARLlib-1.0.3/exp_results/happo_mlp_CityLearn_5e-07_0.0005_APPEND-DATA_seed-5\n",
      "Number of trials: 1/1 (1 RUNNING)\n",
      "\n",
      "\n",
      "== Status ==\n",
      "Current time: 2023-09-19 00:13:13 (running for 00:01:59.73)\n",
      "Memory usage on this node: 6.4/31.2 GiB\n",
      "Using FIFO scheduling algorithm.\n",
      "Resources requested: 3.0/24 CPUs, 1.0/0 GPUs, 0.0/15.91 GiB heap, 0.0/7.96 GiB objects (0.0/1.0 accelerator_type:G)\n",
      "Result logdir: /home/allenwu/Desktop/work/MARLlib-1.0.3/exp_results/happo_mlp_CityLearn_5e-07_0.0005_APPEND-DATA_seed-5\n",
      "Number of trials: 1/1 (1 RUNNING)\n",
      "\n",
      "\n"
     ]
    },
    {
     "name": "stderr",
     "output_type": "stream",
     "text": [
      "2023-09-19 00:13:14,257\tWARNING ray_trial_executor.py:768 -- Over the last 60 seconds, the Tune event loop has been backlogged processing new results. Consider increasing your period of result reporting to improve performance.\n"
     ]
    },
    {
     "name": "stdout",
     "output_type": "stream",
     "text": [
      "== Status ==\n",
      "Current time: 2023-09-19 00:13:18 (running for 00:02:04.95)\n",
      "Memory usage on this node: 6.4/31.2 GiB\n",
      "Using FIFO scheduling algorithm.\n",
      "Resources requested: 3.0/24 CPUs, 1.0/0 GPUs, 0.0/15.91 GiB heap, 0.0/7.96 GiB objects (0.0/1.0 accelerator_type:G)\n",
      "Result logdir: /home/allenwu/Desktop/work/MARLlib-1.0.3/exp_results/happo_mlp_CityLearn_5e-07_0.0005_APPEND-DATA_seed-5\n",
      "Number of trials: 1/1 (1 RUNNING)\n",
      "\n",
      "\n",
      "== Status ==\n",
      "Current time: 2023-09-19 00:13:24 (running for 00:02:10.18)\n",
      "Memory usage on this node: 6.4/31.2 GiB\n",
      "Using FIFO scheduling algorithm.\n",
      "Resources requested: 3.0/24 CPUs, 1.0/0 GPUs, 0.0/15.91 GiB heap, 0.0/7.96 GiB objects (0.0/1.0 accelerator_type:G)\n",
      "Result logdir: /home/allenwu/Desktop/work/MARLlib-1.0.3/exp_results/happo_mlp_CityLearn_5e-07_0.0005_APPEND-DATA_seed-5\n",
      "Number of trials: 1/1 (1 RUNNING)\n",
      "\n",
      "\n",
      "== Status ==\n",
      "Current time: 2023-09-19 00:13:29 (running for 00:02:15.41)\n",
      "Memory usage on this node: 6.4/31.2 GiB\n",
      "Using FIFO scheduling algorithm.\n",
      "Resources requested: 3.0/24 CPUs, 1.0/0 GPUs, 0.0/15.91 GiB heap, 0.0/7.96 GiB objects (0.0/1.0 accelerator_type:G)\n",
      "Result logdir: /home/allenwu/Desktop/work/MARLlib-1.0.3/exp_results/happo_mlp_CityLearn_5e-07_0.0005_APPEND-DATA_seed-5\n",
      "Number of trials: 1/1 (1 RUNNING)\n",
      "\n",
      "\n",
      "== Status ==\n",
      "Current time: 2023-09-19 00:13:34 (running for 00:02:20.42)\n",
      "Memory usage on this node: 6.4/31.2 GiB\n",
      "Using FIFO scheduling algorithm.\n",
      "Resources requested: 3.0/24 CPUs, 1.0/0 GPUs, 0.0/15.91 GiB heap, 0.0/7.96 GiB objects (0.0/1.0 accelerator_type:G)\n",
      "Result logdir: /home/allenwu/Desktop/work/MARLlib-1.0.3/exp_results/happo_mlp_CityLearn_5e-07_0.0005_APPEND-DATA_seed-5\n",
      "Number of trials: 1/1 (1 RUNNING)\n",
      "\n",
      "\n",
      "== Status ==\n",
      "Current time: 2023-09-19 00:13:39 (running for 00:02:25.65)\n",
      "Memory usage on this node: 6.4/31.2 GiB\n",
      "Using FIFO scheduling algorithm.\n",
      "Resources requested: 3.0/24 CPUs, 1.0/0 GPUs, 0.0/15.91 GiB heap, 0.0/7.96 GiB objects (0.0/1.0 accelerator_type:G)\n",
      "Result logdir: /home/allenwu/Desktop/work/MARLlib-1.0.3/exp_results/happo_mlp_CityLearn_5e-07_0.0005_APPEND-DATA_seed-5\n",
      "Number of trials: 1/1 (1 RUNNING)\n",
      "\n",
      "\n",
      "== Status ==\n",
      "Current time: 2023-09-19 00:13:44 (running for 00:02:30.87)\n",
      "Memory usage on this node: 6.4/31.2 GiB\n",
      "Using FIFO scheduling algorithm.\n",
      "Resources requested: 3.0/24 CPUs, 1.0/0 GPUs, 0.0/15.91 GiB heap, 0.0/7.96 GiB objects (0.0/1.0 accelerator_type:G)\n",
      "Result logdir: /home/allenwu/Desktop/work/MARLlib-1.0.3/exp_results/happo_mlp_CityLearn_5e-07_0.0005_APPEND-DATA_seed-5\n",
      "Number of trials: 1/1 (1 RUNNING)\n",
      "\n",
      "\n",
      "== Status ==\n",
      "Current time: 2023-09-19 00:13:50 (running for 00:02:36.13)\n",
      "Memory usage on this node: 6.4/31.2 GiB\n",
      "Using FIFO scheduling algorithm.\n",
      "Resources requested: 3.0/24 CPUs, 1.0/0 GPUs, 0.0/15.91 GiB heap, 0.0/7.96 GiB objects (0.0/1.0 accelerator_type:G)\n",
      "Result logdir: /home/allenwu/Desktop/work/MARLlib-1.0.3/exp_results/happo_mlp_CityLearn_5e-07_0.0005_APPEND-DATA_seed-5\n",
      "Number of trials: 1/1 (1 RUNNING)\n",
      "\n",
      "\n",
      "== Status ==\n",
      "Current time: 2023-09-19 00:13:55 (running for 00:02:41.31)\n",
      "Memory usage on this node: 6.4/31.2 GiB\n",
      "Using FIFO scheduling algorithm.\n",
      "Resources requested: 3.0/24 CPUs, 1.0/0 GPUs, 0.0/15.91 GiB heap, 0.0/7.96 GiB objects (0.0/1.0 accelerator_type:G)\n",
      "Result logdir: /home/allenwu/Desktop/work/MARLlib-1.0.3/exp_results/happo_mlp_CityLearn_5e-07_0.0005_APPEND-DATA_seed-5\n",
      "Number of trials: 1/1 (1 RUNNING)\n",
      "\n",
      "\n",
      "== Status ==\n",
      "Current time: 2023-09-19 00:14:00 (running for 00:02:46.49)\n",
      "Memory usage on this node: 6.4/31.2 GiB\n",
      "Using FIFO scheduling algorithm.\n",
      "Resources requested: 3.0/24 CPUs, 1.0/0 GPUs, 0.0/15.91 GiB heap, 0.0/7.96 GiB objects (0.0/1.0 accelerator_type:G)\n",
      "Result logdir: /home/allenwu/Desktop/work/MARLlib-1.0.3/exp_results/happo_mlp_CityLearn_5e-07_0.0005_APPEND-DATA_seed-5\n",
      "Number of trials: 1/1 (1 RUNNING)\n",
      "\n",
      "\n",
      "== Status ==\n",
      "Current time: 2023-09-19 00:14:05 (running for 00:02:51.68)\n",
      "Memory usage on this node: 6.5/31.2 GiB\n",
      "Using FIFO scheduling algorithm.\n",
      "Resources requested: 3.0/24 CPUs, 1.0/0 GPUs, 0.0/15.91 GiB heap, 0.0/7.96 GiB objects (0.0/1.0 accelerator_type:G)\n",
      "Result logdir: /home/allenwu/Desktop/work/MARLlib-1.0.3/exp_results/happo_mlp_CityLearn_5e-07_0.0005_APPEND-DATA_seed-5\n",
      "Number of trials: 1/1 (1 RUNNING)\n",
      "\n",
      "\n",
      "== Status ==\n",
      "Current time: 2023-09-19 00:14:10 (running for 00:02:56.91)\n",
      "Memory usage on this node: 6.5/31.2 GiB\n",
      "Using FIFO scheduling algorithm.\n",
      "Resources requested: 3.0/24 CPUs, 1.0/0 GPUs, 0.0/15.91 GiB heap, 0.0/7.96 GiB objects (0.0/1.0 accelerator_type:G)\n",
      "Result logdir: /home/allenwu/Desktop/work/MARLlib-1.0.3/exp_results/happo_mlp_CityLearn_5e-07_0.0005_APPEND-DATA_seed-5\n",
      "Number of trials: 1/1 (1 RUNNING)\n",
      "\n",
      "\n",
      "== Status ==\n",
      "Current time: 2023-09-19 00:14:16 (running for 00:03:02.08)\n",
      "Memory usage on this node: 6.5/31.2 GiB\n",
      "Using FIFO scheduling algorithm.\n",
      "Resources requested: 3.0/24 CPUs, 1.0/0 GPUs, 0.0/15.91 GiB heap, 0.0/7.96 GiB objects (0.0/1.0 accelerator_type:G)\n",
      "Result logdir: /home/allenwu/Desktop/work/MARLlib-1.0.3/exp_results/happo_mlp_CityLearn_5e-07_0.0005_APPEND-DATA_seed-5\n",
      "Number of trials: 1/1 (1 RUNNING)\n",
      "\n",
      "\n",
      "== Status ==\n",
      "Current time: 2023-09-19 00:14:21 (running for 00:03:07.22)\n",
      "Memory usage on this node: 6.5/31.2 GiB\n",
      "Using FIFO scheduling algorithm.\n",
      "Resources requested: 3.0/24 CPUs, 1.0/0 GPUs, 0.0/15.91 GiB heap, 0.0/7.96 GiB objects (0.0/1.0 accelerator_type:G)\n",
      "Result logdir: /home/allenwu/Desktop/work/MARLlib-1.0.3/exp_results/happo_mlp_CityLearn_5e-07_0.0005_APPEND-DATA_seed-5\n",
      "Number of trials: 1/1 (1 RUNNING)\n",
      "\n",
      "\n",
      "== Status ==\n",
      "Current time: 2023-09-19 00:14:26 (running for 00:03:12.39)\n",
      "Memory usage on this node: 6.5/31.2 GiB\n",
      "Using FIFO scheduling algorithm.\n",
      "Resources requested: 3.0/24 CPUs, 1.0/0 GPUs, 0.0/15.91 GiB heap, 0.0/7.96 GiB objects (0.0/1.0 accelerator_type:G)\n",
      "Result logdir: /home/allenwu/Desktop/work/MARLlib-1.0.3/exp_results/happo_mlp_CityLearn_5e-07_0.0005_APPEND-DATA_seed-5\n",
      "Number of trials: 1/1 (1 RUNNING)\n",
      "\n",
      "\n",
      "== Status ==\n",
      "Current time: 2023-09-19 00:14:31 (running for 00:03:17.53)\n",
      "Memory usage on this node: 6.5/31.2 GiB\n",
      "Using FIFO scheduling algorithm.\n",
      "Resources requested: 3.0/24 CPUs, 1.0/0 GPUs, 0.0/15.91 GiB heap, 0.0/7.96 GiB objects (0.0/1.0 accelerator_type:G)\n",
      "Result logdir: /home/allenwu/Desktop/work/MARLlib-1.0.3/exp_results/happo_mlp_CityLearn_5e-07_0.0005_APPEND-DATA_seed-5\n",
      "Number of trials: 1/1 (1 RUNNING)\n",
      "\n",
      "\n",
      "== Status ==\n",
      "Current time: 2023-09-19 00:14:36 (running for 00:03:22.76)\n",
      "Memory usage on this node: 6.5/31.2 GiB\n",
      "Using FIFO scheduling algorithm.\n",
      "Resources requested: 3.0/24 CPUs, 1.0/0 GPUs, 0.0/15.91 GiB heap, 0.0/7.96 GiB objects (0.0/1.0 accelerator_type:G)\n",
      "Result logdir: /home/allenwu/Desktop/work/MARLlib-1.0.3/exp_results/happo_mlp_CityLearn_5e-07_0.0005_APPEND-DATA_seed-5\n",
      "Number of trials: 1/1 (1 RUNNING)\n",
      "\n",
      "\n",
      "== Status ==\n",
      "Current time: 2023-09-19 00:14:41 (running for 00:03:27.83)\n",
      "Memory usage on this node: 6.5/31.2 GiB\n",
      "Using FIFO scheduling algorithm.\n",
      "Resources requested: 3.0/24 CPUs, 1.0/0 GPUs, 0.0/15.91 GiB heap, 0.0/7.96 GiB objects (0.0/1.0 accelerator_type:G)\n",
      "Result logdir: /home/allenwu/Desktop/work/MARLlib-1.0.3/exp_results/happo_mlp_CityLearn_5e-07_0.0005_APPEND-DATA_seed-5\n",
      "Number of trials: 1/1 (1 RUNNING)\n",
      "\n",
      "\n",
      "== Status ==\n",
      "Current time: 2023-09-19 00:14:46 (running for 00:03:32.91)\n",
      "Memory usage on this node: 6.5/31.2 GiB\n",
      "Using FIFO scheduling algorithm.\n",
      "Resources requested: 3.0/24 CPUs, 1.0/0 GPUs, 0.0/15.91 GiB heap, 0.0/7.96 GiB objects (0.0/1.0 accelerator_type:G)\n",
      "Result logdir: /home/allenwu/Desktop/work/MARLlib-1.0.3/exp_results/happo_mlp_CityLearn_5e-07_0.0005_APPEND-DATA_seed-5\n",
      "Number of trials: 1/1 (1 RUNNING)\n",
      "\n",
      "\n",
      "== Status ==\n",
      "Current time: 2023-09-19 00:14:52 (running for 00:03:38.08)\n",
      "Memory usage on this node: 6.5/31.2 GiB\n",
      "Using FIFO scheduling algorithm.\n",
      "Resources requested: 3.0/24 CPUs, 1.0/0 GPUs, 0.0/15.91 GiB heap, 0.0/7.96 GiB objects (0.0/1.0 accelerator_type:G)\n",
      "Result logdir: /home/allenwu/Desktop/work/MARLlib-1.0.3/exp_results/happo_mlp_CityLearn_5e-07_0.0005_APPEND-DATA_seed-5\n",
      "Number of trials: 1/1 (1 RUNNING)\n",
      "\n",
      "\n"
     ]
    },
    {
     "name": "stderr",
     "output_type": "stream",
     "text": [
      "2023-09-19 00:14:56,986\tINFO tune.py:630 -- Total run time: 222.99 seconds (222.86 seconds for the tuning loop).\n"
     ]
    },
    {
     "name": "stdout",
     "output_type": "stream",
     "text": [
      "== Status ==\n",
      "Current time: 2023-09-19 00:14:56 (running for 00:03:42.88)\n",
      "Memory usage on this node: 6.5/31.2 GiB\n",
      "Using FIFO scheduling algorithm.\n",
      "Resources requested: 0/24 CPUs, 0/0 GPUs, 0.0/15.91 GiB heap, 0.0/7.96 GiB objects (0.0/1.0 accelerator_type:G)\n",
      "Result logdir: /home/allenwu/Desktop/work/MARLlib-1.0.3/exp_results/happo_mlp_CityLearn_5e-07_0.0005_APPEND-DATA_seed-5\n",
      "Number of trials: 1/1 (1 TERMINATED)\n",
      "\n",
      "\n"
     ]
    }
   ],
   "source": [
    "env_2 = marl.make_env(environment_name=\"CityLearnGym\", map_name=\"CityLearn\")\n",
    "\n",
    "happo = marl.algos.happo(hyperparam_source=\"common\")\n",
    "model_2 = marl.build_model(env_2, happo, {\"core_arch\": \"mlp\", \"encode_layer\": \"128-128\"})\n",
    "\n",
    "happo.fit(env_2, model_2, stop={'timesteps_total': 8759}, local_mode=True, num_gpus=1,\n",
    "            num_workers=2, share_policy='all', checkpoint_freq=500,\n",
    "            checkpoint_end=True)"
   ]
  },
  {
   "cell_type": "markdown",
   "metadata": {},
   "source": [
    "MATRPO"
   ]
  },
  {
   "cell_type": "code",
   "execution_count": 4,
   "metadata": {},
   "outputs": [
    {
     "name": "stdout",
     "output_type": "stream",
     "text": [
      "+--------------+----------------+---------------------------------------------------------------------------------------------------------------------------------------------------------+----------------------------------------+-------------------------------+\n",
      "| Env_Name     | Check_Status   | Error_Log                                                                                                                                               | Config_File_Location                   | Env_File_Location             |\n",
      "+==============+================+=========================================================================================================================================================+========================================+===============================+\n",
      "| mpe          | Ready          | Null                                                                                                                                                    | envs/base_env/config/mpe.yaml          | envs/base_env/mpe.py          |\n",
      "+--------------+----------------+---------------------------------------------------------------------------------------------------------------------------------------------------------+----------------------------------------+-------------------------------+\n",
      "| mamujoco     | Error          | No module named 'mujoco_py'. (HINT: you need to install mujoco_py, and also perform the setup instructions here: https://github.com/openai/mujoco-py/.) | envs/base_env/config/mamujoco.yaml     | envs/base_env/mamujoco.py     |\n",
      "+--------------+----------------+---------------------------------------------------------------------------------------------------------------------------------------------------------+----------------------------------------+-------------------------------+\n",
      "| smac         | Error          | No module named 'smac'                                                                                                                                  | envs/base_env/config/smac.yaml         | envs/base_env/smac.py         |\n",
      "+--------------+----------------+---------------------------------------------------------------------------------------------------------------------------------------------------------+----------------------------------------+-------------------------------+\n",
      "| football     | Error          | No module named 'gfootball'                                                                                                                             | envs/base_env/config/football.yaml     | envs/base_env/football.py     |\n",
      "+--------------+----------------+---------------------------------------------------------------------------------------------------------------------------------------------------------+----------------------------------------+-------------------------------+\n",
      "| magent       | Error          | cannot import name 'adversarial_pursuit_v3' from 'pettingzoo.magent'                                                                                    | envs/base_env/config/magent.yaml       | envs/base_env/magent.py       |\n",
      "+--------------+----------------+---------------------------------------------------------------------------------------------------------------------------------------------------------+----------------------------------------+-------------------------------+\n",
      "| rware        | Error          | No module named 'rware'                                                                                                                                 | envs/base_env/config/rware.yaml        | envs/base_env/rware.py        |\n",
      "+--------------+----------------+---------------------------------------------------------------------------------------------------------------------------------------------------------+----------------------------------------+-------------------------------+\n",
      "| lbf          | Error          | No module named 'lbforaging'                                                                                                                            | envs/base_env/config/lbf.yaml          | envs/base_env/lbf.py          |\n",
      "+--------------+----------------+---------------------------------------------------------------------------------------------------------------------------------------------------------+----------------------------------------+-------------------------------+\n",
      "| pommerman    | Error          | No module named 'pommerman'                                                                                                                             | envs/base_env/config/pommerman.yaml    | envs/base_env/pommerman.py    |\n",
      "+--------------+----------------+---------------------------------------------------------------------------------------------------------------------------------------------------------+----------------------------------------+-------------------------------+\n",
      "| hanabi       | Ready          | Null                                                                                                                                                    | envs/base_env/config/hanabi.yaml       | envs/base_env/hanabi.py       |\n",
      "+--------------+----------------+---------------------------------------------------------------------------------------------------------------------------------------------------------+----------------------------------------+-------------------------------+\n",
      "| metadrive    | Error          | No module named 'metadrive'                                                                                                                             | envs/base_env/config/metadrive.yaml    | envs/base_env/metadrive.py    |\n",
      "+--------------+----------------+---------------------------------------------------------------------------------------------------------------------------------------------------------+----------------------------------------+-------------------------------+\n",
      "| mate         | Error          | No module named 'mate'                                                                                                                                  | envs/base_env/config/mate.yaml         | envs/base_env/mate.py         |\n",
      "+--------------+----------------+---------------------------------------------------------------------------------------------------------------------------------------------------------+----------------------------------------+-------------------------------+\n",
      "| gobigger     | Error          | No module named 'gobigger'                                                                                                                              | envs/base_env/config/gobigger.yaml     | envs/base_env/gobigger.py     |\n",
      "+--------------+----------------+---------------------------------------------------------------------------------------------------------------------------------------------------------+----------------------------------------+-------------------------------+\n",
      "| CityLearnGym | Ready          | Null                                                                                                                                                    | envs/base_env/config/CityLearnGym.yaml | envs/base_env/CityLearnGym.py |\n",
      "+--------------+----------------+---------------------------------------------------------------------------------------------------------------------------------------------------------+----------------------------------------+-------------------------------+\n"
     ]
    },
    {
     "name": "stderr",
     "output_type": "stream",
     "text": [
      "2023-09-19 00:14:59,506\tWARNING deprecation.py:38 -- DeprecationWarning: `simple_optimizer` has been deprecated. This will raise an error in the future!\n",
      "2023-09-19 00:14:59,506\tWARNING ppo.py:143 -- `train_batch_size` (10) cannot be achieved with your other settings (num_workers=2 num_envs_per_worker=1 rollout_fragment_length=200)! Auto-adjusting `rollout_fragment_length` to 5.\n"
     ]
    },
    {
     "name": "stdout",
     "output_type": "stream",
     "text": [
      ":task_name:bundle_reservation_check_func\n",
      ":actor_name:MATRPOTrainer\n",
      ":actor_name:RolloutWorker\n",
      ":actor_name:RolloutWorker\n"
     ]
    },
    {
     "name": "stderr",
     "output_type": "stream",
     "text": [
      "2023-09-19 00:15:00,175\tWARNING rollout_worker.py:578 -- You are running ray with `local_mode=True`, but have configured 1 GPUs to be used! In local mode, Policies are placed on the CPU and the `num_gpus` setting is ignored.\n",
      "2023-09-19 00:15:00,202\tWARNING trainer_template.py:185 -- `execution_plan` functions should accept `trainer`, `workers`, and `config` as args!\n",
      "2023-09-19 00:15:00,203\tWARNING deprecation.py:38 -- DeprecationWarning: `simple_optimizer` has been deprecated. This will raise an error in the future!\n",
      "2023-09-19 00:15:00,486\tWARNING rollout_worker.py:578 -- You are running ray with `local_mode=True`, but have configured 1 GPUs to be used! In local mode, Policies are placed on the CPU and the `num_gpus` setting is ignored.\n",
      "2023-09-19 00:15:00,491\tWARNING util.py:57 -- Install gputil for GPU system monitoring.\n"
     ]
    },
    {
     "name": "stdout",
     "output_type": "stream",
     "text": [
      ":actor_name:MATRPOTrainer\n"
     ]
    },
    {
     "name": "stderr",
     "output_type": "stream",
     "text": [
      "2023-09-19 00:15:00,962\tWARNING util.py:165 -- The `start_trial` operation took 1.496 s, which may be a performance bottleneck.\n"
     ]
    },
    {
     "name": "stdout",
     "output_type": "stream",
     "text": [
      "== Status ==\n",
      "Current time: 2023-09-19 00:15:00 (running for 00:00:01.60)\n",
      "Memory usage on this node: 6.5/31.2 GiB\n",
      "Using FIFO scheduling algorithm.\n",
      "Resources requested: 3.0/24 CPUs, 1.0/0 GPUs, 0.0/15.76 GiB heap, 0.0/7.88 GiB objects (0.0/1.0 accelerator_type:G)\n",
      "Result logdir: /home/allenwu/Desktop/work/MARLlib-1.0.3/exp_results/matrpo_mlp_CityLearn\n",
      "Number of trials: 1/1 (1 RUNNING)\n",
      "\n",
      "\n",
      "== Status ==\n",
      "Current time: 2023-09-19 00:15:06 (running for 00:00:07.05)\n",
      "Memory usage on this node: 6.5/31.2 GiB\n",
      "Using FIFO scheduling algorithm.\n",
      "Resources requested: 3.0/24 CPUs, 1.0/0 GPUs, 0.0/15.76 GiB heap, 0.0/7.88 GiB objects (0.0/1.0 accelerator_type:G)\n",
      "Result logdir: /home/allenwu/Desktop/work/MARLlib-1.0.3/exp_results/matrpo_mlp_CityLearn\n",
      "Number of trials: 1/1 (1 RUNNING)\n",
      "\n",
      "\n",
      "== Status ==\n",
      "Current time: 2023-09-19 00:15:11 (running for 00:00:12.15)\n",
      "Memory usage on this node: 6.5/31.2 GiB\n",
      "Using FIFO scheduling algorithm.\n",
      "Resources requested: 3.0/24 CPUs, 1.0/0 GPUs, 0.0/15.76 GiB heap, 0.0/7.88 GiB objects (0.0/1.0 accelerator_type:G)\n",
      "Result logdir: /home/allenwu/Desktop/work/MARLlib-1.0.3/exp_results/matrpo_mlp_CityLearn\n",
      "Number of trials: 1/1 (1 RUNNING)\n",
      "\n",
      "\n",
      "== Status ==\n",
      "Current time: 2023-09-19 00:15:16 (running for 00:00:17.30)\n",
      "Memory usage on this node: 6.5/31.2 GiB\n",
      "Using FIFO scheduling algorithm.\n",
      "Resources requested: 3.0/24 CPUs, 1.0/0 GPUs, 0.0/15.76 GiB heap, 0.0/7.88 GiB objects (0.0/1.0 accelerator_type:G)\n",
      "Result logdir: /home/allenwu/Desktop/work/MARLlib-1.0.3/exp_results/matrpo_mlp_CityLearn\n",
      "Number of trials: 1/1 (1 RUNNING)\n",
      "\n",
      "\n",
      "== Status ==\n",
      "Current time: 2023-09-19 00:15:22 (running for 00:00:22.71)\n",
      "Memory usage on this node: 6.6/31.2 GiB\n",
      "Using FIFO scheduling algorithm.\n",
      "Resources requested: 3.0/24 CPUs, 1.0/0 GPUs, 0.0/15.76 GiB heap, 0.0/7.88 GiB objects (0.0/1.0 accelerator_type:G)\n",
      "Result logdir: /home/allenwu/Desktop/work/MARLlib-1.0.3/exp_results/matrpo_mlp_CityLearn\n",
      "Number of trials: 1/1 (1 RUNNING)\n",
      "\n",
      "\n"
     ]
    },
    {
     "name": "stderr",
     "output_type": "stream",
     "text": [
      "2023-09-19 00:16:35,894\tWARNING ray_trial_executor.py:768 -- Over the last 60 seconds, the Tune event loop has been backlogged processing new results. Consider increasing your period of result reporting to improve performance.\n"
     ]
    },
    {
     "name": "stdout",
     "output_type": "stream",
     "text": [
      "== Status ==\n",
      "Current time: 2023-09-19 00:16:35 (running for 00:01:36.53)\n",
      "Memory usage on this node: 6.6/31.2 GiB\n",
      "Using FIFO scheduling algorithm.\n",
      "Resources requested: 3.0/24 CPUs, 1.0/0 GPUs, 0.0/15.76 GiB heap, 0.0/7.88 GiB objects (0.0/1.0 accelerator_type:G)\n",
      "Result logdir: /home/allenwu/Desktop/work/MARLlib-1.0.3/exp_results/matrpo_mlp_CityLearn\n",
      "Number of trials: 1/1 (1 RUNNING)\n",
      "\n",
      "\n",
      "== Status ==\n",
      "Current time: 2023-09-19 00:16:41 (running for 00:01:41.96)\n",
      "Memory usage on this node: 6.6/31.2 GiB\n",
      "Using FIFO scheduling algorithm.\n",
      "Resources requested: 3.0/24 CPUs, 1.0/0 GPUs, 0.0/15.76 GiB heap, 0.0/7.88 GiB objects (0.0/1.0 accelerator_type:G)\n",
      "Result logdir: /home/allenwu/Desktop/work/MARLlib-1.0.3/exp_results/matrpo_mlp_CityLearn\n",
      "Number of trials: 1/1 (1 RUNNING)\n",
      "\n",
      "\n",
      "== Status ==\n",
      "Current time: 2023-09-19 00:16:46 (running for 00:01:46.99)\n",
      "Memory usage on this node: 6.6/31.2 GiB\n",
      "Using FIFO scheduling algorithm.\n",
      "Resources requested: 3.0/24 CPUs, 1.0/0 GPUs, 0.0/15.76 GiB heap, 0.0/7.88 GiB objects (0.0/1.0 accelerator_type:G)\n",
      "Result logdir: /home/allenwu/Desktop/work/MARLlib-1.0.3/exp_results/matrpo_mlp_CityLearn\n",
      "Number of trials: 1/1 (1 RUNNING)\n",
      "\n",
      "\n",
      "== Status ==\n",
      "Current time: 2023-09-19 00:16:51 (running for 00:01:52.36)\n",
      "Memory usage on this node: 6.6/31.2 GiB\n",
      "Using FIFO scheduling algorithm.\n",
      "Resources requested: 3.0/24 CPUs, 1.0/0 GPUs, 0.0/15.76 GiB heap, 0.0/7.88 GiB objects (0.0/1.0 accelerator_type:G)\n",
      "Result logdir: /home/allenwu/Desktop/work/MARLlib-1.0.3/exp_results/matrpo_mlp_CityLearn\n",
      "Number of trials: 1/1 (1 RUNNING)\n",
      "\n",
      "\n",
      "== Status ==\n",
      "Current time: 2023-09-19 00:16:56 (running for 00:01:57.41)\n",
      "Memory usage on this node: 6.6/31.2 GiB\n",
      "Using FIFO scheduling algorithm.\n",
      "Resources requested: 3.0/24 CPUs, 1.0/0 GPUs, 0.0/15.76 GiB heap, 0.0/7.88 GiB objects (0.0/1.0 accelerator_type:G)\n",
      "Result logdir: /home/allenwu/Desktop/work/MARLlib-1.0.3/exp_results/matrpo_mlp_CityLearn\n",
      "Number of trials: 1/1 (1 RUNNING)\n",
      "\n",
      "\n"
     ]
    },
    {
     "name": "stderr",
     "output_type": "stream",
     "text": [
      "2023-09-19 00:18:11,931\tWARNING ray_trial_executor.py:768 -- Over the last 60 seconds, the Tune event loop has been backlogged processing new results. Consider increasing your period of result reporting to improve performance.\n"
     ]
    },
    {
     "name": "stdout",
     "output_type": "stream",
     "text": [
      "== Status ==\n",
      "Current time: 2023-09-19 00:18:11 (running for 00:03:12.57)\n",
      "Memory usage on this node: 6.6/31.2 GiB\n",
      "Using FIFO scheduling algorithm.\n",
      "Resources requested: 3.0/24 CPUs, 1.0/0 GPUs, 0.0/15.76 GiB heap, 0.0/7.88 GiB objects (0.0/1.0 accelerator_type:G)\n",
      "Result logdir: /home/allenwu/Desktop/work/MARLlib-1.0.3/exp_results/matrpo_mlp_CityLearn\n",
      "Number of trials: 1/1 (1 RUNNING)\n",
      "\n",
      "\n",
      "== Status ==\n",
      "Current time: 2023-09-19 00:18:17 (running for 00:03:18.11)\n",
      "Memory usage on this node: 6.6/31.2 GiB\n",
      "Using FIFO scheduling algorithm.\n",
      "Resources requested: 3.0/24 CPUs, 1.0/0 GPUs, 0.0/15.76 GiB heap, 0.0/7.88 GiB objects (0.0/1.0 accelerator_type:G)\n",
      "Result logdir: /home/allenwu/Desktop/work/MARLlib-1.0.3/exp_results/matrpo_mlp_CityLearn\n",
      "Number of trials: 1/1 (1 RUNNING)\n",
      "\n",
      "\n",
      "== Status ==\n",
      "Current time: 2023-09-19 00:18:22 (running for 00:03:23.46)\n",
      "Memory usage on this node: 6.6/31.2 GiB\n",
      "Using FIFO scheduling algorithm.\n",
      "Resources requested: 3.0/24 CPUs, 1.0/0 GPUs, 0.0/15.76 GiB heap, 0.0/7.88 GiB objects (0.0/1.0 accelerator_type:G)\n",
      "Result logdir: /home/allenwu/Desktop/work/MARLlib-1.0.3/exp_results/matrpo_mlp_CityLearn\n",
      "Number of trials: 1/1 (1 RUNNING)\n",
      "\n",
      "\n",
      "== Status ==\n",
      "Current time: 2023-09-19 00:18:28 (running for 00:03:28.84)\n",
      "Memory usage on this node: 6.6/31.2 GiB\n",
      "Using FIFO scheduling algorithm.\n",
      "Resources requested: 3.0/24 CPUs, 1.0/0 GPUs, 0.0/15.76 GiB heap, 0.0/7.88 GiB objects (0.0/1.0 accelerator_type:G)\n",
      "Result logdir: /home/allenwu/Desktop/work/MARLlib-1.0.3/exp_results/matrpo_mlp_CityLearn\n",
      "Number of trials: 1/1 (1 RUNNING)\n",
      "\n",
      "\n",
      "== Status ==\n",
      "Current time: 2023-09-19 00:18:33 (running for 00:03:34.25)\n",
      "Memory usage on this node: 6.6/31.2 GiB\n",
      "Using FIFO scheduling algorithm.\n",
      "Resources requested: 3.0/24 CPUs, 1.0/0 GPUs, 0.0/15.76 GiB heap, 0.0/7.88 GiB objects (0.0/1.0 accelerator_type:G)\n",
      "Result logdir: /home/allenwu/Desktop/work/MARLlib-1.0.3/exp_results/matrpo_mlp_CityLearn\n",
      "Number of trials: 1/1 (1 RUNNING)\n",
      "\n",
      "\n"
     ]
    },
    {
     "name": "stderr",
     "output_type": "stream",
     "text": [
      "2023-09-19 00:19:47,484\tWARNING ray_trial_executor.py:768 -- Over the last 60 seconds, the Tune event loop has been backlogged processing new results. Consider increasing your period of result reporting to improve performance.\n"
     ]
    },
    {
     "name": "stdout",
     "output_type": "stream",
     "text": [
      "== Status ==\n",
      "Current time: 2023-09-19 00:19:47 (running for 00:04:48.12)\n",
      "Memory usage on this node: 6.6/31.2 GiB\n",
      "Using FIFO scheduling algorithm.\n",
      "Resources requested: 3.0/24 CPUs, 1.0/0 GPUs, 0.0/15.76 GiB heap, 0.0/7.88 GiB objects (0.0/1.0 accelerator_type:G)\n",
      "Result logdir: /home/allenwu/Desktop/work/MARLlib-1.0.3/exp_results/matrpo_mlp_CityLearn\n",
      "Number of trials: 1/1 (1 RUNNING)\n",
      "\n",
      "\n",
      "== Status ==\n",
      "Current time: 2023-09-19 00:19:52 (running for 00:04:53.30)\n",
      "Memory usage on this node: 6.6/31.2 GiB\n",
      "Using FIFO scheduling algorithm.\n",
      "Resources requested: 3.0/24 CPUs, 1.0/0 GPUs, 0.0/15.76 GiB heap, 0.0/7.88 GiB objects (0.0/1.0 accelerator_type:G)\n",
      "Result logdir: /home/allenwu/Desktop/work/MARLlib-1.0.3/exp_results/matrpo_mlp_CityLearn\n",
      "Number of trials: 1/1 (1 RUNNING)\n",
      "\n",
      "\n",
      "== Status ==\n",
      "Current time: 2023-09-19 00:19:58 (running for 00:04:58.67)\n",
      "Memory usage on this node: 6.6/31.2 GiB\n",
      "Using FIFO scheduling algorithm.\n",
      "Resources requested: 3.0/24 CPUs, 1.0/0 GPUs, 0.0/15.76 GiB heap, 0.0/7.88 GiB objects (0.0/1.0 accelerator_type:G)\n",
      "Result logdir: /home/allenwu/Desktop/work/MARLlib-1.0.3/exp_results/matrpo_mlp_CityLearn\n",
      "Number of trials: 1/1 (1 RUNNING)\n",
      "\n",
      "\n",
      "== Status ==\n",
      "Current time: 2023-09-19 00:20:03 (running for 00:05:03.80)\n",
      "Memory usage on this node: 6.6/31.2 GiB\n",
      "Using FIFO scheduling algorithm.\n",
      "Resources requested: 3.0/24 CPUs, 1.0/0 GPUs, 0.0/15.76 GiB heap, 0.0/7.88 GiB objects (0.0/1.0 accelerator_type:G)\n",
      "Result logdir: /home/allenwu/Desktop/work/MARLlib-1.0.3/exp_results/matrpo_mlp_CityLearn\n",
      "Number of trials: 1/1 (1 RUNNING)\n",
      "\n",
      "\n",
      "== Status ==\n",
      "Current time: 2023-09-19 00:20:08 (running for 00:05:09.21)\n",
      "Memory usage on this node: 6.6/31.2 GiB\n",
      "Using FIFO scheduling algorithm.\n",
      "Resources requested: 3.0/24 CPUs, 1.0/0 GPUs, 0.0/15.76 GiB heap, 0.0/7.88 GiB objects (0.0/1.0 accelerator_type:G)\n",
      "Result logdir: /home/allenwu/Desktop/work/MARLlib-1.0.3/exp_results/matrpo_mlp_CityLearn\n",
      "Number of trials: 1/1 (1 RUNNING)\n",
      "\n",
      "\n"
     ]
    },
    {
     "name": "stderr",
     "output_type": "stream",
     "text": [
      "2023-09-19 00:21:24,052\tWARNING ray_trial_executor.py:768 -- Over the last 60 seconds, the Tune event loop has been backlogged processing new results. Consider increasing your period of result reporting to improve performance.\n"
     ]
    },
    {
     "name": "stdout",
     "output_type": "stream",
     "text": [
      "== Status ==\n",
      "Current time: 2023-09-19 00:21:24 (running for 00:06:24.69)\n",
      "Memory usage on this node: 6.6/31.2 GiB\n",
      "Using FIFO scheduling algorithm.\n",
      "Resources requested: 3.0/24 CPUs, 1.0/0 GPUs, 0.0/15.76 GiB heap, 0.0/7.88 GiB objects (0.0/1.0 accelerator_type:G)\n",
      "Result logdir: /home/allenwu/Desktop/work/MARLlib-1.0.3/exp_results/matrpo_mlp_CityLearn\n",
      "Number of trials: 1/1 (1 RUNNING)\n",
      "\n",
      "\n",
      "== Status ==\n",
      "Current time: 2023-09-19 00:21:29 (running for 00:06:30.13)\n",
      "Memory usage on this node: 6.6/31.2 GiB\n",
      "Using FIFO scheduling algorithm.\n",
      "Resources requested: 3.0/24 CPUs, 1.0/0 GPUs, 0.0/15.76 GiB heap, 0.0/7.88 GiB objects (0.0/1.0 accelerator_type:G)\n",
      "Result logdir: /home/allenwu/Desktop/work/MARLlib-1.0.3/exp_results/matrpo_mlp_CityLearn\n",
      "Number of trials: 1/1 (1 RUNNING)\n",
      "\n",
      "\n",
      "== Status ==\n",
      "Current time: 2023-09-19 00:21:34 (running for 00:06:35.15)\n",
      "Memory usage on this node: 6.6/31.2 GiB\n",
      "Using FIFO scheduling algorithm.\n",
      "Resources requested: 3.0/24 CPUs, 1.0/0 GPUs, 0.0/15.76 GiB heap, 0.0/7.88 GiB objects (0.0/1.0 accelerator_type:G)\n",
      "Result logdir: /home/allenwu/Desktop/work/MARLlib-1.0.3/exp_results/matrpo_mlp_CityLearn\n",
      "Number of trials: 1/1 (1 RUNNING)\n",
      "\n",
      "\n",
      "== Status ==\n",
      "Current time: 2023-09-19 00:21:39 (running for 00:06:40.60)\n",
      "Memory usage on this node: 6.6/31.2 GiB\n",
      "Using FIFO scheduling algorithm.\n",
      "Resources requested: 3.0/24 CPUs, 1.0/0 GPUs, 0.0/15.76 GiB heap, 0.0/7.88 GiB objects (0.0/1.0 accelerator_type:G)\n",
      "Result logdir: /home/allenwu/Desktop/work/MARLlib-1.0.3/exp_results/matrpo_mlp_CityLearn\n",
      "Number of trials: 1/1 (1 RUNNING)\n",
      "\n",
      "\n",
      "== Status ==\n",
      "Current time: 2023-09-19 00:21:45 (running for 00:06:46.10)\n",
      "Memory usage on this node: 6.6/31.2 GiB\n",
      "Using FIFO scheduling algorithm.\n",
      "Resources requested: 3.0/24 CPUs, 1.0/0 GPUs, 0.0/15.76 GiB heap, 0.0/7.88 GiB objects (0.0/1.0 accelerator_type:G)\n",
      "Result logdir: /home/allenwu/Desktop/work/MARLlib-1.0.3/exp_results/matrpo_mlp_CityLearn\n",
      "Number of trials: 1/1 (1 RUNNING)\n",
      "\n",
      "\n"
     ]
    },
    {
     "name": "stderr",
     "output_type": "stream",
     "text": [
      "2023-09-19 00:23:00,529\tWARNING ray_trial_executor.py:768 -- Over the last 60 seconds, the Tune event loop has been backlogged processing new results. Consider increasing your period of result reporting to improve performance.\n"
     ]
    },
    {
     "name": "stdout",
     "output_type": "stream",
     "text": [
      "== Status ==\n",
      "Current time: 2023-09-19 00:23:00 (running for 00:08:01.17)\n",
      "Memory usage on this node: 6.6/31.2 GiB\n",
      "Using FIFO scheduling algorithm.\n",
      "Resources requested: 3.0/24 CPUs, 1.0/0 GPUs, 0.0/15.76 GiB heap, 0.0/7.88 GiB objects (0.0/1.0 accelerator_type:G)\n",
      "Result logdir: /home/allenwu/Desktop/work/MARLlib-1.0.3/exp_results/matrpo_mlp_CityLearn\n",
      "Number of trials: 1/1 (1 RUNNING)\n",
      "\n",
      "\n",
      "== Status ==\n",
      "Current time: 2023-09-19 00:23:05 (running for 00:08:06.29)\n",
      "Memory usage on this node: 6.6/31.2 GiB\n",
      "Using FIFO scheduling algorithm.\n",
      "Resources requested: 3.0/24 CPUs, 1.0/0 GPUs, 0.0/15.76 GiB heap, 0.0/7.88 GiB objects (0.0/1.0 accelerator_type:G)\n",
      "Result logdir: /home/allenwu/Desktop/work/MARLlib-1.0.3/exp_results/matrpo_mlp_CityLearn\n",
      "Number of trials: 1/1 (1 RUNNING)\n",
      "\n",
      "\n",
      "== Status ==\n",
      "Current time: 2023-09-19 00:23:10 (running for 00:08:11.59)\n",
      "Memory usage on this node: 6.6/31.2 GiB\n",
      "Using FIFO scheduling algorithm.\n",
      "Resources requested: 3.0/24 CPUs, 1.0/0 GPUs, 0.0/15.76 GiB heap, 0.0/7.88 GiB objects (0.0/1.0 accelerator_type:G)\n",
      "Result logdir: /home/allenwu/Desktop/work/MARLlib-1.0.3/exp_results/matrpo_mlp_CityLearn\n",
      "Number of trials: 1/1 (1 RUNNING)\n",
      "\n",
      "\n",
      "== Status ==\n",
      "Current time: 2023-09-19 00:23:16 (running for 00:08:16.97)\n",
      "Memory usage on this node: 6.6/31.2 GiB\n",
      "Using FIFO scheduling algorithm.\n",
      "Resources requested: 3.0/24 CPUs, 1.0/0 GPUs, 0.0/15.76 GiB heap, 0.0/7.88 GiB objects (0.0/1.0 accelerator_type:G)\n",
      "Result logdir: /home/allenwu/Desktop/work/MARLlib-1.0.3/exp_results/matrpo_mlp_CityLearn\n",
      "Number of trials: 1/1 (1 RUNNING)\n",
      "\n",
      "\n",
      "== Status ==\n",
      "Current time: 2023-09-19 00:23:21 (running for 00:08:22.10)\n",
      "Memory usage on this node: 6.6/31.2 GiB\n",
      "Using FIFO scheduling algorithm.\n",
      "Resources requested: 3.0/24 CPUs, 1.0/0 GPUs, 0.0/15.76 GiB heap, 0.0/7.88 GiB objects (0.0/1.0 accelerator_type:G)\n",
      "Result logdir: /home/allenwu/Desktop/work/MARLlib-1.0.3/exp_results/matrpo_mlp_CityLearn\n",
      "Number of trials: 1/1 (1 RUNNING)\n",
      "\n",
      "\n"
     ]
    },
    {
     "name": "stderr",
     "output_type": "stream",
     "text": [
      "2023-09-19 00:24:37,337\tWARNING ray_trial_executor.py:768 -- Over the last 60 seconds, the Tune event loop has been backlogged processing new results. Consider increasing your period of result reporting to improve performance.\n"
     ]
    },
    {
     "name": "stdout",
     "output_type": "stream",
     "text": [
      "== Status ==\n",
      "Current time: 2023-09-19 00:24:37 (running for 00:09:37.98)\n",
      "Memory usage on this node: 6.6/31.2 GiB\n",
      "Using FIFO scheduling algorithm.\n",
      "Resources requested: 3.0/24 CPUs, 1.0/0 GPUs, 0.0/15.76 GiB heap, 0.0/7.88 GiB objects (0.0/1.0 accelerator_type:G)\n",
      "Result logdir: /home/allenwu/Desktop/work/MARLlib-1.0.3/exp_results/matrpo_mlp_CityLearn\n",
      "Number of trials: 1/1 (1 RUNNING)\n",
      "\n",
      "\n",
      "== Status ==\n",
      "Current time: 2023-09-19 00:24:42 (running for 00:09:43.11)\n",
      "Memory usage on this node: 6.6/31.2 GiB\n",
      "Using FIFO scheduling algorithm.\n",
      "Resources requested: 3.0/24 CPUs, 1.0/0 GPUs, 0.0/15.76 GiB heap, 0.0/7.88 GiB objects (0.0/1.0 accelerator_type:G)\n",
      "Result logdir: /home/allenwu/Desktop/work/MARLlib-1.0.3/exp_results/matrpo_mlp_CityLearn\n",
      "Number of trials: 1/1 (1 RUNNING)\n",
      "\n",
      "\n",
      "== Status ==\n",
      "Current time: 2023-09-19 00:24:47 (running for 00:09:48.45)\n",
      "Memory usage on this node: 6.6/31.2 GiB\n",
      "Using FIFO scheduling algorithm.\n",
      "Resources requested: 3.0/24 CPUs, 1.0/0 GPUs, 0.0/15.76 GiB heap, 0.0/7.88 GiB objects (0.0/1.0 accelerator_type:G)\n",
      "Result logdir: /home/allenwu/Desktop/work/MARLlib-1.0.3/exp_results/matrpo_mlp_CityLearn\n",
      "Number of trials: 1/1 (1 RUNNING)\n",
      "\n",
      "\n",
      "== Status ==\n",
      "Current time: 2023-09-19 00:24:52 (running for 00:09:53.54)\n",
      "Memory usage on this node: 6.6/31.2 GiB\n",
      "Using FIFO scheduling algorithm.\n",
      "Resources requested: 3.0/24 CPUs, 1.0/0 GPUs, 0.0/15.76 GiB heap, 0.0/7.88 GiB objects (0.0/1.0 accelerator_type:G)\n",
      "Result logdir: /home/allenwu/Desktop/work/MARLlib-1.0.3/exp_results/matrpo_mlp_CityLearn\n",
      "Number of trials: 1/1 (1 RUNNING)\n",
      "\n",
      "\n",
      "== Status ==\n",
      "Current time: 2023-09-19 00:24:58 (running for 00:09:59.14)\n",
      "Memory usage on this node: 6.6/31.2 GiB\n",
      "Using FIFO scheduling algorithm.\n",
      "Resources requested: 3.0/24 CPUs, 1.0/0 GPUs, 0.0/15.76 GiB heap, 0.0/7.88 GiB objects (0.0/1.0 accelerator_type:G)\n",
      "Result logdir: /home/allenwu/Desktop/work/MARLlib-1.0.3/exp_results/matrpo_mlp_CityLearn\n",
      "Number of trials: 1/1 (1 RUNNING)\n",
      "\n",
      "\n"
     ]
    },
    {
     "name": "stderr",
     "output_type": "stream",
     "text": [
      "2023-09-19 00:26:14,269\tWARNING ray_trial_executor.py:768 -- Over the last 60 seconds, the Tune event loop has been backlogged processing new results. Consider increasing your period of result reporting to improve performance.\n"
     ]
    },
    {
     "name": "stdout",
     "output_type": "stream",
     "text": [
      "== Status ==\n",
      "Current time: 2023-09-19 00:26:14 (running for 00:11:14.91)\n",
      "Memory usage on this node: 6.6/31.2 GiB\n",
      "Using FIFO scheduling algorithm.\n",
      "Resources requested: 3.0/24 CPUs, 1.0/0 GPUs, 0.0/15.76 GiB heap, 0.0/7.88 GiB objects (0.0/1.0 accelerator_type:G)\n",
      "Result logdir: /home/allenwu/Desktop/work/MARLlib-1.0.3/exp_results/matrpo_mlp_CityLearn\n",
      "Number of trials: 1/1 (1 RUNNING)\n",
      "\n",
      "\n",
      "== Status ==\n",
      "Current time: 2023-09-19 00:26:19 (running for 00:11:20.36)\n",
      "Memory usage on this node: 6.6/31.2 GiB\n",
      "Using FIFO scheduling algorithm.\n",
      "Resources requested: 3.0/24 CPUs, 1.0/0 GPUs, 0.0/15.76 GiB heap, 0.0/7.88 GiB objects (0.0/1.0 accelerator_type:G)\n",
      "Result logdir: /home/allenwu/Desktop/work/MARLlib-1.0.3/exp_results/matrpo_mlp_CityLearn\n",
      "Number of trials: 1/1 (1 RUNNING)\n",
      "\n",
      "\n",
      "== Status ==\n",
      "Current time: 2023-09-19 00:26:24 (running for 00:11:25.39)\n",
      "Memory usage on this node: 6.6/31.2 GiB\n",
      "Using FIFO scheduling algorithm.\n",
      "Resources requested: 3.0/24 CPUs, 1.0/0 GPUs, 0.0/15.76 GiB heap, 0.0/7.88 GiB objects (0.0/1.0 accelerator_type:G)\n",
      "Result logdir: /home/allenwu/Desktop/work/MARLlib-1.0.3/exp_results/matrpo_mlp_CityLearn\n",
      "Number of trials: 1/1 (1 RUNNING)\n",
      "\n",
      "\n",
      "== Status ==\n",
      "Current time: 2023-09-19 00:26:29 (running for 00:11:30.43)\n",
      "Memory usage on this node: 6.6/31.2 GiB\n",
      "Using FIFO scheduling algorithm.\n",
      "Resources requested: 3.0/24 CPUs, 1.0/0 GPUs, 0.0/15.76 GiB heap, 0.0/7.88 GiB objects (0.0/1.0 accelerator_type:G)\n",
      "Result logdir: /home/allenwu/Desktop/work/MARLlib-1.0.3/exp_results/matrpo_mlp_CityLearn\n",
      "Number of trials: 1/1 (1 RUNNING)\n",
      "\n",
      "\n",
      "== Status ==\n",
      "Current time: 2023-09-19 00:26:34 (running for 00:11:35.59)\n",
      "Memory usage on this node: 6.6/31.2 GiB\n",
      "Using FIFO scheduling algorithm.\n",
      "Resources requested: 3.0/24 CPUs, 1.0/0 GPUs, 0.0/15.76 GiB heap, 0.0/7.88 GiB objects (0.0/1.0 accelerator_type:G)\n",
      "Result logdir: /home/allenwu/Desktop/work/MARLlib-1.0.3/exp_results/matrpo_mlp_CityLearn\n",
      "Number of trials: 1/1 (1 RUNNING)\n",
      "\n",
      "\n"
     ]
    },
    {
     "name": "stderr",
     "output_type": "stream",
     "text": [
      "2023-09-19 00:27:50,043\tWARNING ray_trial_executor.py:768 -- Over the last 60 seconds, the Tune event loop has been backlogged processing new results. Consider increasing your period of result reporting to improve performance.\n"
     ]
    },
    {
     "name": "stdout",
     "output_type": "stream",
     "text": [
      "== Status ==\n",
      "Current time: 2023-09-19 00:27:50 (running for 00:12:50.68)\n",
      "Memory usage on this node: 6.6/31.2 GiB\n",
      "Using FIFO scheduling algorithm.\n",
      "Resources requested: 3.0/24 CPUs, 1.0/0 GPUs, 0.0/15.76 GiB heap, 0.0/7.88 GiB objects (0.0/1.0 accelerator_type:G)\n",
      "Result logdir: /home/allenwu/Desktop/work/MARLlib-1.0.3/exp_results/matrpo_mlp_CityLearn\n",
      "Number of trials: 1/1 (1 RUNNING)\n",
      "\n",
      "\n",
      "== Status ==\n",
      "Current time: 2023-09-19 00:27:55 (running for 00:12:56.22)\n",
      "Memory usage on this node: 6.6/31.2 GiB\n",
      "Using FIFO scheduling algorithm.\n",
      "Resources requested: 3.0/24 CPUs, 1.0/0 GPUs, 0.0/15.76 GiB heap, 0.0/7.88 GiB objects (0.0/1.0 accelerator_type:G)\n",
      "Result logdir: /home/allenwu/Desktop/work/MARLlib-1.0.3/exp_results/matrpo_mlp_CityLearn\n",
      "Number of trials: 1/1 (1 RUNNING)\n",
      "\n",
      "\n",
      "== Status ==\n",
      "Current time: 2023-09-19 00:28:00 (running for 00:13:01.43)\n",
      "Memory usage on this node: 6.6/31.2 GiB\n",
      "Using FIFO scheduling algorithm.\n",
      "Resources requested: 3.0/24 CPUs, 1.0/0 GPUs, 0.0/15.76 GiB heap, 0.0/7.88 GiB objects (0.0/1.0 accelerator_type:G)\n",
      "Result logdir: /home/allenwu/Desktop/work/MARLlib-1.0.3/exp_results/matrpo_mlp_CityLearn\n",
      "Number of trials: 1/1 (1 RUNNING)\n",
      "\n",
      "\n",
      "== Status ==\n",
      "Current time: 2023-09-19 00:28:06 (running for 00:13:06.77)\n",
      "Memory usage on this node: 6.6/31.2 GiB\n",
      "Using FIFO scheduling algorithm.\n",
      "Resources requested: 3.0/24 CPUs, 1.0/0 GPUs, 0.0/15.76 GiB heap, 0.0/7.88 GiB objects (0.0/1.0 accelerator_type:G)\n",
      "Result logdir: /home/allenwu/Desktop/work/MARLlib-1.0.3/exp_results/matrpo_mlp_CityLearn\n",
      "Number of trials: 1/1 (1 RUNNING)\n",
      "\n",
      "\n",
      "== Status ==\n",
      "Current time: 2023-09-19 00:28:11 (running for 00:13:12.06)\n",
      "Memory usage on this node: 6.6/31.2 GiB\n",
      "Using FIFO scheduling algorithm.\n",
      "Resources requested: 3.0/24 CPUs, 1.0/0 GPUs, 0.0/15.76 GiB heap, 0.0/7.88 GiB objects (0.0/1.0 accelerator_type:G)\n",
      "Result logdir: /home/allenwu/Desktop/work/MARLlib-1.0.3/exp_results/matrpo_mlp_CityLearn\n",
      "Number of trials: 1/1 (1 RUNNING)\n",
      "\n",
      "\n"
     ]
    },
    {
     "name": "stderr",
     "output_type": "stream",
     "text": [
      "2023-09-19 00:29:26,907\tWARNING ray_trial_executor.py:768 -- Over the last 60 seconds, the Tune event loop has been backlogged processing new results. Consider increasing your period of result reporting to improve performance.\n"
     ]
    },
    {
     "name": "stdout",
     "output_type": "stream",
     "text": [
      "== Status ==\n",
      "Current time: 2023-09-19 00:29:26 (running for 00:14:27.54)\n",
      "Memory usage on this node: 6.6/31.2 GiB\n",
      "Using FIFO scheduling algorithm.\n",
      "Resources requested: 3.0/24 CPUs, 1.0/0 GPUs, 0.0/15.76 GiB heap, 0.0/7.88 GiB objects (0.0/1.0 accelerator_type:G)\n",
      "Result logdir: /home/allenwu/Desktop/work/MARLlib-1.0.3/exp_results/matrpo_mlp_CityLearn\n",
      "Number of trials: 1/1 (1 RUNNING)\n",
      "\n",
      "\n",
      "== Status ==\n",
      "Current time: 2023-09-19 00:29:32 (running for 00:14:32.80)\n",
      "Memory usage on this node: 6.6/31.2 GiB\n",
      "Using FIFO scheduling algorithm.\n",
      "Resources requested: 3.0/24 CPUs, 1.0/0 GPUs, 0.0/15.76 GiB heap, 0.0/7.88 GiB objects (0.0/1.0 accelerator_type:G)\n",
      "Result logdir: /home/allenwu/Desktop/work/MARLlib-1.0.3/exp_results/matrpo_mlp_CityLearn\n",
      "Number of trials: 1/1 (1 RUNNING)\n",
      "\n",
      "\n",
      "== Status ==\n",
      "Current time: 2023-09-19 00:29:37 (running for 00:14:37.92)\n",
      "Memory usage on this node: 6.6/31.2 GiB\n",
      "Using FIFO scheduling algorithm.\n",
      "Resources requested: 3.0/24 CPUs, 1.0/0 GPUs, 0.0/15.76 GiB heap, 0.0/7.88 GiB objects (0.0/1.0 accelerator_type:G)\n",
      "Result logdir: /home/allenwu/Desktop/work/MARLlib-1.0.3/exp_results/matrpo_mlp_CityLearn\n",
      "Number of trials: 1/1 (1 RUNNING)\n",
      "\n",
      "\n",
      "== Status ==\n",
      "Current time: 2023-09-19 00:29:42 (running for 00:14:43.05)\n",
      "Memory usage on this node: 6.6/31.2 GiB\n",
      "Using FIFO scheduling algorithm.\n",
      "Resources requested: 3.0/24 CPUs, 1.0/0 GPUs, 0.0/15.76 GiB heap, 0.0/7.88 GiB objects (0.0/1.0 accelerator_type:G)\n",
      "Result logdir: /home/allenwu/Desktop/work/MARLlib-1.0.3/exp_results/matrpo_mlp_CityLearn\n",
      "Number of trials: 1/1 (1 RUNNING)\n",
      "\n",
      "\n",
      "== Status ==\n",
      "Current time: 2023-09-19 00:29:47 (running for 00:14:48.38)\n",
      "Memory usage on this node: 6.6/31.2 GiB\n",
      "Using FIFO scheduling algorithm.\n",
      "Resources requested: 3.0/24 CPUs, 1.0/0 GPUs, 0.0/15.76 GiB heap, 0.0/7.88 GiB objects (0.0/1.0 accelerator_type:G)\n",
      "Result logdir: /home/allenwu/Desktop/work/MARLlib-1.0.3/exp_results/matrpo_mlp_CityLearn\n",
      "Number of trials: 1/1 (1 RUNNING)\n",
      "\n",
      "\n"
     ]
    },
    {
     "name": "stderr",
     "output_type": "stream",
     "text": [
      "2023-09-19 00:31:04,367\tWARNING ray_trial_executor.py:768 -- Over the last 60 seconds, the Tune event loop has been backlogged processing new results. Consider increasing your period of result reporting to improve performance.\n"
     ]
    },
    {
     "name": "stdout",
     "output_type": "stream",
     "text": [
      "== Status ==\n",
      "Current time: 2023-09-19 00:31:04 (running for 00:16:05.01)\n",
      "Memory usage on this node: 6.6/31.2 GiB\n",
      "Using FIFO scheduling algorithm.\n",
      "Resources requested: 3.0/24 CPUs, 1.0/0 GPUs, 0.0/15.76 GiB heap, 0.0/7.88 GiB objects (0.0/1.0 accelerator_type:G)\n",
      "Result logdir: /home/allenwu/Desktop/work/MARLlib-1.0.3/exp_results/matrpo_mlp_CityLearn\n",
      "Number of trials: 1/1 (1 RUNNING)\n",
      "\n",
      "\n",
      "== Status ==\n",
      "Current time: 2023-09-19 00:31:09 (running for 00:16:10.17)\n",
      "Memory usage on this node: 6.6/31.2 GiB\n",
      "Using FIFO scheduling algorithm.\n",
      "Resources requested: 3.0/24 CPUs, 1.0/0 GPUs, 0.0/15.76 GiB heap, 0.0/7.88 GiB objects (0.0/1.0 accelerator_type:G)\n",
      "Result logdir: /home/allenwu/Desktop/work/MARLlib-1.0.3/exp_results/matrpo_mlp_CityLearn\n",
      "Number of trials: 1/1 (1 RUNNING)\n",
      "\n",
      "\n",
      "== Status ==\n",
      "Current time: 2023-09-19 00:31:14 (running for 00:16:15.49)\n",
      "Memory usage on this node: 6.6/31.2 GiB\n",
      "Using FIFO scheduling algorithm.\n",
      "Resources requested: 3.0/24 CPUs, 1.0/0 GPUs, 0.0/15.76 GiB heap, 0.0/7.88 GiB objects (0.0/1.0 accelerator_type:G)\n",
      "Result logdir: /home/allenwu/Desktop/work/MARLlib-1.0.3/exp_results/matrpo_mlp_CityLearn\n",
      "Number of trials: 1/1 (1 RUNNING)\n",
      "\n",
      "\n",
      "== Status ==\n",
      "Current time: 2023-09-19 00:31:20 (running for 00:16:20.92)\n",
      "Memory usage on this node: 6.6/31.2 GiB\n",
      "Using FIFO scheduling algorithm.\n",
      "Resources requested: 3.0/24 CPUs, 1.0/0 GPUs, 0.0/15.76 GiB heap, 0.0/7.88 GiB objects (0.0/1.0 accelerator_type:G)\n",
      "Result logdir: /home/allenwu/Desktop/work/MARLlib-1.0.3/exp_results/matrpo_mlp_CityLearn\n",
      "Number of trials: 1/1 (1 RUNNING)\n",
      "\n",
      "\n",
      "== Status ==\n",
      "Current time: 2023-09-19 00:31:25 (running for 00:16:26.11)\n",
      "Memory usage on this node: 6.6/31.2 GiB\n",
      "Using FIFO scheduling algorithm.\n",
      "Resources requested: 3.0/24 CPUs, 1.0/0 GPUs, 0.0/15.76 GiB heap, 0.0/7.88 GiB objects (0.0/1.0 accelerator_type:G)\n",
      "Result logdir: /home/allenwu/Desktop/work/MARLlib-1.0.3/exp_results/matrpo_mlp_CityLearn\n",
      "Number of trials: 1/1 (1 RUNNING)\n",
      "\n",
      "\n"
     ]
    },
    {
     "name": "stderr",
     "output_type": "stream",
     "text": [
      "2023-09-19 00:32:38,136\tWARNING ray_trial_executor.py:768 -- Over the last 60 seconds, the Tune event loop has been backlogged processing new results. Consider increasing your period of result reporting to improve performance.\n"
     ]
    },
    {
     "name": "stdout",
     "output_type": "stream",
     "text": [
      "== Status ==\n",
      "Current time: 2023-09-19 00:32:38 (running for 00:17:38.77)\n",
      "Memory usage on this node: 6.6/31.2 GiB\n",
      "Using FIFO scheduling algorithm.\n",
      "Resources requested: 3.0/24 CPUs, 1.0/0 GPUs, 0.0/15.76 GiB heap, 0.0/7.88 GiB objects (0.0/1.0 accelerator_type:G)\n",
      "Result logdir: /home/allenwu/Desktop/work/MARLlib-1.0.3/exp_results/matrpo_mlp_CityLearn\n",
      "Number of trials: 1/1 (1 RUNNING)\n",
      "\n",
      "\n",
      "== Status ==\n",
      "Current time: 2023-09-19 00:32:43 (running for 00:17:43.86)\n",
      "Memory usage on this node: 6.6/31.2 GiB\n",
      "Using FIFO scheduling algorithm.\n",
      "Resources requested: 3.0/24 CPUs, 1.0/0 GPUs, 0.0/15.76 GiB heap, 0.0/7.88 GiB objects (0.0/1.0 accelerator_type:G)\n",
      "Result logdir: /home/allenwu/Desktop/work/MARLlib-1.0.3/exp_results/matrpo_mlp_CityLearn\n",
      "Number of trials: 1/1 (1 RUNNING)\n",
      "\n",
      "\n",
      "== Status ==\n",
      "Current time: 2023-09-19 00:32:48 (running for 00:17:48.93)\n",
      "Memory usage on this node: 6.6/31.2 GiB\n",
      "Using FIFO scheduling algorithm.\n",
      "Resources requested: 3.0/24 CPUs, 1.0/0 GPUs, 0.0/15.76 GiB heap, 0.0/7.88 GiB objects (0.0/1.0 accelerator_type:G)\n",
      "Result logdir: /home/allenwu/Desktop/work/MARLlib-1.0.3/exp_results/matrpo_mlp_CityLearn\n",
      "Number of trials: 1/1 (1 RUNNING)\n",
      "\n",
      "\n",
      "== Status ==\n",
      "Current time: 2023-09-19 00:32:53 (running for 00:17:54.19)\n",
      "Memory usage on this node: 6.6/31.2 GiB\n",
      "Using FIFO scheduling algorithm.\n",
      "Resources requested: 3.0/24 CPUs, 1.0/0 GPUs, 0.0/15.76 GiB heap, 0.0/7.88 GiB objects (0.0/1.0 accelerator_type:G)\n",
      "Result logdir: /home/allenwu/Desktop/work/MARLlib-1.0.3/exp_results/matrpo_mlp_CityLearn\n",
      "Number of trials: 1/1 (1 RUNNING)\n",
      "\n",
      "\n",
      "== Status ==\n",
      "Current time: 2023-09-19 00:32:58 (running for 00:17:59.24)\n",
      "Memory usage on this node: 6.7/31.2 GiB\n",
      "Using FIFO scheduling algorithm.\n",
      "Resources requested: 3.0/24 CPUs, 1.0/0 GPUs, 0.0/15.76 GiB heap, 0.0/7.88 GiB objects (0.0/1.0 accelerator_type:G)\n",
      "Result logdir: /home/allenwu/Desktop/work/MARLlib-1.0.3/exp_results/matrpo_mlp_CityLearn\n",
      "Number of trials: 1/1 (1 RUNNING)\n",
      "\n",
      "\n"
     ]
    },
    {
     "name": "stderr",
     "output_type": "stream",
     "text": [
      "2023-09-19 00:34:14,052\tWARNING ray_trial_executor.py:768 -- Over the last 60 seconds, the Tune event loop has been backlogged processing new results. Consider increasing your period of result reporting to improve performance.\n"
     ]
    },
    {
     "name": "stdout",
     "output_type": "stream",
     "text": [
      "== Status ==\n",
      "Current time: 2023-09-19 00:34:14 (running for 00:19:14.69)\n",
      "Memory usage on this node: 6.6/31.2 GiB\n",
      "Using FIFO scheduling algorithm.\n",
      "Resources requested: 3.0/24 CPUs, 1.0/0 GPUs, 0.0/15.76 GiB heap, 0.0/7.88 GiB objects (0.0/1.0 accelerator_type:G)\n",
      "Result logdir: /home/allenwu/Desktop/work/MARLlib-1.0.3/exp_results/matrpo_mlp_CityLearn\n",
      "Number of trials: 1/1 (1 RUNNING)\n",
      "\n",
      "\n",
      "== Status ==\n",
      "Current time: 2023-09-19 00:34:19 (running for 00:19:20.14)\n",
      "Memory usage on this node: 6.6/31.2 GiB\n",
      "Using FIFO scheduling algorithm.\n",
      "Resources requested: 3.0/24 CPUs, 1.0/0 GPUs, 0.0/15.76 GiB heap, 0.0/7.88 GiB objects (0.0/1.0 accelerator_type:G)\n",
      "Result logdir: /home/allenwu/Desktop/work/MARLlib-1.0.3/exp_results/matrpo_mlp_CityLearn\n",
      "Number of trials: 1/1 (1 RUNNING)\n",
      "\n",
      "\n",
      "== Status ==\n",
      "Current time: 2023-09-19 00:34:24 (running for 00:19:25.32)\n",
      "Memory usage on this node: 6.7/31.2 GiB\n",
      "Using FIFO scheduling algorithm.\n",
      "Resources requested: 3.0/24 CPUs, 1.0/0 GPUs, 0.0/15.76 GiB heap, 0.0/7.88 GiB objects (0.0/1.0 accelerator_type:G)\n",
      "Result logdir: /home/allenwu/Desktop/work/MARLlib-1.0.3/exp_results/matrpo_mlp_CityLearn\n",
      "Number of trials: 1/1 (1 RUNNING)\n",
      "\n",
      "\n",
      "== Status ==\n",
      "Current time: 2023-09-19 00:34:30 (running for 00:19:30.67)\n",
      "Memory usage on this node: 6.6/31.2 GiB\n",
      "Using FIFO scheduling algorithm.\n",
      "Resources requested: 3.0/24 CPUs, 1.0/0 GPUs, 0.0/15.76 GiB heap, 0.0/7.88 GiB objects (0.0/1.0 accelerator_type:G)\n",
      "Result logdir: /home/allenwu/Desktop/work/MARLlib-1.0.3/exp_results/matrpo_mlp_CityLearn\n",
      "Number of trials: 1/1 (1 RUNNING)\n",
      "\n",
      "\n",
      "== Status ==\n",
      "Current time: 2023-09-19 00:34:35 (running for 00:19:35.86)\n",
      "Memory usage on this node: 6.6/31.2 GiB\n",
      "Using FIFO scheduling algorithm.\n",
      "Resources requested: 3.0/24 CPUs, 1.0/0 GPUs, 0.0/15.76 GiB heap, 0.0/7.88 GiB objects (0.0/1.0 accelerator_type:G)\n",
      "Result logdir: /home/allenwu/Desktop/work/MARLlib-1.0.3/exp_results/matrpo_mlp_CityLearn\n",
      "Number of trials: 1/1 (1 RUNNING)\n",
      "\n",
      "\n"
     ]
    },
    {
     "name": "stderr",
     "output_type": "stream",
     "text": [
      "2023-09-19 00:35:51,447\tWARNING ray_trial_executor.py:768 -- Over the last 60 seconds, the Tune event loop has been backlogged processing new results. Consider increasing your period of result reporting to improve performance.\n"
     ]
    },
    {
     "name": "stdout",
     "output_type": "stream",
     "text": [
      "== Status ==\n",
      "Current time: 2023-09-19 00:35:51 (running for 00:20:52.09)\n",
      "Memory usage on this node: 6.6/31.2 GiB\n",
      "Using FIFO scheduling algorithm.\n",
      "Resources requested: 3.0/24 CPUs, 1.0/0 GPUs, 0.0/15.76 GiB heap, 0.0/7.88 GiB objects (0.0/1.0 accelerator_type:G)\n",
      "Result logdir: /home/allenwu/Desktop/work/MARLlib-1.0.3/exp_results/matrpo_mlp_CityLearn\n",
      "Number of trials: 1/1 (1 RUNNING)\n",
      "\n",
      "\n",
      "== Status ==\n",
      "Current time: 2023-09-19 00:35:56 (running for 00:20:57.22)\n",
      "Memory usage on this node: 6.7/31.2 GiB\n",
      "Using FIFO scheduling algorithm.\n",
      "Resources requested: 3.0/24 CPUs, 1.0/0 GPUs, 0.0/15.76 GiB heap, 0.0/7.88 GiB objects (0.0/1.0 accelerator_type:G)\n",
      "Result logdir: /home/allenwu/Desktop/work/MARLlib-1.0.3/exp_results/matrpo_mlp_CityLearn\n",
      "Number of trials: 1/1 (1 RUNNING)\n",
      "\n",
      "\n",
      "== Status ==\n",
      "Current time: 2023-09-19 00:36:01 (running for 00:21:02.62)\n",
      "Memory usage on this node: 6.6/31.2 GiB\n",
      "Using FIFO scheduling algorithm.\n",
      "Resources requested: 3.0/24 CPUs, 1.0/0 GPUs, 0.0/15.76 GiB heap, 0.0/7.88 GiB objects (0.0/1.0 accelerator_type:G)\n",
      "Result logdir: /home/allenwu/Desktop/work/MARLlib-1.0.3/exp_results/matrpo_mlp_CityLearn\n",
      "Number of trials: 1/1 (1 RUNNING)\n",
      "\n",
      "\n",
      "== Status ==\n",
      "Current time: 2023-09-19 00:36:07 (running for 00:21:07.97)\n",
      "Memory usage on this node: 6.6/31.2 GiB\n",
      "Using FIFO scheduling algorithm.\n",
      "Resources requested: 3.0/24 CPUs, 1.0/0 GPUs, 0.0/15.76 GiB heap, 0.0/7.88 GiB objects (0.0/1.0 accelerator_type:G)\n",
      "Result logdir: /home/allenwu/Desktop/work/MARLlib-1.0.3/exp_results/matrpo_mlp_CityLearn\n",
      "Number of trials: 1/1 (1 RUNNING)\n",
      "\n",
      "\n",
      "== Status ==\n",
      "Current time: 2023-09-19 00:36:12 (running for 00:21:13.18)\n",
      "Memory usage on this node: 6.6/31.2 GiB\n",
      "Using FIFO scheduling algorithm.\n",
      "Resources requested: 3.0/24 CPUs, 1.0/0 GPUs, 0.0/15.76 GiB heap, 0.0/7.88 GiB objects (0.0/1.0 accelerator_type:G)\n",
      "Result logdir: /home/allenwu/Desktop/work/MARLlib-1.0.3/exp_results/matrpo_mlp_CityLearn\n",
      "Number of trials: 1/1 (1 RUNNING)\n",
      "\n",
      "\n"
     ]
    },
    {
     "name": "stderr",
     "output_type": "stream",
     "text": [
      "2023-09-19 00:37:29,221\tWARNING ray_trial_executor.py:768 -- Over the last 60 seconds, the Tune event loop has been backlogged processing new results. Consider increasing your period of result reporting to improve performance.\n"
     ]
    },
    {
     "name": "stdout",
     "output_type": "stream",
     "text": [
      "== Status ==\n",
      "Current time: 2023-09-19 00:37:29 (running for 00:22:29.86)\n",
      "Memory usage on this node: 6.6/31.2 GiB\n",
      "Using FIFO scheduling algorithm.\n",
      "Resources requested: 3.0/24 CPUs, 1.0/0 GPUs, 0.0/15.76 GiB heap, 0.0/7.88 GiB objects (0.0/1.0 accelerator_type:G)\n",
      "Result logdir: /home/allenwu/Desktop/work/MARLlib-1.0.3/exp_results/matrpo_mlp_CityLearn\n",
      "Number of trials: 1/1 (1 RUNNING)\n",
      "\n",
      "\n",
      "== Status ==\n",
      "Current time: 2023-09-19 00:37:34 (running for 00:22:35.18)\n",
      "Memory usage on this node: 6.7/31.2 GiB\n",
      "Using FIFO scheduling algorithm.\n",
      "Resources requested: 3.0/24 CPUs, 1.0/0 GPUs, 0.0/15.76 GiB heap, 0.0/7.88 GiB objects (0.0/1.0 accelerator_type:G)\n",
      "Result logdir: /home/allenwu/Desktop/work/MARLlib-1.0.3/exp_results/matrpo_mlp_CityLearn\n",
      "Number of trials: 1/1 (1 RUNNING)\n",
      "\n",
      "\n",
      "== Status ==\n",
      "Current time: 2023-09-19 00:37:39 (running for 00:22:40.53)\n",
      "Memory usage on this node: 6.7/31.2 GiB\n",
      "Using FIFO scheduling algorithm.\n",
      "Resources requested: 3.0/24 CPUs, 1.0/0 GPUs, 0.0/15.76 GiB heap, 0.0/7.88 GiB objects (0.0/1.0 accelerator_type:G)\n",
      "Result logdir: /home/allenwu/Desktop/work/MARLlib-1.0.3/exp_results/matrpo_mlp_CityLearn\n",
      "Number of trials: 1/1 (1 RUNNING)\n",
      "\n",
      "\n",
      "== Status ==\n",
      "Current time: 2023-09-19 00:37:45 (running for 00:22:45.84)\n",
      "Memory usage on this node: 6.6/31.2 GiB\n",
      "Using FIFO scheduling algorithm.\n",
      "Resources requested: 3.0/24 CPUs, 1.0/0 GPUs, 0.0/15.76 GiB heap, 0.0/7.88 GiB objects (0.0/1.0 accelerator_type:G)\n",
      "Result logdir: /home/allenwu/Desktop/work/MARLlib-1.0.3/exp_results/matrpo_mlp_CityLearn\n",
      "Number of trials: 1/1 (1 RUNNING)\n",
      "\n",
      "\n",
      "== Status ==\n",
      "Current time: 2023-09-19 00:37:50 (running for 00:22:50.98)\n",
      "Memory usage on this node: 6.6/31.2 GiB\n",
      "Using FIFO scheduling algorithm.\n",
      "Resources requested: 3.0/24 CPUs, 1.0/0 GPUs, 0.0/15.76 GiB heap, 0.0/7.88 GiB objects (0.0/1.0 accelerator_type:G)\n",
      "Result logdir: /home/allenwu/Desktop/work/MARLlib-1.0.3/exp_results/matrpo_mlp_CityLearn\n",
      "Number of trials: 1/1 (1 RUNNING)\n",
      "\n",
      "\n"
     ]
    },
    {
     "name": "stderr",
     "output_type": "stream",
     "text": [
      "2023-09-19 00:39:07,005\tWARNING ray_trial_executor.py:768 -- Over the last 60 seconds, the Tune event loop has been backlogged processing new results. Consider increasing your period of result reporting to improve performance.\n"
     ]
    },
    {
     "name": "stdout",
     "output_type": "stream",
     "text": [
      "== Status ==\n",
      "Current time: 2023-09-19 00:39:07 (running for 00:24:07.64)\n",
      "Memory usage on this node: 6.6/31.2 GiB\n",
      "Using FIFO scheduling algorithm.\n",
      "Resources requested: 3.0/24 CPUs, 1.0/0 GPUs, 0.0/15.76 GiB heap, 0.0/7.88 GiB objects (0.0/1.0 accelerator_type:G)\n",
      "Result logdir: /home/allenwu/Desktop/work/MARLlib-1.0.3/exp_results/matrpo_mlp_CityLearn\n",
      "Number of trials: 1/1 (1 RUNNING)\n",
      "\n",
      "\n",
      "== Status ==\n",
      "Current time: 2023-09-19 00:39:12 (running for 00:24:12.95)\n",
      "Memory usage on this node: 6.6/31.2 GiB\n",
      "Using FIFO scheduling algorithm.\n",
      "Resources requested: 3.0/24 CPUs, 1.0/0 GPUs, 0.0/15.76 GiB heap, 0.0/7.88 GiB objects (0.0/1.0 accelerator_type:G)\n",
      "Result logdir: /home/allenwu/Desktop/work/MARLlib-1.0.3/exp_results/matrpo_mlp_CityLearn\n",
      "Number of trials: 1/1 (1 RUNNING)\n",
      "\n",
      "\n",
      "== Status ==\n",
      "Current time: 2023-09-19 00:39:17 (running for 00:24:18.39)\n",
      "Memory usage on this node: 6.6/31.2 GiB\n",
      "Using FIFO scheduling algorithm.\n",
      "Resources requested: 3.0/24 CPUs, 1.0/0 GPUs, 0.0/15.76 GiB heap, 0.0/7.88 GiB objects (0.0/1.0 accelerator_type:G)\n",
      "Result logdir: /home/allenwu/Desktop/work/MARLlib-1.0.3/exp_results/matrpo_mlp_CityLearn\n",
      "Number of trials: 1/1 (1 RUNNING)\n",
      "\n",
      "\n",
      "== Status ==\n",
      "Current time: 2023-09-19 00:39:23 (running for 00:24:23.65)\n",
      "Memory usage on this node: 6.6/31.2 GiB\n",
      "Using FIFO scheduling algorithm.\n",
      "Resources requested: 3.0/24 CPUs, 1.0/0 GPUs, 0.0/15.76 GiB heap, 0.0/7.88 GiB objects (0.0/1.0 accelerator_type:G)\n",
      "Result logdir: /home/allenwu/Desktop/work/MARLlib-1.0.3/exp_results/matrpo_mlp_CityLearn\n",
      "Number of trials: 1/1 (1 RUNNING)\n",
      "\n",
      "\n",
      "== Status ==\n",
      "Current time: 2023-09-19 00:39:28 (running for 00:24:28.76)\n",
      "Memory usage on this node: 6.6/31.2 GiB\n",
      "Using FIFO scheduling algorithm.\n",
      "Resources requested: 3.0/24 CPUs, 1.0/0 GPUs, 0.0/15.76 GiB heap, 0.0/7.88 GiB objects (0.0/1.0 accelerator_type:G)\n",
      "Result logdir: /home/allenwu/Desktop/work/MARLlib-1.0.3/exp_results/matrpo_mlp_CityLearn\n",
      "Number of trials: 1/1 (1 RUNNING)\n",
      "\n",
      "\n"
     ]
    },
    {
     "name": "stderr",
     "output_type": "stream",
     "text": [
      "2023-09-19 00:40:44,230\tWARNING ray_trial_executor.py:768 -- Over the last 60 seconds, the Tune event loop has been backlogged processing new results. Consider increasing your period of result reporting to improve performance.\n"
     ]
    },
    {
     "name": "stdout",
     "output_type": "stream",
     "text": [
      "== Status ==\n",
      "Current time: 2023-09-19 00:40:44 (running for 00:25:44.87)\n",
      "Memory usage on this node: 6.6/31.2 GiB\n",
      "Using FIFO scheduling algorithm.\n",
      "Resources requested: 3.0/24 CPUs, 1.0/0 GPUs, 0.0/15.76 GiB heap, 0.0/7.88 GiB objects (0.0/1.0 accelerator_type:G)\n",
      "Result logdir: /home/allenwu/Desktop/work/MARLlib-1.0.3/exp_results/matrpo_mlp_CityLearn\n",
      "Number of trials: 1/1 (1 RUNNING)\n",
      "\n",
      "\n",
      "== Status ==\n",
      "Current time: 2023-09-19 00:40:49 (running for 00:25:49.88)\n",
      "Memory usage on this node: 6.6/31.2 GiB\n",
      "Using FIFO scheduling algorithm.\n",
      "Resources requested: 3.0/24 CPUs, 1.0/0 GPUs, 0.0/15.76 GiB heap, 0.0/7.88 GiB objects (0.0/1.0 accelerator_type:G)\n",
      "Result logdir: /home/allenwu/Desktop/work/MARLlib-1.0.3/exp_results/matrpo_mlp_CityLearn\n",
      "Number of trials: 1/1 (1 RUNNING)\n",
      "\n",
      "\n",
      "== Status ==\n",
      "Current time: 2023-09-19 00:40:54 (running for 00:25:55.13)\n",
      "Memory usage on this node: 6.6/31.2 GiB\n",
      "Using FIFO scheduling algorithm.\n",
      "Resources requested: 3.0/24 CPUs, 1.0/0 GPUs, 0.0/15.76 GiB heap, 0.0/7.88 GiB objects (0.0/1.0 accelerator_type:G)\n",
      "Result logdir: /home/allenwu/Desktop/work/MARLlib-1.0.3/exp_results/matrpo_mlp_CityLearn\n",
      "Number of trials: 1/1 (1 RUNNING)\n",
      "\n",
      "\n",
      "== Status ==\n",
      "Current time: 2023-09-19 00:40:59 (running for 00:26:00.32)\n",
      "Memory usage on this node: 6.6/31.2 GiB\n",
      "Using FIFO scheduling algorithm.\n",
      "Resources requested: 3.0/24 CPUs, 1.0/0 GPUs, 0.0/15.76 GiB heap, 0.0/7.88 GiB objects (0.0/1.0 accelerator_type:G)\n",
      "Result logdir: /home/allenwu/Desktop/work/MARLlib-1.0.3/exp_results/matrpo_mlp_CityLearn\n",
      "Number of trials: 1/1 (1 RUNNING)\n",
      "\n",
      "\n",
      "== Status ==\n",
      "Current time: 2023-09-19 00:41:04 (running for 00:26:05.38)\n",
      "Memory usage on this node: 6.6/31.2 GiB\n",
      "Using FIFO scheduling algorithm.\n",
      "Resources requested: 3.0/24 CPUs, 1.0/0 GPUs, 0.0/15.76 GiB heap, 0.0/7.88 GiB objects (0.0/1.0 accelerator_type:G)\n",
      "Result logdir: /home/allenwu/Desktop/work/MARLlib-1.0.3/exp_results/matrpo_mlp_CityLearn\n",
      "Number of trials: 1/1 (1 RUNNING)\n",
      "\n",
      "\n"
     ]
    },
    {
     "name": "stderr",
     "output_type": "stream",
     "text": [
      "2023-09-19 00:42:21,230\tWARNING ray_trial_executor.py:768 -- Over the last 60 seconds, the Tune event loop has been backlogged processing new results. Consider increasing your period of result reporting to improve performance.\n"
     ]
    },
    {
     "name": "stdout",
     "output_type": "stream",
     "text": [
      "== Status ==\n",
      "Current time: 2023-09-19 00:42:21 (running for 00:27:21.87)\n",
      "Memory usage on this node: 6.6/31.2 GiB\n",
      "Using FIFO scheduling algorithm.\n",
      "Resources requested: 3.0/24 CPUs, 1.0/0 GPUs, 0.0/15.76 GiB heap, 0.0/7.88 GiB objects (0.0/1.0 accelerator_type:G)\n",
      "Result logdir: /home/allenwu/Desktop/work/MARLlib-1.0.3/exp_results/matrpo_mlp_CityLearn\n",
      "Number of trials: 1/1 (1 RUNNING)\n",
      "\n",
      "\n",
      "== Status ==\n",
      "Current time: 2023-09-19 00:42:26 (running for 00:27:27.16)\n",
      "Memory usage on this node: 6.6/31.2 GiB\n",
      "Using FIFO scheduling algorithm.\n",
      "Resources requested: 3.0/24 CPUs, 1.0/0 GPUs, 0.0/15.76 GiB heap, 0.0/7.88 GiB objects (0.0/1.0 accelerator_type:G)\n",
      "Result logdir: /home/allenwu/Desktop/work/MARLlib-1.0.3/exp_results/matrpo_mlp_CityLearn\n",
      "Number of trials: 1/1 (1 RUNNING)\n",
      "\n",
      "\n",
      "== Status ==\n",
      "Current time: 2023-09-19 00:42:31 (running for 00:27:32.28)\n",
      "Memory usage on this node: 6.7/31.2 GiB\n",
      "Using FIFO scheduling algorithm.\n",
      "Resources requested: 3.0/24 CPUs, 1.0/0 GPUs, 0.0/15.76 GiB heap, 0.0/7.88 GiB objects (0.0/1.0 accelerator_type:G)\n",
      "Result logdir: /home/allenwu/Desktop/work/MARLlib-1.0.3/exp_results/matrpo_mlp_CityLearn\n",
      "Number of trials: 1/1 (1 RUNNING)\n",
      "\n",
      "\n"
     ]
    },
    {
     "name": "stderr",
     "output_type": "stream",
     "text": [
      "2023-09-19 00:42:33,697\tINFO tune.py:630 -- Total run time: 1654.34 seconds (1654.22 seconds for the tuning loop).\n"
     ]
    },
    {
     "name": "stdout",
     "output_type": "stream",
     "text": [
      "== Status ==\n",
      "Current time: 2023-09-19 00:42:33 (running for 00:27:34.24)\n",
      "Memory usage on this node: 6.6/31.2 GiB\n",
      "Using FIFO scheduling algorithm.\n",
      "Resources requested: 0/24 CPUs, 0/0 GPUs, 0.0/15.76 GiB heap, 0.0/7.88 GiB objects (0.0/1.0 accelerator_type:G)\n",
      "Result logdir: /home/allenwu/Desktop/work/MARLlib-1.0.3/exp_results/matrpo_mlp_CityLearn\n",
      "Number of trials: 1/1 (1 TERMINATED)\n",
      "\n",
      "\n"
     ]
    }
   ],
   "source": [
    "env_3 = marl.make_env(environment_name=\"CityLearnGym\", map_name=\"CityLearn\")\n",
    "\n",
    "matrpo = marl.algos.matrpo(hyperparam_source=\"common\")\n",
    "model_3 = marl.build_model(env_3, matrpo, {\"core_arch\": \"mlp\", \"encode_layer\": \"128-128\"})\n",
    "\n",
    "matrpo.fit(env_3, model_3, stop={'timesteps_total': 8759}, local_mode=True, num_gpus=1,\n",
    "            num_workers=2, share_policy='all', checkpoint_freq=500,\n",
    "            checkpoint_end=True)"
   ]
  },
  {
   "cell_type": "markdown",
   "metadata": {},
   "source": [
    "HATRPO"
   ]
  },
  {
   "cell_type": "code",
   "execution_count": 2,
   "metadata": {},
   "outputs": [
    {
     "name": "stdout",
     "output_type": "stream",
     "text": [
      "+--------------+----------------+---------------------------------------------------------------------------------------------------------------------------------------------------------+----------------------------------------+-------------------------------+\n",
      "| Env_Name     | Check_Status   | Error_Log                                                                                                                                               | Config_File_Location                   | Env_File_Location             |\n",
      "+==============+================+=========================================================================================================================================================+========================================+===============================+\n",
      "| mpe          | Ready          | Null                                                                                                                                                    | envs/base_env/config/mpe.yaml          | envs/base_env/mpe.py          |\n",
      "+--------------+----------------+---------------------------------------------------------------------------------------------------------------------------------------------------------+----------------------------------------+-------------------------------+\n",
      "| mamujoco     | Error          | No module named 'mujoco_py'. (HINT: you need to install mujoco_py, and also perform the setup instructions here: https://github.com/openai/mujoco-py/.) | envs/base_env/config/mamujoco.yaml     | envs/base_env/mamujoco.py     |\n",
      "+--------------+----------------+---------------------------------------------------------------------------------------------------------------------------------------------------------+----------------------------------------+-------------------------------+\n",
      "| smac         | Error          | No module named 'smac'                                                                                                                                  | envs/base_env/config/smac.yaml         | envs/base_env/smac.py         |\n",
      "+--------------+----------------+---------------------------------------------------------------------------------------------------------------------------------------------------------+----------------------------------------+-------------------------------+\n",
      "| football     | Error          | No module named 'gfootball'                                                                                                                             | envs/base_env/config/football.yaml     | envs/base_env/football.py     |\n",
      "+--------------+----------------+---------------------------------------------------------------------------------------------------------------------------------------------------------+----------------------------------------+-------------------------------+\n",
      "| magent       | Error          | cannot import name 'adversarial_pursuit_v3' from 'pettingzoo.magent'                                                                                    | envs/base_env/config/magent.yaml       | envs/base_env/magent.py       |\n",
      "+--------------+----------------+---------------------------------------------------------------------------------------------------------------------------------------------------------+----------------------------------------+-------------------------------+\n",
      "| rware        | Error          | No module named 'rware'                                                                                                                                 | envs/base_env/config/rware.yaml        | envs/base_env/rware.py        |\n",
      "+--------------+----------------+---------------------------------------------------------------------------------------------------------------------------------------------------------+----------------------------------------+-------------------------------+\n",
      "| lbf          | Error          | No module named 'lbforaging'                                                                                                                            | envs/base_env/config/lbf.yaml          | envs/base_env/lbf.py          |\n",
      "+--------------+----------------+---------------------------------------------------------------------------------------------------------------------------------------------------------+----------------------------------------+-------------------------------+\n",
      "| pommerman    | Error          | No module named 'pommerman'                                                                                                                             | envs/base_env/config/pommerman.yaml    | envs/base_env/pommerman.py    |\n",
      "+--------------+----------------+---------------------------------------------------------------------------------------------------------------------------------------------------------+----------------------------------------+-------------------------------+\n",
      "| hanabi       | Ready          | Null                                                                                                                                                    | envs/base_env/config/hanabi.yaml       | envs/base_env/hanabi.py       |\n",
      "+--------------+----------------+---------------------------------------------------------------------------------------------------------------------------------------------------------+----------------------------------------+-------------------------------+\n",
      "| metadrive    | Error          | No module named 'metadrive'                                                                                                                             | envs/base_env/config/metadrive.yaml    | envs/base_env/metadrive.py    |\n",
      "+--------------+----------------+---------------------------------------------------------------------------------------------------------------------------------------------------------+----------------------------------------+-------------------------------+\n",
      "| mate         | Error          | No module named 'mate'                                                                                                                                  | envs/base_env/config/mate.yaml         | envs/base_env/mate.py         |\n",
      "+--------------+----------------+---------------------------------------------------------------------------------------------------------------------------------------------------------+----------------------------------------+-------------------------------+\n",
      "| gobigger     | Error          | No module named 'gobigger'                                                                                                                              | envs/base_env/config/gobigger.yaml     | envs/base_env/gobigger.py     |\n",
      "+--------------+----------------+---------------------------------------------------------------------------------------------------------------------------------------------------------+----------------------------------------+-------------------------------+\n",
      "| CityLearnGym | Ready          | Null                                                                                                                                                    | envs/base_env/config/CityLearnGym.yaml | envs/base_env/CityLearnGym.py |\n",
      "+--------------+----------------+---------------------------------------------------------------------------------------------------------------------------------------------------------+----------------------------------------+-------------------------------+\n"
     ]
    },
    {
     "name": "stderr",
     "output_type": "stream",
     "text": [
      "2023-09-19 00:57:07,365\tWARNING sample.py:401 -- DeprecationWarning: wrapping <function run_cc.<locals>.<lambda> at 0x7fd614961940> with tune.function() is no longer needed\n",
      "2023-09-19 00:57:07,507\tWARNING worker.py:496 -- `ray.get_gpu_ids()` will always return the empty list when called from the driver. This is because Ray does not manage GPU allocations to the driver process.\n",
      "2023-09-19 00:57:07,565\tWARNING deprecation.py:38 -- DeprecationWarning: `simple_optimizer` has been deprecated. This will raise an error in the future!\n",
      "2023-09-19 00:57:07,566\tWARNING ppo.py:143 -- `train_batch_size` (10) cannot be achieved with your other settings (num_workers=2 num_envs_per_worker=1 rollout_fragment_length=200)! Auto-adjusting `rollout_fragment_length` to 5.\n",
      "2023-09-19 00:57:07,566\tINFO ppo.py:166 -- In multi-agent mode, policies will be optimized sequentially by the multi-GPU optimizer. Consider setting simple_optimizer=True if this doesn't work for you.\n",
      "2023-09-19 00:57:07,566\tINFO trainer.py:770 -- Current log_level is WARN. For more information, set 'log_level': 'INFO' / 'DEBUG' or use the -v and -vv flags.\n"
     ]
    },
    {
     "name": "stdout",
     "output_type": "stream",
     "text": [
      ":task_name:bundle_reservation_check_func\n",
      ":actor_name:HATRPOTrainer\n",
      ":actor_name:RolloutWorker\n"
     ]
    },
    {
     "name": "stderr",
     "output_type": "stream",
     "text": [
      "2023-09-19 00:57:07,893\tWARNING deprecation.py:38 -- DeprecationWarning: `SampleBatch['is_training']` has been deprecated. Use `SampleBatch.is_training` instead. This will raise an error in the future!\n"
     ]
    },
    {
     "name": "stdout",
     "output_type": "stream",
     "text": [
      ":actor_name:RolloutWorker\n"
     ]
    },
    {
     "name": "stderr",
     "output_type": "stream",
     "text": [
      "2023-09-19 00:57:08,239\tWARNING rollout_worker.py:578 -- You are running ray with `local_mode=True`, but have configured 1 GPUs to be used! In local mode, Policies are placed on the CPU and the `num_gpus` setting is ignored.\n",
      "2023-09-19 00:57:08,274\tWARNING trainer_template.py:185 -- `execution_plan` functions should accept `trainer`, `workers`, and `config` as args!\n",
      "2023-09-19 00:57:08,274\tWARNING deprecation.py:38 -- DeprecationWarning: `simple_optimizer` has been deprecated. This will raise an error in the future!\n",
      "2023-09-19 00:57:08,547\tWARNING rollout_worker.py:578 -- You are running ray with `local_mode=True`, but have configured 1 GPUs to be used! In local mode, Policies are placed on the CPU and the `num_gpus` setting is ignored.\n",
      "2023-09-19 00:57:08,558\tWARNING util.py:57 -- Install gputil for GPU system monitoring.\n"
     ]
    },
    {
     "name": "stdout",
     "output_type": "stream",
     "text": [
      ":actor_name:HATRPOTrainer\n",
      "== Status ==\n",
      "Current time: 2023-09-19 00:57:08 (running for 00:00:01.27)\n",
      "Memory usage on this node: 7.3/31.2 GiB\n",
      "Using FIFO scheduling algorithm.\n",
      "Resources requested: 3.0/24 CPUs, 1.0/1 GPUs, 0.0/15.31 GiB heap, 0.0/7.65 GiB objects (0.0/1.0 accelerator_type:G)\n",
      "Result logdir: /home/allenwu/Desktop/work/MARLlib-1.0.3/exp_results/hatrpo_mlp_CityLearn\n",
      "Number of trials: 1/1 (1 RUNNING)\n",
      "+--------------------------------------------------+----------+----------------------+\n",
      "| Trial name                                       | status   | loc                  |\n",
      "|--------------------------------------------------+----------+----------------------|\n",
      "| HATRPOTrainer_CityLearnGym_CityLearn_21172_00000 | RUNNING  | 192.168.50.163:12104 |\n",
      "+--------------------------------------------------+----------+----------------------+\n",
      "\n",
      "\n"
     ]
    },
    {
     "name": "stderr",
     "output_type": "stream",
     "text": [
      "2023-09-19 00:58:58,982\tWARNING ray_trial_executor.py:768 -- Over the last 60 seconds, the Tune event loop has been backlogged processing new results. Consider increasing your period of result reporting to improve performance.\n"
     ]
    },
    {
     "name": "stdout",
     "output_type": "stream",
     "text": [
      "== Status ==\n",
      "Current time: 2023-09-19 00:58:58 (running for 00:01:51.58)\n",
      "Memory usage on this node: 7.4/31.2 GiB\n",
      "Using FIFO scheduling algorithm.\n",
      "Resources requested: 3.0/24 CPUs, 1.0/1 GPUs, 0.0/15.31 GiB heap, 0.0/7.65 GiB objects (0.0/1.0 accelerator_type:G)\n",
      "Result logdir: /home/allenwu/Desktop/work/MARLlib-1.0.3/exp_results/hatrpo_mlp_CityLearn\n",
      "Number of trials: 1/1 (1 RUNNING)\n",
      "+--------------------------------------------------+----------+----------------------+--------+------------------+------+----------+----------------------+----------------------+--------------------+\n",
      "| Trial name                                       | status   | loc                  |   iter |   total time (s) |   ts |   reward |   episode_reward_max |   episode_reward_min |   episode_len_mean |\n",
      "|--------------------------------------------------+----------+----------------------+--------+------------------+------+----------+----------------------+----------------------+--------------------|\n",
      "| HATRPOTrainer_CityLearnGym_CityLearn_21172_00000 | RUNNING  | 192.168.50.163:12104 |     49 |          2.23754 |  490 |      nan |                  nan |                  nan |                nan |\n",
      "+--------------------------------------------------+----------+----------------------+--------+------------------+------+----------+----------------------+----------------------+--------------------+\n",
      "\n",
      "\n"
     ]
    },
    {
     "name": "stderr",
     "output_type": "stream",
     "text": [
      "2023-09-19 01:00:51,613\tWARNING ray_trial_executor.py:768 -- Over the last 60 seconds, the Tune event loop has been backlogged processing new results. Consider increasing your period of result reporting to improve performance.\n"
     ]
    },
    {
     "name": "stdout",
     "output_type": "stream",
     "text": [
      "== Status ==\n",
      "Current time: 2023-09-19 01:00:51 (running for 00:03:44.21)\n",
      "Memory usage on this node: 7.4/31.2 GiB\n",
      "Using FIFO scheduling algorithm.\n",
      "Resources requested: 3.0/24 CPUs, 1.0/1 GPUs, 0.0/15.31 GiB heap, 0.0/7.65 GiB objects (0.0/1.0 accelerator_type:G)\n",
      "Result logdir: /home/allenwu/Desktop/work/MARLlib-1.0.3/exp_results/hatrpo_mlp_CityLearn\n",
      "Number of trials: 1/1 (1 RUNNING)\n",
      "+--------------------------------------------------+----------+----------------------+--------+------------------+------+----------+----------------------+----------------------+--------------------+\n",
      "| Trial name                                       | status   | loc                  |   iter |   total time (s) |   ts |   reward |   episode_reward_max |   episode_reward_min |   episode_len_mean |\n",
      "|--------------------------------------------------+----------+----------------------+--------+------------------+------+----------+----------------------+----------------------+--------------------|\n",
      "| HATRPOTrainer_CityLearnGym_CityLearn_21172_00000 | RUNNING  | 192.168.50.163:12104 |     99 |          112.297 |  990 |      nan |                  nan |                  nan |                nan |\n",
      "+--------------------------------------------------+----------+----------------------+--------+------------------+------+----------+----------------------+----------------------+--------------------+\n",
      "\n",
      "\n"
     ]
    },
    {
     "name": "stderr",
     "output_type": "stream",
     "text": [
      "2023-09-19 01:02:40,903\tWARNING ray_trial_executor.py:768 -- Over the last 60 seconds, the Tune event loop has been backlogged processing new results. Consider increasing your period of result reporting to improve performance.\n"
     ]
    },
    {
     "name": "stdout",
     "output_type": "stream",
     "text": [
      "== Status ==\n",
      "Current time: 2023-09-19 01:02:40 (running for 00:05:33.50)\n",
      "Memory usage on this node: 7.4/31.2 GiB\n",
      "Using FIFO scheduling algorithm.\n",
      "Resources requested: 3.0/24 CPUs, 1.0/1 GPUs, 0.0/15.31 GiB heap, 0.0/7.65 GiB objects (0.0/1.0 accelerator_type:G)\n",
      "Result logdir: /home/allenwu/Desktop/work/MARLlib-1.0.3/exp_results/hatrpo_mlp_CityLearn\n",
      "Number of trials: 1/1 (1 RUNNING)\n",
      "+--------------------------------------------------+----------+----------------------+--------+------------------+------+----------+----------------------+----------------------+--------------------+\n",
      "| Trial name                                       | status   | loc                  |   iter |   total time (s) |   ts |   reward |   episode_reward_max |   episode_reward_min |   episode_len_mean |\n",
      "|--------------------------------------------------+----------+----------------------+--------+------------------+------+----------+----------------------+----------------------+--------------------|\n",
      "| HATRPOTrainer_CityLearnGym_CityLearn_21172_00000 | RUNNING  | 192.168.50.163:12104 |    149 |          224.336 | 1490 |      nan |                  nan |                  nan |                nan |\n",
      "+--------------------------------------------------+----------+----------------------+--------+------------------+------+----------+----------------------+----------------------+--------------------+\n",
      "\n",
      "\n"
     ]
    },
    {
     "name": "stderr",
     "output_type": "stream",
     "text": [
      "2023-09-19 01:04:31,733\tWARNING ray_trial_executor.py:768 -- Over the last 60 seconds, the Tune event loop has been backlogged processing new results. Consider increasing your period of result reporting to improve performance.\n"
     ]
    },
    {
     "name": "stdout",
     "output_type": "stream",
     "text": [
      "== Status ==\n",
      "Current time: 2023-09-19 01:04:31 (running for 00:07:24.33)\n",
      "Memory usage on this node: 7.5/31.2 GiB\n",
      "Using FIFO scheduling algorithm.\n",
      "Resources requested: 3.0/24 CPUs, 1.0/1 GPUs, 0.0/15.31 GiB heap, 0.0/7.65 GiB objects (0.0/1.0 accelerator_type:G)\n",
      "Result logdir: /home/allenwu/Desktop/work/MARLlib-1.0.3/exp_results/hatrpo_mlp_CityLearn\n",
      "Number of trials: 1/1 (1 RUNNING)\n",
      "+--------------------------------------------------+----------+----------------------+--------+------------------+------+----------+----------------------+----------------------+--------------------+\n",
      "| Trial name                                       | status   | loc                  |   iter |   total time (s) |   ts |   reward |   episode_reward_max |   episode_reward_min |   episode_len_mean |\n",
      "|--------------------------------------------------+----------+----------------------+--------+------------------+------+----------+----------------------+----------------------+--------------------|\n",
      "| HATRPOTrainer_CityLearnGym_CityLearn_21172_00000 | RUNNING  | 192.168.50.163:12104 |    199 |          333.227 | 1990 |      nan |                  nan |                  nan |                nan |\n",
      "+--------------------------------------------------+----------+----------------------+--------+------------------+------+----------+----------------------+----------------------+--------------------+\n",
      "\n",
      "\n"
     ]
    },
    {
     "name": "stderr",
     "output_type": "stream",
     "text": [
      "2023-09-19 01:06:22,846\tWARNING ray_trial_executor.py:768 -- Over the last 60 seconds, the Tune event loop has been backlogged processing new results. Consider increasing your period of result reporting to improve performance.\n"
     ]
    },
    {
     "name": "stdout",
     "output_type": "stream",
     "text": [
      "== Status ==\n",
      "Current time: 2023-09-19 01:06:22 (running for 00:09:15.44)\n",
      "Memory usage on this node: 7.5/31.2 GiB\n",
      "Using FIFO scheduling algorithm.\n",
      "Resources requested: 3.0/24 CPUs, 1.0/1 GPUs, 0.0/15.31 GiB heap, 0.0/7.65 GiB objects (0.0/1.0 accelerator_type:G)\n",
      "Result logdir: /home/allenwu/Desktop/work/MARLlib-1.0.3/exp_results/hatrpo_mlp_CityLearn\n",
      "Number of trials: 1/1 (1 RUNNING)\n",
      "+--------------------------------------------------+----------+----------------------+--------+------------------+------+----------+----------------------+----------------------+--------------------+\n",
      "| Trial name                                       | status   | loc                  |   iter |   total time (s) |   ts |   reward |   episode_reward_max |   episode_reward_min |   episode_len_mean |\n",
      "|--------------------------------------------------+----------+----------------------+--------+------------------+------+----------+----------------------+----------------------+--------------------|\n",
      "| HATRPOTrainer_CityLearnGym_CityLearn_21172_00000 | RUNNING  | 192.168.50.163:12104 |    249 |           443.75 | 2490 |      nan |                  nan |                  nan |                nan |\n",
      "+--------------------------------------------------+----------+----------------------+--------+------------------+------+----------+----------------------+----------------------+--------------------+\n",
      "\n",
      "\n"
     ]
    },
    {
     "name": "stderr",
     "output_type": "stream",
     "text": [
      "2023-09-19 01:08:14,468\tWARNING ray_trial_executor.py:768 -- Over the last 60 seconds, the Tune event loop has been backlogged processing new results. Consider increasing your period of result reporting to improve performance.\n"
     ]
    },
    {
     "name": "stdout",
     "output_type": "stream",
     "text": [
      "== Status ==\n",
      "Current time: 2023-09-19 01:08:14 (running for 00:11:07.06)\n",
      "Memory usage on this node: 6.6/31.2 GiB\n",
      "Using FIFO scheduling algorithm.\n",
      "Resources requested: 3.0/24 CPUs, 1.0/1 GPUs, 0.0/15.31 GiB heap, 0.0/7.65 GiB objects (0.0/1.0 accelerator_type:G)\n",
      "Result logdir: /home/allenwu/Desktop/work/MARLlib-1.0.3/exp_results/hatrpo_mlp_CityLearn\n",
      "Number of trials: 1/1 (1 RUNNING)\n",
      "+--------------------------------------------------+----------+----------------------+--------+------------------+------+----------+----------------------+----------------------+--------------------+\n",
      "| Trial name                                       | status   | loc                  |   iter |   total time (s) |   ts |   reward |   episode_reward_max |   episode_reward_min |   episode_len_mean |\n",
      "|--------------------------------------------------+----------+----------------------+--------+------------------+------+----------+----------------------+----------------------+--------------------|\n",
      "| HATRPOTrainer_CityLearnGym_CityLearn_21172_00000 | RUNNING  | 192.168.50.163:12104 |    299 |            554.4 | 2990 |      nan |                  nan |                  nan |                nan |\n",
      "+--------------------------------------------------+----------+----------------------+--------+------------------+------+----------+----------------------+----------------------+--------------------+\n",
      "\n",
      "\n"
     ]
    },
    {
     "name": "stderr",
     "output_type": "stream",
     "text": [
      "2023-09-19 01:10:06,657\tWARNING ray_trial_executor.py:768 -- Over the last 60 seconds, the Tune event loop has been backlogged processing new results. Consider increasing your period of result reporting to improve performance.\n"
     ]
    },
    {
     "name": "stdout",
     "output_type": "stream",
     "text": [
      "== Status ==\n",
      "Current time: 2023-09-19 01:10:06 (running for 00:12:59.25)\n",
      "Memory usage on this node: 6.6/31.2 GiB\n",
      "Using FIFO scheduling algorithm.\n",
      "Resources requested: 3.0/24 CPUs, 1.0/1 GPUs, 0.0/15.31 GiB heap, 0.0/7.65 GiB objects (0.0/1.0 accelerator_type:G)\n",
      "Result logdir: /home/allenwu/Desktop/work/MARLlib-1.0.3/exp_results/hatrpo_mlp_CityLearn\n",
      "Number of trials: 1/1 (1 RUNNING)\n",
      "+--------------------------------------------------+----------+----------------------+--------+------------------+------+----------+----------------------+----------------------+--------------------+\n",
      "| Trial name                                       | status   | loc                  |   iter |   total time (s) |   ts |   reward |   episode_reward_max |   episode_reward_min |   episode_len_mean |\n",
      "|--------------------------------------------------+----------+----------------------+--------+------------------+------+----------+----------------------+----------------------+--------------------|\n",
      "| HATRPOTrainer_CityLearnGym_CityLearn_21172_00000 | RUNNING  | 192.168.50.163:12104 |    349 |          665.671 | 3490 |      nan |                  nan |                  nan |                nan |\n",
      "+--------------------------------------------------+----------+----------------------+--------+------------------+------+----------+----------------------+----------------------+--------------------+\n",
      "\n",
      "\n"
     ]
    },
    {
     "name": "stderr",
     "output_type": "stream",
     "text": [
      "2023-09-19 01:11:57,744\tWARNING ray_trial_executor.py:768 -- Over the last 60 seconds, the Tune event loop has been backlogged processing new results. Consider increasing your period of result reporting to improve performance.\n"
     ]
    },
    {
     "name": "stdout",
     "output_type": "stream",
     "text": [
      "== Status ==\n",
      "Current time: 2023-09-19 01:11:57 (running for 00:14:50.34)\n",
      "Memory usage on this node: 6.6/31.2 GiB\n",
      "Using FIFO scheduling algorithm.\n",
      "Resources requested: 3.0/24 CPUs, 1.0/1 GPUs, 0.0/15.31 GiB heap, 0.0/7.65 GiB objects (0.0/1.0 accelerator_type:G)\n",
      "Result logdir: /home/allenwu/Desktop/work/MARLlib-1.0.3/exp_results/hatrpo_mlp_CityLearn\n",
      "Number of trials: 1/1 (1 RUNNING)\n",
      "+--------------------------------------------------+----------+----------------------+--------+------------------+------+----------+----------------------+----------------------+--------------------+\n",
      "| Trial name                                       | status   | loc                  |   iter |   total time (s) |   ts |   reward |   episode_reward_max |   episode_reward_min |   episode_len_mean |\n",
      "|--------------------------------------------------+----------+----------------------+--------+------------------+------+----------+----------------------+----------------------+--------------------|\n",
      "| HATRPOTrainer_CityLearnGym_CityLearn_21172_00000 | RUNNING  | 192.168.50.163:12104 |    399 |          777.422 | 3990 |      nan |                  nan |                  nan |                nan |\n",
      "+--------------------------------------------------+----------+----------------------+--------+------------------+------+----------+----------------------+----------------------+--------------------+\n",
      "\n",
      "\n"
     ]
    },
    {
     "name": "stderr",
     "output_type": "stream",
     "text": [
      "2023-09-19 01:13:46,856\tWARNING ray_trial_executor.py:768 -- Over the last 60 seconds, the Tune event loop has been backlogged processing new results. Consider increasing your period of result reporting to improve performance.\n"
     ]
    },
    {
     "name": "stdout",
     "output_type": "stream",
     "text": [
      "== Status ==\n",
      "Current time: 2023-09-19 01:13:46 (running for 00:16:39.45)\n",
      "Memory usage on this node: 6.7/31.2 GiB\n",
      "Using FIFO scheduling algorithm.\n",
      "Resources requested: 3.0/24 CPUs, 1.0/1 GPUs, 0.0/15.31 GiB heap, 0.0/7.65 GiB objects (0.0/1.0 accelerator_type:G)\n",
      "Result logdir: /home/allenwu/Desktop/work/MARLlib-1.0.3/exp_results/hatrpo_mlp_CityLearn\n",
      "Number of trials: 1/1 (1 RUNNING)\n",
      "+--------------------------------------------------+----------+----------------------+--------+------------------+------+----------+----------------------+----------------------+--------------------+\n",
      "| Trial name                                       | status   | loc                  |   iter |   total time (s) |   ts |   reward |   episode_reward_max |   episode_reward_min |   episode_len_mean |\n",
      "|--------------------------------------------------+----------+----------------------+--------+------------------+------+----------+----------------------+----------------------+--------------------|\n",
      "| HATRPOTrainer_CityLearnGym_CityLearn_21172_00000 | RUNNING  | 192.168.50.163:12104 |    449 |          888.129 | 4490 |      nan |                  nan |                  nan |                nan |\n",
      "+--------------------------------------------------+----------+----------------------+--------+------------------+------+----------+----------------------+----------------------+--------------------+\n",
      "\n",
      "\n"
     ]
    },
    {
     "name": "stderr",
     "output_type": "stream",
     "text": [
      "2023-09-19 01:15:38,705\tWARNING ray_trial_executor.py:768 -- Over the last 60 seconds, the Tune event loop has been backlogged processing new results. Consider increasing your period of result reporting to improve performance.\n"
     ]
    },
    {
     "name": "stdout",
     "output_type": "stream",
     "text": [
      "== Status ==\n",
      "Current time: 2023-09-19 01:15:38 (running for 00:18:31.30)\n",
      "Memory usage on this node: 6.7/31.2 GiB\n",
      "Using FIFO scheduling algorithm.\n",
      "Resources requested: 3.0/24 CPUs, 1.0/1 GPUs, 0.0/15.31 GiB heap, 0.0/7.65 GiB objects (0.0/1.0 accelerator_type:G)\n",
      "Result logdir: /home/allenwu/Desktop/work/MARLlib-1.0.3/exp_results/hatrpo_mlp_CityLearn\n",
      "Number of trials: 1/1 (1 RUNNING)\n",
      "+--------------------------------------------------+----------+----------------------+--------+------------------+------+----------+----------------------+----------------------+--------------------+\n",
      "| Trial name                                       | status   | loc                  |   iter |   total time (s) |   ts |   reward |   episode_reward_max |   episode_reward_min |   episode_len_mean |\n",
      "|--------------------------------------------------+----------+----------------------+--------+------------------+------+----------+----------------------+----------------------+--------------------|\n",
      "| HATRPOTrainer_CityLearnGym_CityLearn_21172_00000 | RUNNING  | 192.168.50.163:12104 |    499 |          996.908 | 4990 |      nan |                  nan |                  nan |                nan |\n",
      "+--------------------------------------------------+----------+----------------------+--------+------------------+------+----------+----------------------+----------------------+--------------------+\n",
      "\n",
      "\n"
     ]
    },
    {
     "name": "stderr",
     "output_type": "stream",
     "text": [
      "2023-09-19 01:17:30,687\tWARNING ray_trial_executor.py:768 -- Over the last 60 seconds, the Tune event loop has been backlogged processing new results. Consider increasing your period of result reporting to improve performance.\n"
     ]
    },
    {
     "name": "stdout",
     "output_type": "stream",
     "text": [
      "== Status ==\n",
      "Current time: 2023-09-19 01:17:30 (running for 00:20:23.28)\n",
      "Memory usage on this node: 6.7/31.2 GiB\n",
      "Using FIFO scheduling algorithm.\n",
      "Resources requested: 3.0/24 CPUs, 1.0/1 GPUs, 0.0/15.31 GiB heap, 0.0/7.65 GiB objects (0.0/1.0 accelerator_type:G)\n",
      "Result logdir: /home/allenwu/Desktop/work/MARLlib-1.0.3/exp_results/hatrpo_mlp_CityLearn\n",
      "Number of trials: 1/1 (1 RUNNING)\n",
      "+--------------------------------------------------+----------+----------------------+--------+------------------+------+----------+----------------------+----------------------+--------------------+\n",
      "| Trial name                                       | status   | loc                  |   iter |   total time (s) |   ts |   reward |   episode_reward_max |   episode_reward_min |   episode_len_mean |\n",
      "|--------------------------------------------------+----------+----------------------+--------+------------------+------+----------+----------------------+----------------------+--------------------|\n",
      "| HATRPOTrainer_CityLearnGym_CityLearn_21172_00000 | RUNNING  | 192.168.50.163:12104 |    549 |          1108.25 | 5490 |      nan |                  nan |                  nan |                nan |\n",
      "+--------------------------------------------------+----------+----------------------+--------+------------------+------+----------+----------------------+----------------------+--------------------+\n",
      "\n",
      "\n"
     ]
    },
    {
     "name": "stderr",
     "output_type": "stream",
     "text": [
      "2023-09-19 01:19:21,947\tWARNING ray_trial_executor.py:768 -- Over the last 60 seconds, the Tune event loop has been backlogged processing new results. Consider increasing your period of result reporting to improve performance.\n"
     ]
    },
    {
     "name": "stdout",
     "output_type": "stream",
     "text": [
      "== Status ==\n",
      "Current time: 2023-09-19 01:19:21 (running for 00:22:14.54)\n",
      "Memory usage on this node: 6.8/31.2 GiB\n",
      "Using FIFO scheduling algorithm.\n",
      "Resources requested: 3.0/24 CPUs, 1.0/1 GPUs, 0.0/15.31 GiB heap, 0.0/7.65 GiB objects (0.0/1.0 accelerator_type:G)\n",
      "Result logdir: /home/allenwu/Desktop/work/MARLlib-1.0.3/exp_results/hatrpo_mlp_CityLearn\n",
      "Number of trials: 1/1 (1 RUNNING)\n",
      "+--------------------------------------------------+----------+----------------------+--------+------------------+------+----------+----------------------+----------------------+--------------------+\n",
      "| Trial name                                       | status   | loc                  |   iter |   total time (s) |   ts |   reward |   episode_reward_max |   episode_reward_min |   episode_len_mean |\n",
      "|--------------------------------------------------+----------+----------------------+--------+------------------+------+----------+----------------------+----------------------+--------------------|\n",
      "| HATRPOTrainer_CityLearnGym_CityLearn_21172_00000 | RUNNING  | 192.168.50.163:12104 |    599 |          1219.83 | 5990 |      nan |                  nan |                  nan |                nan |\n",
      "+--------------------------------------------------+----------+----------------------+--------+------------------+------+----------+----------------------+----------------------+--------------------+\n",
      "\n",
      "\n"
     ]
    },
    {
     "name": "stderr",
     "output_type": "stream",
     "text": [
      "2023-09-19 01:21:12,952\tWARNING ray_trial_executor.py:768 -- Over the last 60 seconds, the Tune event loop has been backlogged processing new results. Consider increasing your period of result reporting to improve performance.\n"
     ]
    },
    {
     "name": "stdout",
     "output_type": "stream",
     "text": [
      "== Status ==\n",
      "Current time: 2023-09-19 01:21:12 (running for 00:24:05.55)\n",
      "Memory usage on this node: 6.8/31.2 GiB\n",
      "Using FIFO scheduling algorithm.\n",
      "Resources requested: 3.0/24 CPUs, 1.0/1 GPUs, 0.0/15.31 GiB heap, 0.0/7.65 GiB objects (0.0/1.0 accelerator_type:G)\n",
      "Result logdir: /home/allenwu/Desktop/work/MARLlib-1.0.3/exp_results/hatrpo_mlp_CityLearn\n",
      "Number of trials: 1/1 (1 RUNNING)\n",
      "+--------------------------------------------------+----------+----------------------+--------+------------------+------+----------+----------------------+----------------------+--------------------+\n",
      "| Trial name                                       | status   | loc                  |   iter |   total time (s) |   ts |   reward |   episode_reward_max |   episode_reward_min |   episode_len_mean |\n",
      "|--------------------------------------------------+----------+----------------------+--------+------------------+------+----------+----------------------+----------------------+--------------------|\n",
      "| HATRPOTrainer_CityLearnGym_CityLearn_21172_00000 | RUNNING  | 192.168.50.163:12104 |    649 |          1330.65 | 6490 |      nan |                  nan |                  nan |                nan |\n",
      "+--------------------------------------------------+----------+----------------------+--------+------------------+------+----------+----------------------+----------------------+--------------------+\n",
      "\n",
      "\n"
     ]
    },
    {
     "name": "stderr",
     "output_type": "stream",
     "text": [
      "2023-09-19 01:23:04,647\tWARNING ray_trial_executor.py:768 -- Over the last 60 seconds, the Tune event loop has been backlogged processing new results. Consider increasing your period of result reporting to improve performance.\n"
     ]
    },
    {
     "name": "stdout",
     "output_type": "stream",
     "text": [
      "== Status ==\n",
      "Current time: 2023-09-19 01:23:04 (running for 00:25:57.24)\n",
      "Memory usage on this node: 6.8/31.2 GiB\n",
      "Using FIFO scheduling algorithm.\n",
      "Resources requested: 3.0/24 CPUs, 1.0/1 GPUs, 0.0/15.31 GiB heap, 0.0/7.65 GiB objects (0.0/1.0 accelerator_type:G)\n",
      "Result logdir: /home/allenwu/Desktop/work/MARLlib-1.0.3/exp_results/hatrpo_mlp_CityLearn\n",
      "Number of trials: 1/1 (1 RUNNING)\n",
      "+--------------------------------------------------+----------+----------------------+--------+------------------+------+----------+----------------------+----------------------+--------------------+\n",
      "| Trial name                                       | status   | loc                  |   iter |   total time (s) |   ts |   reward |   episode_reward_max |   episode_reward_min |   episode_len_mean |\n",
      "|--------------------------------------------------+----------+----------------------+--------+------------------+------+----------+----------------------+----------------------+--------------------|\n",
      "| HATRPOTrainer_CityLearnGym_CityLearn_21172_00000 | RUNNING  | 192.168.50.163:12104 |    699 |          1441.26 | 6990 |      nan |                  nan |                  nan |                nan |\n",
      "+--------------------------------------------------+----------+----------------------+--------+------------------+------+----------+----------------------+----------------------+--------------------+\n",
      "\n",
      "\n"
     ]
    },
    {
     "name": "stderr",
     "output_type": "stream",
     "text": [
      "2023-09-19 01:24:57,416\tWARNING ray_trial_executor.py:768 -- Over the last 60 seconds, the Tune event loop has been backlogged processing new results. Consider increasing your period of result reporting to improve performance.\n"
     ]
    },
    {
     "name": "stdout",
     "output_type": "stream",
     "text": [
      "== Status ==\n",
      "Current time: 2023-09-19 01:24:57 (running for 00:27:50.01)\n",
      "Memory usage on this node: 6.8/31.2 GiB\n",
      "Using FIFO scheduling algorithm.\n",
      "Resources requested: 3.0/24 CPUs, 1.0/1 GPUs, 0.0/15.31 GiB heap, 0.0/7.65 GiB objects (0.0/1.0 accelerator_type:G)\n",
      "Result logdir: /home/allenwu/Desktop/work/MARLlib-1.0.3/exp_results/hatrpo_mlp_CityLearn\n",
      "Number of trials: 1/1 (1 RUNNING)\n",
      "+--------------------------------------------------+----------+----------------------+--------+------------------+------+----------+----------------------+----------------------+--------------------+\n",
      "| Trial name                                       | status   | loc                  |   iter |   total time (s) |   ts |   reward |   episode_reward_max |   episode_reward_min |   episode_len_mean |\n",
      "|--------------------------------------------------+----------+----------------------+--------+------------------+------+----------+----------------------+----------------------+--------------------|\n",
      "| HATRPOTrainer_CityLearnGym_CityLearn_21172_00000 | RUNNING  | 192.168.50.163:12104 |    749 |          1552.57 | 7490 |      nan |                  nan |                  nan |                nan |\n",
      "+--------------------------------------------------+----------+----------------------+--------+------------------+------+----------+----------------------+----------------------+--------------------+\n",
      "\n",
      "\n"
     ]
    },
    {
     "name": "stderr",
     "output_type": "stream",
     "text": [
      "2023-09-19 01:26:49,289\tWARNING ray_trial_executor.py:768 -- Over the last 60 seconds, the Tune event loop has been backlogged processing new results. Consider increasing your period of result reporting to improve performance.\n"
     ]
    },
    {
     "name": "stdout",
     "output_type": "stream",
     "text": [
      "== Status ==\n",
      "Current time: 2023-09-19 01:26:49 (running for 00:29:41.89)\n",
      "Memory usage on this node: 6.9/31.2 GiB\n",
      "Using FIFO scheduling algorithm.\n",
      "Resources requested: 3.0/24 CPUs, 1.0/1 GPUs, 0.0/15.31 GiB heap, 0.0/7.65 GiB objects (0.0/1.0 accelerator_type:G)\n",
      "Result logdir: /home/allenwu/Desktop/work/MARLlib-1.0.3/exp_results/hatrpo_mlp_CityLearn\n",
      "Number of trials: 1/1 (1 RUNNING)\n",
      "+--------------------------------------------------+----------+----------------------+--------+------------------+------+----------+----------------------+----------------------+--------------------+\n",
      "| Trial name                                       | status   | loc                  |   iter |   total time (s) |   ts |   reward |   episode_reward_max |   episode_reward_min |   episode_len_mean |\n",
      "|--------------------------------------------------+----------+----------------------+--------+------------------+------+----------+----------------------+----------------------+--------------------|\n",
      "| HATRPOTrainer_CityLearnGym_CityLearn_21172_00000 | RUNNING  | 192.168.50.163:12104 |    799 |          1664.99 | 7990 |      nan |                  nan |                  nan |                nan |\n",
      "+--------------------------------------------------+----------+----------------------+--------+------------------+------+----------+----------------------+----------------------+--------------------+\n",
      "\n",
      "\n"
     ]
    },
    {
     "name": "stderr",
     "output_type": "stream",
     "text": [
      "2023-09-19 01:28:41,202\tWARNING ray_trial_executor.py:768 -- Over the last 60 seconds, the Tune event loop has been backlogged processing new results. Consider increasing your period of result reporting to improve performance.\n"
     ]
    },
    {
     "name": "stdout",
     "output_type": "stream",
     "text": [
      "== Status ==\n",
      "Current time: 2023-09-19 01:28:41 (running for 00:31:33.80)\n",
      "Memory usage on this node: 6.9/31.2 GiB\n",
      "Using FIFO scheduling algorithm.\n",
      "Resources requested: 3.0/24 CPUs, 1.0/1 GPUs, 0.0/15.31 GiB heap, 0.0/7.65 GiB objects (0.0/1.0 accelerator_type:G)\n",
      "Result logdir: /home/allenwu/Desktop/work/MARLlib-1.0.3/exp_results/hatrpo_mlp_CityLearn\n",
      "Number of trials: 1/1 (1 RUNNING)\n",
      "+--------------------------------------------------+----------+----------------------+--------+------------------+------+----------+----------------------+----------------------+--------------------+\n",
      "| Trial name                                       | status   | loc                  |   iter |   total time (s) |   ts |   reward |   episode_reward_max |   episode_reward_min |   episode_len_mean |\n",
      "|--------------------------------------------------+----------+----------------------+--------+------------------+------+----------+----------------------+----------------------+--------------------|\n",
      "| HATRPOTrainer_CityLearnGym_CityLearn_21172_00000 | RUNNING  | 192.168.50.163:12104 |    849 |           1776.4 | 8490 |      nan |                  nan |                  nan |                nan |\n",
      "+--------------------------------------------------+----------+----------------------+--------+------------------+------+----------+----------------------+----------------------+--------------------+\n",
      "\n",
      "\n"
     ]
    },
    {
     "name": "stderr",
     "output_type": "stream",
     "text": [
      "2023-09-19 01:28:42,965\tINFO tune.py:630 -- Total run time: 1895.60 seconds (1895.44 seconds for the tuning loop).\n"
     ]
    },
    {
     "name": "stdout",
     "output_type": "stream",
     "text": [
      "== Status ==\n",
      "Current time: 2023-09-19 01:28:42 (running for 00:31:35.46)\n",
      "Memory usage on this node: 6.9/31.2 GiB\n",
      "Using FIFO scheduling algorithm.\n",
      "Resources requested: 0/24 CPUs, 0/1 GPUs, 0.0/15.31 GiB heap, 0.0/7.65 GiB objects (0.0/1.0 accelerator_type:G)\n",
      "Result logdir: /home/allenwu/Desktop/work/MARLlib-1.0.3/exp_results/hatrpo_mlp_CityLearn\n",
      "Number of trials: 1/1 (1 TERMINATED)\n",
      "+--------------------------------------------------+------------+----------------------+--------+------------------+------+----------+----------------------+----------------------+--------------------+\n",
      "| Trial name                                       | status     | loc                  |   iter |   total time (s) |   ts |   reward |   episode_reward_max |   episode_reward_min |   episode_len_mean |\n",
      "|--------------------------------------------------+------------+----------------------+--------+------------------+------+----------+----------------------+----------------------+--------------------|\n",
      "| HATRPOTrainer_CityLearnGym_CityLearn_21172_00000 | TERMINATED | 192.168.50.163:12104 |    876 |          1886.83 | 8760 |      nan |                  nan |                  nan |                nan |\n",
      "+--------------------------------------------------+------------+----------------------+--------+------------------+------+----------+----------------------+----------------------+--------------------+\n",
      "\n",
      "\n"
     ]
    }
   ],
   "source": [
    "env_4 = marl.make_env(environment_name=\"CityLearnGym\", map_name=\"CityLearn\")\n",
    "\n",
    "# write MASAC\n",
    "hatrpo = marl.algos.hatrpo(hyperparam_source=\"common\")\n",
    "model_4 = marl.build_model(env_4, hatrpo, {\"core_arch\": \"mlp\", \"encode_layer\": \"128-128\"})\n",
    "\n",
    "hatrpo.fit(env_4, model_4, stop={'timesteps_total': 8759}, local_mode=True, num_gpus=1,\n",
    "            num_workers=2, share_policy='all', checkpoint_freq=500,\n",
    "            checkpoint_end=True)"
   ]
  }
 ],
 "metadata": {
  "kernelspec": {
   "display_name": "marllib",
   "language": "python",
   "name": "python3"
  },
  "language_info": {
   "codemirror_mode": {
    "name": "ipython",
    "version": 3
   },
   "file_extension": ".py",
   "mimetype": "text/x-python",
   "name": "python",
   "nbconvert_exporter": "python",
   "pygments_lexer": "ipython3",
   "version": "3.8.16"
  },
  "orig_nbformat": 4
 },
 "nbformat": 4,
 "nbformat_minor": 2
}
